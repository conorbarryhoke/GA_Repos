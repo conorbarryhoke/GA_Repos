{
 "cells": [
  {
   "cell_type": "markdown",
   "metadata": {},
   "source": [
    "# Sniffing out Democrats and Republicans around Reddit"
   ]
  },
  {
   "cell_type": "markdown",
   "metadata": {},
   "source": [
    "### Table of Contents\n",
    "#### Notebook 1: Establishing basic model\n",
    "* Ground Rules and assumptions\n",
    "* Package imports\n",
    "* Get base data to fit model guesser\n",
    "* Create custom functions used to simplify process\n",
    "* fit model and establish transformation \n",
    "* Basic Data Summary statistics\n",
    "* Visualizing the Data\n",
    "#### Notebook 2: Evaluating Random subreddits\n",
    "* Ground Rules and assumptions\n",
    "* Package imports\n",
    "* Get base data to fit model guesser\n",
    "* Create custom functions used to simplify process\n",
    "* fit model and establish transformation (everything is the same up to here)\n",
    "* Evaluate subreddits for political sentiment"
   ]
  },
  {
   "cell_type": "markdown",
   "metadata": {},
   "source": [
    "## Ground Rules and Assumptions\n",
    "1. Post titles accurately summarize discussions\n",
    "2. Distribution of topics in recent posts is the same as that in popular\n",
    "3. Party word predictors are constant over time\n",
    "4. Low sarcasm level in the base sets\n",
    "5. When working with 3 classes:   \n",
    "  0 Class == Neither, 1 Class == Republican, 2 Class == Democrat   \n",
    " When working with 2 classes:\n",
    "  0 Class == Republican, 1 Class == Democrat"
   ]
  },
  {
   "cell_type": "code",
   "execution_count": 1,
   "metadata": {},
   "outputs": [],
   "source": [
    "import pandas as pd\n",
    "import numpy as np\n",
    "import scipy as sp\n",
    "\n",
    "import requests\n",
    "import json\n",
    "import time\n",
    "\n",
    "from random import randint\n",
    "from math import exp\n",
    "\n",
    "from sklearn.model_selection import cross_val_score\n",
    "from sklearn.model_selection import train_test_split\n",
    "from sklearn.linear_model import LogisticRegression\n",
    "\n",
    "from sklearn.feature_extraction import stop_words\n",
    "from sklearn.feature_extraction.text import CountVectorizer\n",
    "from sklearn.feature_extraction.text import TfidfVectorizer\n",
    "\n",
    "from sklearn.metrics import confusion_matrix\n",
    "\n",
    "from wordcloud import WordCloud\n",
    "import matplotlib.pyplot as plt\n",
    "import seaborn as sns\n",
    "\n",
    "%matplotlib inline"
   ]
  },
  {
   "cell_type": "code",
   "execution_count": 2,
   "metadata": {},
   "outputs": [
    {
     "data": {
      "text/plain": [
       "0.5581787521079259"
      ]
     },
     "execution_count": 2,
     "metadata": {},
     "output_type": "execute_result"
    }
   ],
   "source": [
    "#Something to consider: This estimate of prior probability uses the relative number of subscribers for /r/Democrat and /r/Republican to estimate reddit\n",
    "#Figures as of 8/30/2018\n",
    "dem_subscribers = 66.2 #Thousand\n",
    "reb_subscribers = 52.4 #Thousand\n",
    "dem_prior = dem_subscribers / (dem_subscribers + reb_subscribers)\n",
    "rep_prior = 1 - dem_prior\n",
    "dem_prior "
   ]
  },
  {
   "cell_type": "markdown",
   "metadata": {},
   "source": [
    "## Initial Pull (needed for fit_transform function default inputs)\n",
    "As part of the model development process, two sets of requests from /r/democrats and /r/Republican were pulled down on 8.31 and 9.03 to be static basepoints. These are preserved at the top of this notebook as a baseline. It may be advisable to go back and update this later to avoid news topics from that week. This will presumably entail additional calibration of systematic error.\n",
    "\n",
    "In the first attempt to run this model, it became apparent that having only 2 classes created a lot of false positive words. Apparently, reddit communities discuss similar things. Therefore, a third null class was added to catch all the reddit-y words not overwise eliminated in the stop words. This consists of the following popular subs:\n",
    "* All\n",
    "* dogs\n",
    "* cats\n",
    "* humansbeingbros\n",
    "\n",
    "Later, we will be able to more decisively compare democrat estimates and republican estiamtes, instead of NOT democrat and democrat.\n",
    "\n",
    "Fun Fact: /r/Democrat, what you would expect to be the counterpar of /r/Republican, is apparently entirely overrun with trolls. It is not advisable to visit this page, whatever your political leanings. "
   ]
  },
  {
   "cell_type": "code",
   "execution_count": 3,
   "metadata": {},
   "outputs": [
    {
     "name": "stdout",
     "output_type": "stream",
     "text": [
      "    Data Shape:  (4004, 3)\n",
      "    Duplicate headers (expect count 2):  2\n",
      "    nulls:  selftext      0\n",
      "subreddit     0\n",
      "title         0\n",
      "subred_cat    0\n",
      "dtype: int64\n",
      "    new counts:  0    2003\n",
      "2    1001\n",
      "1    1000\n",
      "Name: subred_cat, dtype: int64\n"
     ]
    }
   ],
   "source": [
    "#Read in democrat and republican baseline data\n",
    "df_dems_1 = pd.read_csv('./Data/InitialDemocratsPosts_8_31.csv')\n",
    "df_dems_2 = pd.read_csv('./Data/InitialDemocratsPosts_9_03.csv')\n",
    "\n",
    "'''One post (stickied at the top) was locked and showed up in both hits on r/dem. \n",
    "Removed it since our model is about number of posts, not strength or relevancy of those posts.'''\n",
    "df_democrats_all = df_dems_1.append(df_dems_2.iloc[1:, ], ignore_index=True)\n",
    "\n",
    "df_reps_1 = pd.read_csv('./Data/InitialRepublicanPosts.csv')\n",
    "df_reps_2 = pd.read_csv('./Data/InitialRepublicanPosts_9_03.csv')\n",
    "df_republicans_all = df_reps_1.append(df_reps_2, ignore_index=True)\n",
    "\n",
    "#Null group sets\n",
    "df_all_init = pd.read_csv('./Data/allPosts_9_04_A.csv')\n",
    "df_cats_init = pd.read_csv('./Data/catsPosts_9_03_A.csv')\n",
    "df_dogs_init = pd.read_csv('./Data/dogsPosts_9_03_A.csv')\n",
    "df_hbb_init = pd.read_csv('./Data/hbbPosts_9_04_A.csv')\n",
    "\n",
    "#Join all to single dataframe\n",
    "df_init_DemRep = df_democrats_all.append(df_republicans_all, ignore_index=True, verify_integrity=True)\n",
    "for df in [df_all_init,df_cats_init, df_dogs_init, df_hbb_init]:\n",
    "    df_init_DemRep =  df_init_DemRep.append(df, ignore_index=True, verify_integrity=True)\n",
    "    \n",
    "#confirm 4004 posts included\n",
    "print('    Data Shape: ',df_init_DemRep.shape) \n",
    "print('    Duplicate headers (expect count 2): ', len([label for label in df_init_DemRep['subreddit'].value_counts().index if label =='democrats' or label =='Republican']))  #Expect 2\n",
    "\n",
    "#Translate to 0, 1, 2 groups\n",
    "df_init_DemRep['subred_cat'] = (df_init_DemRep['subreddit']=='democrats')*2 + (df_init_DemRep['subreddit']=='Republican')*1\n",
    "df_init_DemRep.fillna(' ', inplace=True)\n",
    "print('    nulls: ', df_init_DemRep.isnull().sum())\n",
    "print('    new counts: ', df_init_DemRep['subred_cat'].value_counts())"
   ]
  },
  {
   "cell_type": "markdown",
   "metadata": {},
   "source": [
    "## Custom Functions"
   ]
  },
  {
   "cell_type": "markdown",
   "metadata": {},
   "source": [
    "#### Fit Transform\n",
    "This function works very similar to pipeline, with some added outputs. A base vectorization is chosen with associated transform. It is then fit against a chosen model.   \n",
    "  \n",
    "The results of this process are output via global variable exports.   \n",
    "This function also links features and predict probas for each class and stores dictionary versions for global. "
   ]
  },
  {
   "cell_type": "code",
   "execution_count": 4,
   "metadata": {},
   "outputs": [],
   "source": [
    "my_stop_words = stop_words.ENGLISH_STOP_WORDS\n",
    "#no compelling reason to pull in self-text\n",
    "df_data = df_init_DemRep.loc[:, ['subred_cat', 'title']]\n",
    "def fit_transform_model(X=df_data.title, y=df_data.subred_cat, \n",
    "                        vecmod='TFID', pred='logreg', \n",
    "                        test_size_local=None, random_state_local=42 ):\n",
    "    \"\"\"\n",
    "    X data pre-transform, y data classes.\n",
    "    vecmod - some vectorizer. Default is TF-ID. Must put fully instatiated vectorizer in here to update\n",
    "    pred - predictor. default is logisticregression\n",
    "    test_size_local - split size for train test split\n",
    "    random_state for train test split\n",
    "    \"\"\"\n",
    "    \n",
    "    #get vectorizer\n",
    "    if vecmod == 'TFID':\n",
    "        vecmod_ = TfidfVectorizer(stop_words=my_stop_words, ngram_range=(1,3))\n",
    "    else:\n",
    "        vecmod_ = vecmod\n",
    "    \n",
    "    #TTS, fit transform on x_train, convert back to pd.DataFrame for later feature extraction\n",
    "    X_train, X_test, y_train, y_test = train_test_split(X, y, \n",
    "                                                        test_size=test_size_local, \n",
    "                                                        random_state=random_state_local)\n",
    "    X_train_transform = vecmod_.fit_transform(X_train).todense()\n",
    "    df_X_train_transform = pd.DataFrame(X_train_transform, columns=vecmod_.get_feature_names())\n",
    "    X_test_transform = vecmod_.transform(X_test).todense()\n",
    "    df_X_test_transform = pd.DataFrame(X_test_transform, columns=vecmod_.get_feature_names())\n",
    "    \n",
    "    #predict model\n",
    "    if pred == 'logreg':\n",
    "        funct_model_= LogisticRegression()\n",
    "    else:\n",
    "        funct_model_ = pred\n",
    "        \n",
    "    funct_model_.fit(df_X_train_transform, y_train)\n",
    "    \n",
    "    #Export features and scores\n",
    "    global latest_model, latest_transform, sorted_d_values_none, sorted_d_values_rep, sorted_d_values_dem, train_x, test_x, test_y, train_y\n",
    "    latest_model = funct_model_ \n",
    "    train_x, test_x, train_y, test_y = df_X_train_transform, df_X_test_transform, y_train, y_test\n",
    "    latest_transform = vecmod_\n",
    "    \n",
    "    try:\n",
    "        #create feature dictionaries of each word for each category. only sorted_d is exported \n",
    "        feature_values_none =(dict(zip(list(df_X_train_transform.columns), list(funct_model_.coef_[0]))))\n",
    "        sorted_d_values_none = sorted({(value, key) for (key,value) in feature_values_none.items()}, reverse=True)\n",
    "        \n",
    "        feature_values_rep =(dict(zip(list(df_X_train_transform.columns), list(funct_model_.coef_[1]))))\n",
    "        sorted_d_values_rep = sorted({(value, key) for (key,value) in feature_values_rep.items()}, reverse=True)\n",
    "        \n",
    "        feature_values_dem =(dict(zip(list(df_X_train_transform.columns), list(funct_model_.coef_[2]))))\n",
    "        sorted_d_values_dem = sorted({(value, key) for (key,value) in feature_values_dem.items()}, reverse=True)\n",
    "\n",
    "    except:\n",
    "        print('   broken sorter')\n",
    "        return funct_model_.score(df_X_test_transform, y_test)\n",
    "    \n",
    "    return funct_model_.score(df_X_test_transform, y_test)"
   ]
  },
  {
   "cell_type": "markdown",
   "metadata": {},
   "source": [
    "#### Get New Data\n",
    "This function is meant to consolidate the repeated steps of grabbing basic info from subreddit pages, then condensing it to a single DataFrame.\n",
    "Only subreddit and post title information is pulled for simplicity.     \n",
    "At the end, prints randomly generated title for future referencing and globally stores data frame as df_lastest_scrape.  \n",
    "Also prints shape to verify number of records.  \n",
    "\n",
    "Caution:\n",
    "1. Save function assumes Data subfolder exists in working directory.  \n",
    "2. max_pulls defaults to 40 requests to reddit, with 3 second pauses to avoid being blocked. can take 2 minutes to run, and csv is not saved in the interim. \n"
   ]
  },
  {
   "cell_type": "code",
   "execution_count": 5,
   "metadata": {},
   "outputs": [],
   "source": [
    "def subreddit_getter(subreddit_source, your_name_bot, max_pulls=40):\n",
    "    \"\"\"Subreddit source is the sub to be pulled from. should be literal string. E.G., /r/football should be input as 'football'\n",
    "    your_name_bot will be used to associate calls on your machine.\n",
    "    max_pulls is number of times to query subreddit data\n",
    "    \n",
    "    The resulting dataframe from this process is available globally as df_latest_scrape after completion. \n",
    "    \n",
    "    NB: Save function assumes Data subfolder exists in working directory.\n",
    "    \"\"\"\n",
    "    data_list = []\n",
    "    base_url = \"https://www.reddit.com/r/\" + subreddit_source + \"/.json\"\n",
    "    URL = base_url\n",
    "\n",
    "    #seems to be a cap around 20 for some smaller subs\n",
    "    for _ in range(max_pulls):\n",
    "        try:\n",
    "            data = requests.get(URL, headers={'User-agent': your_name_bot}).json()\n",
    "\n",
    "            for i in range(len(data['data']['children'])):\n",
    "                temp = {}\n",
    "                temp['subreddit'] = data['data']['children'][i]['data']['subreddit_name_prefixed'].replace('r/', '')\n",
    "                temp['title']=data['data']['children'][i]['data']['title']\n",
    "                data_list.append(temp)\n",
    "\n",
    "            new_after = data['data']['after']\n",
    "            URL = base_url + \"?after=\" + new_after\n",
    "            print('    iteration {} worked. URL: {}'.format(step, URL))\n",
    "                \n",
    "            time.sleep(3)  #very important to avoid getting locked out by Reddit.\n",
    "        except: \n",
    "            break\n",
    "    #Create dataframe, write to csv, save to notebook\n",
    "    df_scrape = pd.DataFrame(data_list)\n",
    "    random_name = subreddit_source + str(randint(1, 100000)) #Randint used to avoid writing over previous csvs\n",
    "    df_scrape.to_csv('./Data/' + random_name + '.csv')\n",
    "    \n",
    "    global df_latest_scrape\n",
    "    df_latest_scrape = df_scrape\n",
    "    \n",
    "    print('    text file: ', random_name)\n",
    "    print('    data frame size: ', df_scrape.shape)"
   ]
  },
  {
   "cell_type": "markdown",
   "metadata": {},
   "source": [
    "#### Subreddit Analyzer\n",
    "After the model has been fit, we next want to look at a particular subreddit to see if it is more republican or democrat. \n",
    "\n",
    "Given the nature of the training data, the model will more than likely just predict neither. However, every post will score somewhere on the Democcratic and Republican scale. "
   ]
  },
  {
   "cell_type": "code",
   "execution_count": 6,
   "metadata": {},
   "outputs": [],
   "source": [
    "def subreddit_Analysis(df_data_current_, output_figname=None, bump_dems=True):\n",
    "    \"\"\"\n",
    "    df_data_current is an untransformed dataframe of post titles, with 2 columns: subreddit, and title\n",
    "    output_figname: if none (default), do not output and save score distribution. otherwise, use name provided. \n",
    "    output_figname assumes that there is a subfolder in current working directory:  ./Presentation/Outputfigs/\n",
    "    bump_dems: if True (default), include systematic adjustment for democratic posts\n",
    "    \"\"\"\n",
    "    #Jump into analysis for this subreddit here from here\n",
    "    \n",
    "    X_cur = latest_transform.transform(df_data_current_.title).todense()\n",
    "    df_cur_predictions = pd.DataFrame(latest_model.predict(X_cur), columns=['Party'])\n",
    "\n",
    "    df_cur_predictions = df_cur_predictions.join(pd.DataFrame(latest_model.predict_proba(X_cur), columns = ['none_score','rep_score', 'dem_score'] ))\n",
    "    \n",
    "    \n",
    "    '''\n",
    "    Systematic adjustment for built in model bias. Necessary for intercept tuning in the wild. \n",
    "    See discussion: How strong are the resulting proba scores for each post? below\n",
    "    Arrived at .45 adjustment after calibration. Otherwise, simulates setting intercepts equal to \n",
    "    eachother in predicted probas calculation.\n",
    "    '''\n",
    "    if bump_dems:\n",
    "        dem_bump = abs(exp(latest_model.intercept_[2])-exp(latest_model.intercept_[1]))*.45\n",
    "    else:\n",
    "        dem_bump = 0\n",
    "    df_cur_predictions['dem_score'] = df_cur_predictions['dem_score'] + dem_bump\n",
    "    \n",
    "\n",
    "    #Number of posts identified in each class\n",
    "    print('   Initial None Count: ', len(df_cur_predictions[df_cur_predictions.Party == 0]))\n",
    "    print('   Initial Rep Count: ', len(df_cur_predictions[df_cur_predictions.Party == 1]))\n",
    "    print('   Initial Dem Count: ', len(df_cur_predictions[df_cur_predictions.Party == 2]))\n",
    "    print('    Some of initial dem and rep count gives a sense of inherent political-ness of subreddit')\n",
    "    \n",
    "    #In this section, we force the model to pick dem or rep for every post. Then we rescore it, and output a nice figure that visualizes the spread \n",
    "    '''The next 3 rows mimic the output of a 2 category model with type republican =0, democrat=1. \n",
    "    Since we are asking, what is the dominant party ranking for this sub, other than none, we want some intentionally biased results.'''\n",
    "    df_cur_predictions['NewDem'] = 1*(df_cur_predictions['dem_score'] > df_cur_predictions['rep_score']) #Score whichever is higher proba\n",
    "    #create 'Normalized' probabs based on the assumption that a post is either republican or democrat and never neither \n",
    "    df_cur_predictions['NewDem_proba'] = df_cur_predictions['dem_score']/(df_cur_predictions['dem_score']+df_cur_predictions['rep_score'])\n",
    "    df_cur_predictions['NewRep_proba'] = 1 - df_cur_predictions['NewDem_proba']\n",
    "    #Counts after normalization\n",
    "    print('   New Dem Count: ', df_cur_predictions['NewDem'].sum())\n",
    "    print('   New Rep Count: ', df_cur_predictions['NewDem'].count() - df_cur_predictions['NewDem'].sum())\n",
    "    #Avg aggregate rating - >.5 indicates dem\n",
    "    print('   New Percent Dem: ', df_cur_predictions['NewDem'].mean())\n",
    "\n",
    "    #summarize winning scores for each party \n",
    "    probas = df_cur_predictions.loc[:, ['NewDem_proba', 'NewRep_proba']]\n",
    "    min_prob = .5\n",
    "    dem_probs = []\n",
    "    rep_probs = []\n",
    "    for i in range(len(probas)):\n",
    "        if probas.iloc[i][1] >min_prob:\n",
    "            rep_probs.append(probas.iloc[i][1])\n",
    "        elif probas.iloc[i][0]>min_prob:\n",
    "            dem_probs.append(probas.iloc[i][0])\n",
    "\n",
    "    net_probs = []\n",
    "    for i in range(len(probas)):\n",
    "        net_probs.append(probas.iloc[i][1] - probas.iloc[i][0]) #R minus D so that Republican == positive, \n",
    "\n",
    "    print('   net sum of probas: ', sum(net_probs))\n",
    "    print('   mode: ', sp.stats.mode(net_probs)) #Handy detector for systematic error, apparently\n",
    "\n",
    "    #Color graph based on whether democrats or republicans dominate the subreddit\n",
    "    if df_cur_predictions['NewDem'].mean() > .5: \n",
    "        wincolor = 'blue'\n",
    "    else:\n",
    "        wincolor = 'red'\n",
    "    sns.distplot(net_probs, label='rep', color=wincolor)\n",
    "    \n",
    "    if output_figname is not None:\n",
    "        plt.savefig('./Presentation/OutputFigs/' + output_figname + '.png')"
   ]
  },
  {
   "cell_type": "code",
   "execution_count": 8,
   "metadata": {},
   "outputs": [
    {
     "data": {
      "text/plain": [
       "0.9038701622971286"
      ]
     },
     "execution_count": 8,
     "metadata": {},
     "output_type": "execute_result"
    }
   ],
   "source": [
    "fit_transform_model(test_size_local=.2, \n",
    "                    vecmod=CountVectorizer())"
   ]
  },
  {
   "cell_type": "markdown",
   "metadata": {},
   "source": [
    "# Outside Testing\n",
    "---\n",
    "Getting scores and validation from 3rd and 4th subreddit. "
   ]
  },
  {
   "cell_type": "markdown",
   "metadata": {},
   "source": [
    "## Back Testing: Does the model work on new posts from initial set?\n",
    "Establishing a baseline for net scoring process"
   ]
  },
  {
   "cell_type": "markdown",
   "metadata": {},
   "source": [
    "### r/All"
   ]
  },
  {
   "cell_type": "code",
   "execution_count": 13,
   "metadata": {
    "collapsed": true
   },
   "outputs": [
    {
     "name": "stdout",
     "output_type": "stream",
     "text": [
      "    iteration 0 worked. URL: https://www.reddit.com/r/all/.json?after=t3_9d5fta\n",
      "    iteration 1 worked. URL: https://www.reddit.com/r/all/.json?after=t3_9d4v0t\n",
      "    iteration 2 worked. URL: https://www.reddit.com/r/all/.json?after=t3_9d5kdm\n",
      "    iteration 3 worked. URL: https://www.reddit.com/r/all/.json?after=t3_9d42b8\n",
      "    iteration 4 worked. URL: https://www.reddit.com/r/all/.json?after=t3_9d5pgy\n",
      "    iteration 5 worked. URL: https://www.reddit.com/r/all/.json?after=t3_9d53dh\n",
      "    iteration 6 worked. URL: https://www.reddit.com/r/all/.json?after=t3_9d35bq\n",
      "    iteration 7 worked. URL: https://www.reddit.com/r/all/.json?after=t3_9d60my\n",
      "    iteration 8 worked. URL: https://www.reddit.com/r/all/.json?after=t3_9d3jkj\n",
      "    iteration 9 worked. URL: https://www.reddit.com/r/all/.json?after=t3_9d4xwg\n",
      "    iteration 10 worked. URL: https://www.reddit.com/r/all/.json?after=t3_9d2htg\n",
      "    iteration 11 worked. URL: https://www.reddit.com/r/all/.json?after=t3_9d1fu0\n",
      "    iteration 12 worked. URL: https://www.reddit.com/r/all/.json?after=t3_9d7lh7\n",
      "    iteration 13 worked. URL: https://www.reddit.com/r/all/.json?after=t3_9d5ba2\n",
      "    iteration 14 worked. URL: https://www.reddit.com/r/all/.json?after=t3_9d50k5\n",
      "    iteration 15 worked. URL: https://www.reddit.com/r/all/.json?after=t3_9d528f\n",
      "    iteration 16 worked. URL: https://www.reddit.com/r/all/.json?after=t3_9d65x7\n",
      "    iteration 17 worked. URL: https://www.reddit.com/r/all/.json?after=t3_9d5f3v\n",
      "    iteration 18 worked. URL: https://www.reddit.com/r/all/.json?after=t3_9d5r7f\n",
      "    iteration 19 worked. URL: https://www.reddit.com/r/all/.json?after=t3_9d0vjn\n",
      "    iteration 20 worked. URL: https://www.reddit.com/r/all/.json?after=t3_9d0vy2\n",
      "    iteration 21 worked. URL: https://www.reddit.com/r/all/.json?after=t3_9d60g1\n",
      "    iteration 22 worked. URL: https://www.reddit.com/r/all/.json?after=t3_9d5hq3\n",
      "    iteration 23 worked. URL: https://www.reddit.com/r/all/.json?after=t3_9d4qxf\n",
      "    iteration 24 worked. URL: https://www.reddit.com/r/all/.json?after=t3_9d59vh\n",
      "    text file:  all10018\n",
      "    size:  (625, 2)\n"
     ]
    }
   ],
   "source": [
    "subreddit_getter('all', 'CBH_Bot', max_pulls=25)"
   ]
  },
  {
   "cell_type": "code",
   "execution_count": 37,
   "metadata": {},
   "outputs": [
    {
     "name": "stdout",
     "output_type": "stream",
     "text": [
      "   Initial None Count:  590\n",
      "   Initial Rep Count:  18\n",
      "   Initial Dem Count:  17\n",
      "    Some of initial dem and rep count gives a sense of inherent political-ness of subreddit\n",
      "   New Dem Count:  324\n",
      "   New Rep Count:  301\n",
      "   New Percent Dem:  0.5184\n",
      "   net sum of probas:  -66.47098484901582\n",
      "   mode:  ModeResult(mode=array([0.14567673]), count=array([32]))\n"
     ]
    },
    {
     "name": "stderr",
     "output_type": "stream",
     "text": [
      "C:\\ProgramData\\Anaconda3\\lib\\site-packages\\matplotlib\\axes\\_axes.py:6462: UserWarning: The 'normed' kwarg is deprecated, and has been replaced by the 'density' kwarg.\n",
      "  warnings.warn(\"The 'normed' kwarg is deprecated, and has been \"\n"
     ]
    },
    {
     "data": {
      "image/png": "[encoded data removed]",
      "text/plain": [
       "<Figure size 432x288 with 1 Axes>"
      ]
     },
     "metadata": {},
     "output_type": "display_data"
    }
   ],
   "source": [
    "subreddit_Analysis(pd.read_csv('./Data/all10018.csv'), output_figname='TestingC', bump_dems=True)"
   ]
  },
  {
   "cell_type": "markdown",
   "metadata": {},
   "source": [
    "r/All nicely follows 2016 election results"
   ]
  },
  {
   "cell_type": "markdown",
   "metadata": {},
   "source": [
    "### r/Democrats"
   ]
  },
  {
   "cell_type": "code",
   "execution_count": 24,
   "metadata": {
    "collapsed": true
   },
   "outputs": [
    {
     "name": "stdout",
     "output_type": "stream",
     "text": [
      "    iteration 0 worked. URL: https://www.reddit.com/r/Democrats/.json?after=t3_9d2xrk\n",
      "    iteration 1 worked. URL: https://www.reddit.com/r/Democrats/.json?after=t3_9cvdbw\n",
      "    iteration 2 worked. URL: https://www.reddit.com/r/Democrats/.json?after=t3_9cs73c\n",
      "    iteration 3 worked. URL: https://www.reddit.com/r/Democrats/.json?after=t3_9cpgoh\n",
      "    iteration 4 worked. URL: https://www.reddit.com/r/Democrats/.json?after=t3_9chcgk\n",
      "    iteration 5 worked. URL: https://www.reddit.com/r/Democrats/.json?after=t3_9cfujx\n",
      "    iteration 6 worked. URL: https://www.reddit.com/r/Democrats/.json?after=t3_9c9p21\n",
      "    iteration 7 worked. URL: https://www.reddit.com/r/Democrats/.json?after=t3_9c4rb2\n",
      "    iteration 8 worked. URL: https://www.reddit.com/r/Democrats/.json?after=t3_9bygjo\n",
      "    iteration 9 worked. URL: https://www.reddit.com/r/Democrats/.json?after=t3_9bpvpj\n",
      "    iteration 10 worked. URL: https://www.reddit.com/r/Democrats/.json?after=t3_9bkpbc\n",
      "    iteration 11 worked. URL: https://www.reddit.com/r/Democrats/.json?after=t3_9bhw2c\n",
      "    iteration 12 worked. URL: https://www.reddit.com/r/Democrats/.json?after=t3_9aywfk\n",
      "    iteration 13 worked. URL: https://www.reddit.com/r/Democrats/.json?after=t3_9az8df\n",
      "    iteration 14 worked. URL: https://www.reddit.com/r/Democrats/.json?after=t3_9avfv9\n",
      "    iteration 15 worked. URL: https://www.reddit.com/r/Democrats/.json?after=t3_9aoel3\n",
      "    iteration 16 worked. URL: https://www.reddit.com/r/Democrats/.json?after=t3_9adtsf\n",
      "    iteration 17 worked. URL: https://www.reddit.com/r/Democrats/.json?after=t3_9ab5z3\n",
      "    iteration 18 worked. URL: https://www.reddit.com/r/Democrats/.json?after=t3_9a0r6a\n",
      "    iteration 19 worked. URL: https://www.reddit.com/r/Democrats/.json?after=t3_99u8ef\n",
      "    text file:  Democrats18076\n",
      "    size:  (501, 2)\n"
     ]
    }
   ],
   "source": [
    "subreddit_getter('Democrats', 'CBH_Bot', max_pulls=20)"
   ]
  },
  {
   "cell_type": "code",
   "execution_count": 39,
   "metadata": {},
   "outputs": [
    {
     "name": "stdout",
     "output_type": "stream",
     "text": [
      "   Initial None Count:  32\n",
      "   Initial Rep Count:  25\n",
      "   Initial Dem Count:  444\n",
      "    Some of initial dem and rep count gives a sense of inherent political-ness of subreddit\n",
      "   New Dem Count:  470\n",
      "   New Rep Count:  31\n",
      "   New Percent Dem:  0.93812375249501\n",
      "   net sum of probas:  -353.26913998991364\n",
      "   mode:  ModeResult(mode=array([-0.64574427]), count=array([2]))\n"
     ]
    },
    {
     "name": "stderr",
     "output_type": "stream",
     "text": [
      "C:\\ProgramData\\Anaconda3\\lib\\site-packages\\matplotlib\\axes\\_axes.py:6462: UserWarning: The 'normed' kwarg is deprecated, and has been replaced by the 'density' kwarg.\n",
      "  warnings.warn(\"The 'normed' kwarg is deprecated, and has been \"\n"
     ]
    },
    {
     "data": {
      "image/png": "[encoded data removed]",
      "text/plain": [
       "<Figure size 432x288 with 1 Axes>"
      ]
     },
     "metadata": {},
     "output_type": "display_data"
    }
   ],
   "source": [
    "subreddit_Analysis(pd.read_csv('./Data/Democrats18076.csv'), output_figname='DemC', bump_dems=True)"
   ]
  },
  {
   "cell_type": "markdown",
   "metadata": {},
   "source": [
    "### r/Republican"
   ]
  },
  {
   "cell_type": "code",
   "execution_count": 26,
   "metadata": {
    "collapsed": true
   },
   "outputs": [
    {
     "name": "stdout",
     "output_type": "stream",
     "text": [
      "    iteration 0 worked. URL: https://www.reddit.com/r/Republican/.json?after=t3_9cg4z7\n",
      "    iteration 1 worked. URL: https://www.reddit.com/r/Republican/.json?after=t3_9bpt7f\n",
      "    iteration 2 worked. URL: https://www.reddit.com/r/Republican/.json?after=t3_9b9ias\n",
      "    iteration 3 worked. URL: https://www.reddit.com/r/Republican/.json?after=t3_9abkdq\n",
      "    iteration 4 worked. URL: https://www.reddit.com/r/Republican/.json?after=t3_99x4pa\n",
      "    iteration 5 worked. URL: https://www.reddit.com/r/Republican/.json?after=t3_99fdid\n",
      "    iteration 6 worked. URL: https://www.reddit.com/r/Republican/.json?after=t3_98gnr6\n",
      "    iteration 7 worked. URL: https://www.reddit.com/r/Republican/.json?after=t3_9807r3\n",
      "    iteration 8 worked. URL: https://www.reddit.com/r/Republican/.json?after=t3_976j7b\n",
      "    iteration 9 worked. URL: https://www.reddit.com/r/Republican/.json?after=t3_96l0ye\n",
      "    iteration 10 worked. URL: https://www.reddit.com/r/Republican/.json?after=t3_95xwsh\n",
      "    iteration 11 worked. URL: https://www.reddit.com/r/Republican/.json?after=t3_95f48g\n",
      "    iteration 12 worked. URL: https://www.reddit.com/r/Republican/.json?after=t3_94ugoo\n",
      "    iteration 13 worked. URL: https://www.reddit.com/r/Republican/.json?after=t3_94etb6\n",
      "    iteration 14 worked. URL: https://www.reddit.com/r/Republican/.json?after=t3_93ksbt\n",
      "    iteration 15 worked. URL: https://www.reddit.com/r/Republican/.json?after=t3_93air1\n",
      "    iteration 16 worked. URL: https://www.reddit.com/r/Republican/.json?after=t3_92msq5\n",
      "    iteration 17 worked. URL: https://www.reddit.com/r/Republican/.json?after=t3_9254u1\n",
      "    iteration 18 worked. URL: https://www.reddit.com/r/Republican/.json?after=t3_91l4ew\n",
      "    iteration 19 worked. URL: https://www.reddit.com/r/Republican/.json?after=t3_917b6s\n",
      "    text file:  Republican58200\n",
      "    size:  (500, 2)\n"
     ]
    }
   ],
   "source": [
    "subreddit_getter('Republican', 'CBH_Bot', max_pulls=20)"
   ]
  },
  {
   "cell_type": "code",
   "execution_count": 41,
   "metadata": {},
   "outputs": [
    {
     "name": "stdout",
     "output_type": "stream",
     "text": [
      "   Initial None Count:  29\n",
      "   Initial Rep Count:  456\n",
      "   Initial Dem Count:  15\n",
      "    Some of initial dem and rep count gives a sense of inherent political-ness of subreddit\n",
      "   New Dem Count:  30\n",
      "   New Rep Count:  470\n",
      "   New Percent Dem:  0.06\n",
      "   net sum of probas:  289.2986861049448\n",
      "   mode:  ModeResult(mode=array([0.80749264]), count=array([2]))\n"
     ]
    },
    {
     "name": "stderr",
     "output_type": "stream",
     "text": [
      "C:\\ProgramData\\Anaconda3\\lib\\site-packages\\matplotlib\\axes\\_axes.py:6462: UserWarning: The 'normed' kwarg is deprecated, and has been replaced by the 'density' kwarg.\n",
      "  warnings.warn(\"The 'normed' kwarg is deprecated, and has been \"\n"
     ]
    },
    {
     "data": {
      "image/png": "[encoded data removed]",
      "text/plain": [
       "<Figure size 432x288 with 1 Axes>"
      ]
     },
     "metadata": {},
     "output_type": "display_data"
    }
   ],
   "source": [
    "subreddit_Analysis(pd.read_csv('./Data/Republican58200.csv'), output_figname='RepC', bump_dems=True)"
   ]
  },
  {
   "cell_type": "markdown",
   "metadata": {},
   "source": [
    "## Outside Testing: What does it look like on other subs?\n"
   ]
  },
  {
   "cell_type": "markdown",
   "metadata": {},
   "source": [
    "### r/The_Donald\n"
   ]
  },
  {
   "cell_type": "code",
   "execution_count": 28,
   "metadata": {
    "collapsed": true
   },
   "outputs": [
    {
     "name": "stdout",
     "output_type": "stream",
     "text": [
      "    iteration 0 worked. URL: https://www.reddit.com/r/the_donald/.json?after=t3_9d60lx\n",
      "    iteration 1 worked. URL: https://www.reddit.com/r/the_donald/.json?after=t3_9d6s9f\n",
      "    iteration 2 worked. URL: https://www.reddit.com/r/the_donald/.json?after=t3_9d6opz\n",
      "    iteration 3 worked. URL: https://www.reddit.com/r/the_donald/.json?after=t3_9czjf5\n",
      "    iteration 4 worked. URL: https://www.reddit.com/r/the_donald/.json?after=t3_9d5vzv\n",
      "    iteration 5 worked. URL: https://www.reddit.com/r/the_donald/.json?after=t3_9d20v8\n",
      "    iteration 6 worked. URL: https://www.reddit.com/r/the_donald/.json?after=t3_9d0yml\n",
      "    iteration 7 worked. URL: https://www.reddit.com/r/the_donald/.json?after=t3_9cya26\n",
      "    iteration 8 worked. URL: https://www.reddit.com/r/the_donald/.json?after=t3_9d2hsb\n",
      "    iteration 9 worked. URL: https://www.reddit.com/r/the_donald/.json?after=t3_9d85gl\n",
      "    iteration 10 worked. URL: https://www.reddit.com/r/the_donald/.json?after=t3_9d4tb4\n",
      "    iteration 11 worked. URL: https://www.reddit.com/r/the_donald/.json?after=t3_9d6rol\n",
      "    iteration 12 worked. URL: https://www.reddit.com/r/the_donald/.json?after=t3_9d7tjj\n",
      "    iteration 13 worked. URL: https://www.reddit.com/r/the_donald/.json?after=t3_9cx2z3\n",
      "    iteration 14 worked. URL: https://www.reddit.com/r/the_donald/.json?after=t3_9d4pu8\n",
      "    iteration 15 worked. URL: https://www.reddit.com/r/the_donald/.json?after=t3_9cvv47\n",
      "    iteration 16 worked. URL: https://www.reddit.com/r/the_donald/.json?after=t3_9d6da0\n",
      "    iteration 17 worked. URL: https://www.reddit.com/r/the_donald/.json?after=t3_9d76fk\n",
      "    iteration 18 worked. URL: https://www.reddit.com/r/the_donald/.json?after=t3_9d84qw\n",
      "    iteration 19 worked. URL: https://www.reddit.com/r/the_donald/.json?after=t3_9cwqwo\n",
      "    text file:  the_donald68589\n",
      "    size:  (502, 2)\n"
     ]
    }
   ],
   "source": [
    "subreddit_getter('the_donald', 'CBH_Bot', max_pulls=20)"
   ]
  },
  {
   "cell_type": "code",
   "execution_count": 42,
   "metadata": {},
   "outputs": [
    {
     "name": "stdout",
     "output_type": "stream",
     "text": [
      "   Initial None Count:  278\n",
      "   Initial Rep Count:  88\n",
      "   Initial Dem Count:  136\n",
      "    Some of initial dem and rep count gives a sense of inherent political-ness of subreddit\n",
      "   New Dem Count:  309\n",
      "   New Rep Count:  193\n",
      "   New Percent Dem:  0.6155378486055777\n",
      "   net sum of probas:  -96.38694550066603\n",
      "   mode:  ModeResult(mode=array([0.14567673]), count=array([6]))\n"
     ]
    },
    {
     "name": "stderr",
     "output_type": "stream",
     "text": [
      "C:\\ProgramData\\Anaconda3\\lib\\site-packages\\matplotlib\\axes\\_axes.py:6462: UserWarning: The 'normed' kwarg is deprecated, and has been replaced by the 'density' kwarg.\n",
      "  warnings.warn(\"The 'normed' kwarg is deprecated, and has been \"\n"
     ]
    },
    {
     "data": {
      "image/png": "[encoded data removed]",
      "text/plain": [
       "<Figure size 432x288 with 1 Axes>"
      ]
     },
     "metadata": {},
     "output_type": "display_data"
    }
   ],
   "source": [
    "subreddit_Analysis(pd.read_csv('./Data/the_donald68589.csv'), output_figname='Donal_C', bump_dems=True)"
   ]
  },
  {
   "cell_type": "markdown",
   "metadata": {},
   "source": [
    "Donald swings pretty wildly based on democratic adjustment"
   ]
  },
  {
   "cell_type": "markdown",
   "metadata": {},
   "source": [
    "### r/cats\n"
   ]
  },
  {
   "cell_type": "code",
   "execution_count": 30,
   "metadata": {
    "collapsed": true
   },
   "outputs": [
    {
     "name": "stdout",
     "output_type": "stream",
     "text": [
      "    iteration 0 worked. URL: https://www.reddit.com/r/cats/.json?after=t3_9d7nol\n",
      "    iteration 1 worked. URL: https://www.reddit.com/r/cats/.json?after=t3_9d2i4h\n",
      "    iteration 2 worked. URL: https://www.reddit.com/r/cats/.json?after=t3_9d7vff\n",
      "    iteration 3 worked. URL: https://www.reddit.com/r/cats/.json?after=t3_9d5sth\n",
      "    iteration 4 worked. URL: https://www.reddit.com/r/cats/.json?after=t3_9d71w7\n",
      "    iteration 5 worked. URL: https://www.reddit.com/r/cats/.json?after=t3_9cwpqn\n",
      "    iteration 6 worked. URL: https://www.reddit.com/r/cats/.json?after=t3_9d2fxg\n",
      "    iteration 7 worked. URL: https://www.reddit.com/r/cats/.json?after=t3_9d7aiu\n",
      "    iteration 8 worked. URL: https://www.reddit.com/r/cats/.json?after=t3_9cwccm\n",
      "    iteration 9 worked. URL: https://www.reddit.com/r/cats/.json?after=t3_9cy342\n",
      "    iteration 10 worked. URL: https://www.reddit.com/r/cats/.json?after=t3_9d7ouw\n",
      "    iteration 11 worked. URL: https://www.reddit.com/r/cats/.json?after=t3_9d2ak8\n",
      "    iteration 12 worked. URL: https://www.reddit.com/r/cats/.json?after=t3_9czacg\n",
      "    iteration 13 worked. URL: https://www.reddit.com/r/cats/.json?after=t3_9cvl85\n",
      "    iteration 14 worked. URL: https://www.reddit.com/r/cats/.json?after=t3_9cxrbr\n",
      "    iteration 15 worked. URL: https://www.reddit.com/r/cats/.json?after=t3_9d0jdj\n",
      "    iteration 16 worked. URL: https://www.reddit.com/r/cats/.json?after=t3_9csqei\n",
      "    iteration 17 worked. URL: https://www.reddit.com/r/cats/.json?after=t3_9cm0in\n",
      "    iteration 18 worked. URL: https://www.reddit.com/r/cats/.json?after=t3_9cz6j4\n",
      "    iteration 19 worked. URL: https://www.reddit.com/r/cats/.json?after=t3_9cihrm\n",
      "    text file:  cats105\n",
      "    size:  (500, 2)\n"
     ]
    }
   ],
   "source": [
    "subreddit_getter('cats', 'CBH_Bot', max_pulls=20)"
   ]
  },
  {
   "cell_type": "code",
   "execution_count": 43,
   "metadata": {},
   "outputs": [
    {
     "name": "stdout",
     "output_type": "stream",
     "text": [
      "   Initial None Count:  497\n",
      "   Initial Rep Count:  3\n",
      "   Initial Dem Count:  0\n",
      "    Some of initial dem and rep count gives a sense of inherent political-ness of subreddit\n",
      "   New Dem Count:  368\n",
      "   New Rep Count:  132\n",
      "   New Percent Dem:  0.736\n",
      "   net sum of probas:  -170.77448995974478\n",
      "   mode:  ModeResult(mode=array([0.14567673]), count=array([6]))\n"
     ]
    },
    {
     "name": "stderr",
     "output_type": "stream",
     "text": [
      "C:\\ProgramData\\Anaconda3\\lib\\site-packages\\matplotlib\\axes\\_axes.py:6462: UserWarning: The 'normed' kwarg is deprecated, and has been replaced by the 'density' kwarg.\n",
      "  warnings.warn(\"The 'normed' kwarg is deprecated, and has been \"\n"
     ]
    },
    {
     "data": {
      "image/png": "[encoded data removed]",
      "text/plain": [
       "<Figure size 432x288 with 1 Axes>"
      ]
     },
     "metadata": {},
     "output_type": "display_data"
    }
   ],
   "source": [
    "subreddit_Analysis(pd.read_csv('./Data/cats105.csv'), output_figname='the_cats_C', bump_dems=True)"
   ]
  },
  {
   "cell_type": "markdown",
   "metadata": {},
   "source": [
    "### r/dogs\n"
   ]
  },
  {
   "cell_type": "code",
   "execution_count": 32,
   "metadata": {
    "collapsed": true
   },
   "outputs": [
    {
     "name": "stdout",
     "output_type": "stream",
     "text": [
      "    iteration 0 worked. URL: https://www.reddit.com/r/dogs/.json?after=t3_9cwr7h\n",
      "    iteration 1 worked. URL: https://www.reddit.com/r/dogs/.json?after=t3_9czr7m\n",
      "    iteration 2 worked. URL: https://www.reddit.com/r/dogs/.json?after=t3_9czbi7\n",
      "    iteration 3 worked. URL: https://www.reddit.com/r/dogs/.json?after=t3_9cy1k9\n",
      "    iteration 4 worked. URL: https://www.reddit.com/r/dogs/.json?after=t3_9cunrj\n",
      "    iteration 5 worked. URL: https://www.reddit.com/r/dogs/.json?after=t3_9cs6eg\n",
      "    iteration 6 worked. URL: https://www.reddit.com/r/dogs/.json?after=t3_9clca9\n",
      "    iteration 7 worked. URL: https://www.reddit.com/r/dogs/.json?after=t3_9cji11\n",
      "    iteration 8 worked. URL: https://www.reddit.com/r/dogs/.json?after=t3_9cjgho\n",
      "    iteration 9 worked. URL: https://www.reddit.com/r/dogs/.json?after=t3_9cf68f\n",
      "    iteration 10 worked. URL: https://www.reddit.com/r/dogs/.json?after=t3_9cb1cw\n",
      "    iteration 11 worked. URL: https://www.reddit.com/r/dogs/.json?after=t3_9c98ki\n",
      "    iteration 12 worked. URL: https://www.reddit.com/r/dogs/.json?after=t3_9c4iyj\n",
      "    iteration 13 worked. URL: https://www.reddit.com/r/dogs/.json?after=t3_9btses\n",
      "    iteration 14 worked. URL: https://www.reddit.com/r/dogs/.json?after=t3_9bzcz7\n",
      "    iteration 15 worked. URL: https://www.reddit.com/r/dogs/.json?after=t3_9btakn\n",
      "    iteration 16 worked. URL: https://www.reddit.com/r/dogs/.json?after=t3_9bqnri\n",
      "    iteration 17 worked. URL: https://www.reddit.com/r/dogs/.json?after=t3_9bl3fs\n",
      "    iteration 18 worked. URL: https://www.reddit.com/r/dogs/.json?after=t3_9bkcqh\n",
      "    iteration 19 worked. URL: https://www.reddit.com/r/dogs/.json?after=t3_9bh2zj\n",
      "    text file:  dogs48732\n",
      "    size:  (502, 2)\n"
     ]
    }
   ],
   "source": [
    "subreddit_getter('dogs', 'CBH_Bot', max_pulls=20)"
   ]
  },
  {
   "cell_type": "code",
   "execution_count": 44,
   "metadata": {},
   "outputs": [
    {
     "name": "stdout",
     "output_type": "stream",
     "text": [
      "   Initial None Count:  501\n",
      "   Initial Rep Count:  1\n",
      "   Initial Dem Count:  0\n",
      "    Some of initial dem and rep count gives a sense of inherent political-ness of subreddit\n",
      "   New Dem Count:  489\n",
      "   New Rep Count:  13\n",
      "   New Percent Dem:  0.9741035856573705\n",
      "   net sum of probas:  -361.78585781635945\n",
      "   mode:  ModeResult(mode=array([-0.73637471]), count=array([2]))\n"
     ]
    },
    {
     "name": "stderr",
     "output_type": "stream",
     "text": [
      "C:\\ProgramData\\Anaconda3\\lib\\site-packages\\matplotlib\\axes\\_axes.py:6462: UserWarning: The 'normed' kwarg is deprecated, and has been replaced by the 'density' kwarg.\n",
      "  warnings.warn(\"The 'normed' kwarg is deprecated, and has been \"\n"
     ]
    },
    {
     "data": {
      "image/png": "[encoded data removed]",
      "text/plain": [
       "<Figure size 432x288 with 1 Axes>"
      ]
     },
     "metadata": {},
     "output_type": "display_data"
    }
   ],
   "source": [
    "subreddit_Analysis(pd.read_csv('./Data/dogs48732.csv'), output_figname='dogs_C', bump_dems=True)"
   ]
  },
  {
   "cell_type": "markdown",
   "metadata": {},
   "source": [
    "### r/Communism\n"
   ]
  },
  {
   "cell_type": "code",
   "execution_count": 34,
   "metadata": {
    "collapsed": true
   },
   "outputs": [
    {
     "name": "stdout",
     "output_type": "stream",
     "text": [
      "    iteration 0 worked. URL: https://www.reddit.com/r/Communism/.json?after=t3_9coax5\n",
      "    iteration 1 worked. URL: https://www.reddit.com/r/Communism/.json?after=t3_9c7kvs\n",
      "    iteration 2 worked. URL: https://www.reddit.com/r/Communism/.json?after=t3_9bo4cb\n",
      "    iteration 3 worked. URL: https://www.reddit.com/r/Communism/.json?after=t3_9afr1p\n",
      "    iteration 4 worked. URL: https://www.reddit.com/r/Communism/.json?after=t3_99tysz\n",
      "    iteration 5 worked. URL: https://www.reddit.com/r/Communism/.json?after=t3_99csmx\n",
      "    iteration 6 worked. URL: https://www.reddit.com/r/Communism/.json?after=t3_988bti\n",
      "    iteration 7 worked. URL: https://www.reddit.com/r/Communism/.json?after=t3_9794fi\n",
      "    iteration 8 worked. URL: https://www.reddit.com/r/Communism/.json?after=t3_96xuui\n",
      "    iteration 9 worked. URL: https://www.reddit.com/r/Communism/.json?after=t3_9663jb\n",
      "    iteration 10 worked. URL: https://www.reddit.com/r/Communism/.json?after=t3_95oicc\n",
      "    iteration 11 worked. URL: https://www.reddit.com/r/Communism/.json?after=t3_94u9w2\n",
      "    iteration 12 worked. URL: https://www.reddit.com/r/Communism/.json?after=t3_9459d3\n",
      "    iteration 13 worked. URL: https://www.reddit.com/r/Communism/.json?after=t3_93b26h\n",
      "    iteration 14 worked. URL: https://www.reddit.com/r/Communism/.json?after=t3_92wlom\n",
      "    iteration 15 worked. URL: https://www.reddit.com/r/Communism/.json?after=t3_921xwe\n",
      "    iteration 16 worked. URL: https://www.reddit.com/r/Communism/.json?after=t3_91ekd0\n",
      "    iteration 17 worked. URL: https://www.reddit.com/r/Communism/.json?after=t3_90p5nr\n",
      "    iteration 18 worked. URL: https://www.reddit.com/r/Communism/.json?after=t3_8zqqf2\n",
      "    iteration 19 worked. URL: https://www.reddit.com/r/Communism/.json?after=t3_8z3nfo\n",
      "    text file:  Communism91999\n",
      "    size:  (500, 2)\n"
     ]
    }
   ],
   "source": [
    "subreddit_getter('Communism', 'CBH_Bot', max_pulls=20)"
   ]
  },
  {
   "cell_type": "code",
   "execution_count": 45,
   "metadata": {},
   "outputs": [
    {
     "name": "stdout",
     "output_type": "stream",
     "text": [
      "   Initial None Count:  360\n",
      "   Initial Rep Count:  96\n",
      "   Initial Dem Count:  44\n",
      "    Some of initial dem and rep count gives a sense of inherent political-ness of subreddit\n",
      "   New Dem Count:  213\n",
      "   New Rep Count:  287\n",
      "   New Percent Dem:  0.426\n",
      "   net sum of probas:  16.536142360232546\n",
      "   mode:  ModeResult(mode=array([0.14567673]), count=array([10]))\n"
     ]
    },
    {
     "name": "stderr",
     "output_type": "stream",
     "text": [
      "C:\\ProgramData\\Anaconda3\\lib\\site-packages\\matplotlib\\axes\\_axes.py:6462: UserWarning: The 'normed' kwarg is deprecated, and has been replaced by the 'density' kwarg.\n",
      "  warnings.warn(\"The 'normed' kwarg is deprecated, and has been \"\n"
     ]
    },
    {
     "data": {
      "image/png": "[encoded data removed]",
      "text/plain": [
       "<Figure size 432x288 with 1 Axes>"
      ]
     },
     "metadata": {},
     "output_type": "display_data"
    }
   ],
   "source": [
    "subreddit_Analysis(pd.read_csv('./Data/Communism91999.csv'), output_figname='commies_C', bump_dems=True)"
   ]
  },
  {
   "cell_type": "markdown",
   "metadata": {},
   "source": [
    "### r/libertarian\n"
   ]
  },
  {
   "cell_type": "code",
   "execution_count": 36,
   "metadata": {
    "collapsed": true
   },
   "outputs": [
    {
     "name": "stdout",
     "output_type": "stream",
     "text": [
      "    iteration 0 worked. URL: https://www.reddit.com/r/Libertarian/.json?after=t3_9d5bj4\n",
      "    iteration 1 worked. URL: https://www.reddit.com/r/Libertarian/.json?after=t3_9d81iw\n",
      "    iteration 2 worked. URL: https://www.reddit.com/r/Libertarian/.json?after=t3_9d6e8c\n",
      "    iteration 3 worked. URL: https://www.reddit.com/r/Libertarian/.json?after=t3_9d79c2\n",
      "    iteration 4 worked. URL: https://www.reddit.com/r/Libertarian/.json?after=t3_9d79n5\n",
      "    iteration 5 worked. URL: https://www.reddit.com/r/Libertarian/.json?after=t3_9d0o5n\n",
      "    iteration 6 worked. URL: https://www.reddit.com/r/Libertarian/.json?after=t3_9d0nwc\n",
      "    iteration 7 worked. URL: https://www.reddit.com/r/Libertarian/.json?after=t3_9cwt6z\n",
      "    iteration 8 worked. URL: https://www.reddit.com/r/Libertarian/.json?after=t3_9cmrs3\n",
      "    iteration 9 worked. URL: https://www.reddit.com/r/Libertarian/.json?after=t3_9cwbdj\n",
      "    iteration 10 worked. URL: https://www.reddit.com/r/Libertarian/.json?after=t3_9cs0lo\n",
      "    iteration 11 worked. URL: https://www.reddit.com/r/Libertarian/.json?after=t3_9cve5h\n",
      "    iteration 12 worked. URL: https://www.reddit.com/r/Libertarian/.json?after=t3_9cple0\n",
      "    iteration 13 worked. URL: https://www.reddit.com/r/Libertarian/.json?after=t3_9cvwnd\n",
      "    iteration 14 worked. URL: https://www.reddit.com/r/Libertarian/.json?after=t3_9cvh15\n",
      "    iteration 15 worked. URL: https://www.reddit.com/r/Libertarian/.json?after=t3_9csh4o\n",
      "    iteration 16 worked. URL: https://www.reddit.com/r/Libertarian/.json?after=t3_9clbch\n",
      "    iteration 17 worked. URL: https://www.reddit.com/r/Libertarian/.json?after=t3_9cn04j\n",
      "    iteration 18 worked. URL: https://www.reddit.com/r/Libertarian/.json?after=t3_9cpzoh\n",
      "    iteration 19 worked. URL: https://www.reddit.com/r/Libertarian/.json?after=t3_9cca7q\n",
      "    text file:  Libertarian41804\n",
      "    size:  (502, 2)\n"
     ]
    }
   ],
   "source": [
    "subreddit_getter('Libertarian', 'CBH_Bot', max_pulls=20)"
   ]
  },
  {
   "cell_type": "code",
   "execution_count": 46,
   "metadata": {},
   "outputs": [
    {
     "name": "stdout",
     "output_type": "stream",
     "text": [
      "   Initial None Count:  340\n",
      "   Initial Rep Count:  82\n",
      "   Initial Dem Count:  80\n",
      "    Some of initial dem and rep count gives a sense of inherent political-ness of subreddit\n",
      "   New Dem Count:  230\n",
      "   New Rep Count:  272\n",
      "   New Percent Dem:  0.4581673306772908\n",
      "   net sum of probas:  -9.452676073233985\n",
      "   mode:  ModeResult(mode=array([0.14567673]), count=array([20]))\n"
     ]
    },
    {
     "name": "stderr",
     "output_type": "stream",
     "text": [
      "C:\\ProgramData\\Anaconda3\\lib\\site-packages\\matplotlib\\axes\\_axes.py:6462: UserWarning: The 'normed' kwarg is deprecated, and has been replaced by the 'density' kwarg.\n",
      "  warnings.warn(\"The 'normed' kwarg is deprecated, and has been \"\n"
     ]
    },
    {
     "data": {
      "image/png": "[encoded data removed]",
      "text/plain": [
       "<Figure size 432x288 with 1 Axes>"
      ]
     },
     "metadata": {},
     "output_type": "display_data"
    }
   ],
   "source": [
    "subreddit_Analysis(pd.read_csv('./Data/Libertarian41804.csv'), output_figname='libertarian_C', bump_dems=True)"
   ]
  },
  {
   "cell_type": "code",
   "execution_count": null,
   "metadata": {},
   "outputs": [],
   "source": []
  },
  {
   "cell_type": "markdown",
   "metadata": {},
   "source": [
    "### r/Liberal\n"
   ]
  },
  {
   "cell_type": "code",
   "execution_count": 38,
   "metadata": {
    "collapsed": true
   },
   "outputs": [
    {
     "name": "stdout",
     "output_type": "stream",
     "text": [
      "    iteration 0 worked. URL: https://www.reddit.com/r/Liberal/.json?after=t3_9cl4w3\n",
      "    iteration 1 worked. URL: https://www.reddit.com/r/Liberal/.json?after=t3_9bgf1k\n",
      "    iteration 2 worked. URL: https://www.reddit.com/r/Liberal/.json?after=t3_9a92pl\n",
      "    iteration 3 worked. URL: https://www.reddit.com/r/Liberal/.json?after=t3_9971lr\n",
      "    iteration 4 worked. URL: https://www.reddit.com/r/Liberal/.json?after=t3_98lehf\n",
      "    iteration 5 worked. URL: https://www.reddit.com/r/Liberal/.json?after=t3_97bek2\n",
      "    iteration 6 worked. URL: https://www.reddit.com/r/Liberal/.json?after=t3_965q5m\n",
      "    iteration 7 worked. URL: https://www.reddit.com/r/Liberal/.json?after=t3_950y06\n",
      "    iteration 8 worked. URL: https://www.reddit.com/r/Liberal/.json?after=t3_944arl\n",
      "    iteration 9 worked. URL: https://www.reddit.com/r/Liberal/.json?after=t3_93kkts\n",
      "    iteration 10 worked. URL: https://www.reddit.com/r/Liberal/.json?after=t3_92d5ac\n",
      "    iteration 11 worked. URL: https://www.reddit.com/r/Liberal/.json?after=t3_91x38k\n",
      "    iteration 12 worked. URL: https://www.reddit.com/r/Liberal/.json?after=t3_9175en\n",
      "    iteration 13 worked. URL: https://www.reddit.com/r/Liberal/.json?after=t3_8zy0ne\n",
      "    iteration 14 worked. URL: https://www.reddit.com/r/Liberal/.json?after=t3_8zpb9o\n",
      "    iteration 15 worked. URL: https://www.reddit.com/r/Liberal/.json?after=t3_8yql2z\n",
      "    iteration 16 worked. URL: https://www.reddit.com/r/Liberal/.json?after=t3_8xt53i\n",
      "    iteration 17 worked. URL: https://www.reddit.com/r/Liberal/.json?after=t3_8xfevu\n",
      "    iteration 18 worked. URL: https://www.reddit.com/r/Liberal/.json?after=t3_8w5s3n\n",
      "    iteration 19 worked. URL: https://www.reddit.com/r/Liberal/.json?after=t3_8up2tj\n",
      "    text file:  Liberal35849\n",
      "    size:  (500, 2)\n"
     ]
    }
   ],
   "source": [
    "subreddit_getter('Liberal', 'CBH_Bot', max_pulls=20)"
   ]
  },
  {
   "cell_type": "code",
   "execution_count": 19,
   "metadata": {},
   "outputs": [
    {
     "name": "stdout",
     "output_type": "stream",
     "text": [
      "   Initial None Count:  170\n",
      "   Initial Rep Count:  144\n",
      "   Initial Dem Count:  186\n",
      "    Some of initial dem and rep count gives a sense of inherent political-ness of subreddit\n",
      "   New Dem Count:  281\n",
      "   New Rep Count:  219\n",
      "   New Percent Dem:  0.562\n",
      "   net sum of probas:  -53.56695742823664\n",
      "   mode:  ModeResult(mode=array([-0.98986431]), count=array([1]))\n"
     ]
    },
    {
     "name": "stderr",
     "output_type": "stream",
     "text": [
      "C:\\ProgramData\\Anaconda3\\lib\\site-packages\\matplotlib\\axes\\_axes.py:6462: UserWarning: The 'normed' kwarg is deprecated, and has been replaced by the 'density' kwarg.\n",
      "  warnings.warn(\"The 'normed' kwarg is deprecated, and has been \"\n"
     ]
    },
    {
     "data": {
      "image/png": "[encoded data removed]",
      "text/plain": [
       "<Figure size 432x288 with 1 Axes>"
      ]
     },
     "metadata": {},
     "output_type": "display_data"
    }
   ],
   "source": [
    "subreddit_Analysis(pd.read_csv('./Data/Liberal35849.csv'), output_figname='liberal_C', bump_dems=True)"
   ]
  },
  {
   "cell_type": "code",
   "execution_count": null,
   "metadata": {},
   "outputs": [],
   "source": []
  },
  {
   "cell_type": "markdown",
   "metadata": {},
   "source": [
    "### r/GameofThrones\n"
   ]
  },
  {
   "cell_type": "code",
   "execution_count": 41,
   "metadata": {
    "collapsed": true
   },
   "outputs": [
    {
     "name": "stdout",
     "output_type": "stream",
     "text": [
      "    iteration 0 worked. URL: https://www.reddit.com/r/gameofthrones/.json?after=t3_9cwtq2\n",
      "    iteration 1 worked. URL: https://www.reddit.com/r/gameofthrones/.json?after=t3_9cl8tj\n",
      "    iteration 2 worked. URL: https://www.reddit.com/r/gameofthrones/.json?after=t3_9ck662\n",
      "    iteration 3 worked. URL: https://www.reddit.com/r/gameofthrones/.json?after=t3_9ce8b0\n",
      "    iteration 4 worked. URL: https://www.reddit.com/r/gameofthrones/.json?after=t3_9c0lca\n",
      "    iteration 5 worked. URL: https://www.reddit.com/r/gameofthrones/.json?after=t3_9bje1t\n",
      "    iteration 6 worked. URL: https://www.reddit.com/r/gameofthrones/.json?after=t3_9b9xmn\n",
      "    iteration 7 worked. URL: https://www.reddit.com/r/gameofthrones/.json?after=t3_9aycuc\n",
      "    iteration 8 worked. URL: https://www.reddit.com/r/gameofthrones/.json?after=t3_9aig5w\n",
      "    iteration 9 worked. URL: https://www.reddit.com/r/gameofthrones/.json?after=t3_9aejp8\n",
      "    iteration 10 worked. URL: https://www.reddit.com/r/gameofthrones/.json?after=t3_9a6h88\n",
      "    iteration 11 worked. URL: https://www.reddit.com/r/gameofthrones/.json?after=t3_9a6835\n",
      "    iteration 12 worked. URL: https://www.reddit.com/r/gameofthrones/.json?after=t3_99mgo6\n",
      "    iteration 13 worked. URL: https://www.reddit.com/r/gameofthrones/.json?after=t3_99bbrp\n",
      "    iteration 14 worked. URL: https://www.reddit.com/r/gameofthrones/.json?after=t3_9946yu\n",
      "    iteration 15 worked. URL: https://www.reddit.com/r/gameofthrones/.json?after=t3_98m1co\n",
      "    iteration 16 worked. URL: https://www.reddit.com/r/gameofthrones/.json?after=t3_98bsuj\n",
      "    iteration 17 worked. URL: https://www.reddit.com/r/gameofthrones/.json?after=t3_983n46\n",
      "    iteration 18 worked. URL: https://www.reddit.com/r/gameofthrones/.json?after=t3_97t4pt\n",
      "    iteration 19 worked. URL: https://www.reddit.com/r/gameofthrones/.json?after=t3_97cscu\n",
      "    text file:  gameofthrones38795\n",
      "    size:  (502, 2)\n"
     ]
    }
   ],
   "source": [
    "subreddit_getter('gameofthrones', 'CBH_Bot', max_pulls=20)"
   ]
  },
  {
   "cell_type": "code",
   "execution_count": 24,
   "metadata": {},
   "outputs": [
    {
     "name": "stdout",
     "output_type": "stream",
     "text": [
      "   Initial None Count:  482\n",
      "   Initial Rep Count:  12\n",
      "   Initial Dem Count:  8\n",
      "    Some of initial dem and rep count gives a sense of inherent political-ness of subreddit\n",
      "   New Dem Count:  301\n",
      "   New Rep Count:  201\n",
      "   New Percent Dem:  0.599601593625498\n",
      "   net sum of probas:  -82.72900782959003\n",
      "   mode:  ModeResult(mode=array([0.06877598]), count=array([6]))\n"
     ]
    },
    {
     "name": "stderr",
     "output_type": "stream",
     "text": [
      "C:\\ProgramData\\Anaconda3\\lib\\site-packages\\matplotlib\\axes\\_axes.py:6462: UserWarning: The 'normed' kwarg is deprecated, and has been replaced by the 'density' kwarg.\n",
      "  warnings.warn(\"The 'normed' kwarg is deprecated, and has been \"\n"
     ]
    },
    {
     "data": {
      "image/png": "[encoded data removed]",
      "text/plain": [
       "<Figure size 432x288 with 1 Axes>"
      ]
     },
     "metadata": {},
     "output_type": "display_data"
    }
   ],
   "source": [
    "subreddit_Analysis(pd.read_csv('./Data/gameofthrones38795.csv'), output_figname='GOT_C', bump_dems=True)"
   ]
  },
  {
   "cell_type": "markdown",
   "metadata": {},
   "source": [
    "### r/asoiaf\n"
   ]
  },
  {
   "cell_type": "code",
   "execution_count": 45,
   "metadata": {
    "collapsed": true
   },
   "outputs": [
    {
     "name": "stdout",
     "output_type": "stream",
     "text": [
      "    iteration 0 worked. URL: https://www.reddit.com/r/asoiaf/.json?after=t3_9cvz46\n",
      "    iteration 1 worked. URL: https://www.reddit.com/r/asoiaf/.json?after=t3_9cb8w9\n",
      "    iteration 2 worked. URL: https://www.reddit.com/r/asoiaf/.json?after=t3_9c3kno\n",
      "    iteration 3 worked. URL: https://www.reddit.com/r/asoiaf/.json?after=t3_9bzvee\n",
      "    iteration 4 worked. URL: https://www.reddit.com/r/asoiaf/.json?after=t3_9bcc40\n",
      "    iteration 5 worked. URL: https://www.reddit.com/r/asoiaf/.json?after=t3_9bbee5\n",
      "    iteration 6 worked. URL: https://www.reddit.com/r/asoiaf/.json?after=t3_9azduy\n",
      "    iteration 7 worked. URL: https://www.reddit.com/r/asoiaf/.json?after=t3_9ai7vx\n",
      "    iteration 8 worked. URL: https://www.reddit.com/r/asoiaf/.json?after=t3_9amyj2\n",
      "    iteration 9 worked. URL: https://www.reddit.com/r/asoiaf/.json?after=t3_9a46xy\n",
      "    iteration 10 worked. URL: https://www.reddit.com/r/asoiaf/.json?after=t3_99w5wh\n",
      "    iteration 11 worked. URL: https://www.reddit.com/r/asoiaf/.json?after=t3_99v69p\n",
      "    iteration 12 worked. URL: https://www.reddit.com/r/asoiaf/.json?after=t3_99d5mc\n",
      "    iteration 13 worked. URL: https://www.reddit.com/r/asoiaf/.json?after=t3_99cj3f\n",
      "    iteration 14 worked. URL: https://www.reddit.com/r/asoiaf/.json?after=t3_98xb9s\n",
      "    iteration 15 worked. URL: https://www.reddit.com/r/asoiaf/.json?after=t3_98rq3c\n",
      "    iteration 16 worked. URL: https://www.reddit.com/r/asoiaf/.json?after=t3_98cmop\n",
      "    iteration 17 worked. URL: https://www.reddit.com/r/asoiaf/.json?after=t3_982u4b\n",
      "    iteration 18 worked. URL: https://www.reddit.com/r/asoiaf/.json?after=t3_9815st\n",
      "    iteration 19 worked. URL: https://www.reddit.com/r/asoiaf/.json?after=t3_97j29r\n",
      "    text file:  asoiaf36417\n",
      "    size:  (502, 2)\n"
     ]
    }
   ],
   "source": [
    "subreddit_getter('asoiaf', 'CBH_Bot', max_pulls=20)"
   ]
  },
  {
   "cell_type": "code",
   "execution_count": 23,
   "metadata": {},
   "outputs": [
    {
     "name": "stdout",
     "output_type": "stream",
     "text": [
      "   Initial None Count:  475\n",
      "   Initial Rep Count:  17\n",
      "   Initial Dem Count:  10\n",
      "    Some of initial dem and rep count gives a sense of inherent political-ness of subreddit\n",
      "   New Dem Count:  268\n",
      "   New Rep Count:  234\n",
      "   New Percent Dem:  0.5338645418326693\n",
      "   net sum of probas:  -51.825800299229066\n",
      "   mode:  ModeResult(mode=array([0.12206525]), count=array([26]))\n"
     ]
    },
    {
     "name": "stderr",
     "output_type": "stream",
     "text": [
      "C:\\ProgramData\\Anaconda3\\lib\\site-packages\\matplotlib\\axes\\_axes.py:6462: UserWarning: The 'normed' kwarg is deprecated, and has been replaced by the 'density' kwarg.\n",
      "  warnings.warn(\"The 'normed' kwarg is deprecated, and has been \"\n"
     ]
    },
    {
     "data": {
      "image/png": "[encoded data removed]",
      "text/plain": [
       "<Figure size 432x288 with 1 Axes>"
      ]
     },
     "metadata": {},
     "output_type": "display_data"
    }
   ],
   "source": [
    "subreddit_Analysis(pd.read_csv('./Data/asoiaf36417.csv'), output_figname='ASOIAF_C', bump_dems=True)"
   ]
  },
  {
   "cell_type": "markdown",
   "metadata": {},
   "source": [
    "### r/NFL\n"
   ]
  },
  {
   "cell_type": "code",
   "execution_count": 47,
   "metadata": {
    "collapsed": true
   },
   "outputs": [
    {
     "name": "stdout",
     "output_type": "stream",
     "text": [
      "    iteration 0 worked. URL: https://www.reddit.com/r/nfl/.json?after=t3_9cz75f\n",
      "    iteration 1 worked. URL: https://www.reddit.com/r/nfl/.json?after=t3_9d7nnc\n",
      "    iteration 2 worked. URL: https://www.reddit.com/r/nfl/.json?after=t3_9czbln\n",
      "    iteration 3 worked. URL: https://www.reddit.com/r/nfl/.json?after=t3_9cvq44\n",
      "    iteration 4 worked. URL: https://www.reddit.com/r/nfl/.json?after=t3_9cxqsa\n",
      "    iteration 5 worked. URL: https://www.reddit.com/r/nfl/.json?after=t3_9cs7mx\n",
      "    iteration 6 worked. URL: https://www.reddit.com/r/nfl/.json?after=t3_9cp32m\n",
      "    iteration 7 worked. URL: https://www.reddit.com/r/nfl/.json?after=t3_9cnfh9\n",
      "    iteration 8 worked. URL: https://www.reddit.com/r/nfl/.json?after=t3_9cwicv\n",
      "    iteration 9 worked. URL: https://www.reddit.com/r/nfl/.json?after=t3_9cp4uq\n",
      "    iteration 10 worked. URL: https://www.reddit.com/r/nfl/.json?after=t3_9coeqv\n",
      "    iteration 11 worked. URL: https://www.reddit.com/r/nfl/.json?after=t3_9d00mo\n",
      "    iteration 12 worked. URL: https://www.reddit.com/r/nfl/.json?after=t3_9cqtc1\n",
      "    iteration 13 worked. URL: https://www.reddit.com/r/nfl/.json?after=t3_9cbr2j\n",
      "    iteration 14 worked. URL: https://www.reddit.com/r/nfl/.json?after=t3_9cequf\n",
      "    iteration 15 worked. URL: https://www.reddit.com/r/nfl/.json?after=t3_9cf2zw\n",
      "    iteration 16 worked. URL: https://www.reddit.com/r/nfl/.json?after=t3_9cfyvk\n",
      "    iteration 17 worked. URL: https://www.reddit.com/r/nfl/.json?after=t3_9c3md2\n",
      "    iteration 18 worked. URL: https://www.reddit.com/r/nfl/.json?after=t3_9c5yoi\n",
      "    iteration 19 worked. URL: https://www.reddit.com/r/nfl/.json?after=t3_9c8e4c\n",
      "    text file:  nfl69766\n",
      "    size:  (502, 2)\n"
     ]
    }
   ],
   "source": [
    "subreddit_getter('nfl', 'CBH_Bot', max_pulls=20)"
   ]
  },
  {
   "cell_type": "code",
   "execution_count": 47,
   "metadata": {},
   "outputs": [
    {
     "name": "stdout",
     "output_type": "stream",
     "text": [
      "   Initial None Count:  409\n",
      "   Initial Rep Count:  45\n",
      "   Initial Dem Count:  48\n",
      "    Some of initial dem and rep count gives a sense of inherent political-ness of subreddit\n",
      "   New Dem Count:  314\n",
      "   New Rep Count:  188\n",
      "   New Percent Dem:  0.6254980079681275\n",
      "   net sum of probas:  -114.73523274627146\n",
      "   mode:  ModeResult(mode=array([0.13981095]), count=array([2]))\n"
     ]
    },
    {
     "name": "stderr",
     "output_type": "stream",
     "text": [
      "C:\\ProgramData\\Anaconda3\\lib\\site-packages\\matplotlib\\axes\\_axes.py:6462: UserWarning: The 'normed' kwarg is deprecated, and has been replaced by the 'density' kwarg.\n",
      "  warnings.warn(\"The 'normed' kwarg is deprecated, and has been \"\n"
     ]
    },
    {
     "data": {
      "image/png": "[encoded data removed]",
      "text/plain": [
       "<Figure size 432x288 with 1 Axes>"
      ]
     },
     "metadata": {},
     "output_type": "display_data"
    }
   ],
   "source": [
    "subreddit_Analysis(pd.read_csv('./Data/nfl69766.csv'), output_figname='NFL_C', bump_dems=True)"
   ]
  },
  {
   "cell_type": "markdown",
   "metadata": {},
   "source": [
    "### r/CFB\n"
   ]
  },
  {
   "cell_type": "code",
   "execution_count": 49,
   "metadata": {
    "collapsed": true
   },
   "outputs": [
    {
     "name": "stdout",
     "output_type": "stream",
     "text": [
      "    iteration 0 worked. URL: https://www.reddit.com/r/CFB/.json?after=t3_9d830v\n",
      "    iteration 1 worked. URL: https://www.reddit.com/r/CFB/.json?after=t3_9d8d5d\n",
      "    iteration 2 worked. URL: https://www.reddit.com/r/CFB/.json?after=t3_9d2kig\n",
      "    iteration 3 worked. URL: https://www.reddit.com/r/CFB/.json?after=t3_9ct52k\n",
      "    iteration 4 worked. URL: https://www.reddit.com/r/CFB/.json?after=t3_9d0mxq\n",
      "    iteration 5 worked. URL: https://www.reddit.com/r/CFB/.json?after=t3_9cxf9g\n",
      "    iteration 6 worked. URL: https://www.reddit.com/r/CFB/.json?after=t3_9corp5\n",
      "    iteration 7 worked. URL: https://www.reddit.com/r/CFB/.json?after=t3_9cp7tl\n",
      "    iteration 8 worked. URL: https://www.reddit.com/r/CFB/.json?after=t3_9chgca\n",
      "    iteration 9 worked. URL: https://www.reddit.com/r/CFB/.json?after=t3_9cgdyp\n",
      "    iteration 10 worked. URL: https://www.reddit.com/r/CFB/.json?after=t3_9c7nka\n",
      "    iteration 11 worked. URL: https://www.reddit.com/r/CFB/.json?after=t3_9ccsju\n",
      "    iteration 12 worked. URL: https://www.reddit.com/r/CFB/.json?after=t3_9c8ili\n",
      "    iteration 13 worked. URL: https://www.reddit.com/r/CFB/.json?after=t3_9c3oue\n",
      "    iteration 14 worked. URL: https://www.reddit.com/r/CFB/.json?after=t3_9c9x4p\n",
      "    iteration 15 worked. URL: https://www.reddit.com/r/CFB/.json?after=t3_9c5lnc\n",
      "    iteration 16 worked. URL: https://www.reddit.com/r/CFB/.json?after=t3_9c3wte\n",
      "    iteration 17 worked. URL: https://www.reddit.com/r/CFB/.json?after=t3_9c606r\n",
      "    iteration 18 worked. URL: https://www.reddit.com/r/CFB/.json?after=t3_9c6j8w\n",
      "    iteration 19 worked. URL: https://www.reddit.com/r/CFB/.json?after=t3_9c6znw\n",
      "    text file:  CFB14986\n",
      "    size:  (502, 2)\n"
     ]
    }
   ],
   "source": [
    "subreddit_getter('CFB', 'CBH_Bot', max_pulls=20)"
   ]
  },
  {
   "cell_type": "code",
   "execution_count": 48,
   "metadata": {},
   "outputs": [
    {
     "name": "stdout",
     "output_type": "stream",
     "text": [
      "   Initial None Count:  430\n",
      "   Initial Rep Count:  61\n",
      "   Initial Dem Count:  11\n",
      "    Some of initial dem and rep count gives a sense of inherent political-ness of subreddit\n",
      "   New Dem Count:  169\n",
      "   New Rep Count:  333\n",
      "   New Percent Dem:  0.33665338645418325\n",
      "   net sum of probas:  66.30437425755275\n",
      "   mode:  ModeResult(mode=array([0.28240792]), count=array([9]))\n"
     ]
    },
    {
     "name": "stderr",
     "output_type": "stream",
     "text": [
      "C:\\ProgramData\\Anaconda3\\lib\\site-packages\\matplotlib\\axes\\_axes.py:6462: UserWarning: The 'normed' kwarg is deprecated, and has been replaced by the 'density' kwarg.\n",
      "  warnings.warn(\"The 'normed' kwarg is deprecated, and has been \"\n"
     ]
    },
    {
     "data": {
      "image/png": "[encoded data removed]",
      "text/plain": [
       "<Figure size 432x288 with 1 Axes>"
      ]
     },
     "metadata": {},
     "output_type": "display_data"
    }
   ],
   "source": [
    "subreddit_Analysis(pd.read_csv('./Data/CFB14986.csv'), output_figname='CFB_C', bump_dems=True)"
   ]
  },
  {
   "cell_type": "markdown",
   "metadata": {},
   "source": [
    "### r/soccer\n"
   ]
  },
  {
   "cell_type": "code",
   "execution_count": 51,
   "metadata": {
    "collapsed": true
   },
   "outputs": [
    {
     "name": "stdout",
     "output_type": "stream",
     "text": [
      "    iteration 0 worked. URL: https://www.reddit.com/r/soccer/.json?after=t3_9d0h1n\n",
      "    iteration 1 worked. URL: https://www.reddit.com/r/soccer/.json?after=t3_9d4vjc\n",
      "    iteration 2 worked. URL: https://www.reddit.com/r/soccer/.json?after=t3_9cvg80\n",
      "    iteration 3 worked. URL: https://www.reddit.com/r/soccer/.json?after=t3_9d3i4v\n",
      "    iteration 4 worked. URL: https://www.reddit.com/r/soccer/.json?after=t3_9cv0e3\n",
      "    iteration 5 worked. URL: https://www.reddit.com/r/soccer/.json?after=t3_9ctpxy\n",
      "    iteration 6 worked. URL: https://www.reddit.com/r/soccer/.json?after=t3_9cu9ry\n",
      "    iteration 7 worked. URL: https://www.reddit.com/r/soccer/.json?after=t3_9cxid1\n",
      "    iteration 8 worked. URL: https://www.reddit.com/r/soccer/.json?after=t3_9cv451\n",
      "    iteration 9 worked. URL: https://www.reddit.com/r/soccer/.json?after=t3_9ckunr\n",
      "    iteration 10 worked. URL: https://www.reddit.com/r/soccer/.json?after=t3_9cu0nv\n",
      "    iteration 11 worked. URL: https://www.reddit.com/r/soccer/.json?after=t3_9cnkdr\n",
      "    iteration 12 worked. URL: https://www.reddit.com/r/soccer/.json?after=t3_9clcp3\n",
      "    iteration 13 worked. URL: https://www.reddit.com/r/soccer/.json?after=t3_9cne8a\n",
      "    iteration 14 worked. URL: https://www.reddit.com/r/soccer/.json?after=t3_9cmz1i\n",
      "    iteration 15 worked. URL: https://www.reddit.com/r/soccer/.json?after=t3_9cofzx\n",
      "    iteration 16 worked. URL: https://www.reddit.com/r/soccer/.json?after=t3_9cl4ou\n",
      "    iteration 17 worked. URL: https://www.reddit.com/r/soccer/.json?after=t3_9conk8\n",
      "    iteration 18 worked. URL: https://www.reddit.com/r/soccer/.json?after=t3_9cdkdp\n",
      "    iteration 19 worked. URL: https://www.reddit.com/r/soccer/.json?after=t3_9cdkk7\n",
      "    text file:  soccer30540\n",
      "    size:  (502, 2)\n"
     ]
    }
   ],
   "source": [
    "subreddit_getter('soccer', 'CBH_Bot', max_pulls=20)"
   ]
  },
  {
   "cell_type": "code",
   "execution_count": 30,
   "metadata": {},
   "outputs": [
    {
     "name": "stdout",
     "output_type": "stream",
     "text": [
      "   Initial None Count:  435\n",
      "   Initial Rep Count:  31\n",
      "   Initial Dem Count:  36\n",
      "    Some of initial dem and rep count gives a sense of inherent political-ness of subreddit\n",
      "   New Dem Count:  262\n",
      "   New Rep Count:  240\n",
      "   New Percent Dem:  0.5219123505976095\n",
      "   net sum of probas:  -63.27456277538251\n",
      "   mode:  ModeResult(mode=array([0.14567673]), count=array([13]))\n"
     ]
    },
    {
     "name": "stderr",
     "output_type": "stream",
     "text": [
      "C:\\ProgramData\\Anaconda3\\lib\\site-packages\\matplotlib\\axes\\_axes.py:6462: UserWarning: The 'normed' kwarg is deprecated, and has been replaced by the 'density' kwarg.\n",
      "  warnings.warn(\"The 'normed' kwarg is deprecated, and has been \"\n"
     ]
    },
    {
     "data": {
      "image/png": "[encoded data removed]",
      "text/plain": [
       "<Figure size 432x288 with 1 Axes>"
      ]
     },
     "metadata": {},
     "output_type": "display_data"
    }
   ],
   "source": [
    "subreddit_Analysis(pd.read_csv('./Data/soccer30540.csv'), output_figname='soccer_C', bump_dems=True)"
   ]
  },
  {
   "cell_type": "code",
   "execution_count": null,
   "metadata": {},
   "outputs": [],
   "source": []
  },
  {
   "cell_type": "markdown",
   "metadata": {},
   "source": [
    "### r/malefashionadvice"
   ]
  },
  {
   "cell_type": "code",
   "execution_count": 102,
   "metadata": {},
   "outputs": [
    {
     "name": "stdout",
     "output_type": "stream",
     "text": [
      "    iteration 0 worked. URL: https://www.reddit.com/r/malefashionadvice/.json?after=t3_9cqqjo\n",
      "    iteration 1 worked. URL: https://www.reddit.com/r/malefashionadvice/.json?after=t3_9cd5t5\n",
      "    iteration 2 worked. URL: https://www.reddit.com/r/malefashionadvice/.json?after=t3_9buw4s\n",
      "    iteration 3 worked. URL: https://www.reddit.com/r/malefashionadvice/.json?after=t3_9ba7nu\n",
      "    iteration 4 worked. URL: https://www.reddit.com/r/malefashionadvice/.json?after=t3_9at8qq\n",
      "    iteration 5 worked. URL: https://www.reddit.com/r/malefashionadvice/.json?after=t3_9a7vtq\n",
      "    iteration 6 worked. URL: https://www.reddit.com/r/malefashionadvice/.json?after=t3_99onog\n",
      "    iteration 7 worked. URL: https://www.reddit.com/r/malefashionadvice/.json?after=t3_999c81\n",
      "    text file:  malefashionadvice23143\n",
      "    size:  (218, 2)\n"
     ]
    }
   ],
   "source": [
    "subreddit_getter('malefashionadvice', 'CBH_Bot', max_pulls=20)"
   ]
  },
  {
   "cell_type": "code",
   "execution_count": 34,
   "metadata": {},
   "outputs": [
    {
     "name": "stdout",
     "output_type": "stream",
     "text": [
      "   Initial None Count:  212\n",
      "   Initial Rep Count:  4\n",
      "   Initial Dem Count:  2\n",
      "    Some of initial dem and rep count gives a sense of inherent political-ness of subreddit\n",
      "   New Dem Count:  148\n",
      "   New Rep Count:  70\n",
      "   New Percent Dem:  0.6788990825688074\n",
      "   net sum of probas:  -52.34465808473382\n",
      "   mode:  ModeResult(mode=array([-0.51292308]), count=array([3]))\n"
     ]
    },
    {
     "name": "stderr",
     "output_type": "stream",
     "text": [
      "C:\\ProgramData\\Anaconda3\\lib\\site-packages\\matplotlib\\axes\\_axes.py:6462: UserWarning: The 'normed' kwarg is deprecated, and has been replaced by the 'density' kwarg.\n",
      "  warnings.warn(\"The 'normed' kwarg is deprecated, and has been \"\n"
     ]
    },
    {
     "data": {
      "image/png": "[encoded data removed]",
      "text/plain": [
       "<Figure size 432x288 with 1 Axes>"
      ]
     },
     "metadata": {},
     "output_type": "display_data"
    }
   ],
   "source": [
    "subreddit_Analysis(pd.read_csv('./Data/malefashionadvice23143.csv'), output_figname='MFA_C', bump_dems=True)"
   ]
  },
  {
   "cell_type": "code",
   "execution_count": 78,
   "metadata": {},
   "outputs": [
    {
     "data": {
      "text/plain": [
       "0.032074794542322066"
      ]
     },
     "execution_count": 78,
     "metadata": {},
     "output_type": "execute_result"
    }
   ],
   "source": []
  }
 ],
 "metadata": {
  "anaconda-cloud": {},
  "kernelspec": {
   "display_name": "Python 3",
   "language": "python",
   "name": "python3"
  },
  "language_info": {
   "codemirror_mode": {
    "name": "ipython",
    "version": 3
   },
   "file_extension": ".py",
   "mimetype": "text/x-python",
   "name": "python",
   "nbconvert_exporter": "python",
   "pygments_lexer": "ipython3",
   "version": "3.6.5"
  },
  "varInspector": {
   "cols": {
    "lenName": 16,
    "lenType": 16,
    "lenVar": 40
   },
   "kernels_config": {
    "python": {
     "delete_cmd_postfix": "",
     "delete_cmd_prefix": "del ",
     "library": "var_list.py",
     "varRefreshCmd": "print(var_dic_list())"
    },
    "r": {
     "delete_cmd_postfix": ") ",
     "delete_cmd_prefix": "rm(",
     "library": "var_list.r",
     "varRefreshCmd": "cat(var_dic_list()) "
    }
   },
   "types_to_exclude": [
    "module",
    "function",
    "builtin_function_or_method",
    "instance",
    "_Feature"
   ],
   "window_display": false
  }
 },
 "nbformat": 4,
 "nbformat_minor": 1
}
