{
 "cells": [
  {
   "cell_type": "markdown",
   "metadata": {
    "focus": false,
    "id": "db045898-1d2d-4af2-8e79-437c4c7546b4"
   },
   "source": [
    "#### SEE V1 in folder for all the lab specific questions and executive summary.\n",
    "#### This document is focused on developing additional analysis and scoring for 3rd party subreddits\n",
    "##### v3 will be totally stripped down for export and focus on supporting my blog post - how political is your subreddit"
   ]
  },
  {
   "cell_type": "code",
   "execution_count": 79,
   "metadata": {},
   "outputs": [],
   "source": [
    "import pandas as pd\n",
    "import numpy as np\n",
    "import scipy as sp\n",
    "import requests\n",
    "import json\n",
    "import time\n",
    "from sklearn.metrics import confusion_matrix\n",
    "from sklearn.model_selection import cross_val_score\n",
    "import matplotlib.pyplot as plt\n",
    "%matplotlib inline"
   ]
  },
  {
   "cell_type": "code",
   "execution_count": 2,
   "metadata": {},
   "outputs": [],
   "source": [
    "#Getting and exploring Democrat and republican information\n",
    "#Using the same cell to do the pulls to save some space"
   ]
  },
  {
   "cell_type": "code",
   "execution_count": 24,
   "metadata": {},
   "outputs": [
    {
     "name": "stdout",
     "output_type": "stream",
     "text": [
      "    iteration 0 worked. URL: https://www.reddit.com/r/Republican/.json?after=t3_9bpt7f\n",
      "    iteration 1 worked. URL: https://www.reddit.com/r/Republican/.json?after=t3_9b6mn7\n",
      "    iteration 2 worked. URL: https://www.reddit.com/r/Republican/.json?after=t3_9acujw\n",
      "    iteration 3 worked. URL: https://www.reddit.com/r/Republican/.json?after=t3_99x53j\n",
      "    iteration 4 worked. URL: https://www.reddit.com/r/Republican/.json?after=t3_99bxdv\n",
      "    iteration 5 worked. URL: https://www.reddit.com/r/Republican/.json?after=t3_97zicr\n",
      "    iteration 6 worked. URL: https://www.reddit.com/r/Republican/.json?after=t3_97y95a\n",
      "    iteration 7 worked. URL: https://www.reddit.com/r/Republican/.json?after=t3_96zirr\n",
      "    iteration 8 worked. URL: https://www.reddit.com/r/Republican/.json?after=t3_96axws\n",
      "    iteration 9 worked. URL: https://www.reddit.com/r/Republican/.json?after=t3_95ocui\n",
      "    iteration 10 worked. URL: https://www.reddit.com/r/Republican/.json?after=t3_95cjo7\n",
      "    iteration 11 worked. URL: https://www.reddit.com/r/Republican/.json?after=t3_94uvf9\n",
      "    iteration 12 worked. URL: https://www.reddit.com/r/Republican/.json?after=t3_945lbr\n",
      "    iteration 13 worked. URL: https://www.reddit.com/r/Republican/.json?after=t3_93srg2\n",
      "    iteration 14 worked. URL: https://www.reddit.com/r/Republican/.json?after=t3_930rjj\n",
      "    iteration 15 worked. URL: https://www.reddit.com/r/Republican/.json?after=t3_92dkx3\n",
      "    iteration 16 worked. URL: https://www.reddit.com/r/Republican/.json?after=t3_91u6h3\n",
      "    iteration 17 worked. URL: https://www.reddit.com/r/Republican/.json?after=t3_91jp9x\n",
      "    iteration 18 worked. URL: https://www.reddit.com/r/Republican/.json?after=t3_90otuq\n",
      "    iteration 19 worked. URL: https://www.reddit.com/r/Republican/.json?after=t3_90doco\n",
      "    size:  (500, 3)\n"
     ]
    },
    {
     "data": {
      "text/html": [
       "<div>\n",
       "<style scoped>\n",
       "    .dataframe tbody tr th:only-of-type {\n",
       "        vertical-align: middle;\n",
       "    }\n",
       "\n",
       "    .dataframe tbody tr th {\n",
       "        vertical-align: top;\n",
       "    }\n",
       "\n",
       "    .dataframe thead th {\n",
       "        text-align: right;\n",
       "    }\n",
       "</style>\n",
       "<table border=\"1\" class=\"dataframe\">\n",
       "  <thead>\n",
       "    <tr style=\"text-align: right;\">\n",
       "      <th></th>\n",
       "      <th>selftext</th>\n",
       "      <th>subreddit</th>\n",
       "      <th>title</th>\n",
       "    </tr>\n",
       "  </thead>\n",
       "  <tbody>\n",
       "    <tr>\n",
       "      <th>0</th>\n",
       "      <td></td>\n",
       "      <td>Republican</td>\n",
       "      <td>How Socialism Rots The Soul, The Culture And T...</td>\n",
       "    </tr>\n",
       "    <tr>\n",
       "      <th>1</th>\n",
       "      <td></td>\n",
       "      <td>Republican</td>\n",
       "      <td>Florida primary 2018: A look at Central Florid...</td>\n",
       "    </tr>\n",
       "    <tr>\n",
       "      <th>2</th>\n",
       "      <td></td>\n",
       "      <td>Republican</td>\n",
       "      <td>POOF HE’S GONE! MSNBC and ABC crop out Louis F...</td>\n",
       "    </tr>\n",
       "    <tr>\n",
       "      <th>3</th>\n",
       "      <td></td>\n",
       "      <td>Republican</td>\n",
       "      <td>Neocons and liberals hate Trump because he has...</td>\n",
       "    </tr>\n",
       "    <tr>\n",
       "      <th>4</th>\n",
       "      <td></td>\n",
       "      <td>Republican</td>\n",
       "      <td>John McCain's marriage was like a Hallmark Cha...</td>\n",
       "    </tr>\n",
       "  </tbody>\n",
       "</table>\n",
       "</div>"
      ],
      "text/plain": [
       "  selftext   subreddit                                              title\n",
       "0           Republican  How Socialism Rots The Soul, The Culture And T...\n",
       "1           Republican  Florida primary 2018: A look at Central Florid...\n",
       "2           Republican  POOF HE’S GONE! MSNBC and ABC crop out Louis F...\n",
       "3           Republican  Neocons and liberals hate Trump because he has...\n",
       "4           Republican  John McCain's marriage was like a Hallmark Cha..."
      ]
     },
     "execution_count": 24,
     "metadata": {},
     "output_type": "execute_result"
    }
   ],
   "source": [
    "data_list = []\n",
    "URL = \"https://www.reddit.com/r/Republican/.json\"\n",
    "#seems to be a cap at 20\n",
    "for step in range(20):\n",
    "    res = requests.get(URL, headers={'User-agent': 'Conor Barry Bot 0.1'})\n",
    "    data = res.json()\n",
    "    \n",
    "    for i in range(len(data['data']['children'])):\n",
    "        temp = {}\n",
    "        temp['subreddit'] = data['data']['children'][i]['data']['subreddit_name_prefixed'].replace('r/', '')\n",
    "        temp['title']=data['data']['children'][i]['data']['title']\n",
    "        temp['selftext'] = data['data']['children'][i]['data']['selftext']\n",
    "        data_list.append(temp)\n",
    "\n",
    "    new_after = data['data']['after']\n",
    "    URL = \"https://www.reddit.com/r/Republican/.json?after=\" + new_after\n",
    "    print('    iteration {} worked. URL: {}'.format(step, URL))\n",
    "    time.sleep(3)\n",
    "    \n",
    "df_republicans_scrape = pd.DataFrame(data_list)\n",
    "print('    size: ', df_republicans_scrape.shape)\n",
    "df_republicans_scrape.head()"
   ]
  },
  {
   "cell_type": "markdown",
   "metadata": {
    "focus": false,
    "id": "43e71edd-210e-42b1-9336-70a931f048af"
   },
   "source": [
    "### Save your results as a CSV\n",
    "You may do this regularly while scraping data as well, so that if your scraper stops of your computer crashes, you don't lose all your data."
   ]
  },
  {
   "cell_type": "code",
   "execution_count": 25,
   "metadata": {
    "focus": false,
    "id": "783fd153-28ac-47ab-bfca-27e7c1de95b4"
   },
   "outputs": [],
   "source": [
    "# Export to csv\n",
    "df_republicans_scrape.to_csv('./Data/InitialRepublicanPosts_9_03.csv', index=False)"
   ]
  },
  {
   "cell_type": "code",
   "execution_count": 3,
   "metadata": {},
   "outputs": [],
   "source": [
    "#Pick up CSVs after recorded. Dems First\n",
    "df_dems_init = pd.read_csv('./Data/InitialDemocratsPosts_8_31.csv')\n",
    "df_dems_new = pd.read_csv('./Data/InitialDemocratsPosts_9_03.csv')"
   ]
  },
  {
   "cell_type": "code",
   "execution_count": 4,
   "metadata": {},
   "outputs": [
    {
     "data": {
      "text/plain": [
       "selftext    1\n",
       "title       1\n",
       "dtype: int64"
      ]
     },
     "execution_count": 4,
     "metadata": {},
     "output_type": "execute_result"
    }
   ],
   "source": [
    "#Seems like we need to drop first row as duplicate.Probably a locked post. Otherwise good. \n",
    "(df_dems_init.loc[:,['selftext', 'title']]==df_dems_new.loc[:,['selftext', 'title']]).sum()"
   ]
  },
  {
   "cell_type": "code",
   "execution_count": 5,
   "metadata": {},
   "outputs": [],
   "source": [
    "df_democrats_all = df_dems_init.append(df_dems_new.iloc[1:, ], ignore_index=True)"
   ]
  },
  {
   "cell_type": "code",
   "execution_count": 6,
   "metadata": {},
   "outputs": [],
   "source": [
    "#Pick up CSVs after recorded. Now Reps\n",
    "df_reps_init = pd.read_csv('./Data/InitialRepublicanPosts.csv')\n",
    "df_reps_new = pd.read_csv('./Data/InitialRepublicanPosts_9_03.csv')"
   ]
  },
  {
   "cell_type": "code",
   "execution_count": 7,
   "metadata": {},
   "outputs": [
    {
     "data": {
      "text/plain": [
       "selftext    0\n",
       "title       0\n",
       "dtype: int64"
      ]
     },
     "execution_count": 7,
     "metadata": {},
     "output_type": "execute_result"
    }
   ],
   "source": [
    "#No overlaps\n",
    "(df_reps_init.loc[:,['selftext', 'title']]==df_reps_new.loc[:,['selftext', 'title']]).sum()"
   ]
  },
  {
   "cell_type": "code",
   "execution_count": 8,
   "metadata": {},
   "outputs": [],
   "source": [
    "df_republicans_all = df_reps_init.append(df_reps_new, ignore_index=True)"
   ]
  },
  {
   "cell_type": "code",
   "execution_count": 9,
   "metadata": {},
   "outputs": [
    {
     "data": {
      "text/plain": [
       "(2001, 3)"
      ]
     },
     "execution_count": 9,
     "metadata": {},
     "output_type": "execute_result"
    }
   ],
   "source": [
    "df_init_DemRep = df_democrats_all.append(df_republicans_all, ignore_index=True, verify_integrity=True)\n",
    "df_init_DemRep.shape"
   ]
  },
  {
   "cell_type": "code",
   "execution_count": 10,
   "metadata": {},
   "outputs": [
    {
     "data": {
      "text/plain": [
       "democrats     1001\n",
       "Republican    1000\n",
       "Name: subreddit, dtype: int64"
      ]
     },
     "execution_count": 10,
     "metadata": {},
     "output_type": "execute_result"
    }
   ],
   "source": [
    "#Value counts check out. Looks like we got an extra Dem post from that locked post.\n",
    "df_init_DemRep['subreddit'].value_counts()"
   ]
  },
  {
   "cell_type": "code",
   "execution_count": 11,
   "metadata": {},
   "outputs": [
    {
     "data": {
      "text/plain": [
       "selftext     0\n",
       "subreddit    0\n",
       "title        0\n",
       "dtype: int64"
      ]
     },
     "execution_count": 11,
     "metadata": {},
     "output_type": "execute_result"
    }
   ],
   "source": [
    "mask={\n",
    "    'democrats':1, \n",
    "    'Republican':0\n",
    "}\n",
    "df_init_DemRep['subreddit'].map(mask)\n",
    "df_init_DemRep.fillna(' ', inplace=True)\n",
    "df_init_DemRep.isnull().sum()"
   ]
  },
  {
   "cell_type": "code",
   "execution_count": 12,
   "metadata": {},
   "outputs": [
    {
     "data": {
      "text/plain": [
       "0.5581787521079259"
      ]
     },
     "execution_count": 12,
     "metadata": {},
     "output_type": "execute_result"
    }
   ],
   "source": [
    "#Filling this in for later application to new subs, if I get to it\n",
    "#Figures as of 8/30/2018\n",
    "dem_subscribers = 66.2 #Thousand\n",
    "reb_subscribers = 52.4 #Thousand\n",
    "dem_prior = dem_subscribers / (dem_subscribers + reb_subscribers)\n",
    "rep_prior = 1 - dem_prior\n",
    "dem_prior"
   ]
  },
  {
   "cell_type": "code",
   "execution_count": 13,
   "metadata": {},
   "outputs": [],
   "source": [
    "#Loosely correlates to 2016 presidential election number of 51%\n",
    "#Lower Figure here jives with qualitative assumption that reddit leans democrat a little more"
   ]
  },
  {
   "cell_type": "markdown",
   "metadata": {},
   "source": [
    "#### Conor's Gameplan\n",
    "\n",
    "1. Get Dems, repubs into single frame\n",
    "    1a. Convert data\n",
    "    1b. Temporarily downselect titles only\n",
    "2. Run logit\n",
    "3. Answer basic questions\n",
    "4. Create separate title vector (with word_ format for feature names) for each\n",
    "5. Collect these together to one mega frame and re-rune\n",
    "6. Synthesize Democrat / Republican-ness"
   ]
  },
  {
   "cell_type": "markdown",
   "metadata": {
    "focus": false,
    "id": "db045898-1d2d-4af2-8e79-437c4c7546b4"
   },
   "source": [
    "#### SEE V1 in folder for all the lab specific questions and executive summary.\n",
    "#### This document is focused on developing additional analysis and scoring for 3rd party subreddits\n",
    "##### Which is the focus of my intended blog post."
   ]
  },
  {
   "cell_type": "code",
   "execution_count": 14,
   "metadata": {},
   "outputs": [],
   "source": [
    "from sklearn.feature_extraction.text import CountVectorizer\n",
    "from sklearn.feature_extraction import stop_words\n",
    "from sklearn.linear_model import LogisticRegression\n",
    "from sklearn.model_selection import train_test_split\n",
    "from sklearn.feature_extraction.text import TfidfVectorizer\n",
    "import seaborn as sns"
   ]
  },
  {
   "cell_type": "code",
   "execution_count": 15,
   "metadata": {},
   "outputs": [],
   "source": [
    "my_stop_words = stop_words.ENGLISH_STOP_WORDS"
   ]
  },
  {
   "cell_type": "code",
   "execution_count": 16,
   "metadata": {},
   "outputs": [
    {
     "data": {
      "text/plain": [
       "1876"
      ]
     },
     "execution_count": 16,
     "metadata": {},
     "output_type": "execute_result"
    }
   ],
   "source": [
    "#90% of self text is blank. \n",
    "df_init_DemRep[df_init_DemRep['selftext']==' '].count()[0]"
   ]
  },
  {
   "cell_type": "code",
   "execution_count": 17,
   "metadata": {},
   "outputs": [],
   "source": [
    "#no compelling reason to pull in self-text\n",
    "df_data = df_init_DemRep.loc[:, ['subreddit', 'title']]"
   ]
  },
  {
   "cell_type": "code",
   "execution_count": 18,
   "metadata": {},
   "outputs": [],
   "source": [
    "def fit_transform_model(X=df_data.title, y=df_data.subreddit, \n",
    "                        vecmod='TFID', pred='logreg', \n",
    "                        test_size_local=None, random_state_local=42 ):\n",
    "    \"\"\"I absolutely created this function after running through the lab the first time. \n",
    "    I figured that it would help me clean up the rest of the document, as well as making\n",
    "    additions to the model.\n",
    "    With a little bit of work, this should be very generalizable to future models for me.\"\"\"\n",
    "    \n",
    "    #get vectorizer\n",
    "    if vecmod == 'TFID':\n",
    "        vecmod_ = TfidfVectorizer(stop_words=my_stop_words, ngram_range=(1,3))\n",
    "    else:\n",
    "        vecmod_ = vecmod\n",
    "    \n",
    "    #TTS, \n",
    "    X_train, X_test, y_train, y_test = train_test_split(X, y, \n",
    "                                                        test_size=test_size_local, \n",
    "                                                        random_state=random_state_local)\n",
    "    X_train_transform = vecmod_.fit_transform(X_train).todense()\n",
    "    df_X_train_transform = pd.DataFrame(X_train_transform, columns=vecmod_.get_feature_names())\n",
    "    X_test_transform = vecmod_.transform(X_test).todense()\n",
    "    df_X_test_transform = pd.DataFrame(X_test_transform, columns=vecmod_.get_feature_names())\n",
    "    \n",
    "    #predict model\n",
    "    if pred == 'logreg':\n",
    "        funct_model_= LogisticRegression()\n",
    "    else:\n",
    "        funct_model_ = pred\n",
    "        \n",
    "    funct_model_.fit(df_X_train_transform, y_train)\n",
    "    \n",
    "    #Export features and scores\n",
    "    global latest_model, latest_transform, sorted_d, train_x, test_x, test_y, train_y\n",
    "    latest_model = funct_model_ \n",
    "    train_x, test_x, train_y, test_y = df_X_train_transform, df_X_test_transform, y_train, y_test\n",
    "    latest_transform = vecmod_\n",
    "    \n",
    "    try:\n",
    "        feature_values =(dict(zip(list(df_X_train_transform.columns), list(funct_model_.coef_[0]))))\n",
    "        sorted_d = sorted((value, key) for (key,value) in feature_values.items())\n",
    "    except:\n",
    "        return funct_model_.score(df_X_test_transform, y_test)\n",
    "    \n",
    "    return funct_model_.score(df_X_test_transform, y_test)"
   ]
  },
  {
   "cell_type": "code",
   "execution_count": 19,
   "metadata": {},
   "outputs": [
    {
     "data": {
      "text/plain": [
       "0.9226932668329177"
      ]
     },
     "execution_count": 19,
     "metadata": {},
     "output_type": "execute_result"
    }
   ],
   "source": [
    "fit_transform_model(test_size_local=.2)"
   ]
  },
  {
   "cell_type": "code",
   "execution_count": null,
   "metadata": {},
   "outputs": [],
   "source": []
  },
  {
   "cell_type": "code",
   "execution_count": 102,
   "metadata": {},
   "outputs": [],
   "source": [
    "#This got a lot better with more data"
   ]
  },
  {
   "cell_type": "code",
   "execution_count": 20,
   "metadata": {},
   "outputs": [
    {
     "name": "stdout",
     "output_type": "stream",
     "text": [
      "   republican indicators:\n",
      "     (-1.044754467779082, 'liberals')\n",
      "     (-0.8221478000274467, 'left')\n",
      "     (-0.8172386177966948, 'walkaway')\n",
      "     (-0.8139598050951399, 'brennan')\n",
      "     (-0.8072737169713672, 'socialism')\n",
      "     (-0.8047598629235031, 'media')\n",
      "     (-0.7638735443251032, 'hc')\n",
      "     (-0.7282312815300432, 'like')\n",
      "     (-0.7148407058800351, 'work')\n",
      "     (-0.6888763936317656, 'mean')\n",
      "\n",
      "    democratic indicators:\n",
      "     (2.8039010312647354, 'trump')\n",
      "     (1.9514814129704061, 'president')\n",
      "     (1.8794800247649253, 'mccain')\n",
      "     (1.5912581579177456, 'kavanaugh')\n",
      "     (1.34712065016521, 'rourke')\n",
      "     (1.258439546742597, 'beto')\n",
      "     (1.176195779364775, 'beto rourke')\n",
      "     (1.1480866258680207, 'twitter')\n",
      "     (1.0710938306145288, 'say')\n",
      "     (1.0162109449509296, 'white house')\n"
     ]
    }
   ],
   "source": [
    "print('   republican indicators:')\n",
    "for i in range(10):\n",
    "    print('    ', sorted_d[i])\n",
    "#print('    democratic indicators: ', sorted_d[:-10])\n",
    "print('\\n    democratic indicators:')\n",
    "for i in range(10):\n",
    "    print('    ', sorted_d[-i-1])"
   ]
  },
  {
   "cell_type": "code",
   "execution_count": null,
   "metadata": {},
   "outputs": [],
   "source": []
  },
  {
   "cell_type": "markdown",
   "metadata": {},
   "source": [
    "#### Note to self: Clean out higher of one and to word combos?"
   ]
  },
  {
   "cell_type": "code",
   "execution_count": 21,
   "metadata": {},
   "outputs": [
    {
     "data": {
      "text/html": [
       "<div>\n",
       "<style scoped>\n",
       "    .dataframe tbody tr th:only-of-type {\n",
       "        vertical-align: middle;\n",
       "    }\n",
       "\n",
       "    .dataframe tbody tr th {\n",
       "        vertical-align: top;\n",
       "    }\n",
       "\n",
       "    .dataframe thead th {\n",
       "        text-align: right;\n",
       "    }\n",
       "</style>\n",
       "<table border=\"1\" class=\"dataframe\">\n",
       "  <thead>\n",
       "    <tr style=\"text-align: right;\">\n",
       "      <th></th>\n",
       "      <th>Predicted Repub</th>\n",
       "      <th>Pred Dem</th>\n",
       "    </tr>\n",
       "  </thead>\n",
       "  <tbody>\n",
       "    <tr>\n",
       "      <th>Actual Rep</th>\n",
       "      <td>183</td>\n",
       "      <td>16</td>\n",
       "    </tr>\n",
       "    <tr>\n",
       "      <th>Actual Dem</th>\n",
       "      <td>15</td>\n",
       "      <td>187</td>\n",
       "    </tr>\n",
       "  </tbody>\n",
       "</table>\n",
       "</div>"
      ],
      "text/plain": [
       "            Predicted Repub  Pred Dem\n",
       "Actual Rep              183        16\n",
       "Actual Dem               15       187"
      ]
     },
     "execution_count": 21,
     "metadata": {},
     "output_type": "execute_result"
    }
   ],
   "source": [
    "cm = confusion_matrix(test_y, latest_model.predict(test_x))\n",
    "df_cm = pd.DataFrame(cm, columns=['Predicted Repub', 'Pred Dem'], index=['Actual Rep', 'Actual Dem'])\n",
    "df_cm"
   ]
  },
  {
   "cell_type": "markdown",
   "metadata": {},
   "source": [
    "#### Refit using binary features"
   ]
  },
  {
   "cell_type": "code",
   "execution_count": 22,
   "metadata": {},
   "outputs": [
    {
     "data": {
      "text/plain": [
       "0.9201995012468828"
      ]
     },
     "execution_count": 22,
     "metadata": {},
     "output_type": "execute_result"
    }
   ],
   "source": [
    "fit_transform_model(test_size_local=.2, vecmod=TfidfVectorizer(stop_words=my_stop_words,\n",
    "                                           ngram_range = (1,3), \n",
    "                                           binary=True))"
   ]
  },
  {
   "cell_type": "markdown",
   "metadata": {},
   "source": [
    "Answer: Pretty much the same."
   ]
  },
  {
   "cell_type": "markdown",
   "metadata": {
    "focus": false,
    "id": "04563b69-f7b6-466f-9d65-fc62c9ddee6a"
   },
   "source": [
    "## Predicting subreddit using Random Forests + Another Classifier"
   ]
  },
  {
   "cell_type": "markdown",
   "metadata": {
    "focus": false,
    "id": "c7631f51-07f2-4c79-a093-3e9bc7849a48"
   },
   "source": [
    "#### Nothing added by keeping this subsection in here.\n",
    "For the most part, the models still did not outperform the base model. RFC was slightly better, but it does not have the explanatory features I want for my purposes. "
   ]
  },
  {
   "cell_type": "code",
   "execution_count": 23,
   "metadata": {},
   "outputs": [],
   "source": [
    "from sklearn.ensemble import RandomForestClassifier"
   ]
  },
  {
   "cell_type": "code",
   "execution_count": 24,
   "metadata": {},
   "outputs": [
    {
     "data": {
      "text/plain": [
       "0.8243512974051896"
      ]
     },
     "execution_count": 24,
     "metadata": {},
     "output_type": "execute_result"
    }
   ],
   "source": [
    "fit_transform_model(pred=RandomForestClassifier())"
   ]
  },
  {
   "cell_type": "code",
   "execution_count": 25,
   "metadata": {},
   "outputs": [
    {
     "data": {
      "text/plain": [
       "0.9226932668329177"
      ]
     },
     "execution_count": 25,
     "metadata": {},
     "output_type": "execute_result"
    }
   ],
   "source": [
    "fit_transform_model(test_size_local=.2)"
   ]
  },
  {
   "cell_type": "code",
   "execution_count": 26,
   "metadata": {},
   "outputs": [],
   "source": [
    "#RandomForest is slightly better, but harder to explain. Sticking with logit. "
   ]
  },
  {
   "cell_type": "markdown",
   "metadata": {},
   "source": [
    "# Executive Summary\n",
    "---\n",
    "### The Need\n",
    "\n",
    "YOU are a totally legitimate campaign strategy group (and not at all a nefarious foreign entity).     \n",
    "\n",
    "YOU **NEED** to expand your voter turnout numbers by identifying low-key voters who would support you, but eschew venues by which you would normally reach out to them (e.g. Facebook).   \n",
    "  \n",
    "YOU are smart and cautious, having seen how a misplaced ad or statement can be easily twisted to support the other side, and want to make sure your ads are interpreted as intended.\n",
    "  \n",
    " So where are these voters?? How do you mine them and find them without stepping on mines?\n",
    " \n",
    " ### The solution\n",
    " Introducing **The HUAC 9000**   \n",
    " \n",
    " Named for the infamous and (occaisionally) successful communist hunting committee of the 1950s, the HUAC 9000 uses data from thousands of known Democratic and Republican posts to ferret out party-line sentiment hidden under benign cat-posts.   \n",
    "   \n",
    "The HUAC 9000 can identify party leanings and the strength of those leanings in an easy to interpret score, saving you time and precious resources by increasing the effectiveness of ads. \n",
    "  \n",
    "  \n",
    "### We can do it\n",
    "Our team has years of cumulative experience getting blind-sided by uncomfortable political conversations that seem to erupt out of nowhere. Exasperated that it was becoming impossible to talk about anything nice for more than 5 minutes, our team (consisting of top 50 Kaggle scoreres in the Ames Iowa competition and codewars veterans rank 5 or higher) spent uncountable hours fine-tuning the HUAC. \n",
    "  \n",
    "  \n",
    "### Now is the Time\n",
    "Our team of trained experts will stand up a HUAC 9000 implementation tuned to your candidate, and teach you to search Reddit to find your supporters. No one is looking over your shoulder ;), meaning you have more time to focus on what matters.  \n",
    "  \n",
    "  \n",
    "If they can vote for Laurel or Yonny, they can vote for your candidate. Don't let them get away - buy HUAC 9000 Today.\n"
   ]
  },
  {
   "cell_type": "markdown",
   "metadata": {},
   "source": [
    "## Collection of Executive Summary information\n",
    "Includes final model refit."
   ]
  },
  {
   "cell_type": "code",
   "execution_count": 27,
   "metadata": {},
   "outputs": [],
   "source": [
    "#!pip install wordcloud"
   ]
  },
  {
   "cell_type": "code",
   "execution_count": 28,
   "metadata": {},
   "outputs": [],
   "source": [
    "#https://www.geeksforgeeks.org/generating-word-cloud-python/"
   ]
  },
  {
   "cell_type": "code",
   "execution_count": 29,
   "metadata": {},
   "outputs": [],
   "source": [
    "from wordcloud import WordCloud"
   ]
  },
  {
   "cell_type": "code",
   "execution_count": 108,
   "metadata": {},
   "outputs": [
    {
     "data": {
      "text/plain": [
       "0.9226932668329177"
      ]
     },
     "execution_count": 108,
     "metadata": {},
     "output_type": "execute_result"
    }
   ],
   "source": [
    "fit_transform_model(test_size_local=.2, vecmod=TfidfVectorizer(stop_words=my_stop_words,\n",
    "                                           ngram_range = (1,3), \n",
    "                                           binary=False))"
   ]
  },
  {
   "cell_type": "code",
   "execution_count": 116,
   "metadata": {},
   "outputs": [
    {
     "data": {
      "text/html": [
       "<div>\n",
       "<style scoped>\n",
       "    .dataframe tbody tr th:only-of-type {\n",
       "        vertical-align: middle;\n",
       "    }\n",
       "\n",
       "    .dataframe tbody tr th {\n",
       "        vertical-align: top;\n",
       "    }\n",
       "\n",
       "    .dataframe thead th {\n",
       "        text-align: right;\n",
       "    }\n",
       "</style>\n",
       "<table border=\"1\" class=\"dataframe\">\n",
       "  <thead>\n",
       "    <tr style=\"text-align: right;\">\n",
       "      <th></th>\n",
       "      <th>Predicted Repub</th>\n",
       "      <th>Pred Dem</th>\n",
       "    </tr>\n",
       "  </thead>\n",
       "  <tbody>\n",
       "    <tr>\n",
       "      <th>Actual Rep</th>\n",
       "      <td>183</td>\n",
       "      <td>16</td>\n",
       "    </tr>\n",
       "    <tr>\n",
       "      <th>Actual Dem</th>\n",
       "      <td>15</td>\n",
       "      <td>187</td>\n",
       "    </tr>\n",
       "  </tbody>\n",
       "</table>\n",
       "</div>"
      ],
      "text/plain": [
       "            Predicted Repub  Pred Dem\n",
       "Actual Rep              183        16\n",
       "Actual Dem               15       187"
      ]
     },
     "execution_count": 116,
     "metadata": {},
     "output_type": "execute_result"
    }
   ],
   "source": [
    "cm = confusion_matrix(test_y, latest_model.predict(test_x))\n",
    "df_cm = pd.DataFrame(cm, columns=['Predicted Repub', 'Pred Dem'], index=['Actual Rep', 'Actual Dem'])\n",
    "df_cm"
   ]
  },
  {
   "cell_type": "code",
   "execution_count": 109,
   "metadata": {},
   "outputs": [],
   "source": [
    "rep_word_dict = dict(sorted_d[:21])\n",
    "dem_word_dict = dict(sorted(sorted_d[-20:], reverse=True))"
   ]
  },
  {
   "cell_type": "code",
   "execution_count": 110,
   "metadata": {
    "scrolled": true
   },
   "outputs": [
    {
     "data": {
      "text/plain": [
       "{2.8039010312647354: 'trump',\n",
       " 1.9514814129704061: 'president',\n",
       " 1.8794800247649253: 'mccain',\n",
       " 1.5912581579177456: 'kavanaugh',\n",
       " 1.34712065016521: 'rourke',\n",
       " 1.258439546742597: 'beto',\n",
       " 1.176195779364775: 'beto rourke',\n",
       " 1.1480866258680207: 'twitter',\n",
       " 1.0710938306145288: 'say',\n",
       " 1.0162109449509296: 'white house',\n",
       " 0.937351924595669: 'republicans',\n",
       " 0.8892119021517713: 'cohen',\n",
       " 0.8647760074178018: 'plan',\n",
       " 0.8572657057773955: 'democrats',\n",
       " 0.8400660588456147: 'gillum',\n",
       " 0.8054940653067043: 'administration',\n",
       " 0.7784924318650955: 'presidency',\n",
       " 0.7741454825825453: 'donald',\n",
       " 0.7729584393830872: 'corruption',\n",
       " 0.7692271545631377: 'white'}"
      ]
     },
     "execution_count": 110,
     "metadata": {},
     "output_type": "execute_result"
    }
   ],
   "source": [
    "dem_word_dict"
   ]
  },
  {
   "cell_type": "code",
   "execution_count": 33,
   "metadata": {},
   "outputs": [
    {
     "data": {
      "text/plain": [
       "20"
      ]
     },
     "execution_count": 33,
     "metadata": {},
     "output_type": "execute_result"
    }
   ],
   "source": [
    "len(rep_word_dict)"
   ]
  },
  {
   "cell_type": "code",
   "execution_count": 34,
   "metadata": {},
   "outputs": [],
   "source": [
    "from math import exp\n",
    "import random"
   ]
  },
  {
   "cell_type": "code",
   "execution_count": 111,
   "metadata": {},
   "outputs": [],
   "source": [
    "rep_word_dict_trans = {}\n",
    "for key in rep_word_dict.keys():\n",
    "    new_key_= int(exp(-key)*2000) #watch out for this negative\n",
    "    while new_key_ in rep_word_dict.keys():\n",
    "        new_key_+=1 #tie breaker prevents override of values\n",
    "        print('    ',new_key_)\n",
    "    rep_word_dict_trans[new_key_] = rep_word_dict[key]\n",
    "rep_words_str = ''\n",
    "for key in rep_word_dict_trans.keys():\n",
    "    rep_words_str = rep_words_str + key*(str(rep_word_dict_trans[key]) + ' ')"
   ]
  },
  {
   "cell_type": "code",
   "execution_count": 112,
   "metadata": {},
   "outputs": [
    {
     "data": {
      "text/plain": [
       "{33017: 'trump',\n",
       " 14078: 'president',\n",
       " 13100: 'mccain',\n",
       " 9819: 'kavanaugh',\n",
       " 7692: 'rourke',\n",
       " 7039: 'beto',\n",
       " 6484: 'beto rourke',\n",
       " 6304: 'twitter',\n",
       " 5837: 'say',\n",
       " 5525: 'white house',\n",
       " 5106: 'republicans',\n",
       " 4866: 'cohen',\n",
       " 4748: 'plan',\n",
       " 4713: 'democrats',\n",
       " 4633: 'gillum',\n",
       " 4475: 'administration',\n",
       " 4356: 'presidency',\n",
       " 4337: 'donald',\n",
       " 4332: 'corruption',\n",
       " 4316: 'white'}"
      ]
     },
     "execution_count": 112,
     "metadata": {},
     "output_type": "execute_result"
    }
   ],
   "source": [
    "dem_word_dict_trans = {}\n",
    "for key in dem_word_dict.keys():\n",
    "    new_key_= int(exp(key)*2000)\n",
    "    while new_key_ in dem_word_dict.keys():\n",
    "        new_key_+=1\n",
    "        print('    ',new_key_)\n",
    "    dem_word_dict_trans[new_key_] = dem_word_dict[key]\n",
    "dem_words_str = ''\n",
    "for key in dem_word_dict_trans.keys():\n",
    "    dem_words_str = dem_words_str + key*(str(dem_word_dict_trans[key]) + ' ')\n",
    "dem_word_dict_trans"
   ]
  },
  {
   "cell_type": "code",
   "execution_count": 118,
   "metadata": {
    "scrolled": true
   },
   "outputs": [
    {
     "data": {
      "text/plain": [
       "<wordcloud.wordcloud.WordCloud at 0x1cc967b3860>"
      ]
     },
     "execution_count": 118,
     "metadata": {},
     "output_type": "execute_result"
    },
    {
     "data": {
      "image/png": "[encoded data removed]",
      "text/plain": [
       "<Figure size 720x720 with 1 Axes>"
      ]
     },
     "metadata": {},
     "output_type": "display_data"
    }
   ],
   "source": [
    "mycloud = WordCloud(width=1000, height=1000,\n",
    "                    background_color='grey', \n",
    "                    colormap='Reds',\n",
    "                    min_font_size=1,\n",
    "                    max_words=len(rep_words_str),\n",
    "                    collocations=False, #get rid of duplicates\n",
    "                   normalize_plurals=False).generate_from_text(rep_words_str)\n",
    "plt.figure(figsize = (10, 10), facecolor = None)\n",
    "plt.imshow(mycloud)\n",
    "plt.axis(\"off\")\n",
    "plt.tight_layout(pad = 0)\n",
    "mycloud.to_file('./Presentation/OutputFigs/RepCloud_2.png')"
   ]
  },
  {
   "cell_type": "code",
   "execution_count": 119,
   "metadata": {},
   "outputs": [
    {
     "data": {
      "text/plain": [
       "<wordcloud.wordcloud.WordCloud at 0x1cc969a3668>"
      ]
     },
     "execution_count": 119,
     "metadata": {},
     "output_type": "execute_result"
    },
    {
     "data": {
      "image/png": "[encoded data removed]",
      "text/plain": [
       "<Figure size 720x720 with 1 Axes>"
      ]
     },
     "metadata": {},
     "output_type": "display_data"
    }
   ],
   "source": [
    "mycloud = WordCloud(width=1000, height=1000,\n",
    "                    background_color='grey', \n",
    "                    min_font_size=1,\n",
    "                    colormap='Blues',\n",
    "                    collocations=False, #get rid of duplicates\n",
    "                   normalize_plurals=False,\n",
    "                   max_words=len(dem_words_str)).generate_from_text(dem_words_str)\n",
    "plt.figure(figsize = (10, 10), facecolor = None)\n",
    "plt.imshow(mycloud)\n",
    "plt.axis(\"off\")\n",
    "plt.tight_layout(pad = 0)\n",
    "mycloud.to_file('./Presentation/OutputFigs/DemCloud_2.png')"
   ]
  },
  {
   "cell_type": "code",
   "execution_count": null,
   "metadata": {},
   "outputs": [],
   "source": [
    "#Talk about overlap - words more tightly clustered for republican/"
   ]
  },
  {
   "cell_type": "code",
   "execution_count": 113,
   "metadata": {},
   "outputs": [
    {
     "name": "stdout",
     "output_type": "stream",
     "text": [
      "   demwords: 1356\n",
      "   repwords: 1708\n",
      "    3064\n"
     ]
    }
   ],
   "source": [
    "all_rep_words = { key:dict(sorted_d)[key] for key in dict(sorted_d).keys() if key>0 }\n",
    "all_dem_words = { key:dict(sorted_d)[key] for key in dict(sorted_d).keys() if key<0 }\n",
    "print('   demwords:', len(all_dem_words))\n",
    "print('   repwords:', len(all_rep_words))\n",
    "print('   ', len(all_rep_words)+len(all_dem_words))"
   ]
  },
  {
   "cell_type": "code",
   "execution_count": 114,
   "metadata": {},
   "outputs": [],
   "source": [
    "results_list = []\n",
    "for i in range(50,100, 5):\n",
    "    j = i/100\n",
    "    temp_dict = {}\n",
    "    temp_dict['strength'] = j\n",
    "    temp_dict['dem_words'] = len([key for key in dict(sorted_d).keys() if key>j])\n",
    "    temp_dict['rep_words'] = len([key for key in dict(sorted_d).keys() if key<-j])\n",
    "    results_list.append(temp_dict)\n",
    "    \n"
   ]
  },
  {
   "cell_type": "code",
   "execution_count": 39,
   "metadata": {},
   "outputs": [
    {
     "data": {
      "text/plain": [
       "<matplotlib.axes._subplots.AxesSubplot at 0x16b961b4e10>"
      ]
     },
     "execution_count": 39,
     "metadata": {},
     "output_type": "execute_result"
    },
    {
     "data": {
      "image/png": "[encoded data removed]",
      "text/plain": [
       "<Figure size 432x288 with 1 Axes>"
      ]
     },
     "metadata": {},
     "output_type": "display_data"
    }
   ],
   "source": [
    "#Democrats talk about more things\n",
    "df_stregnths = pd.DataFrame(results_list)\n",
    "sns.pointplot('strength','dem_words', data=df_stregnths, color='b')\n",
    "sns.pointplot('strength','rep_words', data=df_stregnths, color='r')"
   ]
  },
  {
   "cell_type": "code",
   "execution_count": 40,
   "metadata": {},
   "outputs": [],
   "source": [
    "#compare predict probas\n",
    "probas = latest_model.predict_proba(test_x)\n",
    "dem_probs = []\n",
    "rep_probs = []\n",
    "for i in range(len(probas)):\n",
    "    if probas[i][0] >.5:\n",
    "        rep_probs.append(1-probas[i][0])\n",
    "    else:\n",
    "        dem_probs.append(probas[i][1])"
   ]
  },
  {
   "cell_type": "code",
   "execution_count": 41,
   "metadata": {},
   "outputs": [
    {
     "name": "stdout",
     "output_type": "stream",
     "text": [
      "    average dem score:  0.6227361226649912\n",
      "    average rep score:  0.3846176009029235\n"
     ]
    }
   ],
   "source": [
    "print('    average dem score: ', sum(dem_probs) / len(dem_probs))\n",
    "print('    average rep score: ', sum(rep_probs) / len(rep_probs))"
   ]
  },
  {
   "cell_type": "code",
   "execution_count": 42,
   "metadata": {},
   "outputs": [
    {
     "name": "stderr",
     "output_type": "stream",
     "text": [
      "C:\\ProgramData\\Anaconda3\\lib\\site-packages\\matplotlib\\axes\\_axes.py:6462: UserWarning: The 'normed' kwarg is deprecated, and has been replaced by the 'density' kwarg.\n",
      "  warnings.warn(\"The 'normed' kwarg is deprecated, and has been \"\n",
      "C:\\ProgramData\\Anaconda3\\lib\\site-packages\\matplotlib\\axes\\_axes.py:6462: UserWarning: The 'normed' kwarg is deprecated, and has been replaced by the 'density' kwarg.\n",
      "  warnings.warn(\"The 'normed' kwarg is deprecated, and has been \"\n"
     ]
    },
    {
     "data": {
      "text/plain": [
       "<matplotlib.axes._subplots.AxesSubplot at 0x16b96242cf8>"
      ]
     },
     "execution_count": 42,
     "metadata": {},
     "output_type": "execute_result"
    },
    {
     "data": {
      "image/png": "[encoded data removed]",
      "text/plain": [
       "<Figure size 432x288 with 1 Axes>"
      ]
     },
     "metadata": {},
     "output_type": "display_data"
    }
   ],
   "source": [
    "#Distribution of republican and Democrat strength scoring\n",
    "sns.distplot(dem_probs, label='dem', color='blue') \n",
    "sns.distplot(rep_probs, label='rep', color='red')"
   ]
  },
  {
   "cell_type": "code",
   "execution_count": 43,
   "metadata": {},
   "outputs": [
    {
     "data": {
      "text/plain": [
       "'\\nInterpretation: Republicans talk about fewer things, but those things are big indicators. Maybe it takes a higher number of keywords to trigger Dem prediction?\\nFor the purposes of applying this to a random subreddit, \\nwe want scores outside [.38 to .62], to be safe'"
      ]
     },
     "execution_count": 43,
     "metadata": {},
     "output_type": "execute_result"
    }
   ],
   "source": [
    "'''\n",
    "Interpretation: Republicans talk about fewer things, but those things are big indicators. Maybe it takes a higher number of keywords to trigger Dem prediction?\n",
    "For the purposes of applying this to a random subreddit, \n",
    "we want scores outside [.38 to .62], to be safe'''"
   ]
  },
  {
   "cell_type": "code",
   "execution_count": 115,
   "metadata": {},
   "outputs": [
    {
     "name": "stdout",
     "output_type": "stream",
     "text": [
      "   net:  -4.139435759544119\n",
      "   mean:  -0.0103227824427534\n"
     ]
    },
    {
     "name": "stderr",
     "output_type": "stream",
     "text": [
      "C:\\ProgramData\\Anaconda3\\lib\\site-packages\\matplotlib\\axes\\_axes.py:6462: UserWarning: The 'normed' kwarg is deprecated, and has been replaced by the 'density' kwarg.\n",
      "  warnings.warn(\"The 'normed' kwarg is deprecated, and has been \"\n"
     ]
    },
    {
     "data": {
      "image/png": "[encoded data removed]",
      "text/plain": [
       "<Figure size 432x288 with 1 Axes>"
      ]
     },
     "metadata": {},
     "output_type": "display_data"
    }
   ],
   "source": [
    "probas = latest_model.predict_proba(test_x)\n",
    "net_probs = []\n",
    "for i in range(len(probas)):\n",
    "    net_probs.append(probas[i][0] - probas[i][1]) #R minus D so that Republican == positive, \n",
    "\n",
    "sns.distplot(net_probs, label='rep', color='red')\n",
    "print('   net: ', sum(net_probs))\n",
    "print('   mean: ', np.average(net_probs))"
   ]
  },
  {
   "cell_type": "markdown",
   "metadata": {},
   "source": [
    "### Which posts were the most?"
   ]
  },
  {
   "cell_type": "code",
   "execution_count": 45,
   "metadata": {},
   "outputs": [],
   "source": [
    "df_checker = pd.DataFrame(pd.Series(test_y))"
   ]
  },
  {
   "cell_type": "code",
   "execution_count": 46,
   "metadata": {
    "scrolled": true
   },
   "outputs": [],
   "source": [
    "df_checker['rep_score'] = [probas[i][0] for i in range(len(probas))]\n",
    "df_checker['dem_score'] = [probas[i][1] for i in range(len(probas))]"
   ]
  },
  {
   "cell_type": "code",
   "execution_count": 47,
   "metadata": {},
   "outputs": [
    {
     "data": {
      "text/html": [
       "<div>\n",
       "<style scoped>\n",
       "    .dataframe tbody tr th:only-of-type {\n",
       "        vertical-align: middle;\n",
       "    }\n",
       "\n",
       "    .dataframe tbody tr th {\n",
       "        vertical-align: top;\n",
       "    }\n",
       "\n",
       "    .dataframe thead th {\n",
       "        text-align: right;\n",
       "    }\n",
       "</style>\n",
       "<table border=\"1\" class=\"dataframe\">\n",
       "  <thead>\n",
       "    <tr style=\"text-align: right;\">\n",
       "      <th></th>\n",
       "      <th>subreddit</th>\n",
       "      <th>rep_score</th>\n",
       "      <th>dem_score</th>\n",
       "    </tr>\n",
       "  </thead>\n",
       "  <tbody>\n",
       "    <tr>\n",
       "      <th>1867</th>\n",
       "      <td>Republican</td>\n",
       "      <td>0.730722</td>\n",
       "      <td>0.269278</td>\n",
       "    </tr>\n",
       "  </tbody>\n",
       "</table>\n",
       "</div>"
      ],
      "text/plain": [
       "       subreddit  rep_score  dem_score\n",
       "1867  Republican   0.730722   0.269278"
      ]
     },
     "execution_count": 47,
     "metadata": {},
     "output_type": "execute_result"
    }
   ],
   "source": [
    "#Most republican post\n",
    "df_checker[df_checker['rep_score']==df_checker['rep_score'].max()]"
   ]
  },
  {
   "cell_type": "code",
   "execution_count": 48,
   "metadata": {},
   "outputs": [
    {
     "data": {
      "text/html": [
       "<div>\n",
       "<style scoped>\n",
       "    .dataframe tbody tr th:only-of-type {\n",
       "        vertical-align: middle;\n",
       "    }\n",
       "\n",
       "    .dataframe tbody tr th {\n",
       "        vertical-align: top;\n",
       "    }\n",
       "\n",
       "    .dataframe thead th {\n",
       "        text-align: right;\n",
       "    }\n",
       "</style>\n",
       "<table border=\"1\" class=\"dataframe\">\n",
       "  <thead>\n",
       "    <tr style=\"text-align: right;\">\n",
       "      <th></th>\n",
       "      <th>subreddit</th>\n",
       "      <th>rep_score</th>\n",
       "      <th>dem_score</th>\n",
       "    </tr>\n",
       "  </thead>\n",
       "  <tbody>\n",
       "    <tr>\n",
       "      <th>239</th>\n",
       "      <td>democrats</td>\n",
       "      <td>0.151878</td>\n",
       "      <td>0.848122</td>\n",
       "    </tr>\n",
       "  </tbody>\n",
       "</table>\n",
       "</div>"
      ],
      "text/plain": [
       "     subreddit  rep_score  dem_score\n",
       "239  democrats   0.151878   0.848122"
      ]
     },
     "execution_count": 48,
     "metadata": {},
     "output_type": "execute_result"
    }
   ],
   "source": [
    "#Most democratic post\n",
    "df_checker[df_checker['dem_score']==df_checker['dem_score'].max()]"
   ]
  },
  {
   "cell_type": "code",
   "execution_count": 49,
   "metadata": {},
   "outputs": [
    {
     "data": {
      "text/plain": [
       "'R.I.P. McCain'"
      ]
     },
     "execution_count": 49,
     "metadata": {},
     "output_type": "execute_result"
    }
   ],
   "source": [
    "#The most democratic thing you could suggest right now:\n",
    "#df_init_DemRep.iloc[96:97, :] no selftext...\n",
    "df_init_DemRep['title'][239]"
   ]
  },
  {
   "cell_type": "code",
   "execution_count": 50,
   "metadata": {},
   "outputs": [
    {
     "data": {
      "text/plain": [
       "'U S Senate Candidate, Austin Petersen, on his Bid to Represent MO'"
      ]
     },
     "execution_count": 50,
     "metadata": {},
     "output_type": "execute_result"
    }
   ],
   "source": [
    "#The most Republican thing you could suggest right now:\n",
    "#df_init_DemRep.iloc[987:988, :]no selftext...\n",
    "df_init_DemRep['title'][1867]"
   ]
  },
  {
   "cell_type": "markdown",
   "metadata": {},
   "source": [
    "# Outside Testing\n",
    "---\n",
    "Getting scores and validation from 3rd and 4th subreddit. "
   ]
  },
  {
   "cell_type": "code",
   "execution_count": 51,
   "metadata": {},
   "outputs": [],
   "source": [
    "from scipy.stats import ttest_1samp"
   ]
  },
  {
   "cell_type": "markdown",
   "metadata": {},
   "source": [
    "## Outside Testing: The_Donald\n"
   ]
  },
  {
   "cell_type": "code",
   "execution_count": 132,
   "metadata": {},
   "outputs": [
    {
     "name": "stdout",
     "output_type": "stream",
     "text": [
      "    iteration 0 worked. URL: https://www.reddit.com/r/The_Donald/.json?after=t3_9coezc\n",
      "    iteration 1 worked. URL: https://www.reddit.com/r/The_Donald/.json?after=t3_9cly58\n",
      "    iteration 2 worked. URL: https://www.reddit.com/r/The_Donald/.json?after=t3_9cmdzg\n",
      "    iteration 3 worked. URL: https://www.reddit.com/r/The_Donald/.json?after=t3_9cpm1d\n",
      "    iteration 4 worked. URL: https://www.reddit.com/r/The_Donald/.json?after=t3_9cpbu3\n",
      "    iteration 5 worked. URL: https://www.reddit.com/r/The_Donald/.json?after=t3_9ckq7m\n",
      "    iteration 6 worked. URL: https://www.reddit.com/r/The_Donald/.json?after=t3_9cpqvs\n",
      "    iteration 7 worked. URL: https://www.reddit.com/r/The_Donald/.json?after=t3_9clac8\n",
      "    iteration 8 worked. URL: https://www.reddit.com/r/The_Donald/.json?after=t3_9cgzae\n",
      "    iteration 9 worked. URL: https://www.reddit.com/r/The_Donald/.json?after=t3_9coctc\n",
      "    iteration 10 worked. URL: https://www.reddit.com/r/The_Donald/.json?after=t3_9cnzb3\n",
      "    iteration 11 worked. URL: https://www.reddit.com/r/The_Donald/.json?after=t3_9coy0u\n",
      "    iteration 12 worked. URL: https://www.reddit.com/r/The_Donald/.json?after=t3_9cprq2\n",
      "    iteration 13 worked. URL: https://www.reddit.com/r/The_Donald/.json?after=t3_9cmngg\n",
      "    iteration 14 worked. URL: https://www.reddit.com/r/The_Donald/.json?after=t3_9cnw1k\n",
      "    iteration 15 worked. URL: https://www.reddit.com/r/The_Donald/.json?after=t3_9cqaxa\n",
      "    iteration 16 worked. URL: https://www.reddit.com/r/The_Donald/.json?after=t3_9cpw23\n",
      "    iteration 17 worked. URL: https://www.reddit.com/r/The_Donald/.json?after=t3_9cndce\n",
      "    iteration 18 worked. URL: https://www.reddit.com/r/The_Donald/.json?after=t3_9cnk2f\n",
      "    iteration 19 worked. URL: https://www.reddit.com/r/The_Donald/.json?after=t3_9chuds\n",
      "    size:  (502, 3)\n"
     ]
    },
    {
     "data": {
      "text/html": [
       "<div>\n",
       "<style scoped>\n",
       "    .dataframe tbody tr th:only-of-type {\n",
       "        vertical-align: middle;\n",
       "    }\n",
       "\n",
       "    .dataframe tbody tr th {\n",
       "        vertical-align: top;\n",
       "    }\n",
       "\n",
       "    .dataframe thead th {\n",
       "        text-align: right;\n",
       "    }\n",
       "</style>\n",
       "<table border=\"1\" class=\"dataframe\">\n",
       "  <thead>\n",
       "    <tr style=\"text-align: right;\">\n",
       "      <th></th>\n",
       "      <th>selftext</th>\n",
       "      <th>subreddit</th>\n",
       "      <th>title</th>\n",
       "    </tr>\n",
       "  </thead>\n",
       "  <tbody>\n",
       "    <tr>\n",
       "      <th>0</th>\n",
       "      <td></td>\n",
       "      <td>The_Donald</td>\n",
       "      <td>GEOTUS calls out President Bashar Al-Assad of ...</td>\n",
       "    </tr>\n",
       "    <tr>\n",
       "      <th>1</th>\n",
       "      <td></td>\n",
       "      <td>The_Donald</td>\n",
       "      <td>Afghan asylum seeker is jailed for eight years...</td>\n",
       "    </tr>\n",
       "    <tr>\n",
       "      <th>2</th>\n",
       "      <td></td>\n",
       "      <td>The_Donald</td>\n",
       "      <td>I see that John Kerry, the father of the now t...</td>\n",
       "    </tr>\n",
       "    <tr>\n",
       "      <th>3</th>\n",
       "      <td></td>\n",
       "      <td>The_Donald</td>\n",
       "      <td>He could have kept to his billionaire lifestyl...</td>\n",
       "    </tr>\n",
       "    <tr>\n",
       "      <th>4</th>\n",
       "      <td></td>\n",
       "      <td>The_Donald</td>\n",
       "      <td>Blue Wave 2018- Ben Garrison cartoon! Beach Cl...</td>\n",
       "    </tr>\n",
       "  </tbody>\n",
       "</table>\n",
       "</div>"
      ],
      "text/plain": [
       "  selftext   subreddit                                              title\n",
       "0           The_Donald  GEOTUS calls out President Bashar Al-Assad of ...\n",
       "1           The_Donald  Afghan asylum seeker is jailed for eight years...\n",
       "2           The_Donald  I see that John Kerry, the father of the now t...\n",
       "3           The_Donald  He could have kept to his billionaire lifestyl...\n",
       "4           The_Donald  Blue Wave 2018- Ben Garrison cartoon! Beach Cl..."
      ]
     },
     "execution_count": 132,
     "metadata": {},
     "output_type": "execute_result"
    }
   ],
   "source": [
    "data_list = []\n",
    "base_url = \"https://www.reddit.com/r/The_Donald/.json\"\n",
    "URL = base_url\n",
    "#seems to be a cap at 20\n",
    "for step in range(20):\n",
    "    res = requests.get(URL, headers={'User-agent': 'Conor Barry Bot 0.1'})\n",
    "    data = res.json()\n",
    "    \n",
    "    for i in range(len(data['data']['children'])):\n",
    "        temp = {}\n",
    "        temp['subreddit'] = data['data']['children'][i]['data']['subreddit_name_prefixed'].replace('r/', '')\n",
    "        temp['title']=data['data']['children'][i]['data']['title']\n",
    "        temp['selftext'] = data['data']['children'][i]['data']['selftext']\n",
    "        data_list.append(temp)\n",
    "\n",
    "    new_after = data['data']['after']\n",
    "    URL = base_url + \"?after=\" + new_after\n",
    "    print('    iteration {} worked. URL: {}'.format(step, URL))\n",
    "    time.sleep(3)\n",
    "    \n",
    "df_donald_scrape = pd.DataFrame(data_list)\n",
    "print('    size: ', df_donald_scrape.shape)\n",
    "# Export to csv\n",
    "df_donald_scrape.to_csv('./Data/TheDonaldPosts_9_03_A.csv', index=False)\n",
    "df_donald_scrape.head()"
   ]
  },
  {
   "cell_type": "code",
   "execution_count": 103,
   "metadata": {
    "scrolled": true
   },
   "outputs": [],
   "source": [
    "#Jump into analysis for this subreddit here from here\n",
    "df_data_current = pd.read_csv('./Data/TheDonaldPosts_9_03_A.csv').loc[:, ['title']]\n",
    "X_cur = latest_transform.transform(df_data_current.title).todense()\n",
    "df_cur_predictions = pd.DataFrame(latest_model.predict(X_cur),\n",
    "                                 columns=['Party'])\n",
    "mask = {\n",
    "    'democrats': 1,\n",
    "    'Republican': 0\n",
    "}\n",
    "df_cur_predictions = pd.DataFrame(df_cur_predictions['Party'].map(mask), columns=['Party'])\n",
    "df_cur_predictions = df_cur_predictions.join(pd.DataFrame(latest_model.predict_proba(X_cur), columns = ['rep_score', 'dem_score'] ))"
   ]
  },
  {
   "cell_type": "code",
   "execution_count": 104,
   "metadata": {},
   "outputs": [
    {
     "data": {
      "text/plain": [
       "0.448207171314741"
      ]
     },
     "execution_count": 104,
     "metadata": {},
     "output_type": "execute_result"
    }
   ],
   "source": [
    "#Average score - <.5 means republican\n",
    "df_cur_predictions['Party'].mean()"
   ]
  },
  {
   "cell_type": "code",
   "execution_count": 105,
   "metadata": {},
   "outputs": [
    {
     "data": {
      "text/plain": [
       "0.014453635838326269"
      ]
     },
     "execution_count": 105,
     "metadata": {},
     "output_type": "execute_result"
    }
   ],
   "source": [
    "(df_cur_predictions['Party'].mean() - rep_prior) / rep_prior"
   ]
  },
  {
   "cell_type": "code",
   "execution_count": 106,
   "metadata": {},
   "outputs": [
    {
     "name": "stdout",
     "output_type": "stream",
     "text": [
      "    average dem score:  0.5768999974879451\n",
      "    average rep score:  0.4415937219592944\n",
      "    net score:  -52\n"
     ]
    },
    {
     "name": "stderr",
     "output_type": "stream",
     "text": [
      "C:\\ProgramData\\Anaconda3\\lib\\site-packages\\matplotlib\\axes\\_axes.py:6462: UserWarning: The 'normed' kwarg is deprecated, and has been replaced by the 'density' kwarg.\n",
      "  warnings.warn(\"The 'normed' kwarg is deprecated, and has been \"\n",
      "C:\\ProgramData\\Anaconda3\\lib\\site-packages\\matplotlib\\axes\\_axes.py:6462: UserWarning: The 'normed' kwarg is deprecated, and has been replaced by the 'density' kwarg.\n",
      "  warnings.warn(\"The 'normed' kwarg is deprecated, and has been \"\n"
     ]
    },
    {
     "data": {
      "image/png": "[encoded data removed]",
      "text/plain": [
       "<Figure size 432x288 with 1 Axes>"
      ]
     },
     "metadata": {},
     "output_type": "display_data"
    }
   ],
   "source": [
    "probas = latest_model.predict_proba(X_cur)\n",
    "min_prob = .5\n",
    "dem_probs = []\n",
    "rep_probs = []\n",
    "for i in range(len(probas)):\n",
    "    if probas[i][0] >min_prob:\n",
    "        rep_probs.append(1-probas[i][0])\n",
    "    elif probas[i][1]>min_prob:\n",
    "        dem_probs.append(probas[i][1])\n",
    "print('    average dem score: ', sum(dem_probs) / len(dem_probs))\n",
    "print('    average rep score: ', sum(rep_probs) / len(rep_probs))\n",
    "\n",
    "print('    net score: ', len(dem_probs) -len(rep_probs) )\n",
    "#Distribution of republican and Democrat strength scoring\n",
    "sns.distplot(dem_probs, label='dem', color='blue') \n",
    "sns.distplot(rep_probs, label='rep', color='red')\n",
    "plt.savefig('./Presentation/OutputFigs/DonaldComparison.png')"
   ]
  },
  {
   "cell_type": "code",
   "execution_count": 107,
   "metadata": {},
   "outputs": [
    {
     "name": "stderr",
     "output_type": "stream",
     "text": [
      "C:\\ProgramData\\Anaconda3\\lib\\site-packages\\matplotlib\\axes\\_axes.py:6462: UserWarning: The 'normed' kwarg is deprecated, and has been replaced by the 'density' kwarg.\n",
      "  warnings.warn(\"The 'normed' kwarg is deprecated, and has been \"\n"
     ]
    },
    {
     "name": "stdout",
     "output_type": "stream",
     "text": [
      "   net:  -2.247920835024381\n",
      "   mean:  -0.004477929950247767\n"
     ]
    },
    {
     "data": {
      "image/png": "[encoded data removed]",
      "text/plain": [
       "<Figure size 432x288 with 1 Axes>"
      ]
     },
     "metadata": {},
     "output_type": "display_data"
    }
   ],
   "source": [
    "probas = latest_model.predict_proba(X_cur)\n",
    "net_probs = []\n",
    "for i in range(len(probas)):\n",
    "    net_probs.append(probas[i][0] - probas[i][1]) #R minus D so that Republican == positive, \n",
    "\n",
    "sns.distplot(net_probs, label='rep', color='red')\n",
    "print('   net: ', sum(net_probs))\n",
    "print('   mean: ', np.average(net_probs))\n",
    "plt.savefig('./Presentation/OutputFigs/DonaldNet.png')"
   ]
  },
  {
   "cell_type": "markdown",
   "metadata": {},
   "source": [
    "## Outside Testing: cats\n"
   ]
  },
  {
   "cell_type": "code",
   "execution_count": 193,
   "metadata": {},
   "outputs": [
    {
     "name": "stdout",
     "output_type": "stream",
     "text": [
      "    iteration 0 worked. URL: https://www.reddit.com/r/cats/.json?after=t3_9cn1v8\n",
      "    iteration 1 worked. URL: https://www.reddit.com/r/cats/.json?after=t3_9cn8tt\n",
      "    iteration 2 worked. URL: https://www.reddit.com/r/cats/.json?after=t3_9couf1\n",
      "    iteration 3 worked. URL: https://www.reddit.com/r/cats/.json?after=t3_9ckwel\n",
      "    iteration 4 worked. URL: https://www.reddit.com/r/cats/.json?after=t3_9cq5p6\n",
      "    iteration 5 worked. URL: https://www.reddit.com/r/cats/.json?after=t3_9cpxx4\n",
      "    iteration 6 worked. URL: https://www.reddit.com/r/cats/.json?after=t3_9cmraq\n",
      "    iteration 7 worked. URL: https://www.reddit.com/r/cats/.json?after=t3_9cmu8z\n",
      "    iteration 8 worked. URL: https://www.reddit.com/r/cats/.json?after=t3_9cpozs\n",
      "    iteration 9 worked. URL: https://www.reddit.com/r/cats/.json?after=t3_9clleo\n",
      "    iteration 10 worked. URL: https://www.reddit.com/r/cats/.json?after=t3_9cpfky\n",
      "    iteration 11 worked. URL: https://www.reddit.com/r/cats/.json?after=t3_9cn3e8\n",
      "    iteration 12 worked. URL: https://www.reddit.com/r/cats/.json?after=t3_9cm09l\n",
      "    iteration 13 worked. URL: https://www.reddit.com/r/cats/.json?after=t3_9cnex7\n",
      "    iteration 14 worked. URL: https://www.reddit.com/r/cats/.json?after=t3_9cdzi4\n",
      "    iteration 15 worked. URL: https://www.reddit.com/r/cats/.json?after=t3_9ce3rs\n",
      "    iteration 16 worked. URL: https://www.reddit.com/r/cats/.json?after=t3_9cirqd\n",
      "    iteration 17 worked. URL: https://www.reddit.com/r/cats/.json?after=t3_9c9cgg\n",
      "    iteration 18 worked. URL: https://www.reddit.com/r/cats/.json?after=t3_9ckl17\n",
      "    iteration 19 worked. URL: https://www.reddit.com/r/cats/.json?after=t3_9ch69h\n",
      "    size:  (500, 3)\n"
     ]
    },
    {
     "data": {
      "text/html": [
       "<div>\n",
       "<style scoped>\n",
       "    .dataframe tbody tr th:only-of-type {\n",
       "        vertical-align: middle;\n",
       "    }\n",
       "\n",
       "    .dataframe tbody tr th {\n",
       "        vertical-align: top;\n",
       "    }\n",
       "\n",
       "    .dataframe thead th {\n",
       "        text-align: right;\n",
       "    }\n",
       "</style>\n",
       "<table border=\"1\" class=\"dataframe\">\n",
       "  <thead>\n",
       "    <tr style=\"text-align: right;\">\n",
       "      <th></th>\n",
       "      <th>selftext</th>\n",
       "      <th>subreddit</th>\n",
       "      <th>title</th>\n",
       "    </tr>\n",
       "  </thead>\n",
       "  <tbody>\n",
       "    <tr>\n",
       "      <th>0</th>\n",
       "      <td></td>\n",
       "      <td>cats</td>\n",
       "      <td>We got Ruth from a rescue centre. She follows ...</td>\n",
       "    </tr>\n",
       "    <tr>\n",
       "      <th>1</th>\n",
       "      <td></td>\n",
       "      <td>cats</td>\n",
       "      <td>She’s been gone four months, but I still miss ...</td>\n",
       "    </tr>\n",
       "    <tr>\n",
       "      <th>2</th>\n",
       "      <td></td>\n",
       "      <td>cats</td>\n",
       "      <td>After a long battle with kidney disease, Squea...</td>\n",
       "    </tr>\n",
       "    <tr>\n",
       "      <th>3</th>\n",
       "      <td></td>\n",
       "      <td>cats</td>\n",
       "      <td>16 Year Old Bookmark</td>\n",
       "    </tr>\n",
       "    <tr>\n",
       "      <th>4</th>\n",
       "      <td></td>\n",
       "      <td>cats</td>\n",
       "      <td>He hates being held, but today he actually cli...</td>\n",
       "    </tr>\n",
       "  </tbody>\n",
       "</table>\n",
       "</div>"
      ],
      "text/plain": [
       "  selftext subreddit                                              title\n",
       "0               cats  We got Ruth from a rescue centre. She follows ...\n",
       "1               cats  She’s been gone four months, but I still miss ...\n",
       "2               cats  After a long battle with kidney disease, Squea...\n",
       "3               cats                               16 Year Old Bookmark\n",
       "4               cats  He hates being held, but today he actually cli..."
      ]
     },
     "execution_count": 193,
     "metadata": {},
     "output_type": "execute_result"
    }
   ],
   "source": [
    "data_list = []\n",
    "base_url = \"https://www.reddit.com/r/cats/.json\"\n",
    "URL = base_url\n",
    "#seems to be a cap at 20\n",
    "for step in range(20):\n",
    "    res = requests.get(URL, headers={'User-agent': 'Conor Barry Bot 0.1'})\n",
    "    data = res.json()\n",
    "    \n",
    "    for i in range(len(data['data']['children'])):\n",
    "        temp = {}\n",
    "        temp['subreddit'] = data['data']['children'][i]['data']['subreddit_name_prefixed'].replace('r/', '')\n",
    "        temp['title']=data['data']['children'][i]['data']['title']\n",
    "        temp['selftext'] = data['data']['children'][i]['data']['selftext']\n",
    "        data_list.append(temp)\n",
    "\n",
    "    new_after = data['data']['after']\n",
    "    URL = base_url + \"?after=\" + new_after\n",
    "    print('    iteration {} worked. URL: {}'.format(step, URL))\n",
    "    time.sleep(3)\n",
    "    \n",
    "df_cats_scrape = pd.DataFrame(data_list)\n",
    "print('    size: ', df_cats_scrape.shape)\n",
    "# Export to csv\n",
    "df_cats_scrape.to_csv('./Data/catsPosts_9_03_A.csv', index=False)\n",
    "df_cats_scrape.head()"
   ]
  },
  {
   "cell_type": "code",
   "execution_count": 82,
   "metadata": {
    "scrolled": true
   },
   "outputs": [],
   "source": [
    "df_data_current = pd.read_csv('./Data/catsPosts_9_03_A.csv').loc[:, ['title']]\n",
    "X_cur = latest_transform.transform(df_data_current.title).todense()\n",
    "df_cur_predictions = pd.DataFrame(latest_model.predict(X_cur),\n",
    "                                 columns=['Party'])\n",
    "mask = {\n",
    "    'democrats': 1,\n",
    "    'Republican': 0\n",
    "}\n",
    "df_cur_predictions = pd.DataFrame(df_cur_predictions['Party'].map(mask), columns=['Party'])\n",
    "df_cur_predictions = df_cur_predictions.join(pd.DataFrame(latest_model.predict_proba(X_cur), columns = ['rep_score', 'dem_score'] ))"
   ]
  },
  {
   "cell_type": "code",
   "execution_count": 83,
   "metadata": {},
   "outputs": [
    {
     "data": {
      "text/plain": [
       "0.234"
      ]
     },
     "execution_count": 83,
     "metadata": {},
     "output_type": "execute_result"
    }
   ],
   "source": [
    "#Average score - <.5 means republican\n",
    "df_cur_predictions['Party'].mean()"
   ]
  },
  {
   "cell_type": "code",
   "execution_count": 84,
   "metadata": {},
   "outputs": [
    {
     "data": {
      "text/plain": [
       "-0.4703740458015266"
      ]
     },
     "execution_count": 84,
     "metadata": {},
     "output_type": "execute_result"
    }
   ],
   "source": [
    "(df_cur_predictions['Party'].mean() - rep_prior) / rep_prior"
   ]
  },
  {
   "cell_type": "code",
   "execution_count": 69,
   "metadata": {
    "scrolled": true
   },
   "outputs": [
    {
     "name": "stdout",
     "output_type": "stream",
     "text": [
      "    average dem score:  0.5412800837091407\n",
      "    average rep score:  0.45083541264055965\n",
      "    net score:  -266\n"
     ]
    },
    {
     "name": "stderr",
     "output_type": "stream",
     "text": [
      "C:\\ProgramData\\Anaconda3\\lib\\site-packages\\matplotlib\\axes\\_axes.py:6462: UserWarning: The 'normed' kwarg is deprecated, and has been replaced by the 'density' kwarg.\n",
      "  warnings.warn(\"The 'normed' kwarg is deprecated, and has been \"\n",
      "C:\\ProgramData\\Anaconda3\\lib\\site-packages\\matplotlib\\axes\\_axes.py:6462: UserWarning: The 'normed' kwarg is deprecated, and has been replaced by the 'density' kwarg.\n",
      "  warnings.warn(\"The 'normed' kwarg is deprecated, and has been \"\n"
     ]
    },
    {
     "data": {
      "image/png": "[encoded data removed]",
      "text/plain": [
       "<Figure size 432x288 with 1 Axes>"
      ]
     },
     "metadata": {},
     "output_type": "display_data"
    }
   ],
   "source": [
    "probas = latest_model.predict_proba(X_cur)\n",
    "min_prob = .5\n",
    "dem_probs = []\n",
    "rep_probs = []\n",
    "for i in range(len(probas)):\n",
    "    if probas[i][0] >min_prob:\n",
    "        rep_probs.append(1-probas[i][0])\n",
    "    elif probas[i][1]>min_prob:\n",
    "        dem_probs.append(probas[i][1])\n",
    "print('    average dem score: ', sum(dem_probs) / len(dem_probs))\n",
    "print('    average rep score: ', sum(rep_probs) / len(rep_probs))\n",
    "\n",
    "print('    net score: ', len(dem_probs) -len(rep_probs) )\n",
    "#Distribution of republican and Democrat strength scoring\n",
    "sns.distplot(dem_probs, label='dem', color='blue') \n",
    "sns.distplot(rep_probs, label='rep', color='red')\n",
    "plt.savefig('./Presentation/OutputFigs/catsComparison.png')"
   ]
  },
  {
   "cell_type": "code",
   "execution_count": 85,
   "metadata": {},
   "outputs": [
    {
     "name": "stderr",
     "output_type": "stream",
     "text": [
      "C:\\ProgramData\\Anaconda3\\lib\\site-packages\\matplotlib\\axes\\_axes.py:6462: UserWarning: The 'normed' kwarg is deprecated, and has been replaced by the 'density' kwarg.\n",
      "  warnings.warn(\"The 'normed' kwarg is deprecated, and has been \"\n"
     ]
    },
    {
     "name": "stdout",
     "output_type": "stream",
     "text": [
      "   net:  28.00053432939172\n",
      "   mean:  0.056001068658783404\n"
     ]
    },
    {
     "data": {
      "image/png": "[encoded data removed]",
      "text/plain": [
       "<Figure size 432x288 with 1 Axes>"
      ]
     },
     "metadata": {},
     "output_type": "display_data"
    }
   ],
   "source": [
    "probas = latest_model.predict_proba(X_cur)\n",
    "net_probs = []\n",
    "for i in range(len(probas)):\n",
    "    net_probs.append(probas[i][0] - probas[i][1]) #R minus D so that Republican == positive, \n",
    "\n",
    "sns.distplot(net_probs, label='rep', color='red')\n",
    "print('   net: ', sum(net_probs))\n",
    "print('   mean: ', np.average(net_probs))\n",
    "plt.savefig('./Presentation/OutputFigs/catsNet.png')"
   ]
  },
  {
   "cell_type": "markdown",
   "metadata": {},
   "source": [
    "## Outside Testing: dogs\n"
   ]
  },
  {
   "cell_type": "code",
   "execution_count": 198,
   "metadata": {},
   "outputs": [
    {
     "name": "stdout",
     "output_type": "stream",
     "text": [
      "    iteration 0 worked. URL: https://www.reddit.com/r/dogs/.json?after=t3_9cq4rj\n",
      "    iteration 1 worked. URL: https://www.reddit.com/r/dogs/.json?after=t3_9cdkbj\n",
      "    iteration 2 worked. URL: https://www.reddit.com/r/dogs/.json?after=t3_9ch3f8\n",
      "    iteration 3 worked. URL: https://www.reddit.com/r/dogs/.json?after=t3_9cdqv8\n",
      "    iteration 4 worked. URL: https://www.reddit.com/r/dogs/.json?after=t3_9cc9xc\n",
      "    iteration 5 worked. URL: https://www.reddit.com/r/dogs/.json?after=t3_9c79yo\n",
      "    iteration 6 worked. URL: https://www.reddit.com/r/dogs/.json?after=t3_9c7y7z\n",
      "    iteration 7 worked. URL: https://www.reddit.com/r/dogs/.json?after=t3_9c35rl\n",
      "    iteration 8 worked. URL: https://www.reddit.com/r/dogs/.json?after=t3_9btyjs\n",
      "    iteration 9 worked. URL: https://www.reddit.com/r/dogs/.json?after=t3_9c01fp\n",
      "    iteration 10 worked. URL: https://www.reddit.com/r/dogs/.json?after=t3_9bqjzl\n",
      "    iteration 11 worked. URL: https://www.reddit.com/r/dogs/.json?after=t3_9bqj4z\n",
      "    iteration 12 worked. URL: https://www.reddit.com/r/dogs/.json?after=t3_9bmwa5\n",
      "    iteration 13 worked. URL: https://www.reddit.com/r/dogs/.json?after=t3_9bi26t\n",
      "    iteration 14 worked. URL: https://www.reddit.com/r/dogs/.json?after=t3_9bg9qn\n",
      "    iteration 15 worked. URL: https://www.reddit.com/r/dogs/.json?after=t3_9bdrxj\n",
      "    iteration 16 worked. URL: https://www.reddit.com/r/dogs/.json?after=t3_9b6idl\n",
      "    iteration 17 worked. URL: https://www.reddit.com/r/dogs/.json?after=t3_9b2w4w\n",
      "    iteration 18 worked. URL: https://www.reddit.com/r/dogs/.json?after=t3_9b3cub\n",
      "    iteration 19 worked. URL: https://www.reddit.com/r/dogs/.json?after=t3_9azx6y\n",
      "    size:  (502, 3)\n"
     ]
    },
    {
     "data": {
      "text/html": [
       "<div>\n",
       "<style scoped>\n",
       "    .dataframe tbody tr th:only-of-type {\n",
       "        vertical-align: middle;\n",
       "    }\n",
       "\n",
       "    .dataframe tbody tr th {\n",
       "        vertical-align: top;\n",
       "    }\n",
       "\n",
       "    .dataframe thead th {\n",
       "        text-align: right;\n",
       "    }\n",
       "</style>\n",
       "<table border=\"1\" class=\"dataframe\">\n",
       "  <thead>\n",
       "    <tr style=\"text-align: right;\">\n",
       "      <th></th>\n",
       "      <th>selftext</th>\n",
       "      <th>subreddit</th>\n",
       "      <th>title</th>\n",
       "    </tr>\n",
       "  </thead>\n",
       "  <tbody>\n",
       "    <tr>\n",
       "      <th>0</th>\n",
       "      <td>Dogs working because they love us, because we ...</td>\n",
       "      <td>dogs</td>\n",
       "      <td>[Photo Friday] A Labor of Love</td>\n",
       "    </tr>\n",
       "    <tr>\n",
       "      <th>1</th>\n",
       "      <td>For the September Trick of the Month, we’ll be...</td>\n",
       "      <td>dogs</td>\n",
       "      <td>[Discussion] Trick of the Month - September 20...</td>\n",
       "    </tr>\n",
       "    <tr>\n",
       "      <th>2</th>\n",
       "      <td>Ok, she's actually a great dog; troublemaker m...</td>\n",
       "      <td>dogs</td>\n",
       "      <td>[Fluff] My energetic troublemaker made me prou...</td>\n",
       "    </tr>\n",
       "    <tr>\n",
       "      <th>3</th>\n",
       "      <td>I was told he's a Pitt/Lab mix and he looks li...</td>\n",
       "      <td>dogs</td>\n",
       "      <td>[FLUFF] Every time someone asks what breed my ...</td>\n",
       "    </tr>\n",
       "    <tr>\n",
       "      <th>4</th>\n",
       "      <td>I came to his subreddit asking to learn about ...</td>\n",
       "      <td>dogs</td>\n",
       "      <td>[Discussion] Sometimes you do everything “righ...</td>\n",
       "    </tr>\n",
       "  </tbody>\n",
       "</table>\n",
       "</div>"
      ],
      "text/plain": [
       "                                            selftext subreddit  \\\n",
       "0  Dogs working because they love us, because we ...      dogs   \n",
       "1  For the September Trick of the Month, we’ll be...      dogs   \n",
       "2  Ok, she's actually a great dog; troublemaker m...      dogs   \n",
       "3  I was told he's a Pitt/Lab mix and he looks li...      dogs   \n",
       "4  I came to his subreddit asking to learn about ...      dogs   \n",
       "\n",
       "                                               title  \n",
       "0                     [Photo Friday] A Labor of Love  \n",
       "1  [Discussion] Trick of the Month - September 20...  \n",
       "2  [Fluff] My energetic troublemaker made me prou...  \n",
       "3  [FLUFF] Every time someone asks what breed my ...  \n",
       "4  [Discussion] Sometimes you do everything “righ...  "
      ]
     },
     "execution_count": 198,
     "metadata": {},
     "output_type": "execute_result"
    }
   ],
   "source": [
    "data_list = []\n",
    "base_url = \"https://www.reddit.com/r/dogs/.json\"\n",
    "URL = base_url\n",
    "#seems to be a cap at 20\n",
    "for step in range(20):\n",
    "    res = requests.get(URL, headers={'User-agent': 'Conor Barry Bot 0.1'})\n",
    "    data = res.json()\n",
    "    \n",
    "    for i in range(len(data['data']['children'])):\n",
    "        temp = {}\n",
    "        temp['subreddit'] = data['data']['children'][i]['data']['subreddit_name_prefixed'].replace('r/', '')\n",
    "        temp['title']=data['data']['children'][i]['data']['title']\n",
    "        temp['selftext'] = data['data']['children'][i]['data']['selftext']\n",
    "        data_list.append(temp)\n",
    "\n",
    "    new_after = data['data']['after']\n",
    "    URL = base_url + \"?after=\" + new_after\n",
    "    print('    iteration {} worked. URL: {}'.format(step, URL))\n",
    "    time.sleep(3)\n",
    "    \n",
    "df_dogs_scrape = pd.DataFrame(data_list)\n",
    "print('    size: ', df_dogs_scrape.shape)\n",
    "# Export to csv\n",
    "df_dogs_scrape.to_csv('./Data/dogsPosts_9_03_A.csv', index=False)\n",
    "df_dogs_scrape.head()"
   ]
  },
  {
   "cell_type": "code",
   "execution_count": 71,
   "metadata": {
    "scrolled": true
   },
   "outputs": [],
   "source": [
    "df_data_current = pd.read_csv('./Data/dogsPosts_9_03_A.csv').loc[:, ['title']]\n",
    "X_cur = latest_transform.transform(df_data_current.title).todense()\n",
    "df_cur_predictions = pd.DataFrame(latest_model.predict(X_cur),\n",
    "                                 columns=['Party'])\n",
    "mask = {\n",
    "    'democrats': 1,\n",
    "    'Republican': 0\n",
    "}\n",
    "df_cur_predictions = pd.DataFrame(df_cur_predictions['Party'].map(mask), columns=['Party'])\n",
    "df_cur_predictions = df_cur_predictions.join(pd.DataFrame(latest_model.predict_proba(X_cur), columns = ['rep_score', 'dem_score'] ))"
   ]
  },
  {
   "cell_type": "code",
   "execution_count": 72,
   "metadata": {},
   "outputs": [
    {
     "data": {
      "text/plain": [
       "0.5537848605577689"
      ]
     },
     "execution_count": 72,
     "metadata": {},
     "output_type": "execute_result"
    }
   ],
   "source": [
    "#Average score - <.5 means republican\n",
    "df_cur_predictions['Party'].mean()"
   ]
  },
  {
   "cell_type": "code",
   "execution_count": 73,
   "metadata": {},
   "outputs": [
    {
     "data": {
      "text/plain": [
       "-0.007871835919163472"
      ]
     },
     "execution_count": 73,
     "metadata": {},
     "output_type": "execute_result"
    }
   ],
   "source": [
    "(df_cur_predictions['Party'].mean() - dem_prior) / dem_prior"
   ]
  },
  {
   "cell_type": "code",
   "execution_count": 74,
   "metadata": {
    "scrolled": true
   },
   "outputs": [
    {
     "name": "stdout",
     "output_type": "stream",
     "text": [
      "    average dem score:  0.5535483157532352\n",
      "    average rep score:  0.46651164878686907\n",
      "    net score:  54\n"
     ]
    },
    {
     "name": "stderr",
     "output_type": "stream",
     "text": [
      "C:\\ProgramData\\Anaconda3\\lib\\site-packages\\matplotlib\\axes\\_axes.py:6462: UserWarning: The 'normed' kwarg is deprecated, and has been replaced by the 'density' kwarg.\n",
      "  warnings.warn(\"The 'normed' kwarg is deprecated, and has been \"\n",
      "C:\\ProgramData\\Anaconda3\\lib\\site-packages\\matplotlib\\axes\\_axes.py:6462: UserWarning: The 'normed' kwarg is deprecated, and has been replaced by the 'density' kwarg.\n",
      "  warnings.warn(\"The 'normed' kwarg is deprecated, and has been \"\n"
     ]
    },
    {
     "data": {
      "image/png": "[encoded data removed]",
      "text/plain": [
       "<Figure size 432x288 with 1 Axes>"
      ]
     },
     "metadata": {},
     "output_type": "display_data"
    }
   ],
   "source": [
    "probas = latest_model.predict_proba(X_cur)\n",
    "min_prob = .5\n",
    "dem_probs = []\n",
    "rep_probs = []\n",
    "for i in range(len(probas)):\n",
    "    if probas[i][0] >min_prob:\n",
    "        rep_probs.append(1-probas[i][0])\n",
    "    elif probas[i][1]>min_prob:\n",
    "        dem_probs.append(probas[i][1])\n",
    "print('    average dem score: ', sum(dem_probs) / len(dem_probs))\n",
    "print('    average rep score: ', sum(rep_probs) / len(rep_probs))\n",
    "\n",
    "print('    net score: ', len(dem_probs) -len(rep_probs) )\n",
    "#Distribution of republican and Democrat strength scoring\n",
    "sns.distplot(dem_probs, label='dem', color='blue') \n",
    "sns.distplot(rep_probs, label='rep', color='red')\n",
    "plt.savefig('./Presentation/OutputFigs/dogsComparison.png')"
   ]
  },
  {
   "cell_type": "code",
   "execution_count": 81,
   "metadata": {},
   "outputs": [
    {
     "name": "stdout",
     "output_type": "stream",
     "text": [
      "   net:  -14.77008221531569\n",
      "   net:  -0.029422474532501335\n"
     ]
    },
    {
     "name": "stderr",
     "output_type": "stream",
     "text": [
      "C:\\ProgramData\\Anaconda3\\lib\\site-packages\\matplotlib\\axes\\_axes.py:6462: UserWarning: The 'normed' kwarg is deprecated, and has been replaced by the 'density' kwarg.\n",
      "  warnings.warn(\"The 'normed' kwarg is deprecated, and has been \"\n"
     ]
    },
    {
     "data": {
      "image/png": "[encoded data removed]",
      "text/plain": [
       "<Figure size 432x288 with 1 Axes>"
      ]
     },
     "metadata": {},
     "output_type": "display_data"
    }
   ],
   "source": [
    "probas = latest_model.predict_proba(X_cur)\n",
    "net_probs = []\n",
    "for i in range(len(probas)):\n",
    "    net_probs.append(probas[i][0] - probas[i][1]) #R minus D so that Republican == positive, \n",
    "\n",
    "sns.distplot(net_probs, label='rep', color='blue')\n",
    "print('   net: ', sum(net_probs))\n",
    "print('   net: ', np.average(net_probs))\n",
    "plt.savefig('./Presentation/OutputFigs/DogsNet.png')"
   ]
  },
  {
   "cell_type": "markdown",
   "metadata": {},
   "source": [
    "## Outside Testing: Communism\n"
   ]
  },
  {
   "cell_type": "code",
   "execution_count": 205,
   "metadata": {},
   "outputs": [
    {
     "name": "stdout",
     "output_type": "stream",
     "text": [
      "    iteration 0 worked. URL: https://www.reddit.com/r/communism/.json?after=t3_9ceees\n",
      "    iteration 1 worked. URL: https://www.reddit.com/r/communism/.json?after=t3_9bnga9\n",
      "    iteration 2 worked. URL: https://www.reddit.com/r/communism/.json?after=t3_9amdqk\n",
      "    iteration 3 worked. URL: https://www.reddit.com/r/communism/.json?after=t3_99ygtk\n",
      "    iteration 4 worked. URL: https://www.reddit.com/r/communism/.json?after=t3_99bfol\n",
      "    iteration 5 worked. URL: https://www.reddit.com/r/communism/.json?after=t3_98dsl8\n",
      "    iteration 6 worked. URL: https://www.reddit.com/r/communism/.json?after=t3_97l9f8\n",
      "    iteration 7 worked. URL: https://www.reddit.com/r/communism/.json?after=t3_9745gs\n",
      "    iteration 8 worked. URL: https://www.reddit.com/r/communism/.json?after=t3_969lij\n",
      "    iteration 9 worked. URL: https://www.reddit.com/r/communism/.json?after=t3_95pjau\n",
      "    iteration 10 worked. URL: https://www.reddit.com/r/communism/.json?after=t3_95093m\n",
      "    iteration 11 worked. URL: https://www.reddit.com/r/communism/.json?after=t3_94c6r5\n",
      "    iteration 12 worked. URL: https://www.reddit.com/r/communism/.json?after=t3_93iwq1\n",
      "    iteration 13 worked. URL: https://www.reddit.com/r/communism/.json?after=t3_92tyci\n",
      "    iteration 14 worked. URL: https://www.reddit.com/r/communism/.json?after=t3_9245nc\n",
      "    iteration 15 worked. URL: https://www.reddit.com/r/communism/.json?after=t3_91ky01\n",
      "    iteration 16 worked. URL: https://www.reddit.com/r/communism/.json?after=t3_90r2of\n",
      "    iteration 17 worked. URL: https://www.reddit.com/r/communism/.json?after=t3_8zrv9i\n",
      "    iteration 18 worked. URL: https://www.reddit.com/r/communism/.json?after=t3_8z5wps\n",
      "    iteration 19 worked. URL: https://www.reddit.com/r/communism/.json?after=t3_8yovhs\n",
      "    size:  (500, 3)\n"
     ]
    },
    {
     "data": {
      "text/html": [
       "<div>\n",
       "<style scoped>\n",
       "    .dataframe tbody tr th:only-of-type {\n",
       "        vertical-align: middle;\n",
       "    }\n",
       "\n",
       "    .dataframe tbody tr th {\n",
       "        vertical-align: top;\n",
       "    }\n",
       "\n",
       "    .dataframe thead th {\n",
       "        text-align: right;\n",
       "    }\n",
       "</style>\n",
       "<table border=\"1\" class=\"dataframe\">\n",
       "  <thead>\n",
       "    <tr style=\"text-align: right;\">\n",
       "      <th></th>\n",
       "      <th>selftext</th>\n",
       "      <th>subreddit</th>\n",
       "      <th>title</th>\n",
       "    </tr>\n",
       "  </thead>\n",
       "  <tbody>\n",
       "    <tr>\n",
       "      <th>0</th>\n",
       "      <td></td>\n",
       "      <td>communism</td>\n",
       "      <td>The use of the buzzword “National Security” is...</td>\n",
       "    </tr>\n",
       "    <tr>\n",
       "      <th>1</th>\n",
       "      <td></td>\n",
       "      <td>communism</td>\n",
       "      <td>China announces huge debt relief program for c...</td>\n",
       "    </tr>\n",
       "    <tr>\n",
       "      <th>2</th>\n",
       "      <td></td>\n",
       "      <td>communism</td>\n",
       "      <td>Israel drafts a law to jail anybody flying Pal...</td>\n",
       "    </tr>\n",
       "    <tr>\n",
       "      <th>3</th>\n",
       "      <td></td>\n",
       "      <td>communism</td>\n",
       "      <td>EXPOSED! 'Nazi' Azov Battalion receives Armame...</td>\n",
       "    </tr>\n",
       "    <tr>\n",
       "      <th>4</th>\n",
       "      <td></td>\n",
       "      <td>communism</td>\n",
       "      <td>Indian Farmers &amp;amp; Industrial Workers to Hol...</td>\n",
       "    </tr>\n",
       "  </tbody>\n",
       "</table>\n",
       "</div>"
      ],
      "text/plain": [
       "  selftext  subreddit                                              title\n",
       "0           communism  The use of the buzzword “National Security” is...\n",
       "1           communism  China announces huge debt relief program for c...\n",
       "2           communism  Israel drafts a law to jail anybody flying Pal...\n",
       "3           communism  EXPOSED! 'Nazi' Azov Battalion receives Armame...\n",
       "4           communism  Indian Farmers &amp; Industrial Workers to Hol..."
      ]
     },
     "execution_count": 205,
     "metadata": {},
     "output_type": "execute_result"
    }
   ],
   "source": [
    "data_list = []\n",
    "base_url = \"https://www.reddit.com/r/communism/.json\"\n",
    "URL = base_url\n",
    "#seems to be a cap at 20\n",
    "for step in range(20):\n",
    "    res = requests.get(URL, headers={'User-agent': 'Conor Barry Bot 0.1'})\n",
    "    data = res.json()\n",
    "    \n",
    "    for i in range(len(data['data']['children'])):\n",
    "        temp = {}\n",
    "        temp['subreddit'] = data['data']['children'][i]['data']['subreddit_name_prefixed'].replace('r/', '')\n",
    "        temp['title']=data['data']['children'][i]['data']['title']\n",
    "        temp['selftext'] = data['data']['children'][i]['data']['selftext']\n",
    "        data_list.append(temp)\n",
    "\n",
    "    new_after = data['data']['after']\n",
    "    URL = base_url + \"?after=\" + new_after\n",
    "    print('    iteration {} worked. URL: {}'.format(step, URL))\n",
    "    time.sleep(3)\n",
    "    \n",
    "df_communism_scrape = pd.DataFrame(data_list)\n",
    "print('    size: ', df_communism_scrape.shape)\n",
    "# Export to csv\n",
    "df_communism_scrape.to_csv('./Data/communismPosts_9_03_A.csv', index=False)\n",
    "df_communism_scrape.head()"
   ]
  },
  {
   "cell_type": "code",
   "execution_count": 86,
   "metadata": {
    "scrolled": true
   },
   "outputs": [],
   "source": [
    "df_data_current = pd.read_csv('./Data/communismPosts_9_03_A.csv').loc[:, ['title']]\n",
    "X_cur = latest_transform.transform(df_data_current.title).todense()\n",
    "df_cur_predictions = pd.DataFrame(latest_model.predict(X_cur),\n",
    "                                 columns=['Party'])\n",
    "mask = {\n",
    "    'democrats': 1,\n",
    "    'Republican': 0\n",
    "}\n",
    "df_cur_predictions = pd.DataFrame(df_cur_predictions['Party'].map(mask), columns=['Party'])\n",
    "df_cur_predictions = df_cur_predictions.join(pd.DataFrame(latest_model.predict_proba(X_cur), columns = ['rep_score', 'dem_score'] ))"
   ]
  },
  {
   "cell_type": "code",
   "execution_count": 87,
   "metadata": {},
   "outputs": [
    {
     "data": {
      "text/plain": [
       "0.268"
      ]
     },
     "execution_count": 87,
     "metadata": {},
     "output_type": "execute_result"
    }
   ],
   "source": [
    "#Average score - <.5 means republican\n",
    "df_cur_predictions['Party'].mean()"
   ]
  },
  {
   "cell_type": "code",
   "execution_count": 88,
   "metadata": {},
   "outputs": [
    {
     "data": {
      "text/plain": [
       "-0.5198670694864049"
      ]
     },
     "execution_count": 88,
     "metadata": {},
     "output_type": "execute_result"
    }
   ],
   "source": [
    "(df_cur_predictions['Party'].mean() - dem_prior) / dem_prior"
   ]
  },
  {
   "cell_type": "code",
   "execution_count": 33,
   "metadata": {
    "scrolled": false
   },
   "outputs": [
    {
     "name": "stdout",
     "output_type": "stream",
     "text": [
      "    average dem score:  0.5455317505942349\n",
      "    average rep score:  0.43550140999869374\n",
      "    net score:  -232\n"
     ]
    },
    {
     "name": "stderr",
     "output_type": "stream",
     "text": [
      "C:\\ProgramData\\Anaconda3\\lib\\site-packages\\matplotlib\\axes\\_axes.py:6462: UserWarning: The 'normed' kwarg is deprecated, and has been replaced by the 'density' kwarg.\n",
      "  warnings.warn(\"The 'normed' kwarg is deprecated, and has been \"\n",
      "C:\\ProgramData\\Anaconda3\\lib\\site-packages\\matplotlib\\axes\\_axes.py:6462: UserWarning: The 'normed' kwarg is deprecated, and has been replaced by the 'density' kwarg.\n",
      "  warnings.warn(\"The 'normed' kwarg is deprecated, and has been \"\n"
     ]
    },
    {
     "data": {
      "image/png": "[encoded data removed]",
      "text/plain": [
       "<Figure size 432x288 with 1 Axes>"
      ]
     },
     "metadata": {},
     "output_type": "display_data"
    }
   ],
   "source": [
    "probas = latest_model.predict_proba(X_cur)\n",
    "min_prob = .5\n",
    "dem_probs = []\n",
    "rep_probs = []\n",
    "for i in range(len(probas)):\n",
    "    if probas[i][0] >min_prob:\n",
    "        rep_probs.append(1-probas[i][0])\n",
    "    elif probas[i][1]>min_prob:\n",
    "        dem_probs.append(probas[i][1])\n",
    "print('    average dem score: ', sum(dem_probs) / len(dem_probs))\n",
    "print('    average rep score: ', sum(rep_probs) / len(rep_probs))\n",
    "\n",
    "print('    net score: ', len(dem_probs) -len(rep_probs) )\n",
    "#Distribution of republican and Democrat strength scoring\n",
    "\n",
    "sns.distplot(dem_probs, label='dem', color='blue') \n",
    "sns.distplot(rep_probs, label='rep', color='red')\n",
    "plt.savefig('./Presentation/OutputFigs/communismComparison.png')"
   ]
  },
  {
   "cell_type": "code",
   "execution_count": 34,
   "metadata": {},
   "outputs": [
    {
     "name": "stdout",
     "output_type": "stream",
     "text": [
      "   definitive dems: 134\n",
      "   definitive repubs: 366\n",
      "   per.dem:0.268\n",
      "   per.rep0.732 \n"
     ]
    }
   ],
   "source": [
    "print('   definitive dems: {}\\n   definitive repubs: {}\\n   per.dem:{}\\n   per.rep{} '.format(\n",
    "     len(dem_probs), \n",
    "     len(rep_probs), \n",
    "     len(dem_probs)/ (len(dem_probs) + len(rep_probs)),\n",
    "     len(rep_probs)/ (len(dem_probs) + len(rep_probs))\n",
    "))"
   ]
  },
  {
   "cell_type": "code",
   "execution_count": 89,
   "metadata": {},
   "outputs": [
    {
     "name": "stderr",
     "output_type": "stream",
     "text": [
      "C:\\ProgramData\\Anaconda3\\lib\\site-packages\\matplotlib\\axes\\_axes.py:6462: UserWarning: The 'normed' kwarg is deprecated, and has been replaced by the 'density' kwarg.\n",
      "  warnings.warn(\"The 'normed' kwarg is deprecated, and has been \"\n"
     ]
    },
    {
     "name": "stdout",
     "output_type": "stream",
     "text": [
      "   net:  35.01045872170067\n",
      "   net:  0.07002091744340133\n"
     ]
    },
    {
     "data": {
      "image/png": "[encoded data removed]",
      "text/plain": [
       "<Figure size 432x288 with 1 Axes>"
      ]
     },
     "metadata": {},
     "output_type": "display_data"
    }
   ],
   "source": [
    "probas = latest_model.predict_proba(X_cur)\n",
    "net_probs = []\n",
    "for i in range(len(probas)):\n",
    "    net_probs.append(probas[i][0] - probas[i][1]) #R minus D so that Republican == positive, \n",
    "\n",
    "sns.distplot(net_probs, label='rep', color='red')\n",
    "print('   net: ', sum(net_probs))\n",
    "print('   net: ', np.average(net_probs))\n",
    "plt.savefig('./Presentation/OutputFigs/CommunistsNet.png')"
   ]
  },
  {
   "cell_type": "code",
   "execution_count": 189,
   "metadata": {},
   "outputs": [
    {
     "data": {
      "text/plain": [
       "Ttest_1sampResult(statistic=26.947607813373754, pvalue=3.1475315814315307e-72)"
      ]
     },
     "execution_count": 189,
     "metadata": {},
     "output_type": "execute_result"
    }
   ],
   "source": []
  },
  {
   "cell_type": "markdown",
   "metadata": {},
   "source": [
    "## Outside Testing: All\n"
   ]
  },
  {
   "cell_type": "code",
   "execution_count": 96,
   "metadata": {},
   "outputs": [
    {
     "name": "stdout",
     "output_type": "stream",
     "text": [
      "    iteration 0 worked. URL: https://www.reddit.com/r/all/.json?after=t3_9cu3jb\n",
      "    iteration 1 worked. URL: https://www.reddit.com/r/all/.json?after=t3_9cv3fp\n",
      "    iteration 2 worked. URL: https://www.reddit.com/r/all/.json?after=t3_9cuubb\n",
      "    iteration 3 worked. URL: https://www.reddit.com/r/all/.json?after=t3_9cuoyl\n",
      "    iteration 4 worked. URL: https://www.reddit.com/r/all/.json?after=t3_9cttk3\n",
      "    iteration 5 worked. URL: https://www.reddit.com/r/all/.json?after=t3_9crpsw\n",
      "    iteration 6 worked. URL: https://www.reddit.com/r/all/.json?after=t3_9cuywt\n",
      "    iteration 7 worked. URL: https://www.reddit.com/r/all/.json?after=t3_9cvhpa\n",
      "    iteration 8 worked. URL: https://www.reddit.com/r/all/.json?after=t3_9cu5ii\n",
      "    iteration 9 worked. URL: https://www.reddit.com/r/all/.json?after=t3_9cuzql\n",
      "    iteration 10 worked. URL: https://www.reddit.com/r/all/.json?after=t3_9cvsdo\n",
      "    iteration 11 worked. URL: https://www.reddit.com/r/all/.json?after=t3_9ctxog\n",
      "    iteration 12 worked. URL: https://www.reddit.com/r/all/.json?after=t3_9ct7ve\n",
      "    iteration 13 worked. URL: https://www.reddit.com/r/all/.json?after=t3_9ctn3c\n",
      "    iteration 14 worked. URL: https://www.reddit.com/r/all/.json?after=t3_9cqxll\n",
      "    iteration 15 worked. URL: https://www.reddit.com/r/all/.json?after=t3_9cs42d\n",
      "    iteration 16 worked. URL: https://www.reddit.com/r/all/.json?after=t3_9csr48\n",
      "    iteration 17 worked. URL: https://www.reddit.com/r/all/.json?after=t3_9ctult\n",
      "    iteration 18 worked. URL: https://www.reddit.com/r/all/.json?after=t3_9csm6j\n",
      "    iteration 19 worked. URL: https://www.reddit.com/r/all/.json?after=t3_9cu60t\n",
      "    size:  (501, 3)\n"
     ]
    },
    {
     "data": {
      "text/html": [
       "<div>\n",
       "<style scoped>\n",
       "    .dataframe tbody tr th:only-of-type {\n",
       "        vertical-align: middle;\n",
       "    }\n",
       "\n",
       "    .dataframe tbody tr th {\n",
       "        vertical-align: top;\n",
       "    }\n",
       "\n",
       "    .dataframe thead th {\n",
       "        text-align: right;\n",
       "    }\n",
       "</style>\n",
       "<table border=\"1\" class=\"dataframe\">\n",
       "  <thead>\n",
       "    <tr style=\"text-align: right;\">\n",
       "      <th></th>\n",
       "      <th>selftext</th>\n",
       "      <th>subreddit</th>\n",
       "      <th>title</th>\n",
       "    </tr>\n",
       "  </thead>\n",
       "  <tbody>\n",
       "    <tr>\n",
       "      <th>0</th>\n",
       "      <td></td>\n",
       "      <td>comics</td>\n",
       "      <td>Immortality</td>\n",
       "    </tr>\n",
       "    <tr>\n",
       "      <th>1</th>\n",
       "      <td></td>\n",
       "      <td>sports</td>\n",
       "      <td>Sidecar co-pilots hugging the corners at the S...</td>\n",
       "    </tr>\n",
       "    <tr>\n",
       "      <th>2</th>\n",
       "      <td></td>\n",
       "      <td>worldnews</td>\n",
       "      <td>The EU and national funders launch a plan to m...</td>\n",
       "    </tr>\n",
       "    <tr>\n",
       "      <th>3</th>\n",
       "      <td></td>\n",
       "      <td>pics</td>\n",
       "      <td>My Grandpa turned 100 last week. He stayed up ...</td>\n",
       "    </tr>\n",
       "    <tr>\n",
       "      <th>4</th>\n",
       "      <td></td>\n",
       "      <td>coolguides</td>\n",
       "      <td>And this folks, is how gerrymandering works</td>\n",
       "    </tr>\n",
       "  </tbody>\n",
       "</table>\n",
       "</div>"
      ],
      "text/plain": [
       "  selftext   subreddit                                              title\n",
       "0               comics                                        Immortality\n",
       "1               sports  Sidecar co-pilots hugging the corners at the S...\n",
       "2            worldnews  The EU and national funders launch a plan to m...\n",
       "3                 pics  My Grandpa turned 100 last week. He stayed up ...\n",
       "4           coolguides        And this folks, is how gerrymandering works"
      ]
     },
     "execution_count": 96,
     "metadata": {},
     "output_type": "execute_result"
    }
   ],
   "source": [
    "data_list = []\n",
    "base_url = \"https://www.reddit.com/r/all/.json\"\n",
    "URL = base_url\n",
    "#seems to be a cap at 20\n",
    "for step in range(20):\n",
    "    res = requests.get(URL, headers={'User-agent': 'Conor Barry Bot 0.1'})\n",
    "    data = res.json()\n",
    "    \n",
    "    for i in range(len(data['data']['children'])):\n",
    "        temp = {}\n",
    "        temp['subreddit'] = data['data']['children'][i]['data']['subreddit_name_prefixed'].replace('r/', '')\n",
    "        temp['title']=data['data']['children'][i]['data']['title']\n",
    "        temp['selftext'] = data['data']['children'][i]['data']['selftext']\n",
    "        data_list.append(temp)\n",
    "\n",
    "    new_after = data['data']['after']\n",
    "    URL = base_url + \"?after=\" + new_after\n",
    "    print('    iteration {} worked. URL: {}'.format(step, URL))\n",
    "    time.sleep(3)\n",
    "    \n",
    "df_all_scrape = pd.DataFrame(data_list)\n",
    "print('    size: ', df_hbb_scrape.shape)\n",
    "# Export to csv\n",
    "df_all_scrape.to_csv('./Data/allPosts_9_04_A.csv', index=False)\n",
    "df_all_scrape.head()"
   ]
  },
  {
   "cell_type": "code",
   "execution_count": 97,
   "metadata": {
    "scrolled": true
   },
   "outputs": [],
   "source": [
    "df_data_current = pd.read_csv('./Data/allPosts_9_04_A.csv').loc[:, ['title']]\n",
    "X_cur = latest_transform.transform(df_data_current.title).todense()\n",
    "df_cur_predictions = pd.DataFrame(latest_model.predict(X_cur),\n",
    "                                 columns=['Party'])\n",
    "mask = {\n",
    "    'democrats': 1,\n",
    "    'Republican': 0\n",
    "}\n",
    "df_cur_predictions = pd.DataFrame(df_cur_predictions['Party'].map(mask), columns=['Party'])\n",
    "df_cur_predictions = df_cur_predictions.join(pd.DataFrame(latest_model.predict_proba(X_cur), columns = ['rep_score', 'dem_score'] ))"
   ]
  },
  {
   "cell_type": "code",
   "execution_count": 98,
   "metadata": {},
   "outputs": [
    {
     "data": {
      "text/plain": [
       "0.238"
      ]
     },
     "execution_count": 98,
     "metadata": {},
     "output_type": "execute_result"
    }
   ],
   "source": [
    "#Average score - <.5 means republican\n",
    "df_cur_predictions['Party'].mean()"
   ]
  },
  {
   "cell_type": "code",
   "execution_count": 99,
   "metadata": {},
   "outputs": [
    {
     "data": {
      "text/plain": [
       "-0.5736132930513596"
      ]
     },
     "execution_count": 99,
     "metadata": {},
     "output_type": "execute_result"
    }
   ],
   "source": [
    "(df_cur_predictions['Party'].mean() - dem_prior) / dem_prior"
   ]
  },
  {
   "cell_type": "code",
   "execution_count": 100,
   "metadata": {
    "scrolled": false
   },
   "outputs": [
    {
     "name": "stdout",
     "output_type": "stream",
     "text": [
      "    average dem score:  0.5521704733217355\n",
      "    average rep score:  0.44517315341156427\n",
      "    net score:  -262\n"
     ]
    },
    {
     "name": "stderr",
     "output_type": "stream",
     "text": [
      "C:\\ProgramData\\Anaconda3\\lib\\site-packages\\matplotlib\\axes\\_axes.py:6462: UserWarning: The 'normed' kwarg is deprecated, and has been replaced by the 'density' kwarg.\n",
      "  warnings.warn(\"The 'normed' kwarg is deprecated, and has been \"\n",
      "C:\\ProgramData\\Anaconda3\\lib\\site-packages\\matplotlib\\axes\\_axes.py:6462: UserWarning: The 'normed' kwarg is deprecated, and has been replaced by the 'density' kwarg.\n",
      "  warnings.warn(\"The 'normed' kwarg is deprecated, and has been \"\n"
     ]
    },
    {
     "data": {
      "image/png": "[encoded data removed]",
      "text/plain": [
       "<Figure size 432x288 with 1 Axes>"
      ]
     },
     "metadata": {},
     "output_type": "display_data"
    }
   ],
   "source": [
    "probas = latest_model.predict_proba(X_cur)\n",
    "min_prob = .5\n",
    "dem_probs = []\n",
    "rep_probs = []\n",
    "for i in range(len(probas)):\n",
    "    if probas[i][0] >min_prob:\n",
    "        rep_probs.append(1-probas[i][0])\n",
    "    elif probas[i][1]>min_prob:\n",
    "        dem_probs.append(probas[i][1])\n",
    "print('    average dem score: ', sum(dem_probs) / len(dem_probs))\n",
    "print('    average rep score: ', sum(rep_probs) / len(rep_probs))\n",
    "\n",
    "print('    net score: ', len(dem_probs) -len(rep_probs) )\n",
    "#Distribution of republican and Democrat strength scoring\n",
    "\n",
    "sns.distplot(dem_probs, label='dem', color='blue') \n",
    "sns.distplot(rep_probs, label='rep', color='red')\n",
    "plt.savefig('./Presentation/OutputFigs/hbbComparison.png')"
   ]
  },
  {
   "cell_type": "code",
   "execution_count": 101,
   "metadata": {},
   "outputs": [
    {
     "name": "stderr",
     "output_type": "stream",
     "text": [
      "C:\\ProgramData\\Anaconda3\\lib\\site-packages\\matplotlib\\axes\\_axes.py:6462: UserWarning: The 'normed' kwarg is deprecated, and has been replaced by the 'density' kwarg.\n",
      "  warnings.warn(\"The 'normed' kwarg is deprecated, and has been \"\n"
     ]
    },
    {
     "name": "stdout",
     "output_type": "stream",
     "text": [
      "   net:  29.36148444981454\n",
      "   net:  0.058722968899629066\n"
     ]
    },
    {
     "data": {
      "image/png": "[encoded data removed]",
      "text/plain": [
       "<Figure size 432x288 with 1 Axes>"
      ]
     },
     "metadata": {},
     "output_type": "display_data"
    }
   ],
   "source": [
    "probas = latest_model.predict_proba(X_cur)\n",
    "net_probs = []\n",
    "for i in range(len(probas)):\n",
    "    net_probs.append(probas[i][0] - probas[i][1]) #R minus D so that Republican == positive, \n",
    "\n",
    "sns.distplot(net_probs, label='rep', color='red')\n",
    "print('   net: ', sum(net_probs))\n",
    "print('   net: ', np.average(net_probs))\n",
    "plt.savefig('./Presentation/OutputFigs/hbbNet.png')"
   ]
  },
  {
   "cell_type": "code",
   "execution_count": 102,
   "metadata": {},
   "outputs": [
    {
     "data": {
      "text/plain": [
       "0.5581787521079259"
      ]
     },
     "execution_count": 102,
     "metadata": {},
     "output_type": "execute_result"
    }
   ],
   "source": [
    "dem_prior"
   ]
  },
  {
   "cell_type": "code",
   "execution_count": null,
   "metadata": {},
   "outputs": [],
   "source": []
  }
 ],
 "metadata": {
  "anaconda-cloud": {},
  "kernelspec": {
   "display_name": "Python 3",
   "language": "python",
   "name": "python3"
  },
  "language_info": {
   "codemirror_mode": {
    "name": "ipython",
    "version": 3
   },
   "file_extension": ".py",
   "mimetype": "text/x-python",
   "name": "python",
   "nbconvert_exporter": "python",
   "pygments_lexer": "ipython3",
   "version": "3.6.5"
  },
  "varInspector": {
   "cols": {
    "lenName": 16,
    "lenType": 16,
    "lenVar": 40
   },
   "kernels_config": {
    "python": {
     "delete_cmd_postfix": "",
     "delete_cmd_prefix": "del ",
     "library": "var_list.py",
     "varRefreshCmd": "print(var_dic_list())"
    },
    "r": {
     "delete_cmd_postfix": ") ",
     "delete_cmd_prefix": "rm(",
     "library": "var_list.r",
     "varRefreshCmd": "cat(var_dic_list()) "
    }
   },
   "types_to_exclude": [
    "module",
    "function",
    "builtin_function_or_method",
    "instance",
    "_Feature"
   ],
   "window_display": false
  }
 },
 "nbformat": 4,
 "nbformat_minor": 1
}
