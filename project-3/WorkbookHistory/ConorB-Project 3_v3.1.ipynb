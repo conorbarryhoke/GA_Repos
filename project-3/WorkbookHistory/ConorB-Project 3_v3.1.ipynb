{
 "cells": [
  {
   "cell_type": "markdown",
   "metadata": {
    "focus": false,
    "id": "db045898-1d2d-4af2-8e79-437c4c7546b4"
   },
   "source": [
    "#### Tweaking model - see if adding a third group helps this. using r/all as baseline. "
   ]
  },
  {
   "cell_type": "code",
   "execution_count": 9,
   "metadata": {},
   "outputs": [],
   "source": [
    "import pandas as pd\n",
    "import numpy as np\n",
    "import scipy as sp\n",
    "\n",
    "import requests\n",
    "import json\n",
    "import time\n",
    "from random import randint\n",
    "\n",
    "from sklearn.model_selection import cross_val_score\n",
    "from sklearn.model_selection import train_test_split\n",
    "from sklearn.linear_model import LogisticRegression\n",
    "\n",
    "from sklearn.feature_extraction import stop_words\n",
    "from sklearn.feature_extraction.text import CountVectorizer\n",
    "from sklearn.feature_extraction.text import TfidfVectorizer\n",
    "\n",
    "from sklearn.metrics import confusion_matrix\n",
    "\n",
    "import matplotlib.pyplot as plt\n",
    "import seaborn as sns\n",
    "\n",
    "%matplotlib inline"
   ]
  },
  {
   "cell_type": "code",
   "execution_count": 8,
   "metadata": {},
   "outputs": [
    {
     "data": {
      "text/plain": [
       "0.5581787521079259"
      ]
     },
     "execution_count": 8,
     "metadata": {},
     "output_type": "execute_result"
    }
   ],
   "source": [
    "#Filling this in for later application to new subs, if I get to it\n",
    "#Figures as of 8/30/2018\n",
    "dem_subscribers = 66.2 #Thousand\n",
    "reb_subscribers = 52.4 #Thousand\n",
    "dem_prior = dem_subscribers / (dem_subscribers + reb_subscribers)\n",
    "rep_prior = 1 - dem_prior\n",
    "dem_prior"
   ]
  },
  {
   "cell_type": "markdown",
   "metadata": {},
   "source": [
    "## Initial Pull (needed for fit_transform function default inputs)"
   ]
  },
  {
   "cell_type": "code",
   "execution_count": 3,
   "metadata": {},
   "outputs": [
    {
     "name": "stdout",
     "output_type": "stream",
     "text": [
      "    Data Shape:  (4004, 3)\n",
      "    Duplicate headers (expect count 2):  2\n",
      "    nulls:  selftext      0\n",
      "subreddit     0\n",
      "title         0\n",
      "subred_cat    0\n",
      "dtype: int64\n",
      "    new counts:  0    2003\n",
      "2    1001\n",
      "1    1000\n",
      "Name: subred_cat, dtype: int64\n"
     ]
    }
   ],
   "source": [
    "#Pick up CSVs after recorded. Dems First\n",
    "df_dems_1 = pd.read_csv('./Data/InitialDemocratsPosts_8_31.csv')\n",
    "df_dems_2 = pd.read_csv('./Data/InitialDemocratsPosts_9_03.csv')\n",
    "df_democrats_all = df_dems_1.append(df_dems_2.iloc[1:, ], ignore_index=True) #overlap from locked post\n",
    "\n",
    "df_reps_1 = pd.read_csv('./Data/InitialRepublicanPosts.csv')\n",
    "df_reps_2 = pd.read_csv('./Data/InitialRepublicanPosts_9_03.csv')\n",
    "df_republicans_all = df_reps_1.append(df_reps_2, ignore_index=True)\n",
    "\n",
    "#Null group sets\n",
    "df_all_init = pd.read_csv('./Data/allPosts_9_04_A.csv')\n",
    "df_cats_init = pd.read_csv('./Data/catsPosts_9_03_A.csv')\n",
    "df_dogs_init = pd.read_csv('./Data/dogsPosts_9_03_A.csv')\n",
    "df_hbb_init = pd.read_csv('./Data/hbbPosts_9_04_A.csv')\n",
    "\n",
    "df_init_DemRep = df_democrats_all.append(df_republicans_all, ignore_index=True, verify_integrity=True)\n",
    "for df in [df_all_init,df_cats_init, df_dogs_init, df_hbb_init]:\n",
    "    df_init_DemRep =  df_init_DemRep.append(df, ignore_index=True, verify_integrity=True)\n",
    "    \n",
    "\n",
    "print('    Data Shape: ',df_init_DemRep.shape)\n",
    "#Value counts check out. Looks like we got an extra Dem post from that locked post.\n",
    "print('    Duplicate headers (expect count 2): ', len([label for label in df_init_DemRep['subreddit'].value_counts().index if label =='democrats' or label =='Republican']))  #Expect 2\n",
    "\n",
    "#Translate to 0, 1, 2 groups\n",
    "df_init_DemRep['subred_cat'] = (df_init_DemRep['subreddit']=='democrats')*2 + (df_init_DemRep['subreddit']=='Republican')*1\n",
    "df_init_DemRep.fillna(' ', inplace=True)\n",
    "print('    nulls: ', df_init_DemRep.isnull().sum())\n",
    "print('    new counts: ', df_init_DemRep['subred_cat'].value_counts())"
   ]
  },
  {
   "cell_type": "code",
   "execution_count": null,
   "metadata": {},
   "outputs": [],
   "source": []
  },
  {
   "cell_type": "markdown",
   "metadata": {},
   "source": [
    "## Custom Functions"
   ]
  },
  {
   "cell_type": "markdown",
   "metadata": {},
   "source": [
    "#### Fit Transform"
   ]
  },
  {
   "cell_type": "code",
   "execution_count": 4,
   "metadata": {},
   "outputs": [],
   "source": [
    "my_stop_words = stop_words.ENGLISH_STOP_WORDS\n",
    "#no compelling reason to pull in self-text\n",
    "df_data = df_init_DemRep.loc[:, ['subred_cat', 'title']]\n",
    "def fit_transform_model(X=df_data.title, y=df_data.subred_cat, \n",
    "                        vecmod='TFID', pred='logreg', \n",
    "                        test_size_local=None, random_state_local=42 ):\n",
    "    \"\"\"I absolutely created this function after running through the lab the first time. \n",
    "    I figured that it would help me clean up the rest of the document, as well as making\n",
    "    additions to the model.\n",
    "    With a little bit of work, this should be very generalizable to future models for me.\"\"\"\n",
    "    \n",
    "    #get vectorizer\n",
    "    if vecmod == 'TFID':\n",
    "        vecmod_ = TfidfVectorizer(stop_words=my_stop_words, ngram_range=(1,3))\n",
    "    else:\n",
    "        vecmod_ = vecmod\n",
    "    \n",
    "    #TTS, \n",
    "    X_train, X_test, y_train, y_test = train_test_split(X, y, \n",
    "                                                        test_size=test_size_local, \n",
    "                                                        random_state=random_state_local)\n",
    "    X_train_transform = vecmod_.fit_transform(X_train).todense()\n",
    "    df_X_train_transform = pd.DataFrame(X_train_transform, columns=vecmod_.get_feature_names())\n",
    "    X_test_transform = vecmod_.transform(X_test).todense()\n",
    "    df_X_test_transform = pd.DataFrame(X_test_transform, columns=vecmod_.get_feature_names())\n",
    "    \n",
    "    #predict model\n",
    "    if pred == 'logreg':\n",
    "        funct_model_= LogisticRegression()\n",
    "    else:\n",
    "        funct_model_ = pred\n",
    "        \n",
    "    funct_model_.fit(df_X_train_transform, y_train)\n",
    "    \n",
    "    #Export features and scores\n",
    "    global latest_model, latest_transform, sorted_d_values_none, sorted_d_values_rep, sorted_d_values_dem, train_x, test_x, test_y, train_y\n",
    "    latest_model = funct_model_ \n",
    "    train_x, test_x, train_y, test_y = df_X_train_transform, df_X_test_transform, y_train, y_test\n",
    "    latest_transform = vecmod_\n",
    "    \n",
    "    try:\n",
    "        feature_values_none =(dict(zip(list(df_X_train_transform.columns), list(funct_model_.coef_[0]))))\n",
    "        sorted_d_values_none = sorted({(value, key) for (key,value) in feature_values_none.items()}, reverse=True)\n",
    "        \n",
    "        feature_values_rep =(dict(zip(list(df_X_train_transform.columns), list(funct_model_.coef_[1]))))\n",
    "        sorted_d_values_rep = sorted({(value, key) for (key,value) in feature_values_rep.items()}, reverse=True)\n",
    "        \n",
    "        feature_values_dem =(dict(zip(list(df_X_train_transform.columns), list(funct_model_.coef_[2]))))\n",
    "        sorted_d_values_dem = sorted({(value, key) for (key,value) in feature_values_dem.items()}, reverse=True)\n",
    "\n",
    "    except:\n",
    "        print('   broken sorter')\n",
    "        return funct_model_.score(df_X_test_transform, y_test)\n",
    "    \n",
    "    return funct_model_.score(df_X_test_transform, y_test)"
   ]
  },
  {
   "cell_type": "markdown",
   "metadata": {},
   "source": [
    "#### Get New Data"
   ]
  },
  {
   "cell_type": "code",
   "execution_count": 16,
   "metadata": {},
   "outputs": [],
   "source": [
    "def subreddit_getter(subreddit_source, your_name_bot, max_pulls=40):\n",
    "    \"\"\"Subreddit source is the thing you are trying to detect. should be literal string. E.G., /r/football should be input as 'football'\n",
    "    your_name_bot will be used to associate calls on your machine.\n",
    "    neutral sub is a sub you believe to not be similar\n",
    "    \n",
    "    NB: Save function assumes Data subfolder exists in working directory.\n",
    "    \"\"\"\n",
    "    data_list = []\n",
    "    base_url = \"https://www.reddit.com/r/\" + subreddit_source + \"/.json\"\n",
    "    URL = base_url\n",
    "\n",
    "    #seems to be a cap around 20 for some smaller subs\n",
    "    for step in range(max_pulls):\n",
    "        try:\n",
    "            data = requests.get(URL, headers={'User-agent': your_name_bot}).json()\n",
    "\n",
    "            for i in range(len(data['data']['children'])):\n",
    "                temp = {}\n",
    "                temp['subreddit'] = data['data']['children'][i]['data']['subreddit_name_prefixed'].replace('r/', '')\n",
    "                temp['title']=data['data']['children'][i]['data']['title']\n",
    "                data_list.append(temp)\n",
    "\n",
    "            new_after = data['data']['after']\n",
    "            URL = base_url + \"?after=\" + new_after\n",
    "            print('    iteration {} worked. URL: {}'.format(step, URL))\n",
    "                \n",
    "            time.sleep(3)  #very important to avoid getting locked out by Reddit.\n",
    "        except: \n",
    "            break\n",
    "            \n",
    "    df_scrape = pd.DataFrame(data_list)\n",
    "    #Ensure unique name\n",
    "    random_name = subreddit_source + str(randint(1, 100000)) #Avoid writing over previous csvs\n",
    "    df_scrape.to_csv('./Data/' + random_name + '.csv')\n",
    "    \n",
    "    global df_latest_scrape\n",
    "    df_latest_scrape = df_scrape\n",
    "    \n",
    "    print('    text file: ', random_name)\n",
    "    print('    size: ', df_scrape.shape)"
   ]
  },
  {
   "cell_type": "markdown",
   "metadata": {},
   "source": [
    "#### Subreddit Analyzer"
   ]
  },
  {
   "cell_type": "code",
   "execution_count": 43,
   "metadata": {},
   "outputs": [],
   "source": [
    "def subreddit_Analysis(df_data_current_, output_figname=None):\n",
    "    \"\"\"Expected df format: df_data_current = pd.read_csv('./Data/repsbPosts_9_04_B.csv').loc[:, ['title']] \n",
    "    OR df_latest\"\"\"\n",
    "    #Jump into analysis for this subreddit here from here\n",
    "    \n",
    "    X_cur = latest_transform.transform(df_data_current_.title).todense()\n",
    "    df_cur_predictions = pd.DataFrame(latest_model.predict(X_cur),\n",
    "                                     columns=['Party'])\n",
    "\n",
    "    df_cur_predictions = df_cur_predictions.join(pd.DataFrame(latest_model.predict_proba(X_cur), columns = ['none_score','rep_score', 'dem_score'] ))\n",
    "\n",
    "    '''The next 3 rows mimic the output of a 2 category model with type republican =0, democrat=1. \n",
    "    Since we are asking, what is the dominant party ranking for this sub, other than none, we want some intentionally biased results.'''\n",
    "    df_cur_predictions['NewDem'] = 1*(df_cur_predictions['dem_score'] > df_cur_predictions['rep_score']) #Score whichever is higher proba\n",
    "    #create 'Normalized' probabs based on the assumption that a post is either republican or democrat and never neither \n",
    "    df_cur_predictions['NewDem_proba'] = df_cur_predictions['dem_score']/(df_cur_predictions['dem_score']+df_cur_predictions['rep_score'])\n",
    "    df_cur_predictions['NewRep_proba'] = 1 - df_cur_predictions['NewDem_proba']\n",
    "\n",
    "    #Counts\n",
    "    print('   None: ', len(df_cur_predictions[df_cur_predictions.Party == 0]))\n",
    "    print('   Rep: ', len(df_cur_predictions[df_cur_predictions.Party == 1]))\n",
    "    print('   Dem: ', len(df_cur_predictions[df_cur_predictions.Party == 2]))\n",
    "    #Average party rating across all posts\n",
    "    print('   Adj Dem Count: ', df_cur_predictions['NewDem'].sum())\n",
    "    print('   Adj Rep Count: ', df_cur_predictions['NewDem'].count() - df_cur_predictions['NewDem'].sum())\n",
    "    #Avg aggregate rating - >.5 indicates dem\n",
    "    print('   Net: ', df_cur_predictions['NewDem'].mean())\n",
    "\n",
    "    #summarize winning scores for each party \n",
    "    probas = df_cur_predictions.loc[:, ['NewDem_proba', 'NewRep_proba']]\n",
    "    min_prob = .5\n",
    "    dem_probs = []\n",
    "    rep_probs = []\n",
    "    for i in range(len(probas)):\n",
    "        if probas.iloc[i][1] >min_prob:\n",
    "            rep_probs.append(probas.iloc[i][1])\n",
    "        elif probas.iloc[i][0]>min_prob:\n",
    "            dem_probs.append(probas.iloc[i][0])\n",
    "    print('   average dem score: ', sum(dem_probs) / len(dem_probs))\n",
    "    print('   average rep score: ', sum(rep_probs) / len(rep_probs))\n",
    "    #More republican or more dem scores?\n",
    "    print('   net score: ', len(rep_probs) - len(dem_probs)) \n",
    "\n",
    "    net_probs = []\n",
    "    for i in range(len(probas)):\n",
    "        net_probs.append(probas.iloc[i][1] - probas.iloc[i][0]) #R minus D so that Republican == positive, \n",
    "\n",
    "    print('   net sum of probas: ', sum(net_probs))\n",
    "    print('   mean proba delta: ', np.average(net_probs))\n",
    "    print('   mode: ', sp.stats.mode(net_probs))\n",
    "    print('   med: ', np.median(net_probs))\n",
    "    \n",
    "    if df_cur_predictions['NewDem'].mean() > .5: \n",
    "        wincolor = 'blue'\n",
    "    else:\n",
    "        wincolor = 'red'\n",
    "    sns.distplot(net_probs, label='rep', color=wincolor)\n",
    "    \n",
    "    if output_figname is not None:\n",
    "        plt.savefig('./Presentation/OutputFigs/' + output_figname + '.png')"
   ]
  },
  {
   "cell_type": "markdown",
   "metadata": {},
   "source": [
    "## Model Assessment\n",
    "---"
   ]
  },
  {
   "cell_type": "code",
   "execution_count": 5,
   "metadata": {},
   "outputs": [
    {
     "data": {
      "text/plain": [
       "0.8014981273408239"
      ]
     },
     "execution_count": 5,
     "metadata": {},
     "output_type": "execute_result"
    }
   ],
   "source": [
    "fit_transform_model(test_size_local=.2)"
   ]
  },
  {
   "cell_type": "code",
   "execution_count": 14,
   "metadata": {},
   "outputs": [
    {
     "name": "stdout",
     "output_type": "stream",
     "text": [
      "   none indicators:\n",
      "     (5.611738448785891, 'help')\n",
      "     (3.9711631418586015, 'dog')\n",
      "     (3.127261765291027, 'cat')\n",
      "     (2.57944795429636, 'discussion')\n",
      "     (1.876685001273597, 'dogs')\n",
      "     (1.811047702858205, 'breeds')\n",
      "     (1.5562430995005374, 'breed')\n",
      "     (1.4505424076744973, 'little')\n",
      "     (1.4223197142199957, 'old')\n",
      "     (1.3140248902515075, 'love')\n",
      "\n",
      "    rep indicators:\n",
      "     (1.8117442133225576, 'liberals')\n",
      "     (1.6367265811688123, 'senate')\n",
      "     (1.585471302796486, 'walkaway')\n",
      "     (1.3890949271144213, 'hc')\n",
      "     (1.3869125345202595, 'brennan')\n",
      "     (1.3669681607886188, 'media')\n",
      "     (1.3397263388347898, 'republican')\n",
      "     (1.3317468293628683, 'left')\n",
      "     (1.3179722493103019, 'socialism')\n",
      "     (1.2137656494541853, 'gop')\n",
      "\n",
      "    dem indicators:\n",
      "     (7.177275355534448, 'trump')\n",
      "     (3.4461724377327134, 'president')\n",
      "     (2.993538142074914, 'mccain')\n",
      "     (2.5007589979018023, 'kavanaugh')\n",
      "     (2.459963898494526, 'twitter')\n",
      "     (2.3702938426215443, 'republicans')\n",
      "     (2.236123781497031, 'democrats')\n",
      "     (1.7593205384250976, 'rourke')\n",
      "     (1.6499146917409369, 'gop')\n",
      "     (1.6084651237913496, 'beto')\n"
     ]
    }
   ],
   "source": [
    "print('   none indicators:')\n",
    "for i in range(10):\n",
    "    print('    ', sorted_d_values_none[i])\n",
    "#print('    democratic indicators: ', sorted_d[:-10])\n",
    "print('\\n    rep indicators:')\n",
    "for i in range(10):\n",
    "    print('    ', sorted_d_values_rep[i])\n",
    "print('\\n    dem indicators:')\n",
    "for i in range(10):\n",
    "    print('    ', sorted_d_values_dem[i])"
   ]
  },
  {
   "cell_type": "code",
   "execution_count": 15,
   "metadata": {},
   "outputs": [
    {
     "data": {
      "text/html": [
       "<div>\n",
       "<style scoped>\n",
       "    .dataframe tbody tr th:only-of-type {\n",
       "        vertical-align: middle;\n",
       "    }\n",
       "\n",
       "    .dataframe tbody tr th {\n",
       "        vertical-align: top;\n",
       "    }\n",
       "\n",
       "    .dataframe thead th {\n",
       "        text-align: right;\n",
       "    }\n",
       "</style>\n",
       "<table border=\"1\" class=\"dataframe\">\n",
       "  <thead>\n",
       "    <tr style=\"text-align: right;\">\n",
       "      <th></th>\n",
       "      <th>Predicted None</th>\n",
       "      <th>Pred Rep</th>\n",
       "      <th>Pred Dem</th>\n",
       "    </tr>\n",
       "  </thead>\n",
       "  <tbody>\n",
       "    <tr>\n",
       "      <th>Actual None</th>\n",
       "      <td>373</td>\n",
       "      <td>2</td>\n",
       "      <td>2</td>\n",
       "    </tr>\n",
       "    <tr>\n",
       "      <th>Actual Rep</th>\n",
       "      <td>86</td>\n",
       "      <td>108</td>\n",
       "      <td>18</td>\n",
       "    </tr>\n",
       "    <tr>\n",
       "      <th>Actual Dem</th>\n",
       "      <td>43</td>\n",
       "      <td>8</td>\n",
       "      <td>161</td>\n",
       "    </tr>\n",
       "  </tbody>\n",
       "</table>\n",
       "</div>"
      ],
      "text/plain": [
       "             Predicted None  Pred Rep  Pred Dem\n",
       "Actual None             373         2         2\n",
       "Actual Rep               86       108        18\n",
       "Actual Dem               43         8       161"
      ]
     },
     "execution_count": 15,
     "metadata": {},
     "output_type": "execute_result"
    }
   ],
   "source": [
    "cm = confusion_matrix(test_y, latest_model.predict(test_x))\n",
    "df_cm = pd.DataFrame(cm, columns=['Predicted None', 'Pred Rep', 'Pred Dem'], index=['Actual None', 'Actual Rep', 'Actual Dem'])\n",
    "df_cm"
   ]
  },
  {
   "cell_type": "markdown",
   "metadata": {},
   "source": [
    "# Baseline Data Set Meta Analysis\n",
    "---"
   ]
  },
  {
   "cell_type": "markdown",
   "metadata": {},
   "source": [
    "## Word Cloud"
   ]
  },
  {
   "cell_type": "code",
   "execution_count": 27,
   "metadata": {},
   "outputs": [],
   "source": [
    "#!pip install wordcloud"
   ]
  },
  {
   "cell_type": "code",
   "execution_count": 28,
   "metadata": {},
   "outputs": [],
   "source": [
    "#https://www.geeksforgeeks.org/generating-word-cloud-python/"
   ]
  },
  {
   "cell_type": "code",
   "execution_count": 14,
   "metadata": {},
   "outputs": [],
   "source": [
    "from wordcloud import WordCloud"
   ]
  },
  {
   "cell_type": "code",
   "execution_count": 113,
   "metadata": {},
   "outputs": [],
   "source": [
    "none_word_dict = dict(sorted_d_values_none[:21])\n",
    "rep_word_dict = dict(sorted_d_values_rep[:50])\n",
    "dem_word_dict = dict(sorted(sorted_d_values_dem[:50]))"
   ]
  },
  {
   "cell_type": "code",
   "execution_count": 18,
   "metadata": {},
   "outputs": [],
   "source": [
    "from math import exp\n",
    "import random"
   ]
  },
  {
   "cell_type": "code",
   "execution_count": 19,
   "metadata": {},
   "outputs": [],
   "source": [
    "rep_word_dict_trans = {}\n",
    "for key in rep_word_dict.keys():\n",
    "    new_key_= int(exp(-key)*2000) #watch out for this negative\n",
    "    while new_key_ in rep_word_dict.keys():\n",
    "        new_key_+=1 #tie breaker prevents override of values\n",
    "        print('    ',new_key_)\n",
    "    rep_word_dict_trans[new_key_] = rep_word_dict[key]\n",
    "rep_words_str = ''\n",
    "for key in rep_word_dict_trans.keys():\n",
    "    rep_words_str = rep_words_str + key*(str(rep_word_dict_trans[key]) + ' ')"
   ]
  },
  {
   "cell_type": "code",
   "execution_count": 20,
   "metadata": {
    "collapsed": true
   },
   "outputs": [
    {
     "data": {
      "text/plain": [
       "{6735: 'corruption',\n",
       " 6756: 'gillum',\n",
       " 6859: '2020',\n",
       " 7189: 'administration',\n",
       " 7747: 'say',\n",
       " 7861: 'john',\n",
       " 7879: 'campaign',\n",
       " 8289: 'white house',\n",
       " 8940: 'cohen',\n",
       " 9165: 'white',\n",
       " 9736: 'beto rourke',\n",
       " 9990: 'beto',\n",
       " 10413: 'gop',\n",
       " 11616: 'rourke',\n",
       " 18713: 'democrats',\n",
       " 21401: 'republicans',\n",
       " 23408: 'twitter',\n",
       " 24383: 'kavanaugh',\n",
       " 39912: 'mccain',\n",
       " 62760: 'president',\n",
       " 2618671: 'trump'}"
      ]
     },
     "execution_count": 20,
     "metadata": {},
     "output_type": "execute_result"
    }
   ],
   "source": [
    "dem_word_dict_trans = {}\n",
    "for key in dem_word_dict.keys():\n",
    "    new_key_= int(exp(key)*2000)\n",
    "    while new_key_ in dem_word_dict.keys():\n",
    "        new_key_+=1\n",
    "        print('    ',new_key_)\n",
    "    dem_word_dict_trans[new_key_] = dem_word_dict[key]\n",
    "dem_words_str = ''\n",
    "for key in dem_word_dict_trans.keys():\n",
    "    dem_words_str = dem_words_str + key*(str(dem_word_dict_trans[key]) + ' ')\n",
    "#dem_word_dict_trans"
   ]
  },
  {
   "cell_type": "code",
   "execution_count": 88,
   "metadata": {
    "collapsed": true
   },
   "outputs": [
    {
     "data": {
      "text/plain": [
       "<wordcloud.wordcloud.WordCloud at 0x2b202846390>"
      ]
     },
     "execution_count": 88,
     "metadata": {},
     "output_type": "execute_result"
    },
    {
     "data": {
      "image/png": "[encoded data removed]",
      "text/plain": [
       "<Figure size 720x720 with 1 Axes>"
      ]
     },
     "metadata": {},
     "output_type": "display_data"
    }
   ],
   "source": [
    "mycloud = WordCloud(width=1000, height=1000,\n",
    "                    background_color='grey', \n",
    "                    colormap='Reds',\n",
    "                    min_font_size=1,\n",
    "                    max_words=len(rep_words_str),\n",
    "                    collocations=False, #get rid of duplicates\n",
    "                   normalize_plurals=False).generate_from_text(rep_words_str)\n",
    "plt.figure(figsize = (10, 10), facecolor = None)\n",
    "plt.imshow(mycloud)\n",
    "plt.axis(\"off\")\n",
    "plt.tight_layout(pad = 0)\n",
    "mycloud.to_file('./Presentation/OutputFigs/RepCloud_3.png')"
   ]
  },
  {
   "cell_type": "code",
   "execution_count": 21,
   "metadata": {
    "collapsed": true
   },
   "outputs": [
    {
     "data": {
      "text/plain": [
       "<wordcloud.wordcloud.WordCloud at 0x2ee7464fa90>"
      ]
     },
     "execution_count": 21,
     "metadata": {},
     "output_type": "execute_result"
    },
    {
     "data": {
      "image/png": "[encoded data removed]",
      "text/plain": [
       "<Figure size 720x720 with 1 Axes>"
      ]
     },
     "metadata": {},
     "output_type": "display_data"
    }
   ],
   "source": [
    "mycloud = WordCloud(width=1000, height=1000,\n",
    "                    background_color='grey', \n",
    "                    min_font_size=1,\n",
    "                    colormap='Blues',\n",
    "                    collocations=False, #get rid of duplicates\n",
    "                   normalize_plurals=False,\n",
    "                   max_words=len(dem_words_str)).generate_from_text(dem_words_str)\n",
    "plt.figure(figsize = (10, 10), facecolor = None)\n",
    "plt.imshow(mycloud)\n",
    "plt.axis(\"off\")\n",
    "plt.tight_layout(pad = 0)\n",
    "mycloud.to_file('./Presentation/OutputFigs/DemCloud_3.png')"
   ]
  },
  {
   "cell_type": "markdown",
   "metadata": {},
   "source": [
    "## Which posts were the most?"
   ]
  },
  {
   "cell_type": "code",
   "execution_count": 23,
   "metadata": {},
   "outputs": [],
   "source": [
    "df_checker = pd.DataFrame(pd.Series(test_y))"
   ]
  },
  {
   "cell_type": "code",
   "execution_count": 24,
   "metadata": {
    "scrolled": true
   },
   "outputs": [],
   "source": [
    "df_checker['rep_score'] = [probas[i][1] for i in range(len(probas))]\n",
    "df_checker['dem_score'] = [probas[i][2] for i in range(len(probas))]"
   ]
  },
  {
   "cell_type": "code",
   "execution_count": 25,
   "metadata": {},
   "outputs": [
    {
     "data": {
      "text/html": [
       "<div>\n",
       "<style scoped>\n",
       "    .dataframe tbody tr th:only-of-type {\n",
       "        vertical-align: middle;\n",
       "    }\n",
       "\n",
       "    .dataframe tbody tr th {\n",
       "        vertical-align: top;\n",
       "    }\n",
       "\n",
       "    .dataframe thead th {\n",
       "        text-align: right;\n",
       "    }\n",
       "</style>\n",
       "<table border=\"1\" class=\"dataframe\">\n",
       "  <thead>\n",
       "    <tr style=\"text-align: right;\">\n",
       "      <th></th>\n",
       "      <th>subred_cat</th>\n",
       "      <th>rep_score</th>\n",
       "      <th>dem_score</th>\n",
       "    </tr>\n",
       "  </thead>\n",
       "  <tbody>\n",
       "    <tr>\n",
       "      <th>1788</th>\n",
       "      <td>1</td>\n",
       "      <td>0.577256</td>\n",
       "      <td>0.218682</td>\n",
       "    </tr>\n",
       "    <tr>\n",
       "      <th>1261</th>\n",
       "      <td>1</td>\n",
       "      <td>0.577256</td>\n",
       "      <td>0.218682</td>\n",
       "    </tr>\n",
       "  </tbody>\n",
       "</table>\n",
       "</div>"
      ],
      "text/plain": [
       "      subred_cat  rep_score  dem_score\n",
       "1788           1   0.577256   0.218682\n",
       "1261           1   0.577256   0.218682"
      ]
     },
     "execution_count": 25,
     "metadata": {},
     "output_type": "execute_result"
    }
   ],
   "source": [
    "#Most republican post\n",
    "df_checker[df_checker['rep_score']==df_checker['rep_score'].max()]"
   ]
  },
  {
   "cell_type": "code",
   "execution_count": 26,
   "metadata": {},
   "outputs": [
    {
     "data": {
      "text/html": [
       "<div>\n",
       "<style scoped>\n",
       "    .dataframe tbody tr th:only-of-type {\n",
       "        vertical-align: middle;\n",
       "    }\n",
       "\n",
       "    .dataframe tbody tr th {\n",
       "        vertical-align: top;\n",
       "    }\n",
       "\n",
       "    .dataframe thead th {\n",
       "        text-align: right;\n",
       "    }\n",
       "</style>\n",
       "<table border=\"1\" class=\"dataframe\">\n",
       "  <thead>\n",
       "    <tr style=\"text-align: right;\">\n",
       "      <th></th>\n",
       "      <th>subred_cat</th>\n",
       "      <th>rep_score</th>\n",
       "      <th>dem_score</th>\n",
       "    </tr>\n",
       "  </thead>\n",
       "  <tbody>\n",
       "    <tr>\n",
       "      <th>239</th>\n",
       "      <td>2</td>\n",
       "      <td>0.143783</td>\n",
       "      <td>0.76687</td>\n",
       "    </tr>\n",
       "  </tbody>\n",
       "</table>\n",
       "</div>"
      ],
      "text/plain": [
       "     subred_cat  rep_score  dem_score\n",
       "239           2   0.143783    0.76687"
      ]
     },
     "execution_count": 26,
     "metadata": {},
     "output_type": "execute_result"
    }
   ],
   "source": [
    "#Most democratic post\n",
    "df_checker[df_checker['dem_score']==df_checker['dem_score'].max()]"
   ]
  },
  {
   "cell_type": "code",
   "execution_count": 27,
   "metadata": {},
   "outputs": [
    {
     "data": {
      "text/plain": [
       "'R.I.P. McCain'"
      ]
     },
     "execution_count": 27,
     "metadata": {},
     "output_type": "execute_result"
    }
   ],
   "source": [
    "#The most democratic thing you could suggest right now:\n",
    "#df_init_DemRep.iloc[96:97, :] no selftext...\n",
    "df_init_DemRep['title'][239]\n",
    "\n",
    "#After updates, still same post"
   ]
  },
  {
   "cell_type": "code",
   "execution_count": 28,
   "metadata": {},
   "outputs": [
    {
     "data": {
      "text/plain": [
       "'GOP Congressional candidate Elizabeth Heng Gets Facebook Blocked'"
      ]
     },
     "execution_count": 28,
     "metadata": {},
     "output_type": "execute_result"
    }
   ],
   "source": [
    "#The most Republican thing you could suggest right now:\n",
    "#df_init_DemRep.iloc[987:988, :]no selftext...\n",
    "df_init_DemRep['title'][1261]"
   ]
  },
  {
   "cell_type": "code",
   "execution_count": 29,
   "metadata": {},
   "outputs": [
    {
     "data": {
      "text/plain": [
       "'GOP Congressional candidate Elizabeth Heng Gets Facebook Blocked'"
      ]
     },
     "execution_count": 29,
     "metadata": {},
     "output_type": "execute_result"
    }
   ],
   "source": [
    "df_init_DemRep['title'][1788] #REPOST"
   ]
  },
  {
   "cell_type": "markdown",
   "metadata": {},
   "source": [
    "## Word Clustering Analysis - why are scores happening?"
   ]
  },
  {
   "cell_type": "code",
   "execution_count": null,
   "metadata": {},
   "outputs": [],
   "source": [
    "#Talk about overlap - words more tightly clustered for republican/"
   ]
  },
  {
   "cell_type": "code",
   "execution_count": 117,
   "metadata": {},
   "outputs": [
    {
     "data": {
      "text/plain": [
       "array([ 0.2303148 , -1.2202583 , -1.43678538])"
      ]
     },
     "execution_count": 117,
     "metadata": {},
     "output_type": "execute_result"
    }
   ],
   "source": [
    "latest_model.intercept_ #Democrat intercept is more penalizing"
   ]
  },
  {
   "cell_type": "code",
   "execution_count": 30,
   "metadata": {},
   "outputs": [
    {
     "name": "stdout",
     "output_type": "stream",
     "text": [
      "   demwords: 2297\n",
      "   repwords: 1791\n",
      "    4088\n"
     ]
    },
    {
     "data": {
      "text/plain": [
       "<matplotlib.axes._subplots.AxesSubplot at 0x1c95916f828>"
      ]
     },
     "execution_count": 30,
     "metadata": {},
     "output_type": "execute_result"
    },
    {
     "data": {
      "image/png": "[encoded data removed]",
      "text/plain": [
       "<Figure size 432x288 with 1 Axes>"
      ]
     },
     "metadata": {},
     "output_type": "display_data"
    }
   ],
   "source": [
    "#How many words are above a given 'stregnth' score for dems vs. republicans\n",
    "all_rep_words = { key:dict(sorted_d_values_rep)[key] for key in dict(sorted_d_values_rep).keys() if key>0 }\n",
    "all_dem_words = { key:dict(sorted_d_values_dem)[key] for key in dict(sorted_d_values_dem).keys() if key>0 }\n",
    "print('   demwords:', len(all_dem_words))\n",
    "print('   repwords:', len(all_rep_words))\n",
    "print('   ', len(all_rep_words)+len(all_dem_words))\n",
    "\n",
    "results_list = []\n",
    "for i in range(50,100, 5):\n",
    "    j = i/100\n",
    "    temp_dict = {}\n",
    "    temp_dict['strength'] = j\n",
    "    temp_dict['dem_words'] = len([key for key in dict(sorted_d_values_dem).keys() if key>j])\n",
    "    temp_dict['rep_words'] = len([key for key in dict(sorted_d_values_rep).keys() if key>j])\n",
    "    results_list.append(temp_dict)\n",
    "    \n",
    "#Democrats talk about more things\n",
    "df_stregnths = pd.DataFrame(results_list)\n",
    "sns.pointplot('strength','dem_words', data=df_stregnths, color='b')\n",
    "sns.pointplot('strength','rep_words', data=df_stregnths, color='r')"
   ]
  },
  {
   "cell_type": "code",
   "execution_count": 21,
   "metadata": {},
   "outputs": [
    {
     "name": "stdout",
     "output_type": "stream",
     "text": [
      "    average dem score:  0.26338961507134206\n",
      "    average rep score:  0.24336653846695983\n"
     ]
    },
    {
     "name": "stderr",
     "output_type": "stream",
     "text": [
      "C:\\ProgramData\\Anaconda3\\lib\\site-packages\\matplotlib\\axes\\_axes.py:6462: UserWarning: The 'normed' kwarg is deprecated, and has been replaced by the 'density' kwarg.\n",
      "  warnings.warn(\"The 'normed' kwarg is deprecated, and has been \"\n",
      "C:\\ProgramData\\Anaconda3\\lib\\site-packages\\matplotlib\\axes\\_axes.py:6462: UserWarning: The 'normed' kwarg is deprecated, and has been replaced by the 'density' kwarg.\n",
      "  warnings.warn(\"The 'normed' kwarg is deprecated, and has been \"\n"
     ]
    },
    {
     "data": {
      "text/plain": [
       "<matplotlib.axes._subplots.AxesSubplot at 0x1c958b604a8>"
      ]
     },
     "execution_count": 21,
     "metadata": {},
     "output_type": "execute_result"
    },
    {
     "data": {
      "image/png": "[encoded data removed]",
      "text/plain": [
       "<Figure size 432x288 with 1 Axes>"
      ]
     },
     "metadata": {},
     "output_type": "display_data"
    }
   ],
   "source": [
    "#compare predict probas\n",
    "probas = latest_model.predict_proba(test_x)\n",
    "dem_probs = []\n",
    "rep_probs = []\n",
    "for i in range(len(probas)):\n",
    "    rep_probs.append(probas[i][1])\n",
    "    dem_probs.append(probas[i][2])\n",
    "print('    average dem score: ', sum(dem_probs) / len(dem_probs))\n",
    "print('    average rep score: ', sum(rep_probs) / len(rep_probs))\n",
    "#Distribution of republican and Democrat strength scoring\n",
    "sns.distplot(dem_probs, label='dem', color='blue') \n",
    "sns.distplot(rep_probs, label='rep', color='red')"
   ]
  },
  {
   "cell_type": "code",
   "execution_count": 43,
   "metadata": {},
   "outputs": [
    {
     "data": {
      "text/plain": [
       "'\\nInterpretation: Republicans talk about fewer things, but those things are big indicators. Maybe it takes a higher number of keywords to trigger Dem prediction?\\nFor the purposes of applying this to a random subreddit, \\nwe want scores outside [.38 to .62], to be safe'"
      ]
     },
     "execution_count": 43,
     "metadata": {},
     "output_type": "execute_result"
    }
   ],
   "source": [
    "'''\n",
    "Interpretation: Republicans talk about fewer things, but those things are big indicators. Maybe it takes a higher number of keywords to trigger Dem prediction?\n",
    "For the purposes of applying this to a random subreddit, \n",
    "we want scores outside [.38 to .62], to be safe'''"
   ]
  },
  {
   "cell_type": "code",
   "execution_count": 38,
   "metadata": {},
   "outputs": [
    {
     "data": {
      "text/plain": [
       "682     2\n",
       "2771    0\n",
       "2073    0\n",
       "1163    1\n",
       "3731    0\n",
       "3598    0\n",
       "2974    0\n",
       "3198    0\n",
       "2704    0\n",
       "1947    1\n",
       "Name: subred_cat, dtype: int32"
      ]
     },
     "execution_count": 38,
     "metadata": {},
     "output_type": "execute_result"
    }
   ],
   "source": [
    "test_y[:10]"
   ]
  },
  {
   "cell_type": "code",
   "execution_count": 39,
   "metadata": {},
   "outputs": [
    {
     "data": {
      "text/plain": [
       "array([[0.28148128, 0.22647896, 0.49203975],\n",
       "       [0.82253709, 0.09586105, 0.08160185],\n",
       "       [0.56017171, 0.22971746, 0.21011083],\n",
       "       [0.51359402, 0.35802076, 0.12838522],\n",
       "       [0.57029391, 0.23319379, 0.1965123 ],\n",
       "       [0.78168082, 0.11254381, 0.10577537],\n",
       "       [0.76108442, 0.09817446, 0.14074112],\n",
       "       [0.95096032, 0.02006578, 0.0289739 ],\n",
       "       [0.50651588, 0.24228378, 0.25120034],\n",
       "       [0.50478231, 0.23113484, 0.26408286]])"
      ]
     },
     "execution_count": 39,
     "metadata": {},
     "output_type": "execute_result"
    }
   ],
   "source": [
    "latest_model.predict_proba(test_x)[:10]"
   ]
  },
  {
   "cell_type": "code",
   "execution_count": 43,
   "metadata": {},
   "outputs": [
    {
     "data": {
      "text/plain": [
       "(801,)"
      ]
     },
     "execution_count": 43,
     "metadata": {},
     "output_type": "execute_result"
    }
   ],
   "source": [
    "\n",
    "latest_model.predict_proba(test_x).shape\n",
    "test_y.shape"
   ]
  },
  {
   "cell_type": "code",
   "execution_count": null,
   "metadata": {},
   "outputs": [],
   "source": [
    "'''WHY IS THE LAST ONE PREDICTING REPUBLICAN IF THE PROBABILITY IS LOWER?????'''"
   ]
  },
  {
   "cell_type": "markdown",
   "metadata": {},
   "source": [
    "# Outside Testing\n",
    "---\n",
    "Getting scores and validation from 3rd and 4th subreddit. "
   ]
  },
  {
   "cell_type": "markdown",
   "metadata": {},
   "source": [
    "## Back Testing: Does the model work on new posts from initial set?\n",
    "Establishing a baseline for net scoring process"
   ]
  },
  {
   "cell_type": "markdown",
   "metadata": {},
   "source": [
    "### r/All"
   ]
  },
  {
   "cell_type": "code",
   "execution_count": 13,
   "metadata": {
    "collapsed": true
   },
   "outputs": [
    {
     "name": "stdout",
     "output_type": "stream",
     "text": [
      "    iteration 0 worked. URL: https://www.reddit.com/r/all/.json?after=t3_9d5fta\n",
      "    iteration 1 worked. URL: https://www.reddit.com/r/all/.json?after=t3_9d4v0t\n",
      "    iteration 2 worked. URL: https://www.reddit.com/r/all/.json?after=t3_9d5kdm\n",
      "    iteration 3 worked. URL: https://www.reddit.com/r/all/.json?after=t3_9d42b8\n",
      "    iteration 4 worked. URL: https://www.reddit.com/r/all/.json?after=t3_9d5pgy\n",
      "    iteration 5 worked. URL: https://www.reddit.com/r/all/.json?after=t3_9d53dh\n",
      "    iteration 6 worked. URL: https://www.reddit.com/r/all/.json?after=t3_9d35bq\n",
      "    iteration 7 worked. URL: https://www.reddit.com/r/all/.json?after=t3_9d60my\n",
      "    iteration 8 worked. URL: https://www.reddit.com/r/all/.json?after=t3_9d3jkj\n",
      "    iteration 9 worked. URL: https://www.reddit.com/r/all/.json?after=t3_9d4xwg\n",
      "    iteration 10 worked. URL: https://www.reddit.com/r/all/.json?after=t3_9d2htg\n",
      "    iteration 11 worked. URL: https://www.reddit.com/r/all/.json?after=t3_9d1fu0\n",
      "    iteration 12 worked. URL: https://www.reddit.com/r/all/.json?after=t3_9d7lh7\n",
      "    iteration 13 worked. URL: https://www.reddit.com/r/all/.json?after=t3_9d5ba2\n",
      "    iteration 14 worked. URL: https://www.reddit.com/r/all/.json?after=t3_9d50k5\n",
      "    iteration 15 worked. URL: https://www.reddit.com/r/all/.json?after=t3_9d528f\n",
      "    iteration 16 worked. URL: https://www.reddit.com/r/all/.json?after=t3_9d65x7\n",
      "    iteration 17 worked. URL: https://www.reddit.com/r/all/.json?after=t3_9d5f3v\n",
      "    iteration 18 worked. URL: https://www.reddit.com/r/all/.json?after=t3_9d5r7f\n",
      "    iteration 19 worked. URL: https://www.reddit.com/r/all/.json?after=t3_9d0vjn\n",
      "    iteration 20 worked. URL: https://www.reddit.com/r/all/.json?after=t3_9d0vy2\n",
      "    iteration 21 worked. URL: https://www.reddit.com/r/all/.json?after=t3_9d60g1\n",
      "    iteration 22 worked. URL: https://www.reddit.com/r/all/.json?after=t3_9d5hq3\n",
      "    iteration 23 worked. URL: https://www.reddit.com/r/all/.json?after=t3_9d4qxf\n",
      "    iteration 24 worked. URL: https://www.reddit.com/r/all/.json?after=t3_9d59vh\n",
      "    text file:  all10018\n",
      "    size:  (625, 2)\n"
     ]
    }
   ],
   "source": [
    "subreddit_getter('all', 'CBH_Bot', max_pulls=25)"
   ]
  },
  {
   "cell_type": "code",
   "execution_count": 15,
   "metadata": {},
   "outputs": [
    {
     "name": "stdout",
     "output_type": "stream",
     "text": [
      "   None:  614\n",
      "   Rep:  0\n",
      "   Dem:  11\n",
      "   Adj Dem Count:  169\n",
      "   Adj Rep Count:  456\n",
      "   Net:  0.2704\n",
      "   average dem score:  0.5624942866646281\n",
      "   average rep score:  0.554794401106134\n",
      "   net score:  287\n"
     ]
    },
    {
     "name": "stderr",
     "output_type": "stream",
     "text": [
      "C:\\ProgramData\\Anaconda3\\lib\\site-packages\\matplotlib\\axes\\_axes.py:6462: UserWarning: The 'normed' kwarg is deprecated, and has been replaced by the 'density' kwarg.\n",
      "  warnings.warn(\"The 'normed' kwarg is deprecated, and has been \"\n"
     ]
    },
    {
     "name": "stdout",
     "output_type": "stream",
     "text": [
      "   net sum of probas:  28.84942491614971\n",
      "   mean proba delta:  0.0461590798658395\n",
      "   mode:  ModeResult(mode=array([0.08536413]), count=array([64]))\n",
      "   med:  0.07869978210695971\n"
     ]
    },
    {
     "data": {
      "image/png": "[encoded data removed]",
      "text/plain": [
       "<Figure size 432x288 with 1 Axes>"
      ]
     },
     "metadata": {},
     "output_type": "display_data"
    }
   ],
   "source": [
    "subreddit_Analysis(df_latest_scrape, output_figname='TestingA')"
   ]
  },
  {
   "cell_type": "markdown",
   "metadata": {},
   "source": [
    "### r/Democrats"
   ]
  },
  {
   "cell_type": "code",
   "execution_count": 24,
   "metadata": {
    "collapsed": true
   },
   "outputs": [
    {
     "name": "stdout",
     "output_type": "stream",
     "text": [
      "    iteration 0 worked. URL: https://www.reddit.com/r/Democrats/.json?after=t3_9d2xrk\n",
      "    iteration 1 worked. URL: https://www.reddit.com/r/Democrats/.json?after=t3_9cvdbw\n",
      "    iteration 2 worked. URL: https://www.reddit.com/r/Democrats/.json?after=t3_9cs73c\n",
      "    iteration 3 worked. URL: https://www.reddit.com/r/Democrats/.json?after=t3_9cpgoh\n",
      "    iteration 4 worked. URL: https://www.reddit.com/r/Democrats/.json?after=t3_9chcgk\n",
      "    iteration 5 worked. URL: https://www.reddit.com/r/Democrats/.json?after=t3_9cfujx\n",
      "    iteration 6 worked. URL: https://www.reddit.com/r/Democrats/.json?after=t3_9c9p21\n",
      "    iteration 7 worked. URL: https://www.reddit.com/r/Democrats/.json?after=t3_9c4rb2\n",
      "    iteration 8 worked. URL: https://www.reddit.com/r/Democrats/.json?after=t3_9bygjo\n",
      "    iteration 9 worked. URL: https://www.reddit.com/r/Democrats/.json?after=t3_9bpvpj\n",
      "    iteration 10 worked. URL: https://www.reddit.com/r/Democrats/.json?after=t3_9bkpbc\n",
      "    iteration 11 worked. URL: https://www.reddit.com/r/Democrats/.json?after=t3_9bhw2c\n",
      "    iteration 12 worked. URL: https://www.reddit.com/r/Democrats/.json?after=t3_9aywfk\n",
      "    iteration 13 worked. URL: https://www.reddit.com/r/Democrats/.json?after=t3_9az8df\n",
      "    iteration 14 worked. URL: https://www.reddit.com/r/Democrats/.json?after=t3_9avfv9\n",
      "    iteration 15 worked. URL: https://www.reddit.com/r/Democrats/.json?after=t3_9aoel3\n",
      "    iteration 16 worked. URL: https://www.reddit.com/r/Democrats/.json?after=t3_9adtsf\n",
      "    iteration 17 worked. URL: https://www.reddit.com/r/Democrats/.json?after=t3_9ab5z3\n",
      "    iteration 18 worked. URL: https://www.reddit.com/r/Democrats/.json?after=t3_9a0r6a\n",
      "    iteration 19 worked. URL: https://www.reddit.com/r/Democrats/.json?after=t3_99u8ef\n",
      "    text file:  Democrats18076\n",
      "    size:  (501, 2)\n"
     ]
    }
   ],
   "source": [
    "subreddit_getter('Democrats', 'CBH_Bot', max_pulls=20)"
   ]
  },
  {
   "cell_type": "code",
   "execution_count": 25,
   "metadata": {},
   "outputs": [
    {
     "name": "stdout",
     "output_type": "stream",
     "text": [
      "   None:  81\n",
      "   Rep:  7\n",
      "   Dem:  413\n",
      "   Adj Dem Count:  480\n",
      "   Adj Rep Count:  21\n",
      "   Net:  0.9580838323353293\n",
      "   average dem score:  0.6996334475942648\n",
      "   average rep score:  0.5594256397636035\n",
      "   net score:  -459\n"
     ]
    },
    {
     "name": "stderr",
     "output_type": "stream",
     "text": [
      "C:\\ProgramData\\Anaconda3\\lib\\site-packages\\matplotlib\\axes\\_axes.py:6462: UserWarning: The 'normed' kwarg is deprecated, and has been replaced by the 'density' kwarg.\n",
      "  warnings.warn(\"The 'normed' kwarg is deprecated, and has been \"\n"
     ]
    },
    {
     "name": "stdout",
     "output_type": "stream",
     "text": [
      "   net sum of probas:  -189.15223282042294\n",
      "   mean proba delta:  -0.377549366907032\n",
      "   mode:  ModeResult(mode=array([-0.49460827]), count=array([2]))\n",
      "   med:  -0.4051791461497938\n"
     ]
    },
    {
     "data": {
      "image/png": "[encoded data removed]",
      "text/plain": [
       "<Figure size 432x288 with 1 Axes>"
      ]
     },
     "metadata": {},
     "output_type": "display_data"
    }
   ],
   "source": [
    "subreddit_Analysis(df_latest_scrape, 'Dems_3A')"
   ]
  },
  {
   "cell_type": "markdown",
   "metadata": {},
   "source": [
    "### r/Republican"
   ]
  },
  {
   "cell_type": "code",
   "execution_count": 26,
   "metadata": {
    "collapsed": true
   },
   "outputs": [
    {
     "name": "stdout",
     "output_type": "stream",
     "text": [
      "    iteration 0 worked. URL: https://www.reddit.com/r/Republican/.json?after=t3_9cg4z7\n",
      "    iteration 1 worked. URL: https://www.reddit.com/r/Republican/.json?after=t3_9bpt7f\n",
      "    iteration 2 worked. URL: https://www.reddit.com/r/Republican/.json?after=t3_9b9ias\n",
      "    iteration 3 worked. URL: https://www.reddit.com/r/Republican/.json?after=t3_9abkdq\n",
      "    iteration 4 worked. URL: https://www.reddit.com/r/Republican/.json?after=t3_99x4pa\n",
      "    iteration 5 worked. URL: https://www.reddit.com/r/Republican/.json?after=t3_99fdid\n",
      "    iteration 6 worked. URL: https://www.reddit.com/r/Republican/.json?after=t3_98gnr6\n",
      "    iteration 7 worked. URL: https://www.reddit.com/r/Republican/.json?after=t3_9807r3\n",
      "    iteration 8 worked. URL: https://www.reddit.com/r/Republican/.json?after=t3_976j7b\n",
      "    iteration 9 worked. URL: https://www.reddit.com/r/Republican/.json?after=t3_96l0ye\n",
      "    iteration 10 worked. URL: https://www.reddit.com/r/Republican/.json?after=t3_95xwsh\n",
      "    iteration 11 worked. URL: https://www.reddit.com/r/Republican/.json?after=t3_95f48g\n",
      "    iteration 12 worked. URL: https://www.reddit.com/r/Republican/.json?after=t3_94ugoo\n",
      "    iteration 13 worked. URL: https://www.reddit.com/r/Republican/.json?after=t3_94etb6\n",
      "    iteration 14 worked. URL: https://www.reddit.com/r/Republican/.json?after=t3_93ksbt\n",
      "    iteration 15 worked. URL: https://www.reddit.com/r/Republican/.json?after=t3_93air1\n",
      "    iteration 16 worked. URL: https://www.reddit.com/r/Republican/.json?after=t3_92msq5\n",
      "    iteration 17 worked. URL: https://www.reddit.com/r/Republican/.json?after=t3_9254u1\n",
      "    iteration 18 worked. URL: https://www.reddit.com/r/Republican/.json?after=t3_91l4ew\n",
      "    iteration 19 worked. URL: https://www.reddit.com/r/Republican/.json?after=t3_917b6s\n",
      "    text file:  Republican58200\n",
      "    size:  (500, 2)\n"
     ]
    }
   ],
   "source": [
    "subreddit_getter('Republican', 'CBH_Bot', max_pulls=20)"
   ]
  },
  {
   "cell_type": "code",
   "execution_count": 27,
   "metadata": {},
   "outputs": [
    {
     "name": "stdout",
     "output_type": "stream",
     "text": [
      "   None:  94\n",
      "   Rep:  389\n",
      "   Dem:  17\n",
      "   Adj Dem Count:  31\n",
      "   Adj Rep Count:  469\n",
      "   Net:  0.062\n",
      "   average dem score:  0.5901615300441141\n",
      "   average rep score:  0.6978692579075709\n",
      "   net score:  438\n"
     ]
    },
    {
     "name": "stderr",
     "output_type": "stream",
     "text": [
      "C:\\ProgramData\\Anaconda3\\lib\\site-packages\\matplotlib\\axes\\_axes.py:6462: UserWarning: The 'normed' kwarg is deprecated, and has been replaced by the 'density' kwarg.\n",
      "  warnings.warn(\"The 'normed' kwarg is deprecated, and has been \"\n"
     ]
    },
    {
     "name": "stdout",
     "output_type": "stream",
     "text": [
      "   net sum of probas:  180.01134905456698\n",
      "   mean proba delta:  0.3600226981091338\n",
      "   mode:  ModeResult(mode=array([0.08536413]), count=array([2]))\n",
      "   med:  0.41349283113451796\n"
     ]
    },
    {
     "data": {
      "image/png": "[encoded data removed]",
      "text/plain": [
       "<Figure size 432x288 with 1 Axes>"
      ]
     },
     "metadata": {},
     "output_type": "display_data"
    }
   ],
   "source": [
    "subreddit_Analysis(df_latest_scrape, 'reps_3A')"
   ]
  },
  {
   "cell_type": "markdown",
   "metadata": {},
   "source": [
    "## Outside Testing: What does it look like on other subs?\n"
   ]
  },
  {
   "cell_type": "markdown",
   "metadata": {},
   "source": [
    "### r/The_Donald\n"
   ]
  },
  {
   "cell_type": "code",
   "execution_count": 28,
   "metadata": {
    "collapsed": true
   },
   "outputs": [
    {
     "name": "stdout",
     "output_type": "stream",
     "text": [
      "    iteration 0 worked. URL: https://www.reddit.com/r/the_donald/.json?after=t3_9d60lx\n",
      "    iteration 1 worked. URL: https://www.reddit.com/r/the_donald/.json?after=t3_9d6s9f\n",
      "    iteration 2 worked. URL: https://www.reddit.com/r/the_donald/.json?after=t3_9d6opz\n",
      "    iteration 3 worked. URL: https://www.reddit.com/r/the_donald/.json?after=t3_9czjf5\n",
      "    iteration 4 worked. URL: https://www.reddit.com/r/the_donald/.json?after=t3_9d5vzv\n",
      "    iteration 5 worked. URL: https://www.reddit.com/r/the_donald/.json?after=t3_9d20v8\n",
      "    iteration 6 worked. URL: https://www.reddit.com/r/the_donald/.json?after=t3_9d0yml\n",
      "    iteration 7 worked. URL: https://www.reddit.com/r/the_donald/.json?after=t3_9cya26\n",
      "    iteration 8 worked. URL: https://www.reddit.com/r/the_donald/.json?after=t3_9d2hsb\n",
      "    iteration 9 worked. URL: https://www.reddit.com/r/the_donald/.json?after=t3_9d85gl\n",
      "    iteration 10 worked. URL: https://www.reddit.com/r/the_donald/.json?after=t3_9d4tb4\n",
      "    iteration 11 worked. URL: https://www.reddit.com/r/the_donald/.json?after=t3_9d6rol\n",
      "    iteration 12 worked. URL: https://www.reddit.com/r/the_donald/.json?after=t3_9d7tjj\n",
      "    iteration 13 worked. URL: https://www.reddit.com/r/the_donald/.json?after=t3_9cx2z3\n",
      "    iteration 14 worked. URL: https://www.reddit.com/r/the_donald/.json?after=t3_9d4pu8\n",
      "    iteration 15 worked. URL: https://www.reddit.com/r/the_donald/.json?after=t3_9cvv47\n",
      "    iteration 16 worked. URL: https://www.reddit.com/r/the_donald/.json?after=t3_9d6da0\n",
      "    iteration 17 worked. URL: https://www.reddit.com/r/the_donald/.json?after=t3_9d76fk\n",
      "    iteration 18 worked. URL: https://www.reddit.com/r/the_donald/.json?after=t3_9d84qw\n",
      "    iteration 19 worked. URL: https://www.reddit.com/r/the_donald/.json?after=t3_9cwqwo\n",
      "    text file:  the_donald68589\n",
      "    size:  (502, 2)\n"
     ]
    }
   ],
   "source": [
    "subreddit_getter('the_donald', 'CBH_Bot', max_pulls=20)"
   ]
  },
  {
   "cell_type": "code",
   "execution_count": 29,
   "metadata": {},
   "outputs": [
    {
     "name": "stdout",
     "output_type": "stream",
     "text": [
      "   None:  349\n",
      "   Rep:  35\n",
      "   Dem:  118\n",
      "   Adj Dem Count:  264\n",
      "   Adj Rep Count:  238\n",
      "   Net:  0.5258964143426295\n",
      "   average dem score:  0.619312529084731\n",
      "   average rep score:  0.5766051457762524\n",
      "   net score:  -26\n",
      "   net sum of probas:  -26.53296596724171\n",
      "   mean proba delta:  -0.05285451387896756\n",
      "   mode:  ModeResult(mode=array([0.08536413]), count=array([9]))\n",
      "   med:  -0.017180806911738844\n"
     ]
    },
    {
     "name": "stderr",
     "output_type": "stream",
     "text": [
      "C:\\ProgramData\\Anaconda3\\lib\\site-packages\\matplotlib\\axes\\_axes.py:6462: UserWarning: The 'normed' kwarg is deprecated, and has been replaced by the 'density' kwarg.\n",
      "  warnings.warn(\"The 'normed' kwarg is deprecated, and has been \"\n"
     ]
    },
    {
     "data": {
      "image/png": "[encoded data removed]",
      "text/plain": [
       "<Figure size 432x288 with 1 Axes>"
      ]
     },
     "metadata": {},
     "output_type": "display_data"
    }
   ],
   "source": [
    "subreddit_Analysis(df_latest_scrape, 'the_donald_3A')"
   ]
  },
  {
   "cell_type": "markdown",
   "metadata": {},
   "source": [
    "### r/cats\n"
   ]
  },
  {
   "cell_type": "code",
   "execution_count": 30,
   "metadata": {
    "collapsed": true
   },
   "outputs": [
    {
     "name": "stdout",
     "output_type": "stream",
     "text": [
      "    iteration 0 worked. URL: https://www.reddit.com/r/cats/.json?after=t3_9d7nol\n",
      "    iteration 1 worked. URL: https://www.reddit.com/r/cats/.json?after=t3_9d2i4h\n",
      "    iteration 2 worked. URL: https://www.reddit.com/r/cats/.json?after=t3_9d7vff\n",
      "    iteration 3 worked. URL: https://www.reddit.com/r/cats/.json?after=t3_9d5sth\n",
      "    iteration 4 worked. URL: https://www.reddit.com/r/cats/.json?after=t3_9d71w7\n",
      "    iteration 5 worked. URL: https://www.reddit.com/r/cats/.json?after=t3_9cwpqn\n",
      "    iteration 6 worked. URL: https://www.reddit.com/r/cats/.json?after=t3_9d2fxg\n",
      "    iteration 7 worked. URL: https://www.reddit.com/r/cats/.json?after=t3_9d7aiu\n",
      "    iteration 8 worked. URL: https://www.reddit.com/r/cats/.json?after=t3_9cwccm\n",
      "    iteration 9 worked. URL: https://www.reddit.com/r/cats/.json?after=t3_9cy342\n",
      "    iteration 10 worked. URL: https://www.reddit.com/r/cats/.json?after=t3_9d7ouw\n",
      "    iteration 11 worked. URL: https://www.reddit.com/r/cats/.json?after=t3_9d2ak8\n",
      "    iteration 12 worked. URL: https://www.reddit.com/r/cats/.json?after=t3_9czacg\n",
      "    iteration 13 worked. URL: https://www.reddit.com/r/cats/.json?after=t3_9cvl85\n",
      "    iteration 14 worked. URL: https://www.reddit.com/r/cats/.json?after=t3_9cxrbr\n",
      "    iteration 15 worked. URL: https://www.reddit.com/r/cats/.json?after=t3_9d0jdj\n",
      "    iteration 16 worked. URL: https://www.reddit.com/r/cats/.json?after=t3_9csqei\n",
      "    iteration 17 worked. URL: https://www.reddit.com/r/cats/.json?after=t3_9cm0in\n",
      "    iteration 18 worked. URL: https://www.reddit.com/r/cats/.json?after=t3_9cz6j4\n",
      "    iteration 19 worked. URL: https://www.reddit.com/r/cats/.json?after=t3_9cihrm\n",
      "    text file:  cats105\n",
      "    size:  (500, 2)\n"
     ]
    }
   ],
   "source": [
    "subreddit_getter('cats', 'CBH_Bot', max_pulls=20)"
   ]
  },
  {
   "cell_type": "code",
   "execution_count": 31,
   "metadata": {},
   "outputs": [
    {
     "name": "stdout",
     "output_type": "stream",
     "text": [
      "   None:  499\n",
      "   Rep:  0\n",
      "   Dem:  1\n",
      "   Adj Dem Count:  139\n",
      "   Adj Rep Count:  361\n",
      "   Net:  0.278\n",
      "   average dem score:  0.5457206008719597\n",
      "   average rep score:  0.550931860091165\n",
      "   net score:  222\n"
     ]
    },
    {
     "name": "stderr",
     "output_type": "stream",
     "text": [
      "C:\\ProgramData\\Anaconda3\\lib\\site-packages\\matplotlib\\axes\\_axes.py:6462: UserWarning: The 'normed' kwarg is deprecated, and has been replaced by the 'density' kwarg.\n",
      "  warnings.warn(\"The 'normed' kwarg is deprecated, and has been \"\n"
     ]
    },
    {
     "name": "stdout",
     "output_type": "stream",
     "text": [
      "   net sum of probas:  24.062475943416082\n",
      "   mean proba delta:  0.04812495188683215\n",
      "   mode:  ModeResult(mode=array([0.08536413]), count=array([18]))\n",
      "   med:  0.06319781272403308\n"
     ]
    },
    {
     "data": {
      "image/png": "[encoded data removed]",
      "text/plain": [
       "<Figure size 432x288 with 1 Axes>"
      ]
     },
     "metadata": {},
     "output_type": "display_data"
    }
   ],
   "source": [
    "subreddit_Analysis(df_latest_scrape, 'cats_3A')"
   ]
  },
  {
   "cell_type": "markdown",
   "metadata": {},
   "source": [
    "### r/dogs\n"
   ]
  },
  {
   "cell_type": "code",
   "execution_count": 32,
   "metadata": {
    "collapsed": true
   },
   "outputs": [
    {
     "name": "stdout",
     "output_type": "stream",
     "text": [
      "    iteration 0 worked. URL: https://www.reddit.com/r/dogs/.json?after=t3_9cwr7h\n",
      "    iteration 1 worked. URL: https://www.reddit.com/r/dogs/.json?after=t3_9czr7m\n",
      "    iteration 2 worked. URL: https://www.reddit.com/r/dogs/.json?after=t3_9czbi7\n",
      "    iteration 3 worked. URL: https://www.reddit.com/r/dogs/.json?after=t3_9cy1k9\n",
      "    iteration 4 worked. URL: https://www.reddit.com/r/dogs/.json?after=t3_9cunrj\n",
      "    iteration 5 worked. URL: https://www.reddit.com/r/dogs/.json?after=t3_9cs6eg\n",
      "    iteration 6 worked. URL: https://www.reddit.com/r/dogs/.json?after=t3_9clca9\n",
      "    iteration 7 worked. URL: https://www.reddit.com/r/dogs/.json?after=t3_9cji11\n",
      "    iteration 8 worked. URL: https://www.reddit.com/r/dogs/.json?after=t3_9cjgho\n",
      "    iteration 9 worked. URL: https://www.reddit.com/r/dogs/.json?after=t3_9cf68f\n",
      "    iteration 10 worked. URL: https://www.reddit.com/r/dogs/.json?after=t3_9cb1cw\n",
      "    iteration 11 worked. URL: https://www.reddit.com/r/dogs/.json?after=t3_9c98ki\n",
      "    iteration 12 worked. URL: https://www.reddit.com/r/dogs/.json?after=t3_9c4iyj\n",
      "    iteration 13 worked. URL: https://www.reddit.com/r/dogs/.json?after=t3_9btses\n",
      "    iteration 14 worked. URL: https://www.reddit.com/r/dogs/.json?after=t3_9bzcz7\n",
      "    iteration 15 worked. URL: https://www.reddit.com/r/dogs/.json?after=t3_9btakn\n",
      "    iteration 16 worked. URL: https://www.reddit.com/r/dogs/.json?after=t3_9bqnri\n",
      "    iteration 17 worked. URL: https://www.reddit.com/r/dogs/.json?after=t3_9bl3fs\n",
      "    iteration 18 worked. URL: https://www.reddit.com/r/dogs/.json?after=t3_9bkcqh\n",
      "    iteration 19 worked. URL: https://www.reddit.com/r/dogs/.json?after=t3_9bh2zj\n",
      "    text file:  dogs48732\n",
      "    size:  (502, 2)\n"
     ]
    }
   ],
   "source": [
    "subreddit_getter('dogs', 'CBH_Bot', max_pulls=20)"
   ]
  },
  {
   "cell_type": "code",
   "execution_count": 33,
   "metadata": {},
   "outputs": [
    {
     "name": "stdout",
     "output_type": "stream",
     "text": [
      "   None:  502\n",
      "   Rep:  0\n",
      "   Dem:  0\n",
      "   Adj Dem Count:  190\n",
      "   Adj Rep Count:  312\n",
      "   Net:  0.3784860557768924\n",
      "   average dem score:  0.5410114142707823\n",
      "   average rep score:  0.5318124345999343\n",
      "   net score:  122\n"
     ]
    },
    {
     "name": "stderr",
     "output_type": "stream",
     "text": [
      "C:\\ProgramData\\Anaconda3\\lib\\site-packages\\matplotlib\\axes\\_axes.py:6462: UserWarning: The 'normed' kwarg is deprecated, and has been replaced by the 'density' kwarg.\n",
      "  warnings.warn(\"The 'normed' kwarg is deprecated, and has been \"\n"
     ]
    },
    {
     "name": "stdout",
     "output_type": "stream",
     "text": [
      "   net sum of probas:  4.26662176746181\n",
      "   mean proba delta:  0.008499246548728705\n",
      "   mode:  ModeResult(mode=array([-0.14737861]), count=array([6]))\n",
      "   med:  0.021367407062665378\n"
     ]
    },
    {
     "data": {
      "image/png": "[encoded data removed]",
      "text/plain": [
       "<Figure size 432x288 with 1 Axes>"
      ]
     },
     "metadata": {},
     "output_type": "display_data"
    }
   ],
   "source": [
    "subreddit_Analysis(df_latest_scrape, 'dogs_3A')"
   ]
  },
  {
   "cell_type": "markdown",
   "metadata": {},
   "source": [
    "### r/Communism\n"
   ]
  },
  {
   "cell_type": "code",
   "execution_count": 34,
   "metadata": {
    "collapsed": true
   },
   "outputs": [
    {
     "name": "stdout",
     "output_type": "stream",
     "text": [
      "    iteration 0 worked. URL: https://www.reddit.com/r/Communism/.json?after=t3_9coax5\n",
      "    iteration 1 worked. URL: https://www.reddit.com/r/Communism/.json?after=t3_9c7kvs\n",
      "    iteration 2 worked. URL: https://www.reddit.com/r/Communism/.json?after=t3_9bo4cb\n",
      "    iteration 3 worked. URL: https://www.reddit.com/r/Communism/.json?after=t3_9afr1p\n",
      "    iteration 4 worked. URL: https://www.reddit.com/r/Communism/.json?after=t3_99tysz\n",
      "    iteration 5 worked. URL: https://www.reddit.com/r/Communism/.json?after=t3_99csmx\n",
      "    iteration 6 worked. URL: https://www.reddit.com/r/Communism/.json?after=t3_988bti\n",
      "    iteration 7 worked. URL: https://www.reddit.com/r/Communism/.json?after=t3_9794fi\n",
      "    iteration 8 worked. URL: https://www.reddit.com/r/Communism/.json?after=t3_96xuui\n",
      "    iteration 9 worked. URL: https://www.reddit.com/r/Communism/.json?after=t3_9663jb\n",
      "    iteration 10 worked. URL: https://www.reddit.com/r/Communism/.json?after=t3_95oicc\n",
      "    iteration 11 worked. URL: https://www.reddit.com/r/Communism/.json?after=t3_94u9w2\n",
      "    iteration 12 worked. URL: https://www.reddit.com/r/Communism/.json?after=t3_9459d3\n",
      "    iteration 13 worked. URL: https://www.reddit.com/r/Communism/.json?after=t3_93b26h\n",
      "    iteration 14 worked. URL: https://www.reddit.com/r/Communism/.json?after=t3_92wlom\n",
      "    iteration 15 worked. URL: https://www.reddit.com/r/Communism/.json?after=t3_921xwe\n",
      "    iteration 16 worked. URL: https://www.reddit.com/r/Communism/.json?after=t3_91ekd0\n",
      "    iteration 17 worked. URL: https://www.reddit.com/r/Communism/.json?after=t3_90p5nr\n",
      "    iteration 18 worked. URL: https://www.reddit.com/r/Communism/.json?after=t3_8zqqf2\n",
      "    iteration 19 worked. URL: https://www.reddit.com/r/Communism/.json?after=t3_8z3nfo\n",
      "    text file:  Communism91999\n",
      "    size:  (500, 2)\n"
     ]
    }
   ],
   "source": [
    "subreddit_getter('Communism', 'CBH_Bot', max_pulls=20)"
   ]
  },
  {
   "cell_type": "code",
   "execution_count": 35,
   "metadata": {},
   "outputs": [
    {
     "name": "stdout",
     "output_type": "stream",
     "text": [
      "   None:  447\n",
      "   Rep:  31\n",
      "   Dem:  22\n",
      "   Adj Dem Count:  156\n",
      "   Adj Rep Count:  344\n",
      "   Net:  0.312\n",
      "   average dem score:  0.5619341328324824\n",
      "   average rep score:  0.579685699511391\n",
      "   net score:  188\n"
     ]
    },
    {
     "name": "stderr",
     "output_type": "stream",
     "text": [
      "C:\\ProgramData\\Anaconda3\\lib\\site-packages\\matplotlib\\axes\\_axes.py:6462: UserWarning: The 'normed' kwarg is deprecated, and has been replaced by the 'density' kwarg.\n",
      "  warnings.warn(\"The 'normed' kwarg is deprecated, and has been \"\n"
     ]
    },
    {
     "name": "stdout",
     "output_type": "stream",
     "text": [
      "   net sum of probas:  35.50031182010245\n",
      "   mean proba delta:  0.07100062364020496\n",
      "   mode:  ModeResult(mode=array([0.08536413]), count=array([25]))\n",
      "   med:  0.08380380574464028\n"
     ]
    },
    {
     "data": {
      "image/png": "[encoded data removed]",
      "text/plain": [
       "<Figure size 432x288 with 1 Axes>"
      ]
     },
     "metadata": {},
     "output_type": "display_data"
    }
   ],
   "source": [
    "subreddit_Analysis(df_latest_scrape, 'commies_3A')"
   ]
  },
  {
   "cell_type": "markdown",
   "metadata": {},
   "source": [
    "### r/libertarian\n"
   ]
  },
  {
   "cell_type": "code",
   "execution_count": 36,
   "metadata": {
    "collapsed": true
   },
   "outputs": [
    {
     "name": "stdout",
     "output_type": "stream",
     "text": [
      "    iteration 0 worked. URL: https://www.reddit.com/r/Libertarian/.json?after=t3_9d5bj4\n",
      "    iteration 1 worked. URL: https://www.reddit.com/r/Libertarian/.json?after=t3_9d81iw\n",
      "    iteration 2 worked. URL: https://www.reddit.com/r/Libertarian/.json?after=t3_9d6e8c\n",
      "    iteration 3 worked. URL: https://www.reddit.com/r/Libertarian/.json?after=t3_9d79c2\n",
      "    iteration 4 worked. URL: https://www.reddit.com/r/Libertarian/.json?after=t3_9d79n5\n",
      "    iteration 5 worked. URL: https://www.reddit.com/r/Libertarian/.json?after=t3_9d0o5n\n",
      "    iteration 6 worked. URL: https://www.reddit.com/r/Libertarian/.json?after=t3_9d0nwc\n",
      "    iteration 7 worked. URL: https://www.reddit.com/r/Libertarian/.json?after=t3_9cwt6z\n",
      "    iteration 8 worked. URL: https://www.reddit.com/r/Libertarian/.json?after=t3_9cmrs3\n",
      "    iteration 9 worked. URL: https://www.reddit.com/r/Libertarian/.json?after=t3_9cwbdj\n",
      "    iteration 10 worked. URL: https://www.reddit.com/r/Libertarian/.json?after=t3_9cs0lo\n",
      "    iteration 11 worked. URL: https://www.reddit.com/r/Libertarian/.json?after=t3_9cve5h\n",
      "    iteration 12 worked. URL: https://www.reddit.com/r/Libertarian/.json?after=t3_9cple0\n",
      "    iteration 13 worked. URL: https://www.reddit.com/r/Libertarian/.json?after=t3_9cvwnd\n",
      "    iteration 14 worked. URL: https://www.reddit.com/r/Libertarian/.json?after=t3_9cvh15\n",
      "    iteration 15 worked. URL: https://www.reddit.com/r/Libertarian/.json?after=t3_9csh4o\n",
      "    iteration 16 worked. URL: https://www.reddit.com/r/Libertarian/.json?after=t3_9clbch\n",
      "    iteration 17 worked. URL: https://www.reddit.com/r/Libertarian/.json?after=t3_9cn04j\n",
      "    iteration 18 worked. URL: https://www.reddit.com/r/Libertarian/.json?after=t3_9cpzoh\n",
      "    iteration 19 worked. URL: https://www.reddit.com/r/Libertarian/.json?after=t3_9cca7q\n",
      "    text file:  Libertarian41804\n",
      "    size:  (502, 2)\n"
     ]
    }
   ],
   "source": [
    "subreddit_getter('Libertarian', 'CBH_Bot', max_pulls=20)"
   ]
  },
  {
   "cell_type": "code",
   "execution_count": 37,
   "metadata": {},
   "outputs": [
    {
     "name": "stdout",
     "output_type": "stream",
     "text": [
      "   None:  413\n",
      "   Rep:  29\n",
      "   Dem:  60\n",
      "   Adj Dem Count:  185\n",
      "   Adj Rep Count:  317\n",
      "   Net:  0.36852589641434264\n",
      "   average dem score:  0.5943062683880609\n",
      "   average rep score:  0.5764703669190908\n",
      "   net score:  132\n"
     ]
    },
    {
     "name": "stderr",
     "output_type": "stream",
     "text": [
      "C:\\ProgramData\\Anaconda3\\lib\\site-packages\\matplotlib\\axes\\_axes.py:6462: UserWarning: The 'normed' kwarg is deprecated, and has been replaced by the 'density' kwarg.\n",
      "  warnings.warn(\"The 'normed' kwarg is deprecated, and has been \"\n"
     ]
    },
    {
     "name": "stdout",
     "output_type": "stream",
     "text": [
      "   net sum of probas:  13.588893323120981\n",
      "   mean proba delta:  0.027069508611794794\n",
      "   mode:  ModeResult(mode=array([0.08536413]), count=array([22]))\n",
      "   med:  0.061639478442377826\n"
     ]
    },
    {
     "data": {
      "image/png": "[encoded data removed]",
      "text/plain": [
       "<Figure size 432x288 with 1 Axes>"
      ]
     },
     "metadata": {},
     "output_type": "display_data"
    }
   ],
   "source": [
    "subreddit_Analysis(df_latest_scrape, 'libertarian_3A')"
   ]
  },
  {
   "cell_type": "code",
   "execution_count": null,
   "metadata": {},
   "outputs": [],
   "source": []
  },
  {
   "cell_type": "markdown",
   "metadata": {},
   "source": [
    "### r/Liberal\n"
   ]
  },
  {
   "cell_type": "code",
   "execution_count": 38,
   "metadata": {
    "collapsed": true
   },
   "outputs": [
    {
     "name": "stdout",
     "output_type": "stream",
     "text": [
      "    iteration 0 worked. URL: https://www.reddit.com/r/Liberal/.json?after=t3_9cl4w3\n",
      "    iteration 1 worked. URL: https://www.reddit.com/r/Liberal/.json?after=t3_9bgf1k\n",
      "    iteration 2 worked. URL: https://www.reddit.com/r/Liberal/.json?after=t3_9a92pl\n",
      "    iteration 3 worked. URL: https://www.reddit.com/r/Liberal/.json?after=t3_9971lr\n",
      "    iteration 4 worked. URL: https://www.reddit.com/r/Liberal/.json?after=t3_98lehf\n",
      "    iteration 5 worked. URL: https://www.reddit.com/r/Liberal/.json?after=t3_97bek2\n",
      "    iteration 6 worked. URL: https://www.reddit.com/r/Liberal/.json?after=t3_965q5m\n",
      "    iteration 7 worked. URL: https://www.reddit.com/r/Liberal/.json?after=t3_950y06\n",
      "    iteration 8 worked. URL: https://www.reddit.com/r/Liberal/.json?after=t3_944arl\n",
      "    iteration 9 worked. URL: https://www.reddit.com/r/Liberal/.json?after=t3_93kkts\n",
      "    iteration 10 worked. URL: https://www.reddit.com/r/Liberal/.json?after=t3_92d5ac\n",
      "    iteration 11 worked. URL: https://www.reddit.com/r/Liberal/.json?after=t3_91x38k\n",
      "    iteration 12 worked. URL: https://www.reddit.com/r/Liberal/.json?after=t3_9175en\n",
      "    iteration 13 worked. URL: https://www.reddit.com/r/Liberal/.json?after=t3_8zy0ne\n",
      "    iteration 14 worked. URL: https://www.reddit.com/r/Liberal/.json?after=t3_8zpb9o\n",
      "    iteration 15 worked. URL: https://www.reddit.com/r/Liberal/.json?after=t3_8yql2z\n",
      "    iteration 16 worked. URL: https://www.reddit.com/r/Liberal/.json?after=t3_8xt53i\n",
      "    iteration 17 worked. URL: https://www.reddit.com/r/Liberal/.json?after=t3_8xfevu\n",
      "    iteration 18 worked. URL: https://www.reddit.com/r/Liberal/.json?after=t3_8w5s3n\n",
      "    iteration 19 worked. URL: https://www.reddit.com/r/Liberal/.json?after=t3_8up2tj\n",
      "    text file:  Liberal35849\n",
      "    size:  (500, 2)\n"
     ]
    }
   ],
   "source": [
    "subreddit_getter('Liberal', 'CBH_Bot', max_pulls=20)"
   ]
  },
  {
   "cell_type": "code",
   "execution_count": 39,
   "metadata": {
    "collapsed": true
   },
   "outputs": [
    {
     "name": "stdout",
     "output_type": "stream",
     "text": [
      "   None:  218\n",
      "   Rep:  56\n",
      "   Dem:  226\n",
      "   Adj Dem Count:  304\n",
      "   Adj Rep Count:  196\n",
      "   Net:  0.608\n",
      "   average dem score:  0.6327456982960288\n",
      "   average rep score:  0.5892210426647281\n",
      "   net score:  -108\n",
      "   net sum of probas:  -45.73473583941239\n",
      "   mean proba delta:  -0.09146947167882465\n",
      "   mode:  ModeResult(mode=array([0.08536413]), count=array([2]))\n",
      "   med:  -0.08197840861230365\n"
     ]
    },
    {
     "name": "stderr",
     "output_type": "stream",
     "text": [
      "C:\\ProgramData\\Anaconda3\\lib\\site-packages\\matplotlib\\axes\\_axes.py:6462: UserWarning: The 'normed' kwarg is deprecated, and has been replaced by the 'density' kwarg.\n",
      "  warnings.warn(\"The 'normed' kwarg is deprecated, and has been \"\n"
     ]
    },
    {
     "data": {
      "image/png": "[encoded data removed]",
      "text/plain": [
       "<Figure size 432x288 with 1 Axes>"
      ]
     },
     "metadata": {},
     "output_type": "display_data"
    }
   ],
   "source": [
    "subreddit_Analysis(df_latest_scrape, 'Liberal_3A')"
   ]
  },
  {
   "cell_type": "code",
   "execution_count": null,
   "metadata": {},
   "outputs": [],
   "source": []
  },
  {
   "cell_type": "markdown",
   "metadata": {},
   "source": [
    "### r/GameofThrones\n"
   ]
  },
  {
   "cell_type": "code",
   "execution_count": 41,
   "metadata": {
    "collapsed": true
   },
   "outputs": [
    {
     "name": "stdout",
     "output_type": "stream",
     "text": [
      "    iteration 0 worked. URL: https://www.reddit.com/r/gameofthrones/.json?after=t3_9cwtq2\n",
      "    iteration 1 worked. URL: https://www.reddit.com/r/gameofthrones/.json?after=t3_9cl8tj\n",
      "    iteration 2 worked. URL: https://www.reddit.com/r/gameofthrones/.json?after=t3_9ck662\n",
      "    iteration 3 worked. URL: https://www.reddit.com/r/gameofthrones/.json?after=t3_9ce8b0\n",
      "    iteration 4 worked. URL: https://www.reddit.com/r/gameofthrones/.json?after=t3_9c0lca\n",
      "    iteration 5 worked. URL: https://www.reddit.com/r/gameofthrones/.json?after=t3_9bje1t\n",
      "    iteration 6 worked. URL: https://www.reddit.com/r/gameofthrones/.json?after=t3_9b9xmn\n",
      "    iteration 7 worked. URL: https://www.reddit.com/r/gameofthrones/.json?after=t3_9aycuc\n",
      "    iteration 8 worked. URL: https://www.reddit.com/r/gameofthrones/.json?after=t3_9aig5w\n",
      "    iteration 9 worked. URL: https://www.reddit.com/r/gameofthrones/.json?after=t3_9aejp8\n",
      "    iteration 10 worked. URL: https://www.reddit.com/r/gameofthrones/.json?after=t3_9a6h88\n",
      "    iteration 11 worked. URL: https://www.reddit.com/r/gameofthrones/.json?after=t3_9a6835\n",
      "    iteration 12 worked. URL: https://www.reddit.com/r/gameofthrones/.json?after=t3_99mgo6\n",
      "    iteration 13 worked. URL: https://www.reddit.com/r/gameofthrones/.json?after=t3_99bbrp\n",
      "    iteration 14 worked. URL: https://www.reddit.com/r/gameofthrones/.json?after=t3_9946yu\n",
      "    iteration 15 worked. URL: https://www.reddit.com/r/gameofthrones/.json?after=t3_98m1co\n",
      "    iteration 16 worked. URL: https://www.reddit.com/r/gameofthrones/.json?after=t3_98bsuj\n",
      "    iteration 17 worked. URL: https://www.reddit.com/r/gameofthrones/.json?after=t3_983n46\n",
      "    iteration 18 worked. URL: https://www.reddit.com/r/gameofthrones/.json?after=t3_97t4pt\n",
      "    iteration 19 worked. URL: https://www.reddit.com/r/gameofthrones/.json?after=t3_97cscu\n",
      "    text file:  gameofthrones38795\n",
      "    size:  (502, 2)\n"
     ]
    }
   ],
   "source": [
    "subreddit_getter('gameofthrones', 'CBH_Bot', max_pulls=20)"
   ]
  },
  {
   "cell_type": "code",
   "execution_count": 44,
   "metadata": {},
   "outputs": [
    {
     "name": "stdout",
     "output_type": "stream",
     "text": [
      "   None:  502\n",
      "   Rep:  0\n",
      "   Dem:  0\n",
      "   Adj Dem Count:  108\n",
      "   Adj Rep Count:  394\n",
      "   Net:  0.2151394422310757\n",
      "   average dem score:  0.5409666020702975\n",
      "   average rep score:  0.5446548326125095\n",
      "   net score:  286\n",
      "   net sum of probas:  26.339222051473115\n",
      "   mean proba delta:  0.05246856982365156\n",
      "   mode:  ModeResult(mode=array([0.08408008]), count=array([39]))\n",
      "   med:  0.064559943739122\n"
     ]
    },
    {
     "name": "stderr",
     "output_type": "stream",
     "text": [
      "C:\\ProgramData\\Anaconda3\\lib\\site-packages\\matplotlib\\axes\\_axes.py:6462: UserWarning: The 'normed' kwarg is deprecated, and has been replaced by the 'density' kwarg.\n",
      "  warnings.warn(\"The 'normed' kwarg is deprecated, and has been \"\n"
     ]
    },
    {
     "data": {
      "image/png": "[encoded data removed]",
      "text/plain": [
       "<Figure size 432x288 with 1 Axes>"
      ]
     },
     "metadata": {},
     "output_type": "display_data"
    }
   ],
   "source": [
    "subreddit_Analysis(df_latest_scrape, 'GOT_3A')"
   ]
  },
  {
   "cell_type": "markdown",
   "metadata": {},
   "source": [
    "### r/asoiaf\n"
   ]
  },
  {
   "cell_type": "code",
   "execution_count": 45,
   "metadata": {
    "collapsed": true
   },
   "outputs": [
    {
     "name": "stdout",
     "output_type": "stream",
     "text": [
      "    iteration 0 worked. URL: https://www.reddit.com/r/asoiaf/.json?after=t3_9cvz46\n",
      "    iteration 1 worked. URL: https://www.reddit.com/r/asoiaf/.json?after=t3_9cb8w9\n",
      "    iteration 2 worked. URL: https://www.reddit.com/r/asoiaf/.json?after=t3_9c3kno\n",
      "    iteration 3 worked. URL: https://www.reddit.com/r/asoiaf/.json?after=t3_9bzvee\n",
      "    iteration 4 worked. URL: https://www.reddit.com/r/asoiaf/.json?after=t3_9bcc40\n",
      "    iteration 5 worked. URL: https://www.reddit.com/r/asoiaf/.json?after=t3_9bbee5\n",
      "    iteration 6 worked. URL: https://www.reddit.com/r/asoiaf/.json?after=t3_9azduy\n",
      "    iteration 7 worked. URL: https://www.reddit.com/r/asoiaf/.json?after=t3_9ai7vx\n",
      "    iteration 8 worked. URL: https://www.reddit.com/r/asoiaf/.json?after=t3_9amyj2\n",
      "    iteration 9 worked. URL: https://www.reddit.com/r/asoiaf/.json?after=t3_9a46xy\n",
      "    iteration 10 worked. URL: https://www.reddit.com/r/asoiaf/.json?after=t3_99w5wh\n",
      "    iteration 11 worked. URL: https://www.reddit.com/r/asoiaf/.json?after=t3_99v69p\n",
      "    iteration 12 worked. URL: https://www.reddit.com/r/asoiaf/.json?after=t3_99d5mc\n",
      "    iteration 13 worked. URL: https://www.reddit.com/r/asoiaf/.json?after=t3_99cj3f\n",
      "    iteration 14 worked. URL: https://www.reddit.com/r/asoiaf/.json?after=t3_98xb9s\n",
      "    iteration 15 worked. URL: https://www.reddit.com/r/asoiaf/.json?after=t3_98rq3c\n",
      "    iteration 16 worked. URL: https://www.reddit.com/r/asoiaf/.json?after=t3_98cmop\n",
      "    iteration 17 worked. URL: https://www.reddit.com/r/asoiaf/.json?after=t3_982u4b\n",
      "    iteration 18 worked. URL: https://www.reddit.com/r/asoiaf/.json?after=t3_9815st\n",
      "    iteration 19 worked. URL: https://www.reddit.com/r/asoiaf/.json?after=t3_97j29r\n",
      "    text file:  asoiaf36417\n",
      "    size:  (502, 2)\n"
     ]
    }
   ],
   "source": [
    "subreddit_getter('asoiaf', 'CBH_Bot', max_pulls=20)"
   ]
  },
  {
   "cell_type": "code",
   "execution_count": 46,
   "metadata": {},
   "outputs": [
    {
     "name": "stdout",
     "output_type": "stream",
     "text": [
      "   None:  501\n",
      "   Rep:  0\n",
      "   Dem:  1\n",
      "   Adj Dem Count:  98\n",
      "   Adj Rep Count:  404\n",
      "   Net:  0.1952191235059761\n",
      "   average dem score:  0.5444218043409741\n",
      "   average rep score:  0.5459703549027098\n",
      "   net score:  306\n",
      "   net sum of probas:  28.437373110557736\n",
      "   mean proba delta:  0.056648153606688664\n",
      "   mode:  ModeResult(mode=array([0.08408008]), count=array([75]))\n",
      "   med:  0.07959884980880769\n"
     ]
    },
    {
     "name": "stderr",
     "output_type": "stream",
     "text": [
      "C:\\ProgramData\\Anaconda3\\lib\\site-packages\\matplotlib\\axes\\_axes.py:6462: UserWarning: The 'normed' kwarg is deprecated, and has been replaced by the 'density' kwarg.\n",
      "  warnings.warn(\"The 'normed' kwarg is deprecated, and has been \"\n"
     ]
    },
    {
     "data": {
      "image/png": "[encoded data removed]",
      "text/plain": [
       "<Figure size 432x288 with 1 Axes>"
      ]
     },
     "metadata": {},
     "output_type": "display_data"
    }
   ],
   "source": [
    "subreddit_Analysis(df_latest_scrape, 'asoiaf_3A')"
   ]
  },
  {
   "cell_type": "markdown",
   "metadata": {},
   "source": [
    "### r/NFL\n"
   ]
  },
  {
   "cell_type": "code",
   "execution_count": 47,
   "metadata": {
    "collapsed": true
   },
   "outputs": [
    {
     "name": "stdout",
     "output_type": "stream",
     "text": [
      "    iteration 0 worked. URL: https://www.reddit.com/r/nfl/.json?after=t3_9cz75f\n",
      "    iteration 1 worked. URL: https://www.reddit.com/r/nfl/.json?after=t3_9d7nnc\n",
      "    iteration 2 worked. URL: https://www.reddit.com/r/nfl/.json?after=t3_9czbln\n",
      "    iteration 3 worked. URL: https://www.reddit.com/r/nfl/.json?after=t3_9cvq44\n",
      "    iteration 4 worked. URL: https://www.reddit.com/r/nfl/.json?after=t3_9cxqsa\n",
      "    iteration 5 worked. URL: https://www.reddit.com/r/nfl/.json?after=t3_9cs7mx\n",
      "    iteration 6 worked. URL: https://www.reddit.com/r/nfl/.json?after=t3_9cp32m\n",
      "    iteration 7 worked. URL: https://www.reddit.com/r/nfl/.json?after=t3_9cnfh9\n",
      "    iteration 8 worked. URL: https://www.reddit.com/r/nfl/.json?after=t3_9cwicv\n",
      "    iteration 9 worked. URL: https://www.reddit.com/r/nfl/.json?after=t3_9cp4uq\n",
      "    iteration 10 worked. URL: https://www.reddit.com/r/nfl/.json?after=t3_9coeqv\n",
      "    iteration 11 worked. URL: https://www.reddit.com/r/nfl/.json?after=t3_9d00mo\n",
      "    iteration 12 worked. URL: https://www.reddit.com/r/nfl/.json?after=t3_9cqtc1\n",
      "    iteration 13 worked. URL: https://www.reddit.com/r/nfl/.json?after=t3_9cbr2j\n",
      "    iteration 14 worked. URL: https://www.reddit.com/r/nfl/.json?after=t3_9cequf\n",
      "    iteration 15 worked. URL: https://www.reddit.com/r/nfl/.json?after=t3_9cf2zw\n",
      "    iteration 16 worked. URL: https://www.reddit.com/r/nfl/.json?after=t3_9cfyvk\n",
      "    iteration 17 worked. URL: https://www.reddit.com/r/nfl/.json?after=t3_9c3md2\n",
      "    iteration 18 worked. URL: https://www.reddit.com/r/nfl/.json?after=t3_9c5yoi\n",
      "    iteration 19 worked. URL: https://www.reddit.com/r/nfl/.json?after=t3_9c8e4c\n",
      "    text file:  nfl69766\n",
      "    size:  (502, 2)\n"
     ]
    }
   ],
   "source": [
    "subreddit_getter('nfl', 'CBH_Bot', max_pulls=20)"
   ]
  },
  {
   "cell_type": "code",
   "execution_count": 48,
   "metadata": {},
   "outputs": [
    {
     "name": "stdout",
     "output_type": "stream",
     "text": [
      "   None:  495\n",
      "   Rep:  3\n",
      "   Dem:  4\n",
      "   Adj Dem Count:  214\n",
      "   Adj Rep Count:  288\n",
      "   Net:  0.4262948207171315\n",
      "   average dem score:  0.5601328019719376\n",
      "   average rep score:  0.5575924992261081\n",
      "   net score:  74\n",
      "   net sum of probas:  7.436440310249116\n",
      "   mean proba delta:  0.014813626116034104\n",
      "   mode:  ModeResult(mode=array([0.08536413]), count=array([7]))\n",
      "   med:  0.02895088196786827\n"
     ]
    },
    {
     "name": "stderr",
     "output_type": "stream",
     "text": [
      "C:\\ProgramData\\Anaconda3\\lib\\site-packages\\matplotlib\\axes\\_axes.py:6462: UserWarning: The 'normed' kwarg is deprecated, and has been replaced by the 'density' kwarg.\n",
      "  warnings.warn(\"The 'normed' kwarg is deprecated, and has been \"\n"
     ]
    },
    {
     "data": {
      "image/png": "[encoded data removed]",
      "text/plain": [
       "<Figure size 432x288 with 1 Axes>"
      ]
     },
     "metadata": {},
     "output_type": "display_data"
    }
   ],
   "source": [
    "subreddit_Analysis(df_latest_scrape, 'NFL_3A')"
   ]
  },
  {
   "cell_type": "markdown",
   "metadata": {},
   "source": [
    "### r/CFB\n"
   ]
  },
  {
   "cell_type": "code",
   "execution_count": 49,
   "metadata": {
    "collapsed": true
   },
   "outputs": [
    {
     "name": "stdout",
     "output_type": "stream",
     "text": [
      "    iteration 0 worked. URL: https://www.reddit.com/r/CFB/.json?after=t3_9d830v\n",
      "    iteration 1 worked. URL: https://www.reddit.com/r/CFB/.json?after=t3_9d8d5d\n",
      "    iteration 2 worked. URL: https://www.reddit.com/r/CFB/.json?after=t3_9d2kig\n",
      "    iteration 3 worked. URL: https://www.reddit.com/r/CFB/.json?after=t3_9ct52k\n",
      "    iteration 4 worked. URL: https://www.reddit.com/r/CFB/.json?after=t3_9d0mxq\n",
      "    iteration 5 worked. URL: https://www.reddit.com/r/CFB/.json?after=t3_9cxf9g\n",
      "    iteration 6 worked. URL: https://www.reddit.com/r/CFB/.json?after=t3_9corp5\n",
      "    iteration 7 worked. URL: https://www.reddit.com/r/CFB/.json?after=t3_9cp7tl\n",
      "    iteration 8 worked. URL: https://www.reddit.com/r/CFB/.json?after=t3_9chgca\n",
      "    iteration 9 worked. URL: https://www.reddit.com/r/CFB/.json?after=t3_9cgdyp\n",
      "    iteration 10 worked. URL: https://www.reddit.com/r/CFB/.json?after=t3_9c7nka\n",
      "    iteration 11 worked. URL: https://www.reddit.com/r/CFB/.json?after=t3_9ccsju\n",
      "    iteration 12 worked. URL: https://www.reddit.com/r/CFB/.json?after=t3_9c8ili\n",
      "    iteration 13 worked. URL: https://www.reddit.com/r/CFB/.json?after=t3_9c3oue\n",
      "    iteration 14 worked. URL: https://www.reddit.com/r/CFB/.json?after=t3_9c9x4p\n",
      "    iteration 15 worked. URL: https://www.reddit.com/r/CFB/.json?after=t3_9c5lnc\n",
      "    iteration 16 worked. URL: https://www.reddit.com/r/CFB/.json?after=t3_9c3wte\n",
      "    iteration 17 worked. URL: https://www.reddit.com/r/CFB/.json?after=t3_9c606r\n",
      "    iteration 18 worked. URL: https://www.reddit.com/r/CFB/.json?after=t3_9c6j8w\n",
      "    iteration 19 worked. URL: https://www.reddit.com/r/CFB/.json?after=t3_9c6znw\n",
      "    text file:  CFB14986\n",
      "    size:  (502, 2)\n"
     ]
    }
   ],
   "source": [
    "subreddit_getter('CFB', 'CBH_Bot', max_pulls=20)"
   ]
  },
  {
   "cell_type": "code",
   "execution_count": 50,
   "metadata": {},
   "outputs": [
    {
     "name": "stdout",
     "output_type": "stream",
     "text": [
      "   None:  490\n",
      "   Rep:  7\n",
      "   Dem:  5\n",
      "   Adj Dem Count:  106\n",
      "   Adj Rep Count:  396\n",
      "   Net:  0.21115537848605578\n",
      "   average dem score:  0.5427594236074563\n",
      "   average rep score:  0.5759665300141442\n",
      "   net score:  290\n",
      "   net sum of probas:  51.10049396642157\n",
      "   mean proba delta:  0.10179381268211461\n",
      "   mode:  ModeResult(mode=array([0.2400976]), count=array([10]))\n",
      "   med:  0.09752387793640457\n"
     ]
    },
    {
     "name": "stderr",
     "output_type": "stream",
     "text": [
      "C:\\ProgramData\\Anaconda3\\lib\\site-packages\\matplotlib\\axes\\_axes.py:6462: UserWarning: The 'normed' kwarg is deprecated, and has been replaced by the 'density' kwarg.\n",
      "  warnings.warn(\"The 'normed' kwarg is deprecated, and has been \"\n"
     ]
    },
    {
     "data": {
      "image/png": "[encoded data removed]",
      "text/plain": [
       "<Figure size 432x288 with 1 Axes>"
      ]
     },
     "metadata": {},
     "output_type": "display_data"
    }
   ],
   "source": [
    "subreddit_Analysis(df_latest_scrape, 'CFB_3A')"
   ]
  },
  {
   "cell_type": "markdown",
   "metadata": {},
   "source": [
    "### r/soccer\n"
   ]
  },
  {
   "cell_type": "code",
   "execution_count": 51,
   "metadata": {
    "collapsed": true
   },
   "outputs": [
    {
     "name": "stdout",
     "output_type": "stream",
     "text": [
      "    iteration 0 worked. URL: https://www.reddit.com/r/soccer/.json?after=t3_9d0h1n\n",
      "    iteration 1 worked. URL: https://www.reddit.com/r/soccer/.json?after=t3_9d4vjc\n",
      "    iteration 2 worked. URL: https://www.reddit.com/r/soccer/.json?after=t3_9cvg80\n",
      "    iteration 3 worked. URL: https://www.reddit.com/r/soccer/.json?after=t3_9d3i4v\n",
      "    iteration 4 worked. URL: https://www.reddit.com/r/soccer/.json?after=t3_9cv0e3\n",
      "    iteration 5 worked. URL: https://www.reddit.com/r/soccer/.json?after=t3_9ctpxy\n",
      "    iteration 6 worked. URL: https://www.reddit.com/r/soccer/.json?after=t3_9cu9ry\n",
      "    iteration 7 worked. URL: https://www.reddit.com/r/soccer/.json?after=t3_9cxid1\n",
      "    iteration 8 worked. URL: https://www.reddit.com/r/soccer/.json?after=t3_9cv451\n",
      "    iteration 9 worked. URL: https://www.reddit.com/r/soccer/.json?after=t3_9ckunr\n",
      "    iteration 10 worked. URL: https://www.reddit.com/r/soccer/.json?after=t3_9cu0nv\n",
      "    iteration 11 worked. URL: https://www.reddit.com/r/soccer/.json?after=t3_9cnkdr\n",
      "    iteration 12 worked. URL: https://www.reddit.com/r/soccer/.json?after=t3_9clcp3\n",
      "    iteration 13 worked. URL: https://www.reddit.com/r/soccer/.json?after=t3_9cne8a\n",
      "    iteration 14 worked. URL: https://www.reddit.com/r/soccer/.json?after=t3_9cmz1i\n",
      "    iteration 15 worked. URL: https://www.reddit.com/r/soccer/.json?after=t3_9cofzx\n",
      "    iteration 16 worked. URL: https://www.reddit.com/r/soccer/.json?after=t3_9cl4ou\n",
      "    iteration 17 worked. URL: https://www.reddit.com/r/soccer/.json?after=t3_9conk8\n",
      "    iteration 18 worked. URL: https://www.reddit.com/r/soccer/.json?after=t3_9cdkdp\n",
      "    iteration 19 worked. URL: https://www.reddit.com/r/soccer/.json?after=t3_9cdkk7\n",
      "    text file:  soccer30540\n",
      "    size:  (502, 2)\n"
     ]
    }
   ],
   "source": [
    "subreddit_getter('soccer', 'CBH_Bot', max_pulls=20)"
   ]
  },
  {
   "cell_type": "code",
   "execution_count": 52,
   "metadata": {},
   "outputs": [
    {
     "name": "stdout",
     "output_type": "stream",
     "text": [
      "   None:  494\n",
      "   Rep:  2\n",
      "   Dem:  6\n",
      "   Adj Dem Count:  161\n",
      "   Adj Rep Count:  341\n",
      "   Net:  0.3207171314741036\n",
      "   average dem score:  0.5480253289307012\n",
      "   average rep score:  0.5542315523194405\n",
      "   net score:  180\n",
      "   net sum of probas:  21.5217627661728\n",
      "   mean proba delta:  0.04287203738281435\n",
      "   mode:  ModeResult(mode=array([0.08536413]), count=array([16]))\n",
      "   med:  0.05683782141617541\n"
     ]
    },
    {
     "name": "stderr",
     "output_type": "stream",
     "text": [
      "C:\\ProgramData\\Anaconda3\\lib\\site-packages\\matplotlib\\axes\\_axes.py:6462: UserWarning: The 'normed' kwarg is deprecated, and has been replaced by the 'density' kwarg.\n",
      "  warnings.warn(\"The 'normed' kwarg is deprecated, and has been \"\n"
     ]
    },
    {
     "data": {
      "image/png": "[encoded data removed]",
      "text/plain": [
       "<Figure size 432x288 with 1 Axes>"
      ]
     },
     "metadata": {},
     "output_type": "display_data"
    }
   ],
   "source": [
    "subreddit_Analysis(df_latest_scrape, 'soccer_3A')"
   ]
  },
  {
   "cell_type": "code",
   "execution_count": null,
   "metadata": {},
   "outputs": [],
   "source": []
  }
 ],
 "metadata": {
  "anaconda-cloud": {},
  "kernelspec": {
   "display_name": "Python 3",
   "language": "python",
   "name": "python3"
  },
  "language_info": {
   "codemirror_mode": {
    "name": "ipython",
    "version": 3
   },
   "file_extension": ".py",
   "mimetype": "text/x-python",
   "name": "python",
   "nbconvert_exporter": "python",
   "pygments_lexer": "ipython3",
   "version": "3.6.5"
  },
  "varInspector": {
   "cols": {
    "lenName": 16,
    "lenType": 16,
    "lenVar": 40
   },
   "kernels_config": {
    "python": {
     "delete_cmd_postfix": "",
     "delete_cmd_prefix": "del ",
     "library": "var_list.py",
     "varRefreshCmd": "print(var_dic_list())"
    },
    "r": {
     "delete_cmd_postfix": ") ",
     "delete_cmd_prefix": "rm(",
     "library": "var_list.r",
     "varRefreshCmd": "cat(var_dic_list()) "
    }
   },
   "types_to_exclude": [
    "module",
    "function",
    "builtin_function_or_method",
    "instance",
    "_Feature"
   ],
   "window_display": false
  }
 },
 "nbformat": 4,
 "nbformat_minor": 1
}
