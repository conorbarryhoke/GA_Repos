{
 "cells": [
  {
   "cell_type": "markdown",
   "metadata": {
    "focus": false,
    "id": "db045898-1d2d-4af2-8e79-437c4c7546b4"
   },
   "source": [
    "#### Tweaking model - see if adding a third group helps this. using r/all as baseline. "
   ]
  },
  {
   "cell_type": "code",
   "execution_count": 1,
   "metadata": {},
   "outputs": [],
   "source": [
    "import pandas as pd\n",
    "import numpy as np\n",
    "import scipy as sp\n",
    "import requests\n",
    "import json\n",
    "import time\n",
    "from sklearn.metrics import confusion_matrix\n",
    "from sklearn.model_selection import cross_val_score\n",
    "import matplotlib.pyplot as plt\n",
    "%matplotlib inline"
   ]
  },
  {
   "cell_type": "code",
   "execution_count": 2,
   "metadata": {},
   "outputs": [],
   "source": [
    "#Getting and exploring Democrat and republican information\n",
    "#Using the same cell to do the pulls to save some space"
   ]
  },
  {
   "cell_type": "code",
   "execution_count": 24,
   "metadata": {},
   "outputs": [
    {
     "name": "stdout",
     "output_type": "stream",
     "text": [
      "    iteration 0 worked. URL: https://www.reddit.com/r/Republican/.json?after=t3_9bpt7f\n",
      "    iteration 1 worked. URL: https://www.reddit.com/r/Republican/.json?after=t3_9b6mn7\n",
      "    iteration 2 worked. URL: https://www.reddit.com/r/Republican/.json?after=t3_9acujw\n",
      "    iteration 3 worked. URL: https://www.reddit.com/r/Republican/.json?after=t3_99x53j\n",
      "    iteration 4 worked. URL: https://www.reddit.com/r/Republican/.json?after=t3_99bxdv\n",
      "    iteration 5 worked. URL: https://www.reddit.com/r/Republican/.json?after=t3_97zicr\n",
      "    iteration 6 worked. URL: https://www.reddit.com/r/Republican/.json?after=t3_97y95a\n",
      "    iteration 7 worked. URL: https://www.reddit.com/r/Republican/.json?after=t3_96zirr\n",
      "    iteration 8 worked. URL: https://www.reddit.com/r/Republican/.json?after=t3_96axws\n",
      "    iteration 9 worked. URL: https://www.reddit.com/r/Republican/.json?after=t3_95ocui\n",
      "    iteration 10 worked. URL: https://www.reddit.com/r/Republican/.json?after=t3_95cjo7\n",
      "    iteration 11 worked. URL: https://www.reddit.com/r/Republican/.json?after=t3_94uvf9\n",
      "    iteration 12 worked. URL: https://www.reddit.com/r/Republican/.json?after=t3_945lbr\n",
      "    iteration 13 worked. URL: https://www.reddit.com/r/Republican/.json?after=t3_93srg2\n",
      "    iteration 14 worked. URL: https://www.reddit.com/r/Republican/.json?after=t3_930rjj\n",
      "    iteration 15 worked. URL: https://www.reddit.com/r/Republican/.json?after=t3_92dkx3\n",
      "    iteration 16 worked. URL: https://www.reddit.com/r/Republican/.json?after=t3_91u6h3\n",
      "    iteration 17 worked. URL: https://www.reddit.com/r/Republican/.json?after=t3_91jp9x\n",
      "    iteration 18 worked. URL: https://www.reddit.com/r/Republican/.json?after=t3_90otuq\n",
      "    iteration 19 worked. URL: https://www.reddit.com/r/Republican/.json?after=t3_90doco\n",
      "    size:  (500, 3)\n"
     ]
    },
    {
     "data": {
      "text/html": [
       "<div>\n",
       "<style scoped>\n",
       "    .dataframe tbody tr th:only-of-type {\n",
       "        vertical-align: middle;\n",
       "    }\n",
       "\n",
       "    .dataframe tbody tr th {\n",
       "        vertical-align: top;\n",
       "    }\n",
       "\n",
       "    .dataframe thead th {\n",
       "        text-align: right;\n",
       "    }\n",
       "</style>\n",
       "<table border=\"1\" class=\"dataframe\">\n",
       "  <thead>\n",
       "    <tr style=\"text-align: right;\">\n",
       "      <th></th>\n",
       "      <th>selftext</th>\n",
       "      <th>subreddit</th>\n",
       "      <th>title</th>\n",
       "    </tr>\n",
       "  </thead>\n",
       "  <tbody>\n",
       "    <tr>\n",
       "      <th>0</th>\n",
       "      <td></td>\n",
       "      <td>Republican</td>\n",
       "      <td>How Socialism Rots The Soul, The Culture And T...</td>\n",
       "    </tr>\n",
       "    <tr>\n",
       "      <th>1</th>\n",
       "      <td></td>\n",
       "      <td>Republican</td>\n",
       "      <td>Florida primary 2018: A look at Central Florid...</td>\n",
       "    </tr>\n",
       "    <tr>\n",
       "      <th>2</th>\n",
       "      <td></td>\n",
       "      <td>Republican</td>\n",
       "      <td>POOF HE’S GONE! MSNBC and ABC crop out Louis F...</td>\n",
       "    </tr>\n",
       "    <tr>\n",
       "      <th>3</th>\n",
       "      <td></td>\n",
       "      <td>Republican</td>\n",
       "      <td>Neocons and liberals hate Trump because he has...</td>\n",
       "    </tr>\n",
       "    <tr>\n",
       "      <th>4</th>\n",
       "      <td></td>\n",
       "      <td>Republican</td>\n",
       "      <td>John McCain's marriage was like a Hallmark Cha...</td>\n",
       "    </tr>\n",
       "  </tbody>\n",
       "</table>\n",
       "</div>"
      ],
      "text/plain": [
       "  selftext   subreddit                                              title\n",
       "0           Republican  How Socialism Rots The Soul, The Culture And T...\n",
       "1           Republican  Florida primary 2018: A look at Central Florid...\n",
       "2           Republican  POOF HE’S GONE! MSNBC and ABC crop out Louis F...\n",
       "3           Republican  Neocons and liberals hate Trump because he has...\n",
       "4           Republican  John McCain's marriage was like a Hallmark Cha..."
      ]
     },
     "execution_count": 24,
     "metadata": {},
     "output_type": "execute_result"
    }
   ],
   "source": [
    "data_list = []\n",
    "URL = \"https://www.reddit.com/r/Republican/.json\"\n",
    "#seems to be a cap at 20\n",
    "for step in range(20):\n",
    "    res = requests.get(URL, headers={'User-agent': 'Conor Barry Bot 0.1'})\n",
    "    data = res.json()\n",
    "    \n",
    "    for i in range(len(data['data']['children'])):\n",
    "        temp = {}\n",
    "        temp['subreddit'] = data['data']['children'][i]['data']['subreddit_name_prefixed'].replace('r/', '')\n",
    "        temp['title']=data['data']['children'][i]['data']['title']\n",
    "        temp['selftext'] = data['data']['children'][i]['data']['selftext']\n",
    "        data_list.append(temp)\n",
    "\n",
    "    new_after = data['data']['after']\n",
    "    URL = \"https://www.reddit.com/r/Republican/.json?after=\" + new_after\n",
    "    print('    iteration {} worked. URL: {}'.format(step, URL))\n",
    "    time.sleep(3)\n",
    "    \n",
    "df_republicans_scrape = pd.DataFrame(data_list)\n",
    "print('    size: ', df_republicans_scrape.shape)\n",
    "df_republicans_scrape.head()"
   ]
  },
  {
   "cell_type": "code",
   "execution_count": 25,
   "metadata": {
    "focus": false,
    "id": "783fd153-28ac-47ab-bfca-27e7c1de95b4"
   },
   "outputs": [],
   "source": [
    "# Export to csv\n",
    "df_republicans_scrape.to_csv('./Data/InitialRepublicanPosts_9_03.csv', index=False)"
   ]
  },
  {
   "cell_type": "markdown",
   "metadata": {
    "focus": false,
    "id": "43e71edd-210e-42b1-9336-70a931f048af"
   },
   "source": [
    "### Analysis picks up here"
   ]
  },
  {
   "cell_type": "code",
   "execution_count": 3,
   "metadata": {},
   "outputs": [],
   "source": [
    "#Pick up CSVs after recorded. Dems First\n",
    "df_dems_init = pd.read_csv('./Data/InitialDemocratsPosts_8_31.csv')\n",
    "df_dems_new = pd.read_csv('./Data/InitialDemocratsPosts_9_03.csv')\n",
    "df_democrats_all = df_dems_init.append(df_dems_new.iloc[1:, ], ignore_index=True)\n",
    "\n",
    "df_reps_init = pd.read_csv('./Data/InitialRepublicanPosts.csv')\n",
    "df_reps_new = pd.read_csv('./Data/InitialRepublicanPosts_9_03.csv')\n",
    "df_republicans_all = df_reps_init.append(df_reps_new, ignore_index=True)\n",
    "\n",
    "df_all_init = pd.read_csv('./Data/allPosts_9_04_A.csv')\n",
    "df_cats_init = pd.read_csv('./Data/catsPosts_9_03_A.csv')\n",
    "df_dogs_init = pd.read_csv('./Data/dogsPosts_9_03_A.csv')\n",
    "df_hbb_init = pd.read_csv('./Data/hbbPosts_9_04_A.csv')"
   ]
  },
  {
   "cell_type": "code",
   "execution_count": 4,
   "metadata": {},
   "outputs": [
    {
     "data": {
      "text/plain": [
       "(4004, 3)"
      ]
     },
     "execution_count": 4,
     "metadata": {},
     "output_type": "execute_result"
    }
   ],
   "source": [
    "df_init_DemRep = df_democrats_all.append(df_republicans_all, ignore_index=True, verify_integrity=True)\n",
    "for df in [df_all_init,df_cats_init, df_dogs_init, df_hbb_init]:\n",
    "    df_init_DemRep =  df_init_DemRep.append(df, ignore_index=True, verify_integrity=True)\n",
    "    \n",
    "\n",
    "df_init_DemRep.shape"
   ]
  },
  {
   "cell_type": "code",
   "execution_count": 5,
   "metadata": {},
   "outputs": [
    {
     "data": {
      "text/plain": [
       "['democrats', 'Republican']"
      ]
     },
     "execution_count": 5,
     "metadata": {},
     "output_type": "execute_result"
    }
   ],
   "source": [
    "#Value counts check out. Looks like we got an extra Dem post from that locked post.\n",
    "count = 0\n",
    "[label for label in df_init_DemRep['subreddit'].value_counts().index if label =='democrats' or label =='Republican'] #no duplicates in r/all"
   ]
  },
  {
   "cell_type": "code",
   "execution_count": 6,
   "metadata": {},
   "outputs": [
    {
     "data": {
      "text/plain": [
       "selftext      0\n",
       "subreddit     0\n",
       "title         0\n",
       "subred_cat    0\n",
       "dtype: int64"
      ]
     },
     "execution_count": 6,
     "metadata": {},
     "output_type": "execute_result"
    }
   ],
   "source": [
    "df_init_DemRep['subred_cat'] = (df_init_DemRep['subreddit']=='democrats')*2 + (df_init_DemRep['subreddit']=='Republican')*1\n",
    "df_init_DemRep.fillna(' ', inplace=True)\n",
    "df_init_DemRep.isnull().sum()"
   ]
  },
  {
   "cell_type": "code",
   "execution_count": 7,
   "metadata": {},
   "outputs": [
    {
     "data": {
      "text/plain": [
       "0    2003\n",
       "2    1001\n",
       "1    1000\n",
       "Name: subred_cat, dtype: int64"
      ]
     },
     "execution_count": 7,
     "metadata": {},
     "output_type": "execute_result"
    }
   ],
   "source": [
    "df_init_DemRep['subred_cat'].value_counts()"
   ]
  },
  {
   "cell_type": "code",
   "execution_count": 8,
   "metadata": {},
   "outputs": [
    {
     "data": {
      "text/plain": [
       "0.5581787521079259"
      ]
     },
     "execution_count": 8,
     "metadata": {},
     "output_type": "execute_result"
    }
   ],
   "source": [
    "#Filling this in for later application to new subs, if I get to it\n",
    "#Figures as of 8/30/2018\n",
    "dem_subscribers = 66.2 #Thousand\n",
    "reb_subscribers = 52.4 #Thousand\n",
    "dem_prior = dem_subscribers / (dem_subscribers + reb_subscribers)\n",
    "rep_prior = 1 - dem_prior\n",
    "dem_prior"
   ]
  },
  {
   "cell_type": "code",
   "execution_count": 13,
   "metadata": {},
   "outputs": [],
   "source": [
    "#Loosely correlates to 2016 presidential election number of 51%\n",
    "#Lower Figure here jives with qualitative assumption that reddit leans democrat a little more"
   ]
  },
  {
   "cell_type": "markdown",
   "metadata": {},
   "source": [
    "#### Conor's Gameplan\n",
    "\n",
    "1. Get Dems, repubs into single frame\n",
    "    1a. Convert data\n",
    "    1b. Temporarily downselect titles only\n",
    "2. Run logit\n",
    "3. Answer basic questions\n",
    "4. Create separate title vector (with word_ format for feature names) for each\n",
    "5. Collect these together to one mega frame and re-rune\n",
    "6. Synthesize Democrat / Republican-ness"
   ]
  },
  {
   "cell_type": "markdown",
   "metadata": {
    "focus": false,
    "id": "db045898-1d2d-4af2-8e79-437c4c7546b4"
   },
   "source": [
    "#### SEE V1 in folder for all the lab specific questions and executive summary.\n",
    "#### This document is focused on developing additional analysis and scoring for 3rd party subreddits\n",
    "##### Which is the focus of my intended blog post."
   ]
  },
  {
   "cell_type": "code",
   "execution_count": 9,
   "metadata": {},
   "outputs": [],
   "source": [
    "from sklearn.feature_extraction.text import CountVectorizer\n",
    "from sklearn.feature_extraction import stop_words\n",
    "from sklearn.linear_model import LogisticRegression\n",
    "from sklearn.model_selection import train_test_split\n",
    "from sklearn.feature_extraction.text import TfidfVectorizer\n",
    "import seaborn as sns"
   ]
  },
  {
   "cell_type": "code",
   "execution_count": 10,
   "metadata": {},
   "outputs": [],
   "source": [
    "my_stop_words = stop_words.ENGLISH_STOP_WORDS"
   ]
  },
  {
   "cell_type": "code",
   "execution_count": 11,
   "metadata": {},
   "outputs": [],
   "source": [
    "#no compelling reason to pull in self-text\n",
    "df_data = df_init_DemRep.loc[:, ['subred_cat', 'title']]"
   ]
  },
  {
   "cell_type": "code",
   "execution_count": 12,
   "metadata": {},
   "outputs": [],
   "source": [
    "def fit_transform_model(X=df_data.title, y=df_data.subred_cat, \n",
    "                        vecmod='TFID', pred='logreg', \n",
    "                        test_size_local=None, random_state_local=42 ):\n",
    "    \"\"\"I absolutely created this function after running through the lab the first time. \n",
    "    I figured that it would help me clean up the rest of the document, as well as making\n",
    "    additions to the model.\n",
    "    With a little bit of work, this should be very generalizable to future models for me.\"\"\"\n",
    "    \n",
    "    #get vectorizer\n",
    "    if vecmod == 'TFID':\n",
    "        vecmod_ = TfidfVectorizer(stop_words=my_stop_words, ngram_range=(1,3))\n",
    "    else:\n",
    "        vecmod_ = vecmod\n",
    "    \n",
    "    #TTS, \n",
    "    X_train, X_test, y_train, y_test = train_test_split(X, y, \n",
    "                                                        test_size=test_size_local, \n",
    "                                                        random_state=random_state_local)\n",
    "    X_train_transform = vecmod_.fit_transform(X_train).todense()\n",
    "    df_X_train_transform = pd.DataFrame(X_train_transform, columns=vecmod_.get_feature_names())\n",
    "    X_test_transform = vecmod_.transform(X_test).todense()\n",
    "    df_X_test_transform = pd.DataFrame(X_test_transform, columns=vecmod_.get_feature_names())\n",
    "    \n",
    "    #predict model\n",
    "    if pred == 'logreg':\n",
    "        funct_model_= LogisticRegression()\n",
    "    else:\n",
    "        funct_model_ = pred\n",
    "        \n",
    "    funct_model_.fit(df_X_train_transform, y_train)\n",
    "    \n",
    "    #Export features and scores\n",
    "    global latest_model, latest_transform, sorted_d_values_none, sorted_d_values_rep, sorted_d_values_dem, train_x, test_x, test_y, train_y\n",
    "    latest_model = funct_model_ \n",
    "    train_x, test_x, train_y, test_y = df_X_train_transform, df_X_test_transform, y_train, y_test\n",
    "    latest_transform = vecmod_\n",
    "    \n",
    "    try:\n",
    "        feature_values_none =(dict(zip(list(df_X_train_transform.columns), list(funct_model_.coef_[0]))))\n",
    "        sorted_d_values_none = sorted({(value, key) for (key,value) in feature_values_none.items()}, reverse=True)\n",
    "        \n",
    "        feature_values_rep =(dict(zip(list(df_X_train_transform.columns), list(funct_model_.coef_[1]))))\n",
    "        sorted_d_values_rep = sorted({(value, key) for (key,value) in feature_values_rep.items()}, reverse=True)\n",
    "        \n",
    "        feature_values_dem =(dict(zip(list(df_X_train_transform.columns), list(funct_model_.coef_[2]))))\n",
    "        sorted_d_values_dem = sorted({(value, key) for (key,value) in feature_values_dem.items()}, reverse=True)\n",
    "\n",
    "    except:\n",
    "        print('   broken')\n",
    "        return funct_model_.score(df_X_test_transform, y_test)\n",
    "    \n",
    "    return funct_model_.score(df_X_test_transform, y_test)"
   ]
  },
  {
   "cell_type": "code",
   "execution_count": 13,
   "metadata": {},
   "outputs": [
    {
     "data": {
      "text/plain": [
       "0.8014981273408239"
      ]
     },
     "execution_count": 13,
     "metadata": {},
     "output_type": "execute_result"
    }
   ],
   "source": [
    "fit_transform_model(test_size_local=.2)"
   ]
  },
  {
   "cell_type": "code",
   "execution_count": 14,
   "metadata": {},
   "outputs": [
    {
     "name": "stdout",
     "output_type": "stream",
     "text": [
      "   none indicators:\n",
      "     (5.611738448785891, 'help')\n",
      "     (3.9711631418586015, 'dog')\n",
      "     (3.127261765291027, 'cat')\n",
      "     (2.57944795429636, 'discussion')\n",
      "     (1.876685001273597, 'dogs')\n",
      "     (1.811047702858205, 'breeds')\n",
      "     (1.5562430995005374, 'breed')\n",
      "     (1.4505424076744973, 'little')\n",
      "     (1.4223197142199957, 'old')\n",
      "     (1.3140248902515075, 'love')\n",
      "\n",
      "    rep indicators:\n",
      "     (1.8117442133225576, 'liberals')\n",
      "     (1.6367265811688123, 'senate')\n",
      "     (1.585471302796486, 'walkaway')\n",
      "     (1.3890949271144213, 'hc')\n",
      "     (1.3869125345202595, 'brennan')\n",
      "     (1.3669681607886188, 'media')\n",
      "     (1.3397263388347898, 'republican')\n",
      "     (1.3317468293628683, 'left')\n",
      "     (1.3179722493103019, 'socialism')\n",
      "     (1.2137656494541853, 'gop')\n",
      "\n",
      "    dem indicators:\n",
      "     (7.177275355534448, 'trump')\n",
      "     (3.4461724377327134, 'president')\n",
      "     (2.993538142074914, 'mccain')\n",
      "     (2.5007589979018023, 'kavanaugh')\n",
      "     (2.459963898494526, 'twitter')\n",
      "     (2.3702938426215443, 'republicans')\n",
      "     (2.236123781497031, 'democrats')\n",
      "     (1.7593205384250976, 'rourke')\n",
      "     (1.6499146917409369, 'gop')\n",
      "     (1.6084651237913496, 'beto')\n"
     ]
    }
   ],
   "source": [
    "print('   none indicators:')\n",
    "for i in range(10):\n",
    "    print('    ', sorted_d_values_none[i])\n",
    "#print('    democratic indicators: ', sorted_d[:-10])\n",
    "print('\\n    rep indicators:')\n",
    "for i in range(10):\n",
    "    print('    ', sorted_d_values_rep[i])\n",
    "print('\\n    dem indicators:')\n",
    "for i in range(10):\n",
    "    print('    ', sorted_d_values_dem[i])"
   ]
  },
  {
   "cell_type": "code",
   "execution_count": 15,
   "metadata": {},
   "outputs": [
    {
     "data": {
      "text/html": [
       "<div>\n",
       "<style scoped>\n",
       "    .dataframe tbody tr th:only-of-type {\n",
       "        vertical-align: middle;\n",
       "    }\n",
       "\n",
       "    .dataframe tbody tr th {\n",
       "        vertical-align: top;\n",
       "    }\n",
       "\n",
       "    .dataframe thead th {\n",
       "        text-align: right;\n",
       "    }\n",
       "</style>\n",
       "<table border=\"1\" class=\"dataframe\">\n",
       "  <thead>\n",
       "    <tr style=\"text-align: right;\">\n",
       "      <th></th>\n",
       "      <th>Predicted None</th>\n",
       "      <th>Pred Rep</th>\n",
       "      <th>Pred Dem</th>\n",
       "    </tr>\n",
       "  </thead>\n",
       "  <tbody>\n",
       "    <tr>\n",
       "      <th>Actual None</th>\n",
       "      <td>373</td>\n",
       "      <td>2</td>\n",
       "      <td>2</td>\n",
       "    </tr>\n",
       "    <tr>\n",
       "      <th>Actual Rep</th>\n",
       "      <td>86</td>\n",
       "      <td>108</td>\n",
       "      <td>18</td>\n",
       "    </tr>\n",
       "    <tr>\n",
       "      <th>Actual Dem</th>\n",
       "      <td>43</td>\n",
       "      <td>8</td>\n",
       "      <td>161</td>\n",
       "    </tr>\n",
       "  </tbody>\n",
       "</table>\n",
       "</div>"
      ],
      "text/plain": [
       "             Predicted None  Pred Rep  Pred Dem\n",
       "Actual None             373         2         2\n",
       "Actual Rep               86       108        18\n",
       "Actual Dem               43         8       161"
      ]
     },
     "execution_count": 15,
     "metadata": {},
     "output_type": "execute_result"
    }
   ],
   "source": [
    "cm = confusion_matrix(test_y, latest_model.predict(test_x))\n",
    "df_cm = pd.DataFrame(cm, columns=['Predicted None', 'Pred Rep', 'Pred Dem'], index=['Actual None', 'Actual Rep', 'Actual Dem'])\n",
    "df_cm"
   ]
  },
  {
   "cell_type": "code",
   "execution_count": null,
   "metadata": {},
   "outputs": [],
   "source": [
    "'''This has much fewer false positives in the target values, which we like a lot for our purposes. \n",
    "Would much rather overclassify none so we can be sure of Dem/Rep predicted ratio in our subs'''"
   ]
  },
  {
   "cell_type": "markdown",
   "metadata": {},
   "source": [
    "# Executive Summary\n",
    "---\n",
    "### The Need\n",
    "\n",
    "YOU are a totally legitimate campaign strategy group (and not at all a nefarious foreign entity).     \n",
    "\n",
    "YOU **NEED** to expand your voter turnout numbers by identifying low-key voters who would support you, but eschew venues by which you would normally reach out to them (e.g. Facebook).   \n",
    "  \n",
    "YOU are smart and cautious, having seen how a misplaced ad or statement can be easily twisted to support the other side, and want to make sure your ads are interpreted as intended.\n",
    "  \n",
    " So where are these voters?? How do you mine them and find them without stepping on mines?\n",
    " \n",
    " ### The solution\n",
    " Introducing **The HUAC 9000**   \n",
    " \n",
    " Named for the infamous and (occaisionally) successful communist hunting committee of the 1950s, the HUAC 9000 uses data from thousands of known Democratic and Republican posts to ferret out party-line sentiment hidden under benign cat-posts.   \n",
    "   \n",
    "The HUAC 9000 can identify party leanings and the strength of those leanings in an easy to interpret score, saving you time and precious resources by increasing the effectiveness of ads. \n",
    "  \n",
    "  \n",
    "### We can do it\n",
    "Our team has years of cumulative experience getting blind-sided by uncomfortable political conversations that seem to erupt out of nowhere. Exasperated that it was becoming impossible to talk about anything nice for more than 5 minutes, our team (consisting of top 50 Kaggle scoreres in the Ames Iowa competition and codewars veterans rank 5 or higher) spent uncountable hours fine-tuning the HUAC. \n",
    "  \n",
    "  \n",
    "### Now is the Time\n",
    "Our team of trained experts will stand up a HUAC 9000 implementation tuned to your candidate, and teach you to search Reddit to find your supporters. No one is looking over your shoulder ;), meaning you have more time to focus on what matters.  \n",
    "  \n",
    "  \n",
    "If they can vote for Laurel or Yonny, they can vote for your candidate. Don't let them get away - buy HUAC 9000 Today.\n"
   ]
  },
  {
   "cell_type": "markdown",
   "metadata": {},
   "source": [
    "## Collection of Executive Summary information\n",
    "Includes final model refit."
   ]
  },
  {
   "cell_type": "code",
   "execution_count": 27,
   "metadata": {},
   "outputs": [],
   "source": [
    "#!pip install wordcloud"
   ]
  },
  {
   "cell_type": "code",
   "execution_count": 28,
   "metadata": {},
   "outputs": [],
   "source": [
    "#https://www.geeksforgeeks.org/generating-word-cloud-python/"
   ]
  },
  {
   "cell_type": "code",
   "execution_count": 14,
   "metadata": {},
   "outputs": [],
   "source": [
    "from wordcloud import WordCloud"
   ]
  },
  {
   "cell_type": "code",
   "execution_count": 116,
   "metadata": {},
   "outputs": [
    {
     "data": {
      "text/plain": [
       "0.8014981273408239"
      ]
     },
     "execution_count": 116,
     "metadata": {},
     "output_type": "execute_result"
    }
   ],
   "source": [
    "fit_transform_model(test_size_local=.2, vecmod=TfidfVectorizer(stop_words=my_stop_words,\n",
    "                                           ngram_range = (1,3), \n",
    "                                           binary=False))"
   ]
  },
  {
   "cell_type": "code",
   "execution_count": 117,
   "metadata": {},
   "outputs": [
    {
     "data": {
      "text/plain": [
       "array([ 0.2303148 , -1.2202583 , -1.43678538])"
      ]
     },
     "execution_count": 117,
     "metadata": {},
     "output_type": "execute_result"
    }
   ],
   "source": [
    "latest_model.intercept_ #Democrat intercept is more penalizing"
   ]
  },
  {
   "cell_type": "code",
   "execution_count": 113,
   "metadata": {},
   "outputs": [],
   "source": [
    "none_word_dict = dict(sorted_d_values_none[:21])\n",
    "rep_word_dict = dict(sorted_d_values_rep[:50])\n",
    "dem_word_dict = dict(sorted(sorted_d_values_dem[:50]))"
   ]
  },
  {
   "cell_type": "code",
   "execution_count": 114,
   "metadata": {
    "scrolled": true
   },
   "outputs": [
    {
     "data": {
      "text/plain": [
       "{0.9200119571011498: 'plan',\n",
       " 0.9211669441606003: 'americans',\n",
       " 0.9232880195470916: 'presidency',\n",
       " 0.9372728830868112: 'american',\n",
       " 0.9537001104968201: 'federal',\n",
       " 0.9547024296379086: 'voters',\n",
       " 0.9760098586189271: 'bernie dog',\n",
       " 0.9845996854658801: 'congress',\n",
       " 0.9890863412762834: 'people',\n",
       " 0.9893496364005863: 'manafort',\n",
       " 1.0060938379972262: 'obama',\n",
       " 1.008068542848371: 'john mccain',\n",
       " 1.0101121409073528: 'hillary clinton',\n",
       " 1.0674986640826678: 'hillary',\n",
       " 1.091210161323053: 'fox',\n",
       " 1.0931415885632183: 'donald trump',\n",
       " 1.1069704423130518: 'fox news',\n",
       " 1.1225167926592103: 'truth',\n",
       " 1.1299381809216908: 'news',\n",
       " 1.140096560488081: 'election',\n",
       " 1.1448910716121854: 'shickenchit',\n",
       " 1.14951506741368: 'donald',\n",
       " 1.1714521982268888: 'party',\n",
       " 1.1719162277716462: 'impeachment',\n",
       " 1.187932367577727: 'house',\n",
       " 1.192305777550084: 'clinton',\n",
       " 1.2027461898315968: 'mueller',\n",
       " 1.204229086443322: 'democratic',\n",
       " 1.2068159038271542: 'bernie',\n",
       " 1.2141852363383718: 'corruption',\n",
       " 1.217290962432202: 'gillum',\n",
       " 1.2324762622248124: '2020',\n",
       " 1.2794761456355195: 'administration',\n",
       " 1.3542110637433282: 'say',\n",
       " 1.3688836753292224: 'john',\n",
       " 1.371078416505043: 'campaign',\n",
       " 1.4218445680451504: 'white house',\n",
       " 1.4974582169606583: 'cohen',\n",
       " 1.5223255460267908: 'white',\n",
       " 1.5827787064920869: 'beto rourke',\n",
       " 1.6084651237913496: 'beto',\n",
       " 1.6499146917409369: 'gop',\n",
       " 1.7593205384250976: 'rourke',\n",
       " 2.236123781497031: 'democrats',\n",
       " 2.3702938426215443: 'republicans',\n",
       " 2.459963898494526: 'twitter',\n",
       " 2.5007589979018023: 'kavanaugh',\n",
       " 2.993538142074914: 'mccain',\n",
       " 3.4461724377327134: 'president',\n",
       " 7.177275355534448: 'trump'}"
      ]
     },
     "execution_count": 114,
     "metadata": {},
     "output_type": "execute_result"
    }
   ],
   "source": [
    "dem_word_dict"
   ]
  },
  {
   "cell_type": "code",
   "execution_count": 33,
   "metadata": {},
   "outputs": [
    {
     "data": {
      "text/plain": [
       "20"
      ]
     },
     "execution_count": 33,
     "metadata": {},
     "output_type": "execute_result"
    }
   ],
   "source": [
    "len(rep_word_dict)"
   ]
  },
  {
   "cell_type": "code",
   "execution_count": 18,
   "metadata": {},
   "outputs": [],
   "source": [
    "from math import exp\n",
    "import random"
   ]
  },
  {
   "cell_type": "code",
   "execution_count": 19,
   "metadata": {},
   "outputs": [],
   "source": [
    "rep_word_dict_trans = {}\n",
    "for key in rep_word_dict.keys():\n",
    "    new_key_= int(exp(-key)*2000) #watch out for this negative\n",
    "    while new_key_ in rep_word_dict.keys():\n",
    "        new_key_+=1 #tie breaker prevents override of values\n",
    "        print('    ',new_key_)\n",
    "    rep_word_dict_trans[new_key_] = rep_word_dict[key]\n",
    "rep_words_str = ''\n",
    "for key in rep_word_dict_trans.keys():\n",
    "    rep_words_str = rep_words_str + key*(str(rep_word_dict_trans[key]) + ' ')"
   ]
  },
  {
   "cell_type": "code",
   "execution_count": 20,
   "metadata": {},
   "outputs": [
    {
     "data": {
      "text/plain": [
       "{6735: 'corruption',\n",
       " 6756: 'gillum',\n",
       " 6859: '2020',\n",
       " 7189: 'administration',\n",
       " 7747: 'say',\n",
       " 7861: 'john',\n",
       " 7879: 'campaign',\n",
       " 8289: 'white house',\n",
       " 8940: 'cohen',\n",
       " 9165: 'white',\n",
       " 9736: 'beto rourke',\n",
       " 9990: 'beto',\n",
       " 10413: 'gop',\n",
       " 11616: 'rourke',\n",
       " 18713: 'democrats',\n",
       " 21401: 'republicans',\n",
       " 23408: 'twitter',\n",
       " 24383: 'kavanaugh',\n",
       " 39912: 'mccain',\n",
       " 62760: 'president',\n",
       " 2618671: 'trump'}"
      ]
     },
     "execution_count": 20,
     "metadata": {},
     "output_type": "execute_result"
    }
   ],
   "source": [
    "dem_word_dict_trans = {}\n",
    "for key in dem_word_dict.keys():\n",
    "    new_key_= int(exp(key)*2000)\n",
    "    while new_key_ in dem_word_dict.keys():\n",
    "        new_key_+=1\n",
    "        print('    ',new_key_)\n",
    "    dem_word_dict_trans[new_key_] = dem_word_dict[key]\n",
    "dem_words_str = ''\n",
    "for key in dem_word_dict_trans.keys():\n",
    "    dem_words_str = dem_words_str + key*(str(dem_word_dict_trans[key]) + ' ')\n",
    "dem_word_dict_trans"
   ]
  },
  {
   "cell_type": "code",
   "execution_count": 88,
   "metadata": {
    "scrolled": true
   },
   "outputs": [
    {
     "data": {
      "text/plain": [
       "<wordcloud.wordcloud.WordCloud at 0x2b202846390>"
      ]
     },
     "execution_count": 88,
     "metadata": {},
     "output_type": "execute_result"
    },
    {
     "data": {
      "image/png": "[encoded data removed]",
      "text/plain": [
       "<Figure size 720x720 with 1 Axes>"
      ]
     },
     "metadata": {},
     "output_type": "display_data"
    }
   ],
   "source": [
    "mycloud = WordCloud(width=1000, height=1000,\n",
    "                    background_color='grey', \n",
    "                    colormap='Reds',\n",
    "                    min_font_size=1,\n",
    "                    max_words=len(rep_words_str),\n",
    "                    collocations=False, #get rid of duplicates\n",
    "                   normalize_plurals=False).generate_from_text(rep_words_str)\n",
    "plt.figure(figsize = (10, 10), facecolor = None)\n",
    "plt.imshow(mycloud)\n",
    "plt.axis(\"off\")\n",
    "plt.tight_layout(pad = 0)\n",
    "mycloud.to_file('./Presentation/OutputFigs/RepCloud_3.png')"
   ]
  },
  {
   "cell_type": "code",
   "execution_count": 21,
   "metadata": {},
   "outputs": [
    {
     "data": {
      "text/plain": [
       "<wordcloud.wordcloud.WordCloud at 0x2ee7464fa90>"
      ]
     },
     "execution_count": 21,
     "metadata": {},
     "output_type": "execute_result"
    },
    {
     "data": {
      "image/png": "[encoded data removed]",
      "text/plain": [
       "<Figure size 720x720 with 1 Axes>"
      ]
     },
     "metadata": {},
     "output_type": "display_data"
    }
   ],
   "source": [
    "mycloud = WordCloud(width=1000, height=1000,\n",
    "                    background_color='grey', \n",
    "                    min_font_size=1,\n",
    "                    colormap='Blues',\n",
    "                    collocations=False, #get rid of duplicates\n",
    "                   normalize_plurals=False,\n",
    "                   max_words=len(dem_words_str)).generate_from_text(dem_words_str)\n",
    "plt.figure(figsize = (10, 10), facecolor = None)\n",
    "plt.imshow(mycloud)\n",
    "plt.axis(\"off\")\n",
    "plt.tight_layout(pad = 0)\n",
    "mycloud.to_file('./Presentation/OutputFigs/DemCloud_3.png')"
   ]
  },
  {
   "cell_type": "code",
   "execution_count": null,
   "metadata": {},
   "outputs": [],
   "source": [
    "#Talk about overlap - words more tightly clustered for republican/"
   ]
  },
  {
   "cell_type": "code",
   "execution_count": 30,
   "metadata": {},
   "outputs": [
    {
     "name": "stdout",
     "output_type": "stream",
     "text": [
      "   demwords: 2297\n",
      "   repwords: 1791\n",
      "    4088\n"
     ]
    },
    {
     "data": {
      "text/plain": [
       "<matplotlib.axes._subplots.AxesSubplot at 0x1c95916f828>"
      ]
     },
     "execution_count": 30,
     "metadata": {},
     "output_type": "execute_result"
    },
    {
     "data": {
      "image/png": "[encoded data removed]",
      "text/plain": [
       "<Figure size 432x288 with 1 Axes>"
      ]
     },
     "metadata": {},
     "output_type": "display_data"
    }
   ],
   "source": [
    "#How many words are above a given 'stregnth' score for dems vs. republicans\n",
    "all_rep_words = { key:dict(sorted_d_values_rep)[key] for key in dict(sorted_d_values_rep).keys() if key>0 }\n",
    "all_dem_words = { key:dict(sorted_d_values_dem)[key] for key in dict(sorted_d_values_dem).keys() if key>0 }\n",
    "print('   demwords:', len(all_dem_words))\n",
    "print('   repwords:', len(all_rep_words))\n",
    "print('   ', len(all_rep_words)+len(all_dem_words))\n",
    "\n",
    "results_list = []\n",
    "for i in range(50,100, 5):\n",
    "    j = i/100\n",
    "    temp_dict = {}\n",
    "    temp_dict['strength'] = j\n",
    "    temp_dict['dem_words'] = len([key for key in dict(sorted_d_values_dem).keys() if key>j])\n",
    "    temp_dict['rep_words'] = len([key for key in dict(sorted_d_values_rep).keys() if key>j])\n",
    "    results_list.append(temp_dict)\n",
    "    \n",
    "#Democrats talk about more things\n",
    "df_stregnths = pd.DataFrame(results_list)\n",
    "sns.pointplot('strength','dem_words', data=df_stregnths, color='b')\n",
    "sns.pointplot('strength','rep_words', data=df_stregnths, color='r')"
   ]
  },
  {
   "cell_type": "code",
   "execution_count": 21,
   "metadata": {},
   "outputs": [
    {
     "name": "stdout",
     "output_type": "stream",
     "text": [
      "    average dem score:  0.26338961507134206\n",
      "    average rep score:  0.24336653846695983\n"
     ]
    },
    {
     "name": "stderr",
     "output_type": "stream",
     "text": [
      "C:\\ProgramData\\Anaconda3\\lib\\site-packages\\matplotlib\\axes\\_axes.py:6462: UserWarning: The 'normed' kwarg is deprecated, and has been replaced by the 'density' kwarg.\n",
      "  warnings.warn(\"The 'normed' kwarg is deprecated, and has been \"\n",
      "C:\\ProgramData\\Anaconda3\\lib\\site-packages\\matplotlib\\axes\\_axes.py:6462: UserWarning: The 'normed' kwarg is deprecated, and has been replaced by the 'density' kwarg.\n",
      "  warnings.warn(\"The 'normed' kwarg is deprecated, and has been \"\n"
     ]
    },
    {
     "data": {
      "text/plain": [
       "<matplotlib.axes._subplots.AxesSubplot at 0x1c958b604a8>"
      ]
     },
     "execution_count": 21,
     "metadata": {},
     "output_type": "execute_result"
    },
    {
     "data": {
      "image/png": "[encoded data removed]",
      "text/plain": [
       "<Figure size 432x288 with 1 Axes>"
      ]
     },
     "metadata": {},
     "output_type": "display_data"
    }
   ],
   "source": [
    "#compare predict probas\n",
    "probas = latest_model.predict_proba(test_x)\n",
    "dem_probs = []\n",
    "rep_probs = []\n",
    "for i in range(len(probas)):\n",
    "    rep_probs.append(probas[i][1])\n",
    "    dem_probs.append(probas[i][2])\n",
    "print('    average dem score: ', sum(dem_probs) / len(dem_probs))\n",
    "print('    average rep score: ', sum(rep_probs) / len(rep_probs))\n",
    "#Distribution of republican and Democrat strength scoring\n",
    "sns.distplot(dem_probs, label='dem', color='blue') \n",
    "sns.distplot(rep_probs, label='rep', color='red')"
   ]
  },
  {
   "cell_type": "code",
   "execution_count": 43,
   "metadata": {},
   "outputs": [
    {
     "data": {
      "text/plain": [
       "'\\nInterpretation: Republicans talk about fewer things, but those things are big indicators. Maybe it takes a higher number of keywords to trigger Dem prediction?\\nFor the purposes of applying this to a random subreddit, \\nwe want scores outside [.38 to .62], to be safe'"
      ]
     },
     "execution_count": 43,
     "metadata": {},
     "output_type": "execute_result"
    }
   ],
   "source": [
    "'''\n",
    "Interpretation: Republicans talk about fewer things, but those things are big indicators. Maybe it takes a higher number of keywords to trigger Dem prediction?\n",
    "For the purposes of applying this to a random subreddit, \n",
    "we want scores outside [.38 to .62], to be safe'''"
   ]
  },
  {
   "cell_type": "code",
   "execution_count": 22,
   "metadata": {},
   "outputs": [
    {
     "name": "stderr",
     "output_type": "stream",
     "text": [
      "C:\\ProgramData\\Anaconda3\\lib\\site-packages\\matplotlib\\axes\\_axes.py:6462: UserWarning: The 'normed' kwarg is deprecated, and has been replaced by the 'density' kwarg.\n",
      "  warnings.warn(\"The 'normed' kwarg is deprecated, and has been \"\n"
     ]
    },
    {
     "name": "stdout",
     "output_type": "stream",
     "text": [
      "   net:  -16.038484360109646\n",
      "   mean:  -0.020023076604381577\n",
      "   med:  0.012892502006608852\n",
      "   mode:  ModeResult(mode=array([0.03668148]), count=array([25]))\n"
     ]
    },
    {
     "data": {
      "image/png": "[encoded data removed]",
      "text/plain": [
       "<Figure size 432x288 with 1 Axes>"
      ]
     },
     "metadata": {},
     "output_type": "display_data"
    }
   ],
   "source": [
    "probas = latest_model.predict_proba(test_x)\n",
    "net_probs = []\n",
    "for i in range(len(probas)):\n",
    "    net_probs.append(probas[i][1] - probas[i][2]) #R minus D so that Republican == positive, \n",
    "\n",
    "sns.distplot(net_probs, label='rep', color='purple')\n",
    "print('   net: ', sum(net_probs))\n",
    "print('   mean: ', np.average(net_probs))\n",
    "print('   med: ', np.median(net_probs))\n",
    "print('   mode: ', sp.stats.mode(net_probs))"
   ]
  },
  {
   "cell_type": "code",
   "execution_count": 38,
   "metadata": {},
   "outputs": [
    {
     "data": {
      "text/plain": [
       "682     2\n",
       "2771    0\n",
       "2073    0\n",
       "1163    1\n",
       "3731    0\n",
       "3598    0\n",
       "2974    0\n",
       "3198    0\n",
       "2704    0\n",
       "1947    1\n",
       "Name: subred_cat, dtype: int32"
      ]
     },
     "execution_count": 38,
     "metadata": {},
     "output_type": "execute_result"
    }
   ],
   "source": [
    "test_y[:10]"
   ]
  },
  {
   "cell_type": "code",
   "execution_count": 39,
   "metadata": {},
   "outputs": [
    {
     "data": {
      "text/plain": [
       "array([[0.28148128, 0.22647896, 0.49203975],\n",
       "       [0.82253709, 0.09586105, 0.08160185],\n",
       "       [0.56017171, 0.22971746, 0.21011083],\n",
       "       [0.51359402, 0.35802076, 0.12838522],\n",
       "       [0.57029391, 0.23319379, 0.1965123 ],\n",
       "       [0.78168082, 0.11254381, 0.10577537],\n",
       "       [0.76108442, 0.09817446, 0.14074112],\n",
       "       [0.95096032, 0.02006578, 0.0289739 ],\n",
       "       [0.50651588, 0.24228378, 0.25120034],\n",
       "       [0.50478231, 0.23113484, 0.26408286]])"
      ]
     },
     "execution_count": 39,
     "metadata": {},
     "output_type": "execute_result"
    }
   ],
   "source": [
    "latest_model.predict_proba(test_x)[:10]"
   ]
  },
  {
   "cell_type": "code",
   "execution_count": 43,
   "metadata": {},
   "outputs": [
    {
     "data": {
      "text/plain": [
       "(801,)"
      ]
     },
     "execution_count": 43,
     "metadata": {},
     "output_type": "execute_result"
    }
   ],
   "source": [
    "\n",
    "latest_model.predict_proba(test_x).shape\n",
    "test_y.shape"
   ]
  },
  {
   "cell_type": "code",
   "execution_count": null,
   "metadata": {},
   "outputs": [],
   "source": [
    "'''WHY IS THE LAST ONE PREDICTING REPUBLICAN IF THE PROBABILITY IS LOWER?????'''"
   ]
  },
  {
   "cell_type": "markdown",
   "metadata": {},
   "source": [
    "### Which posts were the most?"
   ]
  },
  {
   "cell_type": "code",
   "execution_count": 23,
   "metadata": {},
   "outputs": [],
   "source": [
    "df_checker = pd.DataFrame(pd.Series(test_y))"
   ]
  },
  {
   "cell_type": "code",
   "execution_count": 24,
   "metadata": {
    "scrolled": true
   },
   "outputs": [],
   "source": [
    "df_checker['rep_score'] = [probas[i][1] for i in range(len(probas))]\n",
    "df_checker['dem_score'] = [probas[i][2] for i in range(len(probas))]"
   ]
  },
  {
   "cell_type": "code",
   "execution_count": 25,
   "metadata": {},
   "outputs": [
    {
     "data": {
      "text/html": [
       "<div>\n",
       "<style scoped>\n",
       "    .dataframe tbody tr th:only-of-type {\n",
       "        vertical-align: middle;\n",
       "    }\n",
       "\n",
       "    .dataframe tbody tr th {\n",
       "        vertical-align: top;\n",
       "    }\n",
       "\n",
       "    .dataframe thead th {\n",
       "        text-align: right;\n",
       "    }\n",
       "</style>\n",
       "<table border=\"1\" class=\"dataframe\">\n",
       "  <thead>\n",
       "    <tr style=\"text-align: right;\">\n",
       "      <th></th>\n",
       "      <th>subred_cat</th>\n",
       "      <th>rep_score</th>\n",
       "      <th>dem_score</th>\n",
       "    </tr>\n",
       "  </thead>\n",
       "  <tbody>\n",
       "    <tr>\n",
       "      <th>1788</th>\n",
       "      <td>1</td>\n",
       "      <td>0.577256</td>\n",
       "      <td>0.218682</td>\n",
       "    </tr>\n",
       "    <tr>\n",
       "      <th>1261</th>\n",
       "      <td>1</td>\n",
       "      <td>0.577256</td>\n",
       "      <td>0.218682</td>\n",
       "    </tr>\n",
       "  </tbody>\n",
       "</table>\n",
       "</div>"
      ],
      "text/plain": [
       "      subred_cat  rep_score  dem_score\n",
       "1788           1   0.577256   0.218682\n",
       "1261           1   0.577256   0.218682"
      ]
     },
     "execution_count": 25,
     "metadata": {},
     "output_type": "execute_result"
    }
   ],
   "source": [
    "#Most republican post\n",
    "df_checker[df_checker['rep_score']==df_checker['rep_score'].max()]"
   ]
  },
  {
   "cell_type": "code",
   "execution_count": 26,
   "metadata": {},
   "outputs": [
    {
     "data": {
      "text/html": [
       "<div>\n",
       "<style scoped>\n",
       "    .dataframe tbody tr th:only-of-type {\n",
       "        vertical-align: middle;\n",
       "    }\n",
       "\n",
       "    .dataframe tbody tr th {\n",
       "        vertical-align: top;\n",
       "    }\n",
       "\n",
       "    .dataframe thead th {\n",
       "        text-align: right;\n",
       "    }\n",
       "</style>\n",
       "<table border=\"1\" class=\"dataframe\">\n",
       "  <thead>\n",
       "    <tr style=\"text-align: right;\">\n",
       "      <th></th>\n",
       "      <th>subred_cat</th>\n",
       "      <th>rep_score</th>\n",
       "      <th>dem_score</th>\n",
       "    </tr>\n",
       "  </thead>\n",
       "  <tbody>\n",
       "    <tr>\n",
       "      <th>239</th>\n",
       "      <td>2</td>\n",
       "      <td>0.143783</td>\n",
       "      <td>0.76687</td>\n",
       "    </tr>\n",
       "  </tbody>\n",
       "</table>\n",
       "</div>"
      ],
      "text/plain": [
       "     subred_cat  rep_score  dem_score\n",
       "239           2   0.143783    0.76687"
      ]
     },
     "execution_count": 26,
     "metadata": {},
     "output_type": "execute_result"
    }
   ],
   "source": [
    "#Most democratic post\n",
    "df_checker[df_checker['dem_score']==df_checker['dem_score'].max()]"
   ]
  },
  {
   "cell_type": "code",
   "execution_count": 27,
   "metadata": {},
   "outputs": [
    {
     "data": {
      "text/plain": [
       "'R.I.P. McCain'"
      ]
     },
     "execution_count": 27,
     "metadata": {},
     "output_type": "execute_result"
    }
   ],
   "source": [
    "#The most democratic thing you could suggest right now:\n",
    "#df_init_DemRep.iloc[96:97, :] no selftext...\n",
    "df_init_DemRep['title'][239]\n",
    "\n",
    "#After updates, still same post"
   ]
  },
  {
   "cell_type": "code",
   "execution_count": 28,
   "metadata": {},
   "outputs": [
    {
     "data": {
      "text/plain": [
       "'GOP Congressional candidate Elizabeth Heng Gets Facebook Blocked'"
      ]
     },
     "execution_count": 28,
     "metadata": {},
     "output_type": "execute_result"
    }
   ],
   "source": [
    "#The most Republican thing you could suggest right now:\n",
    "#df_init_DemRep.iloc[987:988, :]no selftext...\n",
    "df_init_DemRep['title'][1261]"
   ]
  },
  {
   "cell_type": "code",
   "execution_count": 29,
   "metadata": {},
   "outputs": [
    {
     "data": {
      "text/plain": [
       "'GOP Congressional candidate Elizabeth Heng Gets Facebook Blocked'"
      ]
     },
     "execution_count": 29,
     "metadata": {},
     "output_type": "execute_result"
    }
   ],
   "source": [
    "df_init_DemRep['title'][1788] #REPOST"
   ]
  },
  {
   "cell_type": "markdown",
   "metadata": {},
   "source": [
    "# Outside Testing\n",
    "---\n",
    "Getting scores and validation from 3rd and 4th subreddit. "
   ]
  },
  {
   "cell_type": "markdown",
   "metadata": {},
   "source": [
    "## Outside Testing: All\n",
    "Establishing a baseline for net scoring process"
   ]
  },
  {
   "cell_type": "code",
   "execution_count": 96,
   "metadata": {},
   "outputs": [
    {
     "name": "stdout",
     "output_type": "stream",
     "text": [
      "    iteration 0 worked. URL: https://www.reddit.com/r/all/.json?after=t3_9cu3jb\n",
      "    iteration 1 worked. URL: https://www.reddit.com/r/all/.json?after=t3_9cv3fp\n",
      "    iteration 2 worked. URL: https://www.reddit.com/r/all/.json?after=t3_9cuubb\n",
      "    iteration 3 worked. URL: https://www.reddit.com/r/all/.json?after=t3_9cuoyl\n",
      "    iteration 4 worked. URL: https://www.reddit.com/r/all/.json?after=t3_9cttk3\n",
      "    iteration 5 worked. URL: https://www.reddit.com/r/all/.json?after=t3_9crpsw\n",
      "    iteration 6 worked. URL: https://www.reddit.com/r/all/.json?after=t3_9cuywt\n",
      "    iteration 7 worked. URL: https://www.reddit.com/r/all/.json?after=t3_9cvhpa\n",
      "    iteration 8 worked. URL: https://www.reddit.com/r/all/.json?after=t3_9cu5ii\n",
      "    iteration 9 worked. URL: https://www.reddit.com/r/all/.json?after=t3_9cuzql\n",
      "    iteration 10 worked. URL: https://www.reddit.com/r/all/.json?after=t3_9cvsdo\n",
      "    iteration 11 worked. URL: https://www.reddit.com/r/all/.json?after=t3_9ctxog\n",
      "    iteration 12 worked. URL: https://www.reddit.com/r/all/.json?after=t3_9ct7ve\n",
      "    iteration 13 worked. URL: https://www.reddit.com/r/all/.json?after=t3_9ctn3c\n",
      "    iteration 14 worked. URL: https://www.reddit.com/r/all/.json?after=t3_9cqxll\n",
      "    iteration 15 worked. URL: https://www.reddit.com/r/all/.json?after=t3_9cs42d\n",
      "    iteration 16 worked. URL: https://www.reddit.com/r/all/.json?after=t3_9csr48\n",
      "    iteration 17 worked. URL: https://www.reddit.com/r/all/.json?after=t3_9ctult\n",
      "    iteration 18 worked. URL: https://www.reddit.com/r/all/.json?after=t3_9csm6j\n",
      "    iteration 19 worked. URL: https://www.reddit.com/r/all/.json?after=t3_9cu60t\n",
      "    size:  (501, 3)\n"
     ]
    },
    {
     "data": {
      "text/html": [
       "<div>\n",
       "<style scoped>\n",
       "    .dataframe tbody tr th:only-of-type {\n",
       "        vertical-align: middle;\n",
       "    }\n",
       "\n",
       "    .dataframe tbody tr th {\n",
       "        vertical-align: top;\n",
       "    }\n",
       "\n",
       "    .dataframe thead th {\n",
       "        text-align: right;\n",
       "    }\n",
       "</style>\n",
       "<table border=\"1\" class=\"dataframe\">\n",
       "  <thead>\n",
       "    <tr style=\"text-align: right;\">\n",
       "      <th></th>\n",
       "      <th>selftext</th>\n",
       "      <th>subreddit</th>\n",
       "      <th>title</th>\n",
       "    </tr>\n",
       "  </thead>\n",
       "  <tbody>\n",
       "    <tr>\n",
       "      <th>0</th>\n",
       "      <td></td>\n",
       "      <td>comics</td>\n",
       "      <td>Immortality</td>\n",
       "    </tr>\n",
       "    <tr>\n",
       "      <th>1</th>\n",
       "      <td></td>\n",
       "      <td>sports</td>\n",
       "      <td>Sidecar co-pilots hugging the corners at the S...</td>\n",
       "    </tr>\n",
       "    <tr>\n",
       "      <th>2</th>\n",
       "      <td></td>\n",
       "      <td>worldnews</td>\n",
       "      <td>The EU and national funders launch a plan to m...</td>\n",
       "    </tr>\n",
       "    <tr>\n",
       "      <th>3</th>\n",
       "      <td></td>\n",
       "      <td>pics</td>\n",
       "      <td>My Grandpa turned 100 last week. He stayed up ...</td>\n",
       "    </tr>\n",
       "    <tr>\n",
       "      <th>4</th>\n",
       "      <td></td>\n",
       "      <td>coolguides</td>\n",
       "      <td>And this folks, is how gerrymandering works</td>\n",
       "    </tr>\n",
       "  </tbody>\n",
       "</table>\n",
       "</div>"
      ],
      "text/plain": [
       "  selftext   subreddit                                              title\n",
       "0               comics                                        Immortality\n",
       "1               sports  Sidecar co-pilots hugging the corners at the S...\n",
       "2            worldnews  The EU and national funders launch a plan to m...\n",
       "3                 pics  My Grandpa turned 100 last week. He stayed up ...\n",
       "4           coolguides        And this folks, is how gerrymandering works"
      ]
     },
     "execution_count": 96,
     "metadata": {},
     "output_type": "execute_result"
    }
   ],
   "source": [
    "data_list = []\n",
    "base_url = \"https://www.reddit.com/r/all/.json\"\n",
    "URL = base_url\n",
    "#seems to be a cap at 20\n",
    "for step in range(20):\n",
    "    res = requests.get(URL, headers={'User-agent': 'Conor Barry Bot 0.1'})\n",
    "    data = res.json()\n",
    "    \n",
    "    for i in range(len(data['data']['children'])):\n",
    "        temp = {}\n",
    "        temp['subreddit'] = data['data']['children'][i]['data']['subreddit_name_prefixed'].replace('r/', '')\n",
    "        temp['title']=data['data']['children'][i]['data']['title']\n",
    "        temp['selftext'] = data['data']['children'][i]['data']['selftext']\n",
    "        data_list.append(temp)\n",
    "\n",
    "    new_after = data['data']['after']\n",
    "    URL = base_url + \"?after=\" + new_after\n",
    "    print('    iteration {} worked. URL: {}'.format(step, URL))\n",
    "    time.sleep(3)\n",
    "    \n",
    "df_all_scrape = pd.DataFrame(data_list)\n",
    "print('    size: ', df_hbb_scrape.shape)\n",
    "# Export to csv\n",
    "df_all_scrape.to_csv('./Data/allPosts_9_04_A.csv', index=False)\n",
    "df_all_scrape.head()"
   ]
  },
  {
   "cell_type": "code",
   "execution_count": 102,
   "metadata": {},
   "outputs": [
    {
     "name": "stdout",
     "output_type": "stream",
     "text": [
      "   None:  494\n",
      "   Rep:  2\n",
      "   Dem:  4\n",
      "   Adj Dem Count:  78\n",
      "   Adj Rep Count:  422\n",
      "   Net:  0.156\n",
      "   average dem score:  0.5515542765117288\n",
      "   average rep score:  0.544843469816542\n",
      "   net score:  344\n"
     ]
    }
   ],
   "source": [
    "#Jump into analysis for this subreddit here from here\n",
    "df_data_current = pd.read_csv('./Data/allPosts_9_04_A.csv').loc[:, ['title']]\n",
    "X_cur = latest_transform.transform(df_data_current.title).todense()\n",
    "df_cur_predictions = pd.DataFrame(latest_model.predict(X_cur),\n",
    "                                 columns=['Party'])\n",
    "\n",
    "df_cur_predictions = df_cur_predictions.join(pd.DataFrame(latest_model.predict_proba(X_cur), columns = ['none_score','rep_score', 'dem_score'] ))\n",
    "\n",
    "'''The next 3 rows mimic the output of a 2 category model with type republican =0, democrat=1. \n",
    "Since we are asking, what is the dominant party ranking for this sub, other than none, we want some intentionally biased results.'''\n",
    "df_cur_predictions['NewDem'] = 1*(df_cur_predictions['dem_score'] > df_cur_predictions['rep_score']) #Score whichever is higher proba\n",
    "#create 'Normalized' probabs based on the assumption that a post is either republican or democrat and never neither \n",
    "df_cur_predictions['NewDem_proba'] = df_cur_predictions['dem_score']/(df_cur_predictions['dem_score']+df_cur_predictions['rep_score'])\n",
    "df_cur_predictions['NewRep_proba'] = 1 - df_cur_predictions['NewDem_proba']\n",
    "\n",
    "#Counts\n",
    "print('   None: ', len(df_cur_predictions[df_cur_predictions.Party == 0]))\n",
    "print('   Rep: ', len(df_cur_predictions[df_cur_predictions.Party == 1]))\n",
    "print('   Dem: ', len(df_cur_predictions[df_cur_predictions.Party == 2]))\n",
    "#Average party rating across all posts\n",
    "print('   Adj Dem Count: ', df_cur_predictions['NewDem'].sum())\n",
    "print('   Adj Rep Count: ', df_cur_predictions['NewDem'].count() - df_cur_predictions['NewDem'].sum())\n",
    "#Avg aggregate rating - >.5 indicates dem\n",
    "print('   Net: ', df_cur_predictions['NewDem'].mean())\n",
    "\n",
    "#summarize winning scores for each party \n",
    "probas = df_cur_predictions.loc[:, ['NewDem_proba', 'NewRep_proba']]\n",
    "min_prob = .5\n",
    "dem_probs = []\n",
    "rep_probs = []\n",
    "for i in range(len(probas)):\n",
    "    if probas.iloc[i][1] >min_prob:\n",
    "        rep_probs.append(probas.iloc[i][1])\n",
    "    elif probas.iloc[i][0]>min_prob:\n",
    "        dem_probs.append(probas.iloc[i][0])\n",
    "print('   average dem score: ', sum(dem_probs) / len(dem_probs))\n",
    "print('   average rep score: ', sum(rep_probs) / len(rep_probs))\n",
    "#More republican or more dem scores?\n",
    "print('   net score: ', len(rep_probs) - len(dem_probs)) "
   ]
  },
  {
   "cell_type": "code",
   "execution_count": 73,
   "metadata": {
    "scrolled": true
   },
   "outputs": [
    {
     "name": "stderr",
     "output_type": "stream",
     "text": [
      "C:\\ProgramData\\Anaconda3\\lib\\site-packages\\matplotlib\\axes\\_axes.py:6462: UserWarning: The 'normed' kwarg is deprecated, and has been replaced by the 'density' kwarg.\n",
      "  warnings.warn(\"The 'normed' kwarg is deprecated, and has been \"\n"
     ]
    },
    {
     "name": "stdout",
     "output_type": "stream",
     "text": [
      "   net:  29.80542138933171\n",
      "   mean:  0.05961084277866336\n",
      "   mode:  ModeResult(mode=array([0.07705703]), count=array([26]))\n",
      "   med:  0.07631344869253698\n"
     ]
    },
    {
     "data": {
      "image/png": "[encoded data removed]",
      "text/plain": [
       "<Figure size 432x288 with 1 Axes>"
      ]
     },
     "metadata": {},
     "output_type": "display_data"
    }
   ],
   "source": [
    "net_probs = []\n",
    "for i in range(len(probas)):\n",
    "    net_probs.append(probas.iloc[i][1] - probas.iloc[i][0]) #R minus D so that Republican == positive, \n",
    "\n",
    "sns.distplot(net_probs, label='rep', color='red')\n",
    "print('   net: ', sum(net_probs))\n",
    "print('   mean: ', np.average(net_probs))\n",
    "print('   mode: ', sp.stats.mode(net_probs))\n",
    "print('   med: ', np.median(net_probs))\n",
    "plt.savefig('./Presentation/OutputFigs/AllNet_3.png')"
   ]
  },
  {
   "cell_type": "code",
   "execution_count": 51,
   "metadata": {},
   "outputs": [],
   "source": [
    "from scipy.stats import ttest_1samp"
   ]
  },
  {
   "cell_type": "markdown",
   "metadata": {},
   "source": [
    "## Outside Testing: The_Donald\n"
   ]
  },
  {
   "cell_type": "code",
   "execution_count": 132,
   "metadata": {},
   "outputs": [
    {
     "name": "stdout",
     "output_type": "stream",
     "text": [
      "    iteration 0 worked. URL: https://www.reddit.com/r/The_Donald/.json?after=t3_9coezc\n",
      "    iteration 1 worked. URL: https://www.reddit.com/r/The_Donald/.json?after=t3_9cly58\n",
      "    iteration 2 worked. URL: https://www.reddit.com/r/The_Donald/.json?after=t3_9cmdzg\n",
      "    iteration 3 worked. URL: https://www.reddit.com/r/The_Donald/.json?after=t3_9cpm1d\n",
      "    iteration 4 worked. URL: https://www.reddit.com/r/The_Donald/.json?after=t3_9cpbu3\n",
      "    iteration 5 worked. URL: https://www.reddit.com/r/The_Donald/.json?after=t3_9ckq7m\n",
      "    iteration 6 worked. URL: https://www.reddit.com/r/The_Donald/.json?after=t3_9cpqvs\n",
      "    iteration 7 worked. URL: https://www.reddit.com/r/The_Donald/.json?after=t3_9clac8\n",
      "    iteration 8 worked. URL: https://www.reddit.com/r/The_Donald/.json?after=t3_9cgzae\n",
      "    iteration 9 worked. URL: https://www.reddit.com/r/The_Donald/.json?after=t3_9coctc\n",
      "    iteration 10 worked. URL: https://www.reddit.com/r/The_Donald/.json?after=t3_9cnzb3\n",
      "    iteration 11 worked. URL: https://www.reddit.com/r/The_Donald/.json?after=t3_9coy0u\n",
      "    iteration 12 worked. URL: https://www.reddit.com/r/The_Donald/.json?after=t3_9cprq2\n",
      "    iteration 13 worked. URL: https://www.reddit.com/r/The_Donald/.json?after=t3_9cmngg\n",
      "    iteration 14 worked. URL: https://www.reddit.com/r/The_Donald/.json?after=t3_9cnw1k\n",
      "    iteration 15 worked. URL: https://www.reddit.com/r/The_Donald/.json?after=t3_9cqaxa\n",
      "    iteration 16 worked. URL: https://www.reddit.com/r/The_Donald/.json?after=t3_9cpw23\n",
      "    iteration 17 worked. URL: https://www.reddit.com/r/The_Donald/.json?after=t3_9cndce\n",
      "    iteration 18 worked. URL: https://www.reddit.com/r/The_Donald/.json?after=t3_9cnk2f\n",
      "    iteration 19 worked. URL: https://www.reddit.com/r/The_Donald/.json?after=t3_9chuds\n",
      "    size:  (502, 3)\n"
     ]
    },
    {
     "data": {
      "text/html": [
       "<div>\n",
       "<style scoped>\n",
       "    .dataframe tbody tr th:only-of-type {\n",
       "        vertical-align: middle;\n",
       "    }\n",
       "\n",
       "    .dataframe tbody tr th {\n",
       "        vertical-align: top;\n",
       "    }\n",
       "\n",
       "    .dataframe thead th {\n",
       "        text-align: right;\n",
       "    }\n",
       "</style>\n",
       "<table border=\"1\" class=\"dataframe\">\n",
       "  <thead>\n",
       "    <tr style=\"text-align: right;\">\n",
       "      <th></th>\n",
       "      <th>selftext</th>\n",
       "      <th>subreddit</th>\n",
       "      <th>title</th>\n",
       "    </tr>\n",
       "  </thead>\n",
       "  <tbody>\n",
       "    <tr>\n",
       "      <th>0</th>\n",
       "      <td></td>\n",
       "      <td>The_Donald</td>\n",
       "      <td>GEOTUS calls out President Bashar Al-Assad of ...</td>\n",
       "    </tr>\n",
       "    <tr>\n",
       "      <th>1</th>\n",
       "      <td></td>\n",
       "      <td>The_Donald</td>\n",
       "      <td>Afghan asylum seeker is jailed for eight years...</td>\n",
       "    </tr>\n",
       "    <tr>\n",
       "      <th>2</th>\n",
       "      <td></td>\n",
       "      <td>The_Donald</td>\n",
       "      <td>I see that John Kerry, the father of the now t...</td>\n",
       "    </tr>\n",
       "    <tr>\n",
       "      <th>3</th>\n",
       "      <td></td>\n",
       "      <td>The_Donald</td>\n",
       "      <td>He could have kept to his billionaire lifestyl...</td>\n",
       "    </tr>\n",
       "    <tr>\n",
       "      <th>4</th>\n",
       "      <td></td>\n",
       "      <td>The_Donald</td>\n",
       "      <td>Blue Wave 2018- Ben Garrison cartoon! Beach Cl...</td>\n",
       "    </tr>\n",
       "  </tbody>\n",
       "</table>\n",
       "</div>"
      ],
      "text/plain": [
       "  selftext   subreddit                                              title\n",
       "0           The_Donald  GEOTUS calls out President Bashar Al-Assad of ...\n",
       "1           The_Donald  Afghan asylum seeker is jailed for eight years...\n",
       "2           The_Donald  I see that John Kerry, the father of the now t...\n",
       "3           The_Donald  He could have kept to his billionaire lifestyl...\n",
       "4           The_Donald  Blue Wave 2018- Ben Garrison cartoon! Beach Cl..."
      ]
     },
     "execution_count": 132,
     "metadata": {},
     "output_type": "execute_result"
    }
   ],
   "source": [
    "data_list = []\n",
    "base_url = \"https://www.reddit.com/r/The_Donald/.json\"\n",
    "URL = base_url\n",
    "#seems to be a cap at 20\n",
    "for step in range(20):\n",
    "    res = requests.get(URL, headers={'User-agent': 'Conor Barry Bot 0.1'})\n",
    "    data = res.json()\n",
    "    \n",
    "    for i in range(len(data['data']['children'])):\n",
    "        temp = {}\n",
    "        temp['subreddit'] = data['data']['children'][i]['data']['subreddit_name_prefixed'].replace('r/', '')\n",
    "        temp['title']=data['data']['children'][i]['data']['title']\n",
    "        temp['selftext'] = data['data']['children'][i]['data']['selftext']\n",
    "        data_list.append(temp)\n",
    "\n",
    "    new_after = data['data']['after']\n",
    "    URL = base_url + \"?after=\" + new_after\n",
    "    print('    iteration {} worked. URL: {}'.format(step, URL))\n",
    "    time.sleep(3)\n",
    "    \n",
    "df_donald_scrape = pd.DataFrame(data_list)\n",
    "print('    size: ', df_donald_scrape.shape)\n",
    "# Export to csv\n",
    "df_donald_scrape.to_csv('./Data/TheDonaldPosts_9_03_A.csv', index=False)\n",
    "df_donald_scrape.head()"
   ]
  },
  {
   "cell_type": "code",
   "execution_count": 101,
   "metadata": {},
   "outputs": [
    {
     "name": "stdout",
     "output_type": "stream",
     "text": [
      "   None:  389\n",
      "   Rep:  18\n",
      "   Dem:  95\n",
      "   Adj Dem Count:  256\n",
      "   Adj Rep Count:  246\n",
      "   Net:  0.5099601593625498\n",
      "   average dem score:  0.6057296590470876\n",
      "   average rep score:  0.5700230146387345\n",
      "   net score:  -10\n"
     ]
    }
   ],
   "source": [
    "#Jump into analysis for this subreddit here from here\n",
    "df_data_current = pd.read_csv('./Data/TheDonaldPosts_9_03_A.csv').loc[:, ['title']]\n",
    "X_cur = latest_transform.transform(df_data_current.title).todense()\n",
    "df_cur_predictions = pd.DataFrame(latest_model.predict(X_cur),\n",
    "                                 columns=['Party'])\n",
    "\n",
    "df_cur_predictions = df_cur_predictions.join(pd.DataFrame(latest_model.predict_proba(X_cur), columns = ['none_score','rep_score', 'dem_score'] ))\n",
    "\n",
    "'''The next 3 rows mimic the output of a 2 category model with type republican =0, democrat=1. \n",
    "Since we are asking, what is the dominant party ranking for this sub, other than none, we want some intentionally biased results.'''\n",
    "df_cur_predictions['NewDem'] = 1*(df_cur_predictions['dem_score'] > df_cur_predictions['rep_score']) #Score whichever is higher proba\n",
    "#create 'Normalized' probabs based on the assumption that a post is either republican or democrat and never neither \n",
    "df_cur_predictions['NewDem_proba'] = df_cur_predictions['dem_score']/(df_cur_predictions['dem_score']+df_cur_predictions['rep_score'])\n",
    "df_cur_predictions['NewRep_proba'] = 1 - df_cur_predictions['NewDem_proba']\n",
    "\n",
    "#Counts\n",
    "print('   None: ', len(df_cur_predictions[df_cur_predictions.Party == 0]))\n",
    "print('   Rep: ', len(df_cur_predictions[df_cur_predictions.Party == 1]))\n",
    "print('   Dem: ', len(df_cur_predictions[df_cur_predictions.Party == 2]))\n",
    "#Average party rating across all posts\n",
    "print('   Adj Dem Count: ', df_cur_predictions['NewDem'].sum())\n",
    "print('   Adj Rep Count: ', df_cur_predictions['NewDem'].count() - df_cur_predictions['NewDem'].sum())\n",
    "#Avg aggregate rating - >.5 indicates dem\n",
    "print('   Net: ', df_cur_predictions['NewDem'].mean())\n",
    "\n",
    "#summarize winning scores for each party \n",
    "probas = df_cur_predictions.loc[:, ['NewDem_proba', 'NewRep_proba']]\n",
    "min_prob = .5\n",
    "dem_probs = []\n",
    "rep_probs = []\n",
    "for i in range(len(probas)):\n",
    "    if probas.iloc[i][1] >min_prob:\n",
    "        rep_probs.append(probas.iloc[i][1])\n",
    "    elif probas.iloc[i][0]>min_prob:\n",
    "        dem_probs.append(probas.iloc[i][0])\n",
    "print('   average dem score: ', sum(dem_probs) / len(dem_probs))\n",
    "print('   average rep score: ', sum(rep_probs) / len(rep_probs))\n",
    "#More republican or more dem scores?\n",
    "print('   net score: ', len(rep_probs) - len(dem_probs)) "
   ]
  },
  {
   "cell_type": "code",
   "execution_count": 41,
   "metadata": {},
   "outputs": [
    {
     "name": "stdout",
     "output_type": "stream",
     "text": [
      "   net:  -19.68226222985171\n",
      "   mean:  -0.03920769368496362\n",
      "   mode:  ModeResult(mode=array([0.08536413]), count=array([18]))\n",
      "   med:  -0.0022542729172194687\n"
     ]
    },
    {
     "name": "stderr",
     "output_type": "stream",
     "text": [
      "C:\\ProgramData\\Anaconda3\\lib\\site-packages\\matplotlib\\axes\\_axes.py:6462: UserWarning: The 'normed' kwarg is deprecated, and has been replaced by the 'density' kwarg.\n",
      "  warnings.warn(\"The 'normed' kwarg is deprecated, and has been \"\n"
     ]
    },
    {
     "data": {
      "image/png": "[encoded data removed]",
      "text/plain": [
       "<Figure size 432x288 with 1 Axes>"
      ]
     },
     "metadata": {},
     "output_type": "display_data"
    }
   ],
   "source": [
    "net_probs = []\n",
    "for i in range(len(probas)):\n",
    "    net_probs.append(probas.iloc[i][1] - probas.iloc[i][0]) #R minus D so that Republican == positive i.e. right side, \n",
    "\n",
    "sns.distplot(net_probs, label='rep', color='blue')\n",
    "print('   net: ', sum(net_probs))\n",
    "print('   mean: ', np.average(net_probs))\n",
    "print('   mode: ', sp.stats.mode(net_probs))\n",
    "print('   med: ', np.median(net_probs))\n",
    "plt.savefig('./Presentation/OutputFigs/DonaldNet_3.png')"
   ]
  },
  {
   "cell_type": "markdown",
   "metadata": {},
   "source": [
    "## Outside Testing: cats\n"
   ]
  },
  {
   "cell_type": "code",
   "execution_count": 193,
   "metadata": {},
   "outputs": [
    {
     "name": "stdout",
     "output_type": "stream",
     "text": [
      "    iteration 0 worked. URL: https://www.reddit.com/r/cats/.json?after=t3_9cn1v8\n",
      "    iteration 1 worked. URL: https://www.reddit.com/r/cats/.json?after=t3_9cn8tt\n",
      "    iteration 2 worked. URL: https://www.reddit.com/r/cats/.json?after=t3_9couf1\n",
      "    iteration 3 worked. URL: https://www.reddit.com/r/cats/.json?after=t3_9ckwel\n",
      "    iteration 4 worked. URL: https://www.reddit.com/r/cats/.json?after=t3_9cq5p6\n",
      "    iteration 5 worked. URL: https://www.reddit.com/r/cats/.json?after=t3_9cpxx4\n",
      "    iteration 6 worked. URL: https://www.reddit.com/r/cats/.json?after=t3_9cmraq\n",
      "    iteration 7 worked. URL: https://www.reddit.com/r/cats/.json?after=t3_9cmu8z\n",
      "    iteration 8 worked. URL: https://www.reddit.com/r/cats/.json?after=t3_9cpozs\n",
      "    iteration 9 worked. URL: https://www.reddit.com/r/cats/.json?after=t3_9clleo\n",
      "    iteration 10 worked. URL: https://www.reddit.com/r/cats/.json?after=t3_9cpfky\n",
      "    iteration 11 worked. URL: https://www.reddit.com/r/cats/.json?after=t3_9cn3e8\n",
      "    iteration 12 worked. URL: https://www.reddit.com/r/cats/.json?after=t3_9cm09l\n",
      "    iteration 13 worked. URL: https://www.reddit.com/r/cats/.json?after=t3_9cnex7\n",
      "    iteration 14 worked. URL: https://www.reddit.com/r/cats/.json?after=t3_9cdzi4\n",
      "    iteration 15 worked. URL: https://www.reddit.com/r/cats/.json?after=t3_9ce3rs\n",
      "    iteration 16 worked. URL: https://www.reddit.com/r/cats/.json?after=t3_9cirqd\n",
      "    iteration 17 worked. URL: https://www.reddit.com/r/cats/.json?after=t3_9c9cgg\n",
      "    iteration 18 worked. URL: https://www.reddit.com/r/cats/.json?after=t3_9ckl17\n",
      "    iteration 19 worked. URL: https://www.reddit.com/r/cats/.json?after=t3_9ch69h\n",
      "    size:  (500, 3)\n"
     ]
    },
    {
     "data": {
      "text/html": [
       "<div>\n",
       "<style scoped>\n",
       "    .dataframe tbody tr th:only-of-type {\n",
       "        vertical-align: middle;\n",
       "    }\n",
       "\n",
       "    .dataframe tbody tr th {\n",
       "        vertical-align: top;\n",
       "    }\n",
       "\n",
       "    .dataframe thead th {\n",
       "        text-align: right;\n",
       "    }\n",
       "</style>\n",
       "<table border=\"1\" class=\"dataframe\">\n",
       "  <thead>\n",
       "    <tr style=\"text-align: right;\">\n",
       "      <th></th>\n",
       "      <th>selftext</th>\n",
       "      <th>subreddit</th>\n",
       "      <th>title</th>\n",
       "    </tr>\n",
       "  </thead>\n",
       "  <tbody>\n",
       "    <tr>\n",
       "      <th>0</th>\n",
       "      <td></td>\n",
       "      <td>cats</td>\n",
       "      <td>We got Ruth from a rescue centre. She follows ...</td>\n",
       "    </tr>\n",
       "    <tr>\n",
       "      <th>1</th>\n",
       "      <td></td>\n",
       "      <td>cats</td>\n",
       "      <td>She’s been gone four months, but I still miss ...</td>\n",
       "    </tr>\n",
       "    <tr>\n",
       "      <th>2</th>\n",
       "      <td></td>\n",
       "      <td>cats</td>\n",
       "      <td>After a long battle with kidney disease, Squea...</td>\n",
       "    </tr>\n",
       "    <tr>\n",
       "      <th>3</th>\n",
       "      <td></td>\n",
       "      <td>cats</td>\n",
       "      <td>16 Year Old Bookmark</td>\n",
       "    </tr>\n",
       "    <tr>\n",
       "      <th>4</th>\n",
       "      <td></td>\n",
       "      <td>cats</td>\n",
       "      <td>He hates being held, but today he actually cli...</td>\n",
       "    </tr>\n",
       "  </tbody>\n",
       "</table>\n",
       "</div>"
      ],
      "text/plain": [
       "  selftext subreddit                                              title\n",
       "0               cats  We got Ruth from a rescue centre. She follows ...\n",
       "1               cats  She’s been gone four months, but I still miss ...\n",
       "2               cats  After a long battle with kidney disease, Squea...\n",
       "3               cats                               16 Year Old Bookmark\n",
       "4               cats  He hates being held, but today he actually cli..."
      ]
     },
     "execution_count": 193,
     "metadata": {},
     "output_type": "execute_result"
    }
   ],
   "source": [
    "data_list = []\n",
    "base_url = \"https://www.reddit.com/r/cats/.json\"\n",
    "URL = base_url\n",
    "#seems to be a cap at 20\n",
    "for step in range(20):\n",
    "    res = requests.get(URL, headers={'User-agent': 'Conor Barry Bot 0.1'})\n",
    "    data = res.json()\n",
    "    \n",
    "    for i in range(len(data['data']['children'])):\n",
    "        temp = {}\n",
    "        temp['subreddit'] = data['data']['children'][i]['data']['subreddit_name_prefixed'].replace('r/', '')\n",
    "        temp['title']=data['data']['children'][i]['data']['title']\n",
    "        temp['selftext'] = data['data']['children'][i]['data']['selftext']\n",
    "        data_list.append(temp)\n",
    "\n",
    "    new_after = data['data']['after']\n",
    "    URL = base_url + \"?after=\" + new_after\n",
    "    print('    iteration {} worked. URL: {}'.format(step, URL))\n",
    "    time.sleep(3)\n",
    "    \n",
    "df_cats_scrape = pd.DataFrame(data_list)\n",
    "print('    size: ', df_cats_scrape.shape)\n",
    "# Export to csv\n",
    "df_cats_scrape.to_csv('./Data/catsPosts_9_03_A.csv', index=False)\n",
    "df_cats_scrape.head()"
   ]
  },
  {
   "cell_type": "code",
   "execution_count": 100,
   "metadata": {},
   "outputs": [
    {
     "name": "stdout",
     "output_type": "stream",
     "text": [
      "   None:  500\n",
      "   Rep:  0\n",
      "   Dem:  0\n",
      "   Adj Dem Count:  91\n",
      "   Adj Rep Count:  409\n",
      "   Net:  0.182\n",
      "   average dem score:  0.5321861761356134\n",
      "   average rep score:  0.5385874544488888\n",
      "   net score:  318\n"
     ]
    }
   ],
   "source": [
    "#Jump into analysis for this subreddit here from here\n",
    "df_data_current = pd.read_csv('./Data/catsPosts_9_03_A.csv').loc[:, ['title']]\n",
    "X_cur = latest_transform.transform(df_data_current.title).todense()\n",
    "df_cur_predictions = pd.DataFrame(latest_model.predict(X_cur),\n",
    "                                 columns=['Party'])\n",
    "\n",
    "df_cur_predictions = df_cur_predictions.join(pd.DataFrame(latest_model.predict_proba(X_cur), columns = ['none_score','rep_score', 'dem_score'] ))\n",
    "\n",
    "'''The next 3 rows mimic the output of a 2 category model with type republican =0, democrat=1. \n",
    "Since we are asking, what is the dominant party ranking for this sub, other than none, we want some intentionally biased results.'''\n",
    "df_cur_predictions['NewDem'] = 1*(df_cur_predictions['dem_score'] > df_cur_predictions['rep_score']) #Score whichever is higher proba\n",
    "#create 'Normalized' probabs based on the assumption that a post is either republican or democrat and never neither \n",
    "df_cur_predictions['NewDem_proba'] = df_cur_predictions['dem_score']/(df_cur_predictions['dem_score']+df_cur_predictions['rep_score'])\n",
    "df_cur_predictions['NewRep_proba'] = 1 - df_cur_predictions['NewDem_proba']\n",
    "\n",
    "#Counts\n",
    "print('   None: ', len(df_cur_predictions[df_cur_predictions.Party == 0]))\n",
    "print('   Rep: ', len(df_cur_predictions[df_cur_predictions.Party == 1]))\n",
    "print('   Dem: ', len(df_cur_predictions[df_cur_predictions.Party == 2]))\n",
    "#Average party rating across all posts\n",
    "print('   Adj Dem Count: ', df_cur_predictions['NewDem'].sum())\n",
    "print('   Adj Rep Count: ', df_cur_predictions['NewDem'].count() - df_cur_predictions['NewDem'].sum())\n",
    "#Avg aggregate rating - >.5 indicates dem\n",
    "print('   Net: ', df_cur_predictions['NewDem'].mean())\n",
    "\n",
    "#summarize winning scores for each party \n",
    "probas = df_cur_predictions.loc[:, ['NewDem_proba', 'NewRep_proba']]\n",
    "min_prob = .5\n",
    "dem_probs = []\n",
    "rep_probs = []\n",
    "for i in range(len(probas)):\n",
    "    if probas.iloc[i][1] >min_prob:\n",
    "        rep_probs.append(probas.iloc[i][1])\n",
    "    elif probas.iloc[i][0]>min_prob:\n",
    "        dem_probs.append(probas.iloc[i][0])\n",
    "print('   average dem score: ', sum(dem_probs) / len(dem_probs))\n",
    "print('   average rep score: ', sum(rep_probs) / len(rep_probs))\n",
    "#More republican or more dem scores?\n",
    "print('   net score: ', len(rep_probs) - len(dem_probs)) "
   ]
  },
  {
   "cell_type": "code",
   "execution_count": 65,
   "metadata": {
    "scrolled": true
   },
   "outputs": [
    {
     "name": "stderr",
     "output_type": "stream",
     "text": [
      "C:\\ProgramData\\Anaconda3\\lib\\site-packages\\matplotlib\\axes\\_axes.py:6462: UserWarning: The 'normed' kwarg is deprecated, and has been replaced by the 'density' kwarg.\n",
      "  warnings.warn(\"The 'normed' kwarg is deprecated, and has been \"\n"
     ]
    },
    {
     "name": "stdout",
     "output_type": "stream",
     "text": [
      "   net:  25.706653682509586\n",
      "   mean:  0.05141330736501914\n",
      "   mode:  ModeResult(mode=array([0.07705703]), count=array([15]))\n",
      "   med:  0.06274179808083943\n"
     ]
    },
    {
     "data": {
      "image/png": "[encoded data removed]",
      "text/plain": [
       "<Figure size 432x288 with 1 Axes>"
      ]
     },
     "metadata": {},
     "output_type": "display_data"
    }
   ],
   "source": [
    "net_probs = []\n",
    "for i in range(len(probas)):\n",
    "    net_probs.append(probas.iloc[i][1] - probas.iloc[i][0]) #R minus D so that Republican == positive, \n",
    "\n",
    "sns.distplot(net_probs, label='rep', color='red')\n",
    "print('   net: ', sum(net_probs))\n",
    "print('   mean: ', np.average(net_probs))\n",
    "print('   mode: ', sp.stats.mode(net_probs))\n",
    "print('   med: ', np.median(net_probs))\n",
    "plt.savefig('./Presentation/OutputFigs/catNet_3.png')"
   ]
  },
  {
   "cell_type": "markdown",
   "metadata": {},
   "source": [
    "## Outside Testing: dogs\n"
   ]
  },
  {
   "cell_type": "code",
   "execution_count": 198,
   "metadata": {},
   "outputs": [
    {
     "name": "stdout",
     "output_type": "stream",
     "text": [
      "    iteration 0 worked. URL: https://www.reddit.com/r/dogs/.json?after=t3_9cq4rj\n",
      "    iteration 1 worked. URL: https://www.reddit.com/r/dogs/.json?after=t3_9cdkbj\n",
      "    iteration 2 worked. URL: https://www.reddit.com/r/dogs/.json?after=t3_9ch3f8\n",
      "    iteration 3 worked. URL: https://www.reddit.com/r/dogs/.json?after=t3_9cdqv8\n",
      "    iteration 4 worked. URL: https://www.reddit.com/r/dogs/.json?after=t3_9cc9xc\n",
      "    iteration 5 worked. URL: https://www.reddit.com/r/dogs/.json?after=t3_9c79yo\n",
      "    iteration 6 worked. URL: https://www.reddit.com/r/dogs/.json?after=t3_9c7y7z\n",
      "    iteration 7 worked. URL: https://www.reddit.com/r/dogs/.json?after=t3_9c35rl\n",
      "    iteration 8 worked. URL: https://www.reddit.com/r/dogs/.json?after=t3_9btyjs\n",
      "    iteration 9 worked. URL: https://www.reddit.com/r/dogs/.json?after=t3_9c01fp\n",
      "    iteration 10 worked. URL: https://www.reddit.com/r/dogs/.json?after=t3_9bqjzl\n",
      "    iteration 11 worked. URL: https://www.reddit.com/r/dogs/.json?after=t3_9bqj4z\n",
      "    iteration 12 worked. URL: https://www.reddit.com/r/dogs/.json?after=t3_9bmwa5\n",
      "    iteration 13 worked. URL: https://www.reddit.com/r/dogs/.json?after=t3_9bi26t\n",
      "    iteration 14 worked. URL: https://www.reddit.com/r/dogs/.json?after=t3_9bg9qn\n",
      "    iteration 15 worked. URL: https://www.reddit.com/r/dogs/.json?after=t3_9bdrxj\n",
      "    iteration 16 worked. URL: https://www.reddit.com/r/dogs/.json?after=t3_9b6idl\n",
      "    iteration 17 worked. URL: https://www.reddit.com/r/dogs/.json?after=t3_9b2w4w\n",
      "    iteration 18 worked. URL: https://www.reddit.com/r/dogs/.json?after=t3_9b3cub\n",
      "    iteration 19 worked. URL: https://www.reddit.com/r/dogs/.json?after=t3_9azx6y\n",
      "    size:  (502, 3)\n"
     ]
    },
    {
     "data": {
      "text/html": [
       "<div>\n",
       "<style scoped>\n",
       "    .dataframe tbody tr th:only-of-type {\n",
       "        vertical-align: middle;\n",
       "    }\n",
       "\n",
       "    .dataframe tbody tr th {\n",
       "        vertical-align: top;\n",
       "    }\n",
       "\n",
       "    .dataframe thead th {\n",
       "        text-align: right;\n",
       "    }\n",
       "</style>\n",
       "<table border=\"1\" class=\"dataframe\">\n",
       "  <thead>\n",
       "    <tr style=\"text-align: right;\">\n",
       "      <th></th>\n",
       "      <th>selftext</th>\n",
       "      <th>subreddit</th>\n",
       "      <th>title</th>\n",
       "    </tr>\n",
       "  </thead>\n",
       "  <tbody>\n",
       "    <tr>\n",
       "      <th>0</th>\n",
       "      <td>Dogs working because they love us, because we ...</td>\n",
       "      <td>dogs</td>\n",
       "      <td>[Photo Friday] A Labor of Love</td>\n",
       "    </tr>\n",
       "    <tr>\n",
       "      <th>1</th>\n",
       "      <td>For the September Trick of the Month, we’ll be...</td>\n",
       "      <td>dogs</td>\n",
       "      <td>[Discussion] Trick of the Month - September 20...</td>\n",
       "    </tr>\n",
       "    <tr>\n",
       "      <th>2</th>\n",
       "      <td>Ok, she's actually a great dog; troublemaker m...</td>\n",
       "      <td>dogs</td>\n",
       "      <td>[Fluff] My energetic troublemaker made me prou...</td>\n",
       "    </tr>\n",
       "    <tr>\n",
       "      <th>3</th>\n",
       "      <td>I was told he's a Pitt/Lab mix and he looks li...</td>\n",
       "      <td>dogs</td>\n",
       "      <td>[FLUFF] Every time someone asks what breed my ...</td>\n",
       "    </tr>\n",
       "    <tr>\n",
       "      <th>4</th>\n",
       "      <td>I came to his subreddit asking to learn about ...</td>\n",
       "      <td>dogs</td>\n",
       "      <td>[Discussion] Sometimes you do everything “righ...</td>\n",
       "    </tr>\n",
       "  </tbody>\n",
       "</table>\n",
       "</div>"
      ],
      "text/plain": [
       "                                            selftext subreddit  \\\n",
       "0  Dogs working because they love us, because we ...      dogs   \n",
       "1  For the September Trick of the Month, we’ll be...      dogs   \n",
       "2  Ok, she's actually a great dog; troublemaker m...      dogs   \n",
       "3  I was told he's a Pitt/Lab mix and he looks li...      dogs   \n",
       "4  I came to his subreddit asking to learn about ...      dogs   \n",
       "\n",
       "                                               title  \n",
       "0                     [Photo Friday] A Labor of Love  \n",
       "1  [Discussion] Trick of the Month - September 20...  \n",
       "2  [Fluff] My energetic troublemaker made me prou...  \n",
       "3  [FLUFF] Every time someone asks what breed my ...  \n",
       "4  [Discussion] Sometimes you do everything “righ...  "
      ]
     },
     "execution_count": 198,
     "metadata": {},
     "output_type": "execute_result"
    }
   ],
   "source": [
    "data_list = []\n",
    "base_url = \"https://www.reddit.com/r/dogs/.json\"\n",
    "URL = base_url\n",
    "#seems to be a cap at 20\n",
    "for step in range(20):\n",
    "    res = requests.get(URL, headers={'User-agent': 'Conor Barry Bot 0.1'})\n",
    "    data = res.json()\n",
    "    \n",
    "    for i in range(len(data['data']['children'])):\n",
    "        temp = {}\n",
    "        temp['subreddit'] = data['data']['children'][i]['data']['subreddit_name_prefixed'].replace('r/', '')\n",
    "        temp['title']=data['data']['children'][i]['data']['title']\n",
    "        temp['selftext'] = data['data']['children'][i]['data']['selftext']\n",
    "        data_list.append(temp)\n",
    "\n",
    "    new_after = data['data']['after']\n",
    "    URL = base_url + \"?after=\" + new_after\n",
    "    print('    iteration {} worked. URL: {}'.format(step, URL))\n",
    "    time.sleep(3)\n",
    "    \n",
    "df_dogs_scrape = pd.DataFrame(data_list)\n",
    "print('    size: ', df_dogs_scrape.shape)\n",
    "# Export to csv\n",
    "df_dogs_scrape.to_csv('./Data/dogsPosts_9_03_A.csv', index=False)\n",
    "df_dogs_scrape.head()"
   ]
  },
  {
   "cell_type": "code",
   "execution_count": 99,
   "metadata": {},
   "outputs": [
    {
     "name": "stdout",
     "output_type": "stream",
     "text": [
      "   None:  502\n",
      "   Rep:  0\n",
      "   Dem:  0\n",
      "   Adj Dem Count:  158\n",
      "   Adj Rep Count:  344\n",
      "   Net:  0.3147410358565737\n",
      "   average dem score:  0.5294671606480233\n",
      "   average rep score:  0.5291590798008703\n",
      "   net score:  186\n"
     ]
    }
   ],
   "source": [
    "#Jump into analysis for this subreddit here from here\n",
    "df_data_current = pd.read_csv('./Data/dogsPosts_9_03_A.csv').loc[:, ['title']]\n",
    "X_cur = latest_transform.transform(df_data_current.title).todense()\n",
    "df_cur_predictions = pd.DataFrame(latest_model.predict(X_cur),\n",
    "                                 columns=['Party'])\n",
    "\n",
    "df_cur_predictions = df_cur_predictions.join(pd.DataFrame(latest_model.predict_proba(X_cur), columns = ['none_score','rep_score', 'dem_score'] ))\n",
    "\n",
    "'''The next 3 rows mimic the output of a 2 category model with type republican =0, democrat=1. \n",
    "Since we are asking, what is the dominant party ranking for this sub, other than none, we want some intentionally biased results.'''\n",
    "df_cur_predictions['NewDem'] = 1*(df_cur_predictions['dem_score'] > df_cur_predictions['rep_score']) #Score whichever is higher proba\n",
    "#create 'Normalized' probabs based on the assumption that a post is either republican or democrat and never neither \n",
    "df_cur_predictions['NewDem_proba'] = df_cur_predictions['dem_score']/(df_cur_predictions['dem_score']+df_cur_predictions['rep_score'])\n",
    "df_cur_predictions['NewRep_proba'] = 1 - df_cur_predictions['NewDem_proba']\n",
    "\n",
    "#Counts\n",
    "print('   None: ', len(df_cur_predictions[df_cur_predictions.Party == 0]))\n",
    "print('   Rep: ', len(df_cur_predictions[df_cur_predictions.Party == 1]))\n",
    "print('   Dem: ', len(df_cur_predictions[df_cur_predictions.Party == 2]))\n",
    "#Average party rating across all posts\n",
    "print('   Adj Dem Count: ', df_cur_predictions['NewDem'].sum())\n",
    "print('   Adj Rep Count: ', df_cur_predictions['NewDem'].count() - df_cur_predictions['NewDem'].sum())\n",
    "#Avg aggregate rating - >.5 indicates dem\n",
    "print('   Net: ', df_cur_predictions['NewDem'].mean())\n",
    "\n",
    "#summarize winning scores for each party \n",
    "probas = df_cur_predictions.loc[:, ['NewDem_proba', 'NewRep_proba']]\n",
    "min_prob = .5\n",
    "dem_probs = []\n",
    "rep_probs = []\n",
    "for i in range(len(probas)):\n",
    "    if probas.iloc[i][1] >min_prob:\n",
    "        rep_probs.append(probas.iloc[i][1])\n",
    "    elif probas.iloc[i][0]>min_prob:\n",
    "        dem_probs.append(probas.iloc[i][0])\n",
    "print('   average dem score: ', sum(dem_probs) / len(dem_probs))\n",
    "print('   average rep score: ', sum(rep_probs) / len(rep_probs))\n",
    "#More republican or more dem scores?\n",
    "print('   net score: ', len(rep_probs) - len(dem_probs)) "
   ]
  },
  {
   "cell_type": "code",
   "execution_count": 67,
   "metadata": {
    "scrolled": true
   },
   "outputs": [
    {
     "name": "stderr",
     "output_type": "stream",
     "text": [
      "C:\\ProgramData\\Anaconda3\\lib\\site-packages\\matplotlib\\axes\\_axes.py:6462: UserWarning: The 'normed' kwarg is deprecated, and has been replaced by the 'density' kwarg.\n",
      "  warnings.warn(\"The 'normed' kwarg is deprecated, and has been \"\n"
     ]
    },
    {
     "name": "stdout",
     "output_type": "stream",
     "text": [
      "   net:  10.749824138223211\n",
      "   mean:  0.02141399230721754\n",
      "   mode:  ModeResult(mode=array([-0.14737861]), count=array([3]))\n",
      "   med:  0.032421128053753745\n"
     ]
    },
    {
     "data": {
      "image/png": "[encoded data removed]",
      "text/plain": [
       "<Figure size 432x288 with 1 Axes>"
      ]
     },
     "metadata": {},
     "output_type": "display_data"
    }
   ],
   "source": [
    "net_probs = []\n",
    "for i in range(len(probas)):\n",
    "    net_probs.append(probas.iloc[i][1] - probas.iloc[i][0]) #R minus D so that Republican == positive, \n",
    "\n",
    "sns.distplot(net_probs, label='rep', color='red')\n",
    "print('   net: ', sum(net_probs))\n",
    "print('   mean: ', np.average(net_probs))\n",
    "print('   mode: ', sp.stats.mode(net_probs))\n",
    "print('   med: ', np.median(net_probs))\n",
    "plt.savefig('./Presentation/OutputFigs/dogNet_3.png')"
   ]
  },
  {
   "cell_type": "markdown",
   "metadata": {},
   "source": [
    "## Outside Testing: Communism\n"
   ]
  },
  {
   "cell_type": "code",
   "execution_count": 76,
   "metadata": {},
   "outputs": [
    {
     "name": "stdout",
     "output_type": "stream",
     "text": [
      "    iteration 0 worked. URL: https://www.reddit.com/r/communism/.json?after=t3_9cmxzc\n",
      "    iteration 1 worked. URL: https://www.reddit.com/r/communism/.json?after=t3_9c5a7b\n",
      "    iteration 2 worked. URL: https://www.reddit.com/r/communism/.json?after=t3_9b75ta\n",
      "    iteration 3 worked. URL: https://www.reddit.com/r/communism/.json?after=t3_9acj1g\n",
      "    iteration 4 worked. URL: https://www.reddit.com/r/communism/.json?after=t3_99mbnz\n",
      "    iteration 5 worked. URL: https://www.reddit.com/r/communism/.json?after=t3_98xa0s\n",
      "    iteration 6 worked. URL: https://www.reddit.com/r/communism/.json?after=t3_980lcj\n",
      "    iteration 7 worked. URL: https://www.reddit.com/r/communism/.json?after=t3_976vbj\n",
      "    iteration 8 worked. URL: https://www.reddit.com/r/communism/.json?after=t3_96ik3a\n",
      "    iteration 9 worked. URL: https://www.reddit.com/r/communism/.json?after=t3_95zgjx\n",
      "    iteration 10 worked. URL: https://www.reddit.com/r/communism/.json?after=t3_95dr7f\n",
      "    iteration 11 worked. URL: https://www.reddit.com/r/communism/.json?after=t3_94n8da\n",
      "    iteration 12 worked. URL: https://www.reddit.com/r/communism/.json?after=t3_9478fa\n",
      "    iteration 13 worked. URL: https://www.reddit.com/r/communism/.json?after=t3_93bfl5\n",
      "    iteration 14 worked. URL: https://www.reddit.com/r/communism/.json?after=t3_92jrow\n",
      "    iteration 15 worked. URL: https://www.reddit.com/r/communism/.json?after=t3_91v3gb\n",
      "    iteration 16 worked. URL: https://www.reddit.com/r/communism/.json?after=t3_90zvg9\n",
      "    iteration 17 worked. URL: https://www.reddit.com/r/communism/.json?after=t3_90dvuj\n",
      "    iteration 18 worked. URL: https://www.reddit.com/r/communism/.json?after=t3_8zcloq\n",
      "    iteration 19 worked. URL: https://www.reddit.com/r/communism/.json?after=t3_8z1wb8\n",
      "    size:  (500, 3)\n"
     ]
    },
    {
     "data": {
      "text/html": [
       "<div>\n",
       "<style scoped>\n",
       "    .dataframe tbody tr th:only-of-type {\n",
       "        vertical-align: middle;\n",
       "    }\n",
       "\n",
       "    .dataframe tbody tr th {\n",
       "        vertical-align: top;\n",
       "    }\n",
       "\n",
       "    .dataframe thead th {\n",
       "        text-align: right;\n",
       "    }\n",
       "</style>\n",
       "<table border=\"1\" class=\"dataframe\">\n",
       "  <thead>\n",
       "    <tr style=\"text-align: right;\">\n",
       "      <th></th>\n",
       "      <th>selftext</th>\n",
       "      <th>subreddit</th>\n",
       "      <th>title</th>\n",
       "    </tr>\n",
       "  </thead>\n",
       "  <tbody>\n",
       "    <tr>\n",
       "      <th>0</th>\n",
       "      <td></td>\n",
       "      <td>communism</td>\n",
       "      <td>Transcript of Xi Jinping's keynote speech at t...</td>\n",
       "    </tr>\n",
       "    <tr>\n",
       "      <th>1</th>\n",
       "      <td>Hey comrades, I went looking for the website f...</td>\n",
       "      <td>communism</td>\n",
       "      <td>Pravda media website gone?</td>\n",
       "    </tr>\n",
       "    <tr>\n",
       "      <th>2</th>\n",
       "      <td></td>\n",
       "      <td>communism</td>\n",
       "      <td>China announces huge debt relief program for c...</td>\n",
       "    </tr>\n",
       "    <tr>\n",
       "      <th>3</th>\n",
       "      <td>i've struggled with intense physical and menta...</td>\n",
       "      <td>communism</td>\n",
       "      <td>disabled comrades?</td>\n",
       "    </tr>\n",
       "    <tr>\n",
       "      <th>4</th>\n",
       "      <td></td>\n",
       "      <td>communism</td>\n",
       "      <td>2018 Main Political Report — Resolution on the...</td>\n",
       "    </tr>\n",
       "  </tbody>\n",
       "</table>\n",
       "</div>"
      ],
      "text/plain": [
       "                                            selftext  subreddit  \\\n",
       "0                                                     communism   \n",
       "1  Hey comrades, I went looking for the website f...  communism   \n",
       "2                                                     communism   \n",
       "3  i've struggled with intense physical and menta...  communism   \n",
       "4                                                     communism   \n",
       "\n",
       "                                               title  \n",
       "0  Transcript of Xi Jinping's keynote speech at t...  \n",
       "1                         Pravda media website gone?  \n",
       "2  China announces huge debt relief program for c...  \n",
       "3                                 disabled comrades?  \n",
       "4  2018 Main Political Report — Resolution on the...  "
      ]
     },
     "execution_count": 76,
     "metadata": {},
     "output_type": "execute_result"
    }
   ],
   "source": [
    "data_list = []\n",
    "base_url = \"https://www.reddit.com/r/communism/.json\"\n",
    "URL = base_url\n",
    "#seems to be a cap at 20\n",
    "for step in range(20):\n",
    "    res = requests.get(URL, headers={'User-agent': 'Conor Barry Bot 0.1'})\n",
    "    data = res.json()\n",
    "    \n",
    "    for i in range(len(data['data']['children'])):\n",
    "        temp = {}\n",
    "        temp['subreddit'] = data['data']['children'][i]['data']['subreddit_name_prefixed'].replace('r/', '')\n",
    "        temp['title']=data['data']['children'][i]['data']['title']\n",
    "        temp['selftext'] = data['data']['children'][i]['data']['selftext']\n",
    "        data_list.append(temp)\n",
    "\n",
    "    new_after = data['data']['after']\n",
    "    URL = base_url + \"?after=\" + new_after\n",
    "    print('    iteration {} worked. URL: {}'.format(step, URL))\n",
    "    time.sleep(3)\n",
    "    \n",
    "df_communism_scrape = pd.DataFrame(data_list)\n",
    "print('    size: ', df_communism_scrape.shape)\n",
    "# Export to csv\n",
    "df_communism_scrape.to_csv('./Data/communismPosts_9_03_A.csv', index=False)\n",
    "df_communism_scrape.head()"
   ]
  },
  {
   "cell_type": "code",
   "execution_count": 97,
   "metadata": {},
   "outputs": [
    {
     "name": "stdout",
     "output_type": "stream",
     "text": [
      "   None:  447\n",
      "   Rep:  31\n",
      "   Dem:  22\n",
      "   Adj Dem Count:  158\n",
      "   Adj Rep Count:  342\n",
      "   Net:  0.316\n",
      "   average dem score:  0.5617698615694671\n",
      "   average rep score:  0.5803258226720289\n",
      "   net score:  184\n"
     ]
    }
   ],
   "source": [
    "#Jump into analysis for this subreddit here from here\n",
    "df_data_current = pd.read_csv('./Data/communismPosts_9_04_A.csv').loc[:, ['title']]\n",
    "X_cur = latest_transform.transform(df_data_current.title).todense()\n",
    "df_cur_predictions = pd.DataFrame(latest_model.predict(X_cur),\n",
    "                                 columns=['Party'])\n",
    "\n",
    "df_cur_predictions = df_cur_predictions.join(pd.DataFrame(latest_model.predict_proba(X_cur), columns = ['none_score','rep_score', 'dem_score'] ))\n",
    "\n",
    "'''The next 3 rows mimic the output of a 2 category model with type republican =0, democrat=1. \n",
    "Since we are asking, what is the dominant party ranking for this sub, other than none, we want some intentionally biased results.'''\n",
    "df_cur_predictions['NewDem'] = 1*(df_cur_predictions['dem_score'] > df_cur_predictions['rep_score']) #Score whichever is higher proba\n",
    "#create 'Normalized' probabs based on the assumption that a post is either republican or democrat and never neither \n",
    "df_cur_predictions['NewDem_proba'] = df_cur_predictions['dem_score']/(df_cur_predictions['dem_score']+df_cur_predictions['rep_score'])\n",
    "df_cur_predictions['NewRep_proba'] = 1 - df_cur_predictions['NewDem_proba']\n",
    "\n",
    "#Counts\n",
    "print('   None: ', len(df_cur_predictions[df_cur_predictions.Party == 0]))\n",
    "print('   Rep: ', len(df_cur_predictions[df_cur_predictions.Party == 1]))\n",
    "print('   Dem: ', len(df_cur_predictions[df_cur_predictions.Party == 2]))\n",
    "#Average party rating across all posts\n",
    "print('   Adj Dem Count: ', df_cur_predictions['NewDem'].sum())\n",
    "print('   Adj Rep Count: ', df_cur_predictions['NewDem'].count() - df_cur_predictions['NewDem'].sum())\n",
    "#Avg aggregate rating - >.5 indicates dem\n",
    "print('   Net: ', df_cur_predictions['NewDem'].mean())\n",
    "\n",
    "#summarize winning scores for each party \n",
    "probas = df_cur_predictions.loc[:, ['NewDem_proba', 'NewRep_proba']]\n",
    "min_prob = .5\n",
    "dem_probs = []\n",
    "rep_probs = []\n",
    "for i in range(len(probas)):\n",
    "    if probas.iloc[i][1] >min_prob:\n",
    "        rep_probs.append(probas.iloc[i][1])\n",
    "    elif probas.iloc[i][0]>min_prob:\n",
    "        dem_probs.append(probas.iloc[i][0])\n",
    "print('   average dem score: ', sum(dem_probs) / len(dem_probs))\n",
    "print('   average rep score: ', sum(rep_probs) / len(rep_probs))\n",
    "#More republican or more dem scores?\n",
    "print('   net score: ', len(rep_probs) - len(dem_probs)) "
   ]
  },
  {
   "cell_type": "code",
   "execution_count": 98,
   "metadata": {
    "scrolled": true
   },
   "outputs": [
    {
     "name": "stderr",
     "output_type": "stream",
     "text": [
      "C:\\ProgramData\\Anaconda3\\lib\\site-packages\\matplotlib\\axes\\_axes.py:6462: UserWarning: The 'normed' kwarg is deprecated, and has been replaced by the 'density' kwarg.\n",
      "  warnings.warn(\"The 'normed' kwarg is deprecated, and has been \"\n"
     ]
    },
    {
     "name": "stdout",
     "output_type": "stream",
     "text": [
      "   net:  35.42358645171613\n",
      "   mean:  0.07084717290343236\n",
      "   mode:  ModeResult(mode=array([0.08536413]), count=array([23]))\n",
      "   med:  0.08346670345619911\n"
     ]
    },
    {
     "data": {
      "image/png": "[encoded data removed]",
      "text/plain": [
       "<Figure size 432x288 with 1 Axes>"
      ]
     },
     "metadata": {},
     "output_type": "display_data"
    }
   ],
   "source": [
    "net_probs = []\n",
    "for i in range(len(probas)):\n",
    "    net_probs.append(probas.iloc[i][1] - probas.iloc[i][0]) #R minus D so that Republican == positive, \n",
    "\n",
    "sns.distplot(net_probs, label='rep', color='blue')\n",
    "print('   net: ', sum(net_probs))\n",
    "print('   mean: ', np.average(net_probs))\n",
    "print('   mode: ', sp.stats.mode(net_probs))\n",
    "print('   med: ', np.median(net_probs))\n",
    "plt.savefig('./Presentation/OutputFigs/communismNet_3.png')"
   ]
  },
  {
   "cell_type": "code",
   "execution_count": null,
   "metadata": {},
   "outputs": [],
   "source": []
  },
  {
   "cell_type": "markdown",
   "metadata": {},
   "source": [
    "## Outside Testing: libertarian\n"
   ]
  },
  {
   "cell_type": "code",
   "execution_count": 77,
   "metadata": {},
   "outputs": [
    {
     "name": "stdout",
     "output_type": "stream",
     "text": [
      "    iteration 0 worked. URL: https://www.reddit.com/r/Libertarian/.json?after=t3_9cvuxa\n",
      "    iteration 1 worked. URL: https://www.reddit.com/r/Libertarian/.json?after=t3_9cz6ha\n",
      "    iteration 2 worked. URL: https://www.reddit.com/r/Libertarian/.json?after=t3_9cojaz\n",
      "    iteration 3 worked. URL: https://www.reddit.com/r/Libertarian/.json?after=t3_9cvjiz\n",
      "    iteration 4 worked. URL: https://www.reddit.com/r/Libertarian/.json?after=t3_9crdit\n",
      "    iteration 5 worked. URL: https://www.reddit.com/r/Libertarian/.json?after=t3_9cwgp7\n",
      "    iteration 6 worked. URL: https://www.reddit.com/r/Libertarian/.json?after=t3_9ct1je\n",
      "    iteration 7 worked. URL: https://www.reddit.com/r/Libertarian/.json?after=t3_9cpsis\n",
      "    iteration 8 worked. URL: https://www.reddit.com/r/Libertarian/.json?after=t3_9csh4o\n",
      "    iteration 9 worked. URL: https://www.reddit.com/r/Libertarian/.json?after=t3_9cpk5c\n",
      "    iteration 10 worked. URL: https://www.reddit.com/r/Libertarian/.json?after=t3_9crj86\n",
      "    iteration 11 worked. URL: https://www.reddit.com/r/Libertarian/.json?after=t3_9cmj71\n",
      "    iteration 12 worked. URL: https://www.reddit.com/r/Libertarian/.json?after=t3_9cns0u\n",
      "    iteration 13 worked. URL: https://www.reddit.com/r/Libertarian/.json?after=t3_9cnkl9\n",
      "    iteration 14 worked. URL: https://www.reddit.com/r/Libertarian/.json?after=t3_9cedyg\n",
      "    iteration 15 worked. URL: https://www.reddit.com/r/Libertarian/.json?after=t3_9c8hch\n",
      "    iteration 16 worked. URL: https://www.reddit.com/r/Libertarian/.json?after=t3_9byhbs\n",
      "    iteration 17 worked. URL: https://www.reddit.com/r/Libertarian/.json?after=t3_9cfeq3\n",
      "    iteration 18 worked. URL: https://www.reddit.com/r/Libertarian/.json?after=t3_9ccs79\n",
      "    iteration 19 worked. URL: https://www.reddit.com/r/Libertarian/.json?after=t3_9ccuze\n",
      "    size:  (502, 3)\n"
     ]
    },
    {
     "data": {
      "text/html": [
       "<div>\n",
       "<style scoped>\n",
       "    .dataframe tbody tr th:only-of-type {\n",
       "        vertical-align: middle;\n",
       "    }\n",
       "\n",
       "    .dataframe tbody tr th {\n",
       "        vertical-align: top;\n",
       "    }\n",
       "\n",
       "    .dataframe thead th {\n",
       "        text-align: right;\n",
       "    }\n",
       "</style>\n",
       "<table border=\"1\" class=\"dataframe\">\n",
       "  <thead>\n",
       "    <tr style=\"text-align: right;\">\n",
       "      <th></th>\n",
       "      <th>selftext</th>\n",
       "      <th>subreddit</th>\n",
       "      <th>title</th>\n",
       "    </tr>\n",
       "  </thead>\n",
       "  <tbody>\n",
       "    <tr>\n",
       "      <th>0</th>\n",
       "      <td></td>\n",
       "      <td>Libertarian</td>\n",
       "      <td>/r/Libertarian wiki</td>\n",
       "    </tr>\n",
       "    <tr>\n",
       "      <th>1</th>\n",
       "      <td></td>\n",
       "      <td>Libertarian</td>\n",
       "      <td>AMA: \"What Is An Open-Source Legal System?\" wi...</td>\n",
       "    </tr>\n",
       "    <tr>\n",
       "      <th>2</th>\n",
       "      <td></td>\n",
       "      <td>Libertarian</td>\n",
       "      <td>School Choice</td>\n",
       "    </tr>\n",
       "    <tr>\n",
       "      <th>3</th>\n",
       "      <td></td>\n",
       "      <td>Libertarian</td>\n",
       "      <td>Police officer gets taunted by guy she falsely...</td>\n",
       "    </tr>\n",
       "    <tr>\n",
       "      <th>4</th>\n",
       "      <td></td>\n",
       "      <td>Libertarian</td>\n",
       "      <td>Thank You, Garbage Collector Man.</td>\n",
       "    </tr>\n",
       "  </tbody>\n",
       "</table>\n",
       "</div>"
      ],
      "text/plain": [
       "  selftext    subreddit                                              title\n",
       "0           Libertarian                                /r/Libertarian wiki\n",
       "1           Libertarian  AMA: \"What Is An Open-Source Legal System?\" wi...\n",
       "2           Libertarian                                      School Choice\n",
       "3           Libertarian  Police officer gets taunted by guy she falsely...\n",
       "4           Libertarian                  Thank You, Garbage Collector Man."
      ]
     },
     "execution_count": 77,
     "metadata": {},
     "output_type": "execute_result"
    }
   ],
   "source": [
    "data_list = []\n",
    "base_url = \"https://www.reddit.com/r/Libertarian/.json\"\n",
    "URL = base_url\n",
    "#seems to be a cap at 20\n",
    "for step in range(20):\n",
    "    res = requests.get(URL, headers={'User-agent': 'Conor Barry Bot 0.1'})\n",
    "    data = res.json()\n",
    "    \n",
    "    for i in range(len(data['data']['children'])):\n",
    "        temp = {}\n",
    "        temp['subreddit'] = data['data']['children'][i]['data']['subreddit_name_prefixed'].replace('r/', '')\n",
    "        temp['title']=data['data']['children'][i]['data']['title']\n",
    "        temp['selftext'] = data['data']['children'][i]['data']['selftext']\n",
    "        data_list.append(temp)\n",
    "\n",
    "    new_after = data['data']['after']\n",
    "    URL = base_url + \"?after=\" + new_after\n",
    "    print('    iteration {} worked. URL: {}'.format(step, URL))\n",
    "    time.sleep(3)\n",
    "    \n",
    "df_Libertarian_scrape = pd.DataFrame(data_list)\n",
    "print('    size: ', df_Libertarian_scrape.shape)\n",
    "# Export to csv\n",
    "df_Libertarian_scrape.to_csv('./Data/LibertarianPosts_9_04_A.csv', index=False)\n",
    "df_Libertarian_scrape.head()"
   ]
  },
  {
   "cell_type": "code",
   "execution_count": 95,
   "metadata": {},
   "outputs": [
    {
     "name": "stdout",
     "output_type": "stream",
     "text": [
      "   None:  420\n",
      "   Rep:  35\n",
      "   Dem:  47\n",
      "   Adj Dem Count:  162\n",
      "   Adj Rep Count:  340\n",
      "   Net:  0.32270916334661354\n",
      "   average dem score:  0.5810709181278519\n",
      "   average rep score:  0.5820101703490144\n",
      "   net score:  178\n"
     ]
    }
   ],
   "source": [
    "#Jump into analysis for this subreddit here from here\n",
    "df_data_current = pd.read_csv('./Data/LibertarianPosts_9_04_A.csv').loc[:, ['title']]\n",
    "X_cur = latest_transform.transform(df_data_current.title).todense()\n",
    "df_cur_predictions = pd.DataFrame(latest_model.predict(X_cur),\n",
    "                                 columns=['Party'])\n",
    "\n",
    "df_cur_predictions = df_cur_predictions.join(pd.DataFrame(latest_model.predict_proba(X_cur), columns = ['none_score','rep_score', 'dem_score'] ))\n",
    "\n",
    "'''The next 3 rows mimic the output of a 2 category model with type republican =0, democrat=1. \n",
    "Since we are asking, what is the dominant party ranking for this sub, other than none, we want some intentionally biased results.'''\n",
    "df_cur_predictions['NewDem'] = 1*(df_cur_predictions['dem_score'] > df_cur_predictions['rep_score']) #Score whichever is higher proba\n",
    "#create 'Normalized' probabs based on the assumption that a post is either republican or democrat and never neither \n",
    "df_cur_predictions['NewDem_proba'] = df_cur_predictions['dem_score']/(df_cur_predictions['dem_score']+df_cur_predictions['rep_score'])\n",
    "df_cur_predictions['NewRep_proba'] = 1 - df_cur_predictions['NewDem_proba']\n",
    "\n",
    "#Counts\n",
    "print('   None: ', len(df_cur_predictions[df_cur_predictions.Party == 0]))\n",
    "print('   Rep: ', len(df_cur_predictions[df_cur_predictions.Party == 1]))\n",
    "print('   Dem: ', len(df_cur_predictions[df_cur_predictions.Party == 2]))\n",
    "#Average party rating across all posts\n",
    "print('   Adj Dem Count: ', df_cur_predictions['NewDem'].sum())\n",
    "print('   Adj Rep Count: ', df_cur_predictions['NewDem'].count() - df_cur_predictions['NewDem'].sum())\n",
    "#Avg aggregate rating - >.5 indicates dem\n",
    "print('   Net: ', df_cur_predictions['NewDem'].mean())\n",
    "\n",
    "#summarize winning scores for each party \n",
    "probas = df_cur_predictions.loc[:, ['NewDem_proba', 'NewRep_proba']]\n",
    "min_prob = .5\n",
    "dem_probs = []\n",
    "rep_probs = []\n",
    "for i in range(len(probas)):\n",
    "    if probas.iloc[i][1] >min_prob:\n",
    "        rep_probs.append(probas.iloc[i][1])\n",
    "    elif probas.iloc[i][0]>min_prob:\n",
    "        dem_probs.append(probas.iloc[i][0])\n",
    "print('   average dem score: ', sum(dem_probs) / len(dem_probs))\n",
    "print('   average rep score: ', sum(rep_probs) / len(rep_probs))\n",
    "#More republican or more dem scores?\n",
    "print('   net score: ', len(rep_probs) - len(dem_probs)) "
   ]
  },
  {
   "cell_type": "code",
   "execution_count": 87,
   "metadata": {
    "scrolled": true
   },
   "outputs": [
    {
     "name": "stderr",
     "output_type": "stream",
     "text": [
      "C:\\ProgramData\\Anaconda3\\lib\\site-packages\\matplotlib\\axes\\_axes.py:6462: UserWarning: The 'normed' kwarg is deprecated, and has been replaced by the 'density' kwarg.\n",
      "  warnings.warn(\"The 'normed' kwarg is deprecated, and has been \"\n"
     ]
    },
    {
     "name": "stdout",
     "output_type": "stream",
     "text": [
      "   net:  29.499938363905844\n",
      "   mean:  0.05876481745797974\n",
      "   mode:  ModeResult(mode=array([0.08536413]), count=array([30]))\n",
      "   med:  0.07987649393662757\n"
     ]
    },
    {
     "data": {
      "image/png": "[encoded data removed]",
      "text/plain": [
       "<Figure size 432x288 with 1 Axes>"
      ]
     },
     "metadata": {},
     "output_type": "display_data"
    }
   ],
   "source": [
    "net_probs = []\n",
    "for i in range(len(probas)):\n",
    "    net_probs.append(probas.iloc[i][1] - probas.iloc[i][0]) #R minus D so that Republican == positive, \n",
    "\n",
    "sns.distplot(net_probs, label='rep', color='blue')\n",
    "print('   net: ', sum(net_probs))\n",
    "print('   mean: ', np.average(net_probs))\n",
    "print('   mode: ', sp.stats.mode(net_probs))\n",
    "print('   med: ', np.median(net_probs))\n",
    "plt.savefig('./Presentation/OutputFigs/LibertarianNet_3.png')"
   ]
  },
  {
   "cell_type": "code",
   "execution_count": null,
   "metadata": {},
   "outputs": [],
   "source": []
  },
  {
   "cell_type": "markdown",
   "metadata": {},
   "source": [
    "## Outside Testing: Liberal/\n"
   ]
  },
  {
   "cell_type": "code",
   "execution_count": 103,
   "metadata": {},
   "outputs": [
    {
     "name": "stdout",
     "output_type": "stream",
     "text": [
      "    iteration 0 worked. URL: https://www.reddit.com/r/Liberal/.json?after=t3_9chirq\n",
      "    iteration 1 worked. URL: https://www.reddit.com/r/Liberal/.json?after=t3_9b0axh\n",
      "    iteration 2 worked. URL: https://www.reddit.com/r/Liberal/.json?after=t3_9abj8h\n",
      "    iteration 3 worked. URL: https://www.reddit.com/r/Liberal/.json?after=t3_99f6wa\n",
      "    iteration 4 worked. URL: https://www.reddit.com/r/Liberal/.json?after=t3_98msts\n",
      "    iteration 5 worked. URL: https://www.reddit.com/r/Liberal/.json?after=t3_97lf96\n",
      "    iteration 6 worked. URL: https://www.reddit.com/r/Liberal/.json?after=t3_965or8\n",
      "    iteration 7 worked. URL: https://www.reddit.com/r/Liberal/.json?after=t3_9562qz\n",
      "    iteration 8 worked. URL: https://www.reddit.com/r/Liberal/.json?after=t3_94dck5\n",
      "    iteration 9 worked. URL: https://www.reddit.com/r/Liberal/.json?after=t3_93nyz7\n",
      "    iteration 10 worked. URL: https://www.reddit.com/r/Liberal/.json?after=t3_92eew1\n",
      "    iteration 11 worked. URL: https://www.reddit.com/r/Liberal/.json?after=t3_91wr8a\n",
      "    iteration 12 worked. URL: https://www.reddit.com/r/Liberal/.json?after=t3_9104h8\n",
      "    iteration 13 worked. URL: https://www.reddit.com/r/Liberal/.json?after=t3_8zvpdj\n",
      "    iteration 14 worked. URL: https://www.reddit.com/r/Liberal/.json?after=t3_8zecdz\n",
      "    iteration 15 worked. URL: https://www.reddit.com/r/Liberal/.json?after=t3_8yarz9\n",
      "    iteration 16 worked. URL: https://www.reddit.com/r/Liberal/.json?after=t3_8xj2p4\n",
      "    iteration 17 worked. URL: https://www.reddit.com/r/Liberal/.json?after=t3_8x4b7j\n",
      "    iteration 18 worked. URL: https://www.reddit.com/r/Liberal/.json?after=t3_8w33e2\n",
      "    iteration 19 worked. URL: https://www.reddit.com/r/Liberal/.json?after=t3_8uvjot\n",
      "    size:  (500, 3)\n"
     ]
    },
    {
     "data": {
      "text/html": [
       "<div>\n",
       "<style scoped>\n",
       "    .dataframe tbody tr th:only-of-type {\n",
       "        vertical-align: middle;\n",
       "    }\n",
       "\n",
       "    .dataframe tbody tr th {\n",
       "        vertical-align: top;\n",
       "    }\n",
       "\n",
       "    .dataframe thead th {\n",
       "        text-align: right;\n",
       "    }\n",
       "</style>\n",
       "<table border=\"1\" class=\"dataframe\">\n",
       "  <thead>\n",
       "    <tr style=\"text-align: right;\">\n",
       "      <th></th>\n",
       "      <th>selftext</th>\n",
       "      <th>subreddit</th>\n",
       "      <th>title</th>\n",
       "    </tr>\n",
       "  </thead>\n",
       "  <tbody>\n",
       "    <tr>\n",
       "      <th>0</th>\n",
       "      <td></td>\n",
       "      <td>Liberal</td>\n",
       "      <td>Silencing athletes is a way of asserting that ...</td>\n",
       "    </tr>\n",
       "    <tr>\n",
       "      <th>1</th>\n",
       "      <td></td>\n",
       "      <td>Liberal</td>\n",
       "      <td>Trump called Attorney Jeff Sessions a 'traitor...</td>\n",
       "    </tr>\n",
       "    <tr>\n",
       "      <th>2</th>\n",
       "      <td></td>\n",
       "      <td>Liberal</td>\n",
       "      <td>My friend's baby girl died as a result of the ...</td>\n",
       "    </tr>\n",
       "    <tr>\n",
       "      <th>3</th>\n",
       "      <td></td>\n",
       "      <td>Liberal</td>\n",
       "      <td>Kavanaugh hearings: Democrats want you to know...</td>\n",
       "    </tr>\n",
       "    <tr>\n",
       "      <th>4</th>\n",
       "      <td></td>\n",
       "      <td>Liberal</td>\n",
       "      <td>Opinion | Does Brett Kavanaugh Spell the End o...</td>\n",
       "    </tr>\n",
       "  </tbody>\n",
       "</table>\n",
       "</div>"
      ],
      "text/plain": [
       "  selftext subreddit                                              title\n",
       "0            Liberal  Silencing athletes is a way of asserting that ...\n",
       "1            Liberal  Trump called Attorney Jeff Sessions a 'traitor...\n",
       "2            Liberal  My friend's baby girl died as a result of the ...\n",
       "3            Liberal  Kavanaugh hearings: Democrats want you to know...\n",
       "4            Liberal  Opinion | Does Brett Kavanaugh Spell the End o..."
      ]
     },
     "execution_count": 103,
     "metadata": {},
     "output_type": "execute_result"
    }
   ],
   "source": [
    "data_list = []\n",
    "base_url = \"https://www.reddit.com/r/Liberal/.json\"\n",
    "URL = base_url\n",
    "#seems to be a cap at 20\n",
    "for step in range(20):\n",
    "    res = requests.get(URL, headers={'User-agent': 'Conor Barry Bot 0.1'})\n",
    "    data = res.json()\n",
    "    \n",
    "    for i in range(len(data['data']['children'])):\n",
    "        temp = {}\n",
    "        temp['subreddit'] = data['data']['children'][i]['data']['subreddit_name_prefixed'].replace('r/', '')\n",
    "        temp['title']=data['data']['children'][i]['data']['title']\n",
    "        temp['selftext'] = data['data']['children'][i]['data']['selftext']\n",
    "        data_list.append(temp)\n",
    "\n",
    "    new_after = data['data']['after']\n",
    "    URL = base_url + \"?after=\" + new_after\n",
    "    print('    iteration {} worked. URL: {}'.format(step, URL))\n",
    "    time.sleep(3)\n",
    "    \n",
    "df_liberal_scrape = pd.DataFrame(data_list)\n",
    "print('    size: ', df_liberal_scrape.shape)\n",
    "# Export to csv\n",
    "df_liberal_scrape.to_csv('./Data/liberalPosts_9_04_A.csv', index=False)\n",
    "df_liberal_scrape.head()"
   ]
  },
  {
   "cell_type": "code",
   "execution_count": 106,
   "metadata": {},
   "outputs": [
    {
     "name": "stdout",
     "output_type": "stream",
     "text": [
      "   None:  221\n",
      "   Rep:  56\n",
      "   Dem:  223\n",
      "   Adj Dem Count:  301\n",
      "   Adj Rep Count:  199\n",
      "   Net:  0.602\n",
      "   average dem score:  0.6320112384036628\n",
      "   average rep score:  0.5889366173757657\n",
      "   net score:  -102\n"
     ]
    }
   ],
   "source": [
    "#Jump into analysis for this subreddit here from here\n",
    "df_data_current = pd.read_csv('./Data/liberalPosts_9_04_A.csv').loc[:, ['title']]\n",
    "X_cur = latest_transform.transform(df_data_current.title).todense()\n",
    "df_cur_predictions = pd.DataFrame(latest_model.predict(X_cur),\n",
    "                                 columns=['Party'])\n",
    "\n",
    "df_cur_predictions = df_cur_predictions.join(pd.DataFrame(latest_model.predict_proba(X_cur), columns = ['none_score','rep_score', 'dem_score'] ))\n",
    "\n",
    "'''The next 3 rows mimic the output of a 2 category model with type republican =0, democrat=1. \n",
    "Since we are asking, what is the dominant party ranking for this sub, other than none, we want some intentionally biased results.'''\n",
    "df_cur_predictions['NewDem'] = 1*(df_cur_predictions['dem_score'] > df_cur_predictions['rep_score']) #Score whichever is higher proba\n",
    "#create 'Normalized' probabs based on the assumption that a post is either republican or democrat and never neither \n",
    "df_cur_predictions['NewDem_proba'] = df_cur_predictions['dem_score']/(df_cur_predictions['dem_score']+df_cur_predictions['rep_score'])\n",
    "df_cur_predictions['NewRep_proba'] = 1 - df_cur_predictions['NewDem_proba']\n",
    "\n",
    "#Counts\n",
    "print('   None: ', len(df_cur_predictions[df_cur_predictions.Party == 0]))\n",
    "print('   Rep: ', len(df_cur_predictions[df_cur_predictions.Party == 1]))\n",
    "print('   Dem: ', len(df_cur_predictions[df_cur_predictions.Party == 2]))\n",
    "#Average party rating across all posts\n",
    "print('   Adj Dem Count: ', df_cur_predictions['NewDem'].sum())\n",
    "print('   Adj Rep Count: ', df_cur_predictions['NewDem'].count() - df_cur_predictions['NewDem'].sum())\n",
    "#Avg aggregate rating - >.5 indicates dem\n",
    "print('   Net: ', df_cur_predictions['NewDem'].mean())\n",
    "\n",
    "#summarize winning scores for each party \n",
    "probas = df_cur_predictions.loc[:, ['NewDem_proba', 'NewRep_proba']]\n",
    "min_prob = .5\n",
    "dem_probs = []\n",
    "rep_probs = []\n",
    "for i in range(len(probas)):\n",
    "    if probas.iloc[i][1] >min_prob:\n",
    "        rep_probs.append(probas.iloc[i][1])\n",
    "    elif probas.iloc[i][0]>min_prob:\n",
    "        dem_probs.append(probas.iloc[i][0])\n",
    "print('   average dem score: ', sum(dem_probs) / len(dem_probs))\n",
    "print('   average rep score: ', sum(rep_probs) / len(rep_probs))\n",
    "#More republican or more dem scores?\n",
    "print('   net score: ', len(rep_probs) - len(dem_probs)) "
   ]
  },
  {
   "cell_type": "code",
   "execution_count": 107,
   "metadata": {
    "scrolled": false
   },
   "outputs": [
    {
     "name": "stderr",
     "output_type": "stream",
     "text": [
      "C:\\ProgramData\\Anaconda3\\lib\\site-packages\\matplotlib\\axes\\_axes.py:6462: UserWarning: The 'normed' kwarg is deprecated, and has been replaced by the 'density' kwarg.\n",
      "  warnings.warn(\"The 'normed' kwarg is deprecated, and has been \"\n"
     ]
    },
    {
     "name": "stdout",
     "output_type": "stream",
     "text": [
      "   net:  -44.073991803450596\n",
      "   mean:  -0.0881479836069011\n",
      "   mode:  ModeResult(mode=array([0.08536413]), count=array([2]))\n",
      "   med:  -0.07437071308243737\n"
     ]
    },
    {
     "data": {
      "image/png": "[encoded data removed]",
      "text/plain": [
       "<Figure size 432x288 with 1 Axes>"
      ]
     },
     "metadata": {},
     "output_type": "display_data"
    }
   ],
   "source": [
    "net_probs = []\n",
    "for i in range(len(probas)):\n",
    "    net_probs.append(probas.iloc[i][1] - probas.iloc[i][0]) #R minus D so that Republican == positive, \n",
    "\n",
    "sns.distplot(net_probs, label='rep', color='blue')\n",
    "print('   net: ', sum(net_probs))\n",
    "print('   mean: ', np.average(net_probs))\n",
    "print('   mode: ', sp.stats.mode(net_probs))\n",
    "print('   med: ', np.median(net_probs))\n",
    "plt.savefig('./Presentation/OutputFigs/liberalNet_3.png')"
   ]
  },
  {
   "cell_type": "markdown",
   "metadata": {},
   "source": [
    "## Outside Testing: Liberal/\n"
   ]
  },
  {
   "cell_type": "code",
   "execution_count": 103,
   "metadata": {},
   "outputs": [
    {
     "name": "stdout",
     "output_type": "stream",
     "text": [
      "    iteration 0 worked. URL: https://www.reddit.com/r/Liberal/.json?after=t3_9chirq\n",
      "    iteration 1 worked. URL: https://www.reddit.com/r/Liberal/.json?after=t3_9b0axh\n",
      "    iteration 2 worked. URL: https://www.reddit.com/r/Liberal/.json?after=t3_9abj8h\n",
      "    iteration 3 worked. URL: https://www.reddit.com/r/Liberal/.json?after=t3_99f6wa\n",
      "    iteration 4 worked. URL: https://www.reddit.com/r/Liberal/.json?after=t3_98msts\n",
      "    iteration 5 worked. URL: https://www.reddit.com/r/Liberal/.json?after=t3_97lf96\n",
      "    iteration 6 worked. URL: https://www.reddit.com/r/Liberal/.json?after=t3_965or8\n",
      "    iteration 7 worked. URL: https://www.reddit.com/r/Liberal/.json?after=t3_9562qz\n",
      "    iteration 8 worked. URL: https://www.reddit.com/r/Liberal/.json?after=t3_94dck5\n",
      "    iteration 9 worked. URL: https://www.reddit.com/r/Liberal/.json?after=t3_93nyz7\n",
      "    iteration 10 worked. URL: https://www.reddit.com/r/Liberal/.json?after=t3_92eew1\n",
      "    iteration 11 worked. URL: https://www.reddit.com/r/Liberal/.json?after=t3_91wr8a\n",
      "    iteration 12 worked. URL: https://www.reddit.com/r/Liberal/.json?after=t3_9104h8\n",
      "    iteration 13 worked. URL: https://www.reddit.com/r/Liberal/.json?after=t3_8zvpdj\n",
      "    iteration 14 worked. URL: https://www.reddit.com/r/Liberal/.json?after=t3_8zecdz\n",
      "    iteration 15 worked. URL: https://www.reddit.com/r/Liberal/.json?after=t3_8yarz9\n",
      "    iteration 16 worked. URL: https://www.reddit.com/r/Liberal/.json?after=t3_8xj2p4\n",
      "    iteration 17 worked. URL: https://www.reddit.com/r/Liberal/.json?after=t3_8x4b7j\n",
      "    iteration 18 worked. URL: https://www.reddit.com/r/Liberal/.json?after=t3_8w33e2\n",
      "    iteration 19 worked. URL: https://www.reddit.com/r/Liberal/.json?after=t3_8uvjot\n",
      "    size:  (500, 3)\n"
     ]
    },
    {
     "data": {
      "text/html": [
       "<div>\n",
       "<style scoped>\n",
       "    .dataframe tbody tr th:only-of-type {\n",
       "        vertical-align: middle;\n",
       "    }\n",
       "\n",
       "    .dataframe tbody tr th {\n",
       "        vertical-align: top;\n",
       "    }\n",
       "\n",
       "    .dataframe thead th {\n",
       "        text-align: right;\n",
       "    }\n",
       "</style>\n",
       "<table border=\"1\" class=\"dataframe\">\n",
       "  <thead>\n",
       "    <tr style=\"text-align: right;\">\n",
       "      <th></th>\n",
       "      <th>selftext</th>\n",
       "      <th>subreddit</th>\n",
       "      <th>title</th>\n",
       "    </tr>\n",
       "  </thead>\n",
       "  <tbody>\n",
       "    <tr>\n",
       "      <th>0</th>\n",
       "      <td></td>\n",
       "      <td>Liberal</td>\n",
       "      <td>Silencing athletes is a way of asserting that ...</td>\n",
       "    </tr>\n",
       "    <tr>\n",
       "      <th>1</th>\n",
       "      <td></td>\n",
       "      <td>Liberal</td>\n",
       "      <td>Trump called Attorney Jeff Sessions a 'traitor...</td>\n",
       "    </tr>\n",
       "    <tr>\n",
       "      <th>2</th>\n",
       "      <td></td>\n",
       "      <td>Liberal</td>\n",
       "      <td>My friend's baby girl died as a result of the ...</td>\n",
       "    </tr>\n",
       "    <tr>\n",
       "      <th>3</th>\n",
       "      <td></td>\n",
       "      <td>Liberal</td>\n",
       "      <td>Kavanaugh hearings: Democrats want you to know...</td>\n",
       "    </tr>\n",
       "    <tr>\n",
       "      <th>4</th>\n",
       "      <td></td>\n",
       "      <td>Liberal</td>\n",
       "      <td>Opinion | Does Brett Kavanaugh Spell the End o...</td>\n",
       "    </tr>\n",
       "  </tbody>\n",
       "</table>\n",
       "</div>"
      ],
      "text/plain": [
       "  selftext subreddit                                              title\n",
       "0            Liberal  Silencing athletes is a way of asserting that ...\n",
       "1            Liberal  Trump called Attorney Jeff Sessions a 'traitor...\n",
       "2            Liberal  My friend's baby girl died as a result of the ...\n",
       "3            Liberal  Kavanaugh hearings: Democrats want you to know...\n",
       "4            Liberal  Opinion | Does Brett Kavanaugh Spell the End o..."
      ]
     },
     "execution_count": 103,
     "metadata": {},
     "output_type": "execute_result"
    }
   ],
   "source": [
    "data_list = []\n",
    "base_url = \"https://www.reddit.com/r/Liberal/.json\"\n",
    "URL = base_url\n",
    "#seems to be a cap at 20\n",
    "for step in range(20):\n",
    "    res = requests.get(URL, headers={'User-agent': 'Conor Barry Bot 0.1'})\n",
    "    data = res.json()\n",
    "    \n",
    "    for i in range(len(data['data']['children'])):\n",
    "        temp = {}\n",
    "        temp['subreddit'] = data['data']['children'][i]['data']['subreddit_name_prefixed'].replace('r/', '')\n",
    "        temp['title']=data['data']['children'][i]['data']['title']\n",
    "        temp['selftext'] = data['data']['children'][i]['data']['selftext']\n",
    "        data_list.append(temp)\n",
    "\n",
    "    new_after = data['data']['after']\n",
    "    URL = base_url + \"?after=\" + new_after\n",
    "    print('    iteration {} worked. URL: {}'.format(step, URL))\n",
    "    time.sleep(3)\n",
    "    \n",
    "df_gameofthrones_scrape = pd.DataFrame(data_list)\n",
    "print('    size: ', df_gameofthrones_scrape.shape)\n",
    "# Export to csv\n",
    "df_gameofthrones_scrape.to_csv('./Data/gameofthronesPosts_9_04_A.csv', index=False)\n",
    "df_gameofthrones_scrape.head()"
   ]
  },
  {
   "cell_type": "code",
   "execution_count": 106,
   "metadata": {},
   "outputs": [
    {
     "name": "stdout",
     "output_type": "stream",
     "text": [
      "   None:  221\n",
      "   Rep:  56\n",
      "   Dem:  223\n",
      "   Adj Dem Count:  301\n",
      "   Adj Rep Count:  199\n",
      "   Net:  0.602\n",
      "   average dem score:  0.6320112384036628\n",
      "   average rep score:  0.5889366173757657\n",
      "   net score:  -102\n"
     ]
    }
   ],
   "source": [
    "#Jump into analysis for this subreddit here from here\n",
    "df_data_current = pd.read_csv('./Data/gameofthronesPosts_9_04_A.csv').loc[:, ['title']]\n",
    "X_cur = latest_transform.transform(df_data_current.title).todense()\n",
    "df_cur_predictions = pd.DataFrame(latest_model.predict(X_cur),\n",
    "                                 columns=['Party'])\n",
    "\n",
    "df_cur_predictions = df_cur_predictions.join(pd.DataFrame(latest_model.predict_proba(X_cur), columns = ['none_score','rep_score', 'dem_score'] ))\n",
    "\n",
    "'''The next 3 rows mimic the output of a 2 category model with type republican =0, democrat=1. \n",
    "Since we are asking, what is the dominant party ranking for this sub, other than none, we want some intentionally biased results.'''\n",
    "df_cur_predictions['NewDem'] = 1*(df_cur_predictions['dem_score'] > df_cur_predictions['rep_score']) #Score whichever is higher proba\n",
    "#create 'Normalized' probabs based on the assumption that a post is either republican or democrat and never neither \n",
    "df_cur_predictions['NewDem_proba'] = df_cur_predictions['dem_score']/(df_cur_predictions['dem_score']+df_cur_predictions['rep_score'])\n",
    "df_cur_predictions['NewRep_proba'] = 1 - df_cur_predictions['NewDem_proba']\n",
    "\n",
    "#Counts\n",
    "print('   None: ', len(df_cur_predictions[df_cur_predictions.Party == 0]))\n",
    "print('   Rep: ', len(df_cur_predictions[df_cur_predictions.Party == 1]))\n",
    "print('   Dem: ', len(df_cur_predictions[df_cur_predictions.Party == 2]))\n",
    "#Average party rating across all posts\n",
    "print('   Adj Dem Count: ', df_cur_predictions['NewDem'].sum())\n",
    "print('   Adj Rep Count: ', df_cur_predictions['NewDem'].count() - df_cur_predictions['NewDem'].sum())\n",
    "#Avg aggregate rating - >.5 indicates dem\n",
    "print('   Net: ', df_cur_predictions['NewDem'].mean())\n",
    "\n",
    "#summarize winning scores for each party \n",
    "probas = df_cur_predictions.loc[:, ['NewDem_proba', 'NewRep_proba']]\n",
    "min_prob = .5\n",
    "dem_probs = []\n",
    "rep_probs = []\n",
    "for i in range(len(probas)):\n",
    "    if probas.iloc[i][1] >min_prob:\n",
    "        rep_probs.append(probas.iloc[i][1])\n",
    "    elif probas.iloc[i][0]>min_prob:\n",
    "        dem_probs.append(probas.iloc[i][0])\n",
    "print('   average dem score: ', sum(dem_probs) / len(dem_probs))\n",
    "print('   average rep score: ', sum(rep_probs) / len(rep_probs))\n",
    "#More republican or more dem scores?\n",
    "print('   net score: ', len(rep_probs) - len(dem_probs)) "
   ]
  },
  {
   "cell_type": "code",
   "execution_count": 107,
   "metadata": {
    "scrolled": false
   },
   "outputs": [
    {
     "name": "stderr",
     "output_type": "stream",
     "text": [
      "C:\\ProgramData\\Anaconda3\\lib\\site-packages\\matplotlib\\axes\\_axes.py:6462: UserWarning: The 'normed' kwarg is deprecated, and has been replaced by the 'density' kwarg.\n",
      "  warnings.warn(\"The 'normed' kwarg is deprecated, and has been \"\n"
     ]
    },
    {
     "name": "stdout",
     "output_type": "stream",
     "text": [
      "   net:  -44.073991803450596\n",
      "   mean:  -0.0881479836069011\n",
      "   mode:  ModeResult(mode=array([0.08536413]), count=array([2]))\n",
      "   med:  -0.07437071308243737\n"
     ]
    },
    {
     "data": {
      "image/png": "[encoded data removed]",
      "text/plain": [
       "<Figure size 432x288 with 1 Axes>"
      ]
     },
     "metadata": {},
     "output_type": "display_data"
    }
   ],
   "source": [
    "net_probs = []\n",
    "for i in range(len(probas)):\n",
    "    net_probs.append(probas.iloc[i][1] - probas.iloc[i][0]) #R minus D so that Republican == positive, \n",
    "\n",
    "sns.distplot(net_probs, label='rep', color='blue')\n",
    "print('   net: ', sum(net_probs))\n",
    "print('   mean: ', np.average(net_probs))\n",
    "print('   mode: ', sp.stats.mode(net_probs))\n",
    "print('   med: ', np.median(net_probs))\n",
    "plt.savefig('./Presentation/OutputFigs/gameofthronesNet_3.png')"
   ]
  },
  {
   "cell_type": "markdown",
   "metadata": {},
   "source": [
    "## Back Testing: Democrat\n"
   ]
  },
  {
   "cell_type": "code",
   "execution_count": 80,
   "metadata": {},
   "outputs": [
    {
     "name": "stdout",
     "output_type": "stream",
     "text": [
      "    iteration 0 worked. URL: https://www.reddit.com/r/democrats/.json?after=t3_9cs2ju\n",
      "    iteration 1 worked. URL: https://www.reddit.com/r/democrats/.json?after=t3_9cqwcf\n",
      "    iteration 2 worked. URL: https://www.reddit.com/r/democrats/.json?after=t3_9cll85\n",
      "    iteration 3 worked. URL: https://www.reddit.com/r/democrats/.json?after=t3_9cl5b9\n",
      "    iteration 4 worked. URL: https://www.reddit.com/r/democrats/.json?after=t3_9c6zek\n",
      "    iteration 5 worked. URL: https://www.reddit.com/r/democrats/.json?after=t3_9byzhp\n",
      "    iteration 6 worked. URL: https://www.reddit.com/r/democrats/.json?after=t3_9bxvky\n",
      "    iteration 7 worked. URL: https://www.reddit.com/r/democrats/.json?after=t3_9c0h4a\n",
      "    iteration 8 worked. URL: https://www.reddit.com/r/democrats/.json?after=t3_9bqrar\n",
      "    iteration 9 worked. URL: https://www.reddit.com/r/democrats/.json?after=t3_9bn0nj\n",
      "    iteration 10 worked. URL: https://www.reddit.com/r/democrats/.json?after=t3_9baanr\n",
      "    iteration 11 worked. URL: https://www.reddit.com/r/democrats/.json?after=t3_9b5zw1\n",
      "    iteration 12 worked. URL: https://www.reddit.com/r/democrats/.json?after=t3_9aw50w\n",
      "    iteration 13 worked. URL: https://www.reddit.com/r/democrats/.json?after=t3_9anqli\n",
      "    iteration 14 worked. URL: https://www.reddit.com/r/democrats/.json?after=t3_9amkgs\n",
      "    iteration 15 worked. URL: https://www.reddit.com/r/democrats/.json?after=t3_9ae2rv\n",
      "    iteration 16 worked. URL: https://www.reddit.com/r/democrats/.json?after=t3_9a4nmh\n",
      "    iteration 17 worked. URL: https://www.reddit.com/r/democrats/.json?after=t3_9a34n4\n",
      "    iteration 18 worked. URL: https://www.reddit.com/r/democrats/.json?after=t3_99zh0n\n",
      "    iteration 19 worked. URL: https://www.reddit.com/r/democrats/.json?after=t3_99u96a\n",
      "    size:  (501, 3)\n"
     ]
    },
    {
     "data": {
      "text/html": [
       "<div>\n",
       "<style scoped>\n",
       "    .dataframe tbody tr th:only-of-type {\n",
       "        vertical-align: middle;\n",
       "    }\n",
       "\n",
       "    .dataframe tbody tr th {\n",
       "        vertical-align: top;\n",
       "    }\n",
       "\n",
       "    .dataframe thead th {\n",
       "        text-align: right;\n",
       "    }\n",
       "</style>\n",
       "<table border=\"1\" class=\"dataframe\">\n",
       "  <thead>\n",
       "    <tr style=\"text-align: right;\">\n",
       "      <th></th>\n",
       "      <th>selftext</th>\n",
       "      <th>subreddit</th>\n",
       "      <th>title</th>\n",
       "    </tr>\n",
       "  </thead>\n",
       "  <tbody>\n",
       "    <tr>\n",
       "      <th>0</th>\n",
       "      <td>We are two of r/democrats more vocal members f...</td>\n",
       "      <td>democrats</td>\n",
       "      <td>THE TIME FOR UNITY IS NOW - A Progressive and ...</td>\n",
       "    </tr>\n",
       "    <tr>\n",
       "      <th>1</th>\n",
       "      <td></td>\n",
       "      <td>democrats</td>\n",
       "      <td>Kavanaugh Hearing Erupts in Chaos as Dems Dema...</td>\n",
       "    </tr>\n",
       "    <tr>\n",
       "      <th>2</th>\n",
       "      <td></td>\n",
       "      <td>democrats</td>\n",
       "      <td>Shameful.</td>\n",
       "    </tr>\n",
       "    <tr>\n",
       "      <th>3</th>\n",
       "      <td></td>\n",
       "      <td>democrats</td>\n",
       "      <td>Brett Kavanaugh is a threat to women, workers,...</td>\n",
       "    </tr>\n",
       "    <tr>\n",
       "      <th>4</th>\n",
       "      <td></td>\n",
       "      <td>democrats</td>\n",
       "      <td>Brennan on Kap’s endorsement deal.</td>\n",
       "    </tr>\n",
       "  </tbody>\n",
       "</table>\n",
       "</div>"
      ],
      "text/plain": [
       "                                            selftext  subreddit  \\\n",
       "0  We are two of r/democrats more vocal members f...  democrats   \n",
       "1                                                     democrats   \n",
       "2                                                     democrats   \n",
       "3                                                     democrats   \n",
       "4                                                     democrats   \n",
       "\n",
       "                                               title  \n",
       "0  THE TIME FOR UNITY IS NOW - A Progressive and ...  \n",
       "1  Kavanaugh Hearing Erupts in Chaos as Dems Dema...  \n",
       "2                                          Shameful.  \n",
       "3  Brett Kavanaugh is a threat to women, workers,...  \n",
       "4                 Brennan on Kap’s endorsement deal.  "
      ]
     },
     "execution_count": 80,
     "metadata": {},
     "output_type": "execute_result"
    }
   ],
   "source": [
    "data_list = []\n",
    "base_url = \"https://www.reddit.com/r/democrats/.json\"\n",
    "URL = base_url\n",
    "#seems to be a cap at 20\n",
    "for step in range(20):\n",
    "    res = requests.get(URL, headers={'User-agent': 'Conor Barry Bot 0.1'})\n",
    "    data = res.json()\n",
    "    \n",
    "    for i in range(len(data['data']['children'])):\n",
    "        temp = {}\n",
    "        temp['subreddit'] = data['data']['children'][i]['data']['subreddit_name_prefixed'].replace('r/', '')\n",
    "        temp['title']=data['data']['children'][i]['data']['title']\n",
    "        temp['selftext'] = data['data']['children'][i]['data']['selftext']\n",
    "        data_list.append(temp)\n",
    "\n",
    "    new_after = data['data']['after']\n",
    "    URL = base_url + \"?after=\" + new_after\n",
    "    print('    iteration {} worked. URL: {}'.format(step, URL))\n",
    "    time.sleep(3)\n",
    "    \n",
    "df_demsb_scrape = pd.DataFrame(data_list)\n",
    "print('    size: ', df_demsb_scrape.shape)\n",
    "# Export to csv\n",
    "df_demsb_scrape.to_csv('./Data/demsbPosts_9_04_B.csv', index=False)\n",
    "df_demsb_scrape.head()"
   ]
  },
  {
   "cell_type": "code",
   "execution_count": 94,
   "metadata": {},
   "outputs": [
    {
     "name": "stdout",
     "output_type": "stream",
     "text": [
      "   None:  73\n",
      "   Rep:  7\n",
      "   Dem:  421\n",
      "   Adj Dem Count:  484\n",
      "   Adj Rep Count:  17\n",
      "   Net:  0.9660678642714571\n",
      "   average dem score:  0.7051560930923775\n",
      "   average rep score:  0.5671811150827353\n",
      "   net score:  -467\n"
     ]
    }
   ],
   "source": [
    "#Jump into analysis for this subreddit here from here\n",
    "df_data_current = pd.read_csv('./Data/demsbPosts_9_04_B.csv').loc[:, ['title']]\n",
    "X_cur = latest_transform.transform(df_data_current.title).todense()\n",
    "df_cur_predictions = pd.DataFrame(latest_model.predict(X_cur),\n",
    "                                 columns=['Party'])\n",
    "\n",
    "df_cur_predictions = df_cur_predictions.join(pd.DataFrame(latest_model.predict_proba(X_cur), columns = ['none_score','rep_score', 'dem_score'] ))\n",
    "\n",
    "'''The next 3 rows mimic the output of a 2 category model with type republican =0, democrat=1. \n",
    "Since we are asking, what is the dominant party ranking for this sub, other than none, we want some intentionally biased results.'''\n",
    "df_cur_predictions['NewDem'] = 1*(df_cur_predictions['dem_score'] > df_cur_predictions['rep_score']) #Score whichever is higher proba\n",
    "#create 'Normalized' probabs based on the assumption that a post is either republican or democrat and never neither \n",
    "df_cur_predictions['NewDem_proba'] = df_cur_predictions['dem_score']/(df_cur_predictions['dem_score']+df_cur_predictions['rep_score'])\n",
    "df_cur_predictions['NewRep_proba'] = 1 - df_cur_predictions['NewDem_proba']\n",
    "\n",
    "#Counts\n",
    "print('   None: ', len(df_cur_predictions[df_cur_predictions.Party == 0]))\n",
    "print('   Rep: ', len(df_cur_predictions[df_cur_predictions.Party == 1]))\n",
    "print('   Dem: ', len(df_cur_predictions[df_cur_predictions.Party == 2]))\n",
    "#Average party rating across all posts\n",
    "print('   Adj Dem Count: ', df_cur_predictions['NewDem'].sum())\n",
    "print('   Adj Rep Count: ', df_cur_predictions['NewDem'].count() - df_cur_predictions['NewDem'].sum())\n",
    "#Avg aggregate rating - >.5 indicates dem\n",
    "print('   Net: ', df_cur_predictions['NewDem'].mean())\n",
    "\n",
    "#summarize winning scores for each party \n",
    "probas = df_cur_predictions.loc[:, ['NewDem_proba', 'NewRep_proba']]\n",
    "min_prob = .5\n",
    "dem_probs = []\n",
    "rep_probs = []\n",
    "for i in range(len(probas)):\n",
    "    if probas.iloc[i][1] >min_prob:\n",
    "        rep_probs.append(probas.iloc[i][1])\n",
    "    elif probas.iloc[i][0]>min_prob:\n",
    "        dem_probs.append(probas.iloc[i][0])\n",
    "print('   average dem score: ', sum(dem_probs) / len(dem_probs))\n",
    "print('   average rep score: ', sum(rep_probs) / len(rep_probs))\n",
    "#More republican or more dem scores?\n",
    "print('   net score: ', len(rep_probs) - len(dem_probs)) "
   ]
  },
  {
   "cell_type": "code",
   "execution_count": 82,
   "metadata": {
    "scrolled": true
   },
   "outputs": [
    {
     "name": "stdout",
     "output_type": "stream",
     "text": [
      "   net:  -196.30694020060884\n",
      "   mean:  -0.3918302199612951\n",
      "   mode:  ModeResult(mode=array([-0.49460827]), count=array([2]))\n",
      "   med:  -0.42188415683310576\n"
     ]
    },
    {
     "name": "stderr",
     "output_type": "stream",
     "text": [
      "C:\\ProgramData\\Anaconda3\\lib\\site-packages\\matplotlib\\axes\\_axes.py:6462: UserWarning: The 'normed' kwarg is deprecated, and has been replaced by the 'density' kwarg.\n",
      "  warnings.warn(\"The 'normed' kwarg is deprecated, and has been \"\n"
     ]
    },
    {
     "data": {
      "image/png": "[encoded data removed]",
      "text/plain": [
       "<Figure size 432x288 with 1 Axes>"
      ]
     },
     "metadata": {},
     "output_type": "display_data"
    }
   ],
   "source": [
    "net_probs = []\n",
    "for i in range(len(probas)):\n",
    "    net_probs.append(probas.iloc[i][1] - probas.iloc[i][0]) #R minus D so that Republican == positive, \n",
    "\n",
    "sns.distplot(net_probs, label='rep', color='blue')\n",
    "print('   net: ', sum(net_probs))\n",
    "print('   mean: ', np.average(net_probs))\n",
    "print('   mode: ', sp.stats.mode(net_probs))\n",
    "print('   med: ', np.median(net_probs))\n",
    "#plt.savefig('./Presentation/OutputFigs/demsbNet_3.png')"
   ]
  },
  {
   "cell_type": "markdown",
   "metadata": {},
   "source": [
    "## Back Testing: Republican\n"
   ]
  },
  {
   "cell_type": "code",
   "execution_count": 83,
   "metadata": {},
   "outputs": [
    {
     "name": "stdout",
     "output_type": "stream",
     "text": [
      "    iteration 0 worked. URL: https://www.reddit.com/r/Republican/.json?after=t3_9ce42w\n",
      "    iteration 1 worked. URL: https://www.reddit.com/r/Republican/.json?after=t3_9bm6g8\n",
      "    iteration 2 worked. URL: https://www.reddit.com/r/Republican/.json?after=t3_9armnk\n",
      "    iteration 3 worked. URL: https://www.reddit.com/r/Republican/.json?after=t3_99x5e8\n",
      "    iteration 4 worked. URL: https://www.reddit.com/r/Republican/.json?after=t3_99slzu\n",
      "    iteration 5 worked. URL: https://www.reddit.com/r/Republican/.json?after=t3_98u7lv\n",
      "    iteration 6 worked. URL: https://www.reddit.com/r/Republican/.json?after=t3_9823sn\n",
      "    iteration 7 worked. URL: https://www.reddit.com/r/Republican/.json?after=t3_97mhps\n",
      "    iteration 8 worked. URL: https://www.reddit.com/r/Republican/.json?after=t3_96m5k1\n",
      "    iteration 9 worked. URL: https://www.reddit.com/r/Republican/.json?after=t3_966a6d\n",
      "    iteration 10 worked. URL: https://www.reddit.com/r/Republican/.json?after=t3_95m585\n",
      "    iteration 11 worked. URL: https://www.reddit.com/r/Republican/.json?after=t3_953au0\n",
      "    iteration 12 worked. URL: https://www.reddit.com/r/Republican/.json?after=t3_94mx3q\n",
      "    iteration 13 worked. URL: https://www.reddit.com/r/Republican/.json?after=t3_9462bk\n",
      "    iteration 14 worked. URL: https://www.reddit.com/r/Republican/.json?after=t3_93dug5\n",
      "    iteration 15 worked. URL: https://www.reddit.com/r/Republican/.json?after=t3_930ypg\n",
      "    iteration 16 worked. URL: https://www.reddit.com/r/Republican/.json?after=t3_92i34m\n",
      "    iteration 17 worked. URL: https://www.reddit.com/r/Republican/.json?after=t3_91jr1s\n",
      "    iteration 18 worked. URL: https://www.reddit.com/r/Republican/.json?after=t3_91grsh\n",
      "    iteration 19 worked. URL: https://www.reddit.com/r/Republican/.json?after=t3_90vu0r\n",
      "    size:  (500, 3)\n"
     ]
    },
    {
     "data": {
      "text/html": [
       "<div>\n",
       "<style scoped>\n",
       "    .dataframe tbody tr th:only-of-type {\n",
       "        vertical-align: middle;\n",
       "    }\n",
       "\n",
       "    .dataframe tbody tr th {\n",
       "        vertical-align: top;\n",
       "    }\n",
       "\n",
       "    .dataframe thead th {\n",
       "        text-align: right;\n",
       "    }\n",
       "</style>\n",
       "<table border=\"1\" class=\"dataframe\">\n",
       "  <thead>\n",
       "    <tr style=\"text-align: right;\">\n",
       "      <th></th>\n",
       "      <th>selftext</th>\n",
       "      <th>subreddit</th>\n",
       "      <th>title</th>\n",
       "    </tr>\n",
       "  </thead>\n",
       "  <tbody>\n",
       "    <tr>\n",
       "      <th>0</th>\n",
       "      <td></td>\n",
       "      <td>Republican</td>\n",
       "      <td>Corporate Suicide Watch, Nike Edition</td>\n",
       "    </tr>\n",
       "    <tr>\n",
       "      <th>1</th>\n",
       "      <td></td>\n",
       "      <td>Republican</td>\n",
       "      <td>Facebook Confessed PragerU Hit by Ideological ...</td>\n",
       "    </tr>\n",
       "    <tr>\n",
       "      <th>2</th>\n",
       "      <td></td>\n",
       "      <td>Republican</td>\n",
       "      <td>Former Senator Jon Kyl appointed to take McCai...</td>\n",
       "    </tr>\n",
       "    <tr>\n",
       "      <th>3</th>\n",
       "      <td></td>\n",
       "      <td>Republican</td>\n",
       "      <td>How Socialism Rots The Soul, The Culture And T...</td>\n",
       "    </tr>\n",
       "    <tr>\n",
       "      <th>4</th>\n",
       "      <td></td>\n",
       "      <td>Republican</td>\n",
       "      <td>Attend Rand Paul’s Rally for Eric Brakey’s US ...</td>\n",
       "    </tr>\n",
       "  </tbody>\n",
       "</table>\n",
       "</div>"
      ],
      "text/plain": [
       "  selftext   subreddit                                              title\n",
       "0           Republican              Corporate Suicide Watch, Nike Edition\n",
       "1           Republican  Facebook Confessed PragerU Hit by Ideological ...\n",
       "2           Republican  Former Senator Jon Kyl appointed to take McCai...\n",
       "3           Republican  How Socialism Rots The Soul, The Culture And T...\n",
       "4           Republican  Attend Rand Paul’s Rally for Eric Brakey’s US ..."
      ]
     },
     "execution_count": 83,
     "metadata": {},
     "output_type": "execute_result"
    }
   ],
   "source": [
    "data_list = []\n",
    "base_url = \"https://www.reddit.com/r/Republican/.json\"\n",
    "URL = base_url\n",
    "#seems to be a cap at 20\n",
    "for step in range(20):\n",
    "    res = requests.get(URL, headers={'User-agent': 'Conor Barry Bot 0.1'})\n",
    "    data = res.json()\n",
    "    \n",
    "    for i in range(len(data['data']['children'])):\n",
    "        temp = {}\n",
    "        temp['subreddit'] = data['data']['children'][i]['data']['subreddit_name_prefixed'].replace('r/', '')\n",
    "        temp['title']=data['data']['children'][i]['data']['title']\n",
    "        temp['selftext'] = data['data']['children'][i]['data']['selftext']\n",
    "        data_list.append(temp)\n",
    "\n",
    "    new_after = data['data']['after']\n",
    "    URL = base_url + \"?after=\" + new_after\n",
    "    print('    iteration {} worked. URL: {}'.format(step, URL))\n",
    "    time.sleep(3)\n",
    "    \n",
    "df_repsb_scrape = pd.DataFrame(data_list)\n",
    "print('    size: ', df_repsb_scrape.shape)\n",
    "# Export to csv\n",
    "df_repsb_scrape.to_csv('./Data/repsbPosts_9_04_B.csv', index=False)\n",
    "df_repsb_scrape.head()"
   ]
  },
  {
   "cell_type": "code",
   "execution_count": 93,
   "metadata": {},
   "outputs": [
    {
     "name": "stdout",
     "output_type": "stream",
     "text": [
      "   None:  92\n",
      "   Rep:  395\n",
      "   Dem:  13\n",
      "   Adj Dem Count:  24\n",
      "   Adj Rep Count:  476\n",
      "   Net:  0.048\n",
      "   average dem score:  0.5849286053471935\n",
      "   average rep score:  0.6990392395330777\n",
      "   net score:  452\n"
     ]
    }
   ],
   "source": [
    "#Jump into analysis for this subreddit here from here\n",
    "df_data_current = pd.read_csv('./Data/repsbPosts_9_04_B.csv').loc[:, ['title']]\n",
    "X_cur = latest_transform.transform(df_data_current.title).todense()\n",
    "df_cur_predictions = pd.DataFrame(latest_model.predict(X_cur),\n",
    "                                 columns=['Party'])\n",
    "\n",
    "df_cur_predictions = df_cur_predictions.join(pd.DataFrame(latest_model.predict_proba(X_cur), columns = ['none_score','rep_score', 'dem_score'] ))\n",
    "\n",
    "'''The next 3 rows mimic the output of a 2 category model with type republican =0, democrat=1. \n",
    "Since we are asking, what is the dominant party ranking for this sub, other than none, we want some intentionally biased results.'''\n",
    "df_cur_predictions['NewDem'] = 1*(df_cur_predictions['dem_score'] > df_cur_predictions['rep_score']) #Score whichever is higher proba\n",
    "#create 'Normalized' probabs based on the assumption that a post is either republican or democrat and never neither \n",
    "df_cur_predictions['NewDem_proba'] = df_cur_predictions['dem_score']/(df_cur_predictions['dem_score']+df_cur_predictions['rep_score'])\n",
    "df_cur_predictions['NewRep_proba'] = 1 - df_cur_predictions['NewDem_proba']\n",
    "\n",
    "#Counts\n",
    "print('   None: ', len(df_cur_predictions[df_cur_predictions.Party == 0]))\n",
    "print('   Rep: ', len(df_cur_predictions[df_cur_predictions.Party == 1]))\n",
    "print('   Dem: ', len(df_cur_predictions[df_cur_predictions.Party == 2]))\n",
    "#Average party rating across all posts\n",
    "print('   Adj Dem Count: ', df_cur_predictions['NewDem'].sum())\n",
    "print('   Adj Rep Count: ', df_cur_predictions['NewDem'].count() - df_cur_predictions['NewDem'].sum())\n",
    "#Avg aggregate rating - >.5 indicates dem\n",
    "print('   Net: ', df_cur_predictions['NewDem'].mean())\n",
    "\n",
    "#summarize winning scores for each party \n",
    "probas = df_cur_predictions.loc[:, ['NewDem_proba', 'NewRep_proba']]\n",
    "min_prob = .5\n",
    "dem_probs = []\n",
    "rep_probs = []\n",
    "for i in range(len(probas)):\n",
    "    if probas.iloc[i][1] >min_prob:\n",
    "        rep_probs.append(probas.iloc[i][1])\n",
    "    elif probas.iloc[i][0]>min_prob:\n",
    "        dem_probs.append(probas.iloc[i][0])\n",
    "print('   average dem score: ', sum(dem_probs) / len(dem_probs))\n",
    "print('   average rep score: ', sum(rep_probs) / len(rep_probs))\n",
    "#More republican or more dem scores?\n",
    "print('   net score: ', len(rep_probs) - len(dem_probs)) \n",
    "\n",
    "net_probs = []\n",
    "for i in range(len(probas)):\n",
    "    net_probs.append(probas.iloc[i][1] - probas.iloc[i][0]) #R minus D so that Republican == positive, \n",
    "\n",
    "sns.distplot(net_probs, label='rep', color='blue')\n",
    "print('   net sum of probas: ', sum(net_probs))\n",
    "print('   mean proba delta: ', np.average(net_probs))\n",
    "print('   mode: ', sp.stats.mode(net_probs))\n",
    "print('   med: ', np.median(net_probs))\n",
    "#plt.savefig('./Presentation/OutputFigs/repsbNet_3.png')"
   ]
  },
  {
   "cell_type": "code",
   "execution_count": null,
   "metadata": {},
   "outputs": [],
   "source": []
  }
 ],
 "metadata": {
  "anaconda-cloud": {},
  "kernelspec": {
   "display_name": "Python 3",
   "language": "python",
   "name": "python3"
  },
  "language_info": {
   "codemirror_mode": {
    "name": "ipython",
    "version": 3
   },
   "file_extension": ".py",
   "mimetype": "text/x-python",
   "name": "python",
   "nbconvert_exporter": "python",
   "pygments_lexer": "ipython3",
   "version": "3.6.5"
  },
  "varInspector": {
   "cols": {
    "lenName": 16,
    "lenType": 16,
    "lenVar": 40
   },
   "kernels_config": {
    "python": {
     "delete_cmd_postfix": "",
     "delete_cmd_prefix": "del ",
     "library": "var_list.py",
     "varRefreshCmd": "print(var_dic_list())"
    },
    "r": {
     "delete_cmd_postfix": ") ",
     "delete_cmd_prefix": "rm(",
     "library": "var_list.r",
     "varRefreshCmd": "cat(var_dic_list()) "
    }
   },
   "types_to_exclude": [
    "module",
    "function",
    "builtin_function_or_method",
    "instance",
    "_Feature"
   ],
   "window_display": false
  }
 },
 "nbformat": 4,
 "nbformat_minor": 1
}
