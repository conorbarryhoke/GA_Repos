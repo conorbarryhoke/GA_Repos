{
 "cells": [
  {
   "cell_type": "markdown",
   "metadata": {},
   "source": [
    "# PROJECT 4 - CHI CITY MOSQUITOS\n",
    "\n",
    "- James Babyak\n",
    "- Conor Barry-Hoke\n",
    "- Jerome Benton\n",
    "- Christopher Nowak"
   ]
  },
  {
   "cell_type": "markdown",
   "metadata": {},
   "source": [
    "## Objective"
   ]
  },
  {
   "cell_type": "markdown",
   "metadata": {},
   "source": [
    "Predict when and where different species of mosquitos will test positive for West Nile virus in the greater Chicago area"
   ]
  },
  {
   "cell_type": "markdown",
   "metadata": {},
   "source": [
    "## TOC"
   ]
  },
  {
   "cell_type": "markdown",
   "metadata": {},
   "source": [
    "0. [Imports](#first-bullet)\n",
    "1. [EDA](#1.0-bullet)\n",
    "2. [Data Transformation](#2.0-bullet)\n",
    "3. [Modelling](#3.0-bullet)\n",
    "4. [Output](#4.0-bullet)\n",
    "5. [Kaggle Submission](#5.0-bullet)"
   ]
  },
  {
   "cell_type": "markdown",
   "metadata": {},
   "source": [
    "# <a class=\"anchor\" id=\"first-bullet\">Imports</a>"
   ]
  },
  {
   "cell_type": "code",
   "execution_count": 1005,
   "metadata": {},
   "outputs": [],
   "source": [
    "#Basic\n",
    "import pandas as pd\n",
    "import numpy as np\n",
    "#Math\n",
    "import scipy as sp\n",
    "from random import randint\n",
    "from math import exp\n",
    "import operator\n",
    "\n",
    "#Scraping\n",
    "'''import requests\n",
    "import json'''\n",
    "\n",
    "#Modeling\n",
    "from sklearn.model_selection import cross_val_score, train_test_split, GridSearchCV\n",
    "from sklearn.linear_model import LogisticRegression\n",
    "from sklearn.naive_bayes import MultinomialNB\n",
    "from sklearn.ensemble import RandomForestClassifier, AdaBoostClassifier, BaggingClassifier\n",
    "from sklearn.neighbors import KNeighborsClassifier\n",
    "from sklearn.cluster import KMeans\n",
    "from sklearn.svm import SVC\n",
    "from sklearn.metrics import confusion_matrix, roc_auc_score, roc_curve, auc\n",
    "\n",
    "#NLP Processing\n",
    "'''from sklearn.feature_extraction import stop_words\n",
    "from sklearn.feature_extraction.text import CountVectorizer\n",
    "from sklearn.feature_extraction.text import TfidfVectorizer'''\n",
    "\n",
    "#Time analysis\n",
    "import time\n",
    "import datetime\n",
    "from statsmodels.tsa.stattools import pacf\n",
    "from statsmodels.graphics.tsaplots import plot_pacf\n",
    "\n",
    "#Plotting\n",
    "import matplotlib.pyplot as plt\n",
    "import seaborn as sns\n",
    "#from wordcloud import WordCloud\n",
    "\n",
    "%matplotlib inline\n",
    "plt.style.use('seaborn-darkgrid')"
   ]
  },
  {
   "cell_type": "markdown",
   "metadata": {},
   "source": [
    "# <a class=\"anchor\" id=\"1.0-bullet\"> 1. EDA</a>"
   ]
  },
  {
   "cell_type": "markdown",
   "metadata": {},
   "source": [
    "Four datasets available:\n",
    "- Train and test datasets of historical data for mosquitos caught in traps that tested positive for West Nile\n",
    "- Weather dataset of time period across all test and train data\n",
    "- Spray dataset of time and locations where mosquito control was implemented"
   ]
  },
  {
   "cell_type": "code",
   "execution_count": 1006,
   "metadata": {},
   "outputs": [],
   "source": [
    "data_spray = pd.read_csv('./Data/spray.csv')\n",
    "data_weather = pd.read_csv('./Data/weather.csv')\n",
    "data_train = pd.read_csv('./Data/train.csv')\n",
    "data_test = pd.read_csv('./Data/test.csv')"
   ]
  },
  {
   "cell_type": "code",
   "execution_count": 1007,
   "metadata": {},
   "outputs": [],
   "source": [
    "df_train = data_train #Don't edit the initial frame. For recovery"
   ]
  },
  {
   "cell_type": "code",
   "execution_count": 1008,
   "metadata": {},
   "outputs": [],
   "source": [
    "#Convert to Date Time from object\n",
    "df_train.loc[:, ['Date']]= pd.to_datetime(df_train['Date'])\n",
    "\n",
    "#Switch to DateTime Index\n",
    "df_train.index = df_train.Date"
   ]
  },
  {
   "cell_type": "code",
   "execution_count": 1009,
   "metadata": {},
   "outputs": [],
   "source": [
    "# Set initial test data\n",
    "df_test = data_test"
   ]
  },
  {
   "cell_type": "markdown",
   "metadata": {},
   "source": [
    "## 1.2 Feature Analysis"
   ]
  },
  {
   "cell_type": "code",
   "execution_count": 1010,
   "metadata": {},
   "outputs": [
    {
     "data": {
      "text/plain": [
       "0    0.947554\n",
       "1    0.052446\n",
       "Name: WnvPresent, dtype: float64"
      ]
     },
     "execution_count": 1010,
     "metadata": {},
     "output_type": "execute_result"
    }
   ],
   "source": [
    "# 5.2% of all readings tested positive for West Nile\n",
    "data_train['WnvPresent'].value_counts(normalize=True)"
   ]
  },
  {
   "cell_type": "code",
   "execution_count": 1011,
   "metadata": {},
   "outputs": [
    {
     "data": {
      "text/html": [
       "<div>\n",
       "<style scoped>\n",
       "    .dataframe tbody tr th:only-of-type {\n",
       "        vertical-align: middle;\n",
       "    }\n",
       "\n",
       "    .dataframe tbody tr th {\n",
       "        vertical-align: top;\n",
       "    }\n",
       "\n",
       "    .dataframe thead th {\n",
       "        text-align: right;\n",
       "    }\n",
       "</style>\n",
       "<table border=\"1\" class=\"dataframe\">\n",
       "  <thead>\n",
       "    <tr style=\"text-align: right;\">\n",
       "      <th></th>\n",
       "      <th>WnvPresent</th>\n",
       "    </tr>\n",
       "    <tr>\n",
       "      <th>Species</th>\n",
       "      <th></th>\n",
       "    </tr>\n",
       "  </thead>\n",
       "  <tbody>\n",
       "    <tr>\n",
       "      <th>CULEX ERRATICUS</th>\n",
       "      <td>0.000000</td>\n",
       "    </tr>\n",
       "    <tr>\n",
       "      <th>CULEX PIPIENS</th>\n",
       "      <td>0.088922</td>\n",
       "    </tr>\n",
       "    <tr>\n",
       "      <th>CULEX PIPIENS/RESTUANS</th>\n",
       "      <td>0.055135</td>\n",
       "    </tr>\n",
       "    <tr>\n",
       "      <th>CULEX RESTUANS</th>\n",
       "      <td>0.017883</td>\n",
       "    </tr>\n",
       "    <tr>\n",
       "      <th>CULEX SALINARIUS</th>\n",
       "      <td>0.000000</td>\n",
       "    </tr>\n",
       "    <tr>\n",
       "      <th>CULEX TARSALIS</th>\n",
       "      <td>0.000000</td>\n",
       "    </tr>\n",
       "    <tr>\n",
       "      <th>CULEX TERRITANS</th>\n",
       "      <td>0.000000</td>\n",
       "    </tr>\n",
       "  </tbody>\n",
       "</table>\n",
       "</div>"
      ],
      "text/plain": [
       "                        WnvPresent\n",
       "Species                           \n",
       "CULEX ERRATICUS           0.000000\n",
       "CULEX PIPIENS             0.088922\n",
       "CULEX PIPIENS/RESTUANS    0.055135\n",
       "CULEX RESTUANS            0.017883\n",
       "CULEX SALINARIUS          0.000000\n",
       "CULEX TARSALIS            0.000000\n",
       "CULEX TERRITANS           0.000000"
      ]
     },
     "execution_count": 1011,
     "metadata": {},
     "output_type": "execute_result"
    }
   ],
   "source": [
    "# Certain Species had a higher rate of occurance than others\n",
    "data_train['WnvPresent'].groupby(data_train['Species']).mean().to_frame()"
   ]
  },
  {
   "cell_type": "code",
   "execution_count": 1012,
   "metadata": {},
   "outputs": [
    {
     "data": {
      "text/plain": [
       "CULEX PIPIENS/RESTUANS    0.452313\n",
       "CULEX RESTUANS            0.260803\n",
       "CULEX PIPIENS             0.256901\n",
       "CULEX TERRITANS           0.021131\n",
       "CULEX SALINARIUS          0.008186\n",
       "CULEX TARSALIS            0.000571\n",
       "CULEX ERRATICUS           0.000095\n",
       "Name: Species, dtype: float64"
      ]
     },
     "execution_count": 1012,
     "metadata": {},
     "output_type": "execute_result"
    }
   ],
   "source": [
    "# Count of mosquito occurred by species\n",
    "data_train['Species'].value_counts(normalize=True)"
   ]
  },
  {
   "cell_type": "code",
   "execution_count": 1013,
   "metadata": {},
   "outputs": [
    {
     "data": {
      "text/html": [
       "<div>\n",
       "<style scoped>\n",
       "    .dataframe tbody tr th:only-of-type {\n",
       "        vertical-align: middle;\n",
       "    }\n",
       "\n",
       "    .dataframe tbody tr th {\n",
       "        vertical-align: top;\n",
       "    }\n",
       "\n",
       "    .dataframe thead th {\n",
       "        text-align: right;\n",
       "    }\n",
       "</style>\n",
       "<table border=\"1\" class=\"dataframe\">\n",
       "  <thead>\n",
       "    <tr style=\"text-align: right;\">\n",
       "      <th>Trap</th>\n",
       "      <th>T900</th>\n",
       "      <th>T115</th>\n",
       "      <th>T002</th>\n",
       "      <th>T138</th>\n",
       "      <th>T003</th>\n",
       "      <th>T011</th>\n",
       "      <th>T225</th>\n",
       "      <th>T128</th>\n",
       "      <th>T903</th>\n",
       "      <th>T008</th>\n",
       "    </tr>\n",
       "  </thead>\n",
       "  <tbody>\n",
       "    <tr>\n",
       "      <th>WnvPresent</th>\n",
       "      <td>66</td>\n",
       "      <td>41</td>\n",
       "      <td>18</td>\n",
       "      <td>16</td>\n",
       "      <td>14</td>\n",
       "      <td>11</td>\n",
       "      <td>11</td>\n",
       "      <td>11</td>\n",
       "      <td>10</td>\n",
       "      <td>10</td>\n",
       "    </tr>\n",
       "  </tbody>\n",
       "</table>\n",
       "</div>"
      ],
      "text/plain": [
       "Trap        T900  T115  T002  T138  T003  T011  T225  T128  T903  T008\n",
       "WnvPresent    66    41    18    16    14    11    11    11    10    10"
      ]
     },
     "execution_count": 1013,
     "metadata": {},
     "output_type": "execute_result"
    }
   ],
   "source": [
    "# Top five traps by occurance of West Nile testing positive\n",
    "trap_freq = data_train[['WnvPresent']].groupby([data_train['Trap']]).sum().sort_values('WnvPresent', ascending=False).head(10)\n",
    "trap_freq.T"
   ]
  },
  {
   "cell_type": "code",
   "execution_count": 1014,
   "metadata": {},
   "outputs": [
    {
     "data": {
      "text/plain": [
       "WnvPresent    0.377495\n",
       "dtype: float64"
      ]
     },
     "execution_count": 1014,
     "metadata": {},
     "output_type": "execute_result"
    }
   ],
   "source": [
    "#Top ten traps account for 38% of total occurences\n",
    "trap_freq.sum() / data_train['WnvPresent'].sum()"
   ]
  },
  {
   "cell_type": "markdown",
   "metadata": {},
   "source": [
    "### 1.2.1 West Nile Yearly Trends"
   ]
  },
  {
   "cell_type": "code",
   "execution_count": 1015,
   "metadata": {},
   "outputs": [
    {
     "data": {
      "image/png": "[encoded data removed]",
      "text/plain": [
       "<Figure size 720x360 with 1 Axes>"
      ]
     },
     "metadata": {},
     "output_type": "display_data"
    }
   ],
   "source": [
    "# 2007 and 2013 had more occurances of west nile than 2009 and 2011\n",
    "plt.figure(figsize=(10,5))\n",
    "plt.plot(df_train['WnvPresent'].resample('D').sum().rolling(window=7).mean(), alpha=1, lw=2)\n",
    "plt.title(\"Number of West Nile Cases over Rolling Week\", loc='Center', fontsize=12, fontweight=0, color='black')\n",
    "plt.xlabel(\"Date\")\n",
    "plt.ylabel(\"Count\");"
   ]
  },
  {
   "cell_type": "markdown",
   "metadata": {},
   "source": [
    "### 1.2.2 Additional Feature Research after Initial Model"
   ]
  },
  {
   "cell_type": "markdown",
   "metadata": {},
   "source": [
    "#### 1.2.2.1 L-Train Spread"
   ]
  },
  {
   "cell_type": "markdown",
   "metadata": {},
   "source": [
    "There was too much granularity to dummy each trap, but proximity is still relevant. Lat/Long of traps provides some necessary detail but does not account for the true shape of Chicago. We will try to group traps by their proximity to L-train stops."
   ]
  },
  {
   "cell_type": "code",
   "execution_count": 1016,
   "metadata": {},
   "outputs": [],
   "source": [
    "cta_stops = pd.read_csv('./James_Subfolder/Data/CTA_-_System_Information_-_List_of__L__Stops.csv')\n"
   ]
  },
  {
   "cell_type": "code",
   "execution_count": 1017,
   "metadata": {},
   "outputs": [
    {
     "data": {
      "text/html": [
       "<div>\n",
       "<style scoped>\n",
       "    .dataframe tbody tr th:only-of-type {\n",
       "        vertical-align: middle;\n",
       "    }\n",
       "\n",
       "    .dataframe tbody tr th {\n",
       "        vertical-align: top;\n",
       "    }\n",
       "\n",
       "    .dataframe thead th {\n",
       "        text-align: right;\n",
       "    }\n",
       "</style>\n",
       "<table border=\"1\" class=\"dataframe\">\n",
       "  <thead>\n",
       "    <tr style=\"text-align: right;\">\n",
       "      <th></th>\n",
       "      <th>STOP_ID</th>\n",
       "      <th>DIRECTION_ID</th>\n",
       "      <th>STOP_NAME</th>\n",
       "      <th>STATION_NAME</th>\n",
       "      <th>STATION_DESCRIPTIVE_NAME</th>\n",
       "      <th>MAP_ID</th>\n",
       "      <th>ADA</th>\n",
       "      <th>RED</th>\n",
       "      <th>BLUE</th>\n",
       "      <th>G</th>\n",
       "      <th>BRN</th>\n",
       "      <th>P</th>\n",
       "      <th>Pexp</th>\n",
       "      <th>Y</th>\n",
       "      <th>Pnk</th>\n",
       "      <th>O</th>\n",
       "      <th>Location</th>\n",
       "    </tr>\n",
       "  </thead>\n",
       "  <tbody>\n",
       "    <tr>\n",
       "      <th>0</th>\n",
       "      <td>30161</td>\n",
       "      <td>E</td>\n",
       "      <td>18th (Loop-bound)</td>\n",
       "      <td>18th</td>\n",
       "      <td>18th (Pink Line)</td>\n",
       "      <td>40830</td>\n",
       "      <td>True</td>\n",
       "      <td>False</td>\n",
       "      <td>False</td>\n",
       "      <td>False</td>\n",
       "      <td>False</td>\n",
       "      <td>False</td>\n",
       "      <td>False</td>\n",
       "      <td>False</td>\n",
       "      <td>True</td>\n",
       "      <td>False</td>\n",
       "      <td>(41.857908, -87.669147)</td>\n",
       "    </tr>\n",
       "    <tr>\n",
       "      <th>1</th>\n",
       "      <td>30162</td>\n",
       "      <td>W</td>\n",
       "      <td>18th (54th/Cermak-bound)</td>\n",
       "      <td>18th</td>\n",
       "      <td>18th (Pink Line)</td>\n",
       "      <td>40830</td>\n",
       "      <td>True</td>\n",
       "      <td>False</td>\n",
       "      <td>False</td>\n",
       "      <td>False</td>\n",
       "      <td>False</td>\n",
       "      <td>False</td>\n",
       "      <td>False</td>\n",
       "      <td>False</td>\n",
       "      <td>True</td>\n",
       "      <td>False</td>\n",
       "      <td>(41.857908, -87.669147)</td>\n",
       "    </tr>\n",
       "    <tr>\n",
       "      <th>2</th>\n",
       "      <td>30022</td>\n",
       "      <td>N</td>\n",
       "      <td>35th/Archer (Loop-bound)</td>\n",
       "      <td>35th/Archer</td>\n",
       "      <td>35th/Archer (Orange Line)</td>\n",
       "      <td>40120</td>\n",
       "      <td>True</td>\n",
       "      <td>False</td>\n",
       "      <td>False</td>\n",
       "      <td>False</td>\n",
       "      <td>False</td>\n",
       "      <td>False</td>\n",
       "      <td>False</td>\n",
       "      <td>False</td>\n",
       "      <td>False</td>\n",
       "      <td>True</td>\n",
       "      <td>(41.829353, -87.680622)</td>\n",
       "    </tr>\n",
       "    <tr>\n",
       "      <th>3</th>\n",
       "      <td>30023</td>\n",
       "      <td>S</td>\n",
       "      <td>35th/Archer (Midway-bound)</td>\n",
       "      <td>35th/Archer</td>\n",
       "      <td>35th/Archer (Orange Line)</td>\n",
       "      <td>40120</td>\n",
       "      <td>True</td>\n",
       "      <td>False</td>\n",
       "      <td>False</td>\n",
       "      <td>False</td>\n",
       "      <td>False</td>\n",
       "      <td>False</td>\n",
       "      <td>False</td>\n",
       "      <td>False</td>\n",
       "      <td>False</td>\n",
       "      <td>True</td>\n",
       "      <td>(41.829353, -87.680622)</td>\n",
       "    </tr>\n",
       "    <tr>\n",
       "      <th>4</th>\n",
       "      <td>30213</td>\n",
       "      <td>N</td>\n",
       "      <td>35-Bronzeville-IIT (Harlem-bound)</td>\n",
       "      <td>35th-Bronzeville-IIT</td>\n",
       "      <td>35th-Bronzeville-IIT (Green Line)</td>\n",
       "      <td>41120</td>\n",
       "      <td>True</td>\n",
       "      <td>False</td>\n",
       "      <td>False</td>\n",
       "      <td>True</td>\n",
       "      <td>False</td>\n",
       "      <td>False</td>\n",
       "      <td>False</td>\n",
       "      <td>False</td>\n",
       "      <td>False</td>\n",
       "      <td>False</td>\n",
       "      <td>(41.831677, -87.625826)</td>\n",
       "    </tr>\n",
       "  </tbody>\n",
       "</table>\n",
       "</div>"
      ],
      "text/plain": [
       "   STOP_ID DIRECTION_ID                          STOP_NAME  \\\n",
       "0    30161            E                  18th (Loop-bound)   \n",
       "1    30162            W           18th (54th/Cermak-bound)   \n",
       "2    30022            N           35th/Archer (Loop-bound)   \n",
       "3    30023            S         35th/Archer (Midway-bound)   \n",
       "4    30213            N  35-Bronzeville-IIT (Harlem-bound)   \n",
       "\n",
       "           STATION_NAME           STATION_DESCRIPTIVE_NAME  MAP_ID   ADA  \\\n",
       "0                  18th                   18th (Pink Line)   40830  True   \n",
       "1                  18th                   18th (Pink Line)   40830  True   \n",
       "2           35th/Archer          35th/Archer (Orange Line)   40120  True   \n",
       "3           35th/Archer          35th/Archer (Orange Line)   40120  True   \n",
       "4  35th-Bronzeville-IIT  35th-Bronzeville-IIT (Green Line)   41120  True   \n",
       "\n",
       "     RED   BLUE      G    BRN      P   Pexp      Y    Pnk      O  \\\n",
       "0  False  False  False  False  False  False  False   True  False   \n",
       "1  False  False  False  False  False  False  False   True  False   \n",
       "2  False  False  False  False  False  False  False  False   True   \n",
       "3  False  False  False  False  False  False  False  False   True   \n",
       "4  False  False   True  False  False  False  False  False  False   \n",
       "\n",
       "                  Location  \n",
       "0  (41.857908, -87.669147)  \n",
       "1  (41.857908, -87.669147)  \n",
       "2  (41.829353, -87.680622)  \n",
       "3  (41.829353, -87.680622)  \n",
       "4  (41.831677, -87.625826)  "
      ]
     },
     "execution_count": 1017,
     "metadata": {},
     "output_type": "execute_result"
    }
   ],
   "source": [
    "cta_stops.head()"
   ]
  },
  {
   "cell_type": "code",
   "execution_count": 1018,
   "metadata": {},
   "outputs": [],
   "source": [
    "# Pull relevant columns from initial L-train data\n",
    "stop_cols = ['STOP_ID','STATION_DESCRIPTIVE_NAME','RED','BLUE','G','BRN','P','Y','Pnk','O','Location']\n",
    "station_list = cta_stops[stop_cols]"
   ]
  },
  {
   "cell_type": "code",
   "execution_count": 1019,
   "metadata": {},
   "outputs": [
    {
     "name": "stderr",
     "output_type": "stream",
     "text": [
      "/Users/macbookpro/anaconda3/lib/python3.6/site-packages/ipykernel_launcher.py:7: SettingWithCopyWarning: \n",
      "A value is trying to be set on a copy of a slice from a DataFrame.\n",
      "Try using .loc[row_indexer,col_indexer] = value instead\n",
      "\n",
      "See the caveats in the documentation: http://pandas.pydata.org/pandas-docs/stable/indexing.html#indexing-view-versus-copy\n",
      "  import sys\n",
      "/Users/macbookpro/anaconda3/lib/python3.6/site-packages/ipykernel_launcher.py:8: SettingWithCopyWarning: \n",
      "A value is trying to be set on a copy of a slice from a DataFrame.\n",
      "Try using .loc[row_indexer,col_indexer] = value instead\n",
      "\n",
      "See the caveats in the documentation: http://pandas.pydata.org/pandas-docs/stable/indexing.html#indexing-view-versus-copy\n",
      "  \n"
     ]
    }
   ],
   "source": [
    "# Seperate Location string into lat long float columns\n",
    "lat_list = []\n",
    "long_list = []\n",
    "for row in range(0,len(station_list['Location'])):\n",
    "    lat_list.append(float(station_list['Location'][row][1:station_list['Location'][row].find(',')]))\n",
    "    long_list.append(float(station_list['Location'][row][(station_list['Location'][row].find('-')):-1]))\n",
    "station_list['Stop_Latitude'] = pd.Series(lat_list)\n",
    "station_list['Stop_Longitude'] = pd.Series(long_list)"
   ]
  },
  {
   "cell_type": "code",
   "execution_count": 1020,
   "metadata": {},
   "outputs": [
    {
     "name": "stdout",
     "output_type": "stream",
     "text": [
      "(145, 12)\n"
     ]
    },
    {
     "data": {
      "text/html": [
       "<div>\n",
       "<style scoped>\n",
       "    .dataframe tbody tr th:only-of-type {\n",
       "        vertical-align: middle;\n",
       "    }\n",
       "\n",
       "    .dataframe tbody tr th {\n",
       "        vertical-align: top;\n",
       "    }\n",
       "\n",
       "    .dataframe thead th {\n",
       "        text-align: right;\n",
       "    }\n",
       "</style>\n",
       "<table border=\"1\" class=\"dataframe\">\n",
       "  <thead>\n",
       "    <tr style=\"text-align: right;\">\n",
       "      <th></th>\n",
       "      <th>STATION_DESCRIPTIVE_NAME</th>\n",
       "      <th>STOP_ID</th>\n",
       "      <th>RED</th>\n",
       "      <th>BLUE</th>\n",
       "      <th>G</th>\n",
       "      <th>BRN</th>\n",
       "      <th>P</th>\n",
       "      <th>Y</th>\n",
       "      <th>Pnk</th>\n",
       "      <th>O</th>\n",
       "      <th>Stop_Latitude</th>\n",
       "      <th>Stop_Longitude</th>\n",
       "    </tr>\n",
       "  </thead>\n",
       "  <tbody>\n",
       "    <tr>\n",
       "      <th>0</th>\n",
       "      <td>18th (Pink Line)</td>\n",
       "      <td>1.0</td>\n",
       "      <td>0.0</td>\n",
       "      <td>0.0</td>\n",
       "      <td>0.0</td>\n",
       "      <td>0.0</td>\n",
       "      <td>0.0</td>\n",
       "      <td>0.0</td>\n",
       "      <td>1.0</td>\n",
       "      <td>0.0</td>\n",
       "      <td>41.857908</td>\n",
       "      <td>-87.669147</td>\n",
       "    </tr>\n",
       "    <tr>\n",
       "      <th>1</th>\n",
       "      <td>35th-Bronzeville-IIT (Green Line)</td>\n",
       "      <td>1.0</td>\n",
       "      <td>0.0</td>\n",
       "      <td>0.0</td>\n",
       "      <td>1.0</td>\n",
       "      <td>0.0</td>\n",
       "      <td>0.0</td>\n",
       "      <td>0.0</td>\n",
       "      <td>0.0</td>\n",
       "      <td>0.0</td>\n",
       "      <td>41.831677</td>\n",
       "      <td>-87.625826</td>\n",
       "    </tr>\n",
       "    <tr>\n",
       "      <th>2</th>\n",
       "      <td>35th/Archer (Orange Line)</td>\n",
       "      <td>1.0</td>\n",
       "      <td>0.0</td>\n",
       "      <td>0.0</td>\n",
       "      <td>0.0</td>\n",
       "      <td>0.0</td>\n",
       "      <td>0.0</td>\n",
       "      <td>0.0</td>\n",
       "      <td>0.0</td>\n",
       "      <td>1.0</td>\n",
       "      <td>41.829353</td>\n",
       "      <td>-87.680622</td>\n",
       "    </tr>\n",
       "    <tr>\n",
       "      <th>3</th>\n",
       "      <td>43rd (Green Line)</td>\n",
       "      <td>1.0</td>\n",
       "      <td>0.0</td>\n",
       "      <td>0.0</td>\n",
       "      <td>1.0</td>\n",
       "      <td>0.0</td>\n",
       "      <td>0.0</td>\n",
       "      <td>0.0</td>\n",
       "      <td>0.0</td>\n",
       "      <td>0.0</td>\n",
       "      <td>41.816462</td>\n",
       "      <td>-87.619021</td>\n",
       "    </tr>\n",
       "    <tr>\n",
       "      <th>4</th>\n",
       "      <td>47th (Green Line)</td>\n",
       "      <td>1.0</td>\n",
       "      <td>0.0</td>\n",
       "      <td>0.0</td>\n",
       "      <td>1.0</td>\n",
       "      <td>0.0</td>\n",
       "      <td>0.0</td>\n",
       "      <td>0.0</td>\n",
       "      <td>0.0</td>\n",
       "      <td>0.0</td>\n",
       "      <td>41.809209</td>\n",
       "      <td>-87.618826</td>\n",
       "    </tr>\n",
       "  </tbody>\n",
       "</table>\n",
       "</div>"
      ],
      "text/plain": [
       "            STATION_DESCRIPTIVE_NAME  STOP_ID  RED  BLUE    G  BRN    P    Y  \\\n",
       "0                   18th (Pink Line)      1.0  0.0   0.0  0.0  0.0  0.0  0.0   \n",
       "1  35th-Bronzeville-IIT (Green Line)      1.0  0.0   0.0  1.0  0.0  0.0  0.0   \n",
       "2          35th/Archer (Orange Line)      1.0  0.0   0.0  0.0  0.0  0.0  0.0   \n",
       "3                  43rd (Green Line)      1.0  0.0   0.0  1.0  0.0  0.0  0.0   \n",
       "4                  47th (Green Line)      1.0  0.0   0.0  1.0  0.0  0.0  0.0   \n",
       "\n",
       "   Pnk    O  Stop_Latitude  Stop_Longitude  \n",
       "0  1.0  0.0      41.857908      -87.669147  \n",
       "1  0.0  0.0      41.831677      -87.625826  \n",
       "2  0.0  1.0      41.829353      -87.680622  \n",
       "3  0.0  0.0      41.816462      -87.619021  \n",
       "4  0.0  0.0      41.809209      -87.618826  "
      ]
     },
     "execution_count": 1020,
     "metadata": {},
     "output_type": "execute_result"
    }
   ],
   "source": [
    "# Regroup stations to individual entries instead of multiple lines in original data set\n",
    "stations = station_list.groupby('STATION_DESCRIPTIVE_NAME').mean()\n",
    "stations.reset_index(inplace=True)\n",
    "\n",
    "for col in stations.columns:\n",
    "    if col not in ['STATION_DESCRIPTIVE_NAME','Stop_Latitude','Stop_Longitude']:\n",
    "        stations[col] = stations[col].apply(lambda x: 1.0 if x > 0.0 else 0.0)\n",
    "        \n",
    "print(stations.shape)\n",
    "stations.head(5)"
   ]
  },
  {
   "cell_type": "code",
   "execution_count": 1021,
   "metadata": {},
   "outputs": [
    {
     "name": "stdout",
     "output_type": "stream",
     "text": [
      "(149, 2)\n"
     ]
    },
    {
     "data": {
      "text/html": [
       "<div>\n",
       "<style scoped>\n",
       "    .dataframe tbody tr th:only-of-type {\n",
       "        vertical-align: middle;\n",
       "    }\n",
       "\n",
       "    .dataframe tbody tr th {\n",
       "        vertical-align: top;\n",
       "    }\n",
       "\n",
       "    .dataframe thead th {\n",
       "        text-align: right;\n",
       "    }\n",
       "</style>\n",
       "<table border=\"1\" class=\"dataframe\">\n",
       "  <thead>\n",
       "    <tr style=\"text-align: right;\">\n",
       "      <th></th>\n",
       "      <th>Latitude</th>\n",
       "      <th>Longitude</th>\n",
       "    </tr>\n",
       "    <tr>\n",
       "      <th>Trap</th>\n",
       "      <th></th>\n",
       "      <th></th>\n",
       "    </tr>\n",
       "  </thead>\n",
       "  <tbody>\n",
       "    <tr>\n",
       "      <th>T001</th>\n",
       "      <td>41.953705</td>\n",
       "      <td>-87.733974</td>\n",
       "    </tr>\n",
       "    <tr>\n",
       "      <th>T002</th>\n",
       "      <td>41.954690</td>\n",
       "      <td>-87.800991</td>\n",
       "    </tr>\n",
       "    <tr>\n",
       "      <th>T002A</th>\n",
       "      <td>41.965571</td>\n",
       "      <td>-87.781978</td>\n",
       "    </tr>\n",
       "    <tr>\n",
       "      <th>T002B</th>\n",
       "      <td>41.951878</td>\n",
       "      <td>-87.789234</td>\n",
       "    </tr>\n",
       "    <tr>\n",
       "      <th>T003</th>\n",
       "      <td>41.964242</td>\n",
       "      <td>-87.757639</td>\n",
       "    </tr>\n",
       "  </tbody>\n",
       "</table>\n",
       "</div>"
      ],
      "text/plain": [
       "        Latitude  Longitude\n",
       "Trap                       \n",
       "T001   41.953705 -87.733974\n",
       "T002   41.954690 -87.800991\n",
       "T002A  41.965571 -87.781978\n",
       "T002B  41.951878 -87.789234\n",
       "T003   41.964242 -87.757639"
      ]
     },
     "execution_count": 1021,
     "metadata": {},
     "output_type": "execute_result"
    }
   ],
   "source": [
    "# We will need a list of trap and their lat/long to map to the train stops\n",
    "df_locations = df_test[['Trap','Latitude', 'Longitude']].groupby('Trap').mean()\n",
    "print(df_locations.shape)\n",
    "df_locations.head()"
   ]
  },
  {
   "cell_type": "code",
   "execution_count": 1022,
   "metadata": {},
   "outputs": [],
   "source": [
    "# Import a tool to help map distances\n",
    "from scipy.spatial import distance_matrix"
   ]
  },
  {
   "cell_type": "code",
   "execution_count": 1023,
   "metadata": {},
   "outputs": [],
   "source": [
    "# Use distance matrix to make an array of distances for each trap to each L-train stop\n",
    "d_2_l = pd.DataFrame(distance_matrix(df_locations.values,\n",
    "                stations[['Stop_Latitude','Stop_Longitude']]),\n",
    "                index=df_locations.index,\n",
    "                columns=stations.index)"
   ]
  },
  {
   "cell_type": "code",
   "execution_count": 1024,
   "metadata": {},
   "outputs": [],
   "source": [
    "# Create a dictionary of trap to closest L train station\n",
    "trap_2_train = {}\n",
    "for trap in df_locations.index:\n",
    "    locate = min(d_2_l.loc[trap]) #locate shortest distance\n",
    "    col_mask = (d_2_l.loc[trap]==locate)\n",
    "    trap_2_train[trap] = d_2_l.loc[trap,col_mask].index[0]"
   ]
  },
  {
   "cell_type": "code",
   "execution_count": 1025,
   "metadata": {},
   "outputs": [],
   "source": [
    "# Create a dataframe to connect L-train features to it's matching trap location\n",
    "df_stops = pd.DataFrame(columns=stations.columns)\n",
    "for trap in df_locations.index:\n",
    "    station = trap_2_train[trap]\n",
    "    df_stops.loc[len(df_stops)] = stations.loc[station]\n",
    "df_stops.drop(labels='STOP_ID',axis=1,inplace=True);"
   ]
  },
  {
   "cell_type": "code",
   "execution_count": 1026,
   "metadata": {},
   "outputs": [
    {
     "name": "stderr",
     "output_type": "stream",
     "text": [
      "/Users/macbookpro/anaconda3/lib/python3.6/site-packages/ipykernel_launcher.py:2: FutureWarning: set_axis currently defaults to operating inplace.\n",
      "This will change in a future version of pandas, use inplace=True to avoid this warning.\n",
      "  \n"
     ]
    }
   ],
   "source": [
    "# Connenct L-train data to trap data\n",
    "df_stops.set_axis(df_locations.index)\n",
    "df_locations = pd.concat([df_locations,df_stops],axis=1)"
   ]
  },
  {
   "cell_type": "code",
   "execution_count": 1027,
   "metadata": {},
   "outputs": [
    {
     "data": {
      "text/html": [
       "<div>\n",
       "<style scoped>\n",
       "    .dataframe tbody tr th:only-of-type {\n",
       "        vertical-align: middle;\n",
       "    }\n",
       "\n",
       "    .dataframe tbody tr th {\n",
       "        vertical-align: top;\n",
       "    }\n",
       "\n",
       "    .dataframe thead th {\n",
       "        text-align: right;\n",
       "    }\n",
       "</style>\n",
       "<table border=\"1\" class=\"dataframe\">\n",
       "  <thead>\n",
       "    <tr style=\"text-align: right;\">\n",
       "      <th></th>\n",
       "      <th>Latitude</th>\n",
       "      <th>Longitude</th>\n",
       "      <th>STATION_DESCRIPTIVE_NAME</th>\n",
       "      <th>RED</th>\n",
       "      <th>BLUE</th>\n",
       "      <th>G</th>\n",
       "      <th>BRN</th>\n",
       "      <th>P</th>\n",
       "      <th>Y</th>\n",
       "      <th>Pnk</th>\n",
       "      <th>O</th>\n",
       "      <th>Stop_Latitude</th>\n",
       "      <th>Stop_Longitude</th>\n",
       "    </tr>\n",
       "    <tr>\n",
       "      <th>Trap</th>\n",
       "      <th></th>\n",
       "      <th></th>\n",
       "      <th></th>\n",
       "      <th></th>\n",
       "      <th></th>\n",
       "      <th></th>\n",
       "      <th></th>\n",
       "      <th></th>\n",
       "      <th></th>\n",
       "      <th></th>\n",
       "      <th></th>\n",
       "      <th></th>\n",
       "      <th></th>\n",
       "    </tr>\n",
       "  </thead>\n",
       "  <tbody>\n",
       "    <tr>\n",
       "      <th>T001</th>\n",
       "      <td>41.953705</td>\n",
       "      <td>-87.733974</td>\n",
       "      <td>Irving Park (Blue Line)</td>\n",
       "      <td>0.0</td>\n",
       "      <td>1.0</td>\n",
       "      <td>0.0</td>\n",
       "      <td>0.0</td>\n",
       "      <td>0.0</td>\n",
       "      <td>0.0</td>\n",
       "      <td>0.0</td>\n",
       "      <td>0.0</td>\n",
       "      <td>41.952925</td>\n",
       "      <td>-87.729229</td>\n",
       "    </tr>\n",
       "    <tr>\n",
       "      <th>T002</th>\n",
       "      <td>41.954690</td>\n",
       "      <td>-87.800991</td>\n",
       "      <td>Harlem (Blue Line - O'Hare Branch)</td>\n",
       "      <td>0.0</td>\n",
       "      <td>1.0</td>\n",
       "      <td>0.0</td>\n",
       "      <td>0.0</td>\n",
       "      <td>0.0</td>\n",
       "      <td>0.0</td>\n",
       "      <td>0.0</td>\n",
       "      <td>0.0</td>\n",
       "      <td>41.982270</td>\n",
       "      <td>-87.808900</td>\n",
       "    </tr>\n",
       "    <tr>\n",
       "      <th>T002A</th>\n",
       "      <td>41.965571</td>\n",
       "      <td>-87.781978</td>\n",
       "      <td>Jefferson Park (Blue Line)</td>\n",
       "      <td>0.0</td>\n",
       "      <td>1.0</td>\n",
       "      <td>0.0</td>\n",
       "      <td>0.0</td>\n",
       "      <td>0.0</td>\n",
       "      <td>0.0</td>\n",
       "      <td>0.0</td>\n",
       "      <td>0.0</td>\n",
       "      <td>41.970634</td>\n",
       "      <td>-87.760892</td>\n",
       "    </tr>\n",
       "    <tr>\n",
       "      <th>T002B</th>\n",
       "      <td>41.951878</td>\n",
       "      <td>-87.789234</td>\n",
       "      <td>Jefferson Park (Blue Line)</td>\n",
       "      <td>0.0</td>\n",
       "      <td>1.0</td>\n",
       "      <td>0.0</td>\n",
       "      <td>0.0</td>\n",
       "      <td>0.0</td>\n",
       "      <td>0.0</td>\n",
       "      <td>0.0</td>\n",
       "      <td>0.0</td>\n",
       "      <td>41.970634</td>\n",
       "      <td>-87.760892</td>\n",
       "    </tr>\n",
       "    <tr>\n",
       "      <th>T003</th>\n",
       "      <td>41.964242</td>\n",
       "      <td>-87.757639</td>\n",
       "      <td>Jefferson Park (Blue Line)</td>\n",
       "      <td>0.0</td>\n",
       "      <td>1.0</td>\n",
       "      <td>0.0</td>\n",
       "      <td>0.0</td>\n",
       "      <td>0.0</td>\n",
       "      <td>0.0</td>\n",
       "      <td>0.0</td>\n",
       "      <td>0.0</td>\n",
       "      <td>41.970634</td>\n",
       "      <td>-87.760892</td>\n",
       "    </tr>\n",
       "  </tbody>\n",
       "</table>\n",
       "</div>"
      ],
      "text/plain": [
       "        Latitude  Longitude            STATION_DESCRIPTIVE_NAME  RED  BLUE  \\\n",
       "Trap                                                                         \n",
       "T001   41.953705 -87.733974             Irving Park (Blue Line)  0.0   1.0   \n",
       "T002   41.954690 -87.800991  Harlem (Blue Line - O'Hare Branch)  0.0   1.0   \n",
       "T002A  41.965571 -87.781978          Jefferson Park (Blue Line)  0.0   1.0   \n",
       "T002B  41.951878 -87.789234          Jefferson Park (Blue Line)  0.0   1.0   \n",
       "T003   41.964242 -87.757639          Jefferson Park (Blue Line)  0.0   1.0   \n",
       "\n",
       "         G  BRN    P    Y  Pnk    O  Stop_Latitude  Stop_Longitude  \n",
       "Trap                                                                \n",
       "T001   0.0  0.0  0.0  0.0  0.0  0.0      41.952925      -87.729229  \n",
       "T002   0.0  0.0  0.0  0.0  0.0  0.0      41.982270      -87.808900  \n",
       "T002A  0.0  0.0  0.0  0.0  0.0  0.0      41.970634      -87.760892  \n",
       "T002B  0.0  0.0  0.0  0.0  0.0  0.0      41.970634      -87.760892  \n",
       "T003   0.0  0.0  0.0  0.0  0.0  0.0      41.970634      -87.760892  "
      ]
     },
     "execution_count": 1027,
     "metadata": {},
     "output_type": "execute_result"
    }
   ],
   "source": [
    "df_locations.head()"
   ]
  },
  {
   "cell_type": "code",
   "execution_count": 1028,
   "metadata": {},
   "outputs": [],
   "source": [
    "# Finally, using the above df, append train data with t's L-TRAIN data based on which trap it was\n",
    "df_stations = pd.DataFrame(columns=stations.columns)\n",
    "for trap in df_train['Trap']:\n",
    "    station = trap_2_train[trap]\n",
    "    df_stations.loc[len(df_stations)] = stations.loc[station]"
   ]
  },
  {
   "cell_type": "code",
   "execution_count": 1029,
   "metadata": {},
   "outputs": [
    {
     "data": {
      "image/png": "[encoded data removed]",
      "text/plain": [
       "<Figure size 864x432 with 1 Axes>"
      ]
     },
     "metadata": {},
     "output_type": "display_data"
    }
   ],
   "source": [
    "# Df filtered:\n",
    "df_blue = df_locations.loc[(df_locations['BLUE']==1)]\n",
    "df_red = df_locations.loc[(df_locations['RED']==1)]\n",
    "df_green = df_locations.loc[(df_locations['G']==1)]\n",
    "df_orange = df_locations.loc[(df_locations['O']==1)]\n",
    "df_brown = df_locations.loc[(df_locations['BRN']==1)]\n",
    "df_yellow = df_locations.loc[(df_locations['Y']==1)]\n",
    "df_pink = df_locations.loc[(df_locations['Pnk']==1)]\n",
    "df_purple = df_locations.loc[(df_locations['P']==1)]\n",
    "\n",
    "plt.figure(figsize=(12,6),)\n",
    "plt.scatter(df_blue['Longitude'],df_blue['Latitude'],cmap='Blues')\n",
    "plt.scatter(df_red['Longitude'],df_red['Latitude'],color='red')\n",
    "plt.scatter(df_green['Longitude'],df_green['Latitude'],color='green')\n",
    "plt.scatter(df_orange['Longitude'],df_orange['Latitude'],color='orange')\n",
    "plt.scatter(df_brown['Longitude'],df_brown['Latitude'],color='brown')\n",
    "plt.scatter(df_yellow['Longitude'],df_yellow['Latitude'],color='yellow')\n",
    "plt.scatter(df_pink['Longitude'],df_pink['Latitude'],color='pink')\n",
    "plt.scatter(df_purple['Longitude'],df_purple['Latitude'],color='purple')\n",
    "plt.ylim((41.6,42.05))\n",
    "plt.xlim((-88.2,-87.2))\n",
    "\n",
    "plt.title(\"Trap Locations by L-Train\", loc='Center', fontsize=12, fontweight=0, color='black')\n",
    "plt.xlabel(\"Longitude\")\n",
    "plt.ylabel(\"Latiitude\");"
   ]
  },
  {
   "cell_type": "code",
   "execution_count": 1030,
   "metadata": {},
   "outputs": [],
   "source": [
    "df_stations.drop(labels='STOP_ID',axis=1,inplace=True);"
   ]
  },
  {
   "cell_type": "code",
   "execution_count": 1031,
   "metadata": {},
   "outputs": [
    {
     "data": {
      "text/plain": [
       "Index(['Date', 'Address', 'Species', 'Block', 'Street', 'Trap',\n",
       "       'AddressNumberAndStreet', 'Latitude', 'Longitude', 'AddressAccuracy',\n",
       "       'NumMosquitos', 'WnvPresent', 'STATION_DESCRIPTIVE_NAME', 'RED', 'BLUE',\n",
       "       'G', 'BRN', 'P', 'Y', 'Pnk', 'O', 'Stop_Latitude', 'Stop_Longitude'],\n",
       "      dtype='object')"
      ]
     },
     "execution_count": 1031,
     "metadata": {},
     "output_type": "execute_result"
    }
   ],
   "source": [
    "#Attach to train data\n",
    "df_stations['Date'] = df_train.index\n",
    "df_stations.set_index('Date',drop=True,inplace=True)\n",
    "\n",
    "df_train = pd.concat([df_train, df_stations],join='outer',axis=1)\n",
    "df_train.columns"
   ]
  },
  {
   "cell_type": "code",
   "execution_count": 1032,
   "metadata": {},
   "outputs": [
    {
     "data": {
      "text/plain": [
       "RED    -0.007325\n",
       "BLUE    0.072082\n",
       "G      -0.027729\n",
       "BRN    -0.005316\n",
       "P      -0.006931\n",
       "Y       0.005191\n",
       "Pnk    -0.016005\n",
       "O      -0.016960\n",
       "dtype: float64"
      ]
     },
     "execution_count": 1032,
     "metadata": {},
     "output_type": "execute_result"
    }
   ],
   "source": [
    "# Blue line traps will have a higher rate of occurance of Wnv than \n",
    "df_train.loc[df_train['WnvPresent'] == 1,['RED', 'BLUE', 'G', 'BRN', 'P', 'Y', 'Pnk','O']].sum()/551 - df_train.loc[df_train['WnvPresent'] == 0,['RED', 'BLUE', 'G', 'BRN', 'P', 'Y', 'Pnk','O']].sum()/9955"
   ]
  },
  {
   "cell_type": "markdown",
   "metadata": {},
   "source": [
    "# <a class=\"anchor\" id=\"2.0-bullet\">2. Data Transformation </a>"
   ]
  },
  {
   "cell_type": "markdown",
   "metadata": {},
   "source": [
    "## 2.1 Weather Slice"
   ]
  },
  {
   "cell_type": "markdown",
   "metadata": {},
   "source": [
    "There are two weather stations in the main weather file: 1 for O'hare and 2 for Midway.\n",
    "O'hare is a more complete dataset, so we will start by using only this location."
   ]
  },
  {
   "cell_type": "code",
   "execution_count": 1033,
   "metadata": {},
   "outputs": [],
   "source": [
    "weather_station_1 = data_weather.loc[data_weather.Station==1, :]\n",
    "weather_station_2 = data_weather.loc[data_weather.Station==2, :]"
   ]
  },
  {
   "cell_type": "code",
   "execution_count": 1034,
   "metadata": {},
   "outputs": [],
   "source": [
    "weather_station_1 = weather_station_1.drop('Station', axis=1)\n",
    "weather_station_2 = weather_station_2.drop('Station', axis=1)"
   ]
  },
  {
   "cell_type": "code",
   "execution_count": 1035,
   "metadata": {},
   "outputs": [],
   "source": [
    "# Convert Date to datetime format \n",
    "weather_station_1.loc[:, ['Date']] = pd.to_datetime(weather_station_1.Date)\n",
    "weather_station_2.loc[:, ['Date']] = pd.to_datetime(weather_station_2.Date)"
   ]
  },
  {
   "cell_type": "code",
   "execution_count": 1036,
   "metadata": {},
   "outputs": [],
   "source": [
    "# Set index to Date\n",
    "weather_station_1.index = weather_station_1.Date\n",
    "weather_station_2.index = weather_station_2.Date"
   ]
  },
  {
   "cell_type": "markdown",
   "metadata": {},
   "source": [
    "## 2.2 Weather Convert Objects"
   ]
  },
  {
   "cell_type": "code",
   "execution_count": 1037,
   "metadata": {},
   "outputs": [],
   "source": [
    "# Convert Avg Temperature to float\n",
    "weather_station_1.loc[:, ['Tavg']] = weather_station_1['Tavg'].astype('float64')"
   ]
  },
  {
   "cell_type": "code",
   "execution_count": 1038,
   "metadata": {},
   "outputs": [],
   "source": [
    "# Convert Trace amount of rainfall and Precip from 'T' to value\n",
    "weather_station_1.loc[:, ['PrecipTotal']] = \\\n",
    "weather_station_1['PrecipTotal'].map(lambda x: .005 if x=='  T' else x).astype(float)\n",
    "weather_station_1.loc[:, ['SnowFall']] = \\\n",
    "weather_station_1['SnowFall'].map(lambda x: .005 if x=='  T' else x).astype(float)"
   ]
  },
  {
   "cell_type": "code",
   "execution_count": 1039,
   "metadata": {},
   "outputs": [],
   "source": [
    "# Drop unecessary columns\n",
    "weather_station_1 = weather_station_1.drop('Depart', axis=1)\n",
    "weather_station_1 = weather_station_1.drop('Water1', axis=1)"
   ]
  },
  {
   "cell_type": "code",
   "execution_count": 1040,
   "metadata": {},
   "outputs": [
    {
     "data": {
      "text/plain": [
       "Date           0\n",
       "Tmax           0\n",
       "Tmin           0\n",
       "Tavg           0\n",
       "DewPoint       0\n",
       "WetBulb        3\n",
       "Heat           0\n",
       "Cool           0\n",
       "Sunrise        0\n",
       "Sunset         0\n",
       "CodeSum        0\n",
       "Depth          0\n",
       "SnowFall       0\n",
       "PrecipTotal    0\n",
       "StnPressure    2\n",
       "SeaLevel       5\n",
       "ResultSpeed    0\n",
       "ResultDir      0\n",
       "AvgSpeed       0\n",
       "dtype: int64"
      ]
     },
     "execution_count": 1040,
     "metadata": {},
     "output_type": "execute_result"
    }
   ],
   "source": [
    "# There are three columns with a 'M' that will need to be replaced\n",
    "weather_station_1[weather_station_1 == 'M'].count()"
   ]
  },
  {
   "cell_type": "code",
   "execution_count": 1041,
   "metadata": {},
   "outputs": [],
   "source": [
    "# ONLY RUN THIS CELL ONCE\n",
    "#find means without 'M' values and fill in blank - less than 5 for each\n",
    "stnpressure_mean = weather_station_1[weather_station_1['StnPressure']!='M']['StnPressure'].astype(float).mean()\n",
    "sealevel_mean = weather_station_1[weather_station_1['SeaLevel']!='M']['SeaLevel'].astype(float).mean()\n",
    "wetbulb_mean = weather_station_1[weather_station_1['WetBulb']!='M']['WetBulb'].astype(float).mean()\n",
    "\n",
    "#Replace M with mean, leave others alone\n",
    "weather_station_1.loc[:, 'StnPressure'] = \\\n",
    "weather_station_1['StnPressure'].map(lambda x: stnpressure_mean if x=='M' else x).astype(float);\n",
    "\n",
    "weather_station_1.loc[:, 'SeaLevel'] = \\\n",
    "weather_station_1['SeaLevel'].map(lambda x: sealevel_mean if x=='M' else x).astype(float)\n",
    "\n",
    "weather_station_1.loc[:, 'WetBulb'] = \\\n",
    "weather_station_1['WetBulb'].map(lambda x: wetbulb_mean if x=='M' else x).astype(float);"
   ]
  },
  {
   "cell_type": "markdown",
   "metadata": {},
   "source": [
    "## 2.3 Complete Weather dataframe"
   ]
  },
  {
   "cell_type": "code",
   "execution_count": 1042,
   "metadata": {},
   "outputs": [
    {
     "data": {
      "text/html": [
       "<div>\n",
       "<style scoped>\n",
       "    .dataframe tbody tr th:only-of-type {\n",
       "        vertical-align: middle;\n",
       "    }\n",
       "\n",
       "    .dataframe tbody tr th {\n",
       "        vertical-align: top;\n",
       "    }\n",
       "\n",
       "    .dataframe thead th {\n",
       "        text-align: right;\n",
       "    }\n",
       "</style>\n",
       "<table border=\"1\" class=\"dataframe\">\n",
       "  <thead>\n",
       "    <tr style=\"text-align: right;\">\n",
       "      <th></th>\n",
       "      <th>Date</th>\n",
       "      <th>Tmax</th>\n",
       "      <th>Tmin</th>\n",
       "      <th>Tavg</th>\n",
       "      <th>DewPoint</th>\n",
       "      <th>WetBulb</th>\n",
       "      <th>Heat</th>\n",
       "      <th>Cool</th>\n",
       "      <th>Sunrise</th>\n",
       "      <th>Sunset</th>\n",
       "      <th>CodeSum</th>\n",
       "      <th>Depth</th>\n",
       "      <th>SnowFall</th>\n",
       "      <th>PrecipTotal</th>\n",
       "      <th>StnPressure</th>\n",
       "      <th>SeaLevel</th>\n",
       "      <th>ResultSpeed</th>\n",
       "      <th>ResultDir</th>\n",
       "      <th>AvgSpeed</th>\n",
       "    </tr>\n",
       "    <tr>\n",
       "      <th>Date</th>\n",
       "      <th></th>\n",
       "      <th></th>\n",
       "      <th></th>\n",
       "      <th></th>\n",
       "      <th></th>\n",
       "      <th></th>\n",
       "      <th></th>\n",
       "      <th></th>\n",
       "      <th></th>\n",
       "      <th></th>\n",
       "      <th></th>\n",
       "      <th></th>\n",
       "      <th></th>\n",
       "      <th></th>\n",
       "      <th></th>\n",
       "      <th></th>\n",
       "      <th></th>\n",
       "      <th></th>\n",
       "      <th></th>\n",
       "    </tr>\n",
       "  </thead>\n",
       "  <tbody>\n",
       "    <tr>\n",
       "      <th>2007-05-01</th>\n",
       "      <td>2007-05-01</td>\n",
       "      <td>83</td>\n",
       "      <td>50</td>\n",
       "      <td>67.0</td>\n",
       "      <td>51</td>\n",
       "      <td>56.0</td>\n",
       "      <td>0</td>\n",
       "      <td>2</td>\n",
       "      <td>0448</td>\n",
       "      <td>1849</td>\n",
       "      <td></td>\n",
       "      <td>0</td>\n",
       "      <td>0.0</td>\n",
       "      <td>0.000</td>\n",
       "      <td>29.10</td>\n",
       "      <td>29.82</td>\n",
       "      <td>1.7</td>\n",
       "      <td>27</td>\n",
       "      <td>9.2</td>\n",
       "    </tr>\n",
       "    <tr>\n",
       "      <th>2007-05-02</th>\n",
       "      <td>2007-05-02</td>\n",
       "      <td>59</td>\n",
       "      <td>42</td>\n",
       "      <td>51.0</td>\n",
       "      <td>42</td>\n",
       "      <td>47.0</td>\n",
       "      <td>14</td>\n",
       "      <td>0</td>\n",
       "      <td>0447</td>\n",
       "      <td>1850</td>\n",
       "      <td>BR</td>\n",
       "      <td>0</td>\n",
       "      <td>0.0</td>\n",
       "      <td>0.000</td>\n",
       "      <td>29.38</td>\n",
       "      <td>30.09</td>\n",
       "      <td>13.0</td>\n",
       "      <td>4</td>\n",
       "      <td>13.4</td>\n",
       "    </tr>\n",
       "    <tr>\n",
       "      <th>2007-05-03</th>\n",
       "      <td>2007-05-03</td>\n",
       "      <td>66</td>\n",
       "      <td>46</td>\n",
       "      <td>56.0</td>\n",
       "      <td>40</td>\n",
       "      <td>48.0</td>\n",
       "      <td>9</td>\n",
       "      <td>0</td>\n",
       "      <td>0446</td>\n",
       "      <td>1851</td>\n",
       "      <td></td>\n",
       "      <td>0</td>\n",
       "      <td>0.0</td>\n",
       "      <td>0.000</td>\n",
       "      <td>29.39</td>\n",
       "      <td>30.12</td>\n",
       "      <td>11.7</td>\n",
       "      <td>7</td>\n",
       "      <td>11.9</td>\n",
       "    </tr>\n",
       "    <tr>\n",
       "      <th>2007-05-04</th>\n",
       "      <td>2007-05-04</td>\n",
       "      <td>66</td>\n",
       "      <td>49</td>\n",
       "      <td>58.0</td>\n",
       "      <td>41</td>\n",
       "      <td>50.0</td>\n",
       "      <td>7</td>\n",
       "      <td>0</td>\n",
       "      <td>0444</td>\n",
       "      <td>1852</td>\n",
       "      <td>RA</td>\n",
       "      <td>0</td>\n",
       "      <td>0.0</td>\n",
       "      <td>0.005</td>\n",
       "      <td>29.31</td>\n",
       "      <td>30.05</td>\n",
       "      <td>10.4</td>\n",
       "      <td>8</td>\n",
       "      <td>10.8</td>\n",
       "    </tr>\n",
       "    <tr>\n",
       "      <th>2007-05-05</th>\n",
       "      <td>2007-05-05</td>\n",
       "      <td>66</td>\n",
       "      <td>53</td>\n",
       "      <td>60.0</td>\n",
       "      <td>38</td>\n",
       "      <td>49.0</td>\n",
       "      <td>5</td>\n",
       "      <td>0</td>\n",
       "      <td>0443</td>\n",
       "      <td>1853</td>\n",
       "      <td></td>\n",
       "      <td>0</td>\n",
       "      <td>0.0</td>\n",
       "      <td>0.005</td>\n",
       "      <td>29.40</td>\n",
       "      <td>30.10</td>\n",
       "      <td>11.7</td>\n",
       "      <td>7</td>\n",
       "      <td>12.0</td>\n",
       "    </tr>\n",
       "  </tbody>\n",
       "</table>\n",
       "</div>"
      ],
      "text/plain": [
       "                 Date  Tmax  Tmin  Tavg  DewPoint  WetBulb Heat Cool Sunrise  \\\n",
       "Date                                                                           \n",
       "2007-05-01 2007-05-01    83    50  67.0        51     56.0    0    2    0448   \n",
       "2007-05-02 2007-05-02    59    42  51.0        42     47.0   14    0    0447   \n",
       "2007-05-03 2007-05-03    66    46  56.0        40     48.0    9    0    0446   \n",
       "2007-05-04 2007-05-04    66    49  58.0        41     50.0    7    0    0444   \n",
       "2007-05-05 2007-05-05    66    53  60.0        38     49.0    5    0    0443   \n",
       "\n",
       "           Sunset CodeSum Depth  SnowFall  PrecipTotal  StnPressure  SeaLevel  \\\n",
       "Date                                                                            \n",
       "2007-05-01   1849             0       0.0        0.000        29.10     29.82   \n",
       "2007-05-02   1850      BR     0       0.0        0.000        29.38     30.09   \n",
       "2007-05-03   1851             0       0.0        0.000        29.39     30.12   \n",
       "2007-05-04   1852      RA     0       0.0        0.005        29.31     30.05   \n",
       "2007-05-05   1853             0       0.0        0.005        29.40     30.10   \n",
       "\n",
       "            ResultSpeed  ResultDir AvgSpeed  \n",
       "Date                                         \n",
       "2007-05-01          1.7         27      9.2  \n",
       "2007-05-02         13.0          4     13.4  \n",
       "2007-05-03         11.7          7     11.9  \n",
       "2007-05-04         10.4          8     10.8  \n",
       "2007-05-05         11.7          7     12.0  "
      ]
     },
     "execution_count": 1042,
     "metadata": {},
     "output_type": "execute_result"
    }
   ],
   "source": [
    "weather_station_1.head()"
   ]
  },
  {
   "cell_type": "markdown",
   "metadata": {},
   "source": [
    "### 2.3.1 Weather Profiles"
   ]
  },
  {
   "cell_type": "code",
   "execution_count": 1043,
   "metadata": {},
   "outputs": [],
   "source": [
    "year = '2009'"
   ]
  },
  {
   "cell_type": "code",
   "execution_count": 1044,
   "metadata": {},
   "outputs": [
    {
     "data": {
      "image/png": "[encoded data removed]",
      "text/plain": [
       "<Figure size 1080x360 with 1 Axes>"
      ]
     },
     "metadata": {},
     "output_type": "display_data"
    }
   ],
   "source": [
    "# Precipitation should be cumulative\n",
    "weather_station_1[year].PrecipTotal.plot(figsize=(15,5));\n",
    "weather_station_1[year].PrecipTotal.rolling(5).sum().plot(figsize=(15,5));\n",
    "weather_station_1[year].PrecipTotal.rolling(10).sum().plot(figsize=(15,5));\n",
    "weather_station_1[year].PrecipTotal.rolling(15).sum().plot(figsize=(15,5));\n",
    "plt.title(\"Rolling Rainfall Total\", loc='Center', fontsize=12, fontweight=0, color='black')\n",
    "plt.xlabel(\"Date\")\n",
    "plt.ylabel(\"Rainfall Total (inches)\");"
   ]
  },
  {
   "cell_type": "markdown",
   "metadata": {},
   "source": [
    "### 2.3.1 Addition Weather Features"
   ]
  },
  {
   "cell_type": "code",
   "execution_count": 1045,
   "metadata": {},
   "outputs": [],
   "source": [
    "#Create dummy columns for weather codes\n",
    "\n",
    "#list all columns\n",
    "templist = [element for element in weather_station_1['CodeSum'].str.split(' ').tolist()]\n",
    "newl = []\n",
    "#get all tags\n",
    "for element in templist:\n",
    "    for subelement in element:\n",
    "        newl.append(subelement)\n",
    "Codes_list = list(set(newl))\n",
    "Codes_list.pop(0)\n",
    "\n",
    "#Create new columns and score 1 if present in original CodeSum value\n",
    "for code in Codes_list:\n",
    "    weather_station_1.loc[:, code] = weather_station_1['CodeSum'].str.contains(code)*1\n",
    "weather_station_1 = weather_station_1.drop('CodeSum', axis=1)"
   ]
  },
  {
   "cell_type": "code",
   "execution_count": 1046,
   "metadata": {},
   "outputs": [],
   "source": [
    "#Convert remaining cols to float. Leftover errors from station 2\n",
    "obj_cols = [col for col in weather_station_1.columns if weather_station_1[col].dtype=='object']\n",
    "for col in weather_station_1:\n",
    "    if col in obj_cols:\n",
    "        weather_station_1.loc[:, col] = weather_station_1[col].astype('float64')"
   ]
  },
  {
   "cell_type": "markdown",
   "metadata": {},
   "source": [
    "### 2.3.2 Weather Station 2 (not necessary)"
   ]
  },
  {
   "cell_type": "code",
   "execution_count": 1047,
   "metadata": {},
   "outputs": [],
   "source": [
    "weather_station_2 = weather_station_2.drop(['Depart', 'Depth', 'Water1', 'SnowFall'], axis=1)"
   ]
  },
  {
   "cell_type": "code",
   "execution_count": 1048,
   "metadata": {},
   "outputs": [
    {
     "name": "stdout",
     "output_type": "stream",
     "text": [
      "    Tavg 11\n",
      "    WetBulb 1\n",
      "    Heat 11\n",
      "    Cool 11\n",
      "    PrecipTotal 2\n",
      "    StnPressure 2\n",
      "    SeaLevel 4\n",
      "    AvgSpeed 3\n"
     ]
    },
    {
     "name": "stderr",
     "output_type": "stream",
     "text": [
      "/Users/macbookpro/anaconda3/lib/python3.6/site-packages/pandas/core/ops.py:1164: FutureWarning: elementwise comparison failed; returning scalar instead, but in the future will perform elementwise comparison\n",
      "  result = method(y)\n"
     ]
    }
   ],
   "source": [
    "Mcols=[]\n",
    "for col in weather_station_2.columns:\n",
    "    try:\n",
    "        if weather_station_2[weather_station_2[col]=='M'].shape[0] > 0:\n",
    "            print('   ', col, weather_station_2[weather_station_2[col]=='M'].shape[0])\n",
    "            Mcols.append(col)\n",
    "    except:\n",
    "        next"
   ]
  },
  {
   "cell_type": "code",
   "execution_count": 1049,
   "metadata": {},
   "outputs": [],
   "source": [
    "# Convert Trace amount of rainfall and Precip from 'T' to value\n",
    "weather_station_2.loc[:, ['PrecipTotal']] = \\\n",
    "weather_station_2['PrecipTotal'].map(lambda x: .005 if x=='  T' else x)"
   ]
  },
  {
   "cell_type": "code",
   "execution_count": 1050,
   "metadata": {},
   "outputs": [],
   "source": [
    "for col in Mcols:\n",
    "    tempmean =  weather_station_2[weather_station_2[col]!='M'][col].astype(float).mean()\n",
    "    weather_station_2.loc[:, col] = \\\n",
    "weather_station_2[col].map(lambda x: tempmean if x=='M' else x).astype(float)"
   ]
  },
  {
   "cell_type": "code",
   "execution_count": 1051,
   "metadata": {},
   "outputs": [],
   "source": [
    "#Create dummy columns for weather codes\n",
    "\n",
    "#list all columns\n",
    "templist = [element for element in weather_station_2['CodeSum'].str.split(' ').tolist()]\n",
    "newl = []\n",
    "#get all tags\n",
    "for element in templist:\n",
    "    for subelement in element:\n",
    "        newl.append(subelement)\n",
    "Codes_list = list(set(newl))\n",
    "Codes_list.pop(0)\n",
    "\n",
    "#Create new columns and score 1 if present in original CodeSum value\n",
    "for code in Codes_list:\n",
    "    weather_station_2.loc[:, code] = weather_station_2['CodeSum'].str.contains(code)*1\n",
    "weather_station_2 = weather_station_2.drop('CodeSum', axis=1)\n",
    "#Not using these anyway\n",
    "weather_station_2 = weather_station_2.drop(['Sunrise', 'Sunset'], axis=1)"
   ]
  },
  {
   "cell_type": "markdown",
   "metadata": {},
   "source": [
    "## 2.2 Training Data Munging"
   ]
  },
  {
   "cell_type": "markdown",
   "metadata": {},
   "source": [
    "We will need to combine the train and test data with relevant addtional information for the weather and other features.\n",
    "This will be done by combine dataset using the index after it has been set to the date.\n"
   ]
  },
  {
   "cell_type": "markdown",
   "metadata": {},
   "source": [
    "### 2.2.1 Time Series"
   ]
  },
  {
   "cell_type": "markdown",
   "metadata": {},
   "source": [
    "#### 2.2.1.1 Basic Conversion"
   ]
  },
  {
   "cell_type": "code",
   "execution_count": 1052,
   "metadata": {},
   "outputs": [],
   "source": [
    "#Create Days from start column for easy analysis\n",
    "BeginDate = datetime.date(2007, 4, 30)\n",
    "df_train.loc[:, 'DaysFrom'] = df_train.index - pd.to_datetime(BeginDate)\n",
    "#extract date number from datetime entry. Should capture broad time dependence\n",
    "df_train.loc[:, 'DaysFrom'] = df_train['DaysFrom'].astype(str).str.replace(' days 00:00:00.000000000', '').astype(int)\n",
    "#Extract Month information\n",
    "df_train.loc[:, 'Month'] = df_train.index.month"
   ]
  },
  {
   "cell_type": "code",
   "execution_count": 1053,
   "metadata": {},
   "outputs": [],
   "source": [
    "#Add measurement in for YearDay \n",
    "df_train['YearDay'] = df_train.index.dayofyear"
   ]
  },
  {
   "cell_type": "markdown",
   "metadata": {},
   "source": [
    "#### 2.2.1.2 Seasonal Adjustments to Baseline Probability"
   ]
  },
  {
   "cell_type": "code",
   "execution_count": 1054,
   "metadata": {},
   "outputs": [],
   "source": [
    "#Create a normalized graph to observe seasonality across years\n",
    "year_day = pd.DataFrame(df_train.index.dayofyear)\n",
    "year_day['Wnv'] = pd.DataFrame(df_train['WnvPresent']).reset_index().drop('Date', axis=1)\n",
    "#Total number of occurences by day of the year\n",
    "daily_sums = year_day.groupby(by='Date').sum()"
   ]
  },
  {
   "cell_type": "code",
   "execution_count": 1055,
   "metadata": {},
   "outputs": [
    {
     "data": {
      "image/png": "[encoded data removed]",
      "text/plain": [
       "<Figure size 1080x360 with 1 Axes>"
      ]
     },
     "metadata": {},
     "output_type": "display_data"
    }
   ],
   "source": [
    "#Shift up two days to capture Friday-Monday jump\n",
    "#2 seems to be an appropriate normalization factor\n",
    "normizer = 2\n",
    "rolls = pd.Series([daily_sums.iloc[row-5:row+2].mean().sum()*normizer for row in range(len(daily_sums))])\n",
    "rolls.index = daily_sums.index\n",
    "plt.figure(figsize=(15,5))\n",
    "plt.plot(rolls, label='Rolling Trend')\n",
    "plt.plot(year_day.groupby(by='Date').sum(),label='Daily Trend');#confirm this is from skipped weekends or something\n",
    "plt.title(\"Seasonality of West Nile Presence\", loc='Center', fontsize=12, fontweight=0, color='black')\n",
    "plt.legend()\n",
    "plt.xlabel(\"Day of Year\")\n",
    "plt.ylabel(\"Cases Detected (Total)\");"
   ]
  },
  {
   "cell_type": "code",
   "execution_count": 1056,
   "metadata": {},
   "outputs": [
    {
     "data": {
      "image/png": "[encoded data removed]",
      "text/plain": [
       "<Figure size 1080x360 with 1 Axes>"
      ]
     },
     "metadata": {},
     "output_type": "display_data"
    }
   ],
   "source": [
    "#Normalize by total rows used in calculation\n",
    "rolling_count = year_day.groupby(by='Date').count()\n",
    "rolling_average_rate = rolls / rolling_count['Wnv'].mean()/normizer\n",
    "plt.figure(figsize=(15,5))\n",
    "plt.plot( rolling_average_rate, label='Rolling Trend')\n",
    "plt.plot(year_day.groupby(by='Date').sum() /rolling_count, label='Daily Trend')\n",
    "plt.title(\"Seasonality of West Nile Presence\", loc='Center', fontsize=12, fontweight=0, color='black')\n",
    "plt.legend()\n",
    "plt.xlabel(\"Day of Year\")\n",
    "plt.ylabel(\"Cases Detected (Total)\");"
   ]
  },
  {
   "cell_type": "code",
   "execution_count": 1057,
   "metadata": {},
   "outputs": [],
   "source": [
    "# Create Feature called seasonal baseline\n",
    "rolling_average_rate = pd.DataFrame(rolling_average_rate, columns=['seasonal_baseline'])"
   ]
  },
  {
   "cell_type": "code",
   "execution_count": 1058,
   "metadata": {},
   "outputs": [],
   "source": [
    "\"\"\"In the above, I assume the drop offs in frequency are generally due \n",
    "to anomolies in the collection method, as opposed to true changes. \n",
    "In any event, we need a complete set of predicted probabilities for all dates in the\n",
    "range, include those missing in the training set. By fitting a curve,\n",
    "we are able to fill in the blanks programatically\"\"\"\n",
    "mu, std = sp.stats.norm.fit(list(rolls.index))"
   ]
  },
  {
   "cell_type": "code",
   "execution_count": 1059,
   "metadata": {},
   "outputs": [
    {
     "data": {
      "image/png": "[encoded data removed]",
      "text/plain": [
       "<Figure size 1080x360 with 1 Axes>"
      ]
     },
     "metadata": {},
     "output_type": "display_data"
    }
   ],
   "source": [
    "\"\"\"This is graphed here for a reason. \n",
    "the following variables are pure manual calibration to get what I want.\n",
    "6: raise max\n",
    "25: shift center to match actual date distrubtion\n",
    "3.5: tighten up the standard deviation\n",
    ".01: increase baseline to catch relative outliers.\"\"\"\n",
    "\n",
    "norm_list = []\n",
    "#Min and max dates in train and test data\n",
    "_min = 140\n",
    "_max = 290\n",
    "for i in range(_min, _max):\n",
    "    norm_list.append(6*sp.stats.norm.pdf(i-25, mu, std/3.5)+.01)\n",
    "\n",
    "plt.figure(figsize=(15,5))\n",
    "plt.plot(np.linspace(_min, _max, len(norm_list)), norm_list, label='Normalized Trend')\n",
    "plt.plot(year_day.groupby(by='Date').sum() /rolling_count, label='Daily Trend')\n",
    "plt.title(\"Seasonality of West Nile Presence\", loc='Center', fontsize=12, fontweight=0, color='black')\n",
    "plt.legend()\n",
    "plt.xlabel(\"Day of Year\")\n",
    "plt.ylabel(\"Cases Detected (Total)\");"
   ]
  },
  {
   "cell_type": "code",
   "execution_count": 1060,
   "metadata": {},
   "outputs": [],
   "source": [
    "# reference dictionary for season\n",
    "seasonal_dict = {}\n",
    "for i in range(len(norm_list)):\n",
    "    seasonal_dict[140+i] = norm_list[i]"
   ]
  },
  {
   "cell_type": "markdown",
   "metadata": {},
   "source": [
    "### 2.2.2 Combine with weather data"
   ]
  },
  {
   "cell_type": "code",
   "execution_count": 1061,
   "metadata": {},
   "outputs": [],
   "source": [
    "#Create rolling average for all weather columns.\n",
    "weather_rolling_7 = weather_station_1.resample('D').sum().rolling(window=7).mean().shift()\n",
    "weather_rolling_14 = weather_station_1.resample('D').sum().rolling(window=14).mean().shift()\n"
   ]
  },
  {
   "cell_type": "code",
   "execution_count": 1062,
   "metadata": {
    "scrolled": true
   },
   "outputs": [],
   "source": [
    "#Weather Data on different rolling averages, this will be referenced later in fine tuning\n",
    "weather_rolling_1 = weather_station_1.resample('D').sum()\n",
    "weather_rolling_5 = weather_station_1.resample('D').sum().rolling(window=5).mean().shift()\n",
    "weather_rolling_10 = weather_station_1.resample('D').sum().rolling(window=10).mean().shift()\n",
    "weather_rolling_15 = weather_station_1.resample('D').sum().rolling(window=15).mean().shift()\n",
    "weather_rolling_20 = weather_station_1.resample('D').sum().rolling(window=20).mean().shift()"
   ]
  },
  {
   "cell_type": "code",
   "execution_count": 1063,
   "metadata": {},
   "outputs": [],
   "source": [
    "#Weather data on different rolling totals, used for precipitation totals\n",
    "weather_rain_1 = weather_station_1.resample('D').sum()\n",
    "weather_rain_5 = weather_station_1.resample('D').sum().rolling(window=5).sum().shift()\n",
    "weather_rain_10 = weather_station_1.resample('D').sum().rolling(window=10).sum().shift()\n",
    "weather_rain_15 = weather_station_1.resample('D').sum().rolling(window=15).sum().shift()\n",
    "weather_rain_20 = weather_station_1.resample('D').sum().rolling(window=20).sum().shift()"
   ]
  },
  {
   "cell_type": "markdown",
   "metadata": {},
   "source": [
    "### 2.2.3 Dummy Columns"
   ]
  },
  {
   "cell_type": "code",
   "execution_count": 1064,
   "metadata": {},
   "outputs": [],
   "source": [
    "# Create dummy features for Species and Trap names\n",
    "df_species_dummies = pd.get_dummies(df_train['Species'])\n",
    "df_trap_dummies = pd.get_dummies(df_train['Trap'])"
   ]
  },
  {
   "cell_type": "markdown",
   "metadata": {},
   "source": [
    "## 2.3 Final Concatention"
   ]
  },
  {
   "cell_type": "code",
   "execution_count": 1065,
   "metadata": {},
   "outputs": [],
   "source": [
    "#CAUTION: JOINING DATAFRAMES IS MEMORY INTENSIVE"
   ]
  },
  {
   "cell_type": "code",
   "execution_count": 1066,
   "metadata": {},
   "outputs": [],
   "source": [
    "#YOU HAVE BEEN WARNED"
   ]
  },
  {
   "cell_type": "code",
   "execution_count": 1067,
   "metadata": {},
   "outputs": [],
   "source": [
    "#Using left join to only include weather rows that are in training set, 15 rolling will be our base set\n",
    "weather_rolling_formodel = weather_rolling_15\n",
    "\n",
    "df_combined = df_train.join(weather_rolling_formodel, how='left')"
   ]
  },
  {
   "cell_type": "code",
   "execution_count": 1068,
   "metadata": {},
   "outputs": [],
   "source": [
    "# First run\n",
    "df_combined = pd.concat([df_combined,df_species_dummies, df_trap_dummies], axis=1)"
   ]
  },
  {
   "cell_type": "code",
   "execution_count": 1069,
   "metadata": {},
   "outputs": [],
   "source": [
    "cols_to_drop = ['Address', 'Species', 'Block', 'Street', 'Trap', 'AddressNumberAndStreet', 'AddressAccuracy', 'Date']\n",
    "df_combined = df_combined.drop(cols_to_drop, axis=1)"
   ]
  },
  {
   "cell_type": "markdown",
   "metadata": {},
   "source": [
    "# <a class=\"anchor\" id=\"3.0-bullet\">3. Model </a>"
   ]
  },
  {
   "cell_type": "markdown",
   "metadata": {},
   "source": [
    "### 3.0.1 Analysis Setup"
   ]
  },
  {
   "cell_type": "code",
   "execution_count": 1070,
   "metadata": {},
   "outputs": [],
   "source": [
    "# Runs and outputs results into dataframe of any model input along with train/test data\n",
    "def roc_calculate(model,X_train,y_train,X_test, y_test):\n",
    "    df_roc = pd.DataFrame(columns=['models','train', 'test'])\n",
    "    for mod in range(0,len(model)):\n",
    "        # Set and fit model from list\n",
    "        use_model = model[mod]\n",
    "        use_model.fit(X_train,y_train)\n",
    "        # Create predictions\n",
    "        y_train_predicted = use_model.predict_proba(X_train)\n",
    "        y_test_predicted = use_model.predict_proba(X_test)\n",
    "        #Isolate positive prediction values \n",
    "        wnv_train_preds = [proba[1] for proba in y_train_predicted]\n",
    "        wnv_test_preds = [proba[1] for proba in y_test_predicted]\n",
    "        #Score and save value\n",
    "        train = roc_auc_score(y_train, wnv_train_preds)\n",
    "        test = roc_auc_score(y_test, wnv_test_preds)\n",
    "        # Set name and add to dataframe\n",
    "        name = str(model[mod])\n",
    "        df_roc.loc[len(df_roc)] = [name, train, test]\n",
    "    return df_roc"
   ]
  },
  {
   "cell_type": "markdown",
   "metadata": {},
   "source": [
    "## 3.1 Initial Model"
   ]
  },
  {
   "cell_type": "code",
   "execution_count": 1071,
   "metadata": {},
   "outputs": [],
   "source": [
    "#All weather columns \n",
    "weather_cols = list(weather_rolling_formodel.columns)\n",
    "\n",
    "# Set columns to exlude from features matrix\n",
    "cols_to_exclude = ['Date','WnvPresent', 'NumMosquitos', 'DaysFrom', \n",
    "                   'Sunrise', 'Sunset',  'StationNum', 'Depth', 'SN',\n",
    "                   'Month', 'seasonal_baseline','Address',\n",
    "                   'Species', 'Block','Street','Trap', 'AddressAccuracy', 'AddressNumberAndStreet',\n",
    "                   'STATION_DESCRIPTIVE_NAME', 'RED', 'BLUE',\n",
    "                   'G', 'BRN', 'P', 'Y', 'Pnk', 'O', 'Stop_Latitude', 'Stop_Longitude'\n",
    "                  ]\n",
    "for element in weather_rolling_formodel.columns:\n",
    "    if element not in weather_cols:\n",
    "        cols_to_exclude.append(element)\n",
    "model_cols = [col for col in df_combined.columns if col not in cols_to_exclude]"
   ]
  },
  {
   "cell_type": "code",
   "execution_count": 1072,
   "metadata": {},
   "outputs": [],
   "source": [
    "# Set X and y matrices\n",
    "X = df_combined.loc[:, model_cols]\n",
    "y = df_train['WnvPresent']"
   ]
  },
  {
   "cell_type": "code",
   "execution_count": 1073,
   "metadata": {},
   "outputs": [],
   "source": [
    "\"\"\"This normalization is done to allow flexible and recoverable transformations.\n",
    "For example, if cols_to_normalize is set to weather_cols,\n",
    "only those columns will be normalized. \n",
    "Inclusion should depend upon model selected.\"\"\"\n",
    "cols_to_normalize = model_cols\n",
    "norm_dict = {}\n",
    "for col in cols_to_normalize:\n",
    "    _df_cur = X.loc[:, col]\n",
    "    _mean = _df_cur.mean()\n",
    "    _std = _df_cur.std()\n",
    "    #Store for test data transform\n",
    "    norm_dict[col] = [_mean, _std]\n",
    "\n",
    "    X.loc[:, col] = (X.loc[:, col] - _mean) / _std"
   ]
  },
  {
   "cell_type": "code",
   "execution_count": 1074,
   "metadata": {
    "scrolled": true
   },
   "outputs": [
    {
     "name": "stdout",
     "output_type": "stream",
     "text": [
      "['Latitude', 'Longitude', 'YearDay', 'Tmax', 'Tmin', 'Tavg', 'DewPoint', 'WetBulb', 'Heat', 'Cool', 'SnowFall', 'PrecipTotal', 'StnPressure', 'SeaLevel', 'ResultSpeed', 'ResultDir', 'AvgSpeed', 'FG', 'VCTS', 'TSRA', 'RA', 'FU', 'DZ', 'MIFG', 'FG+', 'SQ', 'BCFG', 'BR', 'HZ', 'TS', 'CULEX ERRATICUS', 'CULEX PIPIENS', 'CULEX PIPIENS/RESTUANS', 'CULEX RESTUANS', 'CULEX SALINARIUS', 'CULEX TARSALIS', 'CULEX TERRITANS', 'T001', 'T002', 'T003', 'T004', 'T005', 'T006', 'T007', 'T008', 'T009', 'T011', 'T012', 'T013', 'T014', 'T015', 'T016', 'T017', 'T018', 'T019', 'T025', 'T027', 'T028', 'T030', 'T031', 'T033', 'T034', 'T035', 'T036', 'T037', 'T039', 'T040', 'T043', 'T044', 'T045', 'T046', 'T047', 'T048', 'T049', 'T050', 'T051', 'T054', 'T054C', 'T060', 'T061', 'T062', 'T063', 'T065', 'T066', 'T067', 'T069', 'T070', 'T071', 'T072', 'T073', 'T074', 'T075', 'T076', 'T077', 'T078', 'T079', 'T080', 'T081', 'T082', 'T083', 'T084', 'T085', 'T086', 'T088', 'T089', 'T090', 'T091', 'T092', 'T094', 'T094B', 'T095', 'T096', 'T097', 'T099', 'T100', 'T102', 'T103', 'T107', 'T114', 'T115', 'T128', 'T129', 'T135', 'T138', 'T141', 'T142', 'T143', 'T144', 'T145', 'T146', 'T147', 'T148', 'T149', 'T150', 'T151', 'T152', 'T153', 'T154', 'T155', 'T156', 'T157', 'T158', 'T159', 'T160', 'T161', 'T162', 'T200', 'T206', 'T209', 'T212', 'T215', 'T218', 'T219', 'T220', 'T221', 'T222', 'T223', 'T224', 'T225', 'T226', 'T227', 'T228', 'T229', 'T230', 'T231', 'T232', 'T233', 'T235', 'T236', 'T237', 'T238', 'T900', 'T903']\n"
     ]
    }
   ],
   "source": [
    "print(list(X.columns))"
   ]
  },
  {
   "cell_type": "code",
   "execution_count": 1075,
   "metadata": {},
   "outputs": [],
   "source": [
    "#Stratification on Days From should ensure usable spread in time data. Should get most periods in train and test\n",
    "X_train, X_test, y_train, y_test = train_test_split(X, y, stratify=X.index, random_state=42)"
   ]
  },
  {
   "cell_type": "code",
   "execution_count": 1076,
   "metadata": {},
   "outputs": [],
   "source": [
    "# List of initial classifiers to review\n",
    "classifiers = [\n",
    "    LogisticRegression(random_state=42),\n",
    "    KNeighborsClassifier(n_neighbors=8),\n",
    "    BaggingClassifier(random_state=42),\n",
    "    RandomForestClassifier(random_state=42),\n",
    "    AdaBoostClassifier(random_state=42),\n",
    "    SVC(probability=True)]"
   ]
  },
  {
   "cell_type": "code",
   "execution_count": 1077,
   "metadata": {},
   "outputs": [
    {
     "data": {
      "text/html": [
       "<div>\n",
       "<style scoped>\n",
       "    .dataframe tbody tr th:only-of-type {\n",
       "        vertical-align: middle;\n",
       "    }\n",
       "\n",
       "    .dataframe tbody tr th {\n",
       "        vertical-align: top;\n",
       "    }\n",
       "\n",
       "    .dataframe thead th {\n",
       "        text-align: right;\n",
       "    }\n",
       "</style>\n",
       "<table border=\"1\" class=\"dataframe\">\n",
       "  <thead>\n",
       "    <tr style=\"text-align: right;\">\n",
       "      <th></th>\n",
       "      <th>models</th>\n",
       "      <th>train</th>\n",
       "      <th>test</th>\n",
       "    </tr>\n",
       "  </thead>\n",
       "  <tbody>\n",
       "    <tr>\n",
       "      <th>0</th>\n",
       "      <td>LogisticRegression(C=1.0, class_weight=None, d...</td>\n",
       "      <td>0.878729</td>\n",
       "      <td>0.833055</td>\n",
       "    </tr>\n",
       "    <tr>\n",
       "      <th>1</th>\n",
       "      <td>KNeighborsClassifier(algorithm='auto', leaf_si...</td>\n",
       "      <td>0.908225</td>\n",
       "      <td>0.739041</td>\n",
       "    </tr>\n",
       "    <tr>\n",
       "      <th>2</th>\n",
       "      <td>BaggingClassifier(base_estimator=None, bootstr...</td>\n",
       "      <td>0.990371</td>\n",
       "      <td>0.708361</td>\n",
       "    </tr>\n",
       "    <tr>\n",
       "      <th>3</th>\n",
       "      <td>RandomForestClassifier(bootstrap=True, class_w...</td>\n",
       "      <td>0.991090</td>\n",
       "      <td>0.737580</td>\n",
       "    </tr>\n",
       "    <tr>\n",
       "      <th>4</th>\n",
       "      <td>AdaBoostClassifier(algorithm='SAMME.R', base_e...</td>\n",
       "      <td>0.871491</td>\n",
       "      <td>0.839740</td>\n",
       "    </tr>\n",
       "    <tr>\n",
       "      <th>5</th>\n",
       "      <td>SVC(C=1.0, cache_size=200, class_weight=None, ...</td>\n",
       "      <td>0.960180</td>\n",
       "      <td>0.775401</td>\n",
       "    </tr>\n",
       "  </tbody>\n",
       "</table>\n",
       "</div>"
      ],
      "text/plain": [
       "                                              models     train      test\n",
       "0  LogisticRegression(C=1.0, class_weight=None, d...  0.878729  0.833055\n",
       "1  KNeighborsClassifier(algorithm='auto', leaf_si...  0.908225  0.739041\n",
       "2  BaggingClassifier(base_estimator=None, bootstr...  0.990371  0.708361\n",
       "3  RandomForestClassifier(bootstrap=True, class_w...  0.991090  0.737580\n",
       "4  AdaBoostClassifier(algorithm='SAMME.R', base_e...  0.871491  0.839740\n",
       "5  SVC(C=1.0, cache_size=200, class_weight=None, ...  0.960180  0.775401"
      ]
     },
     "execution_count": 1077,
     "metadata": {},
     "output_type": "execute_result"
    }
   ],
   "source": [
    "# This baseline model input features are:\n",
    "# 1) As is Weather Data (no rolling)\n",
    "# 2) Location only by cordianates\n",
    "# 3) Dummy by Species\n",
    "# 4) Dummy by Trap Name\n",
    "roc_calculate(classifiers,X_train,y_train,X_test,y_test)"
   ]
  },
  {
   "cell_type": "markdown",
   "metadata": {},
   "source": [
    "We will focus on two models: Logistic Regression and SVC"
   ]
  },
  {
   "cell_type": "markdown",
   "metadata": {},
   "source": [
    "## 3.2 Model with Feature Engineering"
   ]
  },
  {
   "cell_type": "markdown",
   "metadata": {},
   "source": [
    "### 3.2.0 Function Builds for Efficienct Model Feature Selection"
   ]
  },
  {
   "cell_type": "code",
   "execution_count": 1078,
   "metadata": {},
   "outputs": [],
   "source": [
    "# Anytime the features need to be updated for the train test split before a model\n",
    "def train_data_update(df_list,exclude_list=cols_to_exclude, \n",
    "                      weather_list=weather_cols, \n",
    "                      df_train=df_train, \n",
    "                      weather=weather_rolling_formodel):\n",
    "\n",
    "    df_combine = df_train.join(weather, how='left')\n",
    "    all_dfs = [df_combine]\n",
    "    all_dfs.extend(df_list)\n",
    "    df_combine = pd.concat(all_dfs, axis=1)\n",
    "    \n",
    "    for element in weather.columns:\n",
    "        if element not in weather_list:\n",
    "            exclude_list.append(element) # add element if it is not in the exclude weather list\n",
    "    \n",
    "    model_cols = [col for col in df_combine.columns if col not in exclude_list]\n",
    "\n",
    "    X = df_combine.loc[:, model_cols]\n",
    "    y = df_train['WnvPresent']\n",
    "    \n",
    "    #This normalization is done to allow flexible and recoverable transformations.\n",
    "    #For example, if cols_to_normalize is set to weather_cols, only those columns will be normalized. \n",
    "    #Inclusion should depend upon model selected.\n",
    "    \n",
    "    norm_dict = {}\n",
    "    for col in model_cols:\n",
    "        _df_cur = X.loc[:, col]\n",
    "        _mean = _df_cur.mean()\n",
    "        _std = _df_cur.std()\n",
    "        #Store for test data transform\n",
    "        norm_dict[col] = [_mean, _std]\n",
    "\n",
    "        X.loc[:, col] = (X.loc[:, col] - _mean) / _std\n",
    "\n",
    "    #Stratification on Days From should ensure usable spread in time data. Should get most periods in train and test\n",
    "    X_train, X_test, y_train, y_test = train_test_split(X, y, stratify=X.index, random_state=42)\n",
    "\n",
    "    print(list(X.columns))\n",
    "    return X, y, model_cols, norm_dict"
   ]
  },
  {
   "cell_type": "markdown",
   "metadata": {},
   "source": [
    "### 3.2.1 Correcting Overfitting"
   ]
  },
  {
   "cell_type": "code",
   "execution_count": 1079,
   "metadata": {},
   "outputs": [
    {
     "name": "stdout",
     "output_type": "stream",
     "text": [
      "['Latitude', 'Longitude', 'Month', 'YearDay', 'Tmax', 'Tmin', 'Tavg', 'DewPoint', 'WetBulb', 'PrecipTotal', 'ResultSpeed', 'AvgSpeed', 'CULEX ERRATICUS', 'CULEX PIPIENS', 'CULEX PIPIENS/RESTUANS', 'CULEX RESTUANS', 'CULEX SALINARIUS', 'CULEX TARSALIS', 'CULEX TERRITANS']\n"
     ]
    }
   ],
   "source": [
    "# MODEL TEST 1 - Dropping Trap dummies and slimmed down weather\n",
    "#Most weather columns show evidence of overfit, just the core weather items here\n",
    "weather_cols = ['Tmax','Tmin','Tavg','DewPoint','WetBulb','PrecipTotal','ResultSpeed','AvgSpeed']\n",
    "\n",
    "# Set columns to exlude from features matrix\n",
    "cols_to_exclude = ['Date','WnvPresent', 'NumMosquitos', 'DaysFrom', \n",
    "                   'Sunrise', 'Sunset',  'StationNum', 'Depth', 'SN', 'seasonal_baseline','Address',\n",
    "                   'Species', 'Block','Street','Trap', 'AddressAccuracy', 'AddressNumberAndStreet',\n",
    "                   'STATION_DESCRIPTIVE_NAME', 'RED', 'BLUE',\n",
    "                   'G', 'BRN', 'P', 'Y', 'Pnk', 'O', 'Stop_Latitude', 'Stop_Longitude'\n",
    "                  ]\n",
    "dummies_to_combine = [df_species_dummies]\n",
    "\n",
    "X, y, model_cols, norm_dict = train_data_update(dummies_to_combine,\n",
    "                                                exclude_list=cols_to_exclude,\n",
    "                                                weather_list=weather_cols,\n",
    "                                                weather=weather_rolling_formodel)\n",
    "# This Model had a Kaggle Submission of 0.74573"
   ]
  },
  {
   "cell_type": "markdown",
   "metadata": {},
   "source": [
    "### 3.2.2 Weather Optimization "
   ]
  },
  {
   "cell_type": "code",
   "execution_count": 1080,
   "metadata": {},
   "outputs": [],
   "source": [
    "# Optimizing Which Weather rolling averages or totals to use\n",
    "\n",
    "def Rolling_weather_finder(combos, model_list):\n",
    "    #Initia and clear relevant dataframes\n",
    "    df_combined = pd.DataFrame()\n",
    "    df_weather_roc = pd.DataFrame()\n",
    "    df_combo = pd.DataFrame(columns=['Tmin','DewPoint','WetBulb','PrecipTotal'])\n",
    "\n",
    "    for i in range(0,len(combos)):\n",
    "        # This for loop is for Tmax\n",
    "        T_min_df = \"weather_rolling_\"+str(combos[i])\n",
    "        df_tmin = eval(T_min_df)\n",
    "        for j in range(0,len(combos)):\n",
    "            # This for loop is for Dewpoint\n",
    "            dewpoint_df = \"weather_rolling_\"+str(combos[j])\n",
    "            df_dewpoint = eval(dewpoint_df)\n",
    "            for k in range(0,len(combos)):\n",
    "                # This for loop is for Rain Total\n",
    "                rain_df = \"weather_rain_\"+str(combos[k])\n",
    "                df_rain = eval(rain_df)\n",
    "                for l in range(0,len(combos)):\n",
    "                    # This for loop is for WetBulb\n",
    "                    wetbulb_df = \"weather_rolling_\"+str(combos[l])\n",
    "                    df_wetbulb = eval(wetbulb_df)\n",
    "\n",
    "                    # Recreate Weather dataframe\n",
    "                    weather_df = pd.DataFrame()\n",
    "                    weather_df['Tmin'] = df_tmin['Tmin']\n",
    "                    weather_df['Dewpoint'] = df_dewpoint['DewPoint']\n",
    "                    weather_df['PrecipTotal'] = df_rain['PrecipTotal']\n",
    "                    weather_df['WetBulb'] = df_wetbulb['WetBulb']\n",
    "                    weather_df = weather_df[weather_df['Tmin'] != 0]\n",
    "                    weather_df['Tmin'].fillna(weather_df['Tmin'].mean(), inplace=True)\n",
    "                    weather_df['Dewpoint'].fillna(weather_df['Dewpoint'].mean(), inplace=True)\n",
    "                    weather_df['PrecipTotal'].fillna(weather_df['PrecipTotal'].min(), inplace=True)\n",
    "                    weather_df['WetBulb'].fillna(weather_df['WetBulb'].mean(), inplace=True)\n",
    "\n",
    "                    # Combine to other non weather features\n",
    "                    df_for_model = df_train.join(weather_df, how='left')\n",
    "                    df_for_model = pd.concat([df_for_model,df_species_dummies], axis=1)\n",
    "                    model_cols = [col for col in df_for_model.columns if col not in cols_to_exclude]\n",
    "\n",
    "                    # Set X and y matrices\n",
    "                    X = df_for_model.loc[:, model_cols]\n",
    "                    y = df_train['WnvPresent']\n",
    "                    # Train Test Split Data\n",
    "                    X_train, X_test, y_train, y_test = train_test_split(X, y, stratify=X.index, random_state=42)\n",
    "\n",
    "                    #Set and Run Model (uses roc_calc function to run and add results to dataframe)\n",
    "                    # example setup for model list: model = [AdaBoostClassifier(random_state=42)]\n",
    "                    df_weather_roc = df_weather_roc.append(roc_calculate(model_list,X_train,y_train,X_test,y_test))\n",
    "                    # Log place\n",
    "                    df_combo.loc[len(df_combo)] = [combos[i], combos[j], combos[l], combos[k]]\n",
    "    \n",
    "    df_weather_roc.reset_index(inplace=True)\n",
    "    df_weather_roc = pd.concat([df_weather_roc, df_combo], axis=1)\n",
    "    return df_weather_roc"
   ]
  },
  {
   "cell_type": "code",
   "execution_count": 1081,
   "metadata": {},
   "outputs": [
    {
     "data": {
      "text/html": [
       "<div>\n",
       "<style scoped>\n",
       "    .dataframe tbody tr th:only-of-type {\n",
       "        vertical-align: middle;\n",
       "    }\n",
       "\n",
       "    .dataframe tbody tr th {\n",
       "        vertical-align: top;\n",
       "    }\n",
       "\n",
       "    .dataframe thead th {\n",
       "        text-align: right;\n",
       "    }\n",
       "</style>\n",
       "<table border=\"1\" class=\"dataframe\">\n",
       "  <thead>\n",
       "    <tr style=\"text-align: right;\">\n",
       "      <th></th>\n",
       "      <th>index</th>\n",
       "      <th>models</th>\n",
       "      <th>train</th>\n",
       "      <th>test</th>\n",
       "      <th>Tmin</th>\n",
       "      <th>DewPoint</th>\n",
       "      <th>WetBulb</th>\n",
       "      <th>PrecipTotal</th>\n",
       "    </tr>\n",
       "  </thead>\n",
       "  <tbody>\n",
       "    <tr>\n",
       "      <th>80</th>\n",
       "      <td>0</td>\n",
       "      <td>LogisticRegression(C=0.1, class_weight=None, d...</td>\n",
       "      <td>0.781845</td>\n",
       "      <td>0.778046</td>\n",
       "      <td>20</td>\n",
       "      <td>20</td>\n",
       "      <td>20</td>\n",
       "      <td>20</td>\n",
       "    </tr>\n",
       "    <tr>\n",
       "      <th>70</th>\n",
       "      <td>0</td>\n",
       "      <td>LogisticRegression(C=0.1, class_weight=None, d...</td>\n",
       "      <td>0.781120</td>\n",
       "      <td>0.777396</td>\n",
       "      <td>20</td>\n",
       "      <td>15</td>\n",
       "      <td>15</td>\n",
       "      <td>20</td>\n",
       "    </tr>\n",
       "    <tr>\n",
       "      <th>67</th>\n",
       "      <td>0</td>\n",
       "      <td>LogisticRegression(C=0.1, class_weight=None, d...</td>\n",
       "      <td>0.782507</td>\n",
       "      <td>0.775754</td>\n",
       "      <td>20</td>\n",
       "      <td>15</td>\n",
       "      <td>15</td>\n",
       "      <td>15</td>\n",
       "    </tr>\n",
       "    <tr>\n",
       "      <th>8</th>\n",
       "      <td>0</td>\n",
       "      <td>LogisticRegression(C=0.1, class_weight=None, d...</td>\n",
       "      <td>0.777156</td>\n",
       "      <td>0.774451</td>\n",
       "      <td>10</td>\n",
       "      <td>10</td>\n",
       "      <td>20</td>\n",
       "      <td>20</td>\n",
       "    </tr>\n",
       "    <tr>\n",
       "      <th>5</th>\n",
       "      <td>0</td>\n",
       "      <td>LogisticRegression(C=0.1, class_weight=None, d...</td>\n",
       "      <td>0.777631</td>\n",
       "      <td>0.773720</td>\n",
       "      <td>10</td>\n",
       "      <td>10</td>\n",
       "      <td>20</td>\n",
       "      <td>15</td>\n",
       "    </tr>\n",
       "  </tbody>\n",
       "</table>\n",
       "</div>"
      ],
      "text/plain": [
       "    index                                             models     train  \\\n",
       "80      0  LogisticRegression(C=0.1, class_weight=None, d...  0.781845   \n",
       "70      0  LogisticRegression(C=0.1, class_weight=None, d...  0.781120   \n",
       "67      0  LogisticRegression(C=0.1, class_weight=None, d...  0.782507   \n",
       "8       0  LogisticRegression(C=0.1, class_weight=None, d...  0.777156   \n",
       "5       0  LogisticRegression(C=0.1, class_weight=None, d...  0.777631   \n",
       "\n",
       "        test Tmin DewPoint WetBulb PrecipTotal  \n",
       "80  0.778046   20       20      20          20  \n",
       "70  0.777396   20       15      15          20  \n",
       "67  0.775754   20       15      15          15  \n",
       "8   0.774451   10       10      20          20  \n",
       "5   0.773720   10       10      20          15  "
      ]
     },
     "execution_count": 1081,
     "metadata": {},
     "output_type": "execute_result"
    }
   ],
   "source": [
    "# SELECTING THE RIGHT WEATHER COMBINATION FOR the LR Model\n",
    "combos = [10,15,20] # rolling average to try\n",
    "models = [LogisticRegression(C=0.1,random_state=42)]\n",
    "output_df_lr = Rolling_weather_finder(combos,models)\n",
    "output_df_lr.sort_values('test', ascending=False).head(5)"
   ]
  },
  {
   "cell_type": "code",
   "execution_count": 1082,
   "metadata": {},
   "outputs": [],
   "source": [
    "# SELECTING THE RIGHT WEATHER COMBINATION FOR the SVC Model\n",
    "combos = [5,10,15,20] # rolling average to try\n",
    "models = [SVC(probability=True)]\n",
    "#output_df_svc = Rolling_weather_finder(combos,models)\n",
    "#output_df_svc.sort_values('test', ascending=False).head(5)\n",
    "\n",
    "#OUTPUTS COMMENTED OUT TO PREVENT LONG RUNS WHEN RUNNING ALL CELLS IN NOTEBOOK"
   ]
  },
  {
   "cell_type": "code",
   "execution_count": 1083,
   "metadata": {},
   "outputs": [],
   "source": [
    "# Change Weather to Optimzed columns\n",
    "\n",
    "def weather_update(top_value,model_to_use, weather_rolling_formodel=weather_rolling_formodel): #(index_location, output df from model)\n",
    "\n",
    "    #Using left join to only include weather rows that are in training set\n",
    "    weather_rolling_formodel['Tmin'] = eval(\"weather_rolling_\"+str(model_to_use.iloc[top_value].Tmin)).Tmin\n",
    "    weather_rolling_formodel['DewPoint'] = eval(\"weather_rolling_\"+str(model_to_use.iloc[top_value].DewPoint)).DewPoint\n",
    "    weather_rolling_formodel['WetBulb'] = eval(\"weather_rolling_\"+str(model_to_use.iloc[top_value].WetBulb)).WetBulb\n",
    "    weather_rolling_formodel['PrecipTotal'] = eval(\"weather_rain_\"+str(model_to_use.iloc[top_value].PrecipTotal)).PrecipTotal\n",
    "\n",
    "    weather_rolling_formodel['Tmax'].fillna(weather_rolling_formodel['Tmax'].mean(), inplace=True)\n",
    "    weather_rolling_formodel['DewPoint'].fillna(weather_rolling_formodel['DewPoint'].mean(), inplace=True)\n",
    "    weather_rolling_formodel['PrecipTotal'].fillna(weather_rolling_formodel['PrecipTotal'].min(), inplace=True)\n",
    "    weather_rolling_formodel['WetBulb'].fillna(weather_rolling_formodel['WetBulb'].mean(), inplace=True)\n",
    "    return weather_rolling_formodel"
   ]
  },
  {
   "cell_type": "code",
   "execution_count": 1084,
   "metadata": {},
   "outputs": [
    {
     "name": "stdout",
     "output_type": "stream",
     "text": [
      "['Month', 'YearDay', 'Tmax', 'Tmin', 'Tavg', 'DewPoint', 'WetBulb', 'Heat', 'Cool', 'SnowFall', 'PrecipTotal', 'StnPressure', 'SeaLevel', 'ResultSpeed', 'ResultDir', 'AvgSpeed', 'FG', 'VCTS', 'TSRA', 'RA', 'FU', 'DZ', 'MIFG', 'FG+', 'SQ', 'BCFG', 'BR', 'HZ', 'TS', 'CULEX ERRATICUS', 'CULEX PIPIENS/RESTUANS', 'CULEX RESTUANS', 'CULEX SALINARIUS', 'CULEX TARSALIS', 'CULEX TERRITANS', 'T001', 'T002', 'T003', 'T004', 'T005', 'T006', 'T007', 'T008', 'T009', 'T011', 'T012', 'T013', 'T014', 'T015', 'T016', 'T017', 'T018', 'T019', 'T025', 'T027', 'T028', 'T030', 'T031', 'T033', 'T034', 'T035', 'T036', 'T037', 'T039', 'T040', 'T043', 'T044', 'T045', 'T046', 'T047', 'T048', 'T049', 'T050', 'T051', 'T054', 'T054C', 'T060', 'T061', 'T062', 'T063', 'T065', 'T066', 'T067', 'T069', 'T070', 'T071', 'T072', 'T073', 'T074', 'T075', 'T076', 'T077', 'T078', 'T079', 'T080', 'T081', 'T082', 'T083', 'T084', 'T085', 'T086', 'T088', 'T089', 'T090', 'T091', 'T092', 'T094', 'T094B', 'T095', 'T096', 'T097', 'T099', 'T100', 'T102', 'T103', 'T107', 'T114', 'T115', 'T128', 'T129', 'T135', 'T138', 'T141', 'T142', 'T143', 'T144', 'T145', 'T146', 'T147', 'T148', 'T149', 'T150', 'T151', 'T152', 'T153', 'T154', 'T155', 'T156', 'T157', 'T158', 'T159', 'T160', 'T161', 'T162', 'T200', 'T206', 'T209', 'T212', 'T215', 'T218', 'T219', 'T220', 'T221', 'T222', 'T223', 'T224', 'T225', 'T226', 'T227', 'T228', 'T229', 'T230', 'T231', 'T232', 'T233', 'T235', 'T236', 'T237', 'T238', 'T903']\n"
     ]
    }
   ],
   "source": [
    "# MODEL TEST # 2 - Investigate trap instead of lat/long\n",
    "\n",
    "weather_cols = list(weather_rolling_formodel.columns)\n",
    "\n",
    "# Set columns to exlude from features matrix\n",
    "cols_to_exclude = ['Latitude','Longitude','Date','WnvPresent', 'NumMosquitos', 'DaysFrom', \n",
    "                   'Sunrise', 'Sunset',  'StationNum', 'Depth', 'SN', 'seasonal_baseline','Address',\n",
    "                   'Species', 'Block','Street','Trap', 'AddressAccuracy', 'AddressNumberAndStreet',\n",
    "                   'CULEX PIPIENS', 'T900','STATION_DESCRIPTIVE_NAME', 'RED', 'BLUE',\n",
    "                   'G', 'BRN', 'P', 'Y', 'Pnk', 'O', 'Stop_Latitude', 'Stop_Longitude'\n",
    "                  ]\n",
    "\n",
    "dummies_to_combine = [df_species_dummies,df_trap_dummies]\n",
    "\n",
    "X, y, model_cols, norm_dict = train_data_update(dummies_to_combine,exclude_list=cols_to_exclude,\n",
    "                                     weather_list=weather_cols,\n",
    "                                     weather=weather_rolling_formodel)\n",
    "# This model returned a Kaggle Score of 0.75867, more than MODEL TEST 1"
   ]
  },
  {
   "cell_type": "code",
   "execution_count": 1086,
   "metadata": {},
   "outputs": [
    {
     "name": "stdout",
     "output_type": "stream",
     "text": [
      "['Latitude', 'Longitude', 'Month', 'YearDay', 'Tmax', 'Tmin', 'Tavg', 'DewPoint', 'WetBulb', 'Heat', 'Cool', 'SnowFall', 'PrecipTotal', 'StnPressure', 'SeaLevel', 'ResultSpeed', 'ResultDir', 'AvgSpeed', 'FG', 'VCTS', 'TSRA', 'RA', 'FU', 'DZ', 'MIFG', 'FG+', 'SQ', 'BCFG', 'BR', 'HZ', 'TS', 'CULEX ERRATICUS', 'CULEX PIPIENS/RESTUANS', 'CULEX RESTUANS', 'CULEX SALINARIUS', 'CULEX TARSALIS', 'CULEX TERRITANS']\n"
     ]
    }
   ],
   "source": [
    "# MODEL TEST # 3 - Optimized weather, no trap dummies, drop CULEX PIPIENS\n",
    "\n",
    "# Weather columns to use\n",
    "weather_rolling_formodel = weather_update(80,output_df_lr)\n",
    "weather_cols = list(weather_rolling_formodel.columns)\n",
    "\n",
    "# Set columns to exlude from features matrix\n",
    "cols_to_exclude = ['Date','WnvPresent', 'NumMosquitos', 'DaysFrom', \n",
    "                   'Sunrise', 'Sunset',  'StationNum', 'Depth', 'SN', 'seasonal_baseline','Address',\n",
    "                   'Species', 'Block','Street','Trap', 'AddressAccuracy', 'AddressNumberAndStreet',\n",
    "                   'CULEX PIPIENS','STATION_DESCRIPTIVE_NAME', 'RED', 'BLUE',\n",
    "                   'G', 'BRN', 'P', 'Y', 'Pnk', 'O', 'Stop_Latitude', 'Stop_Longitude'\n",
    "                  ]\n",
    "\n",
    "dummies_to_combine = [df_species_dummies]\n",
    "\n",
    "X, y, model_cols, norm_dict = train_data_update(dummies_to_combine,\n",
    "                                                exclude_list=cols_to_exclude,\n",
    "                                                weather_list=weather_cols,\n",
    "                                                weather=weather_rolling_formodel)\n",
    "# This Model return a Kaggle Score of 0.76393 More than Model 1 and 2"
   ]
  },
  {
   "cell_type": "code",
   "execution_count": 1087,
   "metadata": {},
   "outputs": [
    {
     "name": "stdout",
     "output_type": "stream",
     "text": [
      "['Latitude', 'Longitude', 'RED', 'BLUE', 'G', 'BRN', 'P', 'Pnk', 'O', 'Month', 'YearDay', 'Tmax', 'Tmin', 'Tavg', 'DewPoint', 'WetBulb', 'Sunset', 'PrecipTotal', 'StnPressure', 'ResultSpeed', 'AvgSpeed', 'CULEX ERRATICUS', 'CULEX PIPIENS', 'CULEX PIPIENS/RESTUANS', 'CULEX RESTUANS', 'CULEX SALINARIUS', 'CULEX TARSALIS', 'CULEX TERRITANS']\n"
     ]
    }
   ],
   "source": [
    "# MODEL TEST # 4 - L Train Proximity, no weather code dummies\n",
    "\n",
    "# Weather columns to use\n",
    "weather_rolling_formodel = weather_update(80,output_df_lr)\n",
    "weather_cols = list(weather_rolling_formodel.columns)[0:17]\n",
    "\n",
    "# Set columns to exlude from features matrix\n",
    "cols_to_exclude = ['Date','WnvPresent', 'NumMosquitos', 'DaysFrom', 'Heat', 'Cool', 'Sunrise', 'SnowFall', \n",
    "                   'StationNum', 'Depth', 'SN', 'seasonal_baseline','Address','SeaLevel','ResultDir',\n",
    "                   'Species', 'Block','Street','Trap', 'AddressAccuracy', 'AddressNumberAndStreet',\n",
    "                   'CULEX PIPENS','STATION_DESCRIPTIVE_NAME','Stop_Latitude','Stop_Longitude','Y']\n",
    "\n",
    "dummies_to_combine = [df_species_dummies]\n",
    "\n",
    "X, y, model_cols, norm_dict = train_data_update(dummies_to_combine,\n",
    "                                                exclude_list=cols_to_exclude,\n",
    "                                                weather_list=weather_cols,\n",
    "                                                weather=weather_rolling_formodel)\n",
    "# This Model return a Kaggle Score of 0.77395 using log reg, More than other variations"
   ]
  },
  {
   "cell_type": "code",
   "execution_count": 1088,
   "metadata": {},
   "outputs": [],
   "source": [
    "\n",
    "#Stratification on Days From should ensure usable spread in time data. Should get most periods in train and test\n",
    "X_train, X_test, y_train, y_test = train_test_split(X, y, stratify=X.index, random_state=42)"
   ]
  },
  {
   "cell_type": "markdown",
   "metadata": {},
   "source": [
    "## 3.3 Model Tuning"
   ]
  },
  {
   "cell_type": "code",
   "execution_count": 1089,
   "metadata": {},
   "outputs": [],
   "source": [
    "def grid_search(parameterz,model,X_train,y_train):\n",
    "    gs = GridSearchCV(model,param_grid=parameterz,scoring='roc_auc')\n",
    "    gs.fit(X_train, y_train);\n",
    "    print(gs.best_params_)\n",
    "    return gs"
   ]
  },
  {
   "cell_type": "code",
   "execution_count": 1090,
   "metadata": {},
   "outputs": [
    {
     "name": "stdout",
     "output_type": "stream",
     "text": [
      "{'C': 0.05, 'penalty': 'l2', 'solver': 'newton-cg'}\n"
     ]
    }
   ],
   "source": [
    "# Use grid search function and save results for Logistic Regression\n",
    "paramz_lr = {\n",
    "    'penalty': ['l2'],\n",
    "    'C': [.01,0.05],\n",
    "    'solver' : ['liblinear', 'newton-cg', 'lbfgs']\n",
    "}\n",
    "lr = LogisticRegression(random_state=1)\n",
    "gs_lr = grid_search(paramz_lr,lr,X_train,y_train)"
   ]
  },
  {
   "cell_type": "code",
   "execution_count": 1091,
   "metadata": {},
   "outputs": [],
   "source": [
    "# Use grid search function and save results for SVC\n",
    "paramz_svc = {\n",
    "    'C': [0.1, 0.5, 1],\n",
    "    'kernel' : ['linear', 'poly', 'rbf', 'sigmoid']\n",
    "}\n",
    "svc = SVC(probability=True)\n",
    "#gs_svc = grid_search(paramz_svc,svc)"
   ]
  },
  {
   "cell_type": "code",
   "execution_count": 1092,
   "metadata": {},
   "outputs": [],
   "source": [
    "# Use grid search function and save results for ADA\n",
    "paramz_ada = {'n_estimators': [45,50,55]}\n",
    "ada = AdaBoostClassifier(random_state=42)\n",
    "#gs_ada = grid_search(paramz_ada,ada, X_train, y_train)"
   ]
  },
  {
   "cell_type": "markdown",
   "metadata": {},
   "source": [
    "## 3.3 Final Model Selection"
   ]
  },
  {
   "cell_type": "code",
   "execution_count": 1093,
   "metadata": {},
   "outputs": [],
   "source": [
    "our_model = gs_lr"
   ]
  },
  {
   "cell_type": "code",
   "execution_count": 1094,
   "metadata": {},
   "outputs": [
    {
     "name": "stdout",
     "output_type": "stream",
     "text": [
      "   base:  0.8050432076467811\n",
      "   seasonal:  0.7969601822779183\n"
     ]
    }
   ],
   "source": [
    "#get wnv predictors\n",
    "proba_array = [proba[1] for proba in our_model.predict_proba(X_test)]\n",
    "#find seasonal adjustment from year day\n",
    "adj_score = pd.Series(X_test.index.dayofyear, index=X_test.index).map(lambda x: seasonal_dict[x])\n",
    "\n",
    "print('   base: ', roc_auc_score(y_test, proba_array))\n",
    "print('   seasonal: ', roc_auc_score(y_test, proba_array + adj_score))"
   ]
  },
  {
   "cell_type": "markdown",
   "metadata": {},
   "source": [
    "### 3.31 ROC Curve"
   ]
  },
  {
   "cell_type": "code",
   "execution_count": 1095,
   "metadata": {},
   "outputs": [
    {
     "data": {
      "image/png": "[encoded data removed]",
      "text/plain": [
       "<Figure size 576x576 with 1 Axes>"
      ]
     },
     "metadata": {},
     "output_type": "display_data"
    }
   ],
   "source": [
    "#calculate the fpr and tpr for all thresholds of the classification\n",
    "\n",
    "fpr, tpr, threshold = roc_curve(y_test, proba_array)\n",
    "roc_auc = auc(fpr, tpr)\n",
    "\n",
    "plt.figure(figsize=(8,8))\n",
    "plt.plot(fpr, tpr, 'b', label = 'AUC = %0.2f' % roc_auc)\n",
    "plt.title('Receiver Operating Characteristic')\n",
    "plt.legend(loc = 'lower right')\n",
    "plt.plot([0, 1], [0, 1],'r--')\n",
    "plt.xlim([0, 1])\n",
    "plt.ylim([0, 1])\n",
    "plt.ylabel('True Positive Rate')\n",
    "plt.xlabel('False Positive Rate')\n",
    "plt.show();"
   ]
  },
  {
   "cell_type": "markdown",
   "metadata": {},
   "source": [
    "### 3.3.2 Coefficients"
   ]
  },
  {
   "cell_type": "code",
   "execution_count": 1096,
   "metadata": {},
   "outputs": [
    {
     "data": {
      "image/png": "[encoded data removed]",
      "text/plain": [
       "<Figure size 360x576 with 1 Axes>"
      ]
     },
     "metadata": {},
     "output_type": "display_data"
    }
   ],
   "source": [
    "# Examine Coefficients\n",
    "lr = LogisticRegression(C=0.1, random_state=42,solver='lbfgs')\n",
    "lr.fit(X_train,y_train)\n",
    "\n",
    "coefs = pd.DataFrame(lr.coef_,columns=X_train.columns).T\n",
    "coefs['ABS'] = coefs[0].abs()\n",
    "#Export coefficients for plotting in Tablaeu\n",
    "plt.figure(figsize=(5,8))\n",
    "coefs.sort_values(by='ABS', ascending=True)[0].plot(kind='barh', cmap='coolwarm');\n"
   ]
  },
  {
   "cell_type": "markdown",
   "metadata": {},
   "source": [
    "# <a class=\"anchor\" id=\"4.0-bullet\">4. Output</a>"
   ]
  },
  {
   "cell_type": "markdown",
   "metadata": {},
   "source": [
    "## 4.1 Transform test data"
   ]
  },
  {
   "cell_type": "code",
   "execution_count": 1097,
   "metadata": {},
   "outputs": [
    {
     "data": {
      "text/plain": [
       "(116293, 11)"
      ]
     },
     "execution_count": 1097,
     "metadata": {},
     "output_type": "execute_result"
    }
   ],
   "source": [
    "df_test = data_test\n",
    "df_test.shape"
   ]
  },
  {
   "cell_type": "markdown",
   "metadata": {},
   "source": [
    "### 4.1.1 Time Series"
   ]
  },
  {
   "cell_type": "code",
   "execution_count": 1098,
   "metadata": {},
   "outputs": [],
   "source": [
    "#Convert to Date Time from object\n",
    "df_test.loc[:, ['Date']]= pd.to_datetime(df_test['Date'])\n",
    "\n",
    "#Switch to DateTime Index\n",
    "df_test.index = df_test.Date\n",
    "\n",
    "#Create Days from start column for easy analysis\n",
    "\n",
    "df_test.loc[:, 'DaysFrom'] = df_test.index - pd.to_datetime(BeginDate)\n",
    "#extract date number from datetime entry. Should capture broad time dependence\n",
    "df_test.loc[:, 'DaysFrom'] = df_test['DaysFrom'].astype(str).str.replace(' days 00:00:00.000000000', '').astype(int)\n",
    "#Extract Month information\n",
    "df_test.loc[:, 'Month'] = df_test.index.month\n",
    "\n",
    "#Include yearday for seasonal adjustment later\n",
    "df_test['YearDay'] = df_test.index.dayofyear"
   ]
  },
  {
   "cell_type": "code",
   "execution_count": 1099,
   "metadata": {},
   "outputs": [],
   "source": [
    "#Get weekday dummies and add to test sit ---> IF WEEKDAY FEATURE USED <----\n",
    "'''df_test_weekday = pd.get_dummies(df_test.index.weekday_name)\n",
    "df_test_weekday.index = df_test.index\n",
    "df_test = pd.concat([df_test, df_test_weekday], axis=1)''';"
   ]
  },
  {
   "cell_type": "markdown",
   "metadata": {},
   "source": [
    "### 4.1.2 Categorical"
   ]
  },
  {
   "cell_type": "code",
   "execution_count": 1100,
   "metadata": {},
   "outputs": [
    {
     "name": "stdout",
     "output_type": "stream",
     "text": [
      "['UNSPECIFIED CULEX']\n"
     ]
    }
   ],
   "source": [
    "df_test_species = pd.get_dummies(df_test['Species'])\n",
    "# Check and print list of species in train data but not in test data\n",
    "species_to_drop = [col for col in df_test_species.columns if col not in df_species_dummies.columns]\n",
    "print(species_to_drop)"
   ]
  },
  {
   "cell_type": "code",
   "execution_count": 1101,
   "metadata": {},
   "outputs": [],
   "source": [
    "# If any species needs to be dropped, it will be done here before added to test datset\n",
    "df_test_species = df_test_species.drop(species_to_drop, axis=1)\n",
    "df_test = pd.concat([df_test,df_test_species], axis=1)"
   ]
  },
  {
   "cell_type": "code",
   "execution_count": 1102,
   "metadata": {},
   "outputs": [],
   "source": [
    "# Create dummy list of trap from test data and add back in\n",
    "df_test_trap = pd.get_dummies(df_test['Trap'])\n",
    "df_test = pd.concat([df_test,df_test_trap], axis=1)"
   ]
  },
  {
   "cell_type": "markdown",
   "metadata": {},
   "source": [
    "### 4.1.3 Weather"
   ]
  },
  {
   "cell_type": "code",
   "execution_count": 1103,
   "metadata": {},
   "outputs": [],
   "source": [
    "df_test = df_test.join(weather_rolling_formodel, how='left')"
   ]
  },
  {
   "cell_type": "markdown",
   "metadata": {},
   "source": [
    "### 4.1.4 L-Train"
   ]
  },
  {
   "cell_type": "code",
   "execution_count": 1104,
   "metadata": {},
   "outputs": [
    {
     "data": {
      "text/plain": [
       "(116293, 8)"
      ]
     },
     "execution_count": 1104,
     "metadata": {},
     "output_type": "execute_result"
    }
   ],
   "source": [
    "l_list =['RED',\"BLUE\",'G','BRN','P','Y','Pnk','O']\n",
    "\n",
    "lst = []\n",
    "for row in df_test['Trap']:\n",
    "    \n",
    "    add = df_locations[l_list].loc[row]\n",
    "    lst.append(list(add))\n",
    "    #print(len(lst))\n",
    "    \n",
    "df_stations_join = pd.DataFrame(lst,columns=l_list)\n",
    "\n",
    "\n",
    "df_stations_join.shape"
   ]
  },
  {
   "cell_type": "code",
   "execution_count": 1105,
   "metadata": {},
   "outputs": [],
   "source": [
    "df_stations_join.set_index(df_test.index, inplace=True);"
   ]
  },
  {
   "cell_type": "code",
   "execution_count": 1106,
   "metadata": {},
   "outputs": [],
   "source": [
    "df_test = pd.concat([df_test,df_stations_join], axis=1)"
   ]
  },
  {
   "cell_type": "markdown",
   "metadata": {},
   "source": [
    "### 4.1.5 Drops"
   ]
  },
  {
   "cell_type": "code",
   "execution_count": 1107,
   "metadata": {},
   "outputs": [],
   "source": [
    "df_test = df_test.drop(cols_to_drop, axis=1)"
   ]
  },
  {
   "cell_type": "markdown",
   "metadata": {},
   "source": [
    "#  <a class=\"anchor\" id=\"5.0-bullet\">5. Kaggle Submission</a>"
   ]
  },
  {
   "cell_type": "markdown",
   "metadata": {},
   "source": [
    "## 5.1 Fit to Test Data"
   ]
  },
  {
   "cell_type": "code",
   "execution_count": 1108,
   "metadata": {},
   "outputs": [
    {
     "data": {
      "text/plain": [
       "[]"
      ]
     },
     "execution_count": 1108,
     "metadata": {},
     "output_type": "execute_result"
    }
   ],
   "source": [
    "# Check to see if there is a mismatch in test data with train data, if anything will appear in the list\n",
    "df_test_X = df_test.loc[:, model_cols]\n",
    "[col for col in df_test_X.columns if col not in X.columns]"
   ]
  },
  {
   "cell_type": "code",
   "execution_count": 1109,
   "metadata": {},
   "outputs": [],
   "source": [
    "# Recall normalizer from before\n",
    "for col in model_cols:\n",
    "    _mean = norm_dict[col][0]\n",
    "    _std = norm_dict[col][1]\n",
    "    #Store for test data transform\n",
    "    #norm_dict[col] = [_mean, _std]\n",
    "\n",
    "    df_test_X.loc[:, col] = (df_test_X.loc[:, col] - _mean) / _std"
   ]
  },
  {
   "cell_type": "code",
   "execution_count": 1110,
   "metadata": {},
   "outputs": [],
   "source": [
    "df_test_preds = our_model.predict(df_test_X)"
   ]
  },
  {
   "cell_type": "code",
   "execution_count": 1111,
   "metadata": {},
   "outputs": [],
   "source": [
    "df_test_prob_array = our_model.predict_proba(df_test_X)\n",
    "df_test_probas = [proba[1] for proba in df_test_prob_array]"
   ]
  },
  {
   "cell_type": "code",
   "execution_count": 1112,
   "metadata": {},
   "outputs": [],
   "source": [
    "df_test_preds_adj =pd.Series(df_test_X.index.dayofyear, index=df_test_X.index).map(lambda x: seasonal_dict[x])"
   ]
  },
  {
   "cell_type": "markdown",
   "metadata": {},
   "source": [
    "## 5.2 Assess"
   ]
  },
  {
   "cell_type": "markdown",
   "metadata": {},
   "source": [
    "### 5.2.1 Probability Distributions"
   ]
  },
  {
   "cell_type": "code",
   "execution_count": 1113,
   "metadata": {},
   "outputs": [
    {
     "name": "stderr",
     "output_type": "stream",
     "text": [
      "/Users/macbookpro/anaconda3/lib/python3.6/site-packages/matplotlib/axes/_axes.py:6462: UserWarning: The 'normed' kwarg is deprecated, and has been replaced by the 'density' kwarg.\n",
      "  warnings.warn(\"The 'normed' kwarg is deprecated, and has been \"\n",
      "/Users/macbookpro/anaconda3/lib/python3.6/site-packages/matplotlib/axes/_axes.py:6462: UserWarning: The 'normed' kwarg is deprecated, and has been replaced by the 'density' kwarg.\n",
      "  warnings.warn(\"The 'normed' kwarg is deprecated, and has been \"\n",
      "/Users/macbookpro/anaconda3/lib/python3.6/site-packages/matplotlib/axes/_axes.py:6462: UserWarning: The 'normed' kwarg is deprecated, and has been replaced by the 'density' kwarg.\n",
      "  warnings.warn(\"The 'normed' kwarg is deprecated, and has been \"\n"
     ]
    },
    {
     "data": {
      "image/png": "[encoded data removed]",
      "text/plain": [
       "<Figure size 720x360 with 1 Axes>"
      ]
     },
     "metadata": {},
     "output_type": "display_data"
    }
   ],
   "source": [
    "plt.figure(figsize=(10,5))\n",
    "sns.distplot([proba[1] for proba in our_model.predict_proba(X_test)], color='blue', label='Train Prediction') #Train - test\n",
    "sns.distplot(df_test_probas, color='red', label='Test Prediction') #Test -Test before adjustment\n",
    "sns.distplot(df_test_preds_adj+df_test_probas, color='green', label='Test - Seasonal Adjusted') #Test -Test with adjustment\n",
    "\n",
    "plt.legend();\n"
   ]
  },
  {
   "cell_type": "code",
   "execution_count": 1114,
   "metadata": {},
   "outputs": [
    {
     "name": "stdout",
     "output_type": "stream",
     "text": [
      "   base model WNV predicitons:  0\n",
      "   adusted proba WNV predictions:  7443.0995313341555\n",
      "   predicted rate WNV adjusted:  0.06400298841146204\n"
     ]
    }
   ],
   "source": [
    "print('   base model WNV predicitons: ', df_test_preds.sum())\n",
    "print('   adusted proba WNV predictions: ', sum(df_test_preds_adj))\n",
    "print('   predicted rate WNV adjusted: ', sum(df_test_preds_adj)/len(df_test_preds_adj))"
   ]
  },
  {
   "cell_type": "markdown",
   "metadata": {},
   "source": [
    "## 5.3 Create Submission File"
   ]
  },
  {
   "cell_type": "code",
   "execution_count": 1115,
   "metadata": {},
   "outputs": [],
   "source": [
    "df_outputs = pd.DataFrame(df_test.Id)\n",
    "df_outputs['WnvPresent'] = df_test_probas #+ df_test_preds_adj #Simply 0 out if inappropriate\n",
    "df_outputs = df_outputs.reset_index().drop('Date', axis=1)"
   ]
  },
  {
   "cell_type": "code",
   "execution_count": 1116,
   "metadata": {},
   "outputs": [],
   "source": [
    "now_month = datetime.datetime.now().month\n",
    "now_day = datetime.datetime.now().day\n",
    "now_hour = datetime.datetime.now().hour\n",
    "now_minute = datetime.datetime.now().minute\n",
    "output_title = './Predictions_{}.{}_{}{}.csv'.format(now_month, now_day, now_hour, now_minute)"
   ]
  },
  {
   "cell_type": "code",
   "execution_count": 1117,
   "metadata": {},
   "outputs": [],
   "source": [
    "df_outputs.to_csv(output_title, index=False)"
   ]
  },
  {
   "cell_type": "code",
   "execution_count": 1118,
   "metadata": {},
   "outputs": [],
   "source": [
    "# That's All Folks!"
   ]
  },
  {
   "cell_type": "code",
   "execution_count": null,
   "metadata": {},
   "outputs": [],
   "source": []
  }
 ],
 "metadata": {
  "kernelspec": {
   "display_name": "Python 3",
   "language": "python",
   "name": "python3"
  },
  "language_info": {
   "codemirror_mode": {
    "name": "ipython",
    "version": 3
   },
   "file_extension": ".py",
   "mimetype": "text/x-python",
   "name": "python",
   "nbconvert_exporter": "python",
   "pygments_lexer": "ipython3",
   "version": "3.6.5"
  }
 },
 "nbformat": 4,
 "nbformat_minor": 2
}
