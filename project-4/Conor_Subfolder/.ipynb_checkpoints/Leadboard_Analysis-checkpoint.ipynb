{
 "cells": [
  {
   "cell_type": "code",
   "execution_count": 4,
   "metadata": {},
   "outputs": [],
   "source": [
    "import seaborn as sns\n",
    "import pandas as pd\n",
    "import numpy as np\n",
    "import scipy as sp\n",
    "from scipy import stats as stats\n",
    "import matplotlib.pyplot as plt\n",
    "\n",
    "from sklearn import metrics\n",
    "from sklearn.linear_model import LinearRegression\n",
    "lr = LinearRegression()\n",
    "from sklearn.linear_model import Ridge\n",
    "from sklearn.linear_model import Lasso\n",
    "\n",
    "from sklearn.model_selection import GridSearchCV, train_test_split, cross_val_score\n",
    "from sklearn.preprocessing import PolynomialFeatures, StandardScaler\n",
    "from sklearn.ensemble import RandomForestRegressor\n",
    "\n",
    "\n",
    "from sklearn.neighbors import KNeighborsClassifier, KNeighborsRegressor\n",
    "\n",
    "%matplotlib inline"
   ]
  },
  {
   "cell_type": "code",
   "execution_count": 5,
   "metadata": {},
   "outputs": [],
   "source": [
    "df_leaderboard = pd.DataFrame(pd.read_csv('./Data/predict-west-nile-virus-publicleaderboard.csv'))"
   ]
  },
  {
   "cell_type": "code",
   "execution_count": 6,
   "metadata": {},
   "outputs": [
    {
     "data": {
      "text/html": [
       "<div>\n",
       "<style scoped>\n",
       "    .dataframe tbody tr th:only-of-type {\n",
       "        vertical-align: middle;\n",
       "    }\n",
       "\n",
       "    .dataframe tbody tr th {\n",
       "        vertical-align: top;\n",
       "    }\n",
       "\n",
       "    .dataframe thead th {\n",
       "        text-align: right;\n",
       "    }\n",
       "</style>\n",
       "<table border=\"1\" class=\"dataframe\">\n",
       "  <thead>\n",
       "    <tr style=\"text-align: right;\">\n",
       "      <th></th>\n",
       "      <th>TeamId</th>\n",
       "      <th>TeamName</th>\n",
       "      <th>SubmissionDate</th>\n",
       "      <th>Score</th>\n",
       "    </tr>\n",
       "  </thead>\n",
       "  <tbody>\n",
       "    <tr>\n",
       "      <th>0</th>\n",
       "      <td>171926</td>\n",
       "      <td>inversion</td>\n",
       "      <td>2015-04-22 22:18:48</td>\n",
       "      <td>0.50000</td>\n",
       "    </tr>\n",
       "    <tr>\n",
       "      <th>1</th>\n",
       "      <td>171927</td>\n",
       "      <td>carl &amp; Damian &amp; Boat &amp; Arsenal</td>\n",
       "      <td>2015-04-22 22:19:11</td>\n",
       "      <td>0.64642</td>\n",
       "    </tr>\n",
       "    <tr>\n",
       "      <th>2</th>\n",
       "      <td>171927</td>\n",
       "      <td>carl &amp; Damian &amp; Boat &amp; Arsenal</td>\n",
       "      <td>2015-04-22 22:45:57</td>\n",
       "      <td>0.65864</td>\n",
       "    </tr>\n",
       "    <tr>\n",
       "      <th>3</th>\n",
       "      <td>171927</td>\n",
       "      <td>carl &amp; Damian &amp; Boat &amp; Arsenal</td>\n",
       "      <td>2015-04-22 22:53:56</td>\n",
       "      <td>0.66001</td>\n",
       "    </tr>\n",
       "    <tr>\n",
       "      <th>4</th>\n",
       "      <td>171952</td>\n",
       "      <td>:-)</td>\n",
       "      <td>2015-04-22 23:21:55</td>\n",
       "      <td>0.50000</td>\n",
       "    </tr>\n",
       "    <tr>\n",
       "      <th>5</th>\n",
       "      <td>171927</td>\n",
       "      <td>carl &amp; Damian &amp; Boat &amp; Arsenal</td>\n",
       "      <td>2015-04-22 23:42:00</td>\n",
       "      <td>0.74143</td>\n",
       "    </tr>\n",
       "    <tr>\n",
       "      <th>6</th>\n",
       "      <td>171962</td>\n",
       "      <td>Negar</td>\n",
       "      <td>2015-04-22 23:42:21</td>\n",
       "      <td>0.63694</td>\n",
       "    </tr>\n",
       "    <tr>\n",
       "      <th>7</th>\n",
       "      <td>171962</td>\n",
       "      <td>Negar</td>\n",
       "      <td>2015-04-22 23:50:51</td>\n",
       "      <td>0.65182</td>\n",
       "    </tr>\n",
       "    <tr>\n",
       "      <th>8</th>\n",
       "      <td>171981</td>\n",
       "      <td>XGBoost Start Code</td>\n",
       "      <td>2015-04-23 00:45:48</td>\n",
       "      <td>0.50000</td>\n",
       "    </tr>\n",
       "    <tr>\n",
       "      <th>9</th>\n",
       "      <td>171985</td>\n",
       "      <td>Paul H</td>\n",
       "      <td>2015-04-23 00:53:43</td>\n",
       "      <td>0.50000</td>\n",
       "    </tr>\n",
       "  </tbody>\n",
       "</table>\n",
       "</div>"
      ],
      "text/plain": [
       "   TeamId                        TeamName       SubmissionDate    Score\n",
       "0  171926                       inversion  2015-04-22 22:18:48  0.50000\n",
       "1  171927  carl & Damian & Boat & Arsenal  2015-04-22 22:19:11  0.64642\n",
       "2  171927  carl & Damian & Boat & Arsenal  2015-04-22 22:45:57  0.65864\n",
       "3  171927  carl & Damian & Boat & Arsenal  2015-04-22 22:53:56  0.66001\n",
       "4  171952                             :-)  2015-04-22 23:21:55  0.50000\n",
       "5  171927  carl & Damian & Boat & Arsenal  2015-04-22 23:42:00  0.74143\n",
       "6  171962                           Negar  2015-04-22 23:42:21  0.63694\n",
       "7  171962                           Negar  2015-04-22 23:50:51  0.65182\n",
       "8  171981              XGBoost Start Code  2015-04-23 00:45:48  0.50000\n",
       "9  171985                          Paul H  2015-04-23 00:53:43  0.50000"
      ]
     },
     "execution_count": 6,
     "metadata": {},
     "output_type": "execute_result"
    }
   ],
   "source": [
    "df_leaderboard.head(10)"
   ]
  },
  {
   "cell_type": "code",
   "execution_count": 7,
   "metadata": {},
   "outputs": [
    {
     "data": {
      "text/html": [
       "<div>\n",
       "<style scoped>\n",
       "    .dataframe tbody tr th:only-of-type {\n",
       "        vertical-align: middle;\n",
       "    }\n",
       "\n",
       "    .dataframe tbody tr th {\n",
       "        vertical-align: top;\n",
       "    }\n",
       "\n",
       "    .dataframe thead th {\n",
       "        text-align: right;\n",
       "    }\n",
       "</style>\n",
       "<table border=\"1\" class=\"dataframe\">\n",
       "  <thead>\n",
       "    <tr style=\"text-align: right;\">\n",
       "      <th></th>\n",
       "      <th>TeamId</th>\n",
       "      <th>Score</th>\n",
       "    </tr>\n",
       "  </thead>\n",
       "  <tbody>\n",
       "    <tr>\n",
       "      <th>count</th>\n",
       "      <td>7985.000000</td>\n",
       "      <td>7985.000000</td>\n",
       "    </tr>\n",
       "    <tr>\n",
       "      <th>mean</th>\n",
       "      <td>180832.609267</td>\n",
       "      <td>0.731994</td>\n",
       "    </tr>\n",
       "    <tr>\n",
       "      <th>std</th>\n",
       "      <td>5442.840562</td>\n",
       "      <td>0.086379</td>\n",
       "    </tr>\n",
       "    <tr>\n",
       "      <th>min</th>\n",
       "      <td>171918.000000</td>\n",
       "      <td>0.270530</td>\n",
       "    </tr>\n",
       "    <tr>\n",
       "      <th>25%</th>\n",
       "      <td>175840.000000</td>\n",
       "      <td>0.700380</td>\n",
       "    </tr>\n",
       "    <tr>\n",
       "      <th>50%</th>\n",
       "      <td>181561.000000</td>\n",
       "      <td>0.744510</td>\n",
       "    </tr>\n",
       "    <tr>\n",
       "      <th>75%</th>\n",
       "      <td>185079.000000</td>\n",
       "      <td>0.795130</td>\n",
       "    </tr>\n",
       "    <tr>\n",
       "      <th>max</th>\n",
       "      <td>189539.000000</td>\n",
       "      <td>0.890910</td>\n",
       "    </tr>\n",
       "  </tbody>\n",
       "</table>\n",
       "</div>"
      ],
      "text/plain": [
       "              TeamId        Score\n",
       "count    7985.000000  7985.000000\n",
       "mean   180832.609267     0.731994\n",
       "std      5442.840562     0.086379\n",
       "min    171918.000000     0.270530\n",
       "25%    175840.000000     0.700380\n",
       "50%    181561.000000     0.744510\n",
       "75%    185079.000000     0.795130\n",
       "max    189539.000000     0.890910"
      ]
     },
     "execution_count": 7,
     "metadata": {},
     "output_type": "execute_result"
    }
   ],
   "source": [
    "df_leaderboard.describe()"
   ]
  },
  {
   "cell_type": "code",
   "execution_count": 8,
   "metadata": {},
   "outputs": [],
   "source": [
    "import datetime as dt"
   ]
  },
  {
   "cell_type": "code",
   "execution_count": 9,
   "metadata": {},
   "outputs": [],
   "source": [
    "st_date = dt.date(2015,4,20)"
   ]
  },
  {
   "cell_type": "code",
   "execution_count": 10,
   "metadata": {},
   "outputs": [
    {
     "data": {
      "text/plain": [
       "TeamId                     int64\n",
       "TeamName                  object\n",
       "SubmissionDate    datetime64[ns]\n",
       "Score                    float64\n",
       "DaysFromStart              int64\n",
       "dtype: object"
      ]
     },
     "execution_count": 10,
     "metadata": {},
     "output_type": "execute_result"
    }
   ],
   "source": [
    "df_cleaned = df_leaderboard[(df_leaderboard.Score < 10e6)]\n",
    "df_cleaned['SubmissionDate'] = pd.to_datetime(df_cleaned['SubmissionDate'])\n",
    "df_cleaned['DaysFromStart'] = (df_cleaned['SubmissionDate'].dt.date- st_date)\n",
    "df_cleaned['DaysFromStart'] = df_cleaned['DaysFromStart'].dt.days\n",
    "df_cleaned.dtypes"
   ]
  },
  {
   "cell_type": "code",
   "execution_count": 11,
   "metadata": {},
   "outputs": [],
   "source": [
    "X = df_cleaned.loc[:,['DaysFromStart']]\n",
    "y= df_cleaned.Score"
   ]
  },
  {
   "cell_type": "code",
   "execution_count": 12,
   "metadata": {},
   "outputs": [
    {
     "data": {
      "text/plain": [
       "pandas.core.frame.DataFrame"
      ]
     },
     "execution_count": 12,
     "metadata": {},
     "output_type": "execute_result"
    }
   ],
   "source": [
    "type(X)"
   ]
  },
  {
   "cell_type": "code",
   "execution_count": 13,
   "metadata": {},
   "outputs": [
    {
     "name": "stderr",
     "output_type": "stream",
     "text": [
      "C:\\ProgramData\\Anaconda3\\lib\\site-packages\\matplotlib\\axes\\_axes.py:6462: UserWarning: The 'normed' kwarg is deprecated, and has been replaced by the 'density' kwarg.\n",
      "  warnings.warn(\"The 'normed' kwarg is deprecated, and has been \"\n"
     ]
    },
    {
     "data": {
      "text/plain": [
       "<matplotlib.axes._subplots.AxesSubplot at 0x2b570520f28>"
      ]
     },
     "execution_count": 13,
     "metadata": {},
     "output_type": "execute_result"
    },
    {
     "data": {
      "image/png": "[encoded data removed]",
      "text/plain": [
       "<Figure size 432x288 with 1 Axes>"
      ]
     },
     "metadata": {},
     "output_type": "display_data"
    }
   ],
   "source": [
    "sns.distplot(df_cleaned.Score)"
   ]
  },
  {
   "cell_type": "code",
   "execution_count": 14,
   "metadata": {},
   "outputs": [
    {
     "data": {
      "text/plain": [
       "[<matplotlib.lines.Line2D at 0x2b570b237f0>]"
      ]
     },
     "execution_count": 14,
     "metadata": {},
     "output_type": "execute_result"
    },
    {
     "data": {
      "image/png": "[encoded data removed]",
      "text/plain": [
       "<Figure size 432x288 with 1 Axes>"
      ]
     },
     "metadata": {},
     "output_type": "display_data"
    }
   ],
   "source": [
    "plt.plot(df_cleaned.DaysFromStart, df_cleaned.Score)"
   ]
  },
  {
   "cell_type": "code",
   "execution_count": 15,
   "metadata": {},
   "outputs": [],
   "source": [
    "sorted_scors = list(df_cleaned.Score.sort_values())"
   ]
  },
  {
   "cell_type": "code",
   "execution_count": 16,
   "metadata": {},
   "outputs": [],
   "source": [
    "count = len(sorted_scors)"
   ]
  },
  {
   "cell_type": "code",
   "execution_count": 17,
   "metadata": {},
   "outputs": [
    {
     "data": {
      "text/plain": [
       "7985"
      ]
     },
     "execution_count": 17,
     "metadata": {},
     "output_type": "execute_result"
    }
   ],
   "source": [
    "count"
   ]
  },
  {
   "cell_type": "code",
   "execution_count": 20,
   "metadata": {},
   "outputs": [
    {
     "data": {
      "text/plain": [
       "0.78301"
      ]
     },
     "execution_count": 20,
     "metadata": {},
     "output_type": "execute_result"
    }
   ],
   "source": [
    "sorted_scors[int(.6 * count)]"
   ]
  },
  {
   "cell_type": "code",
   "execution_count": 21,
   "metadata": {},
   "outputs": [
    {
     "data": {
      "text/plain": [
       "0.12010018785222291"
      ]
     },
     "execution_count": 21,
     "metadata": {},
     "output_type": "execute_result"
    }
   ],
   "source": [
    "closest = min(sorted_scors, key=lambda x: abs(x-0.64))\n",
    "\n",
    "sorted_scors.index(closest) / count"
   ]
  },
  {
   "cell_type": "markdown",
   "metadata": {},
   "source": [
    "## let's try this - kmeans"
   ]
  },
  {
   "cell_type": "code",
   "execution_count": 22,
   "metadata": {},
   "outputs": [],
   "source": [
    "#https://stackoverflow.com/questions/37374983/get-data-points-from-seaborn-distplot"
   ]
  },
  {
   "cell_type": "code",
   "execution_count": 23,
   "metadata": {},
   "outputs": [],
   "source": [
    "from sklearn.cluster import KMeans"
   ]
  },
  {
   "cell_type": "code",
   "execution_count": 24,
   "metadata": {},
   "outputs": [],
   "source": [
    "short_data = X\n",
    "short_data['Score'] = y"
   ]
  },
  {
   "cell_type": "code",
   "execution_count": 25,
   "metadata": {},
   "outputs": [],
   "source": [
    "alphabet=['a', 'b', 'c', 'd', 'e', 'f', 'g', 'h', 'i']"
   ]
  },
  {
   "cell_type": "code",
   "execution_count": 26,
   "metadata": {},
   "outputs": [
    {
     "data": {
      "text/plain": [
       "KMeans(algorithm='auto', copy_x=True, init='k-means++', max_iter=300,\n",
       "    n_clusters=4, n_init=10, n_jobs=1, precompute_distances='auto',\n",
       "    random_state=0, tol=0.0001, verbose=0)"
      ]
     },
     "execution_count": 26,
     "metadata": {},
     "output_type": "execute_result"
    }
   ],
   "source": [
    "checkn = 4\n",
    "kmm = KMeans(n_clusters=checkn, random_state=0).fit(short_data)\n",
    "kmm_model=KMeans(n_clusters=checkn, random_state=0)\n",
    "kmm_model.fit(short_data)"
   ]
  },
  {
   "cell_type": "code",
   "execution_count": 27,
   "metadata": {},
   "outputs": [
    {
     "data": {
      "text/plain": [
       "{0.6964306047669868: 'a', 0.751051704148895: 'b', 0.83319: 'c', 0.8833: 'd'}"
      ]
     },
     "execution_count": 27,
     "metadata": {},
     "output_type": "execute_result"
    }
   ],
   "source": [
    "k_means_list = [kmm.cluster_centers_[i][1] for i in range(checkn)]\n",
    "k_means_list = sorted(k_means_list)\n",
    "\n",
    "\n",
    "k_means_list = sorted(k_means_list)\n",
    "\n",
    "k_means_dict = {}\n",
    "for i in range(len(k_means_list)):\n",
    "    k_means_dict[k_means_list[i]] = alphabet[i]\n",
    "k_means_dict"
   ]
  },
  {
   "cell_type": "code",
   "execution_count": 28,
   "metadata": {},
   "outputs": [
    {
     "data": {
      "text/plain": [
       "'d'"
      ]
     },
     "execution_count": 28,
     "metadata": {},
     "output_type": "execute_result"
    }
   ],
   "source": [
    "_temp_list = [abs(45000 - i) for i in k_means_dict.keys()]\n",
    "k_means_dict[k_means_list[_temp_list.index(min(_temp_list))]]\n"
   ]
  },
  {
   "cell_type": "code",
   "execution_count": 29,
   "metadata": {},
   "outputs": [],
   "source": [
    "def get_k(number):\n",
    "    _temp_list = [abs(number - i) for i in k_means_dict.keys()]\n",
    "    return k_means_dict[k_means_list[_temp_list.index(min(_temp_list))]]\n",
    "    "
   ]
  },
  {
   "cell_type": "code",
   "execution_count": 33,
   "metadata": {},
   "outputs": [],
   "source": [
    "short_data['k_cat'] = short_data.Score\n",
    "\n",
    "short_data['k_cat'] =short_data['k_cat'].apply(lambda x: get_k(x))\n",
    "df_graphable = pd.concat([short_data, pd.get_dummies(short_data['k_cat'])], axis=1)"
   ]
  },
  {
   "cell_type": "code",
   "execution_count": 34,
   "metadata": {},
   "outputs": [],
   "source": [
    "df_temp = df_graphable.groupby(['k_cat']).mean()\n",
    "df_temp['k_catz'] = df_temp.index.values"
   ]
  },
  {
   "cell_type": "code",
   "execution_count": 35,
   "metadata": {},
   "outputs": [
    {
     "data": {
      "text/plain": [
       "<matplotlib.axes._subplots.AxesSubplot at 0x2b571594eb8>"
      ]
     },
     "execution_count": 35,
     "metadata": {},
     "output_type": "execute_result"
    },
    {
     "data": {
      "image/png": "[encoded data removed]",
      "text/plain": [
       "<Figure size 432x288 with 1 Axes>"
      ]
     },
     "metadata": {},
     "output_type": "display_data"
    }
   ],
   "source": [
    "sns.boxplot(x='k_cat', y='Score', data=df_graphable.sort_values(by='Score'))"
   ]
  },
  {
   "cell_type": "code",
   "execution_count": 44,
   "metadata": {},
   "outputs": [],
   "source": [
    "df_graphable = df_graphable.join(df_cleaned.TeamId, how='left')"
   ]
  },
  {
   "cell_type": "code",
   "execution_count": 105,
   "metadata": {},
   "outputs": [],
   "source": [
    "top_teams = list(df_graphable.loc[:, ['TeamId', 'Score']].groupby('TeamId').max().sort_values(by='Score', ascending = False).iloc[:20, 0:0].index)"
   ]
  },
  {
   "cell_type": "code",
   "execution_count": 109,
   "metadata": {},
   "outputs": [],
   "source": [
    "bottom_teams = list(df_graphable.loc[:, ['TeamId', 'Score']].groupby('TeamId').min().sort_values(by='Score', ascending = False).iloc[-20:, 0:0].index)"
   ]
  },
  {
   "cell_type": "code",
   "execution_count": 113,
   "metadata": {},
   "outputs": [],
   "source": [
    "both_team = [a for a in bottom_teams if a in top_teams]"
   ]
  },
  {
   "cell_type": "code",
   "execution_count": 115,
   "metadata": {
    "collapsed": true
   },
   "outputs": [
    {
     "data": {
      "text/plain": [
       "0       171926\n",
       "1         High\n",
       "2         High\n",
       "3         High\n",
       "4       171952\n",
       "5         High\n",
       "6       171962\n",
       "7       171962\n",
       "8       171981\n",
       "9       171985\n",
       "10      171988\n",
       "11      171991\n",
       "12      171997\n",
       "13      171981\n",
       "14      172007\n",
       "15      172011\n",
       "16      172015\n",
       "17      171981\n",
       "18      171985\n",
       "19      171997\n",
       "20      172033\n",
       "21      172033\n",
       "22      172040\n",
       "23      171988\n",
       "24      171985\n",
       "25        High\n",
       "26      172040\n",
       "27      172072\n",
       "28      172084\n",
       "29      172015\n",
       "         ...  \n",
       "7955       Low\n",
       "7956      High\n",
       "7957      High\n",
       "7958      High\n",
       "7959      High\n",
       "7960    186259\n",
       "7961    186259\n",
       "7962    186259\n",
       "7963    182874\n",
       "7964    182874\n",
       "7965    182874\n",
       "7966      High\n",
       "7967       Low\n",
       "7968    178363\n",
       "7969      High\n",
       "7970    184894\n",
       "7971    184902\n",
       "7972    184894\n",
       "7973    184894\n",
       "7974    184894\n",
       "7975    184894\n",
       "7976    184894\n",
       "7977    184894\n",
       "7978    184894\n",
       "7979    184894\n",
       "7980    184894\n",
       "7981      High\n",
       "7982      High\n",
       "7983    181577\n",
       "7984      High\n",
       "Name: TeamId, Length: 7985, dtype: object"
      ]
     },
     "execution_count": 115,
     "metadata": {},
     "output_type": "execute_result"
    }
   ],
   "source": [
    "df_graphable['TeamId'].apply(lambda x: 'Both' if x in both_team \n",
    "                             else ('High' if x in top_teams \n",
    "                                   else ('Low' if x in bottom_teams \n",
    "                                         else x )))"
   ]
  },
  {
   "cell_type": "code",
   "execution_count": 114,
   "metadata": {},
   "outputs": [],
   "source": [
    "df_graphable['RankGroup'] = df_graphable['TeamId'].apply(lambda x: 'High' if x in top_teams else x)\n",
    "df_graphable['RankGroup'] = df_graphable['RankGroup'].apply(lambda x: 'Low' if x in bottom_teams else x)\n",
    "df_graphable['RankGroup'] = df_graphable['RankGroup'].apply(lambda x: 'Both' if x in both_team else x)"
   ]
  },
  {
   "cell_type": "code",
   "execution_count": 103,
   "metadata": {},
   "outputs": [],
   "source": [
    "for i in range(len(df_graphable)):\n",
    "    if df_graphable.TeamId[i] in top_teams:\n",
    "        print('    ', df_graphable.TeamId[i])"
   ]
  },
  {
   "cell_type": "code",
   "execution_count": 94,
   "metadata": {},
   "outputs": [],
   "source": [
    "#Saves on next line"
   ]
  },
  {
   "cell_type": "code",
   "execution_count": 47,
   "metadata": {},
   "outputs": [],
   "source": [
    "df_graphable.loc[:, ['TeamId', 'DaysFromStart', 'Score', 'k_cat', 'a', 'b', 'c', 'd']].to_csv('./Data/CategorizedData4.csv', index=False)"
   ]
  },
  {
   "cell_type": "code",
   "execution_count": null,
   "metadata": {},
   "outputs": [],
   "source": []
  }
 ],
 "metadata": {
  "kernelspec": {
   "display_name": "Python 3",
   "language": "python",
   "name": "python3"
  },
  "language_info": {
   "codemirror_mode": {
    "name": "ipython",
    "version": 3
   },
   "file_extension": ".py",
   "mimetype": "text/x-python",
   "name": "python",
   "nbconvert_exporter": "python",
   "pygments_lexer": "ipython3",
   "version": "3.6.5"
  }
 },
 "nbformat": 4,
 "nbformat_minor": 2
}
