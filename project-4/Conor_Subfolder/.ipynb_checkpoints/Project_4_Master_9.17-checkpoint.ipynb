{
 "cells": [
  {
   "cell_type": "markdown",
   "metadata": {},
   "source": [
    "To Do:  \n",
    "-Seasonal baseline  \n",
    "-Pippens concentration break point\n",
    "-"
   ]
  },
  {
   "cell_type": "markdown",
   "metadata": {},
   "source": [
    "# PROJECT 4 - CHI CITY MOSQUITOS\n",
    "\n",
    "- James Babyak\n",
    "- Conor Barry-Hoke\n",
    "- Jerome Benton\n",
    "- Christopher Nowak"
   ]
  },
  {
   "cell_type": "markdown",
   "metadata": {},
   "source": [
    "## Objective"
   ]
  },
  {
   "cell_type": "markdown",
   "metadata": {},
   "source": [
    "Predict when and where different species of mosquitos will test positive for West Nile virus in the greater Chicago area"
   ]
  },
  {
   "cell_type": "markdown",
   "metadata": {},
   "source": [
    "## TOC"
   ]
  },
  {
   "cell_type": "markdown",
   "metadata": {},
   "source": [
    "0. [Imports](#first-bullet)\n",
    "1. [EDA](#1.0-bullet)\n",
    "2. [Data Transformation](#2.0-bullet)\n",
    "3. [Modelling](#3.0-bullet)\n",
    "4. [Output](#4.0-bullet)\n",
    "5. [Kaggle Submission](#5.0-bullet)"
   ]
  },
  {
   "cell_type": "markdown",
   "metadata": {},
   "source": [
    "# <a class=\"anchor\" id=\"first-bullet\">Imports</a>"
   ]
  },
  {
   "cell_type": "code",
   "execution_count": 1,
   "metadata": {},
   "outputs": [],
   "source": [
    "#Basic\n",
    "import pandas as pd\n",
    "import numpy as np\n",
    "#Math\n",
    "import scipy as sp\n",
    "from random import randint\n",
    "from math import exp\n",
    "import operator\n",
    "\n",
    "#Scraping\n",
    "'''import requests\n",
    "import json'''\n",
    "\n",
    "#Modeling\n",
    "from sklearn.model_selection import cross_val_score\n",
    "from sklearn.model_selection import train_test_split\n",
    "from sklearn.linear_model import LogisticRegression\n",
    "from sklearn.naive_bayes import MultinomialNB\n",
    "from sklearn.ensemble import RandomForestClassifier, AdaBoostClassifier, BaggingClassifier\n",
    "from sklearn.neighbors import KNeighborsClassifier\n",
    "from sklearn.cluster import KMeans\n",
    "from sklearn.svm import SVC\n",
    "from sklearn.metrics import confusion_matrix, roc_auc_score, roc_curve\n",
    "\n",
    "#NLP Processing\n",
    "'''from sklearn.feature_extraction import stop_words\n",
    "from sklearn.feature_extraction.text import CountVectorizer\n",
    "from sklearn.feature_extraction.text import TfidfVectorizer'''\n",
    "\n",
    "#Time analysis\n",
    "import time\n",
    "import datetime\n",
    "from statsmodels.tsa.stattools import pacf\n",
    "from statsmodels.graphics.tsaplots import plot_pacf\n",
    "\n",
    "#Plotting\n",
    "import matplotlib.pyplot as plt\n",
    "import seaborn as sns\n",
    "#from wordcloud import WordCloud\n",
    "\n",
    "%matplotlib inline"
   ]
  },
  {
   "cell_type": "markdown",
   "metadata": {},
   "source": [
    "# <a class=\"anchor\" id=\"1.0-bullet\"> 1. EDA</a>"
   ]
  },
  {
   "cell_type": "markdown",
   "metadata": {},
   "source": [
    "Four datasets available:\n",
    "- Train and test datasets of historical data for mosquitos caught in traps that tested positive for West Nile\n",
    "- Weather dataset of time period across all test and train data\n",
    "- Spray dataset of time and locations where mosquito control was implemented"
   ]
  },
  {
   "cell_type": "code",
   "execution_count": 2,
   "metadata": {},
   "outputs": [],
   "source": [
    "data_spray = pd.read_csv('./Data/spray.csv')\n",
    "data_weather = pd.read_csv('./Data/weather.csv')\n",
    "data_train = pd.read_csv('./Data/train.csv')\n",
    "data_test = pd.read_csv('./Data/test.csv')"
   ]
  },
  {
   "cell_type": "code",
   "execution_count": 3,
   "metadata": {},
   "outputs": [],
   "source": [
    "df_train = data_train #Don't edit the initial frame. For recovery"
   ]
  },
  {
   "cell_type": "code",
   "execution_count": 4,
   "metadata": {},
   "outputs": [],
   "source": [
    "#Convert to Date Time from object\n",
    "df_train.loc[:, ['Date']]= pd.to_datetime(df_train['Date'])\n",
    "\n",
    "#Switch to DateTime Index\n",
    "df_train.index = df_train.Date"
   ]
  },
  {
   "cell_type": "code",
   "execution_count": null,
   "metadata": {},
   "outputs": [],
   "source": [
    "df_train.index.d"
   ]
  },
  {
   "cell_type": "code",
   "execution_count": null,
   "metadata": {},
   "outputs": [],
   "source": []
  },
  {
   "cell_type": "code",
   "execution_count": 120,
   "metadata": {},
   "outputs": [],
   "source": [
    "temp = pd.to_datetime(data_test.Date)"
   ]
  },
  {
   "cell_type": "markdown",
   "metadata": {},
   "source": [
    "## 1.2 Feature Analysis"
   ]
  },
  {
   "cell_type": "code",
   "execution_count": 5,
   "metadata": {},
   "outputs": [
    {
     "data": {
      "text/plain": [
       "0    0.947554\n",
       "1    0.052446\n",
       "Name: WnvPresent, dtype: float64"
      ]
     },
     "execution_count": 5,
     "metadata": {},
     "output_type": "execute_result"
    }
   ],
   "source": [
    "# 5.2% of all readings tested positive for West Nile\n",
    "data_train['WnvPresent'].value_counts(normalize=True)"
   ]
  },
  {
   "cell_type": "code",
   "execution_count": 6,
   "metadata": {},
   "outputs": [
    {
     "data": {
      "text/html": [
       "<div>\n",
       "<style scoped>\n",
       "    .dataframe tbody tr th:only-of-type {\n",
       "        vertical-align: middle;\n",
       "    }\n",
       "\n",
       "    .dataframe tbody tr th {\n",
       "        vertical-align: top;\n",
       "    }\n",
       "\n",
       "    .dataframe thead th {\n",
       "        text-align: right;\n",
       "    }\n",
       "</style>\n",
       "<table border=\"1\" class=\"dataframe\">\n",
       "  <thead>\n",
       "    <tr style=\"text-align: right;\">\n",
       "      <th></th>\n",
       "      <th>WnvPresent</th>\n",
       "    </tr>\n",
       "    <tr>\n",
       "      <th>Species</th>\n",
       "      <th></th>\n",
       "    </tr>\n",
       "  </thead>\n",
       "  <tbody>\n",
       "    <tr>\n",
       "      <th>CULEX ERRATICUS</th>\n",
       "      <td>0.000000</td>\n",
       "    </tr>\n",
       "    <tr>\n",
       "      <th>CULEX PIPIENS</th>\n",
       "      <td>0.088922</td>\n",
       "    </tr>\n",
       "    <tr>\n",
       "      <th>CULEX PIPIENS/RESTUANS</th>\n",
       "      <td>0.055135</td>\n",
       "    </tr>\n",
       "    <tr>\n",
       "      <th>CULEX RESTUANS</th>\n",
       "      <td>0.017883</td>\n",
       "    </tr>\n",
       "    <tr>\n",
       "      <th>CULEX SALINARIUS</th>\n",
       "      <td>0.000000</td>\n",
       "    </tr>\n",
       "    <tr>\n",
       "      <th>CULEX TARSALIS</th>\n",
       "      <td>0.000000</td>\n",
       "    </tr>\n",
       "    <tr>\n",
       "      <th>CULEX TERRITANS</th>\n",
       "      <td>0.000000</td>\n",
       "    </tr>\n",
       "  </tbody>\n",
       "</table>\n",
       "</div>"
      ],
      "text/plain": [
       "                        WnvPresent\n",
       "Species                           \n",
       "CULEX ERRATICUS           0.000000\n",
       "CULEX PIPIENS             0.088922\n",
       "CULEX PIPIENS/RESTUANS    0.055135\n",
       "CULEX RESTUANS            0.017883\n",
       "CULEX SALINARIUS          0.000000\n",
       "CULEX TARSALIS            0.000000\n",
       "CULEX TERRITANS           0.000000"
      ]
     },
     "execution_count": 6,
     "metadata": {},
     "output_type": "execute_result"
    }
   ],
   "source": [
    "# Certain Species had a higher rate of occurance than others\n",
    "data_train['WnvPresent'].groupby(data_train['Species']).mean().to_frame()"
   ]
  },
  {
   "cell_type": "code",
   "execution_count": 7,
   "metadata": {},
   "outputs": [
    {
     "data": {
      "text/plain": [
       "CULEX PIPIENS/RESTUANS    4752\n",
       "CULEX RESTUANS            2740\n",
       "CULEX PIPIENS             2699\n",
       "CULEX TERRITANS            222\n",
       "CULEX SALINARIUS            86\n",
       "CULEX TARSALIS               6\n",
       "CULEX ERRATICUS              1\n",
       "Name: Species, dtype: int64"
      ]
     },
     "execution_count": 7,
     "metadata": {},
     "output_type": "execute_result"
    }
   ],
   "source": [
    "# Count of mosquito occurred by species\n",
    "data_train['Species'].value_counts()"
   ]
  },
  {
   "cell_type": "code",
   "execution_count": 38,
   "metadata": {},
   "outputs": [
    {
     "data": {
      "text/html": [
       "<div>\n",
       "<style scoped>\n",
       "    .dataframe tbody tr th:only-of-type {\n",
       "        vertical-align: middle;\n",
       "    }\n",
       "\n",
       "    .dataframe tbody tr th {\n",
       "        vertical-align: top;\n",
       "    }\n",
       "\n",
       "    .dataframe thead th {\n",
       "        text-align: right;\n",
       "    }\n",
       "</style>\n",
       "<table border=\"1\" class=\"dataframe\">\n",
       "  <thead>\n",
       "    <tr style=\"text-align: right;\">\n",
       "      <th></th>\n",
       "      <th>WnvPresent</th>\n",
       "    </tr>\n",
       "    <tr>\n",
       "      <th>Trap</th>\n",
       "      <th></th>\n",
       "    </tr>\n",
       "  </thead>\n",
       "  <tbody>\n",
       "    <tr>\n",
       "      <th>T900</th>\n",
       "      <td>66</td>\n",
       "    </tr>\n",
       "    <tr>\n",
       "      <th>T115</th>\n",
       "      <td>41</td>\n",
       "    </tr>\n",
       "    <tr>\n",
       "      <th>T002</th>\n",
       "      <td>18</td>\n",
       "    </tr>\n",
       "    <tr>\n",
       "      <th>T138</th>\n",
       "      <td>16</td>\n",
       "    </tr>\n",
       "    <tr>\n",
       "      <th>T003</th>\n",
       "      <td>14</td>\n",
       "    </tr>\n",
       "    <tr>\n",
       "      <th>T011</th>\n",
       "      <td>11</td>\n",
       "    </tr>\n",
       "    <tr>\n",
       "      <th>T225</th>\n",
       "      <td>11</td>\n",
       "    </tr>\n",
       "    <tr>\n",
       "      <th>T128</th>\n",
       "      <td>11</td>\n",
       "    </tr>\n",
       "    <tr>\n",
       "      <th>T903</th>\n",
       "      <td>10</td>\n",
       "    </tr>\n",
       "    <tr>\n",
       "      <th>T008</th>\n",
       "      <td>10</td>\n",
       "    </tr>\n",
       "  </tbody>\n",
       "</table>\n",
       "</div>"
      ],
      "text/plain": [
       "      WnvPresent\n",
       "Trap            \n",
       "T900          66\n",
       "T115          41\n",
       "T002          18\n",
       "T138          16\n",
       "T003          14\n",
       "T011          11\n",
       "T225          11\n",
       "T128          11\n",
       "T903          10\n",
       "T008          10"
      ]
     },
     "execution_count": 38,
     "metadata": {},
     "output_type": "execute_result"
    }
   ],
   "source": [
    "# Top ten traps by occurance of West Nile testing positive\n",
    "trap_freq = data_train[['WnvPresent']].groupby([data_train['Trap']]).sum().sort_values('WnvPresent', ascending=False).head(10)\n",
    "trap_freq"
   ]
  },
  {
   "cell_type": "code",
   "execution_count": 39,
   "metadata": {},
   "outputs": [
    {
     "data": {
      "text/plain": [
       "WnvPresent    0.377495\n",
       "dtype: float64"
      ]
     },
     "execution_count": 39,
     "metadata": {},
     "output_type": "execute_result"
    }
   ],
   "source": [
    "#Top ten traps account for 38% of total occurences\n",
    "trap_freq.sum() / data_train['WnvPresent'].sum()"
   ]
  },
  {
   "cell_type": "markdown",
   "metadata": {},
   "source": [
    "### 1.2.1 West Nile Yearly Trends"
   ]
  },
  {
   "cell_type": "code",
   "execution_count": 40,
   "metadata": {},
   "outputs": [
    {
     "data": {
      "text/plain": [
       "[<matplotlib.lines.Line2D at 0x1f0e2e2e710>]"
      ]
     },
     "execution_count": 40,
     "metadata": {},
     "output_type": "execute_result"
    },
    {
     "data": {
      "image/png": "[encoded data removed]",
      "text/plain": [
       "<Figure size 1440x720 with 1 Axes>"
      ]
     },
     "metadata": {},
     "output_type": "display_data"
    }
   ],
   "source": [
    "# 2007 and 2013 had more occurances of west nile than 2009 and 2011\n",
    "plt.figure(figsize=(20,10))\n",
    "plt.plot(df_train['WnvPresent'].resample('D').sum().rolling(window=14).mean(), alpha=1, lw=2)"
   ]
  },
  {
   "cell_type": "markdown",
   "metadata": {},
   "source": [
    "### 1.2.2 Additional Feature Research after Initial Model"
   ]
  },
  {
   "cell_type": "code",
   "execution_count": null,
   "metadata": {},
   "outputs": [],
   "source": []
  },
  {
   "cell_type": "code",
   "execution_count": null,
   "metadata": {},
   "outputs": [],
   "source": []
  },
  {
   "cell_type": "code",
   "execution_count": null,
   "metadata": {},
   "outputs": [],
   "source": []
  },
  {
   "cell_type": "code",
   "execution_count": null,
   "metadata": {},
   "outputs": [],
   "source": []
  },
  {
   "cell_type": "markdown",
   "metadata": {},
   "source": [
    "# <a class=\"anchor\" id=\"2.0-bullet\">2. Data Transformation </a>"
   ]
  },
  {
   "cell_type": "markdown",
   "metadata": {},
   "source": [
    "## 2.1 Weather Slice"
   ]
  },
  {
   "cell_type": "markdown",
   "metadata": {},
   "source": [
    "There are two weather stations in the main weather file: 1 for O'hare and 2 for Midway.\n",
    "O'hare is a more complete dataset, so we will start by using only this location."
   ]
  },
  {
   "cell_type": "code",
   "execution_count": 6,
   "metadata": {},
   "outputs": [],
   "source": [
    "weather_station_1 = data_weather.loc[data_weather.Station==1, :]\n",
    "weather_station_2 = data_weather.loc[data_weather.Station==2, :]"
   ]
  },
  {
   "cell_type": "code",
   "execution_count": 7,
   "metadata": {},
   "outputs": [],
   "source": [
    "weather_station_1 = weather_station_1.drop('Station', axis=1)\n",
    "weather_station_2 = weather_station_2.drop('Station', axis=1)"
   ]
  },
  {
   "cell_type": "code",
   "execution_count": 8,
   "metadata": {},
   "outputs": [],
   "source": [
    "# Convert Date to datetime format \n",
    "weather_station_1.loc[:, ['Date']] = pd.to_datetime(weather_station_1.Date)\n",
    "weather_station_2.loc[:, ['Date']] = pd.to_datetime(weather_station_2.Date)"
   ]
  },
  {
   "cell_type": "code",
   "execution_count": 9,
   "metadata": {},
   "outputs": [],
   "source": [
    "# Set index to Date\n",
    "weather_station_1.index = weather_station_1.Date\n",
    "weather_station_2.index = weather_station_2.Date"
   ]
  },
  {
   "cell_type": "markdown",
   "metadata": {},
   "source": [
    "## 2.2 Weather Convert Objects"
   ]
  },
  {
   "cell_type": "code",
   "execution_count": 10,
   "metadata": {},
   "outputs": [],
   "source": [
    "# Convert Avg Temperature to float\n",
    "weather_station_1.loc[:, ['Tavg']] = weather_station_1['Tavg'].astype('float64')"
   ]
  },
  {
   "cell_type": "code",
   "execution_count": 11,
   "metadata": {},
   "outputs": [],
   "source": [
    "# Convert Trace amount of rainfall and Precip from 'T' to value\n",
    "weather_station_1.loc[:, ['PrecipTotal']] = \\\n",
    "weather_station_1['PrecipTotal'].map(lambda x: .001 if x=='  T' else x).astype(float)\n",
    "weather_station_1.loc[:, ['SnowFall']] = \\\n",
    "weather_station_1['SnowFall'].map(lambda x: .001 if x=='  T' else x).astype(float)"
   ]
  },
  {
   "cell_type": "code",
   "execution_count": 12,
   "metadata": {},
   "outputs": [],
   "source": [
    "# Drop unecessary columns\n",
    "weather_station_1 = weather_station_1.drop('Depart', axis=1)\n",
    "weather_station_1 = weather_station_1.drop('Water1', axis=1)"
   ]
  },
  {
   "cell_type": "code",
   "execution_count": 13,
   "metadata": {},
   "outputs": [
    {
     "data": {
      "text/plain": [
       "Date           0\n",
       "Tmax           0\n",
       "Tmin           0\n",
       "Tavg           0\n",
       "DewPoint       0\n",
       "WetBulb        3\n",
       "Heat           0\n",
       "Cool           0\n",
       "Sunrise        0\n",
       "Sunset         0\n",
       "CodeSum        0\n",
       "Depth          0\n",
       "SnowFall       0\n",
       "PrecipTotal    0\n",
       "StnPressure    2\n",
       "SeaLevel       5\n",
       "ResultSpeed    0\n",
       "ResultDir      0\n",
       "AvgSpeed       0\n",
       "dtype: int64"
      ]
     },
     "execution_count": 13,
     "metadata": {},
     "output_type": "execute_result"
    }
   ],
   "source": [
    "# There are three columns with a 'M' that will need to be replaced\n",
    "weather_station_1[weather_station_1 == 'M'].count()"
   ]
  },
  {
   "cell_type": "code",
   "execution_count": 14,
   "metadata": {},
   "outputs": [],
   "source": [
    "# ONLY RUN THIS CELL ONCE\n",
    "#find means without 'M' values and fill in blank - less than 5 for each\n",
    "stnpressure_mean = weather_station_1[weather_station_1['StnPressure']!='M']['StnPressure'].astype(float).mean()\n",
    "sealevel_mean = weather_station_1[weather_station_1['SeaLevel']!='M']['SeaLevel'].astype(float).mean()\n",
    "wetbulb_mean = weather_station_1[weather_station_1['WetBulb']!='M']['WetBulb'].astype(float).mean()\n",
    "\n",
    "#Replace M with mean, leave others alone\n",
    "weather_station_1.loc[:, 'StnPressure'] = \\\n",
    "weather_station_1['StnPressure'].map(lambda x: stnpressure_mean if x=='M' else x).astype(float);\n",
    "\n",
    "weather_station_1.loc[:, 'SeaLevel'] = \\\n",
    "weather_station_1['SeaLevel'].map(lambda x: sealevel_mean if x=='M' else x).astype(float)\n",
    "\n",
    "weather_station_1.loc[:, 'WetBulb'] = \\\n",
    "weather_station_1['WetBulb'].map(lambda x: wetbulb_mean if x=='M' else x).astype(float);"
   ]
  },
  {
   "cell_type": "markdown",
   "metadata": {},
   "source": [
    "## 2.3 Complete Weather dataframe"
   ]
  },
  {
   "cell_type": "code",
   "execution_count": 15,
   "metadata": {},
   "outputs": [
    {
     "data": {
      "text/html": [
       "<div>\n",
       "<style scoped>\n",
       "    .dataframe tbody tr th:only-of-type {\n",
       "        vertical-align: middle;\n",
       "    }\n",
       "\n",
       "    .dataframe tbody tr th {\n",
       "        vertical-align: top;\n",
       "    }\n",
       "\n",
       "    .dataframe thead th {\n",
       "        text-align: right;\n",
       "    }\n",
       "</style>\n",
       "<table border=\"1\" class=\"dataframe\">\n",
       "  <thead>\n",
       "    <tr style=\"text-align: right;\">\n",
       "      <th></th>\n",
       "      <th>Date</th>\n",
       "      <th>Tmax</th>\n",
       "      <th>Tmin</th>\n",
       "      <th>Tavg</th>\n",
       "      <th>DewPoint</th>\n",
       "      <th>WetBulb</th>\n",
       "      <th>Heat</th>\n",
       "      <th>Cool</th>\n",
       "      <th>Sunrise</th>\n",
       "      <th>Sunset</th>\n",
       "      <th>CodeSum</th>\n",
       "      <th>Depth</th>\n",
       "      <th>SnowFall</th>\n",
       "      <th>PrecipTotal</th>\n",
       "      <th>StnPressure</th>\n",
       "      <th>SeaLevel</th>\n",
       "      <th>ResultSpeed</th>\n",
       "      <th>ResultDir</th>\n",
       "      <th>AvgSpeed</th>\n",
       "    </tr>\n",
       "    <tr>\n",
       "      <th>Date</th>\n",
       "      <th></th>\n",
       "      <th></th>\n",
       "      <th></th>\n",
       "      <th></th>\n",
       "      <th></th>\n",
       "      <th></th>\n",
       "      <th></th>\n",
       "      <th></th>\n",
       "      <th></th>\n",
       "      <th></th>\n",
       "      <th></th>\n",
       "      <th></th>\n",
       "      <th></th>\n",
       "      <th></th>\n",
       "      <th></th>\n",
       "      <th></th>\n",
       "      <th></th>\n",
       "      <th></th>\n",
       "      <th></th>\n",
       "    </tr>\n",
       "  </thead>\n",
       "  <tbody>\n",
       "    <tr>\n",
       "      <th>2007-05-01</th>\n",
       "      <td>2007-05-01</td>\n",
       "      <td>83</td>\n",
       "      <td>50</td>\n",
       "      <td>67.0</td>\n",
       "      <td>51</td>\n",
       "      <td>56.0</td>\n",
       "      <td>0</td>\n",
       "      <td>2</td>\n",
       "      <td>0448</td>\n",
       "      <td>1849</td>\n",
       "      <td></td>\n",
       "      <td>0</td>\n",
       "      <td>0.0</td>\n",
       "      <td>0.000</td>\n",
       "      <td>29.10</td>\n",
       "      <td>29.82</td>\n",
       "      <td>1.7</td>\n",
       "      <td>27</td>\n",
       "      <td>9.2</td>\n",
       "    </tr>\n",
       "    <tr>\n",
       "      <th>2007-05-02</th>\n",
       "      <td>2007-05-02</td>\n",
       "      <td>59</td>\n",
       "      <td>42</td>\n",
       "      <td>51.0</td>\n",
       "      <td>42</td>\n",
       "      <td>47.0</td>\n",
       "      <td>14</td>\n",
       "      <td>0</td>\n",
       "      <td>0447</td>\n",
       "      <td>1850</td>\n",
       "      <td>BR</td>\n",
       "      <td>0</td>\n",
       "      <td>0.0</td>\n",
       "      <td>0.000</td>\n",
       "      <td>29.38</td>\n",
       "      <td>30.09</td>\n",
       "      <td>13.0</td>\n",
       "      <td>4</td>\n",
       "      <td>13.4</td>\n",
       "    </tr>\n",
       "    <tr>\n",
       "      <th>2007-05-03</th>\n",
       "      <td>2007-05-03</td>\n",
       "      <td>66</td>\n",
       "      <td>46</td>\n",
       "      <td>56.0</td>\n",
       "      <td>40</td>\n",
       "      <td>48.0</td>\n",
       "      <td>9</td>\n",
       "      <td>0</td>\n",
       "      <td>0446</td>\n",
       "      <td>1851</td>\n",
       "      <td></td>\n",
       "      <td>0</td>\n",
       "      <td>0.0</td>\n",
       "      <td>0.000</td>\n",
       "      <td>29.39</td>\n",
       "      <td>30.12</td>\n",
       "      <td>11.7</td>\n",
       "      <td>7</td>\n",
       "      <td>11.9</td>\n",
       "    </tr>\n",
       "    <tr>\n",
       "      <th>2007-05-04</th>\n",
       "      <td>2007-05-04</td>\n",
       "      <td>66</td>\n",
       "      <td>49</td>\n",
       "      <td>58.0</td>\n",
       "      <td>41</td>\n",
       "      <td>50.0</td>\n",
       "      <td>7</td>\n",
       "      <td>0</td>\n",
       "      <td>0444</td>\n",
       "      <td>1852</td>\n",
       "      <td>RA</td>\n",
       "      <td>0</td>\n",
       "      <td>0.0</td>\n",
       "      <td>0.001</td>\n",
       "      <td>29.31</td>\n",
       "      <td>30.05</td>\n",
       "      <td>10.4</td>\n",
       "      <td>8</td>\n",
       "      <td>10.8</td>\n",
       "    </tr>\n",
       "    <tr>\n",
       "      <th>2007-05-05</th>\n",
       "      <td>2007-05-05</td>\n",
       "      <td>66</td>\n",
       "      <td>53</td>\n",
       "      <td>60.0</td>\n",
       "      <td>38</td>\n",
       "      <td>49.0</td>\n",
       "      <td>5</td>\n",
       "      <td>0</td>\n",
       "      <td>0443</td>\n",
       "      <td>1853</td>\n",
       "      <td></td>\n",
       "      <td>0</td>\n",
       "      <td>0.0</td>\n",
       "      <td>0.001</td>\n",
       "      <td>29.40</td>\n",
       "      <td>30.10</td>\n",
       "      <td>11.7</td>\n",
       "      <td>7</td>\n",
       "      <td>12.0</td>\n",
       "    </tr>\n",
       "  </tbody>\n",
       "</table>\n",
       "</div>"
      ],
      "text/plain": [
       "                 Date  Tmax  Tmin  Tavg  DewPoint  WetBulb Heat Cool Sunrise  \\\n",
       "Date                                                                           \n",
       "2007-05-01 2007-05-01    83    50  67.0        51     56.0    0    2    0448   \n",
       "2007-05-02 2007-05-02    59    42  51.0        42     47.0   14    0    0447   \n",
       "2007-05-03 2007-05-03    66    46  56.0        40     48.0    9    0    0446   \n",
       "2007-05-04 2007-05-04    66    49  58.0        41     50.0    7    0    0444   \n",
       "2007-05-05 2007-05-05    66    53  60.0        38     49.0    5    0    0443   \n",
       "\n",
       "           Sunset CodeSum Depth  SnowFall  PrecipTotal  StnPressure  SeaLevel  \\\n",
       "Date                                                                            \n",
       "2007-05-01   1849             0       0.0        0.000        29.10     29.82   \n",
       "2007-05-02   1850      BR     0       0.0        0.000        29.38     30.09   \n",
       "2007-05-03   1851             0       0.0        0.000        29.39     30.12   \n",
       "2007-05-04   1852      RA     0       0.0        0.001        29.31     30.05   \n",
       "2007-05-05   1853             0       0.0        0.001        29.40     30.10   \n",
       "\n",
       "            ResultSpeed  ResultDir AvgSpeed  \n",
       "Date                                         \n",
       "2007-05-01          1.7         27      9.2  \n",
       "2007-05-02         13.0          4     13.4  \n",
       "2007-05-03         11.7          7     11.9  \n",
       "2007-05-04         10.4          8     10.8  \n",
       "2007-05-05         11.7          7     12.0  "
      ]
     },
     "execution_count": 15,
     "metadata": {},
     "output_type": "execute_result"
    }
   ],
   "source": [
    "weather_station_1.head()"
   ]
  },
  {
   "cell_type": "markdown",
   "metadata": {},
   "source": [
    "### 2.3.1 Addition Weather Features"
   ]
  },
  {
   "cell_type": "code",
   "execution_count": 16,
   "metadata": {},
   "outputs": [],
   "source": [
    "#Create dummy columns for weather codes\n",
    "\n",
    "#list all columns\n",
    "templist = [element for element in weather_station_1['CodeSum'].str.split(' ').tolist()]\n",
    "newl = []\n",
    "#get all tags\n",
    "for element in templist:\n",
    "    for subelement in element:\n",
    "        newl.append(subelement)\n",
    "Codes_list = list(set(newl))\n",
    "Codes_list.pop(0)\n",
    "\n",
    "#Create new columns and score 1 if present in original CodeSum value\n",
    "for code in Codes_list:\n",
    "    weather_station_1.loc[:, code] = weather_station_1['CodeSum'].str.contains(code)*1\n",
    "weather_station_1 = weather_station_1.drop('CodeSum', axis=1)"
   ]
  },
  {
   "cell_type": "code",
   "execution_count": 17,
   "metadata": {},
   "outputs": [],
   "source": [
    "#Convert remaining cols to float. Leftover errors from station 2\n",
    "obj_cols = [col for col in weather_station_1.columns if weather_station_1[col].dtype=='object']\n",
    "for col in weather_station_1:\n",
    "    if col in obj_cols:\n",
    "        weather_station_1.loc[:, col] = weather_station_1[col].astype('float64')"
   ]
  },
  {
   "cell_type": "markdown",
   "metadata": {},
   "source": [
    "### 2.3.2 Ws 2"
   ]
  },
  {
   "cell_type": "code",
   "execution_count": 20,
   "metadata": {},
   "outputs": [],
   "source": [
    "weather_station_2 = weather_station_2.drop(['Depart', 'Depth', 'Water1', 'SnowFall'], axis=1)"
   ]
  },
  {
   "cell_type": "code",
   "execution_count": 21,
   "metadata": {},
   "outputs": [
    {
     "name": "stdout",
     "output_type": "stream",
     "text": [
      "    Tavg 11\n",
      "    WetBulb 1\n",
      "    Heat 11\n",
      "    Cool 11\n",
      "    PrecipTotal 2\n",
      "    StnPressure 2\n",
      "    SeaLevel 4\n",
      "    AvgSpeed 3\n"
     ]
    },
    {
     "name": "stderr",
     "output_type": "stream",
     "text": [
      "C:\\ProgramData\\Anaconda3\\lib\\site-packages\\pandas\\core\\ops.py:1164: FutureWarning: elementwise comparison failed; returning scalar instead, but in the future will perform elementwise comparison\n",
      "  result = method(y)\n"
     ]
    }
   ],
   "source": [
    "Mcols=[]\n",
    "for col in weather_station_2.columns:\n",
    "    try:\n",
    "        if weather_station_2[weather_station_2[col]=='M'].shape[0] > 0:\n",
    "            print('   ', col, weather_station_2[weather_station_2[col]=='M'].shape[0])\n",
    "            Mcols.append(col)\n",
    "    except:\n",
    "        next"
   ]
  },
  {
   "cell_type": "code",
   "execution_count": 22,
   "metadata": {},
   "outputs": [],
   "source": [
    "# Convert Trace amount of rainfall and Precip from 'T' to value\n",
    "weather_station_2.loc[:, ['PrecipTotal']] = \\\n",
    "weather_station_2['PrecipTotal'].map(lambda x: .001 if x=='  T' else x)\n"
   ]
  },
  {
   "cell_type": "code",
   "execution_count": 23,
   "metadata": {},
   "outputs": [
    {
     "data": {
      "text/plain": [
       "['Tavg',\n",
       " 'WetBulb',\n",
       " 'Heat',\n",
       " 'Cool',\n",
       " 'PrecipTotal',\n",
       " 'StnPressure',\n",
       " 'SeaLevel',\n",
       " 'AvgSpeed']"
      ]
     },
     "execution_count": 23,
     "metadata": {},
     "output_type": "execute_result"
    }
   ],
   "source": [
    "Mcols"
   ]
  },
  {
   "cell_type": "code",
   "execution_count": 24,
   "metadata": {},
   "outputs": [],
   "source": [
    "for col in Mcols:\n",
    "    tempmean =  weather_station_2[weather_station_2[col]!='M'][col].astype(float).mean()\n",
    "    weather_station_2.loc[:, col] = \\\n",
    "weather_station_2[col].map(lambda x: tempmean if x=='M' else x).astype(float)"
   ]
  },
  {
   "cell_type": "code",
   "execution_count": 25,
   "metadata": {},
   "outputs": [
    {
     "data": {
      "text/plain": [
       "Date           datetime64[ns]\n",
       "Tmax                    int64\n",
       "Tmin                    int64\n",
       "Tavg                  float64\n",
       "DewPoint                int64\n",
       "WetBulb               float64\n",
       "Heat                  float64\n",
       "Cool                  float64\n",
       "Sunrise                object\n",
       "Sunset                 object\n",
       "CodeSum                object\n",
       "PrecipTotal           float64\n",
       "StnPressure           float64\n",
       "SeaLevel              float64\n",
       "ResultSpeed           float64\n",
       "ResultDir               int64\n",
       "AvgSpeed              float64\n",
       "dtype: object"
      ]
     },
     "execution_count": 25,
     "metadata": {},
     "output_type": "execute_result"
    }
   ],
   "source": [
    "weather_station_2.dtypes"
   ]
  },
  {
   "cell_type": "code",
   "execution_count": 26,
   "metadata": {},
   "outputs": [],
   "source": [
    "#Create dummy columns for weather codes\n",
    "\n",
    "#list all columns\n",
    "templist = [element for element in weather_station_2['CodeSum'].str.split(' ').tolist()]\n",
    "newl = []\n",
    "#get all tags\n",
    "for element in templist:\n",
    "    for subelement in element:\n",
    "        newl.append(subelement)\n",
    "Codes_list = list(set(newl))\n",
    "Codes_list.pop(0)\n",
    "\n",
    "#Create new columns and score 1 if present in original CodeSum value\n",
    "for code in Codes_list:\n",
    "    weather_station_2.loc[:, code] = weather_station_2['CodeSum'].str.contains(code)*1\n",
    "weather_station_2 = weather_station_2.drop('CodeSum', axis=1)"
   ]
  },
  {
   "cell_type": "code",
   "execution_count": 27,
   "metadata": {},
   "outputs": [],
   "source": [
    "#Not using these anyway\n",
    "weather_station_2 = weather_station_2.drop(['Sunrise', 'Sunset'], axis=1)"
   ]
  },
  {
   "cell_type": "code",
   "execution_count": 28,
   "metadata": {},
   "outputs": [],
   "source": [
    "ws1_output = weather_station_1\n",
    "ws1_output['StationNum'] = 1\n",
    "ws2_output = weather_station_2\n",
    "ws2_output['StationNum'] = 2\n",
    "\n",
    "ws_combo = pd.concat([ws1_output, ws2_output])\n",
    "\n",
    "#ws_combo.to_csv('./Data/WeatherStations.csv', index=False)"
   ]
  },
  {
   "cell_type": "markdown",
   "metadata": {},
   "source": [
    "## 2.2 Training Data Munging"
   ]
  },
  {
   "cell_type": "markdown",
   "metadata": {},
   "source": [
    "We will need to combine the train and test data with relevant addtional information for the weather and spray datasets.\n",
    "\n",
    "This will be done by combine dataset using the index after it has been set to the date.\n"
   ]
  },
  {
   "cell_type": "markdown",
   "metadata": {},
   "source": [
    "### 2.2.1 Time Series"
   ]
  },
  {
   "cell_type": "markdown",
   "metadata": {},
   "source": [
    "#### 2.2.1.1 Basic Conversion"
   ]
  },
  {
   "cell_type": "code",
   "execution_count": 18,
   "metadata": {},
   "outputs": [],
   "source": [
    "#Create Days from start column for easy analysis\n",
    "BeginDate = datetime.date(2007, 4, 30)\n",
    "df_train.loc[:, 'DaysFrom'] = df_train.index - pd.to_datetime(BeginDate)\n",
    "#extract date number from datetime entry. Should capture broad time dependence\n",
    "df_train.loc[:, 'DaysFrom'] = df_train['DaysFrom'].astype(str).str.replace(' days 00:00:00.000000000', '').astype(int)\n",
    "#Extract Month information\n",
    "df_train.loc[:, 'Month'] = df_train.index.month"
   ]
  },
  {
   "cell_type": "markdown",
   "metadata": {},
   "source": [
    "#### 2.2.1.2 Seasonal Adjustments to Baseline Probability"
   ]
  },
  {
   "cell_type": "code",
   "execution_count": 19,
   "metadata": {},
   "outputs": [],
   "source": [
    "#Create a normalized graph to observe seasonality across years\n",
    "year_day = pd.DataFrame(df_train.index.dayofyear)\n",
    "year_day['Wnv'] = pd.DataFrame(df_train['WnvPresent']).reset_index().drop('Date', axis=1)\n",
    "#Total number of occurences by day of the year\n",
    "daily_sums = year_day.groupby(by='Date').sum()"
   ]
  },
  {
   "cell_type": "code",
   "execution_count": 20,
   "metadata": {},
   "outputs": [
    {
     "data": {
      "image/png": "[encoded data removed]",
      "text/plain": [
       "<Figure size 432x288 with 1 Axes>"
      ]
     },
     "metadata": {},
     "output_type": "display_data"
    }
   ],
   "source": [
    "#Shift up two days to capture Friday-Monday jump\n",
    "#2 seems to be an appropriate normalization factor\n",
    "normizer = 2\n",
    "rolls = pd.Series([daily_sums.iloc[row-5:row+2].mean().sum()*normizer for row in range(len(daily_sums))])\n",
    "rolls.index = daily_sums.index\n",
    "plt.plot(rolls)\n",
    "plt.plot(year_day.groupby(by='Date').sum());#confirm this is from skipped weekends or something"
   ]
  },
  {
   "cell_type": "code",
   "execution_count": 21,
   "metadata": {},
   "outputs": [
    {
     "data": {
      "text/plain": [
       "[<matplotlib.lines.Line2D at 0x21986f11f60>]"
      ]
     },
     "execution_count": 21,
     "metadata": {},
     "output_type": "execute_result"
    },
    {
     "data": {
      "image/png": "[encoded data removed]",
      "text/plain": [
       "<Figure size 432x288 with 1 Axes>"
      ]
     },
     "metadata": {},
     "output_type": "display_data"
    }
   ],
   "source": [
    "#Normalize by total rows used in calculation\n",
    "rolling_count = year_day.groupby(by='Date').count()\n",
    "rolling_average_rate = rolls / rolling_count['Wnv'].mean()/normizer\n",
    "plt.plot( rolling_average_rate)\n",
    "plt.plot(year_day.groupby(by='Date').sum() /rolling_count)"
   ]
  },
  {
   "cell_type": "code",
   "execution_count": 22,
   "metadata": {},
   "outputs": [
    {
     "data": {
      "text/plain": [
       "214.01298701298703"
      ]
     },
     "execution_count": 22,
     "metadata": {},
     "output_type": "execute_result"
    }
   ],
   "source": [
    "np.mean(list(rolls.index))"
   ]
  },
  {
   "cell_type": "code",
   "execution_count": 23,
   "metadata": {},
   "outputs": [],
   "source": [
    "mu, std = sp.stats.norm.fit(list(rolls.index))"
   ]
  },
  {
   "cell_type": "code",
   "execution_count": 81,
   "metadata": {},
   "outputs": [],
   "source": []
  },
  {
   "cell_type": "code",
   "execution_count": 144,
   "metadata": {},
   "outputs": [
    {
     "data": {
      "text/plain": [
       "282"
      ]
     },
     "execution_count": 144,
     "metadata": {},
     "output_type": "execute_result"
    }
   ],
   "source": [
    "df_combined.index.dayofyear.max()"
   ]
  },
  {
   "cell_type": "code",
   "execution_count": 145,
   "metadata": {},
   "outputs": [
    {
     "data": {
      "text/plain": [
       "[<matplotlib.lines.Line2D at 0x21989914240>]"
      ]
     },
     "execution_count": 145,
     "metadata": {},
     "output_type": "execute_result"
    },
    {
     "data": {
      "image/png": "[encoded data removed]",
      "text/plain": [
       "<Figure size 432x288 with 1 Axes>"
      ]
     },
     "metadata": {},
     "output_type": "display_data"
    }
   ],
   "source": [
    "norm_list = []\n",
    "_min = 140\n",
    "_max = 290\n",
    "for i in range(_min, _max):\n",
    "    norm_list.append(6*sp.stats.norm.pdf(i-25, mu, std/3.5)+.01)\n",
    "\n",
    "plt.plot(np.linspace(_min, _max, len(norm_list)), norm_list)\n",
    "plt.plot(year_day.groupby(by='Date').sum() /rolling_count)"
   ]
  },
  {
   "cell_type": "code",
   "execution_count": 146,
   "metadata": {},
   "outputs": [
    {
     "data": {
      "text/plain": [
       "0.010000000000000005"
      ]
     },
     "execution_count": 146,
     "metadata": {},
     "output_type": "execute_result"
    }
   ],
   "source": [
    "seasonal_dict = {}\n",
    "for i in range(len(norm_list)):\n",
    "    seasonal_dict[140+i] = norm_list[i]\n",
    "seasonal_dict[147]"
   ]
  },
  {
   "cell_type": "markdown",
   "metadata": {},
   "source": [
    "### 2.2.2 Combine with weather data"
   ]
  },
  {
   "cell_type": "code",
   "execution_count": 28,
   "metadata": {},
   "outputs": [],
   "source": [
    "#Create rolling average for all weather columns.\n",
    "weather_rolling_7 = weather_station_1.resample('D').sum().rolling(window=7).mean().shift()"
   ]
  },
  {
   "cell_type": "code",
   "execution_count": 29,
   "metadata": {
    "scrolled": true
   },
   "outputs": [],
   "source": [
    "#Weather Data as is\n",
    "weather_rolling_1 = weather_station_1.resample('D').sum()"
   ]
  },
  {
   "cell_type": "code",
   "execution_count": 30,
   "metadata": {},
   "outputs": [],
   "source": [
    "weather_rolling_14 = weather_station_1.resample('D').sum().rolling(window=14).mean()"
   ]
  },
  {
   "cell_type": "markdown",
   "metadata": {},
   "source": [
    "### 2.2.3 Dummy Columns"
   ]
  },
  {
   "cell_type": "code",
   "execution_count": 31,
   "metadata": {},
   "outputs": [],
   "source": [
    "df_species_dummies = pd.get_dummies(df_train['Species'])\n",
    "df_trap_dummies = pd.get_dummies(df_train['Trap'])"
   ]
  },
  {
   "cell_type": "code",
   "execution_count": null,
   "metadata": {},
   "outputs": [],
   "source": []
  },
  {
   "cell_type": "markdown",
   "metadata": {},
   "source": [
    "## 2.3 Final Concatention"
   ]
  },
  {
   "cell_type": "code",
   "execution_count": 32,
   "metadata": {},
   "outputs": [],
   "source": [
    "#CAUTION: JOINING DATAFRAMES IS MEMORY INTENSIVE"
   ]
  },
  {
   "cell_type": "code",
   "execution_count": 33,
   "metadata": {},
   "outputs": [],
   "source": [
    "#YOU HAVE BEEN WARNED"
   ]
  },
  {
   "cell_type": "code",
   "execution_count": 169,
   "metadata": {},
   "outputs": [],
   "source": [
    "#Using left join to only include weather rows that are in training set\n",
    "df_combined = df_train.join(weather_rolling_7, how='left')"
   ]
  },
  {
   "cell_type": "code",
   "execution_count": 170,
   "metadata": {},
   "outputs": [],
   "source": [
    "df_combined = pd.concat([df_combined,df_species_dummies], axis=1)"
   ]
  },
  {
   "cell_type": "code",
   "execution_count": 171,
   "metadata": {},
   "outputs": [],
   "source": [
    "cols_to_drop = ['Address', 'Species', 'Block', 'Street', 'Trap', 'AddressNumberAndStreet', 'AddressAccuracy', 'Date']\n",
    "df_combined = df_combined.drop(cols_to_drop, axis=1)"
   ]
  },
  {
   "cell_type": "code",
   "execution_count": 172,
   "metadata": {},
   "outputs": [],
   "source": [
    "#Add measurement back in \n",
    "df_combined['YearDay'] = df_train.index.dayofyear\n",
    "\n",
    "rolling_average_rate = pd.DataFrame(rolling_average_rate, columns=['seasonal_baseline'])"
   ]
  },
  {
   "cell_type": "code",
   "execution_count": 38,
   "metadata": {},
   "outputs": [
    {
     "data": {
      "text/plain": [
       "[<matplotlib.lines.Line2D at 0x21986feb908>,\n",
       " <matplotlib.lines.Line2D at 0x21987150358>,\n",
       " <matplotlib.lines.Line2D at 0x219871504e0>,\n",
       " <matplotlib.lines.Line2D at 0x21987150630>,\n",
       " <matplotlib.lines.Line2D at 0x21987150780>,\n",
       " <matplotlib.lines.Line2D at 0x219871508d0>,\n",
       " <matplotlib.lines.Line2D at 0x21987150a20>]"
      ]
     },
     "execution_count": 38,
     "metadata": {},
     "output_type": "execute_result"
    },
    {
     "data": {
      "image/png": "[encoded data removed]",
      "text/plain": [
       "<Figure size 432x288 with 1 Axes>"
      ]
     },
     "metadata": {},
     "output_type": "display_data"
    }
   ],
   "source": [
    "\n",
    "plt.plot(df_species_dummies.resample('W').sum().rolling(window=1).mean())"
   ]
  },
  {
   "cell_type": "markdown",
   "metadata": {},
   "source": [
    "# <a class=\"anchor\" id=\"3.0-bullet\">3. Model </a>"
   ]
  },
  {
   "cell_type": "markdown",
   "metadata": {},
   "source": [
    "### 3.0.1 Analysis Setup"
   ]
  },
  {
   "cell_type": "code",
   "execution_count": 250,
   "metadata": {},
   "outputs": [],
   "source": [
    "# Function that makes confusion matrix and outputs ROC score\n",
    "def make_pretty_conmat(y_test, predictions):\n",
    "    conmat = confusion_matrix(y_test, predictions)\n",
    "    conmat_df = pd.DataFrame(conmat, columns=['Predicted 0', 'Pred 1'], index=['Actual 0', 'Actual 1'])\n",
    "    conmat_df = conmat_df.add_prefix('Predicted: ')\n",
    "    print(f\"ROC score: {roc_auc_score(y_test, predictions)}\")\n",
    "    return conmat_df"
   ]
  },
  {
   "cell_type": "code",
   "execution_count": 251,
   "metadata": {},
   "outputs": [],
   "source": [
    "# Runs and outputs results into dataframe of any model input along with train/test data\n",
    "def roc_calculate(model,X_train,y_train,X_test, y_test):\n",
    "    df_roc = pd.DataFrame(columns=['models','train', 'test'])\n",
    "    for mod in range(0,len(model)):\n",
    "        # Set and fit model from list\n",
    "        use_model = model[mod]\n",
    "        use_model.fit(X_train,y_train)\n",
    "        # Create predictions\n",
    "        y_train_predicted = use_model.predict_proba(X_train)\n",
    "        y_test_predicted = use_model.predict_proba(X_test)\n",
    "        #Isolate positive prediction values \n",
    "        wnv_train_preds = [proba[1] for proba in y_train_predicted]\n",
    "        wnv_test_preds = [proba[1] for proba in y_test_predicted]\n",
    "        #Score and save value\n",
    "        train = roc_auc_score(y_train, wnv_train_preds)\n",
    "        test = roc_auc_score(y_test, wnv_test_preds)\n",
    "        # Set name and add to dataframe\n",
    "        name = str(model[mod])\n",
    "        df_roc.loc[len(df_roc)] = [name, train, test]\n",
    "    return df_roc"
   ]
  },
  {
   "cell_type": "markdown",
   "metadata": {},
   "source": [
    "## 3.1 Initial Model"
   ]
  },
  {
   "cell_type": "code",
   "execution_count": 173,
   "metadata": {},
   "outputs": [],
   "source": [
    "weather_cols = ['Tmax', 'WetBulb', 'PrecipTotal', 'AvgSpeed']\n",
    "\n",
    "# Set columns to exlude from features matrix\n",
    "cols_to_exclude = ['Date','WnvPresent', 'NumMosquitos', 'DaysFrom', \n",
    "                   'Sunrise', 'Sunset', 'Month', 'seasonal_baseline','Address',\n",
    "                   'Species', 'Block','Street','Trap', 'AddressAccuracy', 'AddressNumberAndStreet', 'YearDay'\n",
    "                  ]\n",
    "\n",
    "for element in weather_rolling_7.columns:\n",
    "    if element not in weather_cols:\n",
    "        cols_to_exclude.append(element)\n",
    "\n",
    "model_cols = [col for col in df_combined.columns if col not in cols_to_exclude]"
   ]
  },
  {
   "cell_type": "code",
   "execution_count": 174,
   "metadata": {},
   "outputs": [],
   "source": [
    "# Set X and y matrices\n",
    "X = df_combined.loc[:, model_cols]\n",
    "y = df_train['WnvPresent']\n",
    "\n",
    "cols_to_normalize = model_cols\n",
    "norm_dict = {}\n",
    "for col in cols_to_normalize:\n",
    "    _df_cur = X.loc[:, col]\n",
    "    _mean = _df_cur.mean()\n",
    "    _std = _df_cur.std()\n",
    "    #Store for test data transform\n",
    "    norm_dict[col] = [_mean, _std]\n",
    "\n",
    "    X.loc[:, col] = (X.loc[:, col] - _mean) / _std\n",
    "    \n",
    "\n",
    "#Stratification on Days From should ensure usable spread in time data. Should get most periods in train and test\n",
    "X_train, X_test, y_train, y_test = train_test_split(X, y, stratify=X.index, random_state=42)"
   ]
  },
  {
   "cell_type": "code",
   "execution_count": 54,
   "metadata": {},
   "outputs": [],
   "source": [
    "# List of initial classifiers to review\n",
    "classifiers = [\n",
    "    LogisticRegression(),\n",
    "    KNeighborsClassifier(n_neighbors=8),\n",
    "    BaggingClassifier(random_state=42),\n",
    "    RandomForestClassifier(random_state=42),\n",
    "    AdaBoostClassifier(random_state=42)]"
   ]
  },
  {
   "cell_type": "code",
   "execution_count": 175,
   "metadata": {},
   "outputs": [
    {
     "data": {
      "text/html": [
       "<div>\n",
       "<style scoped>\n",
       "    .dataframe tbody tr th:only-of-type {\n",
       "        vertical-align: middle;\n",
       "    }\n",
       "\n",
       "    .dataframe tbody tr th {\n",
       "        vertical-align: top;\n",
       "    }\n",
       "\n",
       "    .dataframe thead th {\n",
       "        text-align: right;\n",
       "    }\n",
       "</style>\n",
       "<table border=\"1\" class=\"dataframe\">\n",
       "  <thead>\n",
       "    <tr style=\"text-align: right;\">\n",
       "      <th></th>\n",
       "      <th>models</th>\n",
       "      <th>train</th>\n",
       "      <th>test</th>\n",
       "    </tr>\n",
       "  </thead>\n",
       "  <tbody>\n",
       "    <tr>\n",
       "      <th>0</th>\n",
       "      <td>LogisticRegression(C=1.0, class_weight=None, d...</td>\n",
       "      <td>0.746191</td>\n",
       "      <td>0.762964</td>\n",
       "    </tr>\n",
       "    <tr>\n",
       "      <th>1</th>\n",
       "      <td>KNeighborsClassifier(algorithm='auto', leaf_si...</td>\n",
       "      <td>0.915516</td>\n",
       "      <td>0.743495</td>\n",
       "    </tr>\n",
       "    <tr>\n",
       "      <th>2</th>\n",
       "      <td>BaggingClassifier(base_estimator=None, bootstr...</td>\n",
       "      <td>0.989752</td>\n",
       "      <td>0.719520</td>\n",
       "    </tr>\n",
       "    <tr>\n",
       "      <th>3</th>\n",
       "      <td>RandomForestClassifier(bootstrap=True, class_w...</td>\n",
       "      <td>0.990599</td>\n",
       "      <td>0.728316</td>\n",
       "    </tr>\n",
       "    <tr>\n",
       "      <th>4</th>\n",
       "      <td>AdaBoostClassifier(algorithm='SAMME.R', base_e...</td>\n",
       "      <td>0.829591</td>\n",
       "      <td>0.812423</td>\n",
       "    </tr>\n",
       "  </tbody>\n",
       "</table>\n",
       "</div>"
      ],
      "text/plain": [
       "                                              models     train      test\n",
       "0  LogisticRegression(C=1.0, class_weight=None, d...  0.746191  0.762964\n",
       "1  KNeighborsClassifier(algorithm='auto', leaf_si...  0.915516  0.743495\n",
       "2  BaggingClassifier(base_estimator=None, bootstr...  0.989752  0.719520\n",
       "3  RandomForestClassifier(bootstrap=True, class_w...  0.990599  0.728316\n",
       "4  AdaBoostClassifier(algorithm='SAMME.R', base_e...  0.829591  0.812423"
      ]
     },
     "execution_count": 175,
     "metadata": {},
     "output_type": "execute_result"
    }
   ],
   "source": [
    "# This baseline model input features are:\n",
    "# 1) As is Weather Data (no rolling)\n",
    "# 2) Location only by cordianates\n",
    "# 3) Dummy by Species\n",
    "# 4) Dummy by Trap Name\n",
    "roc_calculate(classifiers,X_train,y_train,X_test,y_test)"
   ]
  },
  {
   "cell_type": "markdown",
   "metadata": {},
   "source": [
    "## 3.2 Models after Feature Engineering"
   ]
  },
  {
   "cell_type": "code",
   "execution_count": null,
   "metadata": {},
   "outputs": [],
   "source": []
  },
  {
   "cell_type": "code",
   "execution_count": 104,
   "metadata": {},
   "outputs": [],
   "source": [
    "knc = KNeighborsClassifier(n_neighbors=15)\n",
    "\n",
    "knc.fit(X_train, y_train)\n",
    "\n",
    "proba_array = [proba[1] for proba in knc.predict_proba(X_test)]\n",
    "\n",
    "adj_score = pd.Series(X_test.index.dayofyear, index=X_test.index).map(lambda x: seasonal_dict[x])\n",
    "\n",
    "roc_auc_score(y_test, proba_array)"
   ]
  },
  {
   "cell_type": "code",
   "execution_count": 176,
   "metadata": {},
   "outputs": [],
   "source": [
    "from sklearn.model_selection import GridSearchCV"
   ]
  },
  {
   "cell_type": "code",
   "execution_count": 201,
   "metadata": {},
   "outputs": [],
   "source": [
    "paramz = {\n",
    "    'penalty': ['l2'],\n",
    "    'C': [.01, .001, .02],\n",
    "    'solver' : ['liblinear', 'newton-cg', 'lbfgs']\n",
    "}\n",
    "\n",
    "gs = GridSearchCV(LogisticRegression(), param_grid=paramz)"
   ]
  },
  {
   "cell_type": "code",
   "execution_count": 202,
   "metadata": {},
   "outputs": [
    {
     "data": {
      "text/plain": [
       "GridSearchCV(cv=None, error_score='raise',\n",
       "       estimator=LogisticRegression(C=1.0, class_weight=None, dual=False, fit_intercept=True,\n",
       "          intercept_scaling=1, max_iter=100, multi_class='ovr', n_jobs=1,\n",
       "          penalty='l2', random_state=None, solver='liblinear', tol=0.0001,\n",
       "          verbose=0, warm_start=False),\n",
       "       fit_params=None, iid=True, n_jobs=1,\n",
       "       param_grid={'penalty': ['l2'], 'C': [0.01, 0.001, 0.02], 'solver': ['liblinear', 'newton-cg', 'lbfgs']},\n",
       "       pre_dispatch='2*n_jobs', refit=True, return_train_score='warn',\n",
       "       scoring=None, verbose=0)"
      ]
     },
     "execution_count": 202,
     "metadata": {},
     "output_type": "execute_result"
    }
   ],
   "source": [
    "gs.fit(X_train, y_train)"
   ]
  },
  {
   "cell_type": "code",
   "execution_count": 203,
   "metadata": {},
   "outputs": [
    {
     "data": {
      "text/plain": [
       "{'C': 0.01, 'penalty': 'l2', 'solver': 'newton-cg'}"
      ]
     },
     "execution_count": 203,
     "metadata": {},
     "output_type": "execute_result"
    }
   ],
   "source": [
    "gs.best_params_"
   ]
  },
  {
   "cell_type": "code",
   "execution_count": 237,
   "metadata": {},
   "outputs": [
    {
     "name": "stdout",
     "output_type": "stream",
     "text": [
      "   base:  0.7480591291783601\n",
      "   seasonal:  0.7740670760510157\n"
     ]
    }
   ],
   "source": [
    "proba_array = [proba[1] for proba in gs.predict_proba(X_test)]\n",
    "\n",
    "adj_score = pd.Series(X_test.index.dayofyear, index=X_test.index).map(lambda x: seasonal_dict[x])\n",
    "\n",
    "print('   base: ', roc_auc_score(y_test, proba_array))\n",
    "print('   seasonal: ', roc_auc_score(y_test, proba_array + adj_score))"
   ]
  },
  {
   "cell_type": "code",
   "execution_count": 239,
   "metadata": {},
   "outputs": [
    {
     "name": "stdout",
     "output_type": "stream",
     "text": [
      "   base:  0.7629636833476896\n",
      "   seasonal:  0.7812609408430353\n"
     ]
    }
   ],
   "source": [
    "logreg = LogisticRegression()\n",
    "\n",
    "logreg.fit(X_train, y_train)\n",
    "\n",
    "proba_array = [proba[1] for proba in logreg.predict_proba(X_test)]\n",
    "\n",
    "adj_score = pd.Series(X_test.index.dayofyear, index=X_test.index).map(lambda x: seasonal_dict[x])\n",
    "\n",
    "print('   base: ', roc_auc_score(y_test, proba_array))\n",
    "print('   seasonal: ', roc_auc_score(y_test, proba_array + adj_score))"
   ]
  },
  {
   "cell_type": "code",
   "execution_count": 238,
   "metadata": {
    "scrolled": true
   },
   "outputs": [
    {
     "name": "stdout",
     "output_type": "stream",
     "text": [
      "    neighbors: 5, score: 0.692765845119342\n",
      "    neighbors: 7, score: 0.72767929089444\n",
      "    neighbors: 9, score: 0.7459959987774042\n",
      "    neighbors: 11, score: 0.7614090416516158\n",
      "    neighbors: 13, score: 0.7600836366667593\n",
      "    neighbors: 15, score: 0.7636583400483481\n",
      "    neighbors: 17, score: 0.7587957431437384\n",
      "    neighbors: 19, score: 0.7617146905999055\n",
      "    neighbors: 21, score: 0.7683208758231683\n",
      "    neighbors: 23, score: 0.7690433187918531\n"
     ]
    }
   ],
   "source": [
    "results_dict = {}\n",
    "for i in range(5,25, 2):\n",
    "    knc = KNeighborsClassifier(n_neighbors = i)\n",
    "    knc.fit(X_train, y_train)\n",
    "\n",
    "    knc_probas = []\n",
    "    knc_array = knc.predict_proba(X_test)\n",
    "    for j in range(len(X_test)):\n",
    "        knc_probas.append(knc_array[j][1]+adj_score[i])\n",
    "    _result = roc_auc_score(y_test, knc_probas)\n",
    "    results_dict[i] = _result\n",
    "    print('    neighbors: {}, score: {}'.format(i,_result ))"
   ]
  },
  {
   "cell_type": "code",
   "execution_count": 48,
   "metadata": {},
   "outputs": [],
   "source": [
    "result_x, result_y = zip(*sorted(results_dict.items()))"
   ]
  },
  {
   "cell_type": "code",
   "execution_count": 49,
   "metadata": {},
   "outputs": [
    {
     "data": {
      "text/plain": [
       "[<matplotlib.lines.Line2D at 0x21987000f98>]"
      ]
     },
     "execution_count": 49,
     "metadata": {},
     "output_type": "execute_result"
    },
    {
     "data": {
      "image/png": "[encoded data removed]",
      "text/plain": [
       "<Figure size 432x288 with 1 Axes>"
      ]
     },
     "metadata": {},
     "output_type": "display_data"
    }
   ],
   "source": [
    "plt.plot(result_x, result_y)"
   ]
  },
  {
   "cell_type": "markdown",
   "metadata": {},
   "source": [
    "## 3.3 Final Model Selection"
   ]
  },
  {
   "cell_type": "code",
   "execution_count": 205,
   "metadata": {},
   "outputs": [],
   "source": [
    "our_model = gs"
   ]
  },
  {
   "cell_type": "code",
   "execution_count": 370,
   "metadata": {},
   "outputs": [],
   "source": [
    "'''our_model = KNeighborsClassifier(n_neighbors=15)\n",
    "\n",
    "our_model.fit(X_train, y_train)'''"
   ]
  },
  {
   "cell_type": "code",
   "execution_count": 443,
   "metadata": {},
   "outputs": [
    {
     "name": "stderr",
     "output_type": "stream",
     "text": [
      "C:\\ProgramData\\Anaconda3\\lib\\site-packages\\matplotlib\\axes\\_axes.py:6462: UserWarning: The 'normed' kwarg is deprecated, and has been replaced by the 'density' kwarg.\n",
      "  warnings.warn(\"The 'normed' kwarg is deprecated, and has been \"\n"
     ]
    },
    {
     "data": {
      "text/plain": [
       "<matplotlib.axes._subplots.AxesSubplot at 0x1b083a226a0>"
      ]
     },
     "execution_count": 443,
     "metadata": {},
     "output_type": "execute_result"
    },
    {
     "data": {
      "image/png": "[encoded data removed]",
      "text/plain": [
       "<Figure size 432x288 with 1 Axes>"
      ]
     },
     "metadata": {},
     "output_type": "display_data"
    }
   ],
   "source": []
  },
  {
   "cell_type": "markdown",
   "metadata": {},
   "source": [
    "# <a class=\"anchor\" id=\"4.0-bullet\">4. Output</a>"
   ]
  },
  {
   "cell_type": "markdown",
   "metadata": {},
   "source": [
    "## 4.1 Transform test data"
   ]
  },
  {
   "cell_type": "code",
   "execution_count": 208,
   "metadata": {},
   "outputs": [
    {
     "data": {
      "text/plain": [
       "(116293, 11)"
      ]
     },
     "execution_count": 208,
     "metadata": {},
     "output_type": "execute_result"
    }
   ],
   "source": [
    "df_test = data_test\n",
    "df_test.shape"
   ]
  },
  {
   "cell_type": "markdown",
   "metadata": {},
   "source": [
    "### 4.1.1 Time Series"
   ]
  },
  {
   "cell_type": "code",
   "execution_count": 209,
   "metadata": {},
   "outputs": [],
   "source": [
    "#Convert to Date Time from object\n",
    "df_test.loc[:, ['Date']]= pd.to_datetime(df_test['Date'])\n",
    "\n",
    "#Switch to DateTime Index\n",
    "df_test.index = df_test.Date\n",
    "\n",
    "#Create Days from start column for easy analysis\n",
    "\n",
    "df_test.loc[:, 'DaysFrom'] = df_test.index - pd.to_datetime(BeginDate)\n",
    "#extract date number from datetime entry. Should capture broad time dependence\n",
    "df_test.loc[:, 'DaysFrom'] = df_test['DaysFrom'].astype(str).str.replace(' days 00:00:00.000000000', '').astype(int)\n",
    "#Extract Month information\n",
    "df_test.loc[:, 'Month'] = df_test.index.month\n",
    "\n",
    "df_test['YearDay'] = df_test.index.dayofyear"
   ]
  },
  {
   "cell_type": "code",
   "execution_count": 210,
   "metadata": {},
   "outputs": [
    {
     "data": {
      "text/plain": [
       "'df_test_weekday = pd.get_dummies(df_test.index.weekday_name)\\ndf_test_weekday.index = df_test.index\\ndf_test = pd.concat([df_test, df_test_weekday], axis=1)'"
      ]
     },
     "execution_count": 210,
     "metadata": {},
     "output_type": "execute_result"
    }
   ],
   "source": [
    "#Get weekday dummies\n",
    "'''df_test_weekday = pd.get_dummies(df_test.index.weekday_name)\n",
    "df_test_weekday.index = df_test.index\n",
    "df_test = pd.concat([df_test, df_test_weekday], axis=1)'''"
   ]
  },
  {
   "cell_type": "code",
   "execution_count": 211,
   "metadata": {},
   "outputs": [],
   "source": [
    "#Need to do some math to include seasonality here. Some yeardays in test not in training."
   ]
  },
  {
   "cell_type": "markdown",
   "metadata": {},
   "source": [
    "### 4.1.2 Categorical"
   ]
  },
  {
   "cell_type": "code",
   "execution_count": 212,
   "metadata": {},
   "outputs": [
    {
     "data": {
      "text/plain": [
       "['UNSPECIFIED CULEX']"
      ]
     },
     "execution_count": 212,
     "metadata": {},
     "output_type": "execute_result"
    }
   ],
   "source": [
    "df_test_species = pd.get_dummies(df_test['Species'])\n",
    "[col for col in df_test_species.columns if col not in df_species_dummies.columns]"
   ]
  },
  {
   "cell_type": "code",
   "execution_count": 213,
   "metadata": {},
   "outputs": [],
   "source": [
    "df_test_species = df_test_species.drop('UNSPECIFIED CULEX', axis=1)\n",
    "df_test = pd.concat([df_test,df_test_species], axis=1)"
   ]
  },
  {
   "cell_type": "code",
   "execution_count": 214,
   "metadata": {},
   "outputs": [],
   "source": [
    "df_test_trap = pd.get_dummies(df_test['Trap'])\n",
    "df_test = pd.concat([df_test,df_test_trap], axis=1)"
   ]
  },
  {
   "cell_type": "markdown",
   "metadata": {},
   "source": [
    "### 4.1.3 Weather"
   ]
  },
  {
   "cell_type": "code",
   "execution_count": 215,
   "metadata": {},
   "outputs": [],
   "source": [
    "df_test = df_test.join(weather_rolling_1, how='left')"
   ]
  },
  {
   "cell_type": "markdown",
   "metadata": {},
   "source": [
    "### 4.1.4 Drops"
   ]
  },
  {
   "cell_type": "code",
   "execution_count": 216,
   "metadata": {},
   "outputs": [],
   "source": [
    "df_test = df_test.drop(cols_to_drop, axis=1)"
   ]
  },
  {
   "cell_type": "code",
   "execution_count": 217,
   "metadata": {},
   "outputs": [
    {
     "ename": "NameError",
     "evalue": "name 'combo' is not defined",
     "output_type": "error",
     "traceback": [
      "\u001b[1;31m---------------------------------------------------------------------------\u001b[0m",
      "\u001b[1;31mNameError\u001b[0m                                 Traceback (most recent call last)",
      "\u001b[1;32m<ipython-input-217-2084164fbf97>\u001b[0m in \u001b[0;36m<module>\u001b[1;34m()\u001b[0m\n\u001b[1;32m----> 1\u001b[1;33m \u001b[0mcombo\u001b[0m \u001b[1;33m=\u001b[0m \u001b[0mpd\u001b[0m\u001b[1;33m.\u001b[0m\u001b[0mconcat\u001b[0m\u001b[1;33m(\u001b[0m\u001b[1;33m[\u001b[0m\u001b[0mdf_combined\u001b[0m \u001b[1;33m,\u001b[0m \u001b[0mcombo\u001b[0m\u001b[1;33m]\u001b[0m\u001b[1;33m)\u001b[0m\u001b[1;33m.\u001b[0m\u001b[0mfillna\u001b[0m\u001b[1;33m(\u001b[0m\u001b[1;36m0\u001b[0m\u001b[1;33m)\u001b[0m\u001b[1;33m\u001b[0m\u001b[0m\n\u001b[0m",
      "\u001b[1;31mNameError\u001b[0m: name 'combo' is not defined"
     ]
    }
   ],
   "source": [
    "combo = pd.concat([df_combined , combo]).fillna(0)"
   ]
  },
  {
   "cell_type": "code",
   "execution_count": 404,
   "metadata": {},
   "outputs": [],
   "source": [
    "combo['DateT'] = combo.index"
   ]
  },
  {
   "cell_type": "code",
   "execution_count": 405,
   "metadata": {},
   "outputs": [
    {
     "data": {
      "text/plain": [
       "14521"
      ]
     },
     "execution_count": 405,
     "metadata": {},
     "output_type": "execute_result"
    }
   ],
   "source": [
    "df_test['CULEX PIPIENS'].sum()"
   ]
  },
  {
   "cell_type": "code",
   "execution_count": null,
   "metadata": {},
   "outputs": [],
   "source": []
  },
  {
   "cell_type": "code",
   "execution_count": 179,
   "metadata": {},
   "outputs": [],
   "source": [
    "combo.to_csv('./Data/TrainTest_917_A.csv')"
   ]
  },
  {
   "cell_type": "code",
   "execution_count": 174,
   "metadata": {},
   "outputs": [],
   "source": [
    "combo = None"
   ]
  },
  {
   "cell_type": "markdown",
   "metadata": {},
   "source": [
    "#  <a class=\"anchor\" id=\"5.0-bullet\">5. Kaggle Submission</a>"
   ]
  },
  {
   "cell_type": "markdown",
   "metadata": {},
   "source": [
    "## 5.1 Fit to Test Data"
   ]
  },
  {
   "cell_type": "code",
   "execution_count": 218,
   "metadata": {},
   "outputs": [
    {
     "data": {
      "text/plain": [
       "[]"
      ]
     },
     "execution_count": 218,
     "metadata": {},
     "output_type": "execute_result"
    }
   ],
   "source": [
    "df_test_X = df_test.loc[:, model_cols]\n",
    "[col for col in df_test_X.columns if col not in X.columns]"
   ]
  },
  {
   "cell_type": "markdown",
   "metadata": {},
   "source": [
    "### normalize"
   ]
  },
  {
   "cell_type": "code",
   "execution_count": 219,
   "metadata": {},
   "outputs": [
    {
     "data": {
      "text/plain": [
       "{'Latitude': [41.84113928973943, 0.11274152662546437],\n",
       " 'Longitude': [-87.69990798325082, 0.0965141689871595],\n",
       " 'Tmax': [80.69458268744476, 5.8991849445029505],\n",
       " 'WetBulb': [63.98740103944431, 5.105050066186582],\n",
       " 'PrecipTotal': [0.16347190720948068, 0.25629692209134747],\n",
       " 'AvgSpeed': [7.565275624813138, 1.1332450723064764],\n",
       " 'CULEX ERRATICUS': [9.518370454978108e-05, 0.009756213637973549],\n",
       " 'CULEX PIPIENS': [0.25690081857985914, 0.4369450315052907],\n",
       " 'CULEX PIPIENS/RESTUANS': [0.4523129640205597, 0.49774444076996116],\n",
       " 'CULEX RESTUANS': [0.26080335046640013, 0.4390937423667433],\n",
       " 'CULEX SALINARIUS': [0.008185798591281173, 0.09010862413164791],\n",
       " 'CULEX TARSALIS': [0.0005711022272986865, 0.02389205732659112],\n",
       " 'CULEX TERRITANS': [0.0211307824100514, 0.14382712344298532]}"
      ]
     },
     "execution_count": 219,
     "metadata": {},
     "output_type": "execute_result"
    }
   ],
   "source": [
    "norm_dict"
   ]
  },
  {
   "cell_type": "code",
   "execution_count": 220,
   "metadata": {},
   "outputs": [],
   "source": [
    "for col in cols_to_normalize:\n",
    "    _mean = norm_dict[col][0]\n",
    "    _std = norm_dict[col][1]\n",
    "    #Store for test data transform\n",
    "    #norm_dict[col] = [_mean, _std]\n",
    "\n",
    "    df_test_X.loc[:, col] = (df_test_X.loc[:, col] - _mean) / _std"
   ]
  },
  {
   "cell_type": "code",
   "execution_count": 221,
   "metadata": {},
   "outputs": [
    {
     "data": {
      "text/plain": [
       "Latitude                  0\n",
       "Longitude                 0\n",
       "Tmax                      0\n",
       "WetBulb                   0\n",
       "PrecipTotal               0\n",
       "AvgSpeed                  0\n",
       "CULEX ERRATICUS           0\n",
       "CULEX PIPIENS             0\n",
       "CULEX PIPIENS/RESTUANS    0\n",
       "CULEX RESTUANS            0\n",
       "CULEX SALINARIUS          0\n",
       "CULEX TARSALIS            0\n",
       "CULEX TERRITANS           0\n",
       "dtype: int64"
      ]
     },
     "execution_count": 221,
     "metadata": {},
     "output_type": "execute_result"
    }
   ],
   "source": [
    "df_test_X.isnull().sum()"
   ]
  },
  {
   "cell_type": "code",
   "execution_count": 222,
   "metadata": {},
   "outputs": [],
   "source": [
    "df_test_preds = our_model.predict(df_test_X)"
   ]
  },
  {
   "cell_type": "code",
   "execution_count": 223,
   "metadata": {},
   "outputs": [],
   "source": [
    "df_test_prob_array = our_model.predict_proba(df_test_X)"
   ]
  },
  {
   "cell_type": "code",
   "execution_count": 226,
   "metadata": {},
   "outputs": [],
   "source": [
    "df_test_probas = [proba[1] for proba in df_test_prob_array]"
   ]
  },
  {
   "cell_type": "code",
   "execution_count": 228,
   "metadata": {},
   "outputs": [
    {
     "data": {
      "text/plain": [
       "3477.4540178884317"
      ]
     },
     "execution_count": 228,
     "metadata": {},
     "output_type": "execute_result"
    }
   ],
   "source": [
    "sum(df_test_probas)"
   ]
  },
  {
   "cell_type": "markdown",
   "metadata": {},
   "source": [
    "## 5.2 Assess"
   ]
  },
  {
   "cell_type": "code",
   "execution_count": 229,
   "metadata": {},
   "outputs": [
    {
     "name": "stderr",
     "output_type": "stream",
     "text": [
      "C:\\ProgramData\\Anaconda3\\lib\\site-packages\\matplotlib\\axes\\_axes.py:6462: UserWarning: The 'normed' kwarg is deprecated, and has been replaced by the 'density' kwarg.\n",
      "  warnings.warn(\"The 'normed' kwarg is deprecated, and has been \"\n",
      "C:\\ProgramData\\Anaconda3\\lib\\site-packages\\matplotlib\\axes\\_axes.py:6462: UserWarning: The 'normed' kwarg is deprecated, and has been replaced by the 'density' kwarg.\n",
      "  warnings.warn(\"The 'normed' kwarg is deprecated, and has been \"\n"
     ]
    },
    {
     "data": {
      "text/plain": [
       "<matplotlib.axes._subplots.AxesSubplot at 0x21986afe6a0>"
      ]
     },
     "execution_count": 229,
     "metadata": {},
     "output_type": "execute_result"
    },
    {
     "data": {
      "image/png": "[encoded data removed]",
      "text/plain": [
       "<Figure size 432x288 with 1 Axes>"
      ]
     },
     "metadata": {},
     "output_type": "display_data"
    }
   ],
   "source": []
  },
  {
   "cell_type": "code",
   "execution_count": 230,
   "metadata": {},
   "outputs": [],
   "source": [
    "df_test_preds_adj =pd.Series(df_test_X.index.dayofyear, index=df_test_X.index).map(lambda x: seasonal_dict[x])"
   ]
  },
  {
   "cell_type": "code",
   "execution_count": 231,
   "metadata": {},
   "outputs": [
    {
     "name": "stdout",
     "output_type": "stream",
     "text": [
      "   base model WNV predicitons:  0\n",
      "   adusted proba WNV predictions:  7443.0995313341555\n",
      "   predicted rate WNV adjusted:  0.06400298841146204\n"
     ]
    }
   ],
   "source": [
    "print('   base model WNV predicitons: ', df_test_preds.sum())\n",
    "print('   adusted proba WNV predictions: ', sum(df_test_preds_adj))\n",
    "print('   predicted rate WNV adjusted: ', sum(df_test_preds_adj)/len(df_test_preds_adj))"
   ]
  },
  {
   "cell_type": "code",
   "execution_count": 249,
   "metadata": {},
   "outputs": [
    {
     "name": "stderr",
     "output_type": "stream",
     "text": [
      "C:\\ProgramData\\Anaconda3\\lib\\site-packages\\matplotlib\\axes\\_axes.py:6462: UserWarning: The 'normed' kwarg is deprecated, and has been replaced by the 'density' kwarg.\n",
      "  warnings.warn(\"The 'normed' kwarg is deprecated, and has been \"\n",
      "C:\\ProgramData\\Anaconda3\\lib\\site-packages\\matplotlib\\axes\\_axes.py:6462: UserWarning: The 'normed' kwarg is deprecated, and has been replaced by the 'density' kwarg.\n",
      "  warnings.warn(\"The 'normed' kwarg is deprecated, and has been \"\n",
      "C:\\ProgramData\\Anaconda3\\lib\\site-packages\\matplotlib\\axes\\_axes.py:6462: UserWarning: The 'normed' kwarg is deprecated, and has been replaced by the 'density' kwarg.\n",
      "  warnings.warn(\"The 'normed' kwarg is deprecated, and has been \"\n"
     ]
    },
    {
     "data": {
      "text/plain": [
       "<matplotlib.axes._subplots.AxesSubplot at 0x2198c8ab828>"
      ]
     },
     "execution_count": 249,
     "metadata": {},
     "output_type": "execute_result"
    },
    {
     "data": {
      "image/png": "[encoded data removed]",
      "text/plain": [
       "<Figure size 432x288 with 1 Axes>"
      ]
     },
     "metadata": {},
     "output_type": "display_data"
    }
   ],
   "source": [
    "sns.distplot([proba[1] for proba in our_model.predict_proba(X_test)])\n",
    "sns.distplot(df_test_probas)\n",
    "sns.distplot(df_test_preds_adj+df_test_probas)"
   ]
  },
  {
   "cell_type": "code",
   "execution_count": 244,
   "metadata": {},
   "outputs": [
    {
     "data": {
      "text/plain": [
       "116293"
      ]
     },
     "execution_count": 244,
     "metadata": {},
     "output_type": "execute_result"
    }
   ],
   "source": [
    "len(df_test_probas)"
   ]
  },
  {
   "cell_type": "markdown",
   "metadata": {},
   "source": [
    "## 5.3 Create Submission File"
   ]
  },
  {
   "cell_type": "code",
   "execution_count": 245,
   "metadata": {},
   "outputs": [],
   "source": [
    "df_outputs = pd.DataFrame(df_test.Id)\n",
    "df_outputs['WnvPresent'] = df_test_probas+df_test_preds_adj\n",
    "df_outputs = df_outputs.reset_index().drop('Date', axis=1)"
   ]
  },
  {
   "cell_type": "code",
   "execution_count": 246,
   "metadata": {},
   "outputs": [],
   "source": [
    "now_month = datetime.datetime.now().month\n",
    "now_day = datetime.datetime.now().day\n",
    "now_hour = datetime.datetime.now().hour\n",
    "now_minute = datetime.datetime.now().minute\n",
    "output_title = './Predictions/Predictions_{}.{}_{}{}.csv'.format(now_month, now_day, now_hour, now_minute)"
   ]
  },
  {
   "cell_type": "code",
   "execution_count": 247,
   "metadata": {},
   "outputs": [],
   "source": [
    "df_outputs.to_csv(output_title, index=False)"
   ]
  },
  {
   "cell_type": "code",
   "execution_count": null,
   "metadata": {},
   "outputs": [],
   "source": []
  }
 ],
 "metadata": {
  "kernelspec": {
   "display_name": "Python 3",
   "language": "python",
   "name": "python3"
  },
  "language_info": {
   "codemirror_mode": {
    "name": "ipython",
    "version": 3
   },
   "file_extension": ".py",
   "mimetype": "text/x-python",
   "name": "python",
   "nbconvert_exporter": "python",
   "pygments_lexer": "ipython3",
   "version": "3.6.5"
  }
 },
 "nbformat": 4,
 "nbformat_minor": 2
}
