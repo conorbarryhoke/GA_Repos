{
 "cells": [
  {
   "cell_type": "markdown",
   "metadata": {},
   "source": [
    "# PROJECT 4 - CHI CITY MOSQUITOS\n",
    "\n",
    "- James Babyak\n",
    "- Conor Barry-Hoke\n",
    "- Jerome Benton\n",
    "- Christopher Nowak"
   ]
  },
  {
   "cell_type": "markdown",
   "metadata": {},
   "source": [
    "## Objective"
   ]
  },
  {
   "cell_type": "markdown",
   "metadata": {},
   "source": [
    "Predict when and where different species of mosquitos will test positive for West Nile virus in the greater Chicago area"
   ]
  },
  {
   "cell_type": "markdown",
   "metadata": {},
   "source": [
    "## TOC"
   ]
  },
  {
   "cell_type": "markdown",
   "metadata": {},
   "source": [
    "0. [Imports](#first-bullet)\n",
    "1. [EDA](#1.0-bullet)\n",
    "2. [Data Transformation](#2.0-bullet)\n",
    "3. [Modelling](#3.0-bullet)\n",
    "4. [Output](#4.0-bullet)\n",
    "5. [Kaggle Submission](#5.0-bullet)"
   ]
  },
  {
   "cell_type": "markdown",
   "metadata": {},
   "source": [
    "# <a class=\"anchor\" id=\"first-bullet\">Imports</a>"
   ]
  },
  {
   "cell_type": "code",
   "execution_count": 1,
   "metadata": {},
   "outputs": [],
   "source": [
    "#Basic\n",
    "import pandas as pd\n",
    "import numpy as np\n",
    "#Math\n",
    "import scipy as sp\n",
    "from random import randint\n",
    "from math import exp\n",
    "import operator\n",
    "\n",
    "#Scraping\n",
    "'''import requests\n",
    "import json'''\n",
    "\n",
    "#Modeling\n",
    "from sklearn.model_selection import cross_val_score, train_test_split, GridSearchCV\n",
    "from sklearn.linear_model import LogisticRegression\n",
    "from sklearn.naive_bayes import MultinomialNB\n",
    "from sklearn.ensemble import RandomForestClassifier, AdaBoostClassifier, BaggingClassifier\n",
    "from sklearn.neighbors import KNeighborsClassifier\n",
    "from sklearn.cluster import KMeans\n",
    "from sklearn.svm import SVC\n",
    "from sklearn.metrics import confusion_matrix, roc_auc_score, roc_curve\n",
    "\n",
    "#NLP Processing\n",
    "'''from sklearn.feature_extraction import stop_words\n",
    "from sklearn.feature_extraction.text import CountVectorizer\n",
    "from sklearn.feature_extraction.text import TfidfVectorizer'''\n",
    "\n",
    "#Time analysis\n",
    "import time\n",
    "import datetime\n",
    "from statsmodels.tsa.stattools import pacf\n",
    "from statsmodels.graphics.tsaplots import plot_pacf\n",
    "\n",
    "#Plotting\n",
    "import matplotlib.pyplot as plt\n",
    "import seaborn as sns\n",
    "#from wordcloud import WordCloud\n",
    "\n",
    "%matplotlib inline\n",
    "plt.style.use('seaborn-darkgrid')"
   ]
  },
  {
   "cell_type": "markdown",
   "metadata": {},
   "source": [
    "# <a class=\"anchor\" id=\"1.0-bullet\"> 1. EDA</a>"
   ]
  },
  {
   "cell_type": "markdown",
   "metadata": {},
   "source": [
    "Four datasets available:\n",
    "- Train and test datasets of historical data for mosquitos caught in traps that tested positive for West Nile\n",
    "- Weather dataset of time period across all test and train data\n",
    "- Spray dataset of time and locations where mosquito control was implemented"
   ]
  },
  {
   "cell_type": "code",
   "execution_count": 2,
   "metadata": {},
   "outputs": [],
   "source": [
    "data_spray = pd.read_csv('./Data/spray.csv')\n",
    "data_weather = pd.read_csv('./Data/weather.csv')\n",
    "data_train = pd.read_csv('./Data/train.csv')\n",
    "data_test = pd.read_csv('./Data/test.csv')"
   ]
  },
  {
   "cell_type": "code",
   "execution_count": 3,
   "metadata": {},
   "outputs": [],
   "source": [
    "df_train = data_train #Don't edit the initial frame. For recovery"
   ]
  },
  {
   "cell_type": "code",
   "execution_count": 4,
   "metadata": {},
   "outputs": [],
   "source": [
    "#Convert to Date Time from object\n",
    "df_train.loc[:, ['Date']]= pd.to_datetime(df_train['Date'])\n",
    "\n",
    "#Switch to DateTime Index\n",
    "df_train.index = df_train.Date"
   ]
  },
  {
   "cell_type": "markdown",
   "metadata": {},
   "source": [
    "## 1.2 Feature Analysis"
   ]
  },
  {
   "cell_type": "code",
   "execution_count": 5,
   "metadata": {},
   "outputs": [
    {
     "data": {
      "text/plain": [
       "0    0.947554\n",
       "1    0.052446\n",
       "Name: WnvPresent, dtype: float64"
      ]
     },
     "execution_count": 5,
     "metadata": {},
     "output_type": "execute_result"
    }
   ],
   "source": [
    "# 5.2% of all readings tested positive for West Nile\n",
    "data_train['WnvPresent'].value_counts(normalize=True)"
   ]
  },
  {
   "cell_type": "code",
   "execution_count": 6,
   "metadata": {},
   "outputs": [
    {
     "data": {
      "text/html": [
       "<div>\n",
       "<style scoped>\n",
       "    .dataframe tbody tr th:only-of-type {\n",
       "        vertical-align: middle;\n",
       "    }\n",
       "\n",
       "    .dataframe tbody tr th {\n",
       "        vertical-align: top;\n",
       "    }\n",
       "\n",
       "    .dataframe thead th {\n",
       "        text-align: right;\n",
       "    }\n",
       "</style>\n",
       "<table border=\"1\" class=\"dataframe\">\n",
       "  <thead>\n",
       "    <tr style=\"text-align: right;\">\n",
       "      <th></th>\n",
       "      <th>WnvPresent</th>\n",
       "    </tr>\n",
       "    <tr>\n",
       "      <th>Species</th>\n",
       "      <th></th>\n",
       "    </tr>\n",
       "  </thead>\n",
       "  <tbody>\n",
       "    <tr>\n",
       "      <th>CULEX ERRATICUS</th>\n",
       "      <td>0.000000</td>\n",
       "    </tr>\n",
       "    <tr>\n",
       "      <th>CULEX PIPIENS</th>\n",
       "      <td>0.088922</td>\n",
       "    </tr>\n",
       "    <tr>\n",
       "      <th>CULEX PIPIENS/RESTUANS</th>\n",
       "      <td>0.055135</td>\n",
       "    </tr>\n",
       "    <tr>\n",
       "      <th>CULEX RESTUANS</th>\n",
       "      <td>0.017883</td>\n",
       "    </tr>\n",
       "    <tr>\n",
       "      <th>CULEX SALINARIUS</th>\n",
       "      <td>0.000000</td>\n",
       "    </tr>\n",
       "    <tr>\n",
       "      <th>CULEX TARSALIS</th>\n",
       "      <td>0.000000</td>\n",
       "    </tr>\n",
       "    <tr>\n",
       "      <th>CULEX TERRITANS</th>\n",
       "      <td>0.000000</td>\n",
       "    </tr>\n",
       "  </tbody>\n",
       "</table>\n",
       "</div>"
      ],
      "text/plain": [
       "                        WnvPresent\n",
       "Species                           \n",
       "CULEX ERRATICUS           0.000000\n",
       "CULEX PIPIENS             0.088922\n",
       "CULEX PIPIENS/RESTUANS    0.055135\n",
       "CULEX RESTUANS            0.017883\n",
       "CULEX SALINARIUS          0.000000\n",
       "CULEX TARSALIS            0.000000\n",
       "CULEX TERRITANS           0.000000"
      ]
     },
     "execution_count": 6,
     "metadata": {},
     "output_type": "execute_result"
    }
   ],
   "source": [
    "# Certain Species had a higher rate of occurance than others\n",
    "data_train['WnvPresent'].groupby(data_train['Species']).mean().to_frame()"
   ]
  },
  {
   "cell_type": "code",
   "execution_count": 7,
   "metadata": {},
   "outputs": [
    {
     "data": {
      "text/plain": [
       "CULEX PIPIENS/RESTUANS    4752\n",
       "CULEX RESTUANS            2740\n",
       "CULEX PIPIENS             2699\n",
       "CULEX TERRITANS            222\n",
       "CULEX SALINARIUS            86\n",
       "CULEX TARSALIS               6\n",
       "CULEX ERRATICUS              1\n",
       "Name: Species, dtype: int64"
      ]
     },
     "execution_count": 7,
     "metadata": {},
     "output_type": "execute_result"
    }
   ],
   "source": [
    "# Count of mosquito occurred by species\n",
    "data_train['Species'].value_counts()"
   ]
  },
  {
   "cell_type": "code",
   "execution_count": 8,
   "metadata": {},
   "outputs": [
    {
     "data": {
      "text/html": [
       "<div>\n",
       "<style scoped>\n",
       "    .dataframe tbody tr th:only-of-type {\n",
       "        vertical-align: middle;\n",
       "    }\n",
       "\n",
       "    .dataframe tbody tr th {\n",
       "        vertical-align: top;\n",
       "    }\n",
       "\n",
       "    .dataframe thead th {\n",
       "        text-align: right;\n",
       "    }\n",
       "</style>\n",
       "<table border=\"1\" class=\"dataframe\">\n",
       "  <thead>\n",
       "    <tr style=\"text-align: right;\">\n",
       "      <th></th>\n",
       "      <th>WnvPresent</th>\n",
       "    </tr>\n",
       "    <tr>\n",
       "      <th>Trap</th>\n",
       "      <th></th>\n",
       "    </tr>\n",
       "  </thead>\n",
       "  <tbody>\n",
       "    <tr>\n",
       "      <th>T900</th>\n",
       "      <td>66</td>\n",
       "    </tr>\n",
       "    <tr>\n",
       "      <th>T115</th>\n",
       "      <td>41</td>\n",
       "    </tr>\n",
       "    <tr>\n",
       "      <th>T002</th>\n",
       "      <td>18</td>\n",
       "    </tr>\n",
       "    <tr>\n",
       "      <th>T138</th>\n",
       "      <td>16</td>\n",
       "    </tr>\n",
       "    <tr>\n",
       "      <th>T003</th>\n",
       "      <td>14</td>\n",
       "    </tr>\n",
       "    <tr>\n",
       "      <th>T011</th>\n",
       "      <td>11</td>\n",
       "    </tr>\n",
       "    <tr>\n",
       "      <th>T225</th>\n",
       "      <td>11</td>\n",
       "    </tr>\n",
       "    <tr>\n",
       "      <th>T128</th>\n",
       "      <td>11</td>\n",
       "    </tr>\n",
       "    <tr>\n",
       "      <th>T903</th>\n",
       "      <td>10</td>\n",
       "    </tr>\n",
       "    <tr>\n",
       "      <th>T008</th>\n",
       "      <td>10</td>\n",
       "    </tr>\n",
       "  </tbody>\n",
       "</table>\n",
       "</div>"
      ],
      "text/plain": [
       "      WnvPresent\n",
       "Trap            \n",
       "T900          66\n",
       "T115          41\n",
       "T002          18\n",
       "T138          16\n",
       "T003          14\n",
       "T011          11\n",
       "T225          11\n",
       "T128          11\n",
       "T903          10\n",
       "T008          10"
      ]
     },
     "execution_count": 8,
     "metadata": {},
     "output_type": "execute_result"
    }
   ],
   "source": [
    "# Top ten traps by occurance of West Nile testing positive\n",
    "trap_freq = data_train[['WnvPresent']].groupby([data_train['Trap']]).sum().sort_values('WnvPresent', ascending=False).head(10)\n",
    "trap_freq"
   ]
  },
  {
   "cell_type": "code",
   "execution_count": 9,
   "metadata": {},
   "outputs": [
    {
     "data": {
      "text/plain": [
       "WnvPresent    0.377495\n",
       "dtype: float64"
      ]
     },
     "execution_count": 9,
     "metadata": {},
     "output_type": "execute_result"
    }
   ],
   "source": [
    "#Top ten traps account for 38% of total occurences\n",
    "trap_freq.sum() / data_train['WnvPresent'].sum()"
   ]
  },
  {
   "cell_type": "markdown",
   "metadata": {},
   "source": [
    "### 1.2.1 West Nile Yearly Trends"
   ]
  },
  {
   "cell_type": "code",
   "execution_count": 10,
   "metadata": {},
   "outputs": [
    {
     "data": {
      "image/png": "[encoded data removed]",
      "text/plain": [
       "<Figure size 720x360 with 1 Axes>"
      ]
     },
     "metadata": {},
     "output_type": "display_data"
    }
   ],
   "source": [
    "# 2007 and 2013 had more occurances of west nile than 2009 and 2011\n",
    "plt.figure(figsize=(10,5))\n",
    "plt.plot(df_train['WnvPresent'].resample('D').sum().rolling(window=7).mean(), alpha=1, lw=2)\n",
    "plt.title(\"Number of West Nile Cases over Rolling Week\", loc='Center', fontsize=12, fontweight=0, color='black')\n",
    "plt.xlabel(\"Date\")\n",
    "plt.ylabel(\"Count\");"
   ]
  },
  {
   "cell_type": "markdown",
   "metadata": {},
   "source": [
    "### 1.2.2 Additional Feature Research after Initial Model"
   ]
  },
  {
   "cell_type": "code",
   "execution_count": null,
   "metadata": {},
   "outputs": [],
   "source": []
  },
  {
   "cell_type": "code",
   "execution_count": null,
   "metadata": {},
   "outputs": [],
   "source": []
  },
  {
   "cell_type": "code",
   "execution_count": null,
   "metadata": {},
   "outputs": [],
   "source": []
  },
  {
   "cell_type": "code",
   "execution_count": null,
   "metadata": {},
   "outputs": [],
   "source": []
  },
  {
   "cell_type": "markdown",
   "metadata": {},
   "source": [
    "# <a class=\"anchor\" id=\"2.0-bullet\">2. Data Transformation </a>"
   ]
  },
  {
   "cell_type": "markdown",
   "metadata": {},
   "source": [
    "## 2.1 Weather Slice"
   ]
  },
  {
   "cell_type": "markdown",
   "metadata": {},
   "source": [
    "There are two weather stations in the main weather file: 1 for O'hare and 2 for Midway.\n",
    "O'hare is a more complete dataset, so we will start by using only this location."
   ]
  },
  {
   "cell_type": "code",
   "execution_count": 11,
   "metadata": {},
   "outputs": [],
   "source": [
    "weather_station_1 = data_weather.loc[data_weather.Station==1, :]\n",
    "weather_station_2 = data_weather.loc[data_weather.Station==2, :]"
   ]
  },
  {
   "cell_type": "code",
   "execution_count": 12,
   "metadata": {},
   "outputs": [],
   "source": [
    "weather_station_1 = weather_station_1.drop('Station', axis=1)\n",
    "weather_station_2 = weather_station_2.drop('Station', axis=1)"
   ]
  },
  {
   "cell_type": "code",
   "execution_count": 13,
   "metadata": {},
   "outputs": [],
   "source": [
    "# Convert Date to datetime format \n",
    "weather_station_1.loc[:, ['Date']] = pd.to_datetime(weather_station_1.Date)\n",
    "weather_station_2.loc[:, ['Date']] = pd.to_datetime(weather_station_2.Date)"
   ]
  },
  {
   "cell_type": "code",
   "execution_count": 14,
   "metadata": {},
   "outputs": [],
   "source": [
    "# Set index to Date\n",
    "weather_station_1.index = weather_station_1.Date\n",
    "weather_station_2.index = weather_station_2.Date"
   ]
  },
  {
   "cell_type": "markdown",
   "metadata": {},
   "source": [
    "## 2.2 Weather Convert Objects"
   ]
  },
  {
   "cell_type": "code",
   "execution_count": 15,
   "metadata": {},
   "outputs": [],
   "source": [
    "# Convert Avg Temperature to float\n",
    "weather_station_1.loc[:, ['Tavg']] = weather_station_1['Tavg'].astype('float64')"
   ]
  },
  {
   "cell_type": "code",
   "execution_count": 16,
   "metadata": {},
   "outputs": [],
   "source": [
    "# Convert Trace amount of rainfall and Precip from 'T' to value\n",
    "weather_station_1.loc[:, ['PrecipTotal']] = \\\n",
    "weather_station_1['PrecipTotal'].map(lambda x: .001 if x=='  T' else x).astype(float)\n",
    "weather_station_1.loc[:, ['SnowFall']] = \\\n",
    "weather_station_1['SnowFall'].map(lambda x: .001 if x=='  T' else x).astype(float)"
   ]
  },
  {
   "cell_type": "code",
   "execution_count": 17,
   "metadata": {},
   "outputs": [],
   "source": [
    "# Drop unecessary columns\n",
    "weather_station_1 = weather_station_1.drop('Depart', axis=1)\n",
    "weather_station_1 = weather_station_1.drop('Water1', axis=1)"
   ]
  },
  {
   "cell_type": "code",
   "execution_count": 18,
   "metadata": {},
   "outputs": [
    {
     "data": {
      "text/plain": [
       "Date           0\n",
       "Tmax           0\n",
       "Tmin           0\n",
       "Tavg           0\n",
       "DewPoint       0\n",
       "WetBulb        3\n",
       "Heat           0\n",
       "Cool           0\n",
       "Sunrise        0\n",
       "Sunset         0\n",
       "CodeSum        0\n",
       "Depth          0\n",
       "SnowFall       0\n",
       "PrecipTotal    0\n",
       "StnPressure    2\n",
       "SeaLevel       5\n",
       "ResultSpeed    0\n",
       "ResultDir      0\n",
       "AvgSpeed       0\n",
       "dtype: int64"
      ]
     },
     "execution_count": 18,
     "metadata": {},
     "output_type": "execute_result"
    }
   ],
   "source": [
    "# There are three columns with a 'M' that will need to be replaced\n",
    "weather_station_1[weather_station_1 == 'M'].count()"
   ]
  },
  {
   "cell_type": "code",
   "execution_count": 19,
   "metadata": {},
   "outputs": [],
   "source": [
    "# ONLY RUN THIS CELL ONCE\n",
    "#find means without 'M' values and fill in blank - less than 5 for each\n",
    "stnpressure_mean = weather_station_1[weather_station_1['StnPressure']!='M']['StnPressure'].astype(float).mean()\n",
    "sealevel_mean = weather_station_1[weather_station_1['SeaLevel']!='M']['SeaLevel'].astype(float).mean()\n",
    "wetbulb_mean = weather_station_1[weather_station_1['WetBulb']!='M']['WetBulb'].astype(float).mean()\n",
    "\n",
    "#Replace M with mean, leave others alone\n",
    "weather_station_1.loc[:, 'StnPressure'] = \\\n",
    "weather_station_1['StnPressure'].map(lambda x: stnpressure_mean if x=='M' else x).astype(float);\n",
    "\n",
    "weather_station_1.loc[:, 'SeaLevel'] = \\\n",
    "weather_station_1['SeaLevel'].map(lambda x: sealevel_mean if x=='M' else x).astype(float)\n",
    "\n",
    "weather_station_1.loc[:, 'WetBulb'] = \\\n",
    "weather_station_1['WetBulb'].map(lambda x: wetbulb_mean if x=='M' else x).astype(float);"
   ]
  },
  {
   "cell_type": "markdown",
   "metadata": {},
   "source": [
    "## 2.3 Complete Weather dataframe"
   ]
  },
  {
   "cell_type": "code",
   "execution_count": 20,
   "metadata": {},
   "outputs": [
    {
     "data": {
      "text/html": [
       "<div>\n",
       "<style scoped>\n",
       "    .dataframe tbody tr th:only-of-type {\n",
       "        vertical-align: middle;\n",
       "    }\n",
       "\n",
       "    .dataframe tbody tr th {\n",
       "        vertical-align: top;\n",
       "    }\n",
       "\n",
       "    .dataframe thead th {\n",
       "        text-align: right;\n",
       "    }\n",
       "</style>\n",
       "<table border=\"1\" class=\"dataframe\">\n",
       "  <thead>\n",
       "    <tr style=\"text-align: right;\">\n",
       "      <th></th>\n",
       "      <th>Date</th>\n",
       "      <th>Tmax</th>\n",
       "      <th>Tmin</th>\n",
       "      <th>Tavg</th>\n",
       "      <th>DewPoint</th>\n",
       "      <th>WetBulb</th>\n",
       "      <th>Heat</th>\n",
       "      <th>Cool</th>\n",
       "      <th>Sunrise</th>\n",
       "      <th>Sunset</th>\n",
       "      <th>CodeSum</th>\n",
       "      <th>Depth</th>\n",
       "      <th>SnowFall</th>\n",
       "      <th>PrecipTotal</th>\n",
       "      <th>StnPressure</th>\n",
       "      <th>SeaLevel</th>\n",
       "      <th>ResultSpeed</th>\n",
       "      <th>ResultDir</th>\n",
       "      <th>AvgSpeed</th>\n",
       "    </tr>\n",
       "    <tr>\n",
       "      <th>Date</th>\n",
       "      <th></th>\n",
       "      <th></th>\n",
       "      <th></th>\n",
       "      <th></th>\n",
       "      <th></th>\n",
       "      <th></th>\n",
       "      <th></th>\n",
       "      <th></th>\n",
       "      <th></th>\n",
       "      <th></th>\n",
       "      <th></th>\n",
       "      <th></th>\n",
       "      <th></th>\n",
       "      <th></th>\n",
       "      <th></th>\n",
       "      <th></th>\n",
       "      <th></th>\n",
       "      <th></th>\n",
       "      <th></th>\n",
       "    </tr>\n",
       "  </thead>\n",
       "  <tbody>\n",
       "    <tr>\n",
       "      <th>2007-05-01</th>\n",
       "      <td>2007-05-01</td>\n",
       "      <td>83</td>\n",
       "      <td>50</td>\n",
       "      <td>67.0</td>\n",
       "      <td>51</td>\n",
       "      <td>56.0</td>\n",
       "      <td>0</td>\n",
       "      <td>2</td>\n",
       "      <td>0448</td>\n",
       "      <td>1849</td>\n",
       "      <td></td>\n",
       "      <td>0</td>\n",
       "      <td>0.0</td>\n",
       "      <td>0.000</td>\n",
       "      <td>29.10</td>\n",
       "      <td>29.82</td>\n",
       "      <td>1.7</td>\n",
       "      <td>27</td>\n",
       "      <td>9.2</td>\n",
       "    </tr>\n",
       "    <tr>\n",
       "      <th>2007-05-02</th>\n",
       "      <td>2007-05-02</td>\n",
       "      <td>59</td>\n",
       "      <td>42</td>\n",
       "      <td>51.0</td>\n",
       "      <td>42</td>\n",
       "      <td>47.0</td>\n",
       "      <td>14</td>\n",
       "      <td>0</td>\n",
       "      <td>0447</td>\n",
       "      <td>1850</td>\n",
       "      <td>BR</td>\n",
       "      <td>0</td>\n",
       "      <td>0.0</td>\n",
       "      <td>0.000</td>\n",
       "      <td>29.38</td>\n",
       "      <td>30.09</td>\n",
       "      <td>13.0</td>\n",
       "      <td>4</td>\n",
       "      <td>13.4</td>\n",
       "    </tr>\n",
       "    <tr>\n",
       "      <th>2007-05-03</th>\n",
       "      <td>2007-05-03</td>\n",
       "      <td>66</td>\n",
       "      <td>46</td>\n",
       "      <td>56.0</td>\n",
       "      <td>40</td>\n",
       "      <td>48.0</td>\n",
       "      <td>9</td>\n",
       "      <td>0</td>\n",
       "      <td>0446</td>\n",
       "      <td>1851</td>\n",
       "      <td></td>\n",
       "      <td>0</td>\n",
       "      <td>0.0</td>\n",
       "      <td>0.000</td>\n",
       "      <td>29.39</td>\n",
       "      <td>30.12</td>\n",
       "      <td>11.7</td>\n",
       "      <td>7</td>\n",
       "      <td>11.9</td>\n",
       "    </tr>\n",
       "    <tr>\n",
       "      <th>2007-05-04</th>\n",
       "      <td>2007-05-04</td>\n",
       "      <td>66</td>\n",
       "      <td>49</td>\n",
       "      <td>58.0</td>\n",
       "      <td>41</td>\n",
       "      <td>50.0</td>\n",
       "      <td>7</td>\n",
       "      <td>0</td>\n",
       "      <td>0444</td>\n",
       "      <td>1852</td>\n",
       "      <td>RA</td>\n",
       "      <td>0</td>\n",
       "      <td>0.0</td>\n",
       "      <td>0.001</td>\n",
       "      <td>29.31</td>\n",
       "      <td>30.05</td>\n",
       "      <td>10.4</td>\n",
       "      <td>8</td>\n",
       "      <td>10.8</td>\n",
       "    </tr>\n",
       "    <tr>\n",
       "      <th>2007-05-05</th>\n",
       "      <td>2007-05-05</td>\n",
       "      <td>66</td>\n",
       "      <td>53</td>\n",
       "      <td>60.0</td>\n",
       "      <td>38</td>\n",
       "      <td>49.0</td>\n",
       "      <td>5</td>\n",
       "      <td>0</td>\n",
       "      <td>0443</td>\n",
       "      <td>1853</td>\n",
       "      <td></td>\n",
       "      <td>0</td>\n",
       "      <td>0.0</td>\n",
       "      <td>0.001</td>\n",
       "      <td>29.40</td>\n",
       "      <td>30.10</td>\n",
       "      <td>11.7</td>\n",
       "      <td>7</td>\n",
       "      <td>12.0</td>\n",
       "    </tr>\n",
       "  </tbody>\n",
       "</table>\n",
       "</div>"
      ],
      "text/plain": [
       "                 Date  Tmax  Tmin  Tavg  DewPoint  WetBulb Heat Cool Sunrise  \\\n",
       "Date                                                                           \n",
       "2007-05-01 2007-05-01    83    50  67.0        51     56.0    0    2    0448   \n",
       "2007-05-02 2007-05-02    59    42  51.0        42     47.0   14    0    0447   \n",
       "2007-05-03 2007-05-03    66    46  56.0        40     48.0    9    0    0446   \n",
       "2007-05-04 2007-05-04    66    49  58.0        41     50.0    7    0    0444   \n",
       "2007-05-05 2007-05-05    66    53  60.0        38     49.0    5    0    0443   \n",
       "\n",
       "           Sunset CodeSum Depth  SnowFall  PrecipTotal  StnPressure  SeaLevel  \\\n",
       "Date                                                                            \n",
       "2007-05-01   1849             0       0.0        0.000        29.10     29.82   \n",
       "2007-05-02   1850      BR     0       0.0        0.000        29.38     30.09   \n",
       "2007-05-03   1851             0       0.0        0.000        29.39     30.12   \n",
       "2007-05-04   1852      RA     0       0.0        0.001        29.31     30.05   \n",
       "2007-05-05   1853             0       0.0        0.001        29.40     30.10   \n",
       "\n",
       "            ResultSpeed  ResultDir AvgSpeed  \n",
       "Date                                         \n",
       "2007-05-01          1.7         27      9.2  \n",
       "2007-05-02         13.0          4     13.4  \n",
       "2007-05-03         11.7          7     11.9  \n",
       "2007-05-04         10.4          8     10.8  \n",
       "2007-05-05         11.7          7     12.0  "
      ]
     },
     "execution_count": 20,
     "metadata": {},
     "output_type": "execute_result"
    }
   ],
   "source": [
    "weather_station_1.head()"
   ]
  },
  {
   "cell_type": "markdown",
   "metadata": {},
   "source": [
    "### 2.3.1 Addition Weather Features"
   ]
  },
  {
   "cell_type": "code",
   "execution_count": 21,
   "metadata": {},
   "outputs": [],
   "source": [
    "#Create dummy columns for weather codes\n",
    "\n",
    "#list all columns\n",
    "templist = [element for element in weather_station_1['CodeSum'].str.split(' ').tolist()]\n",
    "newl = []\n",
    "#get all tags\n",
    "for element in templist:\n",
    "    for subelement in element:\n",
    "        newl.append(subelement)\n",
    "Codes_list = list(set(newl))\n",
    "Codes_list.pop(0)\n",
    "\n",
    "#Create new columns and score 1 if present in original CodeSum value\n",
    "for code in Codes_list:\n",
    "    weather_station_1.loc[:, code] = weather_station_1['CodeSum'].str.contains(code)*1\n",
    "weather_station_1 = weather_station_1.drop('CodeSum', axis=1)"
   ]
  },
  {
   "cell_type": "code",
   "execution_count": 22,
   "metadata": {},
   "outputs": [],
   "source": [
    "#Convert remaining cols to float. Leftover errors from station 2\n",
    "obj_cols = [col for col in weather_station_1.columns if weather_station_1[col].dtype=='object']\n",
    "for col in weather_station_1:\n",
    "    if col in obj_cols:\n",
    "        weather_station_1.loc[:, col] = weather_station_1[col].astype('float64')"
   ]
  },
  {
   "cell_type": "markdown",
   "metadata": {},
   "source": [
    "### 2.3.2 Weather Station 2 (not necessary)"
   ]
  },
  {
   "cell_type": "code",
   "execution_count": 23,
   "metadata": {},
   "outputs": [],
   "source": [
    "weather_station_2 = weather_station_2.drop(['Depart', 'Depth', 'Water1', 'SnowFall'], axis=1)"
   ]
  },
  {
   "cell_type": "code",
   "execution_count": 24,
   "metadata": {},
   "outputs": [
    {
     "name": "stdout",
     "output_type": "stream",
     "text": [
      "    Tavg 11\n",
      "    WetBulb 1\n",
      "    Heat 11\n",
      "    Cool 11\n",
      "    PrecipTotal 2\n",
      "    StnPressure 2\n",
      "    SeaLevel 4\n",
      "    AvgSpeed 3\n"
     ]
    },
    {
     "name": "stderr",
     "output_type": "stream",
     "text": [
      "C:\\ProgramData\\Anaconda3\\lib\\site-packages\\pandas\\core\\ops.py:1164: FutureWarning: elementwise comparison failed; returning scalar instead, but in the future will perform elementwise comparison\n",
      "  result = method(y)\n"
     ]
    }
   ],
   "source": [
    "Mcols=[]\n",
    "for col in weather_station_2.columns:\n",
    "    try:\n",
    "        if weather_station_2[weather_station_2[col]=='M'].shape[0] > 0:\n",
    "            print('   ', col, weather_station_2[weather_station_2[col]=='M'].shape[0])\n",
    "            Mcols.append(col)\n",
    "    except:\n",
    "        next"
   ]
  },
  {
   "cell_type": "code",
   "execution_count": 25,
   "metadata": {},
   "outputs": [],
   "source": [
    "# Convert Trace amount of rainfall and Precip from 'T' to value\n",
    "weather_station_2.loc[:, ['PrecipTotal']] = \\\n",
    "weather_station_2['PrecipTotal'].map(lambda x: .005 if x=='  T' else x)"
   ]
  },
  {
   "cell_type": "code",
   "execution_count": 26,
   "metadata": {},
   "outputs": [],
   "source": [
    "for col in Mcols:\n",
    "    tempmean =  weather_station_2[weather_station_2[col]!='M'][col].astype(float).mean()\n",
    "    weather_station_2.loc[:, col] = \\\n",
    "weather_station_2[col].map(lambda x: tempmean if x=='M' else x).astype(float)"
   ]
  },
  {
   "cell_type": "code",
   "execution_count": 27,
   "metadata": {},
   "outputs": [],
   "source": [
    "#Create dummy columns for weather codes\n",
    "\n",
    "#list all columns\n",
    "templist = [element for element in weather_station_2['CodeSum'].str.split(' ').tolist()]\n",
    "newl = []\n",
    "#get all tags\n",
    "for element in templist:\n",
    "    for subelement in element:\n",
    "        newl.append(subelement)\n",
    "Codes_list = list(set(newl))\n",
    "Codes_list.pop(0)\n",
    "\n",
    "#Create new columns and score 1 if present in original CodeSum value\n",
    "for code in Codes_list:\n",
    "    weather_station_2.loc[:, code] = weather_station_2['CodeSum'].str.contains(code)*1\n",
    "weather_station_2 = weather_station_2.drop('CodeSum', axis=1)\n",
    "#Not using these anyway\n",
    "weather_station_2 = weather_station_2.drop(['Sunrise', 'Sunset'], axis=1)"
   ]
  },
  {
   "cell_type": "markdown",
   "metadata": {},
   "source": [
    "## 2.2 Training Data Munging"
   ]
  },
  {
   "cell_type": "markdown",
   "metadata": {},
   "source": [
    "We will need to combine the train and test data with relevant addtional information for the weather and spray datasets.\n",
    "\n",
    "This will be done by combine dataset using the index after it has been set to the date.\n"
   ]
  },
  {
   "cell_type": "markdown",
   "metadata": {},
   "source": [
    "### 2.2.1 Time Series"
   ]
  },
  {
   "cell_type": "markdown",
   "metadata": {},
   "source": [
    "#### 2.2.1.1 Basic Conversion"
   ]
  },
  {
   "cell_type": "code",
   "execution_count": 28,
   "metadata": {},
   "outputs": [],
   "source": [
    "#Create Days from start column for easy analysis\n",
    "BeginDate = datetime.date(2007, 4, 30)\n",
    "df_train.loc[:, 'DaysFrom'] = df_train.index - pd.to_datetime(BeginDate)\n",
    "#extract date number from datetime entry. Should capture broad time dependence\n",
    "df_train.loc[:, 'DaysFrom'] = df_train['DaysFrom'].astype(str).str.replace(' days 00:00:00.000000000', '').astype(int)\n",
    "#Extract Month information\n",
    "df_train.loc[:, 'Month'] = df_train.index.month"
   ]
  },
  {
   "cell_type": "code",
   "execution_count": 29,
   "metadata": {},
   "outputs": [],
   "source": [
    "#Add measurement in for YearDay \n",
    "df_train['YearDay'] = df_train.index.dayofyear"
   ]
  },
  {
   "cell_type": "markdown",
   "metadata": {},
   "source": [
    "#### 2.2.1.2 Seasonal Adjustments to Baseline Probability"
   ]
  },
  {
   "cell_type": "code",
   "execution_count": 30,
   "metadata": {},
   "outputs": [],
   "source": [
    "#Create a normalized graph to observe seasonality across years\n",
    "year_day = pd.DataFrame(df_train.index.dayofyear)\n",
    "year_day['Wnv'] = pd.DataFrame(df_train['WnvPresent']).reset_index().drop('Date', axis=1)\n",
    "#Total number of occurences by day of the year\n",
    "daily_sums = year_day.groupby(by='Date').sum()"
   ]
  },
  {
   "cell_type": "code",
   "execution_count": 31,
   "metadata": {},
   "outputs": [
    {
     "data": {
      "image/png": "[encoded data removed]",
      "text/plain": [
       "<Figure size 432x288 with 1 Axes>"
      ]
     },
     "metadata": {},
     "output_type": "display_data"
    }
   ],
   "source": [
    "#Shift up two days to capture Friday-Monday jump\n",
    "#2 seems to be an appropriate normalization factor\n",
    "normizer = 2\n",
    "rolls = pd.Series([daily_sums.iloc[row-5:row+2].mean().sum()*normizer for row in range(len(daily_sums))])\n",
    "rolls.index = daily_sums.index\n",
    "plt.plot(rolls)\n",
    "plt.plot(year_day.groupby(by='Date').sum());#confirm this is from skipped weekends or something"
   ]
  },
  {
   "cell_type": "code",
   "execution_count": 32,
   "metadata": {},
   "outputs": [
    {
     "data": {
      "text/plain": [
       "[<matplotlib.lines.Line2D at 0x251f5e95198>]"
      ]
     },
     "execution_count": 32,
     "metadata": {},
     "output_type": "execute_result"
    },
    {
     "data": {
      "image/png": "[encoded data removed]",
      "text/plain": [
       "<Figure size 432x288 with 1 Axes>"
      ]
     },
     "metadata": {},
     "output_type": "display_data"
    }
   ],
   "source": [
    "#Normalize by total rows used in calculation\n",
    "rolling_count = year_day.groupby(by='Date').count()\n",
    "rolling_average_rate = rolls / rolling_count['Wnv'].mean()/normizer\n",
    "plt.plot( rolling_average_rate)\n",
    "plt.plot(year_day.groupby(by='Date').sum() /rolling_count)"
   ]
  },
  {
   "cell_type": "code",
   "execution_count": 33,
   "metadata": {},
   "outputs": [],
   "source": [
    "# Create\n",
    "rolling_average_rate = pd.DataFrame(rolling_average_rate, columns=['seasonal_baseline'])"
   ]
  },
  {
   "cell_type": "code",
   "execution_count": 34,
   "metadata": {},
   "outputs": [],
   "source": [
    "\"\"\"In the above, I assume the drop offs in frequency are generally due \n",
    "to anomolies in the collection method, as opposed to true changes. \n",
    "In any event, we need a complete set of predicted probabilities for all dates in the\n",
    "range, include those missing in the training set. By fitting a curve,\n",
    "we are able to fill in the blanks programatically\"\"\"\n",
    "mu, std = sp.stats.norm.fit(list(rolls.index))"
   ]
  },
  {
   "cell_type": "code",
   "execution_count": 35,
   "metadata": {},
   "outputs": [
    {
     "data": {
      "text/plain": [
       "[<matplotlib.lines.Line2D at 0x251f5e724a8>]"
      ]
     },
     "execution_count": 35,
     "metadata": {},
     "output_type": "execute_result"
    },
    {
     "data": {
      "image/png": "[encoded data removed]",
      "text/plain": [
       "<Figure size 432x288 with 1 Axes>"
      ]
     },
     "metadata": {},
     "output_type": "display_data"
    }
   ],
   "source": [
    "\"\"\"This is graphed here for a reason. \n",
    "the following variables are pure manual calibration to get what I want.\n",
    "6: raise max\n",
    "25: shift center to match actual date distrubtion\n",
    "3.5: tighten up the standard deviation\n",
    ".01: increase baseline to catch relative outliers.\"\"\"\n",
    "\n",
    "norm_list = []\n",
    "#Min and max dates in train and test data\n",
    "_min = 140\n",
    "_max = 290\n",
    "for i in range(_min, _max):\n",
    "    norm_list.append(6*sp.stats.norm.pdf(i-25, mu, std/3.5)+.01)\n",
    "\n",
    "plt.plot(np.linspace(_min, _max, len(norm_list)), norm_list)\n",
    "plt.plot(year_day.groupby(by='Date').sum() /rolling_count)"
   ]
  },
  {
   "cell_type": "code",
   "execution_count": 36,
   "metadata": {},
   "outputs": [],
   "source": [
    "seasonal_dict = {}\n",
    "for i in range(len(norm_list)):\n",
    "    seasonal_dict[140+i] = norm_list[i]"
   ]
  },
  {
   "cell_type": "markdown",
   "metadata": {},
   "source": [
    "### 2.2.2 Combine with weather data"
   ]
  },
  {
   "cell_type": "code",
   "execution_count": 37,
   "metadata": {},
   "outputs": [],
   "source": [
    "#Create rolling average for all weather columns.\n",
    "weather_rolling_7 = weather_station_1.resample('D').sum().rolling(window=7).mean().shift()\n",
    "weather_rolling_14 = weather_station_1.resample('D').sum().rolling(window=7).mean().shift()\n"
   ]
  },
  {
   "cell_type": "code",
   "execution_count": 38,
   "metadata": {
    "scrolled": true
   },
   "outputs": [],
   "source": [
    "#Weather Data on different rolling averages, this will be referenced later in fine tuning\n",
    "weather_rolling_1 = weather_station_1.resample('D').sum()\n",
    "weather_rolling_5 = weather_station_1.resample('D').sum().rolling(window=5).mean().shift()\n",
    "weather_rolling_10 = weather_station_1.resample('D').sum().rolling(window=10).mean().shift()\n",
    "weather_rolling_15 = weather_station_1.resample('D').sum().rolling(window=15).mean().shift()\n",
    "weather_rolling_20 = weather_station_1.resample('D').sum().rolling(window=20).mean().shift()"
   ]
  },
  {
   "cell_type": "code",
   "execution_count": 39,
   "metadata": {},
   "outputs": [],
   "source": [
    "#Weather data on different rolling totals, used for precipitation totals\n",
    "weather_rain_1 = weather_station_1.resample('D').sum()\n",
    "weather_rain_5 = weather_station_1.resample('D').sum().rolling(window=5).sum().shift()\n",
    "weather_rain_10 = weather_station_1.resample('D').sum().rolling(window=10).sum().shift()\n",
    "weather_rain_15 = weather_station_1.resample('D').sum().rolling(window=15).sum().shift()\n",
    "weather_rain_20 = weather_station_1.resample('D').sum().rolling(window=20).sum().shift()"
   ]
  },
  {
   "cell_type": "markdown",
   "metadata": {},
   "source": [
    "### 2.2.3 Dummy Columns"
   ]
  },
  {
   "cell_type": "code",
   "execution_count": 40,
   "metadata": {},
   "outputs": [],
   "source": [
    "df_species_dummies = pd.get_dummies(df_train['Species'])\n",
    "df_trap_dummies = pd.get_dummies(df_train['Trap'])"
   ]
  },
  {
   "cell_type": "markdown",
   "metadata": {},
   "source": [
    "## 2.3 Final Concatention"
   ]
  },
  {
   "cell_type": "code",
   "execution_count": 41,
   "metadata": {},
   "outputs": [],
   "source": [
    "#CAUTION: JOINING DATAFRAMES IS MEMORY INTENSIVE"
   ]
  },
  {
   "cell_type": "code",
   "execution_count": 42,
   "metadata": {},
   "outputs": [],
   "source": [
    "#YOU HAVE BEEN WARNED"
   ]
  },
  {
   "cell_type": "code",
   "execution_count": 43,
   "metadata": {},
   "outputs": [],
   "source": [
    "#Using left join to only include weather rows that are in training set\n",
    "weather_rolling_formodel = weather_rolling_15\n",
    "\n",
    "df_combined = df_train.join(weather_rolling_formodel, how='left')"
   ]
  },
  {
   "cell_type": "code",
   "execution_count": 44,
   "metadata": {},
   "outputs": [
    {
     "data": {
      "text/plain": [
       "'Question: should trap dummies be included alongside longitude / latitude?\\nPossible overfit.'"
      ]
     },
     "execution_count": 44,
     "metadata": {},
     "output_type": "execute_result"
    }
   ],
   "source": [
    "\"\"\"Question: should trap dummies be included alongside longitude / latitude?\n",
    "Possible overfit.\"\"\""
   ]
  },
  {
   "cell_type": "code",
   "execution_count": 45,
   "metadata": {},
   "outputs": [],
   "source": [
    "# First run\n",
    "df_combined = pd.concat([df_combined,df_species_dummies, df_trap_dummies], axis=1)"
   ]
  },
  {
   "cell_type": "code",
   "execution_count": 46,
   "metadata": {},
   "outputs": [],
   "source": [
    "cols_to_drop = ['Address', 'Species', 'Block', 'Street', 'Trap', 'AddressNumberAndStreet', 'AddressAccuracy', 'Date']\n",
    "df_combined = df_combined.drop(cols_to_drop, axis=1)"
   ]
  },
  {
   "cell_type": "markdown",
   "metadata": {},
   "source": [
    "# <a class=\"anchor\" id=\"3.0-bullet\">3. Model </a>"
   ]
  },
  {
   "cell_type": "markdown",
   "metadata": {},
   "source": [
    "### 3.0.1 Analysis Setup"
   ]
  },
  {
   "cell_type": "code",
   "execution_count": 47,
   "metadata": {},
   "outputs": [],
   "source": [
    "# Function that makes confusion matrix and outputs ROC score\n",
    "def make_pretty_conmat(y_test, predictions):\n",
    "    conmat = confusion_matrix(y_test, predictions)\n",
    "    conmat_df = pd.DataFrame(conmat, columns=['Predicted 0', 'Pred 1'], index=['Actual 0', 'Actual 1'])\n",
    "    conmat_df = conmat_df.add_prefix('Predicted: ')\n",
    "    print(f\"ROC score: {roc_auc_score(y_test, predictions)}\")\n",
    "    return conmat_df"
   ]
  },
  {
   "cell_type": "code",
   "execution_count": 48,
   "metadata": {},
   "outputs": [],
   "source": [
    "# Runs and outputs results into dataframe of any model input along with train/test data\n",
    "def roc_calculate(model,X_train,y_train,X_test, y_test):\n",
    "    df_roc = pd.DataFrame(columns=['models','train', 'test'])\n",
    "    for mod in range(0,len(model)):\n",
    "        # Set and fit model from list\n",
    "        use_model = model[mod]\n",
    "        use_model.fit(X_train,y_train)\n",
    "        # Create predictions\n",
    "        y_train_predicted = use_model.predict_proba(X_train)\n",
    "        y_test_predicted = use_model.predict_proba(X_test)\n",
    "        #Isolate positive prediction values \n",
    "        wnv_train_preds = [proba[1] for proba in y_train_predicted]\n",
    "        wnv_test_preds = [proba[1] for proba in y_test_predicted]\n",
    "        #Score and save value\n",
    "        train = roc_auc_score(y_train, wnv_train_preds)\n",
    "        test = roc_auc_score(y_test, wnv_test_preds)\n",
    "        # Set name and add to dataframe\n",
    "        name = str(model[mod])\n",
    "        df_roc.loc[len(df_roc)] = [name, train, test]\n",
    "    return df_roc"
   ]
  },
  {
   "cell_type": "code",
   "execution_count": 49,
   "metadata": {},
   "outputs": [],
   "source": [
    "#def Im_a_function_use_me()\n",
    "##get wnv predictors\n",
    "#proba_array = [proba[1] for proba in our_model.predict_proba(X_test)]\n",
    "##find seasonal adjustment from year day\n",
    "#adj_score = pd.Series(X_test.index.dayofyear, index=X_test.index).map(lambda x: seasonal_dict[x])\n",
    "\n",
    "#print('   base: ', roc_auc_score(y_test, proba_array))\n",
    "#print('   seasonal: ', roc_auc_score(y_test, proba_array + adj_score))"
   ]
  },
  {
   "cell_type": "markdown",
   "metadata": {},
   "source": [
    "## 3.1 Initial Model"
   ]
  },
  {
   "cell_type": "code",
   "execution_count": 90,
   "metadata": {},
   "outputs": [],
   "source": [
    "#Most weather columns show evidence of overfit\n",
    "weather_cols = list(weather_rolling_formodel.columns)\n",
    "\n",
    "# Set columns to exlude from features matrix\n",
    "cols_to_exclude = ['Date','WnvPresent', 'NumMosquitos', 'DaysFrom', \n",
    "                   'Sunrise', 'Sunset',  'StationNum', 'Depth', 'SN',\n",
    "                   'Month', 'seasonal_baseline','Address',\n",
    "                   'Species', 'Block','Street','Trap', 'AddressAccuracy', 'AddressNumberAndStreet', \n",
    "                   'Latitude', 'Longitude'\n",
    "                  ]\n",
    "for element in weather_rolling_formodel.columns:\n",
    "    if element not in weather_cols:\n",
    "        cols_to_exclude.append(element)\n",
    "model_cols = [col for col in df_combined.columns if col not in cols_to_exclude]"
   ]
  },
  {
   "cell_type": "code",
   "execution_count": 91,
   "metadata": {},
   "outputs": [],
   "source": [
    "# Set X and y matrices\n",
    "X = df_combined.loc[:, model_cols]\n",
    "y = df_train['WnvPresent']"
   ]
  },
  {
   "cell_type": "code",
   "execution_count": 92,
   "metadata": {},
   "outputs": [],
   "source": [
    "\"\"\"This normalization is done to allow flexible and recoverable transformations.\n",
    "For example, if cols_to_normalize is set to weather_cols,\n",
    "only those columns will be normalized. \n",
    "Inclusion should depend upon model selected.\"\"\"\n",
    "cols_to_normalize = model_cols\n",
    "norm_dict = {}\n",
    "for col in cols_to_normalize:\n",
    "    _df_cur = X.loc[:, col]\n",
    "    _mean = _df_cur.mean()\n",
    "    _std = _df_cur.std()\n",
    "    #Store for test data transform\n",
    "    norm_dict[col] = [_mean, _std]\n",
    "\n",
    "    X.loc[:, col] = (X.loc[:, col] - _mean) / _std"
   ]
  },
  {
   "cell_type": "code",
   "execution_count": 93,
   "metadata": {
    "scrolled": true
   },
   "outputs": [
    {
     "name": "stdout",
     "output_type": "stream",
     "text": [
      "['YearDay', 'Tmax', 'Tmin', 'Tavg', 'DewPoint', 'WetBulb', 'Heat', 'Cool', 'SnowFall', 'PrecipTotal', 'StnPressure', 'SeaLevel', 'ResultSpeed', 'ResultDir', 'AvgSpeed', 'BR', 'HZ', 'SQ', 'TS', 'BCFG', 'FG+', 'VCTS', 'FG', 'TSRA', 'MIFG', 'RA', 'FU', 'DZ', 'CULEX ERRATICUS', 'CULEX PIPIENS', 'CULEX PIPIENS/RESTUANS', 'CULEX RESTUANS', 'CULEX SALINARIUS', 'CULEX TARSALIS', 'CULEX TERRITANS', 'T001', 'T002', 'T003', 'T004', 'T005', 'T006', 'T007', 'T008', 'T009', 'T011', 'T012', 'T013', 'T014', 'T015', 'T016', 'T017', 'T018', 'T019', 'T025', 'T027', 'T028', 'T030', 'T031', 'T033', 'T034', 'T035', 'T036', 'T037', 'T039', 'T040', 'T043', 'T044', 'T045', 'T046', 'T047', 'T048', 'T049', 'T050', 'T051', 'T054', 'T054C', 'T060', 'T061', 'T062', 'T063', 'T065', 'T066', 'T067', 'T069', 'T070', 'T071', 'T072', 'T073', 'T074', 'T075', 'T076', 'T077', 'T078', 'T079', 'T080', 'T081', 'T082', 'T083', 'T084', 'T085', 'T086', 'T088', 'T089', 'T090', 'T091', 'T092', 'T094', 'T094B', 'T095', 'T096', 'T097', 'T099', 'T100', 'T102', 'T103', 'T107', 'T114', 'T115', 'T128', 'T129', 'T135', 'T138', 'T141', 'T142', 'T143', 'T144', 'T145', 'T146', 'T147', 'T148', 'T149', 'T150', 'T151', 'T152', 'T153', 'T154', 'T155', 'T156', 'T157', 'T158', 'T159', 'T160', 'T161', 'T162', 'T200', 'T206', 'T209', 'T212', 'T215', 'T218', 'T219', 'T220', 'T221', 'T222', 'T223', 'T224', 'T225', 'T226', 'T227', 'T228', 'T229', 'T230', 'T231', 'T232', 'T233', 'T235', 'T236', 'T237', 'T238', 'T900', 'T903']\n"
     ]
    }
   ],
   "source": [
    "print(list(X.columns))"
   ]
  },
  {
   "cell_type": "code",
   "execution_count": 94,
   "metadata": {},
   "outputs": [],
   "source": [
    "#Stratification on Days From should ensure usable spread in time data. Should get most periods in train and test\n",
    "X_train, X_test, y_train, y_test = train_test_split(X, y, stratify=X.index, random_state=42)"
   ]
  },
  {
   "cell_type": "code",
   "execution_count": 95,
   "metadata": {},
   "outputs": [],
   "source": [
    "# List of initial classifiers to review\n",
    "classifiers = [\n",
    "    LogisticRegression(random_state=42),\n",
    "    KNeighborsClassifier(n_neighbors=8),\n",
    "    BaggingClassifier(random_state=42),\n",
    "    RandomForestClassifier(random_state=42),\n",
    "    AdaBoostClassifier(random_state=42),\n",
    "    SVC(probability=True)]"
   ]
  },
  {
   "cell_type": "code",
   "execution_count": 96,
   "metadata": {},
   "outputs": [
    {
     "data": {
      "text/html": [
       "<div>\n",
       "<style scoped>\n",
       "    .dataframe tbody tr th:only-of-type {\n",
       "        vertical-align: middle;\n",
       "    }\n",
       "\n",
       "    .dataframe tbody tr th {\n",
       "        vertical-align: top;\n",
       "    }\n",
       "\n",
       "    .dataframe thead th {\n",
       "        text-align: right;\n",
       "    }\n",
       "</style>\n",
       "<table border=\"1\" class=\"dataframe\">\n",
       "  <thead>\n",
       "    <tr style=\"text-align: right;\">\n",
       "      <th></th>\n",
       "      <th>models</th>\n",
       "      <th>train</th>\n",
       "      <th>test</th>\n",
       "    </tr>\n",
       "  </thead>\n",
       "  <tbody>\n",
       "    <tr>\n",
       "      <th>0</th>\n",
       "      <td>LogisticRegression(C=1.0, class_weight=None, d...</td>\n",
       "      <td>0.878722</td>\n",
       "      <td>0.832935</td>\n",
       "    </tr>\n",
       "    <tr>\n",
       "      <th>1</th>\n",
       "      <td>KNeighborsClassifier(algorithm='auto', leaf_si...</td>\n",
       "      <td>0.907889</td>\n",
       "      <td>0.739234</td>\n",
       "    </tr>\n",
       "    <tr>\n",
       "      <th>2</th>\n",
       "      <td>BaggingClassifier(base_estimator=None, bootstr...</td>\n",
       "      <td>0.990522</td>\n",
       "      <td>0.728645</td>\n",
       "    </tr>\n",
       "    <tr>\n",
       "      <th>3</th>\n",
       "      <td>RandomForestClassifier(bootstrap=True, class_w...</td>\n",
       "      <td>0.991688</td>\n",
       "      <td>0.693049</td>\n",
       "    </tr>\n",
       "    <tr>\n",
       "      <th>4</th>\n",
       "      <td>AdaBoostClassifier(algorithm='SAMME.R', base_e...</td>\n",
       "      <td>0.865877</td>\n",
       "      <td>0.828413</td>\n",
       "    </tr>\n",
       "    <tr>\n",
       "      <th>5</th>\n",
       "      <td>SVC(C=1.0, cache_size=200, class_weight=None, ...</td>\n",
       "      <td>0.953768</td>\n",
       "      <td>0.773706</td>\n",
       "    </tr>\n",
       "  </tbody>\n",
       "</table>\n",
       "</div>"
      ],
      "text/plain": [
       "                                              models     train      test\n",
       "0  LogisticRegression(C=1.0, class_weight=None, d...  0.878722  0.832935\n",
       "1  KNeighborsClassifier(algorithm='auto', leaf_si...  0.907889  0.739234\n",
       "2  BaggingClassifier(base_estimator=None, bootstr...  0.990522  0.728645\n",
       "3  RandomForestClassifier(bootstrap=True, class_w...  0.991688  0.693049\n",
       "4  AdaBoostClassifier(algorithm='SAMME.R', base_e...  0.865877  0.828413\n",
       "5  SVC(C=1.0, cache_size=200, class_weight=None, ...  0.953768  0.773706"
      ]
     },
     "execution_count": 96,
     "metadata": {},
     "output_type": "execute_result"
    }
   ],
   "source": [
    "# This baseline model input features are:\n",
    "# 1) As is Weather Data (no rolling)\n",
    "# 2) Location only by cordianates\n",
    "# 3) Dummy by Species\n",
    "# 4) Dummy by Trap Name\n",
    "roc_calculate(classifiers,X_train,y_train,X_test,y_test)"
   ]
  },
  {
   "cell_type": "markdown",
   "metadata": {},
   "source": [
    "We will focus on two models: Logistic Regression and SVC"
   ]
  },
  {
   "cell_type": "markdown",
   "metadata": {},
   "source": [
    "## 3.2 Model with Feature Engineering"
   ]
  },
  {
   "cell_type": "markdown",
   "metadata": {},
   "source": [
    "### Correcting Overfitting"
   ]
  },
  {
   "cell_type": "code",
   "execution_count": 57,
   "metadata": {},
   "outputs": [],
   "source": [
    "def train_data_update(df_list,exclude_list=cols_to_exclude, \n",
    "                      weather_list=weather_cols, \n",
    "                      df_train=df_train, \n",
    "                      weather=weather_rolling_formodel):\n",
    "\n",
    "    df_combine = df_train.join(weather, how='left')\n",
    "    all_dfs = [df_combine]\n",
    "    all_dfs.extend(df_list)\n",
    "    df_combine = pd.concat(all_dfs, axis=1)\n",
    "    \n",
    "    for element in weather.columns:\n",
    "        if element not in weather_list:\n",
    "            exclude_list.append(element) # add element if it is not in the exclude weather list\n",
    "    \n",
    "    model_cols = [col for col in df_combine.columns if col not in exclude_list]\n",
    "\n",
    "    X = df_combine.loc[:, model_cols]\n",
    "    y = df_train['WnvPresent']\n",
    "    \n",
    "    #This normalization is done to allow flexible and recoverable transformations.\n",
    "    #For example, if cols_to_normalize is set to weather_cols, only those columns will be normalized. \n",
    "    #Inclusion should depend upon model selected.\n",
    "    \n",
    "    norm_dict = {}\n",
    "    for col in model_cols:\n",
    "        _df_cur = X.loc[:, col]\n",
    "        _mean = _df_cur.mean()\n",
    "        _std = _df_cur.std()\n",
    "        #Store for test data transform\n",
    "        norm_dict[col] = [_mean, _std]\n",
    "\n",
    "        X.loc[:, col] = (X.loc[:, col] - _mean) / _std\n",
    "\n",
    "    #Stratification on Days From should ensure usable spread in time data. Should get most periods in train and test\n",
    "    X_train, X_test, y_train, y_test = train_test_split(X, y, stratify=X.index, random_state=42)\n",
    "\n",
    "    print(list(X.columns))\n",
    "    return X, y, model_cols, norm_dict"
   ]
  },
  {
   "cell_type": "code",
   "execution_count": 58,
   "metadata": {},
   "outputs": [
    {
     "name": "stdout",
     "output_type": "stream",
     "text": [
      "['Latitude', 'Longitude', 'YearDay', 'Tmax', 'Tmin', 'Tavg', 'DewPoint', 'WetBulb', 'Heat', 'Cool', 'SnowFall', 'PrecipTotal', 'StnPressure', 'SeaLevel', 'ResultSpeed', 'ResultDir', 'AvgSpeed', 'BR', 'HZ', 'SQ', 'TS', 'BCFG', 'FG+', 'VCTS', 'FG', 'TSRA', 'MIFG', 'RA', 'FU', 'DZ', 'CULEX ERRATICUS', 'CULEX PIPIENS', 'CULEX PIPIENS/RESTUANS', 'CULEX RESTUANS', 'CULEX SALINARIUS', 'CULEX TARSALIS', 'CULEX TERRITANS']\n"
     ]
    }
   ],
   "source": [
    "#Most weather columns show evidence of overfit\n",
    "weather_cols = list(weather_rolling_formodel.columns)\n",
    "\n",
    "# Set columns to exlude from features matrix\n",
    "cols_to_exclude = ['Date','WnvPresent', 'NumMosquitos', 'DaysFrom', \n",
    "                   'Sunrise', 'Sunset',  'StationNum', 'Depth', 'SN', 'seasonal_baseline','Address',\n",
    "                   'Species', 'Block','Street','Trap', 'AddressAccuracy', 'AddressNumberAndStreet',\n",
    "                   'CULEX PIPIENS'\n",
    "                  ]\n",
    "dummies_to_combine = [df_species_dummies]\n",
    "\n",
    "X, y, model_cols, norm_dict = train_data_update(dummies_to_combine,weather_list=weather_cols,weather=weather_rolling_formodel)"
   ]
  },
  {
   "cell_type": "markdown",
   "metadata": {},
   "source": [
    "### Jerome SVC Model"
   ]
  },
  {
   "cell_type": "code",
   "execution_count": null,
   "metadata": {},
   "outputs": [],
   "source": []
  },
  {
   "cell_type": "code",
   "execution_count": null,
   "metadata": {},
   "outputs": [],
   "source": []
  },
  {
   "cell_type": "markdown",
   "metadata": {},
   "source": [
    "### Weather Optimization "
   ]
  },
  {
   "cell_type": "code",
   "execution_count": 98,
   "metadata": {},
   "outputs": [],
   "source": [
    "# Optimizing Which Weather rolling averages or totals to use\n",
    "\n",
    "def Rolling_weather_finder(combos, model_list):\n",
    "    #Initia and clear relevant dataframes\n",
    "    df_combined = pd.DataFrame()\n",
    "    df_weather_roc = pd.DataFrame()\n",
    "    df_combo = pd.DataFrame(columns=['Tmax','DewPoint','WetBulb','PrecipTotal'])\n",
    "\n",
    "    for i in range(0,len(combos)):\n",
    "        # This for loop is for Tmax\n",
    "        T_max_df = \"weather_rolling_\"+str(combos[i])\n",
    "        df_tmax = eval(T_max_df)\n",
    "        for j in range(0,len(combos)):\n",
    "            # This for loop is for Dewpoint\n",
    "            dewpoint_df = \"weather_rolling_\"+str(combos[j])\n",
    "            df_dewpoint = eval(dewpoint_df)\n",
    "            for k in range(0,len(combos)):\n",
    "                # This for loop is for Rain Total\n",
    "                rain_df = \"weather_rain_\"+str(combos[k])\n",
    "                df_rain = eval(rain_df)\n",
    "                for l in range(0,len(combos)):\n",
    "                    # This for loop is for WetBulb\n",
    "                    wetbulb_df = \"weather_rolling_\"+str(combos[l])\n",
    "                    df_wetbulb = eval(wetbulb_df)\n",
    "\n",
    "                    # Recreate Weather dataframe\n",
    "                    weather_df = pd.DataFrame()\n",
    "                    weather_df['Tmax'] = df_tmax['Tmax']\n",
    "                    weather_df['Dewpoint'] = df_dewpoint['DewPoint']\n",
    "                    weather_df['PrecipTotal'] = df_rain['PrecipTotal']\n",
    "                    weather_df['WetBulb'] = df_wetbulb['WetBulb']\n",
    "                    weather_df = weather_df[weather_df['Tmax'] != 0]\n",
    "                    weather_df['Tmax'].fillna(weather_df['Tmax'].mean(), inplace=True)\n",
    "                    weather_df['Dewpoint'].fillna(weather_df['Dewpoint'].mean(), inplace=True)\n",
    "                    weather_df['PrecipTotal'].fillna(weather_df['PrecipTotal'].min(), inplace=True)\n",
    "                    weather_df['WetBulb'].fillna(weather_df['WetBulb'].mean(), inplace=True)\n",
    "\n",
    "                    # Combine to other non weather features\n",
    "                    df_for_model = df_train.join(weather_df, how='left')\n",
    "                    df_for_model = pd.concat([df_for_model,df_species_dummies], axis=1)\n",
    "                    model_cols = [col for col in df_for_model.columns if col not in cols_to_exclude]\n",
    "\n",
    "                    # Set X and y matrices\n",
    "                    X = df_for_model.loc[:, model_cols]\n",
    "                    y = df_train['WnvPresent']\n",
    "                    # Train Test Split Data\n",
    "                    X_train, X_test, y_train, y_test = train_test_split(X, y, stratify=X.index, random_state=42)\n",
    "\n",
    "                    #Set and Run Model (uses roc_calc function to run and add results to dataframe)\n",
    "                    # example setup for model list: model = [AdaBoostClassifier(random_state=42)]\n",
    "                    df_weather_roc = df_weather_roc.append(roc_calculate(model_list,X_train,y_train,X_test,y_test))\n",
    "                    # Log place\n",
    "                    df_combo.loc[len(df_combo)] = [combos[i], combos[j], combos[l], combos[k]]\n",
    "    \n",
    "    df_weather_roc.reset_index(inplace=True)\n",
    "    df_weather_roc = pd.concat([df_weather_roc, df_combo], axis=1)\n",
    "    return df_weather_roc"
   ]
  },
  {
   "cell_type": "code",
   "execution_count": null,
   "metadata": {},
   "outputs": [],
   "source": [
    "%% time\n",
    "# SELECTING THE RIGHT WEATHER COMBINATION FOR the LR Model\n",
    "combos = [20,5,10,15] # rolling average to try\n",
    "models = [LogisticRegression()]\n",
    "output_df_lr = Rolling_weather_finder(combos,models)"
   ]
  },
  {
   "cell_type": "code",
   "execution_count": 100,
   "metadata": {},
   "outputs": [
    {
     "data": {
      "text/html": [
       "<div>\n",
       "<style scoped>\n",
       "    .dataframe tbody tr th:only-of-type {\n",
       "        vertical-align: middle;\n",
       "    }\n",
       "\n",
       "    .dataframe tbody tr th {\n",
       "        vertical-align: top;\n",
       "    }\n",
       "\n",
       "    .dataframe thead th {\n",
       "        text-align: right;\n",
       "    }\n",
       "</style>\n",
       "<table border=\"1\" class=\"dataframe\">\n",
       "  <thead>\n",
       "    <tr style=\"text-align: right;\">\n",
       "      <th></th>\n",
       "      <th>index</th>\n",
       "      <th>models</th>\n",
       "      <th>train</th>\n",
       "      <th>test</th>\n",
       "      <th>Tmax</th>\n",
       "      <th>DewPoint</th>\n",
       "      <th>WetBulb</th>\n",
       "      <th>PrecipTotal</th>\n",
       "    </tr>\n",
       "  </thead>\n",
       "  <tbody>\n",
       "    <tr>\n",
       "      <th>142</th>\n",
       "      <td>0</td>\n",
       "      <td>LogisticRegression(C=1.0, class_weight=None, d...</td>\n",
       "      <td>0.759492</td>\n",
       "      <td>0.782176</td>\n",
       "      <td>10</td>\n",
       "      <td>20</td>\n",
       "      <td>10</td>\n",
       "      <td>15</td>\n",
       "    </tr>\n",
       "    <tr>\n",
       "      <th>32</th>\n",
       "      <td>0</td>\n",
       "      <td>LogisticRegression(C=1.0, class_weight=None, d...</td>\n",
       "      <td>0.759845</td>\n",
       "      <td>0.781751</td>\n",
       "      <td>20</td>\n",
       "      <td>10</td>\n",
       "      <td>20</td>\n",
       "      <td>20</td>\n",
       "    </tr>\n",
       "    <tr>\n",
       "      <th>224</th>\n",
       "      <td>0</td>\n",
       "      <td>LogisticRegression(C=1.0, class_weight=None, d...</td>\n",
       "      <td>0.759845</td>\n",
       "      <td>0.781751</td>\n",
       "      <td>15</td>\n",
       "      <td>10</td>\n",
       "      <td>20</td>\n",
       "      <td>20</td>\n",
       "    </tr>\n",
       "    <tr>\n",
       "      <th>130</th>\n",
       "      <td>0</td>\n",
       "      <td>LogisticRegression(C=1.0, class_weight=None, d...</td>\n",
       "      <td>0.756396</td>\n",
       "      <td>0.781018</td>\n",
       "      <td>10</td>\n",
       "      <td>20</td>\n",
       "      <td>10</td>\n",
       "      <td>20</td>\n",
       "    </tr>\n",
       "    <tr>\n",
       "      <th>208</th>\n",
       "      <td>0</td>\n",
       "      <td>LogisticRegression(C=1.0, class_weight=None, d...</td>\n",
       "      <td>0.759046</td>\n",
       "      <td>0.779876</td>\n",
       "      <td>15</td>\n",
       "      <td>5</td>\n",
       "      <td>20</td>\n",
       "      <td>20</td>\n",
       "    </tr>\n",
       "  </tbody>\n",
       "</table>\n",
       "</div>"
      ],
      "text/plain": [
       "     index                                             models     train  \\\n",
       "142      0  LogisticRegression(C=1.0, class_weight=None, d...  0.759492   \n",
       "32       0  LogisticRegression(C=1.0, class_weight=None, d...  0.759845   \n",
       "224      0  LogisticRegression(C=1.0, class_weight=None, d...  0.759845   \n",
       "130      0  LogisticRegression(C=1.0, class_weight=None, d...  0.756396   \n",
       "208      0  LogisticRegression(C=1.0, class_weight=None, d...  0.759046   \n",
       "\n",
       "         test Tmax DewPoint WetBulb PrecipTotal  \n",
       "142  0.782176   10       20      10          15  \n",
       "32   0.781751   20       10      20          20  \n",
       "224  0.781751   15       10      20          20  \n",
       "130  0.781018   10       20      10          20  \n",
       "208  0.779876   15        5      20          20  "
      ]
     },
     "execution_count": 100,
     "metadata": {},
     "output_type": "execute_result"
    }
   ],
   "source": [
    "output_df_lr.sort_values('test', ascending=False).head(5)"
   ]
  },
  {
   "cell_type": "code",
   "execution_count": null,
   "metadata": {},
   "outputs": [],
   "source": []
  },
  {
   "cell_type": "code",
   "execution_count": null,
   "metadata": {},
   "outputs": [],
   "source": []
  },
  {
   "cell_type": "code",
   "execution_count": 61,
   "metadata": {},
   "outputs": [
    {
     "data": {
      "text/html": [
       "<div>\n",
       "<style scoped>\n",
       "    .dataframe tbody tr th:only-of-type {\n",
       "        vertical-align: middle;\n",
       "    }\n",
       "\n",
       "    .dataframe tbody tr th {\n",
       "        vertical-align: top;\n",
       "    }\n",
       "\n",
       "    .dataframe thead th {\n",
       "        text-align: right;\n",
       "    }\n",
       "</style>\n",
       "<table border=\"1\" class=\"dataframe\">\n",
       "  <thead>\n",
       "    <tr style=\"text-align: right;\">\n",
       "      <th></th>\n",
       "      <th>index</th>\n",
       "      <th>models</th>\n",
       "      <th>train</th>\n",
       "      <th>test</th>\n",
       "      <th>Tmax</th>\n",
       "      <th>DewPoint</th>\n",
       "      <th>WetBulb</th>\n",
       "      <th>PrecipTotal</th>\n",
       "    </tr>\n",
       "  </thead>\n",
       "  <tbody>\n",
       "    <tr>\n",
       "      <th>110</th>\n",
       "      <td>0</td>\n",
       "      <td>SVC(C=1.0, cache_size=200, class_weight=None, ...</td>\n",
       "      <td>0.717136</td>\n",
       "      <td>0.687488</td>\n",
       "      <td>20</td>\n",
       "      <td>10</td>\n",
       "      <td>20</td>\n",
       "      <td>1</td>\n",
       "    </tr>\n",
       "    <tr>\n",
       "      <th>4</th>\n",
       "      <td>0</td>\n",
       "      <td>SVC(C=1.0, cache_size=200, class_weight=None, ...</td>\n",
       "      <td>0.631817</td>\n",
       "      <td>0.672208</td>\n",
       "      <td>1</td>\n",
       "      <td>1</td>\n",
       "      <td>20</td>\n",
       "      <td>20</td>\n",
       "    </tr>\n",
       "    <tr>\n",
       "      <th>113</th>\n",
       "      <td>0</td>\n",
       "      <td>SVC(C=1.0, cache_size=200, class_weight=None, ...</td>\n",
       "      <td>0.705090</td>\n",
       "      <td>0.662975</td>\n",
       "      <td>20</td>\n",
       "      <td>10</td>\n",
       "      <td>20</td>\n",
       "      <td>15</td>\n",
       "    </tr>\n",
       "    <tr>\n",
       "      <th>3</th>\n",
       "      <td>0</td>\n",
       "      <td>SVC(C=1.0, cache_size=200, class_weight=None, ...</td>\n",
       "      <td>0.646059</td>\n",
       "      <td>0.659954</td>\n",
       "      <td>1</td>\n",
       "      <td>1</td>\n",
       "      <td>20</td>\n",
       "      <td>15</td>\n",
       "    </tr>\n",
       "    <tr>\n",
       "      <th>111</th>\n",
       "      <td>0</td>\n",
       "      <td>SVC(C=1.0, cache_size=200, class_weight=None, ...</td>\n",
       "      <td>0.716639</td>\n",
       "      <td>0.655256</td>\n",
       "      <td>20</td>\n",
       "      <td>10</td>\n",
       "      <td>20</td>\n",
       "      <td>5</td>\n",
       "    </tr>\n",
       "  </tbody>\n",
       "</table>\n",
       "</div>"
      ],
      "text/plain": [
       "     index                                             models     train  \\\n",
       "110      0  SVC(C=1.0, cache_size=200, class_weight=None, ...  0.717136   \n",
       "4        0  SVC(C=1.0, cache_size=200, class_weight=None, ...  0.631817   \n",
       "113      0  SVC(C=1.0, cache_size=200, class_weight=None, ...  0.705090   \n",
       "3        0  SVC(C=1.0, cache_size=200, class_weight=None, ...  0.646059   \n",
       "111      0  SVC(C=1.0, cache_size=200, class_weight=None, ...  0.716639   \n",
       "\n",
       "         test Tmax DewPoint WetBulb PrecipTotal  \n",
       "110  0.687488   20       10      20           1  \n",
       "4    0.672208    1        1      20          20  \n",
       "113  0.662975   20       10      20          15  \n",
       "3    0.659954    1        1      20          15  \n",
       "111  0.655256   20       10      20           5  "
      ]
     },
     "execution_count": 61,
     "metadata": {},
     "output_type": "execute_result"
    }
   ],
   "source": [
    "# SELECTING THE RIGHT WEATHER COMBINATION FOR the SVC Model\n",
    "combos = [1,5,10,15,20] # rolling average to try\n",
    "models = [SVC(probability=True)]\n",
    "output_df_svc = Rolling_weather_finder(combos,models)\n",
    "output_df_svc.sort_values('test', ascending=False).head(5)"
   ]
  },
  {
   "cell_type": "code",
   "execution_count": 62,
   "metadata": {},
   "outputs": [],
   "source": [
    "# make below a function "
   ]
  },
  {
   "cell_type": "code",
   "execution_count": 63,
   "metadata": {},
   "outputs": [
    {
     "name": "stdout",
     "output_type": "stream",
     "text": [
      "['Latitude', 'Longitude', 'YearDay', 'Tmax', 'Tmin', 'Tavg', 'DewPoint', 'WetBulb', 'Heat', 'Cool', 'SnowFall', 'PrecipTotal', 'StnPressure', 'SeaLevel', 'ResultSpeed', 'ResultDir', 'AvgSpeed', 'BR', 'HZ', 'SQ', 'TS', 'BCFG', 'FG+', 'VCTS', 'FG', 'TSRA', 'MIFG', 'RA', 'FU', 'DZ', 'CULEX ERRATICUS', 'CULEX PIPIENS', 'CULEX PIPIENS/RESTUANS', 'CULEX RESTUANS', 'CULEX SALINARIUS', 'CULEX TARSALIS', 'CULEX TERRITANS']\n"
     ]
    }
   ],
   "source": [
    "top_value = 15 #index location\n",
    "model_to_use = output_df_lr\n",
    "#Using left join to only include weather rows that are in training set\n",
    "weather_rolling_formodel['Tmax'] = eval(\"weather_rolling_\"+str(model_to_use.iloc[top_value].Tmax)).Tmax\n",
    "weather_rolling_formodel['DewPoint'] = eval(\"weather_rolling_\"+str(model_to_use.iloc[top_value].DewPoint)).DewPoint\n",
    "weather_rolling_formodel['WetBulb'] = eval(\"weather_rolling_\"+str(model_to_use.iloc[top_value].WetBulb)).WetBulb\n",
    "weather_rolling_formodel['PrecipTotal'] = eval(\"weather_rain_\"+str(model_to_use.iloc[top_value].PrecipTotal)).PrecipTotal\n",
    "\n",
    "weather_rolling_formodel['Tmax'].fillna(weather_rolling_formodel['Tmax'].mean(), inplace=True)\n",
    "weather_rolling_formodel['DewPoint'].fillna(weather_rolling_formodel['DewPoint'].mean(), inplace=True)\n",
    "weather_rolling_formodel['PrecipTotal'].fillna(weather_rolling_formodel['PrecipTotal'].min(), inplace=True)\n",
    "weather_rolling_formodel['WetBulb'].fillna(weather_rolling_formodel['WetBulb'].mean(), inplace=True)\n",
    "\n",
    "X, y, model_cols, norm_dict = train_data_update(dummies_to_combine,\n",
    "                                     weather_list=weather_cols,\n",
    "                                     weather=weather_rolling_formodel)"
   ]
  },
  {
   "cell_type": "code",
   "execution_count": 64,
   "metadata": {},
   "outputs": [],
   "source": [
    "\n",
    "#Stratification on Days From should ensure usable spread in time data. Should get most periods in train and test\n",
    "X_train, X_test, y_train, y_test = train_test_split(X, y, stratify=X.index, random_state=42)"
   ]
  },
  {
   "cell_type": "code",
   "execution_count": null,
   "metadata": {},
   "outputs": [],
   "source": []
  },
  {
   "cell_type": "markdown",
   "metadata": {},
   "source": [
    "## 3.3 Model Tuning"
   ]
  },
  {
   "cell_type": "code",
   "execution_count": 65,
   "metadata": {},
   "outputs": [],
   "source": [
    "def grid_search(parameterz,model,X_train=X_train,y_train=y_train):\n",
    "    gs = GridSearchCV(model,param_grid=parameterz)\n",
    "    gs.fit(X_train, y_train);\n",
    "    print(gs.best_params_)\n",
    "    return gs"
   ]
  },
  {
   "cell_type": "code",
   "execution_count": 66,
   "metadata": {},
   "outputs": [
    {
     "name": "stdout",
     "output_type": "stream",
     "text": [
      "{'C': 0.01, 'penalty': 'l2', 'solver': 'newton-cg'}\n"
     ]
    }
   ],
   "source": [
    "# Use grid search function and save results for Logistic Regression\n",
    "paramz_lr = {\n",
    "    'penalty': ['l2'],\n",
    "    'C': [.01, .02],\n",
    "    'solver' : ['liblinear', 'newton-cg', 'lbfgs']\n",
    "}\n",
    "lr = LogisticRegression(random_state=1)\n",
    "gs_lr = grid_search(paramz_lr,lr)"
   ]
  },
  {
   "cell_type": "code",
   "execution_count": 67,
   "metadata": {},
   "outputs": [
    {
     "name": "stdout",
     "output_type": "stream",
     "text": [
      "{'C': 0.1, 'kernel': 'linear'}\n"
     ]
    }
   ],
   "source": [
    "# Use grid search function and save results for SVC\n",
    "paramz_svc = {\n",
    "    'C': [0.1, 0.5, 1],\n",
    "    'kernel' : ['linear', 'poly', 'rbf', 'sigmoid']\n",
    "}\n",
    "svc = SVC(probability=True)\n",
    "gs_svc = grid_search(paramz_svc,svc)"
   ]
  },
  {
   "cell_type": "code",
   "execution_count": 68,
   "metadata": {},
   "outputs": [],
   "source": [
    "# Use grid search function and save results for ADA\n",
    "#paramz_ada = {'n_estimators': [45,50,55]}\n",
    "#ada = AdaBoostClassifier(random_state=42)\n",
    "#gs_ada = grid_search(paramz_ada,ada)"
   ]
  },
  {
   "cell_type": "markdown",
   "metadata": {},
   "source": [
    "## 3.3 Final Model Selection"
   ]
  },
  {
   "cell_type": "code",
   "execution_count": 69,
   "metadata": {},
   "outputs": [],
   "source": [
    "our_model = gs_lr"
   ]
  },
  {
   "cell_type": "code",
   "execution_count": 70,
   "metadata": {},
   "outputs": [
    {
     "name": "stdout",
     "output_type": "stream",
     "text": [
      "   base:  0.8152102031176193\n",
      "   seasonal:  0.7971713579149184\n"
     ]
    }
   ],
   "source": [
    "#get wnv predictors\n",
    "proba_array = [proba[1] for proba in our_model.predict_proba(X_test)]\n",
    "#find seasonal adjustment from year day\n",
    "adj_score = pd.Series(X_test.index.dayofyear, index=X_test.index).map(lambda x: seasonal_dict[x])\n",
    "\n",
    "print('   base: ', roc_auc_score(y_test, proba_array))\n",
    "print('   seasonal: ', roc_auc_score(y_test, proba_array + adj_score))"
   ]
  },
  {
   "cell_type": "markdown",
   "metadata": {},
   "source": [
    "# <a class=\"anchor\" id=\"4.0-bullet\">4. Output</a>"
   ]
  },
  {
   "cell_type": "markdown",
   "metadata": {},
   "source": [
    "## 4.1 Transform test data"
   ]
  },
  {
   "cell_type": "code",
   "execution_count": 71,
   "metadata": {},
   "outputs": [
    {
     "data": {
      "text/plain": [
       "(116293, 11)"
      ]
     },
     "execution_count": 71,
     "metadata": {},
     "output_type": "execute_result"
    }
   ],
   "source": [
    "df_test = data_test\n",
    "df_test.shape"
   ]
  },
  {
   "cell_type": "markdown",
   "metadata": {},
   "source": [
    "### 4.1.1 Time Series"
   ]
  },
  {
   "cell_type": "code",
   "execution_count": 72,
   "metadata": {},
   "outputs": [],
   "source": [
    "#Convert to Date Time from object\n",
    "df_test.loc[:, ['Date']]= pd.to_datetime(df_test['Date'])\n",
    "\n",
    "#Switch to DateTime Index\n",
    "df_test.index = df_test.Date\n",
    "\n",
    "#Create Days from start column for easy analysis\n",
    "\n",
    "df_test.loc[:, 'DaysFrom'] = df_test.index - pd.to_datetime(BeginDate)\n",
    "#extract date number from datetime entry. Should capture broad time dependence\n",
    "df_test.loc[:, 'DaysFrom'] = df_test['DaysFrom'].astype(str).str.replace(' days 00:00:00.000000000', '').astype(int)\n",
    "#Extract Month information\n",
    "df_test.loc[:, 'Month'] = df_test.index.month\n",
    "\n",
    "#Include yearday for seasonal adjustment later\n",
    "df_test['YearDay'] = df_test.index.dayofyear"
   ]
  },
  {
   "cell_type": "code",
   "execution_count": 73,
   "metadata": {},
   "outputs": [],
   "source": [
    "#Get weekday dummies and add to test sit ---> IF WEEKDAY FEATURE USED <----\n",
    "'''df_test_weekday = pd.get_dummies(df_test.index.weekday_name)\n",
    "df_test_weekday.index = df_test.index\n",
    "df_test = pd.concat([df_test, df_test_weekday], axis=1)''';"
   ]
  },
  {
   "cell_type": "code",
   "execution_count": 74,
   "metadata": {},
   "outputs": [],
   "source": [
    "#Need to do some math to include seasonality here. Some yeardays in test not in training."
   ]
  },
  {
   "cell_type": "markdown",
   "metadata": {},
   "source": [
    "### 4.1.2 Categorical"
   ]
  },
  {
   "cell_type": "code",
   "execution_count": 75,
   "metadata": {},
   "outputs": [
    {
     "name": "stdout",
     "output_type": "stream",
     "text": [
      "['UNSPECIFIED CULEX']\n"
     ]
    }
   ],
   "source": [
    "df_test_species = pd.get_dummies(df_test['Species'])\n",
    "# Check and print list of species in train data but not in test data\n",
    "species_to_drop = [col for col in df_test_species.columns if col not in df_species_dummies.columns]\n",
    "print(species_to_drop)"
   ]
  },
  {
   "cell_type": "code",
   "execution_count": 76,
   "metadata": {},
   "outputs": [],
   "source": [
    "# If any species needs to be dropped, it will be done here before added to test datset\n",
    "df_test_species = df_test_species.drop(species_to_drop, axis=1)\n",
    "df_test = pd.concat([df_test,df_test_species], axis=1)"
   ]
  },
  {
   "cell_type": "code",
   "execution_count": 77,
   "metadata": {},
   "outputs": [],
   "source": [
    "# Create dummy list of trap from test data and add back in\n",
    "df_test_trap = pd.get_dummies(df_test['Trap'])\n",
    "df_test = pd.concat([df_test,df_test_trap], axis=1)"
   ]
  },
  {
   "cell_type": "markdown",
   "metadata": {},
   "source": [
    "### 4.1.3 Weather"
   ]
  },
  {
   "cell_type": "code",
   "execution_count": 78,
   "metadata": {},
   "outputs": [],
   "source": [
    "df_test = df_test.join(weather_rolling_formodel, how='left')"
   ]
  },
  {
   "cell_type": "markdown",
   "metadata": {},
   "source": [
    "### 4.1.4 Drops"
   ]
  },
  {
   "cell_type": "code",
   "execution_count": 79,
   "metadata": {},
   "outputs": [],
   "source": [
    "df_test = df_test.drop(cols_to_drop, axis=1)"
   ]
  },
  {
   "cell_type": "markdown",
   "metadata": {},
   "source": [
    "#  <a class=\"anchor\" id=\"5.0-bullet\">5. Kaggle Submission</a>"
   ]
  },
  {
   "cell_type": "markdown",
   "metadata": {},
   "source": [
    "## 5.1 Fit to Test Data"
   ]
  },
  {
   "cell_type": "code",
   "execution_count": 80,
   "metadata": {},
   "outputs": [
    {
     "data": {
      "text/plain": [
       "[]"
      ]
     },
     "execution_count": 80,
     "metadata": {},
     "output_type": "execute_result"
    }
   ],
   "source": [
    "# Check to see if there is a mismatch in test data with train data, if anything will appear in the list\n",
    "df_test_X = df_test.loc[:, model_cols]\n",
    "[col for col in df_test_X.columns if col not in X.columns]"
   ]
  },
  {
   "cell_type": "code",
   "execution_count": 81,
   "metadata": {},
   "outputs": [],
   "source": [
    "# Recall normalizer from before\n",
    "for col in model_cols:\n",
    "    _mean = norm_dict[col][0]\n",
    "    _std = norm_dict[col][1]\n",
    "    #Store for test data transform\n",
    "    #norm_dict[col] = [_mean, _std]\n",
    "\n",
    "    df_test_X.loc[:, col] = (df_test_X.loc[:, col] - _mean) / _std"
   ]
  },
  {
   "cell_type": "code",
   "execution_count": 82,
   "metadata": {},
   "outputs": [],
   "source": [
    "df_test_preds = our_model.predict(df_test_X)"
   ]
  },
  {
   "cell_type": "code",
   "execution_count": 83,
   "metadata": {},
   "outputs": [],
   "source": [
    "df_test_prob_array = our_model.predict_proba(df_test_X)\n",
    "df_test_probas = [proba[1] for proba in df_test_prob_array]"
   ]
  },
  {
   "cell_type": "code",
   "execution_count": 84,
   "metadata": {},
   "outputs": [],
   "source": [
    "df_test_preds_adj =pd.Series(df_test_X.index.dayofyear, index=df_test_X.index).map(lambda x: seasonal_dict[x])"
   ]
  },
  {
   "cell_type": "markdown",
   "metadata": {},
   "source": [
    "## 5.2 Assess"
   ]
  },
  {
   "cell_type": "code",
   "execution_count": 85,
   "metadata": {},
   "outputs": [
    {
     "name": "stderr",
     "output_type": "stream",
     "text": [
      "C:\\ProgramData\\Anaconda3\\lib\\site-packages\\matplotlib\\axes\\_axes.py:6462: UserWarning: The 'normed' kwarg is deprecated, and has been replaced by the 'density' kwarg.\n",
      "  warnings.warn(\"The 'normed' kwarg is deprecated, and has been \"\n",
      "C:\\ProgramData\\Anaconda3\\lib\\site-packages\\matplotlib\\axes\\_axes.py:6462: UserWarning: The 'normed' kwarg is deprecated, and has been replaced by the 'density' kwarg.\n",
      "  warnings.warn(\"The 'normed' kwarg is deprecated, and has been \"\n",
      "C:\\ProgramData\\Anaconda3\\lib\\site-packages\\matplotlib\\axes\\_axes.py:6462: UserWarning: The 'normed' kwarg is deprecated, and has been replaced by the 'density' kwarg.\n",
      "  warnings.warn(\"The 'normed' kwarg is deprecated, and has been \"\n"
     ]
    },
    {
     "data": {
      "text/plain": [
       "<matplotlib.legend.Legend at 0x251f5de3ef0>"
      ]
     },
     "execution_count": 85,
     "metadata": {},
     "output_type": "execute_result"
    },
    {
     "data": {
      "image/png": "[encoded data removed]",
      "text/plain": [
       "<Figure size 432x288 with 1 Axes>"
      ]
     },
     "metadata": {},
     "output_type": "display_data"
    }
   ],
   "source": [
    "sns.distplot([proba[1] for proba in our_model.predict_proba(X_test)], color='blue', label='Model Prediction') #Train - test\n",
    "sns.distplot(df_test_probas, color='red', label='Model Prediction - normalized') #Test -Test before adjustment\n",
    "sns.distplot(df_test_preds_adj+df_test_probas, color='green', label='Model - Seasonal Adjusted') #Test -Test with adjustment\n",
    "plt.legend()\n"
   ]
  },
  {
   "cell_type": "code",
   "execution_count": 86,
   "metadata": {},
   "outputs": [
    {
     "name": "stdout",
     "output_type": "stream",
     "text": [
      "   base model WNV predicitons:  0\n",
      "   adusted proba WNV predictions:  7443.0995313341555\n",
      "   predicted rate WNV adjusted:  0.06400298841146204\n"
     ]
    }
   ],
   "source": [
    "print('   base model WNV predicitons: ', df_test_preds.sum())\n",
    "print('   adusted proba WNV predictions: ', sum(df_test_preds_adj))\n",
    "print('   predicted rate WNV adjusted: ', sum(df_test_preds_adj)/len(df_test_preds_adj))"
   ]
  },
  {
   "cell_type": "markdown",
   "metadata": {},
   "source": [
    "## 5.3 Create Submission File"
   ]
  },
  {
   "cell_type": "code",
   "execution_count": 87,
   "metadata": {},
   "outputs": [],
   "source": [
    "df_outputs = pd.DataFrame(df_test.Id)\n",
    "df_outputs['WnvPresent'] = df_test_probas #+ df_test_preds_adj #Simply 0 out if inappropriate\n",
    "df_outputs = df_outputs.reset_index().drop('Date', axis=1)"
   ]
  },
  {
   "cell_type": "code",
   "execution_count": 88,
   "metadata": {},
   "outputs": [],
   "source": [
    "now_month = datetime.datetime.now().month\n",
    "now_day = datetime.datetime.now().day\n",
    "now_hour = datetime.datetime.now().hour\n",
    "now_minute = datetime.datetime.now().minute\n",
    "output_title = './Predictions_{}.{}_{}{}.csv'.format(now_month, now_day, now_hour, now_minute)"
   ]
  },
  {
   "cell_type": "code",
   "execution_count": 89,
   "metadata": {},
   "outputs": [],
   "source": [
    "df_outputs.to_csv(output_title, index=False)"
   ]
  },
  {
   "cell_type": "code",
   "execution_count": null,
   "metadata": {},
   "outputs": [],
   "source": []
  }
 ],
 "metadata": {
  "kernelspec": {
   "display_name": "Python 3",
   "language": "python",
   "name": "python3"
  },
  "language_info": {
   "codemirror_mode": {
    "name": "ipython",
    "version": 3
   },
   "file_extension": ".py",
   "mimetype": "text/x-python",
   "name": "python",
   "nbconvert_exporter": "python",
   "pygments_lexer": "ipython3",
   "version": "3.6.5"
  }
 },
 "nbformat": 4,
 "nbformat_minor": 2
}
