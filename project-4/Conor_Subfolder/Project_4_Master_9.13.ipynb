{
 "cells": [
  {
   "cell_type": "markdown",
   "metadata": {},
   "source": [
    "To Do: \n",
    "* Next upload: Added Kmeans, operator to imports"
   ]
  },
  {
   "cell_type": "markdown",
   "metadata": {},
   "source": [
    "# TOC"
   ]
  },
  {
   "cell_type": "markdown",
   "metadata": {},
   "source": [
    "0. [Imports](#first-bullet)\n",
    "1. [EDA](#1.0-bullet)\n",
    "2. [Data Transformation](#2.0-bullet)\n",
    "3. [Modelling](#3.0-bullet)\n",
    "4. [Output](#4.0-bullet)"
   ]
  },
  {
   "cell_type": "markdown",
   "metadata": {},
   "source": [
    "#  <a class=\"anchor\" id=\"first-bullet\">Imports</a>"
   ]
  },
  {
   "cell_type": "code",
   "execution_count": 8,
   "metadata": {},
   "outputs": [],
   "source": [
    "#Basic\n",
    "import pandas as pd\n",
    "import numpy as np\n",
    "#Math\n",
    "import scipy as sp\n",
    "from random import randint\n",
    "from math import exp\n",
    "import operator\n",
    "\n",
    "#Scraping\n",
    "'''import requests\n",
    "import json'''\n",
    "\n",
    "#Modeling\n",
    "from sklearn.model_selection import cross_val_score\n",
    "from sklearn.model_selection import train_test_split\n",
    "from sklearn.model_selection import GridSearchCV\n",
    "from sklearn.linear_model import LogisticRegression\n",
    "from sklearn.naive_bayes import MultinomialNB\n",
    "from sklearn.ensemble import RandomForestClassifier\n",
    "from sklearn.neighbors import KNeighborsClassifier\n",
    "from sklearn.cluster import KMeans\n",
    "from sklearn.metrics import confusion_matrix\n",
    "\n",
    "#NLP Processing\n",
    "'''from sklearn.feature_extraction import stop_words\n",
    "from sklearn.feature_extraction.text import CountVectorizer\n",
    "from sklearn.feature_extraction.text import TfidfVectorizer'''\n",
    "\n",
    "#Time analysis\n",
    "import time\n",
    "import datetime\n",
    "from statsmodels.tsa.stattools import pacf\n",
    "from statsmodels.graphics.tsaplots import plot_pacf\n",
    "\n",
    "#Plotting\n",
    "import matplotlib.pyplot as plt\n",
    "import seaborn as sns\n",
    "from wordcloud import WordCloud\n",
    "\n",
    "%matplotlib inline"
   ]
  },
  {
   "cell_type": "markdown",
   "metadata": {},
   "source": [
    " # <a class=\"anchor\" id=\"second-bullet\">1. EDA</a>"
   ]
  },
  {
   "cell_type": "code",
   "execution_count": 9,
   "metadata": {},
   "outputs": [],
   "source": [
    "data_spray = pd.read_csv('./Data/spray.csv')\n",
    "data_weather = pd.read_csv('./Data/weather.csv')\n",
    "data_train = pd.read_csv('./Data/train.csv')\n",
    "data_test = pd.read_csv('./Data/test.csv')"
   ]
  },
  {
   "cell_type": "code",
   "execution_count": 10,
   "metadata": {},
   "outputs": [],
   "source": [
    "#data_weather['weather_day'] = 1\n",
    "data_spray['spray_day'] = 1\n",
    "data_spray.columns = ['Date', 'Time', 'Latitude_sp', 'Longitude_sp', 'spray_day']"
   ]
  },
  {
   "cell_type": "markdown",
   "metadata": {},
   "source": [
    "## 1.2 Feature Analysis"
   ]
  },
  {
   "cell_type": "markdown",
   "metadata": {},
   "source": [
    "# <a class=\"anchor\" id=\"2.0-bullet\">2. Data Transformation </a>"
   ]
  },
  {
   "cell_type": "markdown",
   "metadata": {},
   "source": [
    "### 2.1 Weather Slice"
   ]
  },
  {
   "cell_type": "code",
   "execution_count": 11,
   "metadata": {},
   "outputs": [],
   "source": [
    "weather_station_1 = data_weather.loc[data_weather.Station==1, :]\n",
    "weather_station_2 = data_weather.loc[data_weather.Station==2, :]"
   ]
  },
  {
   "cell_type": "code",
   "execution_count": 12,
   "metadata": {},
   "outputs": [],
   "source": [
    "weather_station_1 = weather_station_1.drop('Station', axis=1)\n",
    "weather_station_2 = weather_station_2.drop('Station', axis=1)"
   ]
  },
  {
   "cell_type": "code",
   "execution_count": 13,
   "metadata": {},
   "outputs": [],
   "source": [
    "weather_station_1.loc[:, ['Date']] = pd.to_datetime(weather_station_1.Date)\n",
    "weather_station_2.loc[:, ['Date']] = pd.to_datetime(weather_station_2.Date)"
   ]
  },
  {
   "cell_type": "code",
   "execution_count": 14,
   "metadata": {},
   "outputs": [],
   "source": [
    "weather_station_1.index = weather_station_1.Date\n",
    "weather_station_2.index = weather_station_2.Date"
   ]
  },
  {
   "cell_type": "markdown",
   "metadata": {},
   "source": [
    "### 2.2 Convert Weather Objects"
   ]
  },
  {
   "cell_type": "code",
   "execution_count": 15,
   "metadata": {},
   "outputs": [],
   "source": [
    "weather_station_1.loc[:, ['Tavg']] = \\\n",
    "weather_station_1['Tavg'].astype('float64')\n",
    "weather_station_1.loc[:, ['PrecipTotal']] = \\\n",
    "weather_station_1['PrecipTotal'].map(lambda x: .001 if x=='  T' else x).astype(float)\n",
    "weather_station_1.loc[:, ['SnowFall']] = \\\n",
    "weather_station_1['SnowFall'].map(lambda x: .001 if x=='  T' else x).astype(float)\n",
    "\n",
    "weather_station_1 = weather_station_1.drop('Depart', axis=1)\n",
    "weather_station_1 = weather_station_1.drop('Water1', axis=1)"
   ]
  },
  {
   "cell_type": "code",
   "execution_count": 16,
   "metadata": {},
   "outputs": [],
   "source": [
    "#Create dummy columns for weather codes\n",
    "\n",
    "#list all columns\n",
    "templist = [element for element in weather_station_1['CodeSum'].str.split(' ').tolist()]\n",
    "newl = []\n",
    "#get all tags\n",
    "for element in templist:\n",
    "    for subelement in element:\n",
    "        newl.append(subelement)\n",
    "Codes_list = list(set(newl))\n",
    "Codes_list.pop(0)\n",
    "\n",
    "#Create new columns and score 1 if present in original CodeSum value\n",
    "for code in Codes_list:\n",
    "    weather_station_1.loc[:, code] = weather_station_1['CodeSum'].str.contains(code)*1\n",
    "weather_station_1 = weather_station_1.drop('CodeSum', axis=1)"
   ]
  },
  {
   "cell_type": "code",
   "execution_count": 17,
   "metadata": {},
   "outputs": [],
   "source": [
    "#find means without 'M' values and fill in blank - less than 5 for each\n",
    "stnpressure_mean = weather_station_1[weather_station_1['StnPressure']!='M']['StnPressure'].astype(float).mean()\n",
    "sealevel_mean = weather_station_1[weather_station_1['SeaLevel']!='M']['SeaLevel'].astype(float).mean()\n",
    "wetbulb_mean = weather_station_1[weather_station_1['WetBulb']!='M']['WetBulb'].astype(float).mean()"
   ]
  },
  {
   "cell_type": "code",
   "execution_count": 18,
   "metadata": {},
   "outputs": [],
   "source": [
    "#Replace M with mean, leave others alone\n",
    "weather_station_1.loc[:, 'StnPressure'] = \\\n",
    "weather_station_1['StnPressure'].map(lambda x: stnpressure_mean if x=='M' else x).astype(float);\n",
    "\n",
    "weather_station_1.loc[:, 'SeaLevel'] = \\\n",
    "weather_station_1['SeaLevel'].map(lambda x: sealevel_mean if x=='M' else x).astype(float)\n",
    "\n",
    "weather_station_1.loc[:, 'WetBulb'] = \\\n",
    "weather_station_1['WetBulb'].map(lambda x: wetbulb_mean if x=='M' else x).astype(float);"
   ]
  },
  {
   "cell_type": "code",
   "execution_count": 19,
   "metadata": {},
   "outputs": [],
   "source": [
    "#Convert remaining cols to float. Leftover errors from station 1 (Ohare)\n",
    "obj_cols = [col for col in weather_station_1.columns if weather_station_1[col].dtype=='object']\n",
    "for col in weather_station_1:\n",
    "    if col in obj_cols:\n",
    "        weather_station_1.loc[:, col] = weather_station_1[col].astype('float64')"
   ]
  },
  {
   "cell_type": "markdown",
   "metadata": {},
   "source": [
    "### 2.2 Training Data Munging"
   ]
  },
  {
   "cell_type": "code",
   "execution_count": 20,
   "metadata": {},
   "outputs": [],
   "source": [
    "df_train = data_train #Don't edit the initial frame. For recovery"
   ]
  },
  {
   "cell_type": "markdown",
   "metadata": {},
   "source": [
    "#### 2.2.1 Time Series"
   ]
  },
  {
   "cell_type": "markdown",
   "metadata": {},
   "source": [
    "#### 2.2.1.1 Establishing Basic Features"
   ]
  },
  {
   "cell_type": "code",
   "execution_count": 21,
   "metadata": {},
   "outputs": [],
   "source": [
    "#Convert to Date Time from object\n",
    "df_train.loc[:, ['Date']]= pd.to_datetime(df_train['Date'])\n",
    "\n",
    "#Switch to DateTime Index\n",
    "df_train.index = df_train.Date\n",
    "\n",
    "#Create Days from start column for easy analysis\n",
    "BeginDate = datetime.date(2007, 4, 30)\n",
    "df_train.loc[:, 'DaysFrom'] = df_train.index - pd.to_datetime(BeginDate)\n",
    "#extract date number from datetime entry. Should capture broad time dependence\n",
    "df_train.loc[:, 'DaysFrom'] = df_train['DaysFrom'].astype(str).str.replace(' days 00:00:00.000000000', '').astype(int)\n",
    "#Extract Month information\n",
    "df_train.loc[:, 'Month'] = df_train.index.month"
   ]
  },
  {
   "cell_type": "code",
   "execution_count": null,
   "metadata": {},
   "outputs": [],
   "source": []
  },
  {
   "cell_type": "code",
   "execution_count": 22,
   "metadata": {},
   "outputs": [
    {
     "data": {
      "text/plain": [
       "[<matplotlib.lines.Line2D at 0x21645d86390>]"
      ]
     },
     "execution_count": 22,
     "metadata": {},
     "output_type": "execute_result"
    },
    {
     "data": {
      "image/png": "[encoded data removed]",
      "text/plain": [
       "<Figure size 720x360 with 1 Axes>"
      ]
     },
     "metadata": {},
     "output_type": "display_data"
    }
   ],
   "source": [
    "plt.figure(figsize=(10,5))\n",
    "plt.plot(df_train['WnvPresent'].resample('D').sum().rolling(window=14).mean(), alpha=1, lw=2)"
   ]
  },
  {
   "cell_type": "code",
   "execution_count": 23,
   "metadata": {},
   "outputs": [
    {
     "data": {
      "image/png": "[encoded data removed]",
      "text/plain": [
       "<Figure size 864x360 with 1 Axes>"
      ]
     },
     "metadata": {},
     "output_type": "display_data"
    }
   ],
   "source": [
    "fig, ax = plt.subplots(figsize=(12,5))\n",
    "plot_pacf(df_train.NumMosquitos, lags=30, ax=ax)\n",
    "plt.show()"
   ]
  },
  {
   "cell_type": "code",
   "execution_count": 24,
   "metadata": {},
   "outputs": [],
   "source": [
    "#sig bumps at 1,2. bumps at 14, 30\n",
    "wnv_rolling_1 = df_train['WnvPresent'].resample('D').sum().rolling(window=1).mean()\n",
    "wnv_rolling_2 = df_train['WnvPresent'].resample('D').sum().rolling(window=2).mean()\n",
    "wnv_rolling_14 = df_train['WnvPresent'].resample('D').sum().rolling(window=14).mean()\n",
    "wnv_rolling_30 = df_train['WnvPresent'].resample('D').sum().rolling(window=30).mean()"
   ]
  },
  {
   "cell_type": "code",
   "execution_count": 25,
   "metadata": {},
   "outputs": [],
   "source": [
    "numM_rolling_1 = df_train['WnvPresent'].resample('D').sum().rolling(window=1).mean()\n",
    "numM_rolling_2 = df_train['WnvPresent'].resample('D').sum().rolling(window=2).mean()\n",
    "numM_rolling_6 = df_train['WnvPresent'].resample('D').sum().rolling(window=6).mean()\n",
    "numM_rolling_13 = df_train['WnvPresent'].resample('D').sum().rolling(window=13).mean()"
   ]
  },
  {
   "cell_type": "markdown",
   "metadata": {},
   "source": [
    "#### 2.2.1.2 Seasonal Adjustments to Baseline Probability"
   ]
  },
  {
   "cell_type": "code",
   "execution_count": 26,
   "metadata": {},
   "outputs": [],
   "source": [
    "#Create a normalized graph to observe seasonality across years\n",
    "year_day = pd.DataFrame(df_train.index.dayofyear)\n",
    "year_day['Wnv'] = pd.DataFrame(df_train['WnvPresent']).reset_index().drop('Date', axis=1)\n",
    "#Total number of occurences by day of the year\n",
    "daily_sums = year_day.groupby(by='Date').sum()"
   ]
  },
  {
   "cell_type": "code",
   "execution_count": 27,
   "metadata": {},
   "outputs": [
    {
     "data": {
      "image/png": "[encoded data removed]",
      "text/plain": [
       "<Figure size 432x288 with 1 Axes>"
      ]
     },
     "metadata": {},
     "output_type": "display_data"
    }
   ],
   "source": [
    "#Shift up two days to capture Friday-Monday jump\n",
    "#2 seems to be an appropriate normalization factor\n",
    "normizer = 2\n",
    "rolls = pd.Series([daily_sums.iloc[row-5:row+2].mean().sum()*normizer for row in range(len(daily_sums))])\n",
    "rolls.index = daily_sums.index\n",
    "plt.plot(rolls)\n",
    "plt.plot(year_day.groupby(by='Date').sum());#confirm this is from skipped weekends or something"
   ]
  },
  {
   "cell_type": "code",
   "execution_count": 28,
   "metadata": {},
   "outputs": [
    {
     "data": {
      "text/plain": [
       "[<matplotlib.lines.Line2D at 0x21645813278>]"
      ]
     },
     "execution_count": 28,
     "metadata": {},
     "output_type": "execute_result"
    },
    {
     "data": {
      "image/png": "[encoded data removed]",
      "text/plain": [
       "<Figure size 432x288 with 1 Axes>"
      ]
     },
     "metadata": {},
     "output_type": "display_data"
    }
   ],
   "source": [
    "#Normalize by total rows used in calculation\n",
    "rolling_count = year_day.groupby(by='Date').count()\n",
    "rolling_average_rate = rolls / rolling_count['Wnv'].mean()/normizer\n",
    "plt.plot( rolling_average_rate)\n",
    "plt.plot(year_day.groupby(by='Date').sum() /rolling_count)"
   ]
  },
  {
   "cell_type": "code",
   "execution_count": 29,
   "metadata": {},
   "outputs": [],
   "source": [
    "#Add measurement back in \n",
    "df_train['YearDay'] = df_train.index.dayofyear\n",
    "\n",
    "rolling_average_rate = pd.DataFrame(rolling_average_rate, columns=['seasonal_baseline'])\n",
    "\n",
    "df_train = df_train.join(rolling_average_rate, on='YearDay', how='left')"
   ]
  },
  {
   "cell_type": "code",
   "execution_count": null,
   "metadata": {},
   "outputs": [],
   "source": []
  },
  {
   "cell_type": "markdown",
   "metadata": {},
   "source": [
    "#### 2.2.2 Dummy Columns"
   ]
  },
  {
   "cell_type": "code",
   "execution_count": 34,
   "metadata": {},
   "outputs": [],
   "source": [
    "df_species_dummies = pd.get_dummies(df_train['Species'])\n",
    "\n",
    "df_block_dummies = pd.get_dummies(df_train['Block'])\n",
    "\n",
    "df_trap_dummies = pd.get_dummies(df_train['Trap'])"
   ]
  },
  {
   "cell_type": "code",
   "execution_count": 35,
   "metadata": {},
   "outputs": [],
   "source": [
    "df_weekday_dummies = pd.get_dummies(df_train.index.weekday_name)\n",
    "df_weekday_dummies.index=df_train.index"
   ]
  },
  {
   "cell_type": "code",
   "execution_count": 36,
   "metadata": {},
   "outputs": [],
   "source": [
    "#Assess Weekday Correlation\n",
    "week_trap = pd.concat([df_weekday_dummies,df_trap_dummies], axis=1)\n",
    "week_trap_corr = week_trap.corr()\n",
    "week_trap_corr = np.triu(week_trap_corr, k=1)[:5]"
   ]
  },
  {
   "cell_type": "code",
   "execution_count": 37,
   "metadata": {
    "collapsed": true
   },
   "outputs": [
    {
     "data": {
      "text/plain": [
       "<matplotlib.axes._subplots.AxesSubplot at 0x2164645a358>"
      ]
     },
     "execution_count": 37,
     "metadata": {},
     "output_type": "execute_result"
    },
    {
     "data": {
      "image/png": "[encoded data removed]",
      "text/plain": [
       "<Figure size 1080x720 with 2 Axes>"
      ]
     },
     "metadata": {},
     "output_type": "display_data"
    }
   ],
   "source": [
    "fig, axes = plt.subplots()\n",
    "fig.set_figheight(10)\n",
    "fig.set_figwidth(15)\n",
    "sns.heatmap(week_trap_corr, cmap='coolwarm', vmin=-.2, vmax=.2, ax=axes)"
   ]
  },
  {
   "cell_type": "code",
   "execution_count": 38,
   "metadata": {},
   "outputs": [],
   "source": [
    "temp_df = pd.concat([df_train, df_trap_dummies, df_species_dummies], axis=1)\n",
    "temp_df['weekday'] = temp_df.index.weekday"
   ]
  },
  {
   "cell_type": "code",
   "execution_count": 39,
   "metadata": {},
   "outputs": [
    {
     "data": {
      "text/plain": [
       "Friday       3764\n",
       "Thursday     2576\n",
       "Wednesday    1795\n",
       "Monday       1315\n",
       "Tuesday      1056\n",
       "Name: Date, dtype: int64"
      ]
     },
     "execution_count": 39,
     "metadata": {},
     "output_type": "execute_result"
    }
   ],
   "source": [
    "df_train.index.weekday_name.value_counts()"
   ]
  },
  {
   "cell_type": "code",
   "execution_count": 40,
   "metadata": {},
   "outputs": [],
   "source": [
    "#temp_df.to_csv('./Data/weekday.csv', index=False)"
   ]
  },
  {
   "cell_type": "markdown",
   "metadata": {},
   "source": [
    "#### 2.2.3 Remove Un-Needed and Recombine"
   ]
  },
  {
   "cell_type": "code",
   "execution_count": 41,
   "metadata": {},
   "outputs": [],
   "source": [
    "cols_to_drop = ['Address', 'Species', 'Block', 'Street', 'Trap', 'AddressNumberAndStreet', 'AddressAccuracy', 'Date']"
   ]
  },
  {
   "cell_type": "code",
   "execution_count": 42,
   "metadata": {},
   "outputs": [],
   "source": [
    "df_train = df_train.drop(cols_to_drop, axis=1)"
   ]
  },
  {
   "cell_type": "markdown",
   "metadata": {},
   "source": [
    "Series to add \n",
    "  West Nile Rolling prevalence\n",
    "wnv_rolling_1   \n",
    "wnv_rolling_2  \n",
    "wnv_rolling_14  \n",
    "wnv_rolling_30  \n",
    "  Rolling Mosquito counts  \n",
    "numM_rolling_1   \n",
    "numM_rolling_2   \n",
    "numM_rolling_6   \n",
    "numM_rolling_13   \n",
    "\n",
    "DataFrame Dummies to add  \n",
    "df_species_dummies  \n",
    "df_block_dummies  \n",
    "df_trap_dummies  "
   ]
  },
  {
   "cell_type": "code",
   "execution_count": 43,
   "metadata": {},
   "outputs": [],
   "source": [
    "#CAUTION: JOINING DATAFRAMES IS MEMORY INTENSIVE"
   ]
  },
  {
   "cell_type": "code",
   "execution_count": 44,
   "metadata": {},
   "outputs": [],
   "source": [
    "#YOU HAVE BEEN WARNED"
   ]
  },
  {
   "cell_type": "code",
   "execution_count": 45,
   "metadata": {},
   "outputs": [],
   "source": [
    "df_train = pd.concat([df_train,df_species_dummies, df_weekday_dummies], axis=1)"
   ]
  },
  {
   "cell_type": "code",
   "execution_count": 29,
   "metadata": {},
   "outputs": [],
   "source": [
    "#Add measurement back in \n",
    "df_train['YearDay'] = df_train.index.dayofyear\n",
    "\n",
    "rolling_average_rate = pd.DataFrame(rolling_average_rate, columns=['seasonal_baseline'])\n",
    "\n",
    "df_train = df_train.join(rolling_average_rate, on='YearDay', how='left')"
   ]
  },
  {
   "cell_type": "code",
   "execution_count": 46,
   "metadata": {},
   "outputs": [],
   "source": [
    "df_temp = data_test"
   ]
  },
  {
   "cell_type": "code",
   "execution_count": 47,
   "metadata": {},
   "outputs": [],
   "source": [
    "\n",
    "#Convert to Date Time from object\n",
    "df_temp.loc[:, ['Date']]= pd.to_datetime(df_temp['Date'])\n",
    "\n",
    "#Switch to DateTime Index\n",
    "df_temp.index = df_temp.Date"
   ]
  },
  {
   "cell_type": "code",
   "execution_count": 48,
   "metadata": {},
   "outputs": [
    {
     "data": {
      "text/plain": [
       "116293"
      ]
     },
     "execution_count": 48,
     "metadata": {},
     "output_type": "execute_result"
    }
   ],
   "source": [
    "df_temp.shape[0]"
   ]
  },
  {
   "cell_type": "code",
   "execution_count": 49,
   "metadata": {},
   "outputs": [],
   "source": [
    "test_freq = df_temp.index.weekday.value_counts().sort_index() / df_temp.shape[0]\n",
    "train_freq = df_train.index.weekday.value_counts().sort_index() / df_train.shape[0]"
   ]
  },
  {
   "cell_type": "code",
   "execution_count": 50,
   "metadata": {},
   "outputs": [],
   "source": [
    "df_freq = pd.DataFrame(test_freq)"
   ]
  },
  {
   "cell_type": "code",
   "execution_count": 51,
   "metadata": {},
   "outputs": [],
   "source": [
    "df_freq['Day'] = ['Monday', 'Tuesday', 'Wednesday', 'Thursday', 'Friday']\n",
    "df_freq['Set'] = 'Test'"
   ]
  },
  {
   "cell_type": "code",
   "execution_count": 52,
   "metadata": {},
   "outputs": [],
   "source": [
    "df_freq_2 = pd.DataFrame(train_freq)\n",
    "df_freq_2['Day'] = ['Monday', 'Tuesday', 'Wednesday', 'Thursday', 'Friday']\n",
    "df_freq_2['Set'] = 'Train'"
   ]
  },
  {
   "cell_type": "code",
   "execution_count": 53,
   "metadata": {},
   "outputs": [],
   "source": [
    "df_freq = pd.concat([df_freq, df_freq_2])\n",
    "df_freq = df_freq.reset_index()\n",
    "df_freq = df_freq.drop('index', axis=1)"
   ]
  },
  {
   "cell_type": "code",
   "execution_count": null,
   "metadata": {},
   "outputs": [],
   "source": []
  },
  {
   "cell_type": "code",
   "execution_count": 54,
   "metadata": {
    "scrolled": true
   },
   "outputs": [
    {
     "data": {
      "text/plain": [
       "<seaborn.axisgrid.FacetGrid at 0x2164578b7b8>"
      ]
     },
     "execution_count": 54,
     "metadata": {},
     "output_type": "execute_result"
    },
    {
     "data": {
      "image/png": "[encoded data removed]",
      "text/plain": [
       "<Figure size 432x288 with 1 Axes>"
      ]
     },
     "metadata": {},
     "output_type": "display_data"
    },
    {
     "data": {
      "image/png": "[encoded data removed]",
      "text/plain": [
       "<Figure size 349.484x288 with 1 Axes>"
      ]
     },
     "metadata": {},
     "output_type": "display_data"
    }
   ],
   "source": [
    "fig, axes = plt.subplots()\n",
    "fig.set_figwidth = 10\n",
    "fig.set_figheight = 10\n",
    "sns.factorplot(x='Day', y = 'Date', hue='Set',  data=df_freq, kind='bar', ax=axes)"
   ]
  },
  {
   "cell_type": "markdown",
   "metadata": {},
   "source": [
    "## 2.9 Combine Data and Assess"
   ]
  },
  {
   "cell_type": "code",
   "execution_count": null,
   "metadata": {},
   "outputs": [],
   "source": []
  },
  {
   "cell_type": "code",
   "execution_count": 55,
   "metadata": {},
   "outputs": [],
   "source": [
    "df_rolling = weather_station_1.resample('D').sum().rolling(window=7).mean().shift()"
   ]
  },
  {
   "cell_type": "code",
   "execution_count": 56,
   "metadata": {},
   "outputs": [],
   "source": [
    "df_train = df_train.join(df_rolling, how='left')"
   ]
  },
  {
   "cell_type": "code",
   "execution_count": 57,
   "metadata": {},
   "outputs": [
    {
     "data": {
      "text/html": [
       "<div>\n",
       "<style scoped>\n",
       "    .dataframe tbody tr th:only-of-type {\n",
       "        vertical-align: middle;\n",
       "    }\n",
       "\n",
       "    .dataframe tbody tr th {\n",
       "        vertical-align: top;\n",
       "    }\n",
       "\n",
       "    .dataframe thead th {\n",
       "        text-align: right;\n",
       "    }\n",
       "</style>\n",
       "<table border=\"1\" class=\"dataframe\">\n",
       "  <thead>\n",
       "    <tr style=\"text-align: right;\">\n",
       "      <th></th>\n",
       "      <th>Latitude</th>\n",
       "      <th>Longitude</th>\n",
       "      <th>NumMosquitos</th>\n",
       "      <th>WnvPresent</th>\n",
       "      <th>DaysFrom</th>\n",
       "      <th>Month</th>\n",
       "      <th>YearDay</th>\n",
       "      <th>seasonal_baseline</th>\n",
       "      <th>CULEX ERRATICUS</th>\n",
       "      <th>CULEX PIPIENS</th>\n",
       "      <th>...</th>\n",
       "      <th>RA</th>\n",
       "      <th>BR</th>\n",
       "      <th>TS</th>\n",
       "      <th>TSRA</th>\n",
       "      <th>MIFG</th>\n",
       "      <th>BCFG</th>\n",
       "      <th>FU</th>\n",
       "      <th>FG+</th>\n",
       "      <th>SQ</th>\n",
       "      <th>FG</th>\n",
       "    </tr>\n",
       "    <tr>\n",
       "      <th>Date</th>\n",
       "      <th></th>\n",
       "      <th></th>\n",
       "      <th></th>\n",
       "      <th></th>\n",
       "      <th></th>\n",
       "      <th></th>\n",
       "      <th></th>\n",
       "      <th></th>\n",
       "      <th></th>\n",
       "      <th></th>\n",
       "      <th></th>\n",
       "      <th></th>\n",
       "      <th></th>\n",
       "      <th></th>\n",
       "      <th></th>\n",
       "      <th></th>\n",
       "      <th></th>\n",
       "      <th></th>\n",
       "      <th></th>\n",
       "      <th></th>\n",
       "      <th></th>\n",
       "    </tr>\n",
       "  </thead>\n",
       "  <tbody>\n",
       "    <tr>\n",
       "      <th>2007-05-29</th>\n",
       "      <td>41.954690</td>\n",
       "      <td>-87.800991</td>\n",
       "      <td>1</td>\n",
       "      <td>0</td>\n",
       "      <td>29</td>\n",
       "      <td>5</td>\n",
       "      <td>149</td>\n",
       "      <td>0.0</td>\n",
       "      <td>0</td>\n",
       "      <td>0</td>\n",
       "      <td>...</td>\n",
       "      <td>0.571429</td>\n",
       "      <td>0.285714</td>\n",
       "      <td>0.142857</td>\n",
       "      <td>0.142857</td>\n",
       "      <td>0.0</td>\n",
       "      <td>0.0</td>\n",
       "      <td>0.0</td>\n",
       "      <td>0.0</td>\n",
       "      <td>0.0</td>\n",
       "      <td>0.0</td>\n",
       "    </tr>\n",
       "    <tr>\n",
       "      <th>2007-05-29</th>\n",
       "      <td>41.954690</td>\n",
       "      <td>-87.800991</td>\n",
       "      <td>1</td>\n",
       "      <td>0</td>\n",
       "      <td>29</td>\n",
       "      <td>5</td>\n",
       "      <td>149</td>\n",
       "      <td>0.0</td>\n",
       "      <td>0</td>\n",
       "      <td>0</td>\n",
       "      <td>...</td>\n",
       "      <td>0.571429</td>\n",
       "      <td>0.285714</td>\n",
       "      <td>0.142857</td>\n",
       "      <td>0.142857</td>\n",
       "      <td>0.0</td>\n",
       "      <td>0.0</td>\n",
       "      <td>0.0</td>\n",
       "      <td>0.0</td>\n",
       "      <td>0.0</td>\n",
       "      <td>0.0</td>\n",
       "    </tr>\n",
       "    <tr>\n",
       "      <th>2007-05-29</th>\n",
       "      <td>41.994991</td>\n",
       "      <td>-87.769279</td>\n",
       "      <td>1</td>\n",
       "      <td>0</td>\n",
       "      <td>29</td>\n",
       "      <td>5</td>\n",
       "      <td>149</td>\n",
       "      <td>0.0</td>\n",
       "      <td>0</td>\n",
       "      <td>0</td>\n",
       "      <td>...</td>\n",
       "      <td>0.571429</td>\n",
       "      <td>0.285714</td>\n",
       "      <td>0.142857</td>\n",
       "      <td>0.142857</td>\n",
       "      <td>0.0</td>\n",
       "      <td>0.0</td>\n",
       "      <td>0.0</td>\n",
       "      <td>0.0</td>\n",
       "      <td>0.0</td>\n",
       "      <td>0.0</td>\n",
       "    </tr>\n",
       "    <tr>\n",
       "      <th>2007-05-29</th>\n",
       "      <td>41.974089</td>\n",
       "      <td>-87.824812</td>\n",
       "      <td>1</td>\n",
       "      <td>0</td>\n",
       "      <td>29</td>\n",
       "      <td>5</td>\n",
       "      <td>149</td>\n",
       "      <td>0.0</td>\n",
       "      <td>0</td>\n",
       "      <td>0</td>\n",
       "      <td>...</td>\n",
       "      <td>0.571429</td>\n",
       "      <td>0.285714</td>\n",
       "      <td>0.142857</td>\n",
       "      <td>0.142857</td>\n",
       "      <td>0.0</td>\n",
       "      <td>0.0</td>\n",
       "      <td>0.0</td>\n",
       "      <td>0.0</td>\n",
       "      <td>0.0</td>\n",
       "      <td>0.0</td>\n",
       "    </tr>\n",
       "    <tr>\n",
       "      <th>2007-05-29</th>\n",
       "      <td>41.974089</td>\n",
       "      <td>-87.824812</td>\n",
       "      <td>4</td>\n",
       "      <td>0</td>\n",
       "      <td>29</td>\n",
       "      <td>5</td>\n",
       "      <td>149</td>\n",
       "      <td>0.0</td>\n",
       "      <td>0</td>\n",
       "      <td>0</td>\n",
       "      <td>...</td>\n",
       "      <td>0.571429</td>\n",
       "      <td>0.285714</td>\n",
       "      <td>0.142857</td>\n",
       "      <td>0.142857</td>\n",
       "      <td>0.0</td>\n",
       "      <td>0.0</td>\n",
       "      <td>0.0</td>\n",
       "      <td>0.0</td>\n",
       "      <td>0.0</td>\n",
       "      <td>0.0</td>\n",
       "    </tr>\n",
       "  </tbody>\n",
       "</table>\n",
       "<p>5 rows × 51 columns</p>\n",
       "</div>"
      ],
      "text/plain": [
       "             Latitude  Longitude  NumMosquitos  WnvPresent  DaysFrom  Month  \\\n",
       "Date                                                                          \n",
       "2007-05-29  41.954690 -87.800991             1           0        29      5   \n",
       "2007-05-29  41.954690 -87.800991             1           0        29      5   \n",
       "2007-05-29  41.994991 -87.769279             1           0        29      5   \n",
       "2007-05-29  41.974089 -87.824812             1           0        29      5   \n",
       "2007-05-29  41.974089 -87.824812             4           0        29      5   \n",
       "\n",
       "            YearDay  seasonal_baseline  CULEX ERRATICUS  CULEX PIPIENS ...   \\\n",
       "Date                                                                   ...    \n",
       "2007-05-29      149                0.0                0              0 ...    \n",
       "2007-05-29      149                0.0                0              0 ...    \n",
       "2007-05-29      149                0.0                0              0 ...    \n",
       "2007-05-29      149                0.0                0              0 ...    \n",
       "2007-05-29      149                0.0                0              0 ...    \n",
       "\n",
       "                  RA        BR        TS      TSRA  MIFG  BCFG   FU  FG+   SQ  \\\n",
       "Date                                                                            \n",
       "2007-05-29  0.571429  0.285714  0.142857  0.142857   0.0   0.0  0.0  0.0  0.0   \n",
       "2007-05-29  0.571429  0.285714  0.142857  0.142857   0.0   0.0  0.0  0.0  0.0   \n",
       "2007-05-29  0.571429  0.285714  0.142857  0.142857   0.0   0.0  0.0  0.0  0.0   \n",
       "2007-05-29  0.571429  0.285714  0.142857  0.142857   0.0   0.0  0.0  0.0  0.0   \n",
       "2007-05-29  0.571429  0.285714  0.142857  0.142857   0.0   0.0  0.0  0.0  0.0   \n",
       "\n",
       "             FG  \n",
       "Date             \n",
       "2007-05-29  0.0  \n",
       "2007-05-29  0.0  \n",
       "2007-05-29  0.0  \n",
       "2007-05-29  0.0  \n",
       "2007-05-29  0.0  \n",
       "\n",
       "[5 rows x 51 columns]"
      ]
     },
     "execution_count": 57,
     "metadata": {},
     "output_type": "execute_result"
    }
   ],
   "source": [
    "df_train.head()"
   ]
  },
  {
   "cell_type": "markdown",
   "metadata": {},
   "source": [
    "# <a class=\"anchor\" id=\"3.0-bullet\">3. Model </a>"
   ]
  },
  {
   "cell_type": "markdown",
   "metadata": {},
   "source": [
    "## 3.1 Build Model"
   ]
  },
  {
   "cell_type": "code",
   "execution_count": 58,
   "metadata": {},
   "outputs": [],
   "source": [
    "cols_to_exclude = ['WnvPresent', 'NumMosquitos', 'DaysFrom', \n",
    "                   'Sunrise', 'Sunset', 'YearDay', 'Month', 'seasonal_baseline']\n",
    "model_cols = [col for col in df_train.columns if col not in cols_to_exclude]"
   ]
  },
  {
   "cell_type": "code",
   "execution_count": 59,
   "metadata": {},
   "outputs": [],
   "source": [
    "X = df_train.loc[:, model_cols]\n",
    "y = df_train['WnvPresent']"
   ]
  },
  {
   "cell_type": "code",
   "execution_count": 61,
   "metadata": {},
   "outputs": [],
   "source": [
    "#Stratification on Days From should ensure usable spread in time data. Should get most periods in train and test\n",
    "X_train, X_test, y_train, y_test = train_test_split(X, y, stratify=X.index, random_state=42)"
   ]
  },
  {
   "cell_type": "markdown",
   "metadata": {},
   "source": [
    "### 3.1.2 GridSearch KKN"
   ]
  },
  {
   "cell_type": "code",
   "execution_count": 62,
   "metadata": {},
   "outputs": [
    {
     "name": "stdout",
     "output_type": "stream",
     "text": [
      "   Score:  0.9444232965359726\n"
     ]
    }
   ],
   "source": [
    "paramz = {\n",
    "    'n_neighbors': [3, 5, 7, 8, 20]\n",
    "}\n",
    "gs=GridSearchCV(KNeighborsClassifier(), param_grid=paramz)\n",
    "gs.fit(X_train, y_train)\n",
    "print('   Score: ', gs.score(X_test, y_test))\n"
   ]
  },
  {
   "cell_type": "code",
   "execution_count": 63,
   "metadata": {},
   "outputs": [
    {
     "data": {
      "text/plain": [
       "{'n_neighbors': 8}"
      ]
     },
     "execution_count": 63,
     "metadata": {},
     "output_type": "execute_result"
    }
   ],
   "source": [
    "gs.best_params_"
   ]
  },
  {
   "cell_type": "code",
   "execution_count": null,
   "metadata": {},
   "outputs": [],
   "source": []
  },
  {
   "cell_type": "code",
   "execution_count": 64,
   "metadata": {},
   "outputs": [
    {
     "data": {
      "text/plain": [
       "KNeighborsClassifier(algorithm='auto', leaf_size=30, metric='minkowski',\n",
       "           metric_params=None, n_jobs=1, n_neighbors=8, p=2,\n",
       "           weights='uniform')"
      ]
     },
     "execution_count": 64,
     "metadata": {},
     "output_type": "execute_result"
    }
   ],
   "source": [
    "#Option 2: Use Something Else\n",
    "knc = KNeighborsClassifier(8)\n",
    "knc.fit(X_train, y_train)"
   ]
  },
  {
   "cell_type": "code",
   "execution_count": 65,
   "metadata": {},
   "outputs": [],
   "source": [
    "kpreds = knc.predict_proba(X_test)"
   ]
  },
  {
   "cell_type": "code",
   "execution_count": 66,
   "metadata": {},
   "outputs": [],
   "source": [
    "wnv_preds = [proba[1] for proba in kpreds]"
   ]
  },
  {
   "cell_type": "code",
   "execution_count": 67,
   "metadata": {},
   "outputs": [
    {
     "name": "stderr",
     "output_type": "stream",
     "text": [
      "C:\\ProgramData\\Anaconda3\\lib\\site-packages\\matplotlib\\axes\\_axes.py:6462: UserWarning: The 'normed' kwarg is deprecated, and has been replaced by the 'density' kwarg.\n",
      "  warnings.warn(\"The 'normed' kwarg is deprecated, and has been \"\n"
     ]
    },
    {
     "data": {
      "text/plain": [
       "<matplotlib.axes._subplots.AxesSubplot at 0x21646790128>"
      ]
     },
     "execution_count": 67,
     "metadata": {},
     "output_type": "execute_result"
    },
    {
     "data": {
      "image/png": "[encoded data removed]",
      "text/plain": [
       "<Figure size 432x288 with 1 Axes>"
      ]
     },
     "metadata": {},
     "output_type": "display_data"
    }
   ],
   "source": [
    "wnv_preds_adj = [1*(pred > .1) for pred in wnv_preds]\n",
    "sns.distplot(wnv_preds)"
   ]
  },
  {
   "cell_type": "code",
   "execution_count": 68,
   "metadata": {},
   "outputs": [
    {
     "data": {
      "text/html": [
       "<div>\n",
       "<style scoped>\n",
       "    .dataframe tbody tr th:only-of-type {\n",
       "        vertical-align: middle;\n",
       "    }\n",
       "\n",
       "    .dataframe tbody tr th {\n",
       "        vertical-align: top;\n",
       "    }\n",
       "\n",
       "    .dataframe thead th {\n",
       "        text-align: right;\n",
       "    }\n",
       "</style>\n",
       "<table border=\"1\" class=\"dataframe\">\n",
       "  <thead>\n",
       "    <tr style=\"text-align: right;\">\n",
       "      <th></th>\n",
       "      <th>Predicted 0</th>\n",
       "      <th>Pred 1</th>\n",
       "    </tr>\n",
       "  </thead>\n",
       "  <tbody>\n",
       "    <tr>\n",
       "      <th>Actual 0</th>\n",
       "      <td>1901</td>\n",
       "      <td>581</td>\n",
       "    </tr>\n",
       "    <tr>\n",
       "      <th>Actual 1</th>\n",
       "      <td>51</td>\n",
       "      <td>94</td>\n",
       "    </tr>\n",
       "  </tbody>\n",
       "</table>\n",
       "</div>"
      ],
      "text/plain": [
       "          Predicted 0  Pred 1\n",
       "Actual 0         1901     581\n",
       "Actual 1           51      94"
      ]
     },
     "execution_count": 68,
     "metadata": {},
     "output_type": "execute_result"
    }
   ],
   "source": [
    "cm = confusion_matrix(y_test, wnv_preds_adj)\n",
    "df_cm = pd.DataFrame(cm, columns=['Predicted 0', 'Pred 1'], index=['Actual 0', 'Actual 1'])\n",
    "df_cm"
   ]
  },
  {
   "cell_type": "code",
   "execution_count": 69,
   "metadata": {},
   "outputs": [],
   "source": [
    "X_test_mod = X_test"
   ]
  },
  {
   "cell_type": "code",
   "execution_count": 88,
   "metadata": {},
   "outputs": [
    {
     "data": {
      "text/plain": [
       "Index(['Latitude', 'Longitude', 'CULEX ERRATICUS', 'CULEX PIPIENS',\n",
       "       'CULEX PIPIENS/RESTUANS', 'CULEX RESTUANS', 'CULEX SALINARIUS',\n",
       "       'CULEX TARSALIS', 'CULEX TERRITANS', 'Friday', 'Monday', 'Thursday',\n",
       "       'Tuesday', 'Wednesday', 'Tmax', 'Tmin', 'Tavg', 'DewPoint', 'WetBulb',\n",
       "       'Heat', 'Cool', 'Depth', 'SnowFall', 'PrecipTotal', 'StnPressure',\n",
       "       'SeaLevel', 'ResultSpeed', 'ResultDir', 'AvgSpeed', 'HZ', 'DZ', 'VCTS',\n",
       "       'SN', 'RA', 'BR', 'TS', 'TSRA', 'MIFG', 'BCFG', 'FU', 'FG+', 'SQ',\n",
       "       'FG'],\n",
       "      dtype='object')"
      ]
     },
     "execution_count": 88,
     "metadata": {},
     "output_type": "execute_result"
    }
   ],
   "source": [
    "X_train.columns"
   ]
  },
  {
   "cell_type": "code",
   "execution_count": 89,
   "metadata": {},
   "outputs": [
    {
     "data": {
      "text/plain": [
       "['YearDay']"
      ]
     },
     "execution_count": 89,
     "metadata": {},
     "output_type": "execute_result"
    }
   ],
   "source": [
    "[col for col in X_test.columns if col not in X_train.columns]"
   ]
  },
  {
   "cell_type": "code",
   "execution_count": 70,
   "metadata": {},
   "outputs": [
    {
     "name": "stderr",
     "output_type": "stream",
     "text": [
      "C:\\ProgramData\\Anaconda3\\lib\\site-packages\\ipykernel_launcher.py:1: SettingWithCopyWarning: \n",
      "A value is trying to be set on a copy of a slice from a DataFrame.\n",
      "Try using .loc[row_indexer,col_indexer] = value instead\n",
      "\n",
      "See the caveats in the documentation: http://pandas.pydata.org/pandas-docs/stable/indexing.html#indexing-view-versus-copy\n",
      "  \"\"\"Entry point for launching an IPython kernel.\n"
     ]
    }
   ],
   "source": [
    "X_test_mod['YearDay'] =X_test_mod.index.dayofyear"
   ]
  },
  {
   "cell_type": "code",
   "execution_count": 71,
   "metadata": {},
   "outputs": [],
   "source": [
    "X_test_mod= X_test_mod.join(rolling_average_rate, on='YearDay', how='left')"
   ]
  },
  {
   "cell_type": "code",
   "execution_count": 72,
   "metadata": {},
   "outputs": [],
   "source": [
    "wnv_preds2 = [X_test_mod['seasonal_baseline'][i] + wnv_preds[i] for i in range(len(X_test_mod))]"
   ]
  },
  {
   "cell_type": "code",
   "execution_count": 73,
   "metadata": {},
   "outputs": [],
   "source": [
    "wnv_preds_adj2 = [1*(pred > .1) for pred in wnv_preds2]\n"
   ]
  },
  {
   "cell_type": "code",
   "execution_count": 74,
   "metadata": {},
   "outputs": [
    {
     "data": {
      "text/html": [
       "<div>\n",
       "<style scoped>\n",
       "    .dataframe tbody tr th:only-of-type {\n",
       "        vertical-align: middle;\n",
       "    }\n",
       "\n",
       "    .dataframe tbody tr th {\n",
       "        vertical-align: top;\n",
       "    }\n",
       "\n",
       "    .dataframe thead th {\n",
       "        text-align: right;\n",
       "    }\n",
       "</style>\n",
       "<table border=\"1\" class=\"dataframe\">\n",
       "  <thead>\n",
       "    <tr style=\"text-align: right;\">\n",
       "      <th></th>\n",
       "      <th>Predicted 0</th>\n",
       "      <th>Pred 1</th>\n",
       "    </tr>\n",
       "  </thead>\n",
       "  <tbody>\n",
       "    <tr>\n",
       "      <th>Actual 0</th>\n",
       "      <td>1623</td>\n",
       "      <td>859</td>\n",
       "    </tr>\n",
       "    <tr>\n",
       "      <th>Actual 1</th>\n",
       "      <td>24</td>\n",
       "      <td>121</td>\n",
       "    </tr>\n",
       "  </tbody>\n",
       "</table>\n",
       "</div>"
      ],
      "text/plain": [
       "          Predicted 0  Pred 1\n",
       "Actual 0         1623     859\n",
       "Actual 1           24     121"
      ]
     },
     "execution_count": 74,
     "metadata": {},
     "output_type": "execute_result"
    }
   ],
   "source": [
    "cm = confusion_matrix(y_test, wnv_preds_adj2)\n",
    "df_cm = pd.DataFrame(cm, columns=['Predicted 0', 'Pred 1'], index=['Actual 0', 'Actual 1'])\n",
    "df_cm"
   ]
  },
  {
   "cell_type": "code",
   "execution_count": 75,
   "metadata": {},
   "outputs": [],
   "source": [
    "from sklearn.metrics import roc_auc_score"
   ]
  },
  {
   "cell_type": "code",
   "execution_count": 76,
   "metadata": {},
   "outputs": [
    {
     "data": {
      "text/plain": [
       "0.731430437077996"
      ]
     },
     "execution_count": 76,
     "metadata": {},
     "output_type": "execute_result"
    }
   ],
   "source": [
    "roc_auc_score(y_test, wnv_preds)"
   ]
  },
  {
   "cell_type": "code",
   "execution_count": 77,
   "metadata": {},
   "outputs": [
    {
     "name": "stdout",
     "output_type": "stream",
     "text": [
      "    i:1 score:0.650459862735836\n",
      "    i:6 score:0.6941634944010671\n",
      "    i:11 score:0.7385909583483843\n",
      "    i:16 score:0.7265053210703271\n",
      "    i:21 score:0.728153046764289\n",
      "    i:26 score:0.6811220095029036\n",
      "    i:31 score:0.6570910556003223\n",
      "    i:36 score:0.6139820500708549\n",
      "    i:41 score:0.6035899858290034\n",
      "    i:46 score:0.5802342382394621\n",
      "    i:51 score:0.5489510683820057\n",
      "    i:56 score:0.5475172969518464\n",
      "    i:61 score:0.5237586484759232\n",
      "    i:66 score:0.5237586484759232\n",
      "    i:71 score:0.5211161743866182\n",
      "    i:76 score:0.51623412709439\n",
      "    i:81 score:0.5166370279807719\n",
      "    i:86 score:0.5101433771430159\n"
     ]
    }
   ],
   "source": [
    "for i in range(1, 90, 5):\n",
    "    print('    i:{} score:{}'.format(i, roc_auc_score(y_test, [1*(pred > i/100) for pred in wnv_preds2])))"
   ]
  },
  {
   "cell_type": "code",
   "execution_count": 78,
   "metadata": {
    "collapsed": true
   },
   "outputs": [
    {
     "name": "stdout",
     "output_type": "stream",
     "text": [
      "    i:1 score:0.7070952235405262\n",
      "    i:6 score:0.7070952235405262\n",
      "    i:11 score:0.7070952235405262\n",
      "    i:16 score:0.6619258662369057\n",
      "    i:21 score:0.6619258662369057\n",
      "    i:26 score:0.5771652449359527\n",
      "    i:31 score:0.5771652449359527\n",
      "    i:36 score:0.5771652449359527\n",
      "    i:41 score:0.5399927755703131\n",
      "    i:46 score:0.5399927755703131\n",
      "    i:51 score:0.522526327488955\n",
      "    i:56 score:0.522526327488955\n",
      "    i:61 score:0.522526327488955\n",
      "    i:66 score:0.5133902025618939\n",
      "    i:71 score:0.5133902025618939\n",
      "    i:76 score:0.503448275862069\n",
      "    i:81 score:0.503448275862069\n",
      "    i:86 score:0.503448275862069\n"
     ]
    }
   ],
   "source": [
    "for i in range(1, 90, 5):\n",
    "    print('    i:{} score:{}'.format(i, roc_auc_score(y_test, [1*(pred > i/100) for pred in wnv_preds])))"
   ]
  },
  {
   "cell_type": "markdown",
   "metadata": {},
   "source": [
    "### 3.1.4 Nearest Centroid"
   ]
  },
  {
   "cell_type": "code",
   "execution_count": 79,
   "metadata": {},
   "outputs": [],
   "source": [
    "from sklearn.neighbors.nearest_centroid import NearestCentroid"
   ]
  },
  {
   "cell_type": "code",
   "execution_count": 80,
   "metadata": {},
   "outputs": [
    {
     "data": {
      "text/plain": [
       "NearestCentroid(metric='euclidean', shrink_threshold=None)"
      ]
     },
     "execution_count": 80,
     "metadata": {},
     "output_type": "execute_result"
    }
   ],
   "source": [
    "clf = NearestCentroid()\n",
    "clf.fit(X_train, y_train)"
   ]
  },
  {
   "cell_type": "code",
   "execution_count": 84,
   "metadata": {},
   "outputs": [
    {
     "data": {
      "text/plain": [
       "(7879, 43)"
      ]
     },
     "execution_count": 84,
     "metadata": {},
     "output_type": "execute_result"
    }
   ],
   "source": [
    "X_train.shape"
   ]
  },
  {
   "cell_type": "code",
   "execution_count": 94,
   "metadata": {},
   "outputs": [
    {
     "name": "stderr",
     "output_type": "stream",
     "text": [
      "C:\\ProgramData\\Anaconda3\\lib\\site-packages\\pandas\\core\\frame.py:3694: SettingWithCopyWarning: \n",
      "A value is trying to be set on a copy of a slice from a DataFrame\n",
      "\n",
      "See the caveats in the documentation: http://pandas.pydata.org/pandas-docs/stable/indexing.html#indexing-view-versus-copy\n",
      "  errors=errors)\n"
     ]
    }
   ],
   "source": [
    "X_test.drop('YearDay', axis =1, inplace=True)"
   ]
  },
  {
   "cell_type": "code",
   "execution_count": 95,
   "metadata": {},
   "outputs": [
    {
     "data": {
      "text/plain": [
       "0.5709935287400076"
      ]
     },
     "execution_count": 95,
     "metadata": {},
     "output_type": "execute_result"
    }
   ],
   "source": [
    "clf.score(X_test, y_test)"
   ]
  },
  {
   "cell_type": "code",
   "execution_count": 96,
   "metadata": {},
   "outputs": [
    {
     "data": {
      "text/plain": [
       "0.5651685237155798"
      ]
     },
     "execution_count": 96,
     "metadata": {},
     "output_type": "execute_result"
    }
   ],
   "source": [
    "roc_auc_score(y_test, clf.predict(X_test))"
   ]
  },
  {
   "cell_type": "markdown",
   "metadata": {},
   "source": [
    "### 3.1.5 Manual Centroids"
   ]
  },
  {
   "cell_type": "code",
   "execution_count": null,
   "metadata": {},
   "outputs": [],
   "source": [
    "checkn = 100\n",
    "kmm = KMeans(n_clusters = checkn)"
   ]
  },
  {
   "cell_type": "code",
   "execution_count": null,
   "metadata": {},
   "outputs": [],
   "source": [
    "k_data = pd.concat([X_train, y_train], axis=1)"
   ]
  },
  {
   "cell_type": "code",
   "execution_count": null,
   "metadata": {},
   "outputs": [],
   "source": [
    "#Update Target column with descriptive name\n",
    "k_cols = list(k_data.columns)\n",
    "k_cols.append('Target')\n",
    "k_cols.pop(len(k_cols)-2)\n",
    "k_data.columns = k_cols"
   ]
  },
  {
   "cell_type": "code",
   "execution_count": null,
   "metadata": {},
   "outputs": [],
   "source": [
    "kmm.fit(k_data)"
   ]
  },
  {
   "cell_type": "code",
   "execution_count": null,
   "metadata": {},
   "outputs": [],
   "source": [
    "centroids = pd.DataFrame(kmm.cluster_centers_, columns=k_data.columns)"
   ]
  },
  {
   "cell_type": "code",
   "execution_count": null,
   "metadata": {},
   "outputs": [],
   "source": [
    "(centroids['Target']*100).astype(int).sort_values(ascending=False)[:5]"
   ]
  },
  {
   "cell_type": "code",
   "execution_count": null,
   "metadata": {},
   "outputs": [],
   "source": [
    "df_temp = centroids.iloc[[12,16,92],  :].T\n",
    "for col in df_temp.columns:\n",
    "    df_temp.loc[:, col] = df_temp[col].map(lambda x: '{:01f}'.format(x))\n",
    "df_temp = pd.concat([k_data.mean(), df_temp], axis=1)"
   ]
  },
  {
   "cell_type": "code",
   "execution_count": null,
   "metadata": {},
   "outputs": [],
   "source": [
    "df_temp"
   ]
  },
  {
   "cell_type": "code",
   "execution_count": null,
   "metadata": {},
   "outputs": [],
   "source": []
  },
  {
   "cell_type": "markdown",
   "metadata": {},
   "source": [
    "### 3.1.5 Random Forrest Classifier"
   ]
  },
  {
   "cell_type": "code",
   "execution_count": 97,
   "metadata": {},
   "outputs": [
    {
     "data": {
      "text/plain": [
       "0.5540345661174247"
      ]
     },
     "execution_count": 97,
     "metadata": {},
     "output_type": "execute_result"
    }
   ],
   "source": [
    "rfc = RandomForestClassifier()\n",
    "rfc.fit(X_train, y_train)\n",
    "roc_auc_score(y_test, rfc.predict(X_test))"
   ]
  },
  {
   "cell_type": "markdown",
   "metadata": {},
   "source": [
    "## 3.2 Assess Model"
   ]
  },
  {
   "cell_type": "code",
   "execution_count": null,
   "metadata": {},
   "outputs": [],
   "source": [
    "cm = confusion_matrix(y_test, gs.predict(X_test))\n",
    "df_cm = pd.DataFrame(cm, columns=['Predicted 0', 'Pred 1'], index=['Actual 0', 'Actual 1'])\n",
    "df_cm"
   ]
  },
  {
   "cell_type": "code",
   "execution_count": null,
   "metadata": {},
   "outputs": [],
   "source": [
    "centroids[centroids['Target']<.001].T.shape\n",
    "#There 41 of the most common groups are straight "
   ]
  },
  {
   "cell_type": "code",
   "execution_count": null,
   "metadata": {},
   "outputs": [],
   "source": []
  },
  {
   "cell_type": "code",
   "execution_count": null,
   "metadata": {},
   "outputs": [],
   "source": [
    "sns.distplot(pd.DataFrame(knc.predict_proba(X_test)).iloc[:, 1])"
   ]
  },
  {
   "cell_type": "markdown",
   "metadata": {},
   "source": [
    "# <a class=\"anchor\" id=\"4.0-bullet\">4. Output</a>"
   ]
  },
  {
   "cell_type": "markdown",
   "metadata": {},
   "source": [
    "## 4.1 Transform test data"
   ]
  },
  {
   "cell_type": "code",
   "execution_count": 110,
   "metadata": {},
   "outputs": [],
   "source": [
    "df_test = data_test"
   ]
  },
  {
   "cell_type": "code",
   "execution_count": 111,
   "metadata": {},
   "outputs": [
    {
     "data": {
      "text/plain": [
       "(116293, 14)"
      ]
     },
     "execution_count": 111,
     "metadata": {},
     "output_type": "execute_result"
    }
   ],
   "source": [
    "df_test.shape"
   ]
  },
  {
   "cell_type": "markdown",
   "metadata": {},
   "source": [
    "### 4.1.3 Time Series"
   ]
  },
  {
   "cell_type": "code",
   "execution_count": 101,
   "metadata": {},
   "outputs": [],
   "source": [
    "#Transform index to time"
   ]
  },
  {
   "cell_type": "code",
   "execution_count": 102,
   "metadata": {},
   "outputs": [],
   "source": [
    "#Convert to Date Time from object\n",
    "df_test.loc[:, ['Date']]= pd.to_datetime(df_test['Date'])\n",
    "\n",
    "#Switch to DateTime Index\n",
    "df_test.index = df_test.Date\n",
    "\n",
    "#Create Days from start column for easy analysis\n",
    "\n",
    "df_test.loc[:, 'DaysFrom'] = df_test.index - pd.to_datetime(BeginDate)\n",
    "#extract date number from datetime entry. Should capture broad time dependence\n",
    "df_test.loc[:, 'DaysFrom'] = df_test['DaysFrom'].astype(str).str.replace(' days 00:00:00.000000000', '').astype(int)\n",
    "#Extract Month information\n",
    "df_test.loc[:, 'Month'] = df_test.index.month"
   ]
  },
  {
   "cell_type": "code",
   "execution_count": null,
   "metadata": {},
   "outputs": [],
   "source": [
    "#Get weekday dummies\n",
    "df_test_weekday = pd.get_dummies(df_test.index.weekday_name)"
   ]
  },
  {
   "cell_type": "code",
   "execution_count": null,
   "metadata": {},
   "outputs": [],
   "source": [
    "#Create seasonal baseline for add back"
   ]
  },
  {
   "cell_type": "code",
   "execution_count": 112,
   "metadata": {},
   "outputs": [],
   "source": [
    "#Add measurement back in \n",
    "df_test['YearDay'] = df_test.index.dayofyear"
   ]
  },
  {
   "cell_type": "code",
   "execution_count": 128,
   "metadata": {},
   "outputs": [],
   "source": [
    "temp = df_test.join(rolling_average_rate, on='YearDay', how='left')"
   ]
  },
  {
   "cell_type": "code",
   "execution_count": 133,
   "metadata": {},
   "outputs": [],
   "source": [
    "#come back to this - need to fill in blank for seasonal_baseline"
   ]
  },
  {
   "cell_type": "code",
   "execution_count": 135,
   "metadata": {},
   "outputs": [
    {
     "data": {
      "text/plain": [
       "Int64Index([148, 149, 153, 154, 156, 158, 161, 163, 165, 166, 168, 170, 172,\n",
       "            173, 175, 177, 178, 179, 180, 181, 183, 187, 189, 191, 192, 193,\n",
       "            194, 196, 198, 199, 200, 205, 206, 208, 210, 212, 213, 214, 215,\n",
       "            217, 219, 220, 221, 224, 225, 227, 228, 229, 231, 233, 234, 236,\n",
       "            237, 238, 239, 240, 241, 244, 245, 246, 247, 248, 249, 255, 257,\n",
       "            259, 260, 261, 262, 266, 267, 268, 269, 273, 274, 277, 282],\n",
       "           dtype='int64', name='Date')"
      ]
     },
     "execution_count": 135,
     "metadata": {},
     "output_type": "execute_result"
    }
   ],
   "source": [
    "rolling_average_rate.index"
   ]
  },
  {
   "cell_type": "markdown",
   "metadata": {},
   "source": [
    "### 4.1.3 Categorical"
   ]
  },
  {
   "cell_type": "code",
   "execution_count": null,
   "metadata": {},
   "outputs": [],
   "source": [
    "df_test_species"
   ]
  },
  {
   "cell_type": "markdown",
   "metadata": {},
   "source": [
    "### 4.1.3 Weather"
   ]
  },
  {
   "cell_type": "code",
   "execution_count": 105,
   "metadata": {
    "scrolled": false
   },
   "outputs": [],
   "source": [
    "#df_test = df_test.join(df_rolling, how='left')"
   ]
  },
  {
   "cell_type": "markdown",
   "metadata": {},
   "source": [
    "## 4.2 Predict"
   ]
  },
  {
   "cell_type": "markdown",
   "metadata": {},
   "source": [
    "## 4.3 Asses"
   ]
  },
  {
   "cell_type": "code",
   "execution_count": null,
   "metadata": {},
   "outputs": [],
   "source": []
  }
 ],
 "metadata": {
  "kernelspec": {
   "display_name": "Python 3",
   "language": "python",
   "name": "python3"
  },
  "language_info": {
   "codemirror_mode": {
    "name": "ipython",
    "version": 3
   },
   "file_extension": ".py",
   "mimetype": "text/x-python",
   "name": "python",
   "nbconvert_exporter": "python",
   "pygments_lexer": "ipython3",
   "version": "3.6.5"
  }
 },
 "nbformat": 4,
 "nbformat_minor": 2
}
